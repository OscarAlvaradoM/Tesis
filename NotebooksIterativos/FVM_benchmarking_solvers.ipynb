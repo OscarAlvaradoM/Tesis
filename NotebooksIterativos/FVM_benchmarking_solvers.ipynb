{
 "cells": [
  {
   "cell_type": "code",
   "execution_count": 1,
   "id": "31fe0ee2",
   "metadata": {},
   "outputs": [],
   "source": [
    "using Statistics, CSV, Tables"
   ]
  },
  {
   "cell_type": "code",
   "execution_count": 2,
   "id": "089ec78b",
   "metadata": {},
   "outputs": [
    {
     "name": "stderr",
     "output_type": "stream",
     "text": [
      "┌ Info: For saving to png with the Plotly backend PlotlyBase has to be installed.\n",
      "└ @ Plots /home/oscar/.julia/packages/Plots/9C6z9/src/backends.jl:432\n"
     ]
    },
    {
     "data": {
      "text/plain": [
       "Main.FVM"
      ]
     },
     "execution_count": 2,
     "metadata": {},
     "output_type": "execute_result"
    }
   ],
   "source": [
    "include(\"../notebooks/FVM.jl\")\n",
    "#include(\"FVM.jl\")"
   ]
  },
  {
   "cell_type": "code",
   "execution_count": 3,
   "id": "11041f39",
   "metadata": {},
   "outputs": [
    {
     "data": {
      "text/plain": [
       "Main.Solvers"
      ]
     },
     "execution_count": 3,
     "metadata": {},
     "output_type": "execute_result"
    }
   ],
   "source": [
    "include(\"Solvers.jl\")"
   ]
  },
  {
   "cell_type": "markdown",
   "id": "8c11ac84",
   "metadata": {},
   "source": [
    "## Función para construir la matriz a resolver"
   ]
  },
  {
   "cell_type": "code",
   "execution_count": 4,
   "id": "72a670a6",
   "metadata": {},
   "outputs": [
    {
     "data": {
      "text/plain": [
       "Γ_constant (generic function with 1 method)"
      ]
     },
     "execution_count": 4,
     "metadata": {},
     "output_type": "execute_result"
    }
   ],
   "source": [
    "function Γ_constant(x::Array, y::Array, z::Array)\n",
    "    Γ = 1000\n",
    "    tensor_Γ = ones(length(x), length(y), length(z))\n",
    "    tensor_Γ = Γ .* tensor_Γ\n",
    "end"
   ]
  },
  {
   "cell_type": "code",
   "execution_count": 5,
   "id": "f0fba693",
   "metadata": {},
   "outputs": [
    {
     "data": {
      "text/plain": [
       "getsystem (generic function with 1 method)"
      ]
     },
     "execution_count": 5,
     "metadata": {},
     "output_type": "execute_result"
    }
   ],
   "source": [
    "function getsystem(vol)\n",
    "    # Construcción de la malla.\n",
    "    volumes, lengths, centers, centers_and_boundaries, deltas, faces, deltas_faces = FVM.uniform_grid(vol, vol/10)\n",
    "    tags = FVM.init_tags(3, volumes, centers_and_boundaries)\n",
    "    tags_b = FVM.init_tags_boundaries(3, centers_and_boundaries)\n",
    "    FVM.tag_wall(tags, tags_b, [:W, :E, :T, :N, :B], 0, :D)\n",
    "    FVM.tag_wall(tags, tags_b, :S, 100, :D)\n",
    "    mesh = FVM.Mesh(volumes, lengths, centers, centers_and_boundaries, deltas, faces, deltas_faces, tags, tags_b)\n",
    "    # Generando los coeficientes\n",
    "    coeff = FVM.init_coefficients(mesh)\n",
    "    FVM.set_diffusion(coeff, Γ_constant);\n",
    "    # Construyendo el sistema de ecuaciones\n",
    "    equation_system = FVM.init_eq_system(coeff)\n",
    "    A = equation_system.A\n",
    "    b = equation_system.b\n",
    "    return A, b\n",
    "end"
   ]
  },
  {
   "cell_type": "markdown",
   "id": "6a973ea1",
   "metadata": {},
   "source": [
    "## Benchmarking"
   ]
  },
  {
   "cell_type": "code",
   "execution_count": 6,
   "id": "7302a315",
   "metadata": {},
   "outputs": [
    {
     "data": {
      "text/plain": [
       "iteratevolumes (generic function with 1 method)"
      ]
     },
     "execution_count": 6,
     "metadata": {},
     "output_type": "execute_result"
    }
   ],
   "source": [
    "function iteratevolumes(volumes::Array{Int, 1}, times::Int)\n",
    "    for volume ∈ volumes\n",
    "        A, b = getsystem(volume) \n",
    "        solvers = [Solvers.jacobi, Solvers.vectorizedjacobi, Solvers.paralleljacobi, Solvers.conjugategradient, \n",
    "            Solvers.parallelconjugategradient]\n",
    "        for solver ∈ solvers\n",
    "            println(\"Comencé el de $volume volúmenes con el solver $solver\")\n",
    "            list_of_time_statistics = list_of_statistics(solver, A, b, volume, times)\n",
    "            writetofile(solver, list_of_time_statistics')\n",
    "        end\n",
    "        println(\"Terminé el de $volume volúmenes\")\n",
    "    end\n",
    "end"
   ]
  },
  {
   "cell_type": "code",
   "execution_count": 7,
   "id": "b6c61318",
   "metadata": {},
   "outputs": [
    {
     "data": {
      "text/plain": [
       "list_of_statistics (generic function with 1 method)"
      ]
     },
     "execution_count": 7,
     "metadata": {},
     "output_type": "execute_result"
    }
   ],
   "source": [
    "function list_of_statistics(solver, A, b, volume::Int, times::Int)\n",
    "    time_list, μ, σ, iterations_list, μ_iterations, σ_iterations = getstatistics(solver, A, b, times)\n",
    "    time_statistics = [volume, volume^3, μ, σ, μ_iterations, σ_iterations]\n",
    "    push!(time_statistics, time_list...)\n",
    "    push!(time_statistics, iterations_list...)\n",
    "    return time_statistics\n",
    "end"
   ]
  },
  {
   "cell_type": "code",
   "execution_count": 8,
   "id": "9a61e341",
   "metadata": {},
   "outputs": [
    {
     "data": {
      "text/plain": [
       "getstatistics (generic function with 1 method)"
      ]
     },
     "execution_count": 8,
     "metadata": {},
     "output_type": "execute_result"
    }
   ],
   "source": [
    "function getstatistics(solver, A, b, times)\n",
    "    time_list = []\n",
    "    iterations_list = []\n",
    "    for _ ∈ 1:(times+1)\n",
    "        t, iterations = measuretime(solver, A, b)\n",
    "        push!(time_list, t)\n",
    "        push!(iterations_list, iterations)\n",
    "    end\n",
    "    times_without_compiling = time_list[2:end]\n",
    "    iterations_without_compiling = iterations_list[2:end]\n",
    "    μ = mean(times_without_compiling)\n",
    "    σ = std(times_without_compiling)\n",
    "    μ_iterations = mean(iterations_without_compiling)\n",
    "    σ_iterations = std(iterations_without_compiling)\n",
    "    \n",
    "    return time_list, μ, σ, iterations_without_compiling, μ_iterations, σ_iterations\n",
    "end"
   ]
  },
  {
   "cell_type": "code",
   "execution_count": 9,
   "id": "11dbd7d6",
   "metadata": {},
   "outputs": [
    {
     "data": {
      "text/plain": [
       "measuretime (generic function with 1 method)"
      ]
     },
     "execution_count": 9,
     "metadata": {},
     "output_type": "execute_result"
    }
   ],
   "source": [
    "function measuretime(solver, A, b)\n",
    "    start_time = time()\n",
    "    iterations = solver(A,b)\n",
    "    finish_time = time()\n",
    "    t = finish_time - start_time\n",
    "    return t, iterations\n",
    "end"
   ]
  },
  {
   "cell_type": "code",
   "execution_count": 10,
   "id": "394494a6",
   "metadata": {},
   "outputs": [
    {
     "data": {
      "text/plain": [
       "writetofile (generic function with 1 method)"
      ]
     },
     "execution_count": 10,
     "metadata": {},
     "output_type": "execute_result"
    }
   ],
   "source": [
    "function writetofile(solver, list)\n",
    "    file_name = string(solver)\n",
    "    #CSV.write(\"../../benchmarking/$(file_name).csv\", Tables.table(list), delim = ',',append=true)\n",
    "    CSV.write(\"benchmarking/$(file_name).csv\", Tables.table(list), delim = ',',append=true)\n",
    "end"
   ]
  },
  {
   "cell_type": "code",
   "execution_count": 11,
   "id": "6c2d6bf7",
   "metadata": {},
   "outputs": [
    {
     "name": "stdout",
     "output_type": "stream",
     "text": [
      "Comencé el de 10 volúmenes con el solver jacobi\n",
      "Comencé el de 10 volúmenes con el solver vectorizedjacobi\n",
      "Comencé el de 10 volúmenes con el solver paralleljacobi\n"
     ]
    },
    {
     "ename": "LoadError",
     "evalue": "UndefVarError: CuArray not defined",
     "output_type": "error",
     "traceback": [
      "UndefVarError: CuArray not defined",
      "",
      "Stacktrace:",
      " [1] paralleljacobi(A::SparseArrays.SparseMatrixCSC{Float64, Int64}, b::Vector{Float64}, ϵ::Float64)",
      "   @ Main.Solvers ~/Dropbox/Titulacion_Fisica/Tesis_Fisica/codigo/NotebooksIterativos/Solvers.jl:41",
      " [2] paralleljacobi",
      "   @ ~/Dropbox/Titulacion_Fisica/Tesis_Fisica/codigo/NotebooksIterativos/Solvers.jl:40 [inlined]",
      " [3] measuretime(solver::typeof(Main.Solvers.paralleljacobi), A::SparseArrays.SparseMatrixCSC{Float64, Int64}, b::Vector{Float64})",
      "   @ Main ./In[9]:3",
      " [4] getstatistics(solver::Function, A::SparseArrays.SparseMatrixCSC{Float64, Int64}, b::Vector{Float64}, times::Int64)",
      "   @ Main ./In[8]:5",
      " [5] list_of_statistics(solver::Function, A::SparseArrays.SparseMatrixCSC{Float64, Int64}, b::Vector{Float64}, volume::Int64, times::Int64)",
      "   @ Main ./In[7]:2",
      " [6] iteratevolumes(volumes::Vector{Int64}, times::Int64)",
      "   @ Main ./In[6]:8",
      " [7] top-level scope",
      "   @ In[11]:3",
      " [8] eval",
      "   @ ./boot.jl:360 [inlined]",
      " [9] include_string(mapexpr::typeof(REPL.softscope), mod::Module, code::String, filename::String)",
      "   @ Base ./loading.jl:1116"
     ]
    }
   ],
   "source": [
    "volumes = [10,20,30,40,50,60,80,100]\n",
    "times = 10\n",
    "iteratevolumes(volumes, times)"
   ]
  },
  {
   "cell_type": "markdown",
   "id": "70f46c5b",
   "metadata": {},
   "source": [
    "---"
   ]
  }
 ],
 "metadata": {
  "kernelspec": {
   "display_name": "Julia 1.6.5",
   "language": "julia",
   "name": "julia-1.6"
  },
  "language_info": {
   "file_extension": ".jl",
   "mimetype": "application/julia",
   "name": "julia",
   "version": "1.6.5"
  }
 },
 "nbformat": 4,
 "nbformat_minor": 5
}
