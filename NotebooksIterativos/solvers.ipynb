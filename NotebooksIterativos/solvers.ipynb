{
 "cells": [
  {
   "cell_type": "markdown",
   "metadata": {},
   "source": [
    "# Métodos iterativos creados a mano"
   ]
  },
  {
   "cell_type": "code",
   "execution_count": 1,
   "metadata": {},
   "outputs": [],
   "source": [
    "using LinearAlgebra, SparseArrays, BenchmarkTools\n",
    "#using CUDA, CUDA.CUSPARSE"
   ]
  },
  {
   "cell_type": "markdown",
   "metadata": {},
   "source": [
    "## Jacobi secuencial"
   ]
  },
  {
   "cell_type": "markdown",
   "metadata": {},
   "source": [
    "### Matricial"
   ]
  },
  {
   "cell_type": "code",
   "execution_count": 26,
   "metadata": {},
   "outputs": [
    {
     "data": {
      "text/plain": [
       "vectorizedjacobi (generic function with 4 methods)"
      ]
     },
     "execution_count": 26,
     "metadata": {},
     "output_type": "execute_result"
    }
   ],
   "source": [
    "function vectorizedjacobi(A::SparseMatrixCSC{Float64, Int64}, b::Vector{Float64}, ϵ = 1e-5)\n",
    "    # Según el libro, viene siendo así el método matricial: x⁽ᵏ⁾= D⁻¹(L+U)x⁽ᵏ⁻¹⁾+D⁻¹b\n",
    "    # Con D := La matriz diagonal A como matriz cuadrada,\n",
    "    # -L y -U las matrices estríctamente Inferior (Lower) y Superior (Upper) de A, respectivamente\n",
    "    # Definimos a N como la suma de estas dos últimas matrices.\n",
    "    D = Diagonal(A)\n",
    "    N = - triu(A,1) - tril(A,-1)\n",
    "    x = rand(length(b))\n",
    "    while norm(A*x - b) > ϵ\n",
    "        x = D\\(N*x + b)\n",
    "    end\n",
    "    return Vector(x)\n",
    "end"
   ]
  },
  {
   "cell_type": "markdown",
   "metadata": {},
   "source": [
    "### Paralelo"
   ]
  },
  {
   "cell_type": "code",
   "execution_count": 3,
   "metadata": {},
   "outputs": [
    {
     "data": {
      "text/plain": [
       "paralleljacobi (generic function with 2 methods)"
      ]
     },
     "execution_count": 3,
     "metadata": {},
     "output_type": "execute_result"
    }
   ],
   "source": [
    "function paralleljacobi(A::SparseMatrixCSC{Float64, Int64}, b::Vector{Float64}, ϵ = 1e-5)\n",
    "    D = diag(A);\n",
    "    D = CuArray{Float64}(D)\n",
    "    N = - triu(A,1) - tril(A,-1)\n",
    "    N = CuSparseMatrixCSR{Float64}(N)\n",
    "    \n",
    "    A = CuSparseMatrixCSR{Float64}(A)\n",
    "    b = CuArray{Float64}(b)\n",
    "    x = CUDA.rand{Float64}(length(b))\n",
    "    while norm(A*x - b) > ϵ\n",
    "        x = D\\(N*x + b)\n",
    "    end\n",
    "    return x\n",
    "end"
   ]
  },
  {
   "cell_type": "markdown",
   "metadata": {},
   "source": [
    "---"
   ]
  },
  {
   "cell_type": "markdown",
   "metadata": {},
   "source": [
    "## Gauss-Seidel"
   ]
  },
  {
   "cell_type": "markdown",
   "metadata": {},
   "source": [
    "### Matricial"
   ]
  },
  {
   "cell_type": "code",
   "execution_count": 4,
   "metadata": {},
   "outputs": [
    {
     "data": {
      "text/plain": [
       "vectorizedgaussseidel (generic function with 2 methods)"
      ]
     },
     "execution_count": 4,
     "metadata": {},
     "output_type": "execute_result"
    }
   ],
   "source": [
    "function vectorizedgaussseidel(A::SparseMatrixCSC{Float64, Int64}, b::Vector{Float64}, ϵ = 1e-5)\n",
    "    # Según el libro, viene siendo así el método matricial: x⁽ᵏ⁾= (D-L)⁻¹(Ux⁽ᵏ⁻¹⁾+b)\n",
    "    # Con D := La matriz diagonal A como matriz cuadrada,\n",
    "    # -L y -U las matrices estríctamente Inferior (Lower) y Superior (Upper) de A, respectivamente\n",
    "    U = - triu(A,1) \n",
    "    L₀ = tril(A,0)\n",
    "    x = rand(length(b))\n",
    "    while norm(A*x - b) > ϵ\n",
    "        x = L₀\\(U*x + b)\n",
    "    end\n",
    "    return x\n",
    "end"
   ]
  },
  {
   "cell_type": "markdown",
   "metadata": {},
   "source": [
    "### Paralelo"
   ]
  },
  {
   "cell_type": "code",
   "execution_count": 5,
   "metadata": {},
   "outputs": [
    {
     "data": {
      "text/plain": [
       "parallelgaussseidel (generic function with 2 methods)"
      ]
     },
     "execution_count": 5,
     "metadata": {},
     "output_type": "execute_result"
    }
   ],
   "source": [
    "function parallelgaussseidel(A::SparseMatrixCSC{Float64, Int64}, b::Vector{Float64}, ϵ = 1e-5)\n",
    "    # Según el libro, viene siendo así el método matricial: x⁽ᵏ⁾= (D-L)⁻¹(Ux⁽ᵏ⁻¹⁾+b)\n",
    "    # Con D := La matriz diagonal A como matriz cuadrada,\n",
    "    # -L y -U las matrices estríctamente Inferior (Lower) y Superior (Upper) de A, respectivamente\n",
    "    U = - triu(A,1) \n",
    "    L₀ = tril(A,0)\n",
    "    U = CuSparseMatrixCSR{Float64}(U)\n",
    "    L₀ = CuSparseMatrixCSR{Float64}(L₀)\n",
    "\n",
    "    A = CuSparseMatrixCSR{Float64}(A)\n",
    "    b = CuArray{Float64}(b)\n",
    "    x = CUDA.rand{Float64}(length(b))\n",
    "    while norm(A*x - b) > ϵ\n",
    "        x = L₀\\(U*x + b)\n",
    "    end\n",
    "    return x\n",
    "end"
   ]
  },
  {
   "cell_type": "markdown",
   "metadata": {},
   "source": [
    "---"
   ]
  },
  {
   "cell_type": "markdown",
   "metadata": {},
   "source": [
    "## SOR (Successive Overrelaxation)"
   ]
  },
  {
   "cell_type": "markdown",
   "metadata": {},
   "source": [
    "### Matricial"
   ]
  },
  {
   "cell_type": "code",
   "execution_count": 6,
   "metadata": {},
   "outputs": [
    {
     "data": {
      "text/plain": [
       "vectorizedsor (generic function with 3 methods)"
      ]
     },
     "execution_count": 6,
     "metadata": {},
     "output_type": "execute_result"
    }
   ],
   "source": [
    "function vectorizedsor(A::SparseMatrixCSC{Float64, Int64}, b::Vector{Float64}, ω = 1.8::Float64, ϵ = 1e-5)\n",
    "    # Según el libro, viene siendo así el método matricial: x⁽ᵏ⁾= (D-ωL)⁻¹(ωU+(1-ω)D)x⁽ᵏ⁻¹⁾+ω(D-ωL)⁻¹b\n",
    "    # Con D := La matriz diagonal A como matriz cuadrada,\n",
    "    # -L y -U las matrices estríctamente Inferior (Lower) y Superior (Upper) de A, respectivamente\n",
    "    # ω es justo un argumento de sobrerelajación, que sirve para hacer más rápido al método. Hay que escogerlo \n",
    "    # ente (0,1)\n",
    "    D = Diagonal(A)\n",
    "    U = - triu(A,1) \n",
    "    L = - tril(A,-1)\n",
    "    x = rand(length(b))\n",
    "    \n",
    "    L′ = D-ω*L\n",
    "    U′ = ω*U+(1.0-ω)*D\n",
    "    b′ = ω*b\n",
    "    while norm(A*x - b) > ϵ\n",
    "        x = L′ \\ (U′*x + b′)\n",
    "    end\n",
    "    return x\n",
    "end"
   ]
  },
  {
   "cell_type": "markdown",
   "metadata": {},
   "source": [
    "### Paralelo"
   ]
  },
  {
   "cell_type": "code",
   "execution_count": 7,
   "metadata": {},
   "outputs": [
    {
     "data": {
      "text/plain": [
       "parallelsor (generic function with 3 methods)"
      ]
     },
     "execution_count": 7,
     "metadata": {},
     "output_type": "execute_result"
    }
   ],
   "source": [
    "function parallelsor(A::SparseMatrixCSC{Float64, Int64}, b::Vector{Float64}, ω = 1.8::Float64, ϵ = 1e-5)\n",
    "    # Según el libro, viene siendo así el método matricial: x⁽ᵏ⁾= (D-L)⁻¹(Ux⁽ᵏ⁻¹⁾+b)\n",
    "    # Con D := La matriz diagonal A como matriz cuadrada,\n",
    "    # -L y -U las matrices estríctamente Inferior (Lower) y Superior (Upper) de A, respectivamente\n",
    "    D = Diagonal(A)\n",
    "    D = CuArray{Float64}(D)\n",
    "    U = - triu(A,1) \n",
    "    L = - tril(A,-1)\n",
    "    U = CuSparseMatrixCSR{Float64}(U)\n",
    "    L = CuSparseMatrixCSR{Float64}(L)\n",
    "\n",
    "    A = CuSparseMatrixCSR{Float64}(A)\n",
    "    b = CuArray{Float64}(b)\n",
    "    x = CUDA.rand{Float64}(length(b))\n",
    "    \n",
    "    L′ = D-ω*L\n",
    "    U′ = ω*U+(1.0-ω)*D\n",
    "    b′ = ω*b\n",
    "    while norm(A*x - b) > ϵ\n",
    "        x = L′ \\ (U′*x + b′)\n",
    "    end\n",
    "    return x\n",
    "end"
   ]
  },
  {
   "cell_type": "markdown",
   "metadata": {},
   "source": [
    "---"
   ]
  },
  {
   "cell_type": "markdown",
   "metadata": {},
   "source": [
    "## GMRES"
   ]
  },
  {
   "cell_type": "markdown",
   "metadata": {},
   "source": [
    "### Normalito"
   ]
  },
  {
   "cell_type": "code",
   "execution_count": 8,
   "metadata": {},
   "outputs": [
    {
     "data": {
      "text/plain": [
       "leastsquares (generic function with 1 method)"
      ]
     },
     "execution_count": 8,
     "metadata": {},
     "output_type": "execute_result"
    }
   ],
   "source": [
    "function leastsquares(H::Matrix{Float64}, r)\n",
    "    r′ = zeros(size(H)[1])\n",
    "    r′[1] = norm(r)\n",
    "    x = H \\ r′\n",
    "end"
   ]
  },
  {
   "cell_type": "code",
   "execution_count": 9,
   "metadata": {},
   "outputs": [
    {
     "data": {
      "text/plain": [
       "gmres (generic function with 2 methods)"
      ]
     },
     "execution_count": 9,
     "metadata": {},
     "output_type": "execute_result"
    }
   ],
   "source": [
    "# Algoritmo sacado directo del pseudocódigo\n",
    "function gmres(A::SparseMatrixCSC{Float64, Int64}, b::Vector{Float64}, ϵ = 1e-5)\n",
    "    x₀ = rand(length(b))\n",
    "    residual₀ = b - A*x₀\n",
    "    q = [residual₀ / norm(residual₀)]\n",
    "    \n",
    "    k = 1\n",
    "    x = x₀\n",
    "    H = zeros(2,1)\n",
    "    residual = residual₀\n",
    "    while norm(residual) > ϵ\n",
    "        y = A*q[k]\n",
    "        for j ∈ 1:k\n",
    "            H[j,k] = q[j]' * y\n",
    "            y -= H[j,k]*q[j]\n",
    "        end\n",
    "        H[k+1,k] = norm(y)\n",
    "        push!(q, y/H[k+1,k])\n",
    "        H = vcat(H, zeros(1, size(H)[2]))\n",
    "        H = hcat(H, zeros(size(H)[1], 1))\n",
    "        if k % 10 == 0\n",
    "            c = leastsquares(H, residual₀)\n",
    "            Q = hcat(q...)\n",
    "            x = Q*c + x₀\n",
    "            residual = A*x - b\n",
    "        end\n",
    "        k += 1\n",
    "    end\n",
    "    return x\n",
    "end"
   ]
  },
  {
   "cell_type": "markdown",
   "metadata": {},
   "source": [
    "### Normalito GPU"
   ]
  },
  {
   "cell_type": "code",
   "execution_count": 28,
   "metadata": {},
   "outputs": [
    {
     "data": {
      "text/plain": [
       "gmres (generic function with 2 methods)"
      ]
     },
     "execution_count": 28,
     "metadata": {},
     "output_type": "execute_result"
    }
   ],
   "source": [
    "# Algoritmo sacado directo del pseudocódigo\n",
    "function gmres(A::SparseMatrixCSC{Float64, Int64}, b::Vector{Float64}, ϵ = 1e-5)\n",
    "    b = CuArray{Float64}(b)\n",
    "    A = CuSparseMatrixCSR{Float64}(A)\n",
    "    x₀ = CUDA.rand{Float64}(length(b))\n",
    "    \n",
    "    residual₀ = b - A*x₀\n",
    "    q = [residual₀ / norm(residual₀)]\n",
    "    \n",
    "    k = 1\n",
    "    x = x₀\n",
    "    H = zeros(2,1)\n",
    "    residual = residual₀\n",
    "    while norm(residual) > ϵ\n",
    "        y = A*q[k]\n",
    "        for j ∈ 1:k\n",
    "            H[j,k] = q[j]' * y\n",
    "            y -= H[j,k]*q[j]\n",
    "        end\n",
    "        H[k+1,k] = norm(y)\n",
    "        push!(q, y/H[k+1,k])\n",
    "        H = vcat(H, zeros(1, size(H)[2]))\n",
    "        H = hcat(H, zeros(size(H)[1], 1))\n",
    "        if k % 10 == 0\n",
    "            c = leastsquares(H, residual₀)\n",
    "            Q = hcat(q...)\n",
    "            c = CuArray{Float64}(c)\n",
    "            Q = CuSparseMatrixCSR{Float64}(Q)\n",
    "            x = Q*c + x₀\n",
    "            residual = A*x - b\n",
    "        end\n",
    "        k += 1\n",
    "    end\n",
    "    return x\n",
    "end"
   ]
  },
  {
   "cell_type": "markdown",
   "metadata": {},
   "source": [
    "### Reiniciado"
   ]
  },
  {
   "cell_type": "code",
   "execution_count": 10,
   "metadata": {},
   "outputs": [
    {
     "data": {
      "text/plain": [
       "gmresreiniciado (generic function with 2 methods)"
      ]
     },
     "execution_count": 10,
     "metadata": {},
     "output_type": "execute_result"
    }
   ],
   "source": [
    "function reiniciarvariables(x::Vector, A::SparseMatrixCSC{Float64, Int64}, b::Vector{Float64})\n",
    "    k = 1\n",
    "    x₀ = x\n",
    "    r = b - A*x₀\n",
    "    H = zeros(2,1)\n",
    "    q = [r / norm(r)]\n",
    "    return x₀, r, q, k, H\n",
    "end\n",
    "    \n",
    "function gmresreiniciado(A::SparseMatrixCSC{Float64, Int64}, b::Vector{Float64}, ϵ = 1e-5)\n",
    "    x₀ = rand(length(b))\n",
    "    residual₀ = b - A*x₀\n",
    "    q = [residual₀ / norm(residual₀)]\n",
    "    \n",
    "    k = 1\n",
    "    x = x₀\n",
    "    H = zeros(2,1)\n",
    "    residual = residual₀\n",
    "    while norm(residual) > ϵ\n",
    "        y = A*q[k]\n",
    "        for j ∈ 1:k\n",
    "            H[j,k] = q[j]' * y\n",
    "            y -= H[j,k]*q[j]\n",
    "        end\n",
    "        H[k+1,k] = norm(y)\n",
    "        push!(q, y/H[k+1,k])\n",
    "        H = vcat(H, zeros(1, size(H)[2]))\n",
    "        H = hcat(H, zeros(size(H)[1], 1))\n",
    "        k += 1\n",
    "        #if k % 25 == 0 # cuando tenemos 30³ nuestra matriz ( Q = 5,400,000)\n",
    "        if k % 25 == 0 # cuando tenemos 40³ nuestra matriz ( Q = 10,240,000)\n",
    "            c = leastsquares(H, residual₀)\n",
    "            Q = hcat(q...)\n",
    "            x = Q*c + x₀\n",
    "            residual = A*x - b\n",
    "            x₀, residual₀, q, k, H = reiniciarvariables(x, A, b)\n",
    "        end\n",
    "    end\n",
    "    return x\n",
    "end"
   ]
  },
  {
   "cell_type": "markdown",
   "metadata": {},
   "source": [
    "### Reiniciado GPU"
   ]
  },
  {
   "cell_type": "code",
   "execution_count": 10,
   "metadata": {},
   "outputs": [
    {
     "data": {
      "text/plain": [
       "gmresreiniciado (generic function with 2 methods)"
      ]
     },
     "execution_count": 10,
     "metadata": {},
     "output_type": "execute_result"
    }
   ],
   "source": [
    "function reiniciarvariables(x, A, b)\n",
    "    k = 1\n",
    "    x₀ = x\n",
    "    r = b - A*x₀\n",
    "    H = zeros(2,1)\n",
    "    q = [r / norm(r)]\n",
    "    return x₀, r, q, k, H\n",
    "end\n",
    "    \n",
    "function gmresreiniciado(A::SparseMatrixCSC{Float64, Int64}, b::Vector{Float64}, ϵ = 1e-5)\n",
    "    b = CuArray{Float64}(b)\n",
    "    A = CuSparseMatrixCSR{Float64}(A)\n",
    "    x₀ = CUDA.rand{Float64}(length(b))\n",
    "    \n",
    "    residual₀ = b - A*x₀\n",
    "    q = [residual₀ / norm(residual₀)]\n",
    "    \n",
    "    k = 1\n",
    "    x = x₀\n",
    "    H = zeros(2,1)\n",
    "    residual = residual₀\n",
    "    while norm(residual) > ϵ\n",
    "        y = A*q[k]\n",
    "        for j ∈ 1:k\n",
    "            H[j,k] = q[j]' * y\n",
    "            y -= H[j,k]*q[j]\n",
    "        end\n",
    "        H[k+1,k] = norm(y)\n",
    "        push!(q, y/H[k+1,k])\n",
    "        H = vcat(H, zeros(1, size(H)[2]))\n",
    "        H = hcat(H, zeros(size(H)[1], 1))\n",
    "        k += 1\n",
    "        #if k % 25 == 0 # cuando tenemos 30³ nuestra matriz ( Q = 5,400,000)\n",
    "        if k % 25 == 0 # cuando tenemos 40³ nuestra matriz ( Q = 10,240,000)\n",
    "            c = leastsquares(H, residual₀)\n",
    "            Q = hcat(q...)\n",
    "            c = CuArray{Float64}(c)\n",
    "            Q = CuSparseMatrixCSR{Float64}(Q)\n",
    "            x = Q*c + x₀\n",
    "            residual = A*x - b\n",
    "            x₀, residual₀, q, k, H = reiniciarvariables(x, A, b)\n",
    "        end\n",
    "    end\n",
    "    return x\n",
    "end"
   ]
  },
  {
   "cell_type": "markdown",
   "metadata": {},
   "source": [
    "### Precondicionado"
   ]
  },
  {
   "cell_type": "code",
   "execution_count": 11,
   "metadata": {},
   "outputs": [
    {
     "data": {
      "text/plain": [
       "gmresprecondicionado (generic function with 2 methods)"
      ]
     },
     "execution_count": 11,
     "metadata": {},
     "output_type": "execute_result"
    }
   ],
   "source": [
    "function gmresprecondicionado(A::SparseMatrixCSC{Float64, Int64}, b::Vector{Float64}, Ms::Vector, ϵ = 1e-5)\n",
    "    x₀ = rand(length(b))\n",
    "    residual₀ = (b - A*x₀)\n",
    "    [residual₀ = M\\residual₀ for M ∈ Ms]\n",
    "    q = [residual₀ / norm(residual₀)]\n",
    "    \n",
    "    k = 1\n",
    "    x = x₀\n",
    "    H = zeros(2,1)\n",
    "    residual = residual₀\n",
    "    while norm(residual) > ϵ\n",
    "        ω = A*q[k]\n",
    "        [ω = M\\ω for M ∈ Ms]\n",
    "        for j ∈ 1:k\n",
    "            H[j,k] = q[j]' * ω\n",
    "            ω -= H[j,k]*q[j]\n",
    "        end\n",
    "        H[k+1,k] = norm(ω)\n",
    "        push!(q, ω/H[k+1,k])\n",
    "        H = vcat(H, zeros(1, size(H)[2]))\n",
    "        H = hcat(H, zeros(size(H)[1], 1))\n",
    "        if k % 10 == 0\n",
    "            c = leastsquares(H, residual₀)\n",
    "            Q = hcat(q...)\n",
    "            x = Q*c + x₀\n",
    "            residual = A*x - b\n",
    "            [residual = M\\residual for M ∈ Ms]\n",
    "        end\n",
    "        k += 1\n",
    "    end\n",
    "    return x\n",
    "end"
   ]
  },
  {
   "cell_type": "markdown",
   "metadata": {},
   "source": [
    "### Precondicionado GPU"
   ]
  },
  {
   "cell_type": "code",
   "execution_count": 11,
   "metadata": {},
   "outputs": [
    {
     "data": {
      "text/plain": [
       "gmresprecondicionado (generic function with 2 methods)"
      ]
     },
     "execution_count": 11,
     "metadata": {},
     "output_type": "execute_result"
    }
   ],
   "source": [
    "function gmresprecondicionado(A::SparseMatrixCSC{Float64, Int64}, b::Vector{Float64}, Ms::Vector, ϵ = 1e-5)\n",
    "    b = CuArray{Float64}(b)\n",
    "    A = CuSparseMatrixCSR{Float64}(A)\n",
    "    x₀ = CUDA.rand{Float64}(length(b))\n",
    "    \n",
    "    residual₀ = (b - A*x₀)\n",
    "    [residual₀ = M\\residual₀ for M ∈ Ms]\n",
    "    q = [residual₀ / norm(residual₀)]\n",
    "    \n",
    "    k = 1\n",
    "    x = x₀\n",
    "    H = zeros(2,1)\n",
    "    residual = residual₀\n",
    "    while norm(residual) > ϵ\n",
    "        ω = A*q[k]\n",
    "        [ω = M\\ω for M ∈ Ms]\n",
    "        for j ∈ 1:k\n",
    "            H[j,k] = q[j]' * ω\n",
    "            ω -= H[j,k]*q[j]\n",
    "        end\n",
    "        H[k+1,k] = norm(ω)\n",
    "        push!(q, ω/H[k+1,k])\n",
    "        H = vcat(H, zeros(1, size(H)[2]))\n",
    "        H = hcat(H, zeros(size(H)[1], 1))\n",
    "        if k % 10 == 0\n",
    "            c = leastsquares(H, residual₀)\n",
    "            Q = hcat(q...)\n",
    "            c = CuArray{Float64}(c)\n",
    "            Q = CuSparseMatrixCSR{Float64}(Q)\n",
    "            x = Q*c + x₀\n",
    "            residual = A*x - b\n",
    "            [residual = M\\residual for M ∈ Ms]\n",
    "        end\n",
    "        k += 1\n",
    "    end\n",
    "    return x\n",
    "end"
   ]
  },
  {
   "cell_type": "markdown",
   "metadata": {},
   "source": [
    "### Precondicionado y reiniciado"
   ]
  },
  {
   "cell_type": "code",
   "execution_count": 12,
   "metadata": {},
   "outputs": [
    {
     "data": {
      "text/plain": [
       "gmresprecondicionadoreiniciado (generic function with 2 methods)"
      ]
     },
     "execution_count": 12,
     "metadata": {},
     "output_type": "execute_result"
    }
   ],
   "source": [
    "function reiniciarvariablesprecondicionado(x::Vector, A::SparseMatrixCSC{Float64, Int64}, b::Vector{Float64}, \n",
    "        Ms::Vector)\n",
    "    k = 1\n",
    "    x₀ = x\n",
    "    H = zeros(2,1) \n",
    "    residual₀ = b - A*x₀\n",
    "    [residual₀ = M\\residual₀ for M ∈ Ms]\n",
    "    q = [residual₀ / norm(residual₀)]\n",
    "    return x₀, residual₀, q, k, H\n",
    "end\n",
    "\n",
    "# Algoritmo sacado directo del pseudocódigo\n",
    "function gmresprecondicionadoreiniciado(A::SparseMatrixCSC{Float64, Int64}, b::Vector{Float64}, Ms::Vector, \n",
    "        ϵ = 1e-5)\n",
    "    x₀ = rand(length(b))\n",
    "    residual₀ = b - A*x₀\n",
    "    [residual₀ = M\\residual₀ for M ∈ Ms]\n",
    "    q = [residual₀ / norm(residual₀)]\n",
    "    \n",
    "    k = 1\n",
    "    x = x₀\n",
    "    H = zeros(2,1)\n",
    "    residual = residual₀\n",
    "    while norm(residual) > ϵ\n",
    "        ω = A*q[k]\n",
    "        [ω = M\\ω for M ∈ Ms]\n",
    "        for j ∈ 1:k\n",
    "            H[j,k] = q[j]' * ω\n",
    "            ω -= H[j,k]*q[j]\n",
    "        end\n",
    "        H[k+1,k] = norm(ω)\n",
    "        push!(q, ω/H[k+1,k])\n",
    "        H = vcat(H, zeros(1, size(H)[2]))\n",
    "        H = hcat(H, zeros(size(H)[1], 1))\n",
    "        k += 1\n",
    "        # if k % 20 == 0 # Para 40³ sirvió chido el módulo 20 para el de Jacobi\n",
    "        # if k % 25 == 0 # Para 40³ sirvió chido el módulo 25 para el de Gauss-Seidel\n",
    "        if k % 30 == 0 # Para 40³ sirvió chido el módulo 30 para el de SOR\n",
    "            c = leastsquares(H, residual₀)\n",
    "            Q = hcat(q...)\n",
    "            c = CuArray{Float64}(c)\n",
    "            Q = CuSparseMatrixCSR{Float64}(Q)\n",
    "            x = Q*c + x₀\n",
    "            residual = A*x - b\n",
    "            [residual = M\\residual for M ∈ Ms]\n",
    "            x₀, residual₀, q, k, H = reiniciarvariablesprecondicionado(x, A, b, Ms)\n",
    "        end\n",
    "    end\n",
    "    return x\n",
    "end"
   ]
  },
  {
   "cell_type": "markdown",
   "metadata": {},
   "source": [
    "### Precondicionado y reiniciado GPU"
   ]
  },
  {
   "cell_type": "code",
   "execution_count": 12,
   "metadata": {},
   "outputs": [
    {
     "data": {
      "text/plain": [
       "gmresprecondicionadoreiniciado (generic function with 2 methods)"
      ]
     },
     "execution_count": 12,
     "metadata": {},
     "output_type": "execute_result"
    }
   ],
   "source": [
    "function reiniciarvariablesprecondicionado(x, A, b, Ms::Vector)\n",
    "    k = 1\n",
    "    x₀ = x\n",
    "    H = zeros(2,1)\n",
    "    \n",
    "    residual₀ = b - A*x₀\n",
    "    [residual₀ = M\\residual₀ for M ∈ Ms]\n",
    "    q = [residual₀ / norm(residual₀)]\n",
    "    return x₀, residual₀, q, k, H\n",
    "end\n",
    "\n",
    "# Algoritmo sacado directo del pseudocódigo\n",
    "function gmresprecondicionadoreiniciado(A::SparseMatrixCSC{Float64, Int64}, b::Vector{Float64}, Ms::Vector, \n",
    "        ϵ = 1e-5)\n",
    "    x₀ = rand(length(b))\n",
    "    residual₀ = b - A*x₀\n",
    "    [residual₀ = M\\residual₀ for M ∈ Ms]\n",
    "    q = [residual₀ / norm(residual₀)]\n",
    "    \n",
    "    k = 1\n",
    "    x = x₀\n",
    "    H = zeros(2,1)\n",
    "    residual = residual₀\n",
    "    while norm(residual) > ϵ\n",
    "        ω = A*q[k]\n",
    "        [ω = M\\ω for M ∈ Ms]\n",
    "        for j ∈ 1:k\n",
    "            H[j,k] = q[j]' * ω\n",
    "            ω -= H[j,k]*q[j]\n",
    "        end\n",
    "        H[k+1,k] = norm(ω)\n",
    "        push!(q, ω/H[k+1,k])\n",
    "        H = vcat(H, zeros(1, size(H)[2]))\n",
    "        H = hcat(H, zeros(size(H)[1], 1))\n",
    "        k += 1\n",
    "        # if k % 20 == 0 # Para 40³ sirvió chido el módulo 20 para el de Jacobi\n",
    "        # if k % 25 == 0 # Para 40³ sirvió chido el módulo 25 para el de Gauss-Seidel\n",
    "        if k % 30 == 0 # Para 40³ sirvió chido el módulo 30 para el de SOR\n",
    "            c = leastsquares(H, residual₀)\n",
    "            Q = hcat(q...)\n",
    "            x = Q*c + x₀\n",
    "            residual = A*x - b\n",
    "            [residual = M\\residual for M ∈ Ms]\n",
    "            x₀, residual₀, q, k, H = reiniciarvariablesprecondicionado(x, A, b, Ms)\n",
    "        end\n",
    "    end\n",
    "    return x\n",
    "end"
   ]
  },
  {
   "cell_type": "markdown",
   "metadata": {},
   "source": [
    "---"
   ]
  },
  {
   "cell_type": "code",
   "execution_count": 13,
   "metadata": {},
   "outputs": [
    {
     "name": "stderr",
     "output_type": "stream",
     "text": [
      "┌ Info: For saving to png with the Plotly backend PlotlyBase has to be installed.\n",
      "└ @ Plots /home/oscar/.julia/packages/Plots/9C6z9/src/backends.jl:432\n"
     ]
    },
    {
     "data": {
      "text/plain": [
       "getsystem (generic function with 1 method)"
      ]
     },
     "execution_count": 13,
     "metadata": {},
     "output_type": "execute_result"
    }
   ],
   "source": [
    "include(\"../notebooks/FVM.jl\")\n",
    "include(\"Solvers.jl\")\n",
    "\n",
    "function Γ_constant(x::Array, y::Array, z::Array)\n",
    "    Γ = 1000\n",
    "    tensor_Γ = ones(length(x), length(y), length(z))\n",
    "    tensor_Γ = Γ .* tensor_Γ\n",
    "end\n",
    "\n",
    "function getsystem(vol)\n",
    "    # Construcción de la malla.\n",
    "    volumes, lengths, centers, centers_and_boundaries, deltas, faces, deltas_faces = FVM.uniform_grid(vol, vol/10)\n",
    "    tags = FVM.init_tags(3, volumes, centers_and_boundaries)\n",
    "    tags_b = FVM.init_tags_boundaries(3, centers_and_boundaries)\n",
    "    FVM.tag_wall(tags, tags_b, [:W, :E, :T, :N, :B], 0, :D)\n",
    "    FVM.tag_wall(tags, tags_b, :S, 100, :D)\n",
    "    mesh = FVM.Mesh(volumes, lengths, centers, centers_and_boundaries, deltas, faces, deltas_faces, tags, tags_b)\n",
    "    # Generando los coeficientes\n",
    "    coeff = FVM.init_coefficients(mesh)\n",
    "    FVM.set_diffusion(coeff, Γ_constant);\n",
    "    # Construyendo el sistema de ecuaciones\n",
    "    equation_system = FVM.init_eq_system(coeff)\n",
    "    A = equation_system.A\n",
    "    b = equation_system.b\n",
    "    return A, b\n",
    "end"
   ]
  },
  {
   "cell_type": "markdown",
   "metadata": {},
   "source": [
    "## Pruebas"
   ]
  },
  {
   "cell_type": "code",
   "execution_count": 14,
   "metadata": {},
   "outputs": [],
   "source": [
    "A, b = getsystem(40);"
   ]
  },
  {
   "cell_type": "code",
   "execution_count": 27,
   "metadata": {},
   "outputs": [
    {
     "name": "stdout",
     "output_type": "stream",
     "text": [
      "  14.309 s (238416 allocations: 38.42 GiB)\n"
     ]
    },
    {
     "data": {
      "text/plain": [
       "64000-element Vector{Float64}:\n",
       "  0.36769248623120987\n",
       "  0.06957996274120772\n",
       "  0.018272872168189357\n",
       "  0.006866879523603204\n",
       "  0.0038847756193864306\n",
       "  0.0030442924986847208\n",
       "  0.0028670225918238203\n",
       "  0.0029302434558816557\n",
       "  0.0030879062809870796\n",
       "  0.0032808614415265167\n",
       "  0.0034819112748014015\n",
       "  0.003677177586188068\n",
       "  0.0038589193855359436\n",
       "  ⋮\n",
       " 41.70576307696519\n",
       " 41.70023977758334\n",
       " 41.69277691167693\n",
       " 41.682473336442044\n",
       " 41.667822430784064\n",
       " 41.646152396990196\n",
       " 41.61234019351861\n",
       " 41.55542959128582\n",
       " 41.44796771686943\n",
       " 41.20428400202758\n",
       " 40.479401828249316\n",
       " 32.238737880318325"
      ]
     },
     "execution_count": 27,
     "metadata": {},
     "output_type": "execute_result"
    }
   ],
   "source": [
    "@btime x = vectorizedjacobi(A, b)"
   ]
  },
  {
   "cell_type": "code",
   "execution_count": 16,
   "metadata": {},
   "outputs": [
    {
     "name": "stdout",
     "output_type": "stream",
     "text": [
      "  6.881 s (32344 allocations: 7.72 GiB)\n"
     ]
    },
    {
     "data": {
      "text/plain": [
       "64000-element Vector{Float64}:\n",
       "  0.3676924862307518\n",
       "  0.06957996273990295\n",
       "  0.018272872166154266\n",
       "  0.00686687952088029\n",
       "  0.003884775616022536\n",
       "  0.0030442924947276014\n",
       "  0.002867022587326135\n",
       "  0.002930243450895332\n",
       "  0.003087906275568915\n",
       "  0.0032808614357308333\n",
       "  0.0034819112686872164\n",
       "  0.0036771775798102534\n",
       "  0.0038589193789538025\n",
       "  ⋮\n",
       " 41.70576307697095\n",
       " 41.700239777588834\n",
       " 41.69277691168212\n",
       " 41.682473336446876\n",
       " 41.6678224307885\n",
       " 41.646152396994175\n",
       " 41.61234019352211\n",
       " 41.555429591288785\n",
       " 41.44796771687181\n",
       " 41.204284002029354\n",
       " 40.47940182825045\n",
       " 32.23873788031872"
      ]
     },
     "execution_count": 16,
     "metadata": {},
     "output_type": "execute_result"
    }
   ],
   "source": [
    "@btime x = vectorizedgaussseidel(A, b)"
   ]
  },
  {
   "cell_type": "code",
   "execution_count": 17,
   "metadata": {},
   "outputs": [
    {
     "name": "stdout",
     "output_type": "stream",
     "text": [
      "  793.392 ms (3604 allocations: 891.01 MiB)\n"
     ]
    },
    {
     "data": {
      "text/plain": [
       "64000-element Vector{Float64}:\n",
       "  0.3676924862210351\n",
       "  0.06957996272060243\n",
       "  0.01827287213913775\n",
       "  0.0068668794842219275\n",
       "  0.003884775572470832\n",
       "  0.003044292441846941\n",
       "  0.0028670225361121927\n",
       "  0.0029302433816329756\n",
       "  0.0030879062223006597\n",
       "  0.003280861355604598\n",
       "  0.0034819112111689754\n",
       "  0.003677177500762443\n",
       "  0.0038589193109474307\n",
       "  ⋮\n",
       " 41.70576307699985\n",
       " 41.70023977761602\n",
       " 41.69277691170741\n",
       " 41.68247333647011\n",
       " 41.66782243080949\n",
       " 41.646152397012784\n",
       " 41.61234019353821\n",
       " 41.55542959130226\n",
       " 41.447967716882566\n",
       " 41.204284002037355\n",
       " 40.47940182825545\n",
       " 32.23873788032091"
      ]
     },
     "execution_count": 17,
     "metadata": {},
     "output_type": "execute_result"
    }
   ],
   "source": [
    "α = 1.79\n",
    "@btime x = vectorizedsor(A, b, α)"
   ]
  },
  {
   "cell_type": "code",
   "execution_count": 18,
   "metadata": {},
   "outputs": [
    {
     "name": "stdout",
     "output_type": "stream",
     "text": [
      "  5.625 s (116190 allocations: 24.73 GiB)\n"
     ]
    },
    {
     "data": {
      "text/plain": [
       "64000-element Vector{Float64}:\n",
       "  0.367692486247971\n",
       "  0.06957996275296596\n",
       "  0.018272872186998412\n",
       "  0.006866879537238857\n",
       "  0.0038847756341026107\n",
       "  0.0030442925186684733\n",
       "  0.002867022618155801\n",
       "  0.002930243482789474\n",
       "  0.0030879063215644154\n",
       "  0.0032808614656822666\n",
       "  0.0034819113075943153\n",
       "  0.003677177636582929\n",
       "  0.003858919420762663\n",
       "  ⋮\n",
       " 41.70576307701417\n",
       " 41.70023977762857\n",
       " 41.69277691171398\n",
       " 41.682473336482076\n",
       " 41.667822430811434\n",
       " 41.64615239701158\n",
       " 41.612340193530486\n",
       " 41.55542959130928\n",
       " 41.44796771688486\n",
       " 41.20428400204046\n",
       " 40.47940182824584\n",
       " 32.23873788031762"
      ]
     },
     "execution_count": 18,
     "metadata": {},
     "output_type": "execute_result"
    }
   ],
   "source": [
    "@btime x = gmres(A, b)"
   ]
  },
  {
   "cell_type": "code",
   "execution_count": 19,
   "metadata": {},
   "outputs": [
    {
     "name": "stdout",
     "output_type": "stream",
     "text": [
      "  1.796 s (52372 allocations: 6.49 GiB)\n"
     ]
    },
    {
     "data": {
      "text/plain": [
       "64000-element Vector{Float64}:\n",
       "  0.3676924862969842\n",
       "  0.06957996271109973\n",
       "  0.01827287216841044\n",
       "  0.006866879547972044\n",
       "  0.0038847755970128697\n",
       "  0.0030442925125057797\n",
       "  0.0028670226216769355\n",
       "  0.00293024342738091\n",
       "  0.003087906298840966\n",
       "  0.003280861482179636\n",
       "  0.0034819112568251335\n",
       "  0.0036771775925675478\n",
       "  0.003858919423051637\n",
       "  ⋮\n",
       " 41.70576307697801\n",
       " 41.700239777633406\n",
       " 41.69277691173014\n",
       " 41.68247333647123\n",
       " 41.667822430820486\n",
       " 41.64615239701454\n",
       " 41.612340193529896\n",
       " 41.5554295913319\n",
       " 41.44796771690404\n",
       " 41.204284001996015\n",
       " 40.479401828244036\n",
       " 32.23873788031301"
      ]
     },
     "execution_count": 19,
     "metadata": {},
     "output_type": "execute_result"
    }
   ],
   "source": [
    "@btime x = gmresreiniciado(A, b)"
   ]
  },
  {
   "cell_type": "code",
   "execution_count": 20,
   "metadata": {},
   "outputs": [
    {
     "name": "stdout",
     "output_type": "stream",
     "text": [
      "  5.214 s (184432 allocations: 34.15 GiB)\n"
     ]
    },
    {
     "data": {
      "text/plain": [
       "64000-element Vector{Float64}:\n",
       "  0.3676924870178751\n",
       "  0.06957996446599679\n",
       "  0.018272872404660023\n",
       "  0.00686687823437615\n",
       "  0.003884777520572029\n",
       "  0.003044296552566106\n",
       "  0.002867027182916815\n",
       "  0.002930245888317473\n",
       "  0.003087905819055381\n",
       "  0.0032808624244288487\n",
       "  0.0034819118032168306\n",
       "  0.003677178341768686\n",
       "  0.0038589205737453725\n",
       "  ⋮\n",
       " 41.705763078705004\n",
       " 41.70023977938506\n",
       " 41.692776912038646\n",
       " 41.682473334394466\n",
       " 41.66782242455828\n",
       " 41.646152392252795\n",
       " 41.61234018991697\n",
       " 41.555429589562166\n",
       " 41.44796771595145\n",
       " 41.204284000669716\n",
       " 40.479401828286\n",
       " 32.238737880583116"
      ]
     },
     "execution_count": 20,
     "metadata": {},
     "output_type": "execute_result"
    }
   ],
   "source": [
    "M_jacobi = Diagonal(A)\n",
    "@btime x = gmresprecondicionado(A, b, [M_jacobi])"
   ]
  },
  {
   "cell_type": "code",
   "execution_count": 21,
   "metadata": {},
   "outputs": [
    {
     "name": "stdout",
     "output_type": "stream",
     "text": [
      "  534.084 ms (15865 allocations: 1.99 GiB)\n"
     ]
    },
    {
     "data": {
      "text/plain": [
       "64000-element Vector{Float64}:\n",
       "  0.36769249008085303\n",
       "  0.06957996490213036\n",
       "  0.018272873009834767\n",
       "  0.006866878732332351\n",
       "  0.003884776252704447\n",
       "  0.0030442941320021344\n",
       "  0.0028670240605898067\n",
       "  0.0029302450339094843\n",
       "  0.003087906733675816\n",
       "  0.0032808638696719683\n",
       "  0.003481912894808148\n",
       "  0.003677177802776155\n",
       "  0.0038589203676602235\n",
       "  ⋮\n",
       " 41.70576307731965\n",
       " 41.70023977793387\n",
       " 41.692776912412505\n",
       " 41.68247333722133\n",
       " 41.66782243179651\n",
       " 41.646152398675376\n",
       " 41.61234019484105\n",
       " 41.55542959255295\n",
       " 41.44796771731419\n",
       " 41.204284006329935\n",
       " 40.4794018393343\n",
       " 32.23873787713783"
      ]
     },
     "execution_count": 21,
     "metadata": {},
     "output_type": "execute_result"
    }
   ],
   "source": [
    "D = Diagonal(A)\n",
    "U = triu(A,1) \n",
    "L = tril(A,-1)\n",
    "M_gauss_seidel_1 = I+(L*inv(D))\n",
    "M_gauss_seidel_2 = D+U\n",
    "@btime x = gmresprecondicionado(A, b, [M_gauss_seidel_1, M_gauss_seidel_2])"
   ]
  },
  {
   "cell_type": "code",
   "execution_count": 22,
   "metadata": {},
   "outputs": [
    {
     "name": "stdout",
     "output_type": "stream",
     "text": [
      "  186.342 ms (4503 allocations: 555.78 MiB)\n"
     ]
    },
    {
     "data": {
      "text/plain": [
       "64000-element Vector{Float64}:\n",
       "  0.36769248499257146\n",
       "  0.06957996226615798\n",
       "  0.018272872679857777\n",
       "  0.006866880065343736\n",
       "  0.0038847759308600627\n",
       "  0.003044292429662643\n",
       "  0.002867022358723492\n",
       "  0.0029302433533027195\n",
       "  0.003087906264074493\n",
       "  0.0032808613244246776\n",
       "  0.003481910914399311\n",
       "  0.0036771769077597882\n",
       "  0.0038589185284556016\n",
       "  ⋮\n",
       " 41.70576307839104\n",
       " 41.70023977880769\n",
       " 41.69277691294756\n",
       " 41.68247333789433\n",
       " 41.66782243261602\n",
       " 41.64615239963187\n",
       " 41.61234019727254\n",
       " 41.55542959581135\n",
       " 41.44796771908348\n",
       " 41.204283995321184\n",
       " 40.47940180062696\n",
       " 32.23873791738716"
      ]
     },
     "execution_count": 22,
     "metadata": {},
     "output_type": "execute_result"
    }
   ],
   "source": [
    "α = 1.8\n",
    "D = Diagonal(A)\n",
    "U = triu(A,1) \n",
    "L = tril(A,-1)\n",
    "M_sor_1 = I+(α*L*inv(D))\n",
    "M_sor_2 = D+α*U\n",
    "@btime x = gmresprecondicionado(A, b, [M_sor_1, M_sor_2])"
   ]
  },
  {
   "cell_type": "code",
   "execution_count": 23,
   "metadata": {},
   "outputs": [
    {
     "name": "stdout",
     "output_type": "stream",
     "text": [
      "  2.096 s (69896 allocations: 12.41 GiB)\n"
     ]
    },
    {
     "data": {
      "text/plain": [
       "64000-element Vector{Float64}:\n",
       "  0.3676924945785465\n",
       "  0.06957996323921063\n",
       "  0.018272867306111926\n",
       "  0.006866864486577004\n",
       "  0.0038847691202381087\n",
       "  0.0030442959290037787\n",
       "  0.002867013281052611\n",
       "  0.0029302246205793006\n",
       "  0.00308789764604213\n",
       "  0.0032808632534090014\n",
       "  0.0034819017617338825\n",
       "  0.003677147778125971\n",
       "  0.00385890350254804\n",
       "  ⋮\n",
       " 41.70576305436971\n",
       " 41.70023975486283\n",
       " 41.69277688861182\n",
       " 41.68247331318429\n",
       " 41.667822413846636\n",
       " 41.64615238439366\n",
       " 41.61234017792923\n",
       " 41.5554295753687\n",
       " 41.44796770529264\n",
       " 41.20428399153333\n",
       " 40.47940182048338\n",
       " 32.23873787815478"
      ]
     },
     "execution_count": 23,
     "metadata": {},
     "output_type": "execute_result"
    }
   ],
   "source": [
    "M_jacobi = Diagonal(A)\n",
    "@btime x = gmresprecondicionadoreiniciado(A, b, [M_jacobi])"
   ]
  },
  {
   "cell_type": "code",
   "execution_count": 24,
   "metadata": {},
   "outputs": [
    {
     "name": "stdout",
     "output_type": "stream",
     "text": [
      "  511.447 ms (11926 allocations: 1.47 GiB)\n"
     ]
    },
    {
     "data": {
      "text/plain": [
       "64000-element Vector{Float64}:\n",
       "  0.3676924862317251\n",
       "  0.06957996274473019\n",
       "  0.01827287217815651\n",
       "  0.006866879493802307\n",
       "  0.0038847756112387073\n",
       "  0.0030442924833424564\n",
       "  0.0028670226042484728\n",
       "  0.0029302434612393704\n",
       "  0.003087906265369332\n",
       "  0.003280861415444362\n",
       "  0.003481911289025844\n",
       "  0.0036771776179324277\n",
       "  0.0038589194220483088\n",
       "  ⋮\n",
       " 41.705763076997215\n",
       " 41.70023977761151\n",
       " 41.69277691171003\n",
       " 41.682473336460994\n",
       " 41.6678224308075\n",
       " 41.64615239701798\n",
       " 41.61234019351828\n",
       " 41.555429591299905\n",
       " 41.447967716998726\n",
       " 41.20428400187987\n",
       " 40.479401828207216\n",
       " 32.23873788035492"
      ]
     },
     "execution_count": 24,
     "metadata": {},
     "output_type": "execute_result"
    }
   ],
   "source": [
    "D = Diagonal(A)\n",
    "U = triu(A,1) \n",
    "L = tril(A,-1)\n",
    "M_gauss_seidel_1 = I+(L*inv(D))\n",
    "M_gauss_seidel_2 = D+U\n",
    "@btime x = gmresprecondicionadoreiniciado(A, b, [M_gauss_seidel_1, M_gauss_seidel_2])"
   ]
  },
  {
   "cell_type": "code",
   "execution_count": 25,
   "metadata": {},
   "outputs": [
    {
     "name": "stdout",
     "output_type": "stream",
     "text": [
      "  171.358 ms (3992 allocations: 504.79 MiB)\n"
     ]
    },
    {
     "data": {
      "text/plain": [
       "64000-element Vector{Float64}:\n",
       "  0.3676924833863077\n",
       "  0.06957996352325113\n",
       "  0.018272874388519423\n",
       "  0.006866880053989055\n",
       "  0.003884774757820897\n",
       "  0.0030442914993165093\n",
       "  0.002867021604690434\n",
       "  0.0029302425546432476\n",
       "  0.003087905171865267\n",
       "  0.0032808598857609894\n",
       "  0.0034819091713231554\n",
       "  0.0036771756029913005\n",
       "  0.003858917876842227\n",
       "  ⋮\n",
       " 41.70576307294571\n",
       " 41.70023977345858\n",
       " 41.69277690724699\n",
       " 41.6824733317479\n",
       " 41.66782242603446\n",
       " 41.646152393342334\n",
       " 41.612340192959664\n",
       " 41.55542959664685\n",
       " 41.44796772555993\n",
       " 41.20428399454414\n",
       " 40.47940175598575\n",
       " 32.238737909549954"
      ]
     },
     "execution_count": 25,
     "metadata": {},
     "output_type": "execute_result"
    }
   ],
   "source": [
    "α = 1.8\n",
    "D = Diagonal(A)\n",
    "U = triu(A,1) \n",
    "L = tril(A,-1)\n",
    "M_sor_1 = I+(α*L*inv(D))\n",
    "M_sor_2 = D+α*U\n",
    "@btime x = gmresprecondicionadoreiniciado(A, b, [M_sor_1, M_sor_2])"
   ]
  },
  {
   "cell_type": "markdown",
   "metadata": {},
   "source": [
    "---"
   ]
  }
 ],
 "metadata": {
  "kernelspec": {
   "display_name": "Julia 1.6.5",
   "language": "julia",
   "name": "julia-1.6"
  },
  "language_info": {
   "file_extension": ".jl",
   "mimetype": "application/julia",
   "name": "julia",
   "version": "1.6.5"
  }
 },
 "nbformat": 4,
 "nbformat_minor": 5
}
