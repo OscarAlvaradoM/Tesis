{
 "cells": [
  {
   "cell_type": "markdown",
   "id": "77f3260d",
   "metadata": {},
   "source": [
    "# Métodos iterativos creados a mano"
   ]
  },
  {
   "cell_type": "code",
   "execution_count": 1,
   "id": "4e55bf81",
   "metadata": {},
   "outputs": [],
   "source": [
    "using LinearAlgebra, SparseArrays, BenchmarkTools\n",
    "#using CUDA, CUDA.CUSPARSE"
   ]
  },
  {
   "cell_type": "markdown",
   "id": "bf7e9cca",
   "metadata": {},
   "source": [
    "## Jacobi secuencial"
   ]
  },
  {
   "cell_type": "markdown",
   "id": "a598f1e0",
   "metadata": {},
   "source": [
    "### Matricial"
   ]
  },
  {
   "cell_type": "code",
   "execution_count": 2,
   "id": "9b63c11e",
   "metadata": {},
   "outputs": [
    {
     "data": {
      "text/plain": [
       "vectorizedjacobi (generic function with 2 methods)"
      ]
     },
     "execution_count": 2,
     "metadata": {},
     "output_type": "execute_result"
    }
   ],
   "source": [
    "function vectorizedjacobi(A::SparseMatrixCSC{Float64, Int64}, b::Vector{Float64}, ϵ = 1e-5)\n",
    "    # Según el libro, viene siendo así el método matricial: x⁽ᵏ⁾= D⁻¹(L+U)x⁽ᵏ⁻¹⁾+D⁻¹b\n",
    "    # Con D := La matriz diagonal A como matriz cuadrada,\n",
    "    # -L y -U las matrices estríctamente Inferior (Lower) y Superior (Upper) de A, respectivamente\n",
    "    # Definimos a N como la suma de estas dos últimas matrices.\n",
    "    D = Diagonal(A)\n",
    "    N = - triu(A,1) - tril(A,-1)\n",
    "    x = rand(length(b))\n",
    "    while norm(A*x - b) > ϵ\n",
    "        x = D\\(N*x + b)\n",
    "    end\n",
    "    return Vector(x)\n",
    "end"
   ]
  },
  {
   "cell_type": "markdown",
   "id": "fe531fef",
   "metadata": {},
   "source": [
    "### Paralelo"
   ]
  },
  {
   "cell_type": "code",
   "execution_count": 3,
   "id": "16beb7b3",
   "metadata": {},
   "outputs": [
    {
     "data": {
      "text/plain": [
       "paralleljacobi (generic function with 2 methods)"
      ]
     },
     "execution_count": 3,
     "metadata": {},
     "output_type": "execute_result"
    }
   ],
   "source": [
    "function paralleljacobi(A::SparseMatrixCSC{Float64, Int64}, b::Vector{Float64}, ϵ = 1e-5)\n",
    "    D = diag(A);\n",
    "    D = CuArray{Float64}(D)\n",
    "    N = - triu(A,1) - tril(A,-1)\n",
    "    N = CuSparseMatrixCSR{Float64}(N)\n",
    "    \n",
    "    A = CuSparseMatrixCSR{Float64}(A)\n",
    "    b = CuArray{Float64}(b)\n",
    "    x = CUDA.rand{Float64}(length(b))\n",
    "    while norm(A*x - b) > ϵ\n",
    "        x = D\\(N*x + b)\n",
    "    end\n",
    "    return x\n",
    "end"
   ]
  },
  {
   "cell_type": "markdown",
   "id": "9574610b",
   "metadata": {},
   "source": [
    "---"
   ]
  },
  {
   "cell_type": "markdown",
   "id": "377b44af",
   "metadata": {},
   "source": [
    "## Gauss-Seidel"
   ]
  },
  {
   "cell_type": "markdown",
   "id": "64212d78",
   "metadata": {},
   "source": [
    "### Matricial"
   ]
  },
  {
   "cell_type": "code",
   "execution_count": 4,
   "id": "f4839b2b",
   "metadata": {},
   "outputs": [
    {
     "data": {
      "text/plain": [
       "vectorizedgaussseidel (generic function with 2 methods)"
      ]
     },
     "execution_count": 4,
     "metadata": {},
     "output_type": "execute_result"
    }
   ],
   "source": [
    "function vectorizedgaussseidel(A::SparseMatrixCSC{Float64, Int64}, b::Vector{Float64}, ϵ = 1e-5)\n",
    "    # Según el libro, viene siendo así el método matricial: x⁽ᵏ⁾= (D-L)⁻¹(Ux⁽ᵏ⁻¹⁾+b)\n",
    "    # Con D := La matriz diagonal A como matriz cuadrada,\n",
    "    # -L y -U las matrices estríctamente Inferior (Lower) y Superior (Upper) de A, respectivamente\n",
    "    U = - triu(A,1) \n",
    "    L₀ = tril(A,0)\n",
    "    x = rand(length(b))\n",
    "    while norm(A*x - b) > ϵ\n",
    "        x = L₀\\(U*x + b)\n",
    "    end\n",
    "    return x\n",
    "end"
   ]
  },
  {
   "cell_type": "markdown",
   "id": "c0801b26",
   "metadata": {},
   "source": [
    "### Paralelo"
   ]
  },
  {
   "cell_type": "code",
   "execution_count": 5,
   "id": "b16156b9",
   "metadata": {},
   "outputs": [
    {
     "data": {
      "text/plain": [
       "parallelgaussseidel (generic function with 2 methods)"
      ]
     },
     "execution_count": 5,
     "metadata": {},
     "output_type": "execute_result"
    }
   ],
   "source": [
    "function parallelgaussseidel(A::SparseMatrixCSC{Float64, Int64}, b::Vector{Float64}, ϵ = 1e-5)\n",
    "    # Según el libro, viene siendo así el método matricial: x⁽ᵏ⁾= (D-L)⁻¹(Ux⁽ᵏ⁻¹⁾+b)\n",
    "    # Con D := La matriz diagonal A como matriz cuadrada,\n",
    "    # -L y -U las matrices estríctamente Inferior (Lower) y Superior (Upper) de A, respectivamente\n",
    "    U = - triu(A,1) \n",
    "    L₀ = tril(A,0)\n",
    "    U = CuSparseMatrixCSR{Float64}(U)\n",
    "    L₀ = CuSparseMatrixCSR{Float64}(L₀)\n",
    "\n",
    "    A = CuSparseMatrixCSR{Float64}(A)\n",
    "    b = CuArray{Float64}(b)\n",
    "    x = CUDA.rand{Float64}(length(b))\n",
    "    while norm(A*x - b) > ϵ\n",
    "        x = L₀\\(U*x + b)\n",
    "    end\n",
    "    return x\n",
    "end"
   ]
  },
  {
   "cell_type": "markdown",
   "id": "b240124a",
   "metadata": {},
   "source": [
    "---"
   ]
  },
  {
   "cell_type": "markdown",
   "id": "218b20b5",
   "metadata": {},
   "source": [
    "## SOR (Successive Overrelaxation)"
   ]
  },
  {
   "cell_type": "markdown",
   "id": "9662bb9d",
   "metadata": {},
   "source": [
    "### Matricial"
   ]
  },
  {
   "cell_type": "code",
   "execution_count": 6,
   "id": "0a1f06c1",
   "metadata": {},
   "outputs": [
    {
     "data": {
      "text/plain": [
       "vectorizedsor (generic function with 3 methods)"
      ]
     },
     "execution_count": 6,
     "metadata": {},
     "output_type": "execute_result"
    }
   ],
   "source": [
    "function vectorizedsor(A::SparseMatrixCSC{Float64, Int64}, b::Vector{Float64}, ω = 1.8::Float64, ϵ = 1e-5)\n",
    "    # Según el libro, viene siendo así el método matricial: x⁽ᵏ⁾= (D-ωL)⁻¹(ωU+(1-ω)D)x⁽ᵏ⁻¹⁾+ω(D-ωL)⁻¹b\n",
    "    # Con D := La matriz diagonal A como matriz cuadrada,\n",
    "    # -L y -U las matrices estríctamente Inferior (Lower) y Superior (Upper) de A, respectivamente\n",
    "    # ω es justo un argumento de sobrerelajación, que sirve para hacer más rápido al método. Hay que escogerlo \n",
    "    # ente (0,1)\n",
    "    D = Diagonal(A)\n",
    "    U = - triu(A,1) \n",
    "    L = - tril(A,-1)\n",
    "    x = rand(length(b))\n",
    "    \n",
    "    L′ = D-ω*L\n",
    "    U′ = ω*U+(1.0-ω)*D\n",
    "    b′ = ω*b\n",
    "    while norm(A*x - b) > ϵ\n",
    "        x = L′ \\ (U′*x + b′)\n",
    "    end\n",
    "    return x\n",
    "end"
   ]
  },
  {
   "cell_type": "markdown",
   "id": "2ca4bead",
   "metadata": {},
   "source": [
    "### Paralelo"
   ]
  },
  {
   "cell_type": "code",
   "execution_count": 7,
   "id": "c28cfc18",
   "metadata": {},
   "outputs": [
    {
     "data": {
      "text/plain": [
       "parallelsor (generic function with 3 methods)"
      ]
     },
     "execution_count": 7,
     "metadata": {},
     "output_type": "execute_result"
    }
   ],
   "source": [
    "function parallelsor(A::SparseMatrixCSC{Float64, Int64}, b::Vector{Float64}, ω = 1.8::Float64, ϵ = 1e-5)\n",
    "    # Según el libro, viene siendo así el método matricial: x⁽ᵏ⁾= (D-L)⁻¹(Ux⁽ᵏ⁻¹⁾+b)\n",
    "    # Con D := La matriz diagonal A como matriz cuadrada,\n",
    "    # -L y -U las matrices estríctamente Inferior (Lower) y Superior (Upper) de A, respectivamente\n",
    "    D = Diagonal(A)\n",
    "    D = CuArray{Float64}(D)\n",
    "    U = - triu(A,1) \n",
    "    L = - tril(A,-1)\n",
    "    U = CuSparseMatrixCSR{Float64}(U)\n",
    "    L = CuSparseMatrixCSR{Float64}(L)\n",
    "\n",
    "    A = CuSparseMatrixCSR{Float64}(A)\n",
    "    b = CuArray{Float64}(b)\n",
    "    x = CUDA.rand{Float64}(length(b))\n",
    "    \n",
    "    L′ = D-ω*L\n",
    "    U′ = ω*U+(1.0-ω)*D\n",
    "    b′ = ω*b\n",
    "    while norm(A*x - b) > ϵ\n",
    "        x = L′ \\ (U′*x + b′)\n",
    "    end\n",
    "    return x\n",
    "end"
   ]
  },
  {
   "cell_type": "markdown",
   "id": "f6cce5cb",
   "metadata": {},
   "source": [
    "---"
   ]
  },
  {
   "cell_type": "markdown",
   "id": "3e857739",
   "metadata": {},
   "source": [
    "## GMRES"
   ]
  },
  {
   "cell_type": "markdown",
   "id": "20cd915d",
   "metadata": {},
   "source": [
    "### Normalito"
   ]
  },
  {
   "cell_type": "code",
   "execution_count": 8,
   "id": "53ba4bcc",
   "metadata": {},
   "outputs": [
    {
     "data": {
      "text/plain": [
       "leastsquares (generic function with 1 method)"
      ]
     },
     "execution_count": 8,
     "metadata": {},
     "output_type": "execute_result"
    }
   ],
   "source": [
    "function leastsquares(H::Matrix{Float64}, r)\n",
    "    r′ = zeros(size(H)[1])\n",
    "    r′[1] = norm(r)\n",
    "    x = H \\ r′\n",
    "end"
   ]
  },
  {
   "cell_type": "code",
   "execution_count": 9,
   "id": "7de47593",
   "metadata": {},
   "outputs": [
    {
     "data": {
      "text/plain": [
       "gmres (generic function with 2 methods)"
      ]
     },
     "execution_count": 9,
     "metadata": {},
     "output_type": "execute_result"
    }
   ],
   "source": [
    "# Algoritmo sacado directo del pseudocódigo\n",
    "function gmres(A::SparseMatrixCSC{Float64, Int64}, b::Vector{Float64}, ϵ = 1e-5)\n",
    "    x₀ = rand(length(b))\n",
    "    residual₀ = b - A*x₀\n",
    "    q = [residual₀ / norm(residual₀)]\n",
    "    \n",
    "    k = 1\n",
    "    x = x₀\n",
    "    H = zeros(2,1)\n",
    "    residual = residual₀\n",
    "    while norm(residual) > ϵ\n",
    "        y = A*q[k]\n",
    "        for j ∈ 1:k\n",
    "            H[j,k] = q[j]' * y\n",
    "            y -= H[j,k]*q[j]\n",
    "        end\n",
    "        H[k+1,k] = norm(y)\n",
    "        push!(q, y/H[k+1,k])\n",
    "        H = vcat(H, zeros(1, size(H)[2]))\n",
    "        H = hcat(H, zeros(size(H)[1], 1))\n",
    "        if k % 10 == 0\n",
    "            c = leastsquares(H, residual₀)\n",
    "            Q = hcat(q...)\n",
    "            x = Q*c + x₀\n",
    "            residual = A*x - b\n",
    "        end\n",
    "        k += 1\n",
    "    end\n",
    "    return x\n",
    "end"
   ]
  },
  {
   "cell_type": "markdown",
   "id": "e561329c",
   "metadata": {},
   "source": [
    "### Normalito GPU"
   ]
  },
  {
   "cell_type": "code",
   "execution_count": 10,
   "id": "765c4743",
   "metadata": {},
   "outputs": [
    {
     "data": {
      "text/plain": [
       "parallelgmres (generic function with 2 methods)"
      ]
     },
     "execution_count": 10,
     "metadata": {},
     "output_type": "execute_result"
    }
   ],
   "source": [
    "# Algoritmo sacado directo del pseudocódigo\n",
    "function parallelgmres(A::SparseMatrixCSC{Float64, Int64}, b::Vector{Float64}, ϵ = 1e-5)\n",
    "    b = CuArray{Float64}(b)\n",
    "    A = CuSparseMatrixCSR{Float64}(A)\n",
    "    x₀ = CUDA.rand{Float64}(length(b))\n",
    "    \n",
    "    residual₀ = b - A*x₀\n",
    "    q = [residual₀ / norm(residual₀)]\n",
    "    \n",
    "    k = 1\n",
    "    x = x₀\n",
    "    H = zeros(2,1)\n",
    "    residual = residual₀\n",
    "    while norm(residual) > ϵ\n",
    "        y = A*q[k]\n",
    "        for j ∈ 1:k\n",
    "            H[j,k] = q[j]' * y\n",
    "            y -= H[j,k]*q[j]\n",
    "        end\n",
    "        H[k+1,k] = norm(y)\n",
    "        push!(q, y/H[k+1,k])\n",
    "        H = vcat(H, zeros(1, size(H)[2]))\n",
    "        H = hcat(H, zeros(size(H)[1], 1))\n",
    "        if k % 10 == 0\n",
    "            c = leastsquares(H, residual₀)\n",
    "            Q = hcat(q...)\n",
    "            c = CuArray{Float64}(c)\n",
    "            Q = CuSparseMatrixCSR{Float64}(Q)\n",
    "            x = Q*c + x₀\n",
    "            residual = A*x - b\n",
    "        end\n",
    "        k += 1\n",
    "    end\n",
    "    return x\n",
    "end"
   ]
  },
  {
   "cell_type": "markdown",
   "id": "9baa6ccc",
   "metadata": {},
   "source": [
    "### Reiniciado"
   ]
  },
  {
   "cell_type": "code",
   "execution_count": 39,
   "id": "49d0fe65",
   "metadata": {},
   "outputs": [
    {
     "data": {
      "text/plain": [
       "gmresreiniciado (generic function with 3 methods)"
      ]
     },
     "execution_count": 39,
     "metadata": {},
     "output_type": "execute_result"
    }
   ],
   "source": [
    "function reiniciarvariables(x::Vector, A::SparseMatrixCSC{Float64, Int64}, b::Vector{Float64})\n",
    "    k = 1\n",
    "    x₀ = x\n",
    "    r = b - A*x₀\n",
    "    H = zeros(2,1)\n",
    "    q = [r / norm(r)]\n",
    "    return x₀, r, q, k, H\n",
    "end\n",
    "    \n",
    "function gmresreiniciado(A::SparseMatrixCSC{Float64, Int64}, b::Vector{Float64}, mod, ϵ = 1e-5)\n",
    "    x₀ = rand(length(b))\n",
    "    residual₀ = b - A*x₀\n",
    "    q = [residual₀ / norm(residual₀)]\n",
    "    \n",
    "    k = 1\n",
    "    x = x₀\n",
    "    H = zeros(2,1)\n",
    "    residual = residual₀\n",
    "    while norm(residual) > ϵ\n",
    "        y = A*q[k]\n",
    "        for j ∈ 1:k\n",
    "            H[j,k] = q[j]' * y\n",
    "            y -= H[j,k]*q[j]\n",
    "        end\n",
    "        H[k+1,k] = norm(y)\n",
    "        push!(q, y/H[k+1,k])\n",
    "        H = vcat(H, zeros(1, size(H)[2]))\n",
    "        H = hcat(H, zeros(size(H)[1], 1))\n",
    "        k += 1\n",
    "        #if k % 25 == 0 # cuando tenemos 30³ nuestra matriz ( Q = 5,400,000)\n",
    "        if k % mod == 0 # cuando tenemos 40³ nuestra matriz ( Q = 10,240,000)\n",
    "            c = leastsquares(H, residual₀)\n",
    "            Q = hcat(q...)\n",
    "            x = Q*c + x₀\n",
    "            residual = A*x - b\n",
    "            x₀, residual₀, q, k, H = reiniciarvariables(x, A, b)\n",
    "        end\n",
    "    end\n",
    "    return x\n",
    "end"
   ]
  },
  {
   "cell_type": "markdown",
   "id": "60571acd",
   "metadata": {},
   "source": [
    "### Reiniciado GPU"
   ]
  },
  {
   "cell_type": "code",
   "execution_count": 12,
   "id": "1480f40a",
   "metadata": {},
   "outputs": [
    {
     "data": {
      "text/plain": [
       "parallelgmresreiniciado (generic function with 2 methods)"
      ]
     },
     "execution_count": 12,
     "metadata": {},
     "output_type": "execute_result"
    }
   ],
   "source": [
    "function reiniciarvariables(x, A, b)\n",
    "    k = 1\n",
    "    x₀ = x\n",
    "    r = b - A*x₀\n",
    "    H = zeros(2,1)\n",
    "    q = [r / norm(r)]\n",
    "    return x₀, r, q, k, H\n",
    "end\n",
    "    \n",
    "function parallelgmresreiniciado(A::SparseMatrixCSC{Float64, Int64}, b::Vector{Float64}, ϵ = 1e-5)\n",
    "    b = CuArray{Float64}(b)\n",
    "    A = CuSparseMatrixCSR{Float64}(A)\n",
    "    x₀ = CUDA.rand{Float64}(length(b))\n",
    "    \n",
    "    residual₀ = b - A*x₀\n",
    "    q = [residual₀ / norm(residual₀)]\n",
    "    \n",
    "    k = 1\n",
    "    x = x₀\n",
    "    H = zeros(2,1)\n",
    "    residual = residual₀\n",
    "    while norm(residual) > ϵ\n",
    "        y = A*q[k]\n",
    "        for j ∈ 1:k\n",
    "            H[j,k] = q[j]' * y\n",
    "            y -= H[j,k]*q[j]\n",
    "        end\n",
    "        H[k+1,k] = norm(y)\n",
    "        push!(q, y/H[k+1,k])\n",
    "        H = vcat(H, zeros(1, size(H)[2]))\n",
    "        H = hcat(H, zeros(size(H)[1], 1))\n",
    "        k += 1\n",
    "        #if k % 25 == 0 # cuando tenemos 30³ nuestra matriz ( Q = 5,400,000)\n",
    "        if k % 25 == 0 # cuando tenemos 40³ nuestra matriz ( Q = 10,240,000)\n",
    "            c = leastsquares(H, residual₀)\n",
    "            Q = hcat(q...)\n",
    "            c = CuArray{Float64}(c)\n",
    "            Q = CuSparseMatrixCSR{Float64}(Q)\n",
    "            x = Q*c + x₀\n",
    "            residual = A*x - b\n",
    "            x₀, residual₀, q, k, H = reiniciarvariables(x, A, b)\n",
    "        end\n",
    "    end\n",
    "    return x\n",
    "end"
   ]
  },
  {
   "cell_type": "markdown",
   "id": "6c18b11b",
   "metadata": {},
   "source": [
    "### Precondicionado"
   ]
  },
  {
   "cell_type": "code",
   "execution_count": 13,
   "id": "b53875c5",
   "metadata": {},
   "outputs": [
    {
     "data": {
      "text/plain": [
       "gmresprecondicionado (generic function with 2 methods)"
      ]
     },
     "execution_count": 13,
     "metadata": {},
     "output_type": "execute_result"
    }
   ],
   "source": [
    "function gmresprecondicionado(A::SparseMatrixCSC{Float64, Int64}, b::Vector{Float64}, Ms::Vector, ϵ = 1e-5)\n",
    "    x₀ = rand(length(b))\n",
    "    residual₀ = (b - A*x₀)\n",
    "    [residual₀ = M\\residual₀ for M ∈ Ms]\n",
    "    q = [residual₀ / norm(residual₀)]\n",
    "    \n",
    "    k = 1\n",
    "    x = x₀\n",
    "    H = zeros(2,1)\n",
    "    residual = residual₀\n",
    "    while norm(residual) > ϵ\n",
    "        ω = A*q[k]\n",
    "        [ω = M\\ω for M ∈ Ms]\n",
    "        for j ∈ 1:k\n",
    "            H[j,k] = q[j]' * ω\n",
    "            ω -= H[j,k]*q[j]\n",
    "        end\n",
    "        H[k+1,k] = norm(ω)\n",
    "        push!(q, ω/H[k+1,k])\n",
    "        H = vcat(H, zeros(1, size(H)[2]))\n",
    "        H = hcat(H, zeros(size(H)[1], 1))\n",
    "        if k % 10 == 0\n",
    "            c = leastsquares(H, residual₀)\n",
    "            Q = hcat(q...)\n",
    "            x = Q*c + x₀\n",
    "            residual = A*x - b\n",
    "            [residual = M\\residual for M ∈ Ms]\n",
    "        end\n",
    "        k += 1\n",
    "    end\n",
    "    return x\n",
    "end"
   ]
  },
  {
   "cell_type": "markdown",
   "id": "22251324",
   "metadata": {},
   "source": [
    "### Precondicionado GPU"
   ]
  },
  {
   "cell_type": "code",
   "execution_count": 14,
   "id": "ef097ff2",
   "metadata": {},
   "outputs": [
    {
     "data": {
      "text/plain": [
       "parallelgmresprecondicionado (generic function with 2 methods)"
      ]
     },
     "execution_count": 14,
     "metadata": {},
     "output_type": "execute_result"
    }
   ],
   "source": [
    "function parallelgmresprecondicionado(A::SparseMatrixCSC{Float64, Int64}, b::Vector{Float64}, Ms::Vector, ϵ = 1e-5)\n",
    "    b = CuArray{Float64}(b)\n",
    "    A = CuSparseMatrixCSR{Float64}(A)\n",
    "    x₀ = CUDA.rand{Float64}(length(b))\n",
    "    \n",
    "    residual₀ = (b - A*x₀)\n",
    "    [residual₀ = M\\residual₀ for M ∈ Ms]\n",
    "    q = [residual₀ / norm(residual₀)]\n",
    "    \n",
    "    k = 1\n",
    "    x = x₀\n",
    "    H = zeros(2,1)\n",
    "    residual = residual₀\n",
    "    while norm(residual) > ϵ\n",
    "        ω = A*q[k]\n",
    "        [ω = M\\ω for M ∈ Ms]\n",
    "        for j ∈ 1:k\n",
    "            H[j,k] = q[j]' * ω\n",
    "            ω -= H[j,k]*q[j]\n",
    "        end\n",
    "        H[k+1,k] = norm(ω)\n",
    "        push!(q, ω/H[k+1,k])\n",
    "        H = vcat(H, zeros(1, size(H)[2]))\n",
    "        H = hcat(H, zeros(size(H)[1], 1))\n",
    "        if k % 10 == 0\n",
    "            c = leastsquares(H, residual₀)\n",
    "            Q = hcat(q...)\n",
    "            c = CuArray{Float64}(c)\n",
    "            Q = CuSparseMatrixCSR{Float64}(Q)\n",
    "            x = Q*c + x₀\n",
    "            residual = A*x - b\n",
    "            [residual = M\\residual for M ∈ Ms]\n",
    "        end\n",
    "        k += 1\n",
    "    end\n",
    "    return x\n",
    "end"
   ]
  },
  {
   "cell_type": "markdown",
   "id": "b6a4c7f5",
   "metadata": {},
   "source": [
    "### Precondicionado y reiniciado"
   ]
  },
  {
   "cell_type": "code",
   "execution_count": 40,
   "id": "9f19ca23",
   "metadata": {},
   "outputs": [
    {
     "data": {
      "text/plain": [
       "gmresprecondicionadoreiniciado (generic function with 3 methods)"
      ]
     },
     "execution_count": 40,
     "metadata": {},
     "output_type": "execute_result"
    }
   ],
   "source": [
    "function reiniciarvariablesprecondicionado(x::Vector, A::SparseMatrixCSC{Float64, Int64}, b::Vector{Float64}, \n",
    "        Ms::Vector)\n",
    "    k = 1\n",
    "    x₀ = x\n",
    "    H = zeros(2,1) \n",
    "    residual₀ = b - A*x₀\n",
    "    [residual₀ = M\\residual₀ for M ∈ Ms]\n",
    "    q = [residual₀ / norm(residual₀)]\n",
    "    return x₀, residual₀, q, k, H\n",
    "end\n",
    "\n",
    "# Algoritmo sacado directo del pseudocódigo\n",
    "function gmresprecondicionadoreiniciado(A::SparseMatrixCSC{Float64, Int64}, b::Vector{Float64}, Ms::Vector, mod, \n",
    "        ϵ = 1e-5)\n",
    "    x₀ = rand(length(b))\n",
    "    residual₀ = b - A*x₀\n",
    "    [residual₀ = M\\residual₀ for M ∈ Ms]\n",
    "    q = [residual₀ / norm(residual₀)]\n",
    "    \n",
    "    k = 1\n",
    "    x = x₀\n",
    "    H = zeros(2,1)\n",
    "    residual = residual₀\n",
    "    while norm(residual) > ϵ\n",
    "        ω = A*q[k]\n",
    "        [ω = M\\ω for M ∈ Ms]\n",
    "        for j ∈ 1:k\n",
    "            H[j,k] = q[j]' * ω\n",
    "            ω -= H[j,k]*q[j]\n",
    "        end\n",
    "        H[k+1,k] = norm(ω)\n",
    "        push!(q, ω/H[k+1,k])\n",
    "        H = vcat(H, zeros(1, size(H)[2]))\n",
    "        H = hcat(H, zeros(size(H)[1], 1))\n",
    "        k += 1\n",
    "        # if k % 20 == 0 # Para 40³ sirvió chido el módulo 20 para el de Jacobi\n",
    "        # if k % 25 == 0 # Para 40³ sirvió chido el módulo 25 para el de Gauss-Seidel\n",
    "        if k % mod == 0 # Para 40³ sirvió chido el módulo 30 para el de SOR\n",
    "            c = leastsquares(H, residual₀)\n",
    "            Q = hcat(q...)\n",
    "            x = Q*c + x₀\n",
    "            residual = A*x - b\n",
    "            [residual = M\\residual for M ∈ Ms]\n",
    "            x₀, residual₀, q, k, H = reiniciarvariablesprecondicionado(x, A, b, Ms)\n",
    "        end\n",
    "    end\n",
    "    return x\n",
    "end"
   ]
  },
  {
   "cell_type": "markdown",
   "id": "462bfd20",
   "metadata": {},
   "source": [
    "### Precondicionado y reiniciado GPU"
   ]
  },
  {
   "cell_type": "code",
   "execution_count": 16,
   "id": "43ca92de",
   "metadata": {},
   "outputs": [
    {
     "data": {
      "text/plain": [
       "parallelgmresprecondicionadoreiniciado (generic function with 2 methods)"
      ]
     },
     "execution_count": 16,
     "metadata": {},
     "output_type": "execute_result"
    }
   ],
   "source": [
    "function reiniciarvariablesprecondicionado(x, A, b, Ms::Vector)\n",
    "    k = 1\n",
    "    x₀ = x\n",
    "    H = zeros(2,1)\n",
    "    \n",
    "    residual₀ = b - A*x₀\n",
    "    [residual₀ = M\\residual₀ for M ∈ Ms]\n",
    "    q = [residual₀ / norm(residual₀)]\n",
    "    return x₀, residual₀, q, k, H\n",
    "end\n",
    "\n",
    "# Algoritmo sacado directo del pseudocódigo\n",
    "function parallelgmresprecondicionadoreiniciado(A::SparseMatrixCSC{Float64, Int64}, b::Vector{Float64}, Ms::Vector, \n",
    "        ϵ = 1e-5)\n",
    "    b = CuArray{Float64}(b)\n",
    "    A = CuSparseMatrixCSR{Float64}(A)\n",
    "    x₀ = CUDA.rand{Float64}(length(b))\n",
    "    \n",
    "    residual₀ = b - A*x₀\n",
    "    [residual₀ = M\\residual₀ for M ∈ Ms]\n",
    "    q = [residual₀ / norm(residual₀)]\n",
    "    \n",
    "    k = 1\n",
    "    x = x₀\n",
    "    H = zeros(2,1)\n",
    "    residual = residual₀\n",
    "    while norm(residual) > ϵ\n",
    "        ω = A*q[k]\n",
    "        [ω = M\\ω for M ∈ Ms]\n",
    "        for j ∈ 1:k\n",
    "            H[j,k] = q[j]' * ω\n",
    "            ω -= H[j,k]*q[j]\n",
    "        end\n",
    "        H[k+1,k] = norm(ω)\n",
    "        push!(q, ω/H[k+1,k])\n",
    "        H = vcat(H, zeros(1, size(H)[2]))\n",
    "        H = hcat(H, zeros(size(H)[1], 1))\n",
    "        k += 1\n",
    "        # if k % 20 == 0 # Para 40³ sirvió chido el módulo 20 para el de Jacobi\n",
    "        # if k % 25 == 0 # Para 40³ sirvió chido el módulo 25 para el de Gauss-Seidel\n",
    "        if k % 30 == 0 # Para 40³ sirvió chido el módulo 30 para el de SOR\n",
    "            c = leastsquares(H, residual₀)\n",
    "            Q = hcat(q...)\n",
    "            c = CuArray{Float64}(c)\n",
    "            Q = CuSparseMatrixCSR{Float64}(Q)\n",
    "            x = Q*c + x₀\n",
    "            residual = A*x - b\n",
    "            [residual = M\\residual for M ∈ Ms]\n",
    "            x₀, residual₀, q, k, H = reiniciarvariablesprecondicionado(x, A, b, Ms)\n",
    "        end\n",
    "    end\n",
    "    return x\n",
    "end"
   ]
  },
  {
   "cell_type": "markdown",
   "id": "b2fe360b",
   "metadata": {},
   "source": [
    "---"
   ]
  },
  {
   "cell_type": "code",
   "execution_count": 17,
   "id": "e3d052c3",
   "metadata": {},
   "outputs": [
    {
     "name": "stderr",
     "output_type": "stream",
     "text": [
      "┌ Info: For saving to png with the Plotly backend PlotlyBase has to be installed.\n",
      "└ @ Plots /home/oscar/.julia/packages/Plots/9C6z9/src/backends.jl:432\n"
     ]
    },
    {
     "data": {
      "text/plain": [
       "getsystem (generic function with 1 method)"
      ]
     },
     "execution_count": 17,
     "metadata": {},
     "output_type": "execute_result"
    }
   ],
   "source": [
    "include(\"../notebooks/FVM.jl\")\n",
    "\n",
    "function Γ_constant(x::Array, y::Array, z::Array)\n",
    "    Γ = 1000\n",
    "    tensor_Γ = ones(length(x), length(y), length(z))\n",
    "    tensor_Γ = Γ .* tensor_Γ\n",
    "end\n",
    "\n",
    "function getsystem(vol)\n",
    "    # Construcción de la malla.\n",
    "    volumes, lengths, centers, centers_and_boundaries, deltas, faces, deltas_faces = FVM.uniform_grid(vol, vol/10)\n",
    "    tags = FVM.init_tags(3, volumes, centers_and_boundaries)\n",
    "    tags_b = FVM.init_tags_boundaries(3, centers_and_boundaries)\n",
    "    FVM.tag_wall(tags, tags_b, [:W, :E, :T, :N, :B], 0, :D)\n",
    "    FVM.tag_wall(tags, tags_b, :S, 100, :D)\n",
    "    mesh = FVM.Mesh(volumes, lengths, centers, centers_and_boundaries, deltas, faces, deltas_faces, tags, tags_b)\n",
    "    # Generando los coeficientes\n",
    "    coeff = FVM.init_coefficients(mesh)\n",
    "    FVM.set_diffusion(coeff, Γ_constant);\n",
    "    # Construyendo el sistema de ecuaciones\n",
    "    equation_system = FVM.init_eq_system(coeff)\n",
    "    A = equation_system.A\n",
    "    b = equation_system.b\n",
    "    return A, b\n",
    "end"
   ]
  },
  {
   "cell_type": "markdown",
   "id": "526c7eaa",
   "metadata": {},
   "source": [
    "## Pruebas"
   ]
  },
  {
   "cell_type": "code",
   "execution_count": 42,
   "id": "2186d1ab",
   "metadata": {},
   "outputs": [
    {
     "data": {
      "text/plain": [
       "medirtiempo (generic function with 2 methods)"
      ]
     },
     "execution_count": 42,
     "metadata": {},
     "output_type": "execute_result"
    }
   ],
   "source": [
    "function medirtiempo(funcion, A, b, mod)\n",
    "    start_time = time()\n",
    "    funcion(A, b, mod)\n",
    "    finish_time = time()\n",
    "    t = finish_time - start_time\n",
    "    return t\n",
    "end\n",
    "\n",
    "function medirtiempo(funcion, A, b, vector, mod)\n",
    "    start_time = time()\n",
    "    funcion(A, b, vector, mod)\n",
    "    finish_time = time()\n",
    "    t = finish_time - start_time\n",
    "    return t\n",
    "end"
   ]
  },
  {
   "cell_type": "code",
   "execution_count": 18,
   "id": "adc4021b",
   "metadata": {},
   "outputs": [],
   "source": [
    "A, b = getsystem(40);"
   ]
  },
  {
   "cell_type": "code",
   "execution_count": 19,
   "id": "6fbbfd81",
   "metadata": {},
   "outputs": [],
   "source": [
    "@btime x = vectorizedjacobi(A, b);"
   ]
  },
  {
   "cell_type": "code",
   "execution_count": 20,
   "id": "04601151",
   "metadata": {},
   "outputs": [],
   "source": [
    "@btime x = vectorizedgaussseidel(A, b);"
   ]
  },
  {
   "cell_type": "code",
   "execution_count": 21,
   "id": "cae87dce",
   "metadata": {},
   "outputs": [],
   "source": [
    "α = 1.79\n",
    "@btime x = vectorizedsor(A, b, α);"
   ]
  },
  {
   "cell_type": "code",
   "execution_count": 22,
   "id": "fe71e5fe",
   "metadata": {},
   "outputs": [],
   "source": [
    "@btime x = gmres(A, b);"
   ]
  },
  {
   "cell_type": "code",
   "execution_count": 32,
   "id": "f4cb725e",
   "metadata": {},
   "outputs": [],
   "source": [
    "@btime x = gmresreiniciado(A, b);"
   ]
  },
  {
   "cell_type": "code",
   "execution_count": 24,
   "id": "c16aaba2",
   "metadata": {},
   "outputs": [],
   "source": [
    "M_jacobi = Diagonal(A)\n",
    "@btime x = gmresprecondicionado(A, b, [M_jacobi]);"
   ]
  },
  {
   "cell_type": "code",
   "execution_count": 25,
   "id": "7606728d",
   "metadata": {},
   "outputs": [],
   "source": [
    "D = Diagonal(A)\n",
    "U = triu(A,1) \n",
    "L = tril(A,-1)\n",
    "M_gauss_seidel_1 = I+(L*inv(D))\n",
    "M_gauss_seidel_2 = D+U\n",
    "@btime x = gmresprecondicionado(A, b, [M_gauss_seidel_1, M_gauss_seidel_2]);"
   ]
  },
  {
   "cell_type": "code",
   "execution_count": 26,
   "id": "db97a502",
   "metadata": {},
   "outputs": [],
   "source": [
    "α = 1.8\n",
    "D = Diagonal(A)\n",
    "U = triu(A,1) \n",
    "L = tril(A,-1)\n",
    "M_sor_1 = I+(α*L*inv(D))\n",
    "M_sor_2 = D+α*U\n",
    "@btime x = gmresprecondicionado(A, b, [M_sor_1, M_sor_2]);"
   ]
  },
  {
   "cell_type": "code",
   "execution_count": 27,
   "id": "2209bf90",
   "metadata": {},
   "outputs": [
    {
     "name": "stdout",
     "output_type": "stream",
     "text": [
      "  2.263 s (69905 allocations: 12.41 GiB)\n"
     ]
    }
   ],
   "source": [
    "M_jacobi = Diagonal(A)\n",
    "@btime x = gmresprecondicionadoreiniciado(A, b, [M_jacobi]);"
   ]
  },
  {
   "cell_type": "code",
   "execution_count": 28,
   "id": "de5a72ed",
   "metadata": {},
   "outputs": [
    {
     "name": "stdout",
     "output_type": "stream",
     "text": [
      "  521.051 ms (11929 allocations: 1.47 GiB)\n"
     ]
    }
   ],
   "source": [
    "D = Diagonal(A)\n",
    "U = triu(A,1) \n",
    "L = tril(A,-1)\n",
    "M_gauss_seidel_1 = I+(L*inv(D))\n",
    "M_gauss_seidel_2 = D+U\n",
    "@btime x = gmresprecondicionadoreiniciado(A, b, [M_gauss_seidel_1, M_gauss_seidel_2]);"
   ]
  },
  {
   "cell_type": "code",
   "execution_count": 29,
   "id": "a3a495c7",
   "metadata": {},
   "outputs": [
    {
     "name": "stdout",
     "output_type": "stream",
     "text": [
      "  173.881 ms (3993 allocations: 504.79 MiB)\n"
     ]
    }
   ],
   "source": [
    "α = 1.8\n",
    "D = Diagonal(A)\n",
    "U = triu(A,1) \n",
    "L = tril(A,-1)\n",
    "M_sor_1 = I+(α*L*inv(D))\n",
    "M_sor_2 = D+α*U\n",
    "@btime x = gmresprecondicionadoreiniciado(A, b, [M_sor_1, M_sor_2]);"
   ]
  },
  {
   "cell_type": "markdown",
   "id": "3eb55f77",
   "metadata": {},
   "source": [
    "---"
   ]
  },
  {
   "cell_type": "markdown",
   "id": "640a045a",
   "metadata": {},
   "source": [
    "## Sacando los números para el reinicio del gmres"
   ]
  },
  {
   "cell_type": "code",
   "execution_count": 62,
   "id": "f8a77bf5",
   "metadata": {
    "collapsed": true
   },
   "outputs": [
    {
     "name": "stdout",
     "output_type": "stream",
     "text": [
      "gmresreiniciado_dict[vol] = Dict{Any, Any}(15 => 0.003920078277587891, 20 => 0.00439000129699707, 25 => 0.004678010940551758, 35 => 0.0053310394287109375, 30 => 0.004033088684082031)\n",
      "gmresprecondicionadoreiniciado_jacobi_dict[vol] = Dict{Any, Any}(15 => 0.006073951721191406, 20 => 0.022929906845092773, 25 => 0.0063228607177734375, 35 => 0.019644975662231445, 30 => 0.008661031723022461)\n",
      "gmresprecondicionadoreiniciado_gaussseidel_dict[vol] = Dict{Any, Any}(15 => 0.002471923828125, 20 => 0.0018279552459716797, 25 => 0.002368927001953125, 35 => 0.0041010379791259766, 30 => 0.003072023391723633)\n",
      "gmresprecondicionadoreiniciado_sor_dict[vol] = Dict{Any, Any}(15 => 0.002460956573486328, 20 => 0.001817941665649414, 25 => 0.0024018287658691406, 35 => 0.003923177719116211, 30 => 0.0030851364135742188)\n",
      "gmresreiniciado_dict[vol] = Dict{Any, Any}(15 => 0.06982111930847168, 20 => 0.060105085372924805, 25 => 0.06318402290344238, 35 => 0.08980512619018555, 30 => 0.08107113838195801)\n",
      "gmresprecondicionadoreiniciado_jacobi_dict[vol] = Dict{Any, Any}(15 => 0.08797812461853027, 20 => 0.08460521697998047, 25 => 0.10011410713195801, 35 => 0.10912704467773438, 30 => 0.11699318885803223)\n",
      "gmresprecondicionadoreiniciado_gaussseidel_dict[vol] = Dict{Any, Any}(15 => 0.024718046188354492, 20 => 0.020373106002807617, 25 => 0.031458139419555664, 35 => 0.020895004272460938, 30 => 0.017122983932495117)\n",
      "gmresprecondicionadoreiniciado_sor_dict[vol] = Dict{Any, Any}(15 => 0.016109943389892578, 20 => 0.02623605728149414, 25 => 0.016270160675048828, 35 => 0.02901005744934082, 30 => 0.021255016326904297)\n",
      "gmresreiniciado_dict[vol] = Dict{Any, Any}(15 => 0.4771289825439453, 20 => 0.39911389350891113, 25 => 0.396104097366333, 35 => 0.38364195823669434, 30 => 0.41845011711120605)\n",
      "gmresprecondicionadoreiniciado_jacobi_dict[vol] = Dict{Any, Any}(15 => 0.44655704498291016, 20 => 0.4393761157989502, 25 => 0.466048002243042, 35 => 0.5313680171966553, 30 => 0.48899102210998535)\n",
      "gmresprecondicionadoreiniciado_gaussseidel_dict[vol] = Dict{Any, Any}(15 => 0.11976003646850586, 20 => 0.12244415283203125, 25 => 0.10796403884887695, 35 => 0.1751420497894287, 30 => 0.1580212116241455)\n",
      "gmresprecondicionadoreiniciado_sor_dict[vol] = Dict{Any, Any}(15 => 0.058194875717163086, 20 => 0.07891702651977539, 25 => 0.05644392967224121, 35 => 0.0890967845916748, 30 => 0.0719461441040039)\n",
      "gmresreiniciado_dict[vol] = Dict{Any, Any}(15 => 1.5194339752197266, 20 => 1.5426478385925293, 25 => 1.4838171005249023, 35 => 1.77829909324646, 30 => 1.7210450172424316)\n",
      "gmresprecondicionadoreiniciado_jacobi_dict[vol] = Dict{Any, Any}(15 => 1.6705739498138428, 20 => 1.687554121017456, 25 => 1.8777101039886475, 35 => 2.604970932006836, 30 => 2.1508960723876953)\n",
      "gmresprecondicionadoreiniciado_gaussseidel_dict[vol] = Dict{Any, Any}(15 => 0.40108489990234375, 20 => 0.38446784019470215, 25 => 0.562471866607666, 35 => 0.4264531135559082, 30 => 0.6753849983215332)\n",
      "gmresprecondicionadoreiniciado_sor_dict[vol] = Dict{Any, Any}(15 => 0.20071792602539062, 20 => 0.194288969039917, 25 => 0.2795679569244385, 35 => 0.38204503059387207, 30 => 0.17657017707824707)\n",
      "gmresreiniciado_dict[vol] = Dict{Any, Any}(15 => 4.627002000808716, 20 => 5.456254959106445, 25 => 5.137510061264038, 35 => 5.263601064682007, 30 => 5.207333087921143)\n",
      "gmresprecondicionadoreiniciado_jacobi_dict[vol] = Dict{Any, Any}(15 => 6.586273908615112, 20 => 6.303678035736084, 25 => 5.97685694694519, 35 => 6.147248029708862, 30 => 6.2207090854644775)\n",
      "gmresprecondicionadoreiniciado_gaussseidel_dict[vol] = Dict{Any, Any}(15 => 1.2286109924316406, 20 => 0.9803910255432129, 25 => 1.2229580879211426, 35 => 1.4405369758605957, 30 => 1.665147066116333)\n",
      "gmresprecondicionadoreiniciado_sor_dict[vol] = Dict{Any, Any}(15 => 0.4073159694671631, 20 => 0.5515949726104736, 25 => 0.5317399501800537, 35 => 0.42917299270629883, 30 => 0.6807730197906494)\n",
      "gmresreiniciado_dict[vol] = Dict{Any, Any}(15 => 11.676449060440063, 20 => 12.847965955734253, 25 => 12.274077892303467, 35 => 12.034384965896606, 30 => 12.234254837036133)\n",
      "gmresprecondicionadoreiniciado_jacobi_dict[vol] = Dict{Any, Any}(15 => 16.1879940032959, 20 => 13.67046594619751, 25 => 13.321517944335938, 35 => 14.4897620677948, 30 => 14.309284925460815)\n",
      "gmresprecondicionadoreiniciado_gaussseidel_dict[vol] = Dict{Any, Any}(15 => 2.645148992538452, 20 => 2.9626519680023193, 25 => 2.5288119316101074, 35 => 3.256376028060913, 30 => 2.7802867889404297)\n",
      "gmresprecondicionadoreiniciado_sor_dict[vol] = Dict{Any, Any}(15 => 1.2782108783721924, 20 => 1.3540899753570557, 25 => 1.3758478164672852, 35 => 1.864130973815918, 30 => 1.3920478820800781)\n",
      "gmresreiniciado_dict[vol] = Dict{Any, Any}(15 => 52.515424966812134, 20 => 52.741132974624634, 25 => 49.37026596069336, 35 => 49.523401975631714, 30 => 48.8986918926239)\n",
      "gmresprecondicionadoreiniciado_jacobi_dict[vol] = Dict{Any, Any}(15 => 62.61199903488159, 20 => 55.21130704879761, 25 => 51.405930042266846, 35 => 54.14295196533203, 30 => 54.59699606895447)\n",
      "gmresprecondicionadoreiniciado_gaussseidel_dict[vol] = Dict{Any, Any}(15 => 10.864133834838867, 20 => 10.144203186035156, 25 => 10.261645078659058, 35 => 10.231170177459717, 30 => 9.907202005386353)\n",
      "gmresprecondicionadoreiniciado_sor_dict[vol] = Dict{Any, Any}(15 => 3.470571994781494, 20 => 3.7219440937042236, 25 => 3.9240269660949707, 35 => 4.231836795806885, 30 => 3.3793351650238037)\n",
      "gmresreiniciado_dict[vol] = Dict{Any, Any}(15 => 166.2877161502838, 20 => 152.81161499023438, 25 => 142.2948489189148, 35 => 136.02918791770935, 30 => 140.45980310440063)\n",
      "gmresprecondicionadoreiniciado_jacobi_dict[vol] = Dict{Any, Any}(15 => 174.35712099075317, 20 => 155.8977530002594, 25 => 146.32128405570984, 35 => 140.93035292625427, 30 => 144.69892692565918)\n",
      "gmresprecondicionadoreiniciado_gaussseidel_dict[vol] = Dict{Any, Any}(15 => 29.42425799369812, 20 => 26.98740291595459, 25 => 26.809104919433594, 35 => 27.279394149780273, 30 => 28.122722148895264)\n",
      "gmresprecondicionadoreiniciado_sor_dict[vol] = Dict{Any, Any}(15 => 7.455132961273193, 20 => 7.234853982925415, 25 => 7.4358861446380615, 35 => 7.990669012069702, 30 => 9.533019065856934)\n"
     ]
    }
   ],
   "source": [
    "# vols = [10,20,30,40,50,60,80,100]\n",
    "# modulos = [15,20,25,30,35]\n",
    "# gmresreiniciado_dict = Dict()\n",
    "# gmresprecondicionadoreiniciado_jacobi_dict = Dict()\n",
    "# gmresprecondicionadoreiniciado_gaussseidel_dict = Dict()\n",
    "# gmresprecondicionadoreiniciado_sor_dict = Dict()\n",
    "# for vol ∈ vols\n",
    "#     A, b = getsystem(vol);\n",
    "#     tiempos_1 = Dict()\n",
    "#     tiempos_2 = Dict()\n",
    "#     tiempos_3 = Dict()\n",
    "#     tiempos_4 = Dict()\n",
    "#     for modulo ∈ modulos\n",
    "#         t_1 = medirtiempo(gmresreiniciado, A, b, modulo)\n",
    "#         tiempos_1[modulo] = t_1\n",
    "#         M_jacobi = Diagonal(A)\n",
    "#         t_2 = medirtiempo(gmresprecondicionadoreiniciado, A, b, [M_jacobi], modulo)\n",
    "#         tiempos_2[modulo] = t_2\n",
    "#         D = Diagonal(A)\n",
    "#         U = triu(A,1) \n",
    "#         L = tril(A,-1)\n",
    "#         M_gauss_seidel_1 = I+(L*inv(D))\n",
    "#         M_gauss_seidel_2 = D+U\n",
    "#         t_3 = medirtiempo(gmresprecondicionadoreiniciado, A, b, [M_gauss_seidel_1, M_gauss_seidel_2], modulo)\n",
    "#         tiempos_3[modulo] = t_3\n",
    "#         α = 1.8\n",
    "#         D = Diagonal(A)\n",
    "#         U = triu(A,1) \n",
    "#         L = tril(A,-1)\n",
    "#         M_sor_1 = I+(α*L*inv(D))\n",
    "#         M_sor_2 = D+α*U\n",
    "#         t_4 = medirtiempo(gmresprecondicionadoreiniciado, A, b, [M_sor_1, M_sor_2], modulo)\n",
    "#         tiempos_4[modulo] = t_4\n",
    "#     end\n",
    "#     gmresreiniciado_dict[vol] = tiempos_1\n",
    "#     @show gmresreiniciado_dict[vol]\n",
    "#     gmresprecondicionadoreiniciado_jacobi_dict[vol] = tiempos_2\n",
    "#     @show gmresprecondicionadoreiniciado_jacobi_dict[vol]\n",
    "#     gmresprecondicionadoreiniciado_gaussseidel_dict[vol] = tiempos_3\n",
    "#     @show gmresprecondicionadoreiniciado_gaussseidel_dict[vol]\n",
    "#     gmresprecondicionadoreiniciado_sor_dict[vol] = tiempos_4\n",
    "#     @show gmresprecondicionadoreiniciado_sor_dict[vol]\n",
    "# end"
   ]
  },
  {
   "cell_type": "code",
   "execution_count": 71,
   "id": "dbc6f8ca",
   "metadata": {
    "collapsed": true
   },
   "outputs": [
    {
     "name": "stdout",
     "output_type": "stream",
     "text": [
      "key = 50\n",
      "Dict{Any, Any}(15 => 4.627002000808716, 20 => 5.456254959106445, 25 => 5.137510061264038, 35 => 5.263601064682007, 30 => 5.207333087921143)\n",
      "key = 20\n",
      "Dict{Any, Any}(15 => 0.06982111930847168, 20 => 0.060105085372924805, 25 => 0.06318402290344238, 35 => 0.08980512619018555, 30 => 0.08107113838195801)\n",
      "key = 10\n",
      "Dict{Any, Any}(15 => 0.003920078277587891, 20 => 0.00439000129699707, 25 => 0.004678010940551758, 35 => 0.0053310394287109375, 30 => 0.004033088684082031)\n",
      "key = 60\n",
      "Dict{Any, Any}(15 => 11.676449060440063, 20 => 12.847965955734253, 25 => 12.274077892303467, 35 => 12.034384965896606, 30 => 12.234254837036133)\n",
      "key = 30\n",
      "Dict{Any, Any}(15 => 0.4771289825439453, 20 => 0.39911389350891113, 25 => 0.396104097366333, 35 => 0.38364195823669434, 30 => 0.41845011711120605)\n",
      "key = 80\n",
      "Dict{Any, Any}(15 => 52.515424966812134, 20 => 52.741132974624634, 25 => 49.37026596069336, 35 => 49.523401975631714, 30 => 48.8986918926239)\n",
      "key = 40\n",
      "Dict{Any, Any}(15 => 1.5194339752197266, 20 => 1.5426478385925293, 25 => 1.4838171005249023, 35 => 1.77829909324646, 30 => 1.7210450172424316)\n",
      "key = 100\n",
      "Dict{Any, Any}(15 => 166.2877161502838, 20 => 152.81161499023438, 25 => 142.2948489189148, 35 => 136.02918791770935, 30 => 140.45980310440063)\n"
     ]
    }
   ],
   "source": [
    "# for key in keys(gmresreiniciado_dict)\n",
    "#     @show key\n",
    "#     println(gmresreiniciado_dict[key])\n",
    "# end"
   ]
  },
  {
   "cell_type": "code",
   "execution_count": 68,
   "id": "0d30899b",
   "metadata": {
    "collapsed": true
   },
   "outputs": [
    {
     "name": "stdout",
     "output_type": "stream",
     "text": [
      "key = 50\n",
      "Dict{Any, Any}(15 => 4.627002000808716, 20 => 5.456254959106445, 25 => 5.137510061264038, 35 => 5.263601064682007, 30 => 5.207333087921143)\n",
      "key = 20\n",
      "Dict{Any, Any}(15 => 0.06982111930847168, 20 => 0.060105085372924805, 25 => 0.06318402290344238, 35 => 0.08980512619018555, 30 => 0.08107113838195801)\n",
      "key = 10\n",
      "Dict{Any, Any}(15 => 0.003920078277587891, 20 => 0.00439000129699707, 25 => 0.004678010940551758, 35 => 0.0053310394287109375, 30 => 0.004033088684082031)\n",
      "key = 60\n",
      "Dict{Any, Any}(15 => 11.676449060440063, 20 => 12.847965955734253, 25 => 12.274077892303467, 35 => 12.034384965896606, 30 => 12.234254837036133)\n",
      "key = 30\n",
      "Dict{Any, Any}(15 => 0.4771289825439453, 20 => 0.39911389350891113, 25 => 0.396104097366333, 35 => 0.38364195823669434, 30 => 0.41845011711120605)\n",
      "key = 80\n",
      "Dict{Any, Any}(15 => 52.515424966812134, 20 => 52.741132974624634, 25 => 49.37026596069336, 35 => 49.523401975631714, 30 => 48.8986918926239)\n",
      "key = 40\n",
      "Dict{Any, Any}(15 => 1.5194339752197266, 20 => 1.5426478385925293, 25 => 1.4838171005249023, 35 => 1.77829909324646, 30 => 1.7210450172424316)\n",
      "key = 100\n",
      "Dict{Any, Any}(15 => 166.2877161502838, 20 => 152.81161499023438, 25 => 142.2948489189148, 35 => 136.02918791770935, 30 => 140.45980310440063)\n"
     ]
    }
   ],
   "source": [
    "# for key in keys(gmresprecondicionadoreiniciado_jacobi_dict)\n",
    "#     @show key\n",
    "#     println(gmresprecondicionadoreiniciado_jacobi_dict[key])\n",
    "# end"
   ]
  },
  {
   "cell_type": "code",
   "execution_count": 69,
   "id": "2a49d0da",
   "metadata": {
    "collapsed": true
   },
   "outputs": [
    {
     "name": "stdout",
     "output_type": "stream",
     "text": [
      "key = 50\n",
      "Dict{Any, Any}(15 => 1.2286109924316406, 20 => 0.9803910255432129, 25 => 1.2229580879211426, 35 => 1.4405369758605957, 30 => 1.665147066116333)\n",
      "key = 20\n",
      "Dict{Any, Any}(15 => 0.024718046188354492, 20 => 0.020373106002807617, 25 => 0.031458139419555664, 35 => 0.020895004272460938, 30 => 0.017122983932495117)\n",
      "key = 10\n",
      "Dict{Any, Any}(15 => 0.002471923828125, 20 => 0.0018279552459716797, 25 => 0.002368927001953125, 35 => 0.0041010379791259766, 30 => 0.003072023391723633)\n",
      "key = 60\n",
      "Dict{Any, Any}(15 => 2.645148992538452, 20 => 2.9626519680023193, 25 => 2.5288119316101074, 35 => 3.256376028060913, 30 => 2.7802867889404297)\n",
      "key = 30\n",
      "Dict{Any, Any}(15 => 0.11976003646850586, 20 => 0.12244415283203125, 25 => 0.10796403884887695, 35 => 0.1751420497894287, 30 => 0.1580212116241455)\n",
      "key = 80\n",
      "Dict{Any, Any}(15 => 10.864133834838867, 20 => 10.144203186035156, 25 => 10.261645078659058, 35 => 10.231170177459717, 30 => 9.907202005386353)\n",
      "key = 40\n",
      "Dict{Any, Any}(15 => 0.40108489990234375, 20 => 0.38446784019470215, 25 => 0.562471866607666, 35 => 0.4264531135559082, 30 => 0.6753849983215332)\n",
      "key = 100\n",
      "Dict{Any, Any}(15 => 29.42425799369812, 20 => 26.98740291595459, 25 => 26.809104919433594, 35 => 27.279394149780273, 30 => 28.122722148895264)\n"
     ]
    }
   ],
   "source": [
    "# for key in keys(gmresprecondicionadoreiniciado_gaussseidel_dict)\n",
    "#     @show key\n",
    "#     println(gmresprecondicionadoreiniciado_gaussseidel_dict[key])\n",
    "# end"
   ]
  },
  {
   "cell_type": "code",
   "execution_count": 70,
   "id": "ffecbf7b",
   "metadata": {
    "collapsed": true
   },
   "outputs": [
    {
     "name": "stdout",
     "output_type": "stream",
     "text": [
      "key = 50\n",
      "Dict{Any, Any}(15 => 0.4073159694671631, 20 => 0.5515949726104736, 25 => 0.5317399501800537, 35 => 0.42917299270629883, 30 => 0.6807730197906494)\n",
      "key = 20\n",
      "Dict{Any, Any}(15 => 0.016109943389892578, 20 => 0.02623605728149414, 25 => 0.016270160675048828, 35 => 0.02901005744934082, 30 => 0.021255016326904297)\n",
      "key = 10\n",
      "Dict{Any, Any}(15 => 0.002460956573486328, 20 => 0.001817941665649414, 25 => 0.0024018287658691406, 35 => 0.003923177719116211, 30 => 0.0030851364135742188)\n",
      "key = 60\n",
      "Dict{Any, Any}(15 => 1.2782108783721924, 20 => 1.3540899753570557, 25 => 1.3758478164672852, 35 => 1.864130973815918, 30 => 1.3920478820800781)\n",
      "key = 30\n",
      "Dict{Any, Any}(15 => 0.058194875717163086, 20 => 0.07891702651977539, 25 => 0.05644392967224121, 35 => 0.0890967845916748, 30 => 0.0719461441040039)\n",
      "key = 80\n",
      "Dict{Any, Any}(15 => 3.470571994781494, 20 => 3.7219440937042236, 25 => 3.9240269660949707, 35 => 4.231836795806885, 30 => 3.3793351650238037)\n",
      "key = 40\n",
      "Dict{Any, Any}(15 => 0.20071792602539062, 20 => 0.194288969039917, 25 => 0.2795679569244385, 35 => 0.38204503059387207, 30 => 0.17657017707824707)\n",
      "key = 100\n",
      "Dict{Any, Any}(15 => 7.455132961273193, 20 => 7.234853982925415, 25 => 7.4358861446380615, 35 => 7.990669012069702, 30 => 9.533019065856934)\n"
     ]
    }
   ],
   "source": [
    "# for key in keys(gmresprecondicionadoreiniciado_sor_dict)\n",
    "#     @show key\n",
    "#     println(gmresprecondicionadoreiniciado_sor_dict[key])\n",
    "# end"
   ]
  }
 ],
 "metadata": {
  "kernelspec": {
   "display_name": "Julia 1.6.5",
   "language": "julia",
   "name": "julia-1.6"
  },
  "language_info": {
   "file_extension": ".jl",
   "mimetype": "application/julia",
   "name": "julia",
   "version": "1.6.5"
  }
 },
 "nbformat": 4,
 "nbformat_minor": 5
}
