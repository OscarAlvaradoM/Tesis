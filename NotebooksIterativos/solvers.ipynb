{
 "cells": [
  {
   "cell_type": "markdown",
   "id": "0da6268f",
   "metadata": {},
   "source": [
    "# Métodos iterativos creados a mano"
   ]
  },
  {
   "cell_type": "code",
   "execution_count": 1,
   "id": "5aa6dfc5",
   "metadata": {},
   "outputs": [],
   "source": [
    "using LinearAlgebra, SparseArrays, BenchmarkTools"
   ]
  },
  {
   "cell_type": "markdown",
   "id": "f919fcbc",
   "metadata": {},
   "source": [
    "## Jacobi secuencial"
   ]
  },
  {
   "cell_type": "code",
   "execution_count": 3,
   "id": "1b0603a5",
   "metadata": {},
   "outputs": [
    {
     "data": {
      "text/plain": [
       "jacobi (generic function with 2 methods)"
      ]
     },
     "execution_count": 3,
     "metadata": {},
     "output_type": "execute_result"
    }
   ],
   "source": [
    "function jacobi(A, b, ϵ = 1e-5)\n",
    "    n = size(A)[1]\n",
    "    x = b\n",
    "    x_bar = zeros(n)\n",
    "\n",
    "    counter = 0\n",
    "    while norm(A*x - b) > ϵ\n",
    "        for i ∈ 1:n\n",
    "            x_bar[i] = 0\n",
    "            for j ∈ 1:n\n",
    "                if j != i\n",
    "                    x_bar[i] = x_bar[i] + A[i,j]*x[j]\n",
    "                end\n",
    "            end\n",
    "            x_bar[i] = (b[i] - x_bar[i])/A[i,i]\n",
    "        end\n",
    "        x = x_bar\n",
    "        counter+=1\n",
    "    end\n",
    "    println(\"Se necesitaron $counter iteraciones para obtener la solución con ϵ = $ϵ\")\n",
    "    return x\n",
    "end"
   ]
  },
  {
   "cell_type": "markdown",
   "id": "4e65c38c",
   "metadata": {},
   "source": [
    "## Jacobi vectorizado"
   ]
  },
  {
   "cell_type": "code",
   "execution_count": 6,
   "id": "16af2b20",
   "metadata": {},
   "outputs": [
    {
     "data": {
      "text/plain": [
       "vectorizedjacobi (generic function with 2 methods)"
      ]
     },
     "execution_count": 6,
     "metadata": {},
     "output_type": "execute_result"
    }
   ],
   "source": [
    "function vectorizedjacobi(A, b, ϵ = 1e-5)\n",
    "    dA = diag(A)\n",
    "    N = - triu(A,1) - tril(A,-1)\n",
    "    x = 0*b;\n",
    "    normres = [];\n",
    "    while norm(A*x - b) > ϵ\n",
    "        x = (N*x + b)./dA\n",
    "    end\n",
    "    return x\n",
    "end"
   ]
  },
  {
   "cell_type": "markdown",
   "id": "9ad587a2",
   "metadata": {},
   "source": [
    "## Jacobi GPU"
   ]
  },
  {
   "cell_type": "code",
   "execution_count": 15,
   "id": "be00b2b1",
   "metadata": {},
   "outputs": [
    {
     "data": {
      "text/plain": [
       "paralleljacobi (generic function with 2 methods)"
      ]
     },
     "execution_count": 15,
     "metadata": {},
     "output_type": "execute_result"
    }
   ],
   "source": [
    "function paralleljacobi(A, b, ϵ = 1e-5)\n",
    "    dA = diag(A);\n",
    "    dA = CuArray(dA)\n",
    "    N = - triu(A,1) - tril(A,-1)\n",
    "    N = CuSparseMatrixCSR(N)\n",
    "    \n",
    "    A = CuSparseMatrixCSR(A)\n",
    "    b = CuArray(b)\n",
    "    x = CUDA.zeros(Float32, size(b))\n",
    "    while norm(A*x - b) > ϵ\n",
    "        x = (N*x + b)./dA\n",
    "    end\n",
    "    return x\n",
    "end"
   ]
  },
  {
   "cell_type": "markdown",
   "id": "ed91aa88",
   "metadata": {},
   "source": [
    "## Gauss-Seidel"
   ]
  },
  {
   "cell_type": "code",
   "execution_count": 64,
   "id": "fccb2d89",
   "metadata": {},
   "outputs": [
    {
     "data": {
      "text/plain": [
       "gauss_seidel (generic function with 2 methods)"
      ]
     },
     "execution_count": 64,
     "metadata": {},
     "output_type": "execute_result"
    }
   ],
   "source": [
    "# function gauss_seidel(A, b, ϵ = 1e-5)\n",
    "#     n = size(A)[1]\n",
    "#     x = b\n",
    "    \n",
    "#     counter = 0\n",
    "#     while norm(A*x - b) > ϵ\n",
    "#         x_next = zeros(n)\n",
    "#         for i = 1:n\n",
    "#             σ = 0\n",
    "#             for j = 1:i-1\n",
    "#                 if j <= i\n",
    "#                     σ = σ + A[i,j]*x_next[j]\n",
    "#                 end\n",
    "#             end\n",
    "#             for j = i+1:n\n",
    "#                 σ = σ + A[i,j]*x[j]\n",
    "#             end\n",
    "#             x_next[i] = (b[i] - σ)/A[i,i]\n",
    "#         end\n",
    "#         x = x_next\n",
    "#         counter+=1\n",
    "#     end\n",
    "#     println(\"Se necesitaron $counter iteraciones para obtener la solución con ϵ = $ϵ\")\n",
    "#     return x\n",
    "# end "
   ]
  },
  {
   "cell_type": "code",
   "execution_count": null,
   "id": "aaa455e7",
   "metadata": {},
   "outputs": [],
   "source": [
    "# A, b = get_A_b(25_000)\n",
    "# t = @benchmark gauss_seidel(A,b,1e-11)"
   ]
  },
  {
   "cell_type": "markdown",
   "id": "e09fb074",
   "metadata": {},
   "source": [
    "## Gauss-Seidel GPU"
   ]
  },
  {
   "cell_type": "markdown",
   "id": "63adcbd8",
   "metadata": {},
   "source": [
    "## Gradiente conjugado"
   ]
  },
  {
   "cell_type": "code",
   "execution_count": 12,
   "id": "0aaac441",
   "metadata": {},
   "outputs": [
    {
     "data": {
      "text/plain": [
       "conjugategradient (generic function with 2 methods)"
      ]
     },
     "execution_count": 12,
     "metadata": {},
     "output_type": "execute_result"
    }
   ],
   "source": [
    "# Algoritmo sacado directo del pseudocódigo\n",
    "function conjugategradient(A, b, ϵ = 1e-5)\n",
    "    x = rand(length(b))\n",
    "    r = b - A*x\n",
    "    ρ = [0, r'*r]\n",
    "    res = b - A*x\n",
    "    p = Array{Float64}(undef, size(r,1), 1)\n",
    "    \n",
    "    counter = 0\n",
    "    while  norm(res) > ϵ\n",
    "        # Aquí iría la condición más chida de precondicionamiento\n",
    "        ρ[1] = ρ[2] # Utilizamos sólo dos actualizaciones hacia atrás, por eso esto sí es una lista.\n",
    "        ρ[2] = r'*r # Aquí cambia cuando es precondicionada\n",
    "        if counter == 0\n",
    "            p = r\n",
    "        else\n",
    "            β = ρ[2]/ρ[1]\n",
    "            p = r + β*p\n",
    "        end\n",
    "        q = A*p\n",
    "        α = ρ[2]/(p'*q)\n",
    "        x = x + α*p\n",
    "        r = r - α*q\n",
    "        res = b - A*x\n",
    "        counter+=1\n",
    "    end\n",
    "    println(\"Se necesitaron $counter iteraciones para obtener la solución con ϵ = $ϵ\")\n",
    "    return x\n",
    "end"
   ]
  },
  {
   "cell_type": "markdown",
   "id": "8fc5ead0",
   "metadata": {},
   "source": [
    "## Gradiente conjugado GPU"
   ]
  },
  {
   "cell_type": "code",
   "execution_count": 14,
   "id": "c8b63b16",
   "metadata": {},
   "outputs": [
    {
     "data": {
      "text/plain": [
       "parallelconjugategradient (generic function with 2 methods)"
      ]
     },
     "execution_count": 14,
     "metadata": {},
     "output_type": "execute_result"
    }
   ],
   "source": [
    "# Algoritmo sacado directo del pseudocódigo\n",
    "function parallelconjugategradient(A, b, ϵ = 1e-5)\n",
    "    A = CuSparseMatrixCSR(A)\n",
    "    b = CuArray{Float32}(b)\n",
    "    x = rand(length(b))\n",
    "    x = CuArray{Float32}(x)\n",
    "    \n",
    "    r = b - A*x\n",
    "    d = r'*r\n",
    "    ρ = [0.0f0, d]\n",
    "    res = b - A*x\n",
    "    p = CuArray{Float32}(undef, size(r,1), 1)\n",
    "    \n",
    "    counter = 0\n",
    "    while  norm(res) > ϵ\n",
    "        # Aquí iría la condición más chida de precondicionamiento\n",
    "        ρ[1] = ρ[2] # Utilizamos sólo dos actualizaciones hacia atrás, por eso esto sí es una lista.\n",
    "        ρ[2] = r'*r # Aquí cambia cuando es precondicionada\n",
    "        if counter == 0\n",
    "            p = r\n",
    "        else\n",
    "            β = ρ[2]/ρ[1]\n",
    "            p = r + β*p\n",
    "        end\n",
    "        q = A*p\n",
    "        α = ρ[2]/(p'*q)\n",
    "        x = x + α*p\n",
    "        r = r - α*q\n",
    "        res = b - A*x\n",
    "        counter+=1\n",
    "    end\n",
    "    println(\"Se necesitaron $counter iteraciones para obtener la solución con ϵ = $ϵ\")\n",
    "    return x\n",
    "end"
   ]
  },
  {
   "cell_type": "markdown",
   "id": "569f5595",
   "metadata": {},
   "source": [
    "---"
   ]
  }
 ],
 "metadata": {
  "kernelspec": {
   "display_name": "Julia 1.6.5",
   "language": "julia",
   "name": "julia-1.6"
  },
  "language_info": {
   "file_extension": ".jl",
   "mimetype": "application/julia",
   "name": "julia",
   "version": "1.6.5"
  }
 },
 "nbformat": 4,
 "nbformat_minor": 5
}
