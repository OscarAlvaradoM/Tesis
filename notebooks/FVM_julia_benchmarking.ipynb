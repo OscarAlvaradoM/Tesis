{
 "cells": [
  {
   "cell_type": "markdown",
   "id": "02a80b94",
   "metadata": {},
   "source": [
    "# Notebook de benchmarking de la Ecuación de Poisson\n",
    "[Documentación](#https://juliaci.github.io/BenchmarkTools.jl/stable/manual/)"
   ]
  },
  {
   "cell_type": "code",
   "execution_count": 1,
   "id": "b1ebd524",
   "metadata": {},
   "outputs": [],
   "source": [
    "using BenchmarkTools, Statistics, Plots"
   ]
  },
  {
   "cell_type": "code",
   "execution_count": 2,
   "id": "96315a5a",
   "metadata": {},
   "outputs": [
    {
     "name": "stderr",
     "output_type": "stream",
     "text": [
      "┌ Info: For saving to png with the Plotly backend PlotlyBase has to be installed.\n",
      "└ @ Plots /home/oscar/.julia/packages/Plots/9C6z9/src/backends.jl:432\n"
     ]
    },
    {
     "data": {
      "text/plain": [
       "Plots.PlotlyBackend()"
      ]
     },
     "execution_count": 2,
     "metadata": {},
     "output_type": "execute_result"
    }
   ],
   "source": [
    "plotly()"
   ]
  },
  {
   "cell_type": "code",
   "execution_count": 3,
   "id": "a2dfd1f3",
   "metadata": {},
   "outputs": [
    {
     "data": {
      "text/plain": [
       "Main.FVM"
      ]
     },
     "execution_count": 3,
     "metadata": {},
     "output_type": "execute_result"
    }
   ],
   "source": [
    "include(\"FVM.jl\")"
   ]
  },
  {
   "cell_type": "markdown",
   "id": "787fb071",
   "metadata": {},
   "source": [
    "## Ecuación de Poisson 3D"
   ]
  },
  {
   "cell_type": "markdown",
   "id": "c315a79d",
   "metadata": {},
   "source": [
    "### Construcción de la malla"
   ]
  },
  {
   "cell_type": "code",
   "execution_count": 4,
   "id": "a0dcd546",
   "metadata": {},
   "outputs": [
    {
     "data": {
      "text/plain": [
       "benchmark_mesh (generic function with 1 method)"
      ]
     },
     "execution_count": 4,
     "metadata": {},
     "output_type": "execute_result"
    }
   ],
   "source": [
    "function benchmark_mesh(vols::Int)\n",
    "    volumes, lengths, centers, centers_and_boundaries, deltas, faces, deltas_faces = FVM.uniform_grid(vols, vols/10)\n",
    "    tags = FVM.init_tags(3, volumes, centers_and_boundaries)\n",
    "    tags_b = FVM.init_tags_boundaries(3, centers_and_boundaries)\n",
    "\n",
    "    FVM.tag_wall(tags, tags_b, [:W, :E, :T, :N, :B], 0, :D)\n",
    "    FVM.tag_wall(tags, tags_b, :S, 100, :D)\n",
    "\n",
    "    mesh = FVM.Mesh(volumes, lengths, centers, centers_and_boundaries, deltas, faces, deltas_faces, tags, tags_b);\n",
    "end"
   ]
  },
  {
   "cell_type": "markdown",
   "id": "d29dc1a9",
   "metadata": {},
   "source": [
    "### Haciendo cuentitas del FVM"
   ]
  },
  {
   "cell_type": "code",
   "execution_count": 11,
   "id": "12baf2c6",
   "metadata": {},
   "outputs": [
    {
     "data": {
      "text/plain": [
       "Γ_constant (generic function with 1 method)"
      ]
     },
     "execution_count": 11,
     "metadata": {},
     "output_type": "execute_result"
    }
   ],
   "source": [
    "function Γ_constant(x::Array, y::Array, z::Array)\n",
    "    Γ = 1000\n",
    "    tensor_Γ = ones(length(x), length(y), length(z))\n",
    "    tensor_Γ = Γ .* tensor_Γ\n",
    "end"
   ]
  },
  {
   "cell_type": "code",
   "execution_count": 12,
   "id": "9aedbfd3",
   "metadata": {},
   "outputs": [
    {
     "data": {
      "text/plain": [
       "benchmark_set_boundary_conditions (generic function with 1 method)"
      ]
     },
     "execution_count": 12,
     "metadata": {},
     "output_type": "execute_result"
    }
   ],
   "source": [
    "function benchmark_set_boundary_conditions(mesh::FVM.Mesh)\n",
    "    coeff = FVM.init_coefficients(mesh)\n",
    "    FVM.set_diffusion(coeff, Γ_constant);\n",
    "    return coeff\n",
    "end"
   ]
  },
  {
   "cell_type": "markdown",
   "id": "384efd0a",
   "metadata": {},
   "source": [
    "### Obteniendo soluciones"
   ]
  },
  {
   "cell_type": "code",
   "execution_count": 19,
   "id": "ce858afa",
   "metadata": {},
   "outputs": [
    {
     "data": {
      "text/plain": [
       "benchmark_solutions (generic function with 1 method)"
      ]
     },
     "execution_count": 19,
     "metadata": {},
     "output_type": "execute_result"
    }
   ],
   "source": [
    "function benchmark_solutions(coeff::FVM.Coefficients_3d)\n",
    "    equation_system = FVM.init_eq_system(coeff)\n",
    "    solution = FVM.get_solution(equation_system);\n",
    "end"
   ]
  },
  {
   "cell_type": "markdown",
   "id": "228183fe",
   "metadata": {},
   "source": [
    "---"
   ]
  },
  {
   "cell_type": "markdown",
   "id": "d9be1685",
   "metadata": {},
   "source": [
    "## Midiendo tiempo más formalmente"
   ]
  },
  {
   "cell_type": "code",
   "execution_count": 29,
   "id": "445a09ad",
   "metadata": {},
   "outputs": [],
   "source": [
    "using CSV, Tables"
   ]
  },
  {
   "cell_type": "code",
   "execution_count": 30,
   "id": "796c6413",
   "metadata": {},
   "outputs": [
    {
     "data": {
      "text/plain": [
       "iteratevolumes (generic function with 1 method)"
      ]
     },
     "execution_count": 30,
     "metadata": {},
     "output_type": "execute_result"
    }
   ],
   "source": [
    "function iteratevolumes(volumes::Array{Int, 1}, times::Int)\n",
    "    for volume ∈ volumes\n",
    "        mesh = benchmark_mesh(volume)\n",
    "        coefficients = benchmark_set_boundary_conditions(mesh)\n",
    "        functions = [benchmark_mesh, benchmark_set_boundary_conditions, benchmark_solutions]\n",
    "        args = [volume, mesh, coefficients]\n",
    "        \n",
    "        for (f, arg) ∈ zip(functions, args)\n",
    "            println(\"Comencé el de $volume volúmenes con la función $f\")\n",
    "            list_of_time_statistics = list_of_statistics(f, arg, volume, times)\n",
    "            writetofile(f, list_of_time_statistics')\n",
    "        end\n",
    "        println(\"Terminé el de $volume volúmenes\")\n",
    "    end\n",
    "end"
   ]
  },
  {
   "cell_type": "code",
   "execution_count": 31,
   "id": "83d92133",
   "metadata": {},
   "outputs": [
    {
     "data": {
      "text/plain": [
       "list_of_statistics (generic function with 1 method)"
      ]
     },
     "execution_count": 31,
     "metadata": {},
     "output_type": "execute_result"
    }
   ],
   "source": [
    "function list_of_statistics(f, arg, volume::Int, times::Int)\n",
    "    time_list, μ, σ = getstatistics(f, arg, times)\n",
    "    time_statistics = [volume, volume^3, μ, σ]\n",
    "    push!(time_statistics, time_list...)\n",
    "    return time_statistics\n",
    "end"
   ]
  },
  {
   "cell_type": "code",
   "execution_count": 32,
   "id": "c59514f2",
   "metadata": {},
   "outputs": [
    {
     "data": {
      "text/plain": [
       "getstatistics (generic function with 1 method)"
      ]
     },
     "execution_count": 32,
     "metadata": {},
     "output_type": "execute_result"
    }
   ],
   "source": [
    "function getstatistics(f, arg, times)\n",
    "    time_list = []\n",
    "    for epoch ∈ 1:(times+1)\n",
    "        t = measuretime(f, arg)\n",
    "        push!(time_list, t)\n",
    "    end\n",
    "    times_without_compiling = time_list[2:end]\n",
    "    μ = mean(times_without_compiling)\n",
    "    σ = std(times_without_compiling)\n",
    "    \n",
    "    return time_list, μ, σ\n",
    "end"
   ]
  },
  {
   "cell_type": "code",
   "execution_count": 33,
   "id": "5a547f95",
   "metadata": {},
   "outputs": [
    {
     "data": {
      "text/plain": [
       "measuretime (generic function with 1 method)"
      ]
     },
     "execution_count": 33,
     "metadata": {},
     "output_type": "execute_result"
    }
   ],
   "source": [
    "function measuretime(f, arg)\n",
    "    start_time = time()\n",
    "    f(arg)\n",
    "    finish_time = time()\n",
    "    t = finish_time - start_time\n",
    "    return t\n",
    "end"
   ]
  },
  {
   "cell_type": "code",
   "execution_count": 34,
   "id": "db44dbb3",
   "metadata": {},
   "outputs": [
    {
     "data": {
      "text/plain": [
       "writetofile (generic function with 1 method)"
      ]
     },
     "execution_count": 34,
     "metadata": {},
     "output_type": "execute_result"
    }
   ],
   "source": [
    "function writetofile(f, list)\n",
    "    file_name = string(f)\n",
    "    CSV.write(\"../benchmarking/$(file_name).csv\", Tables.table(list), delim = ',',append=true)\n",
    "end"
   ]
  },
  {
   "cell_type": "code",
   "execution_count": null,
   "id": "152f2b68",
   "metadata": {
    "scrolled": true
   },
   "outputs": [],
   "source": [
    "volumes = [10,20,30,40,50,60,80,100]\n",
    "times = 10\n",
    "iteratevolumes(volumes, times)"
   ]
  },
  {
   "cell_type": "markdown",
   "id": "ea880cc6",
   "metadata": {},
   "source": [
    "---"
   ]
  },
  {
   "cell_type": "markdown",
   "id": "d3e0ab15",
   "metadata": {},
   "source": [
    "# Sección para hacer el benchmarking y número de iteraciones de diferentes solvers."
   ]
  },
  {
   "cell_type": "code",
   "execution_count": null,
   "id": "13c57900",
   "metadata": {},
   "outputs": [],
   "source": []
  },
  {
   "cell_type": "markdown",
   "id": "cebd9d94",
   "metadata": {},
   "source": [
    "---"
   ]
  }
 ],
 "metadata": {
  "kernelspec": {
   "display_name": "Julia 1.6.5",
   "language": "julia",
   "name": "julia-1.6"
  },
  "language_info": {
   "file_extension": ".jl",
   "mimetype": "application/julia",
   "name": "julia",
   "version": "1.6.5"
  }
 },
 "nbformat": 4,
 "nbformat_minor": 5
}
