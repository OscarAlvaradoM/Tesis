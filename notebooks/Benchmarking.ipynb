{
 "cells": [
  {
   "cell_type": "markdown",
   "metadata": {},
   "source": [
    "# Pruebas del método de volumen finito\n",
    "- Óscar Alvarado\n",
    "- Oscar Esquivel\n",
    "\n",
    "En este notebook se encuentra el desarrollo del método del volumen finito en 1, 2 y 3 dimensiones. Se calculan los tiempos con diferentes solvers."
   ]
  },
  {
   "cell_type": "code",
   "execution_count": 61,
   "metadata": {},
   "outputs": [],
   "source": [
    "import timeit\n",
    "import numpy as np\n",
    "\n",
    "import plotly.express as px\n",
    "import plotly.graph_objects as go\n",
    "import matplotlib.pyplot as plt\n",
    "\n",
    "from scipy.sparse.linalg import spsolve"
   ]
  },
  {
   "cell_type": "markdown",
   "metadata": {},
   "source": [
    "## Índice"
   ]
  },
  {
   "cell_type": "markdown",
   "metadata": {},
   "source": [
    "1. [Mallado](#Mallado)\n",
    "2. [Coeficientes](#Coeficientes)\n",
    "3. [Difusión](#Difusión)\n",
    "4. [Advección](#Advección)\n",
    "5. [Sistema de ecuaciones](#Sistema-de-ecuaciones)\n",
    "6. [Problemas](#Problemas)\n",
    "    - [Una dimensión](#Una-dimensión)\n",
    "    - [Una dimensión con advección](#Una-dimensión-con-advección)\n",
    "    - [Dos dimensiones](#Dos-dimensiones)\n",
    "    - [Ecuación de Poisson](#Ecuación-de-Poisson)\n",
    "    - [Tres dimensiones](#Tres-dimensiones)\n",
    "7. [Benchmarking](#Benchmarking)"
   ]
  },
  {
   "cell_type": "markdown",
   "metadata": {},
   "source": [
    "## Mallado"
   ]
  },
  {
   "cell_type": "code",
   "execution_count": 8,
   "metadata": {},
   "outputs": [],
   "source": [
    "class Mesh():\n",
    "    \"\"\"\n",
    "    Clase del mallado\n",
    "    \"\"\"\n",
    "    def __init__(self, dim, volumes = None, lengths = None):\n",
    "        \"\"\"\n",
    "        Constructor de la clase Malla.\n",
    "        \"\"\"\n",
    "\n",
    "        self.volumes = (1,1,1)\n",
    "        self.lengths = (0.01, 0.01, 0.01)\n",
    "\n",
    "        #----default values for positions and separations of the grid-------------\n",
    "        self.coords = [(0.005,) for _ in range(3)] # Coordenadas de los centros de los volúmenes\n",
    "        self.dominios = [tuple([0.]+[self.coords[i][0]]+[self.lengths[i]]) for i in range(3)]\n",
    "        self.deltas = [(0,) for _ in range(3)]\n",
    "        # Hasta aquí tenemos un cubito\n",
    "\n",
    "        self.__tags = {} # El etiquetado de todos los nodos sin fronteras\n",
    "        self.__tags_fronteras = {} # El etiquetado de las fronteras\n",
    "        \n",
    "        self.dim = dim\n",
    "        if isinstance(volumes, int):  self.volumes = (volumes, 1, 1)\n",
    "        if isinstance(lengths, (int, float)):  self.lengths = (lengths, lengths/10, lengths/10)\n",
    "        \n",
    "        # Si los parámetros son tuplas (pero no necesariamente sería una tupla de 3), arreglamos eso:\n",
    "        if isinstance(volumes, tuple):\n",
    "            faltan = 3 - len(volumes)\n",
    "            self.volumes = volumes + tuple([1 for i in range(faltan)])\n",
    "        if isinstance(lengths, tuple): \n",
    "            faltan = 3 - len(lengths)\n",
    "            self.lengths = lengths + tuple([lengths[0]/10 for i in range(faltan)])\n",
    "        #---------------------------------------------------------------\n",
    "        \n",
    "        # if volumes and lengths are given, initialize values acording to dimension\n",
    "        if (volumes and lengths):       \n",
    "            self.uniform_grid()\n",
    "            self.init_tags()\n",
    "            self.init_tags_fronteras()\n",
    "    \n",
    "    \n",
    "    def uniform_grid(self):\n",
    "        l = np.array(self.lengths) # Para el manejo con numpy\n",
    "        v = np.array(self.volumes)\n",
    "        d = l/v # Separación entre todos los nodos de cada dimensión\n",
    "        start = d/2 # La frontera \"inicial\" del arreglo\n",
    "        stop = l-d/2 # La frontera \"final\" del arreglo\n",
    "        self.coords = [tuple(np.linspace(strt, stp, vol)) \\\n",
    "                       for strt, stp, vol in list(zip(start, stop, v))] # Meshgrid posible\n",
    "        dominios = [np.insert(arr,(0,len(arr)),[0, l[idx]]) \\\n",
    "                    for idx, arr in enumerate(self.coords)] # Coordenadas + fronteras\n",
    "        # Separación entre los nodos (Aquí hay que ver cómo es cuando tenemos un grid \n",
    "        # de 2x1x1 ya cuando se haga el FVM\n",
    "        self.deltas = [self.set_deltas(dom)  if len(self.set_deltas(dom)) != 0 \\\n",
    "                       else (dom[-1],) for dom in dominios]\n",
    "        self.dominios = [tuple(dom) for dom in dominios]\n",
    "        #self.faces = [tuple((np.array(coords[:-1]) + np.array(coords[1:]))/2) for coords in self.coords]\n",
    "        self.faces = [(self.dominios[idx][0],) + tuple((np.array(coords[:-1]) + np.array(coords[1:]))/2) \\\n",
    "                          + (self.dominios[idx][-1],) for idx, coords in enumerate(self.coords)]\n",
    "        self.get_deltas_faces()\n",
    "        self.get_grids()\n",
    "    \n",
    "    \n",
    "    def set_deltas(self, dominio):\n",
    "        \"\"\"\n",
    "        Método para obtener la distancia que hay entre los nodos\n",
    "        \"\"\"\n",
    "        return tuple((dominio[1:]-dominio[:-1])[1:-1])\n",
    "\n",
    "\n",
    "    # Creo que esto no se usará, pero estuvo chida la deducción, lo dejo de todos modos xd\n",
    "    #def totalDomNodes(self):\n",
    "    #    d_1 = 6*self.volumes[0] + 1\n",
    "    #    d_2 = self.volumes[1]*d_1 - self.volumes[0]*(self.volumes[1] - 1)\n",
    "    #    d_3 = self.volumes[2]*d_2 - self.volumes[0]*self.volumes[1]*(self.volumes[2] - 1)\n",
    "    #    return d_3\n",
    "    \n",
    "    def init_tags(self):\n",
    "        \"\"\"\n",
    "        Método que etiqueta las caras adyacentes de cada volumen dependiendo de la geometría. Pone un {} \n",
    "        (diccionario vacío) cuando es una frontera, una 'F' cuando es una cara interna y un 'Off' cuando \n",
    "        no se está contando esa cara por las dimensiones del problema. \n",
    "        \"\"\"\n",
    "        self.__tags = {}\n",
    "        X, Y, Z = self.volumes\n",
    "        for z in range(1,Z+1):\n",
    "            for y in range(1,Y+1):\n",
    "                for x in range(1,X+1):                   \n",
    "                    t = b = n = s = \"Off\"\n",
    "                    e = w = \"F\"\n",
    "                    if x == 1: w = {}\n",
    "                    elif x == X: e = {}\n",
    "                    if self.dim > 1:\n",
    "                        n = s = \"F\"\n",
    "                        if y == 1: n = {}\n",
    "                        elif y == Y: s = {}\n",
    "                        if self.dim == 3:\n",
    "                            t = b = \"F\"\n",
    "                            if z == 1: t = {}\n",
    "                            elif z == Z: b = {}\n",
    "                    self.__tags[f\"{x}-{y}-{z}\"] = {\"E\": e, \"W\": w, \"N\": n, \"S\": s, \"T\": t, \"B\": b, \n",
    "                                             \"coord\": [self.dominios[0][x], self.dominios[1][y], \n",
    "                                                       self.dominios[2][z]]}\n",
    "    \n",
    "    def init_tags_fronteras(self):\n",
    "        \"\"\"\n",
    "        Método para etiquetar las fronteras dependiendo de la dimensión, sólo se les da la propiedad de \n",
    "        existir o no existir.\n",
    "        \"\"\"\n",
    "        self.__tags_fronteras = {}\n",
    "        X, Y, Z = [len(dom) for dom in self.dominios]\n",
    "        for z in range(Z):\n",
    "            for y in range(Y):\n",
    "                for x in range(X):\n",
    "                    t = b = n = s = \"Off\"\n",
    "                    e = w = \"ON\"\n",
    "                    if self.dim > 1: \n",
    "                        n = s = \"ON\"\n",
    "                        if self.dim == 3: t = b = \"ON\"\n",
    "                    # El siguiente cacho de código es para saber si nos encontramos con una frontera\n",
    "                    if x==0 or y==0 or z==0 or x==(X-1) or y==(Y-1) or z==(Z-1):\n",
    "                        var = None\n",
    "                        if y != 0 and y != (Y - 1):\n",
    "                            if z != 0 and z != (Z - 1):\n",
    "                                if x == 0: var = \"W\"; value = w\n",
    "                                elif x == (X - 1): var = \"E\"; value = e\n",
    "                                else: continue\n",
    "                            elif x != 0 and x != (X - 1):\n",
    "                                if z == 0: var = \"T\"; value = t\n",
    "                                elif z == (Z - 1): var = \"B\"; value = b\n",
    "                                else: continue\n",
    "                            else: continue\n",
    "                            self.__tags_fronteras[f\"{x}-{y}-{z}\"] = {\"frontera\": {var: value},\n",
    "                                                 \"coord\": [self.dominios[0][x], self.dominios[1][y],\n",
    "                                                           self.dominios[2][z]], \"cond\": {}} \n",
    "                        elif z != 0 and z != (Z - 1):\n",
    "                            if x != 0 and x != (X - 1):\n",
    "                                if y == 0: var = \"N\"; value = n\n",
    "                                elif y == (Y - 1) : var = \"S\"; value = s\n",
    "                                self.__tags_fronteras[f\"{x}-{y}-{z}\"] = {\"frontera\": {var: value},\n",
    "                                                 \"coord\": [self.dominios[0][x], self.dominios[1][y], \n",
    "                                                           self.dominios[2][z]], \"cond\": {}} \n",
    "                        else: continue\n",
    "            \n",
    "    def tag_wall(self, direction, tag, value):\n",
    "        \"\"\"\n",
    "        Método para etiquetar fronteras dada la dirección, el tipo de condición de frontera y el valor.\n",
    "        \"\"\"\n",
    "        for key in self.__tags.keys():\n",
    "            if isinstance(self.__tags[key][direction], dict):\n",
    "                self.__tags[key][direction][tag] = value\n",
    "        for key in self.__tags_fronteras.keys():\n",
    "            if self.__tags_fronteras[key][\"frontera\"].get(direction) == \"ON\":\n",
    "                self.__tags_fronteras[key][\"cond\"][tag] = value\n",
    "\n",
    "    def tag_wall_dirichlet(self, direction, value, coords=None):\n",
    "        \"\"\"\n",
    "        Método para etiquetar fronteras con condición de Dirichlet dados ciertos valores.\n",
    "        \"\"\"\n",
    "        if coords:\n",
    "            for idx, key in enumerate(coords):\n",
    "                if key in list(self.__tags.keys()):\n",
    "                    self.__tags[key][direction[idx]][\"D\"] = value[idx]\n",
    "                elif key in list(self.__tags_fronteras.keys()):\n",
    "                    self.__tags_fronteras[key][\"cond\"][\"D\"] =  value[idx]\n",
    "        else:\n",
    "            if isinstance(direction, list):\n",
    "                for idx, direct in enumerate(direction):\n",
    "                    self.tag_wall(direct, \"D\", value[idx])\n",
    "            else:\n",
    "                self.tag_wall(direction, \"D\", value)\n",
    "                    \n",
    "    def tag_wall_neumann(self, direction, value, coords=None):\n",
    "        \"\"\"\n",
    "        Método para etiquetar fronteras con condición de Neumann dados ciertos valores.\n",
    "        \"\"\"\n",
    "        if coords:\n",
    "            for idx, key in enumerate(coords):\n",
    "                if key in list(self.__tags.keys()):\n",
    "                    self.__tags[key][direction[idx]][\"N\"] = value[idx]\n",
    "                elif key in list(self.__tags_fronteras.keys()):\n",
    "                    self.__tags_fronteras[key][\"cond\"][\"N\"] = value[idx]\n",
    "        else:\n",
    "            if isinstance(direction, list):\n",
    "                for idx, direct in enumerate(direction):\n",
    "                    self.tag_wall(direct, \"N\", value[idx])\n",
    "            else:\n",
    "                self.tag_wall(direction, \"N\", value)\n",
    "                    \n",
    "    def tag_wall_source(self, direction, value, coords=None):\n",
    "        \"\"\"\n",
    "        Método para etiquetar fronteras con condición de Neumann dados ciertos valores.\n",
    "        \"\"\"\n",
    "        if coords:\n",
    "            for idx, key in enumerate(coords):\n",
    "                if key in list(self.__tags.keys()):\n",
    "                    self.__tags[key][direction[idx]][\"S\"] = value[idx]\n",
    "                elif key in list(self.__tags_fronteras.keys()):\n",
    "                    self.__tags_fronteras[key][\"cond\"][\"S\"] = value[idx]\n",
    "        else:\n",
    "            if isinstance(direction, list):\n",
    "                for idx, direct in enumerate(direction):\n",
    "                    self.tag_wall(direct, \"S\", value[idx])\n",
    "            else:\n",
    "                self.tag_wall(direction, \"S\", value)\n",
    "                \n",
    "                \n",
    "    def tag_wall_insulated(self, direction, coords=None):\n",
    "        \"\"\"\n",
    "        Método para etiquetar fronteras con condición de aislamiento.\n",
    "        \"\"\"\n",
    "        if coords:\n",
    "            for idx, key in enumerate(coords):\n",
    "                if key in list(self.__tags.keys()):\n",
    "                    self.__tags[key][direction[idx]][\"I\"] = None\n",
    "                elif key in list(self.__tags_fronteras.keys()):\n",
    "                    self.__tags_fronteras[key][\"cond\"][\"I\"] = None\n",
    "        else:\n",
    "            if isinstance(direction, list):\n",
    "                for idx, direct in enumerate(direction):\n",
    "                    self.tag_wall(direct, \"I\", None)\n",
    "            else:\n",
    "                self.tag_wall(direction, \"I\", None)\n",
    "                \n",
    "    \n",
    "    def set_dominio(self, dominio, faces=None):\n",
    "        \"\"\"\n",
    "        Método para definir el dominio de estudio dadas unas coordenadas en forma de tupla.\n",
    "        \"\"\"\n",
    "        # Si 'dominio' no es tupla, transforma 'dominio' a la tupla unidimensional (dominio,)\n",
    "        # Tendría que ser una tupla de tuplas/listas/arreglos para que sea válido.\n",
    "        if not isinstance(dominio, (tuple, int, float)): # Creo que si es una lista o un arreglo, no int o float\n",
    "            tupla = (tuple(dominio), self.dominios[1], self.dominios[2])\n",
    "            dominio = tupla\n",
    "        # Asigna los atributos de la mesh correspondientes    \n",
    "        self.dominios = [tuple(dominio[i]) for i in range(3)]\n",
    "        self.coords = [tuple(dominio[i][1:-1]) for i in range(3)]\n",
    "        self.lengths = tuple([dominio[i][-1] for i in range(3)])\n",
    "        self.volumes = tuple([len(dominio[i][1:-1]) for i in range(3)])\n",
    "        #self.deltas = [self.set_deltas(np.array(dominio[i])) for i in range(3)]\n",
    "        self.deltas = [self.set_deltas(np.array(dom))  if len(self.set_deltas(np.array(dom))) != 0 \\\n",
    "                       else (dom[-1],) for dom in self.dominios]\n",
    "        \n",
    "        if faces: \n",
    "            # Si me está pasando una lista (o sea, es de una dimensión)\n",
    "            if isinstance(faces[0], (int, float)):\n",
    "                self.faces = tuple(dominio[0]) + tuple(faces) + tuple(dominio[-1])\n",
    "            else: # Suponemos aquí que nos está pasando una lista de listas (o tupla de tuplas)\n",
    "                for idx, face_1dim in enumerate(faces):\n",
    "                    faces[idx] = (dominio[idx][0], ) + tuple(face_1dim) + (dominio[idx][-1], )\n",
    "                self.faces = faces\n",
    "        else: \n",
    "            self.faces = [(self.dominios[idx][0],) + tuple((np.array(coords[:-1]) + np.array(coords[1:]))/2) \\\n",
    "                          + (self.dominios[idx][-1],) for idx, coords in enumerate(self.coords)]\n",
    "        self.get_deltas_faces()\n",
    "        self.init_tags()\n",
    "        self.init_tags_fronteras()\n",
    "        self.get_grids()\n",
    "    \n",
    "    def get_grid_deltas_dominios(self, axis=0, orientation=\"E\", reverse=False):\n",
    "        deltas_dominios = []\n",
    "        self.grid_deltas_dominios = np.array([])\n",
    "        dominios = [np.array(dom) for dom in self.dominios]\n",
    "        coords = [np.array(coord) for coord in self.coords]\n",
    "        for direction in range(3):\n",
    "            if direction != axis:\n",
    "                if len(dominios[direction]) == 3:\n",
    "                    deltas_dominios.append(dominios[direction][1])\n",
    "                else:\n",
    "                    deltas_dominios.append(coords[direction])\n",
    "            else:\n",
    "                deltas_dominios.append(dominios[direction][1:] - dominios[direction][:-1])\n",
    "        if orientation == \"E\" or orientation == \"S\" or orientation == \"B\":\n",
    "            if reverse:\n",
    "                deltas_dominios[axis] = deltas_dominios[axis][:-1]\n",
    "            else:\n",
    "                deltas_dominios[axis] = deltas_dominios[axis][1:]\n",
    "        else:\n",
    "            if reverse:\n",
    "                deltas_dominios[axis] = deltas_dominios[axis][1:]\n",
    "            else:\n",
    "                deltas_dominios[axis] = deltas_dominios[axis][:-1]\n",
    "        self.grid_deltas_dominios = np.meshgrid(deltas_dominios[0], deltas_dominios[1], deltas_dominios[2], \n",
    "                                                indexing='ij')\n",
    "        return self.grid_deltas_dominios\n",
    "    \n",
    "    def get_grid_deltas_faces(self, axis=0, orientation=\"E\", reverse=False):\n",
    "        deltas_faces = []\n",
    "        self.grid_deltas_faces = np.array([])\n",
    "        faces = [np.array(face) for face in self.faces]\n",
    "        dominios = [np.array(dominio) for dominio in self.dominios]\n",
    "        coords = [np.array(coord) for coord in self.coords]\n",
    "        for direction in range(3):\n",
    "            if direction != axis:\n",
    "                if len(dominios[direction]) == 3:\n",
    "                    deltas_faces.append(dominios[direction][1])\n",
    "                else:\n",
    "                    deltas_faces.append(coords[direction])\n",
    "            else:\n",
    "                deltas_faces.append(faces[direction][1:] - faces[direction][:-1])\n",
    "        \n",
    "        self.grid_deltas_faces = np.meshgrid(deltas_faces[0], deltas_faces[1], deltas_faces[2], \n",
    "                                                indexing='ij')\n",
    "        return self.grid_deltas_faces\n",
    "    \n",
    "    \n",
    "    def get_deltas_faces(self):\n",
    "        self.deltas_faces = []\n",
    "        faces = [np.array(caras) for caras in self.faces]\n",
    "        dominio = [np.array(doms) for doms in self.dominios]\n",
    "        for direction in range(3):\n",
    "            self.deltas_faces.append(faces[direction][1:] - faces[direction][:-1])\n",
    "            \n",
    "    def get_grids(self):\n",
    "        self.grid_deltas = np.array([])\n",
    "        self.grid_faces = np.array([])\n",
    "        self.grid_coords = np.array([])\n",
    "        deltas = self.deltas\n",
    "        coords = self.coords\n",
    "        faces = self.faces\n",
    "        self.grid_deltas = np.meshgrid(deltas[0], deltas[1], deltas[2], indexing='ij')\n",
    "        self.grid_coords = np.meshgrid(coords[0], coords[1], coords[2], indexing='ij')\n",
    "        self.grid_faces = np.meshgrid(faces[0], faces[1], faces[2], indexing='ij')\n",
    "                \n",
    "    \n",
    "    def info(self):\n",
    "        \"\"\"\n",
    "        Método para imprimir información relevante del mallado\n",
    "        \"\"\"\n",
    "        print('=====================================')\n",
    "        print('     MESH INFORMATION   ')\n",
    "        print('=====================================')\n",
    "        print(\"\\nMesh type: Cartesian\")\n",
    "        print(f\"Number of dimensions of mesh: {self.dim}\")\n",
    "        variables = \"X Y Z\".split()\n",
    "        for idx in range(self.dim):\n",
    "            var = variables[idx]\n",
    "            print(f\"\\n ----- {var}-axis -----\")\n",
    "            print(f\"Number of {var.lower()} volumes: {self.volumes[idx]}\")\n",
    "            print(f\"Lenght {var.lower()} of problem domain: {self.lengths[idx]}\")\n",
    "            print(f\"List of {var.lower()} positions of volumes: \\n{self.coords[idx]}\")\n",
    "            print(f\"List of {var.lower()} positions of domain nodes: \\n{self.dominios[idx]}\")\n",
    "            \n",
    "            \n",
    "    def draw(self):\n",
    "        \"\"\"\n",
    "        Método para graficar la malla. Este método se invoca hasta que se hayan inizializado todas las condiciones\n",
    "        de frontera.\n",
    "        \"\"\"\n",
    "        # Graficamos las fronteras, sean o no activas\n",
    "        dic_colors = {\"D\": \"darkturquoise\", \"N\": \"red\", \"S\": \"magenta\", \"Off\": \"white\", \"I\": \"gray\"}\n",
    "        condiciones = [list(self.__tags_fronteras[key][\"cond\"].keys())[0] \\\n",
    "                       if list(self.__tags_fronteras[key][\"frontera\"].values())[0] == \"ON\" \\\n",
    "                       else \"Off\" for key in list(self.__tags_fronteras.keys())]\n",
    "        colores = [dic_colors[cond] for cond in condiciones]\n",
    "        # Obtenemos las coordenadas de las fronteras y de los nodos internos.\n",
    "        coordenadas = [] # Aquí se pondrán las coordenadas de las fronteras\n",
    "        coord = [] # Aquí las coordendas de los nodos internos\n",
    "        for i in range(3):\n",
    "            coordenadas.append([self.__tags_fronteras[key][\"coord\"][i] \\\n",
    "                                for key in list(self.__tags_fronteras.keys())])\n",
    "            coord.append([self.__tags[key][\"coord\"][i] for key in list(self.__tags.keys())])\n",
    "        fig = go.Figure(data = go.Scatter3d(x = coordenadas[0], y = coordenadas[1], z = coordenadas[2],\n",
    "                                          mode = 'markers', marker = dict(color = colores, \n",
    "                                                                          symbol = \"square\", size = 2)))\n",
    "        fig.add_trace(go.Scatter3d(x = coord[0], y = coord[1], z = coord[2],\n",
    "                                              mode = 'markers', marker = dict(color = \"blue\", size = 5)))\n",
    "        fig.show()\n",
    "\n",
    "\n",
    "    def get_area(self, direction = 0, extended=False):\n",
    "        \"\"\"\n",
    "        Método que regresa las áreas del volumen en la dirección indicada\n",
    "        \"\"\"\n",
    "        perpendicular = [i for i in range(3) if i != direction]\n",
    "        num_fronteras = self.volumes[direction]\n",
    "        #if inplace:\n",
    "        #    arreglo = [self.deltas_faces[idx][1:-1] if idx in perpendicular else np.ones(num_fronteras) \\\n",
    "        #          for idx in range(3)]\n",
    "        #else:\n",
    "        arreglo = [self.deltas_faces[idx] if idx in perpendicular else np.ones(num_fronteras) \\\n",
    "                  for idx in range(3)]\n",
    "        if extended:\n",
    "            arreglo = [self.deltas_faces[idx] if idx in perpendicular else np.ones(num_fronteras+1) \\\n",
    "                  for idx in range(3)]\n",
    "        areas_grid = np.meshgrid(arreglo[0], arreglo[1], arreglo[2], indexing='ij')\n",
    "        \n",
    "        return areas_grid[perpendicular[0]]*areas_grid[perpendicular[1]]\n",
    "    \n",
    "    # Aquí deberíamos definir las áreas por caras y no una malla de áreas equidistantes\n",
    "    #def get_area_with_direction(self, direction = 0, orientation = \"W\"):\n",
    "        \n",
    "    \n",
    "    def stag_def(self, direct=0):\n",
    "        \"\"\"\n",
    "        \n",
    "        \"\"\"\n",
    "        # Lo que antes eran los dominios en un eje, ahora serán las caras. En los demás ejes queda igual.\n",
    "        clean = lambda x: list(x[2:-2])\n",
    "        clean_2 = lambda x: list(x[1:-1])\n",
    "        caras = [clean(self.dominios[idx]) if direct==idx else clean_2(self.faces[idx]) for idx in range(3)]\n",
    "        \n",
    "        # Lo que antes eran las caras en un eje, ahora serán los dominios. En los demás ejes queda igual.\n",
    "        # Sólo movemos el eje del que estemos creando el mallado escalonado\n",
    "        dominio = [self.faces[idx] if direct==idx else self.dominios[idx] for idx in range(3)]\n",
    "        return tuple(dominio), tuple(caras)"
   ]
  },
  {
   "cell_type": "markdown",
   "metadata": {},
   "source": [
    "[Volver al índice](#Índice)"
   ]
  },
  {
   "cell_type": "markdown",
   "metadata": {},
   "source": [
    "## Coeficientes"
   ]
  },
  {
   "cell_type": "code",
   "execution_count": 9,
   "metadata": {},
   "outputs": [],
   "source": [
    "class Coefficients():\n",
    "    \"\"\"\n",
    "    Class that defines the coefficients that every node needs to form it's\n",
    "    discrete equation that represent the diferential equation. All the coefficients\n",
    "    needed for a scalar quantity (also called variable or unkown) are contained\n",
    "    in one object (instance of this class).\n",
    "    \"\"\"    \n",
    "    def __init__(self, mesh):\n",
    "        self.dim = mesh.dim\n",
    "        self._mesh = mesh\n",
    "        self.vols = mesh.volumes\n",
    "        \n",
    "        self.aP = np.zeros(self.vols)\n",
    "        self.aW = np.zeros(self.vols)\n",
    "        self.aE = np.zeros(self.vols)\n",
    "        self.Su = np.zeros(self.vols)\n",
    "        self.Sp_a = np.zeros(self.vols)\n",
    "        self.Sp_d = np.zeros(self.vols)\n",
    "        self.bW = np.zeros(self.vols) # Aquí la contribuciones de la serie de Taylor para la condición de frontera\n",
    "        self.bE = np.zeros(self.vols)\n",
    "        self.aWW = np.zeros(self.vols) # Aquí depositaremos lo de la advección a segundo orden\n",
    "        self.aEE = np.zeros(self.vols)\n",
    "\n",
    "        if self.dim > 1:\n",
    "            self.aN = np.zeros(self.vols)\n",
    "            self.aS = np.zeros(self.vols)\n",
    "            self.bN = np.zeros(self.vols) \n",
    "            self.bS = np.zeros(self.vols)\n",
    "            self.aNN = np.zeros(self.vols)\n",
    "            self.aSS = np.zeros(self.vols)\n",
    "        if self.dim == 3:\n",
    "            self.aT = np.zeros(self.vols)\n",
    "            self.aB = np.zeros(self.vols)\n",
    "            self.bT = np.zeros(self.vols) \n",
    "            self.bB = np.zeros(self.vols)\n",
    "            self.aTT = np.zeros(self.vols)\n",
    "            self.aBB = np.zeros(self.vols)\n",
    "        \n",
    "    def set_pressure_gradient(self,pressure_star,direction=0,strategy=\"b\"):\n",
    "        \"\"\"\n",
    "        Método que inicializa los coeficientes específicos de la velocidad\n",
    "        \"\"\"\n",
    "        sign = 1\n",
    "        if strategy==\"f\": sign = -1\n",
    "        mesh = self._mesh\n",
    "        self.pressure_star = pressure_star\n",
    "        self.strategy = strategy\n",
    "        \n",
    "        # Calculando áreas importantes\n",
    "        areas = mesh.get_area(direction=direction)\n",
    "        grad_presion = -sign*np.diff(pressure_star, axis=direction)\n",
    "        \n",
    "        self.Su -= grad_presion*areas\n",
    "        \n",
    "    def get_continuity_coeffs(self, meshes_velocidad, velocity_star, pressure_star, ds):\n",
    "        mesh_presion = self._mesh\n",
    "        tupla_extra = lambda x: tuple([0 if x!=i else 2 for i in range(3)])\n",
    "        general_coeffs = [np.zeros(np.array(mesh.volumes) + np.array(tupla_extra(idx))) \\\n",
    "                              for idx,mesh in enumerate(meshes_velocidad)]\n",
    "        b = general_coeffs.copy()\n",
    "        areas = [mesh.get_area(direction=idx) for idx, mesh in enumerate(meshes_velocidad)]\n",
    "        areas_ext = [mesh_presion.get_area(direction=idx,extended=True) \\\n",
    "                     for idx,_ in enumerate(meshes_velocidad)]\n",
    "        for idx, area in enumerate(areas):\n",
    "            volumes = meshes_velocidad[idx].volumes\n",
    "            slice_b = [slice(None,None) if idx!=i else slice(1, self.vols+1) for i, self.vols in enumerate(volumes)]\n",
    "            ### Aquí hay que moverle si queremos que la densidad cambie con la posición.\n",
    "            general_coeffs[idx][slice_b[0], slice_b[1], slice_b[2]] = area*ds[idx]*ρ\n",
    "            ### Aquí creo que se podrían usar las áreas nomás y con el mismo enfoque de arriba\n",
    "            ### pero no sé cómo funcione cuando las velocidades de las paredes no sean cero.\n",
    "            ### Es decir, cuando son normales y no cizallantes como en este caso \n",
    "            b[idx] = areas_ext[idx]*velocity_star[idx]*ρ\n",
    "        self.aE -= general_coeffs[0][1:,:,:]\n",
    "        self.aW -= general_coeffs[0][:-1,:,:]\n",
    "        bE = b[0][1:,:,:]\n",
    "        bW = b[0][:-1,:,:]\n",
    "        self.aP -= self.aE + self.aW\n",
    "        self.Su += -bE + bW\n",
    "        if len(general_coeffs) > 1:\n",
    "            self.aS -= general_coeffs[1][:,1:,:]\n",
    "            self.aN -= general_coeffs[1][:,:-1,:]\n",
    "            bS = b[1][:,1:,:]\n",
    "            bN = b[1][:,:-1,:]\n",
    "            self.aP -= self.aN + self.aS\n",
    "            self.Su += -bN + bS   \n",
    "        if len(general_coeffs) == 3:\n",
    "            self.aB -= general_coeffs[2][:,:,1:]\n",
    "            self.aT -= general_coeffs[2][:,:,:-1]\n",
    "            bB = b[2][:,:,1:]\n",
    "            bT = b[2][:,:,:-1]\n",
    "            self.aP -= self.aT + self.aB\n",
    "            self.Su += -bT + bB   \n",
    "\n",
    "    def set_diffusion(self,gamma,velocity_direction=None,pressure_mesh=None):\n",
    "        \"\"\"\n",
    "        \n",
    "        \"\"\"\n",
    "        \n",
    "        dim = self.dim\n",
    "        mesh = self._mesh\n",
    "        diffusion = Diffusion(mesh, gamma)\n",
    "        west_diff, sp_w, su_w, bound_term_w = diffusion.get_diffusion_coef(\"W\",velocity_direction,\n",
    "                                                                           pressure_mesh)\n",
    "        east_diff, sp_e, su_e, bound_term_e = diffusion.get_diffusion_coef(\"E\",velocity_direction,\n",
    "                                                                           pressure_mesh)\n",
    "        self.aW -= west_diff\n",
    "        self.aE -= east_diff\n",
    "        self.bW -= bound_term_w\n",
    "        self.bE -= bound_term_e\n",
    "        self.Sp_d -= sp_e + sp_w\n",
    "        self.Su += su_e + su_w\n",
    "        self.aP -= -east_diff - west_diff\n",
    "        # Las siguientes dos están al revés porque la frontera sólo afecta al coeficiente anterior \n",
    "        # por la forma en que hacemos la proximación con la serie de Taylor. \n",
    "        self.aE += self.bW \n",
    "        self.aW += self.bE\n",
    "        if dim > 1:\n",
    "            north_diff, sp_n, su_n, bound_term_n = diffusion.get_diffusion_coef(\"N\",velocity_direction,\n",
    "                                                                                pressure_mesh)\n",
    "            south_diff, sp_s, su_s, bound_term_s = diffusion.get_diffusion_coef(\"S\",velocity_direction,\n",
    "                                                                                pressure_mesh)\n",
    "            self.aN -= north_diff\n",
    "            self.aS -= south_diff\n",
    "            self.bN -= bound_term_n\n",
    "            self.bS -= bound_term_s\n",
    "            self.Sp_d -= sp_n + sp_s\n",
    "            self.Su += su_n + su_s\n",
    "            self.aP -= -north_diff - south_diff\n",
    "            self.aS += self.bN\n",
    "            self.aN += self.bS\n",
    "        if dim == 3:\n",
    "            top_diff, sp_t, su_t, bound_term_t = diffusion.get_diffusion_coef(\"T\",velocity_direction,\n",
    "                                                                              pressure_mesh)\n",
    "            bottom_diff, sp_b, su_b, bound_term_b = diffusion.get_diffusion_coef(\"B\",velocity_direction,\n",
    "                                                                                 pressure_mesh)\n",
    "            self.aT -= top_diff\n",
    "            self.aB -= bottom_diff\n",
    "            self.bT -= bound_term_t\n",
    "            self.bB -= bound_term_b\n",
    "            self.Sp_d -= sp_t + sp_b\n",
    "            self.Su += su_t + su_b\n",
    "            self.aP -= -top_diff - bottom_diff\n",
    "            self.aB += self.bT\n",
    "            self.aT += self.bB\n",
    "        self.aP -= self.Sp_d\n",
    "        \n",
    "    def set_advection(self,rho,vel,scheme='upwind1',staggered=False,velocity_direction=None,\n",
    "                       pressure_mesh=None,stgy=\"b\"):\n",
    "        \"\"\"\n",
    "        \n",
    "        \"\"\"\n",
    "        \n",
    "        dim = self.dim\n",
    "        mesh = self._mesh\n",
    "        advection = Advection(mesh, rho, vel, scheme)\n",
    "        west_c_adv, west_f1_adv, west_f2_adv, west_b1_adv, west_b2_adv, sp_w, su_w, bound_term_w = \\\n",
    "            advection.get_advection_coef(\"W\", staggered, velocity_direction, vel,pressure_mesh, stgy)\n",
    "        east_c_adv, east_f1_adv, east_f2_adv, east_b1_adv, east_b2_adv, sp_e, su_e, bound_term_e = \\\n",
    "            advection.get_advection_coef(\"E\", staggered, velocity_direction, vel,pressure_mesh, stgy)\n",
    "        self.aE += east_f1_adv\n",
    "        self.aW -= west_b1_adv\n",
    "        self.bW -= bound_term_w\n",
    "        self.bE -= bound_term_e\n",
    "        self.aP += -west_c_adv + east_c_adv\n",
    "        self.Sp_a += sp_w + sp_e\n",
    "        self.Su -= su_w + su_e\n",
    "        self.aW += self.bW\n",
    "        self.aE += self.bE\n",
    "        if dim > 1:\n",
    "            north_c_adv, north_f1_adv, north_f2_adv, north_b1_adv, north_b2_adv, sp_n, su_n, bound_term_n = \\\n",
    "                advection.get_advection_coef(\"N\", staggered, velocity_direction, vel,pressure_mesh, stgy)\n",
    "            south_c_adv, south_f1_adv, south_f2_adv, south_b1_adv, south_b2_adv, sp_s, su_s, bound_term_s = \\\n",
    "                advection.get_advection_coef(\"S\", staggered, velocity_direction, vel,pressure_mesh, stgy)\n",
    "            self.aN += north_f1_adv\n",
    "            self.aS -= south_b1_adv\n",
    "            self.bN -= bound_term_n\n",
    "            self.bS -= bound_term_s\n",
    "            self.aP += -north_c_adv + south_c_adv\n",
    "            self.Sp_a += sp_n + sp_s\n",
    "            self.Su -= su_n + su_s\n",
    "            self.aN += self.bN\n",
    "            self.aS += self.bS\n",
    "        if dim == 3:\n",
    "            top_c_adv, top_f1_adv, top_f2_adv, top_b1_adv, top_b2_adv, sp_t, su_t, bound_term_t = \\\n",
    "                advection.get_advection_coef(\"T\", staggered, velocity_direction, vel,pressure_mesh, stgy)\n",
    "            bottom_c_adv, bottom_f1_adv, bottom_f2_adv, bottom_b1_adv, bottom_b2_adv, sp_b, su_b, bound_term_b = \\\n",
    "                advection.get_advection_coef(\"B\", staggered, velocity_direction, vel,pressure_mesh, stgy)\n",
    "            self.aT += top_f1_adv\n",
    "            self.aB -= bottom_b1_adv\n",
    "            self.bT -= bound_term_t\n",
    "            self.bB -= bound_term_b\n",
    "            self.aP += -top_c_adv + bottom_c_adv\n",
    "            self.Sp_a += sp_t + sp_b\n",
    "            self.Su -= su_t + su_b\n",
    "            self.aT += self.bT\n",
    "            self.aB += self.bB\n",
    "        self.aP += self.Sp_a\n",
    "        \n",
    "    def get_Su(self):\n",
    "        return self.Su\n",
    "    \n",
    "    def get_Sp_d(self):\n",
    "        return self.Sp_d\n",
    "    \n",
    "    def get_Sp_a(self):\n",
    "        return self.Sp_a\n",
    "    \n",
    "    def get_aP(self):\n",
    "        return self.aP\n",
    "    \n",
    "    def get_aE(self):\n",
    "        return self.aE\n",
    "    \n",
    "    def get_aW(self):\n",
    "        return self.aW\n",
    "\n",
    "    def get_aN(self):\n",
    "        return self.aN\n",
    "\n",
    "    def get_aS(self):\n",
    "        return self.aS\n",
    "\n",
    "    def get_aT(self):\n",
    "        return self.aT\n",
    "\n",
    "    def get_aB(self):\n",
    "        return self.aB\n",
    "    \n",
    "    def get_bE(self):\n",
    "        return self.bE\n",
    "    \n",
    "    def get_bW(self):\n",
    "        return self.bW\n",
    "\n",
    "    def get_bN(self):\n",
    "        return self.bN\n",
    "\n",
    "    def get_bS(self):\n",
    "        return self.bS\n",
    "\n",
    "    def get_bT(self):\n",
    "        return self.bT\n",
    "\n",
    "    def get_bB(self):\n",
    "        return self.bB\n",
    "    \n",
    "    def add_source(self, source):\n",
    "        \"\"\"\n",
    "        \n",
    "        \"\"\"\n",
    "        x, y, z = np.meshgrid(self._mesh.deltas_faces[0],self._mesh.deltas_faces[1],\n",
    "                              self._mesh.deltas_faces[2], indexing='ij')\n",
    "        self.vols = x*y*z\n",
    "        # Si es una constante\n",
    "        if isinstance(source, (int, float)):\n",
    "            self.Su += source*self.vols\n",
    "            \n",
    "        # Si es una función\n",
    "        else:\n",
    "            # Aquí se hacen como coordenadas radiales\n",
    "            crds = np.sqrt(np.sum(np.array([np.array(c) for c in self._mesh.coords if len(c) > 1])**2, \n",
    "                                  axis = 0))\n",
    "            self.Su += source(crds).reshape(self._mesh.volumes)*self.vols"
   ]
  },
  {
   "cell_type": "markdown",
   "metadata": {},
   "source": [
    "[Volver al índice](#Índice)"
   ]
  },
  {
   "cell_type": "markdown",
   "metadata": {},
   "source": [
    "## Difusión"
   ]
  },
  {
   "cell_type": "code",
   "execution_count": 10,
   "metadata": {},
   "outputs": [],
   "source": [
    "class Diffusion():\n",
    "    \"\"\"\n",
    "    \n",
    "    \"\"\"\n",
    "    \n",
    "    def __init__(self, mesh, Γ):\n",
    "        \"\"\" \n",
    "        \n",
    "        \"\"\"\n",
    "        self._mesh = mesh\n",
    "        self._Γconstante = 0.\n",
    "        self._Γ = None\n",
    "        \n",
    "        if isinstance(Γ, (int,float)):\n",
    "            self._Γconstante = Γ * np.ones(self._mesh.volumes)\n",
    "            self._Γ = self.funcion_const\n",
    "        # Se asume que es una función en este caso\n",
    "        else:\n",
    "            self._Γ = Γ\n",
    "          \n",
    "    def funcion_const(self, x, y, z):\n",
    "        return self._Γconstante\n",
    "    \n",
    "    def get_diffusion_coef(self,direction,velocity_direction=None,pressure_mesh=None,stgy=\"b\"):\n",
    "        \"\"\"\n",
    "        \n",
    "        \"\"\"\n",
    "        self.direction = direction\n",
    "        self.velocity_direction = velocity_direction\n",
    "        self.pressure_mesh = pressure_mesh\n",
    "        self.stgy = stgy\n",
    "        what_dimension, limite = 0,0\n",
    "        if direction in [\"E\", \"S\", \"B\"]: limite=-1\n",
    "        if direction in [\"N\", \"S\"]: what_dimension=1\n",
    "        elif direction in [\"T\", \"B\"]: what_dimension = 2\n",
    "        \n",
    "        if velocity_direction != None:\n",
    "            if velocity_direction != what_dimension:\n",
    "                return self.get_basic_diffusion_coef(what_dimension, limite)\n",
    "            else:\n",
    "                return self.get_staggered_diffusion_coef(what_dimension, limite)\n",
    "        else:\n",
    "            return self.get_basic_diffusion_coef(what_dimension, limite)\n",
    "        \n",
    "################################################################################################################\n",
    "        \n",
    "    def get_staggered_diffusion_coef(self, what_dimension, limite):\n",
    "        direction = self.direction\n",
    "        mesh = self._mesh\n",
    "        faces = mesh.faces[what_dimension]\n",
    "        x, y, z = np.meshgrid(mesh.coords[0], mesh.coords[1], mesh.coords[2])\n",
    "        δ_d_grid = mesh.get_grid_deltas_faces(axis=what_dimension, orientation=direction)\n",
    "        δ = δ_d_grid[what_dimension]\n",
    "        areas = mesh.get_area(direction=what_dimension)\n",
    "        boundary_area = areas.copy()\n",
    "        \n",
    "        # Para obtener los coeficientes de las caras centrales\n",
    "        diff = self.get_interior_terms(x, y, z, direction, faces, what_dimension, limite, areas, δ)\n",
    "        \n",
    "        self.condition_mask, self.condition_mask_type = self.get_mask_boundaries(mesh)\n",
    "        # Aquí obtenemos Sp (que son las fuentes internas)\n",
    "        # Parece que estas siempre van. Es la contribución de la frontera que no va directamente relacionado\n",
    "        # con la condición de la frontera. En la matriz del libro, son los extremos de la diagonal principal.\n",
    "        Γ = self.Γ\n",
    "        bound_term_c, bound_term_f = self.get_boundary_terms(what_dimension, Γ, boundary_area, δ, stag = True)\n",
    "        sp = bound_term_c # Esto porque sólo contribuye a volumen central y no a alguno que lo rodee.\n",
    "        su = bound_term_f\n",
    "        # No tenemos término Su porque aquí no se tienen contribuciones de la frontera en una aproximación\n",
    "        # por serie de taylor, sino que se tiene la contribución directamente.\n",
    "        return diff, sp, -su, 0\n",
    "    \n",
    "################################################################################################################\n",
    "    \n",
    "    def get_basic_diffusion_coef(self, what_dimension, limite):\n",
    "        direction = self.direction\n",
    "        mesh = self._mesh\n",
    "        faces = mesh.faces[what_dimension]\n",
    "        x, y, z = np.meshgrid(mesh.coords[0], mesh.coords[1], mesh.coords[2])\n",
    "        δ_d_grid = mesh.get_grid_deltas_faces(axis=what_dimension, orientation=direction)\n",
    "        δ = δ_d_grid[what_dimension]\n",
    "        areas = mesh.get_area(direction=what_dimension)\n",
    "        boundary_area = areas.copy()\n",
    "        \n",
    "        # Para obtener los coeficientes de las caras centrales\n",
    "        diff = self.get_interior_terms(x, y, z, direction, faces, what_dimension, limite, areas, δ)\n",
    "        \n",
    "        self.condition_mask, self.condition_mask_type = self.get_mask_boundaries(mesh)\n",
    "        # Aquí obtenemos Sp (que son las fuentes internas)\n",
    "        # Parece que estas siempre van. Es la contribución de la frontera que no va directamente relacionado\n",
    "        # con la condición de la frontera. En la matriz del libro, son los extremos de la diagonal principal.\n",
    "        Γ = self.Γ\n",
    "        bound_term_c, bound_term_f = self.get_boundary_terms(what_dimension, Γ, boundary_area, δ)\n",
    "        sp = bound_term_c # Esto porque sólo contribuye a volumen central y no a alguno que lo rodee.\n",
    "        \n",
    "        # Aquí obtenemos Su (que son las condition_maskes de frontera)\n",
    "        # En la matriz del libro son los extremos de las diagonales que no son la principal.\n",
    "        su = self.get_boundary_condition_mask(what_dimension, limite, boundary_area, δ)\n",
    "        return diff, sp, su, bound_term_f\n",
    "    \n",
    "    def get_interior_terms(self, x, y, z, direction, faces, what_dimension, limite, areas, δ):\n",
    "        λ = lambda x, d: x[1:] if d in [\"E\",\"S\",\"B\"] else x[:-1]\n",
    "        coord = [var if i!=what_dimension else λ(faces, direction) for (i, var) in enumerate([x,y,z])]\n",
    "        Γ = self._Γ(coord[0], coord[1], coord[2])\n",
    "        coord_l = [slice(None,None) if var!=what_dimension else slice(None,-1) for var in range(3)]\n",
    "        coord_r = [slice(None,None) if var!=what_dimension else slice(1,None) for var in range(3)]\n",
    "        # Aquí se obtiene el promedio de las Γ's\n",
    "        Γ_mean = (Γ[coord_l[0], coord_l[1], coord_l[2]] + Γ[coord_r[0], coord_r[1], coord_r[2]])*0.5\n",
    "        Γ_bar = np.zeros(Γ.shape)\n",
    "        \n",
    "        λ_2 = lambda d: slice(None,-1) if d in [\"E\",\"S\",\"B\"] else slice(1,None)\n",
    "        coord_3 = [slice(None,None) if var!=what_dimension else λ_2(direction) for var in range(3)]\n",
    "        Γ_bar[coord_3[0],coord_3[1],coord_3[2]] = Γ_mean\n",
    "        diff = Γ_bar * areas / δ\n",
    "        \n",
    "        self.Γ = Γ\n",
    "        return diff\n",
    "    \n",
    "    def get_boundary_terms(self, what_dimension, Γ, boundary_area, δ, stag = False):\n",
    "        mesh = self._mesh\n",
    "        direction = self.direction\n",
    "        condition_mask = self.condition_mask\n",
    "        condition_mask_type = self.condition_mask_type\n",
    "        ba = boundary_area.copy()\n",
    "        \n",
    "        λ_area = lambda d: slice(None,-1) if d in [\"E\",\"S\",\"B\"] else slice(1,None)\n",
    "        coord_area = [slice(None,None) if var!=what_dimension else λ_area(direction) for var in range(3)]\n",
    "        ba[coord_area[0],coord_area[1],coord_area[2]] = 0\n",
    "        \n",
    "        λ = lambda d: slice(-1,None) if d in [\"E\",\"S\",\"B\"] else slice(None,1)\n",
    "        coord = [slice(None,None) if var!=what_dimension else λ(direction) for var in range(3)]\n",
    "        Γ_bound = Γ[coord[0], coord[1], coord[2]]\n",
    "        λ_1 = lambda d: slice(-2,-1) if d in [\"E\",\"S\",\"B\"] else slice(1,2)\n",
    "        coord_1 = [slice(None,None) if var!=what_dimension else λ_1(direction) for var in range(3)]\n",
    "        Γ_bound_next = Γ[coord_1[0], coord_1[1], coord_1[2]]\n",
    "        if stag:\n",
    "            coef_f, coef_c = self.get_boundary_coefs_staggered(Γ_bound, Γ_bound_next, condition_mask_type)\n",
    "        else:\n",
    "            coef_f, coef_c = self.get_boundary_coefs(Γ_bound, Γ_bound_next, condition_mask_type)\n",
    "        \n",
    "        # Para esta parte habría que agregar las areas correspondientes a las diferentes caras\n",
    "        bound_term_f = (coef_f)* ba / δ\n",
    "        bound_term_c = (coef_c)* ba / δ\n",
    "        \n",
    "        self.Γ_bound = Γ_bound\n",
    "        self.Γ_bound_next = Γ_bound_next\n",
    "        \n",
    "        return bound_term_c, bound_term_f\n",
    "    \n",
    "    def get_boundary_coefs(self, Γ_bound, Γ_bound_next, condition_mask_type):\n",
    "        initial_shape = Γ_bound.shape\n",
    "        Γ_bound_flatten = np.ravel(Γ_bound)\n",
    "        Γ_bound_next_flatten = np.ravel(Γ_bound_next)\n",
    "        \n",
    "        coefs_f = []\n",
    "        coefs_c = []\n",
    "        for idx, condition in enumerate(condition_mask_type):\n",
    "            if condition == \"D\":\n",
    "                coef_c = (9*Γ_bound_flatten[idx] - 3*Γ_bound_next_flatten[idx])/2\n",
    "                coefs_c.append(coef_c)\n",
    "                coef_f = (Γ_bound_flatten[idx] - Γ_bound_next_flatten[idx]/3)/2\n",
    "                coefs_f.append(coef_f)\n",
    "            if condition == \"N\":\n",
    "                coef_f = 0\n",
    "                coefs_f.append(0)\n",
    "                coefs_c.append(0)\n",
    "            if condition == \"R\" or condition == \"I\":\n",
    "                # Aquí faltaría definir la condición de Robín con un ejemplo, pero en teoría \n",
    "                # todo está en el libro\n",
    "                coefs_f.append(0)\n",
    "                coefs_c.append(0)\n",
    "        coefs_f = np.array(coefs_f).reshape(initial_shape)\n",
    "        coefs_c = np.array(coefs_c).reshape(initial_shape)\n",
    "        \n",
    "        return coefs_f, coefs_c\n",
    "        \n",
    "    def get_boundary_coefs_staggered(self, Γ_bound, Γ_bound_next, condition_mask_type):\n",
    "        initial_shape = Γ_bound.shape\n",
    "        Γ_bound_flatten = np.ravel(Γ_bound)\n",
    "        Γ_bound_next_flatten = np.ravel(Γ_bound_next)\n",
    "        direction = self.direction\n",
    "        mesh = self._mesh\n",
    "\n",
    "        \n",
    "        coefs_f = []\n",
    "        coefs_c = []\n",
    "        for idx, condition in enumerate(condition_mask_type):\n",
    "            if condition == \"D\":\n",
    "                coef_c = (9*Γ_bound_flatten[idx] - 3*Γ_bound_next_flatten[idx])/2\n",
    "                coefs_c.append(coef_c)\n",
    "                coef_f = (Γ_bound_flatten[idx] - Γ_bound_next_flatten[idx]/3)/2\n",
    "                coefs_f.append(coef_f)\n",
    "            if condition == \"N\":\n",
    "                coef_f = 0\n",
    "                coefs_f.append(0)\n",
    "                coefs_c.append(0)\n",
    "            if condition == \"R\" or condition == \"I\":\n",
    "                # Aquí faltaría definir la condición de Robín con un ejemplo, pero en teoría todo \n",
    "                # está en el libro\n",
    "                coefs_f.append(0)\n",
    "                coefs_c.append(0)  \n",
    "        # A continuación multiplicamos los valores de la velocidad que ya sabemos de las \n",
    "        # condiciones de la frontera\n",
    "        tags_fronteras = mesh._Mesh__tags_fronteras\n",
    "        condition_mask = []\n",
    "        counter = 0\n",
    "        for tag in tags_fronteras:\n",
    "            if list(tags_fronteras[tag][\"frontera\"].keys())[0] == direction:\n",
    "                cond = list(tags_fronteras[tag][\"cond\"].keys())[0]\n",
    "                if cond == \"I\":\n",
    "                    condition_mask.append(0)\n",
    "                elif cond == \"N\":\n",
    "                    # Aquí no es necesariamente 0, pero habría que hacer toda la transformación \n",
    "                    # como viene en el libro\n",
    "                    condition_mask.append(0)\n",
    "                elif cond == \"D\":\n",
    "                    condition_mask.append((tags_fronteras[tag][\"cond\"][cond]))\n",
    "                counter += 1\n",
    "                \n",
    "        coefs_f = np.array(condition_mask).reshape(initial_shape)\n",
    "        coefs_c = np.array(coefs_c).reshape(initial_shape)\n",
    "        \n",
    "        return coefs_f, coefs_c\n",
    "    \n",
    "    def get_boundary_condition_mask(self, what_dimension, limite, boundary_area, δ):\n",
    "        direction = self.direction\n",
    "        Γ_bound = self.Γ_bound\n",
    "        Γ_bound_next = self.Γ_bound_next\n",
    "        condition_mask = self.condition_mask\n",
    "        condition_mask_type = self.condition_mask_type\n",
    "        Γ_cond = (3*Γ_bound - Γ_bound_next)/2\n",
    "        conds_su = self.get_mask_boundaries_Su(Γ_cond)\n",
    "        ba = boundary_area.copy()\n",
    "        \n",
    "        λ_area = lambda d: slice(None,-1) if d in [\"E\",\"S\",\"B\"] else slice(1,None)\n",
    "        coord_area = [slice(None,None) if var!=what_dimension else λ_area(direction) for var in range(3)]\n",
    "        ba[coord_area[0],coord_area[1],coord_area[2]] = 0\n",
    "        su = ba\n",
    "        \n",
    "        λ = lambda d: slice(-1,None) if d in [\"E\",\"S\",\"B\"] else slice(None,1)\n",
    "        coord = [slice(None,None) if var!=what_dimension else λ(direction) for var in range(3)]\n",
    "        tmp_su = su[coord[0],coord[1],coord[2]]\n",
    "        su[coord[0],coord[1],coord[2]] = tmp_su*np.array(conds_su).reshape(tmp_su.shape)\n",
    "        tmp_su = su[coord[0],coord[1],coord[2]]\n",
    "        div = δ[coord[0],coord[1],coord[2]]*np.array(condition_mask).reshape(tmp_su.shape)\n",
    "        div = np.where(div == 0., 1, div)\n",
    "        su[coord[0],coord[1],coord[2]] = tmp_su/div\n",
    "        return su\n",
    "    \n",
    "    # Aquí creamos una máscara que nos dirá qué condición de frontera hay por cada coordenada.\n",
    "    #### Hay que cambiar dependiendo de qué pase con cada condición de frontera.\n",
    "    def get_mask_boundaries(self, malla):\n",
    "        direction = self.direction\n",
    "        tags_fronteras = malla._Mesh__tags_fronteras\n",
    "        condition_mask = []\n",
    "        condition_mask_type = []\n",
    "        dict_cond = {\"I\":0, \"N\":0, \"D\":1}\n",
    "        for tag in tags_fronteras:\n",
    "            if list(tags_fronteras[tag][\"frontera\"].keys())[0] == direction:\n",
    "                cond = list(tags_fronteras[tag][\"cond\"].keys())[0]\n",
    "                condition_mask.append(dict_cond[cond])\n",
    "                condition_mask_type.append(cond)\n",
    "        return condition_mask, condition_mask_type\n",
    "    \n",
    "    def get_mask_boundaries_Su(self, Γ):\n",
    "        mesh = self._mesh\n",
    "        direction = self.direction\n",
    "        tags_fronteras = mesh._Mesh__tags_fronteras\n",
    "        condition_mask = []\n",
    "        counter = 0\n",
    "        for idx, tag in enumerate(tags_fronteras):\n",
    "            if list(tags_fronteras[tag][\"frontera\"].keys())[0] == direction:\n",
    "                cond = list(tags_fronteras[tag][\"cond\"].keys())[0]\n",
    "                if cond == \"I\":\n",
    "                    condition_mask.append(0)\n",
    "                elif cond == \"N\":\n",
    "                    condition_mask.append(tags_fronteras[tag][\"cond\"][cond])\n",
    "                elif cond == \"D\":\n",
    "                    condition_mask.append(np.ravel(Γ)[counter]*(8*tags_fronteras[tag][\"cond\"][cond]/3))\n",
    "                counter += 1\n",
    "        return condition_mask"
   ]
  },
  {
   "cell_type": "markdown",
   "metadata": {},
   "source": [
    "[Volver al índice](#Índice)"
   ]
  },
  {
   "cell_type": "markdown",
   "metadata": {},
   "source": [
    "## Advección"
   ]
  },
  {
   "cell_type": "code",
   "execution_count": 11,
   "metadata": {},
   "outputs": [],
   "source": [
    "class Advection():\n",
    "    \"\"\"\n",
    "    \n",
    "    \"\"\"\n",
    "    def __init__(self,mesh,ρ,vel,scheme,simple=None):\n",
    "        \"\"\"\n",
    "    \n",
    "        \"\"\"\n",
    "        self._mesh   = mesh\n",
    "        self._dim    = mesh.dim\n",
    "        self.scheme = scheme\n",
    "        self.vel     = vel\n",
    "        self.simple = simple\n",
    "        self.x, self.y, self.z = np.meshgrid(mesh.coords[0], mesh.coords[1], mesh.coords[2])\n",
    "        \n",
    "        self._ρ_constant = 0.\n",
    "        self._ρ = None\n",
    "        \n",
    "        if isinstance(ρ, (int,float)):\n",
    "            self._ρ_constant = ρ*np.ones(self._mesh.volumes)\n",
    "            self._ρ = self.funcion_const\n",
    "        # Se asume que es una función en este caso\n",
    "        else:\n",
    "            self._ρ = ρ\n",
    "            \n",
    "        self.ρ = self._ρ(self.x, self.y, self.z)\n",
    "            \n",
    "    def funcion_const(self, x, y, z):\n",
    "        return self._ρ_constant\n",
    "    \n",
    "        \n",
    "    def get_advection_coef(self,direction,staggered=False,velocity_direction=None,velocity_mesh=None,\n",
    "                            pressure_mesh=None,stgy=\"b\"):            \n",
    "        \"\"\"\n",
    "    \n",
    "        \"\"\"\n",
    "        self.direction = direction\n",
    "        self.velocity_direction = velocity_direction\n",
    "        self.pressure_mesh = pressure_mesh\n",
    "        self.velocity_mesh = velocity_mesh\n",
    "        self.stgy = stgy\n",
    "        what_dimension, limite = 0,0\n",
    "        if direction in [\"E\", \"S\", \"B\"]: limite=-1\n",
    "        if direction in [\"N\", \"S\"]: what_dimension=1\n",
    "        elif direction in [\"T\", \"B\"]: what_dimension = 2\n",
    "            \n",
    "        # Aquí vemos si el arreglo de ρ*u es, en cada entrada, mayor o menor a cero. \n",
    "#         if limite == 0:\n",
    "#             self.is_forward = self.get_forward_array(what_dimension)\n",
    "        \n",
    "        if staggered:\n",
    "            return self.get_staggered_advection_coef(what_dimension, limite)\n",
    "        else:\n",
    "            return self.get_basic_advection_coef(what_dimension, limite)\n",
    "        \n",
    "#     def get_forward_array(self, what_dimension):\n",
    "#         x, y, z = self.x, self.y, self.z\n",
    "#         ρ = self.ρ\n",
    "#         coord_l = [slice(None,None) if var!=what_dimension else slice(None,-1) for var in range(3)]\n",
    "#         coord_r = [slice(None,None) if var!=what_dimension else slice(1,None) for var in range(3)]\n",
    "#         # Aquí se obtiene el promedio (valor en las caras) de las ρ's y las velocidades\n",
    "#         ρ_faces = (ρ[coord_l[0], coord_l[1], coord_l[2]] + ρ[coord_r[0], coord_r[1], coord_r[2]])*0.5\n",
    "#         velocity = self.vel[what_dimension]\n",
    "#         print(\"ρ_faces: \", ρ_faces, ρ_faces.shape)\n",
    "#         v_faces = (velocity[coord_l[0],coord_l[1],coord_l[2]] + velocity[coord_r[0],coord_r[1],coord_r[2]])*0.5\n",
    "#         print(\"v_faces: \", v_faces, v_faces.shape)\n",
    "        \n",
    "#         is_forward = np.where(ρ_faces*v_faces > 0, True, False)\n",
    "        \n",
    "#         self.ρ_faces = ρ_faces\n",
    "#         self.v_faces = v_faces\n",
    "        \n",
    "#         return is_forward\n",
    "    \n",
    "###########################################################################################################    \n",
    "    def get_staggered_advection_coef(self,what_dimension,limite):\n",
    "        direction = self.direction\n",
    "        mesh = self._mesh\n",
    "        faces = mesh.faces[what_dimension]\n",
    "        \n",
    "        areas = mesh.get_area(direction=what_dimension)\n",
    "        boundary_area = areas.copy()\n",
    "        \n",
    "        δ_d_grid = mesh.get_grid_deltas_faces(axis=what_dimension, orientation=direction)\n",
    "        δ = δ_d_grid[what_dimension]\n",
    "        \n",
    "        # Para obtener los coeficientesde las caras centrales\n",
    "        adv = self.get_interior_coefs(direction, what_dimension, limite, areas)\n",
    "        array_c, array_f1, array_f2, array_b1, array_b2 = self.get_interior_arrays(adv, limite, what_dimension)\n",
    "        \n",
    "        self.condition_mask, self.condition_mask_type = self.get_mask_boundaries()\n",
    "        # Aquí obtenemos Sp (que son las fuentes internas)\n",
    "        # Parece que estas siempre van. Es la contribución de la frontera que no va directamente relacionado\n",
    "        # con la condición de la frontera. En la matriz del libro, son los extremos de la diagonal principal.\n",
    "        ρ = self.ρ\n",
    "        bound_term_c, bound_term_f = self.get_boundary_terms(what_dimension, limite, boundary_area)\n",
    "        sp = bound_term_c # Esto porque sólo contribuye a volumen central y no a alguno que lo rodee.\n",
    "        \n",
    "        # Aquí obtenemos Su (que son las condition_maskes de frontera)\n",
    "        # En la matriz del libro son los extremos de las diagonales que no son la principal.\n",
    "        su = self.get_boundary_condition_mask(what_dimension, limite, boundary_area, δ)\n",
    "        \n",
    "        return adv, sp, su    \n",
    "###########################################################################################################\n",
    "        \n",
    "    def get_basic_advection_coef(self, what_dimension, limite):\n",
    "        direction = self.direction\n",
    "        mesh = self._mesh\n",
    "        faces = mesh.faces[what_dimension]\n",
    "        \n",
    "        areas = mesh.get_area(direction=what_dimension)\n",
    "        boundary_area = areas.copy()\n",
    "        \n",
    "        δ_d_grid = mesh.get_grid_deltas_faces(axis=what_dimension, orientation=direction)\n",
    "        δ = δ_d_grid[what_dimension]\n",
    "        \n",
    "        # Para obtener los coeficientesde las caras centrales\n",
    "        adv = self.get_interior_coefs(direction, what_dimension, limite, areas)\n",
    "        # Queremos estos arreglos porque aquí no podemos aplicar la de \n",
    "        # sumarle lo que obtengamos de aquí a la diagonal principal por\n",
    "        # la forma en que se comportan los coeficientes con los \"abs\"\n",
    "        # Se tienen 4 arreglos para cuando se haga upwind2 y quick.\n",
    "        # Pero bueno, aquí sólo obtenemos los valores de las caras centrales.\n",
    "        array_c, array_f1, array_f2, array_b1, array_b2 = self.get_interior_arrays(adv, limite, what_dimension)\n",
    "        \n",
    "        self.condition_mask, self.condition_mask_type = self.get_mask_boundaries()\n",
    "        # Aquí obtenemos Sp (que son las fuentes internas)\n",
    "        # Parece que estas siempre van. Es la contribución de la frontera que no va directamente relacionado\n",
    "        # con la condición de la frontera. En la matriz del libro, son los extremos de la diagonal principal.\n",
    "        bound_term_c, bound_term_f = self.get_boundary_terms(what_dimension, limite, boundary_area)\n",
    "        sp = bound_term_c # Esto porque sólo contribuye a volumen central y no a alguno que lo rodee.\n",
    "        \n",
    "        # Aquí obtenemos Su (que son las condition_maskes de frontera)\n",
    "        # En la matriz del libro son los extremos de las diagonales que no son la principal.\n",
    "        su = self.get_boundary_condition_mask(what_dimension, limite, boundary_area, δ)\n",
    "        \n",
    "        return array_c, array_f1, array_f2, array_b1, array_b2, sp, su, bound_term_f\n",
    "        \n",
    "    \n",
    "    def get_interior_coefs(self, direction, what_dimension, limite, areas):\n",
    "        \"\"\"\n",
    "        \n",
    "        \"\"\"\n",
    "        x, y, z = self.x, self.y, self.z\n",
    "        ρ = self.ρ\n",
    "        coord_l = [slice(None,None) if var!=what_dimension else slice(None,-1) for var in range(3)]\n",
    "        coord_r = [slice(None,None) if var!=what_dimension else slice(1,None) for var in range(3)]\n",
    "        # Aquí se obtiene el promedio (valor en las caras) de las ρ's y las velocidades\n",
    "        ρ_faces = (ρ[coord_l[0], coord_l[1], coord_l[2]] + ρ[coord_r[0], coord_r[1], coord_r[2]])*0.5\n",
    "        velocity = self.vel[what_dimension]\n",
    "        v_faces = (velocity[coord_l[0],coord_l[1],coord_l[2]] + velocity[coord_r[0],coord_r[1],coord_r[2]])*0.5\n",
    "        ν = np.zeros(ρ.shape)\n",
    "        \n",
    "        λ = lambda d: slice(None,-1) if d in [\"E\",\"S\",\"B\"] else slice(1,None)\n",
    "        coord = [slice(None,None) if var!=what_dimension else λ(direction) for var in range(3)]\n",
    "        ν[coord[0],coord[1],coord[2]] = ρ_faces*v_faces\n",
    "        \n",
    "        adv = ν*areas\n",
    "        \n",
    "        return adv\n",
    "    \n",
    "    def get_interior_arrays(self, advec_coef, limite, what_dimension):\n",
    "        scheme = self.scheme\n",
    "        direction = self.direction\n",
    "        \n",
    "        array_c = np.zeros(advec_coef.shape)\n",
    "        array_f1 = array_c.copy()\n",
    "        array_f2 = array_c.copy()\n",
    "        array_b1 = array_c.copy()\n",
    "        array_b2 = array_c.copy()\n",
    "    \n",
    "        λ_interior = lambda d: slice(1,None) if d in [\"E\",\"S\",\"B\"] else slice(None,-1)\n",
    "        coord_interior = [slice(None,None) if var!=what_dimension else λ_interior(direction) for var in range(3)]\n",
    "          \n",
    "        if scheme == \"upwind1\":\n",
    "            if limite == 0: # Vamos por W, N, T\n",
    "                array_b1 += (np.abs(advec_coef) + advec_coef)*0.5\n",
    "                array_c -= (np.abs(advec_coef) - advec_coef)*0.5\n",
    "            else: # Vamos por E, S, B\n",
    "                array_c += (np.abs(advec_coef) + advec_coef)*0.5\n",
    "                array_f1 -= (np.abs(advec_coef) - advec_coef)*0.5\n",
    "        # Estos que vienen a continuación, tienen que modificarse debido a las fronteras (estamos yendo dos pasos\n",
    "        # hacia adelante o hacia atrás)\n",
    "#         if scheme == \"upwind2\":\n",
    "#             if límite == 0:\n",
    "#                 array_b1 += 3*advec_coef*is_forward\n",
    "#                 array_b2 += -advec_coef*is_forward\n",
    "#                 array_c += 3*advec_coef*np.where(is_forward == False, 1, 0)\n",
    "#                 array_f1 += -advec_coef*np.where(is_forward == False, 1, 0)\n",
    "#             else:\n",
    "#                 array_c += 3*advec_coef*is_forward\n",
    "#                 array_b1 += -advec_coef*is_forward\n",
    "#                 array_f1 += 3*advec_coef*np.where(is_forward == False, 1, 0)\n",
    "#                 array_f2 += -advec_coef*np.where(is_forward == False, 1, 0)\n",
    "                \n",
    "#         if scheme == \"quick\":\n",
    "#             if límite == 0:\n",
    "#                 array_c += (3/8)*advec_coef*is_forward\n",
    "#                 array_b1 += (3/4)*advec_coef*is_forward\n",
    "#                 array_b2 += -(1/8)*advec_coef*is_forward\n",
    "#                 array_b1 += (3/8)*advec_coef*np.where(is_forward == False, 1, 0)\n",
    "#                 array_c += (3/4)*advec_coef*np.where(is_forward == False, 1, 0)\n",
    "#                 array_f1 += -(1/8)*advec_coef*np.where(is_forward == False, 1, 0)\n",
    "#             else:\n",
    "#                 array_f1 += (3/8)*advec_coef*is_forward\n",
    "#                 array_c += (3/4)*advec_coef*is_forward\n",
    "#                 array_b1 += -(1/8)*advec_coef*is_forward\n",
    "#                 array_c += (3/8)*advec_coef*np.where(is_forward == False, 1, 0)\n",
    "#                 array_f1 += (3/4)*advec_coef*np.where(is_forward == False, 1, 0)\n",
    "#                 array_f2 += -(1/8)*advec_coef*np.where(is_forward == False, 1, 0)\n",
    "                \n",
    "        return array_c, array_f1, array_f2, array_b1, array_b2\n",
    "    \n",
    "    def get_boundary_terms(self, what_dimension, limite, boundary_area):\n",
    "        \"\"\"\n",
    "        \n",
    "        \"\"\"       \n",
    "        mesh = self._mesh\n",
    "        direction = self.direction\n",
    "        condition_mask = self.condition_mask\n",
    "        condition_mask_type = self.condition_mask_type\n",
    "        ρ = self.ρ\n",
    "        vel = self.vel[what_dimension]\n",
    "        \n",
    "        λ_area = lambda d: slice(None,-1) if d in [\"E\",\"S\",\"B\"] else slice(1,None)\n",
    "        coord_area = [slice(None,None) if var!=what_dimension else λ_area(direction) for var in range(3)]\n",
    "        boundary_area[coord_area[0],coord_area[1],coord_area[2]] = 0\n",
    "        \n",
    "        ν = ρ*vel\n",
    "        λ = lambda d: slice(-1,None) if d in [\"E\",\"S\",\"B\"] else slice(None,1)\n",
    "        coord = [slice(None,None) if var!=what_dimension else λ(direction) for var in range(3)]\n",
    "        ν_bound = ν[coord[0], coord[1], coord[2]]\n",
    "        λ_1 = lambda d: slice(-2,-1) if d in [\"E\",\"S\",\"B\"] else slice(1,2)\n",
    "        coord_1 = [slice(None,None) if var!=what_dimension else λ_1(direction) for var in range(3)]\n",
    "        ν_bound_next = ν[coord_1[0], coord_1[1], coord_1[2]]\n",
    "        \n",
    "        self.ν_bound = ν_bound\n",
    "        self.ν_bound_next = ν_bound_next\n",
    "        \n",
    "        coef_f, coef_c = self.get_boundary_coefs(condition_mask_type, what_dimension, limite)\n",
    "        \n",
    "        # Para esta parte habría que agregar las areas correspondientes a las diferentes caras\n",
    "        bound_term_f = (coef_f)* boundary_area\n",
    "        bound_term_c = (coef_c)* boundary_area\n",
    "        \n",
    "        return bound_term_c, bound_term_f\n",
    "    \n",
    "    def get_boundary_coefs(self, condition_mask_type, what_dimension, limite):\n",
    "        direction = self.direction\n",
    "        ν_bound = self.ν_bound\n",
    "        ν_bound_next = self.ν_bound_next\n",
    "        initial_shape = ν_bound.shape\n",
    "        \n",
    "        coefs_f = []\n",
    "        coefs_c = []\n",
    "        for idx, condition in enumerate(condition_mask_type):\n",
    "            if condition == \"D\":\n",
    "                if limite == 0:\n",
    "                    coef_c=-(-0.5*(np.abs((3*ν_bound[idx]-ν_bound_next[idx])/2)-(3*ν_bound[idx]-ν_bound_next[idx])/2))\n",
    "                else:\n",
    "                    coef_c=0.5*(np.abs((3*ν_bound[idx]-ν_bound_next[idx])/2)+(3*ν_bound[idx]-ν_bound_next[idx])/2)\n",
    "                coefs_c.append(coef_c)\n",
    "                coef_f = 0\n",
    "                coefs_f.append(coef_f)\n",
    "            if condition == \"N\":\n",
    "                coef_f = -((3*ν_bound[idx] - ν_bound_next[idx])/2)/8\n",
    "                coefs_f.append(coef_c)\n",
    "                coef_c = 9*((3*ν_bound[idx] - ν_bound_next[idx])/2)/8\n",
    "                coefs_c.append(coef_c)\n",
    "            if condition == \"R\" or condition == \"I\":\n",
    "                # Aquí faltaría definir la condición de Robín con un ejemplo, pero en teoría todo está en el libro\n",
    "                coefs_f.append(0)\n",
    "                coefs_c.append(0)\n",
    "        coefs_f = np.array(coefs_f).reshape(initial_shape)\n",
    "        coefs_c = np.array(coefs_c).reshape(initial_shape)\n",
    "        \n",
    "        return coefs_f, coefs_c\n",
    "        \n",
    "    def get_boundary_condition_mask(self, what_dimension, limite, boundary_area, δ):\n",
    "        ν_bound = self.ν_bound\n",
    "        ν_bound_next = self.ν_bound_next\n",
    "        mesh = self._mesh\n",
    "        direction = self.direction\n",
    "        condition_mask = self.condition_mask\n",
    "        condition_mask_type = self.condition_mask_type\n",
    "        ν_cond = (3*ν_bound - ν_bound_next)/2\n",
    "        conds_su = self.get_mask_boundaries_Su(ν_cond)\n",
    "        \n",
    "        λ_area = lambda d: slice(None,-1) if d in [\"E\",\"S\",\"B\"] else slice(1,None)\n",
    "        coord_area = [slice(None,None) if var!=what_dimension else λ_area(direction) for var in range(3)]\n",
    "        boundary_area[coord_area[0],coord_area[1],coord_area[2]] = 0\n",
    "        su = boundary_area\n",
    "        \n",
    "        λ = lambda d: slice(-1,None) if d in [\"E\",\"S\",\"B\"] else slice(None,1)\n",
    "        coord = [slice(None,None) if var!=what_dimension else λ(direction) for var in range(3)]\n",
    "        tmp_su = su[coord[0],coord[1],coord[2]]\n",
    "        su[coord[0],coord[1],coord[2]] = tmp_su*np.array(conds_su).reshape(tmp_su.shape)\n",
    "        tmp_su = su[coord[0],coord[1],coord[2]]\n",
    "        delta = δ[coord[0],coord[1],coord[2]]*np.array(condition_mask).reshape(tmp_su.shape)\n",
    "        delta = np.where(delta == 0., 1, delta)\n",
    "        su[coord[0],coord[1],coord[2]] = tmp_su*delta\n",
    "        \n",
    "        return su\n",
    "    \n",
    "    def get_mask_boundaries(self):\n",
    "        direction = self.direction\n",
    "        mesh = self._mesh\n",
    "        tags_fronteras = mesh._Mesh__tags_fronteras\n",
    "        condition_mask = []\n",
    "        condition_mask_type = []\n",
    "        dict_cond = {\"I\":0, \"N\":1, \"D\":0}\n",
    "        for tag in tags_fronteras:\n",
    "            if list(tags_fronteras[tag][\"frontera\"].keys())[0] == direction:\n",
    "                cond = list(tags_fronteras[tag][\"cond\"].keys())[0]\n",
    "                condition_mask.append(dict_cond[cond])\n",
    "                condition_mask_type.append(cond)\n",
    "        return condition_mask, condition_mask_type\n",
    "    \n",
    "    def get_mask_boundaries_Su(self, ν):\n",
    "        direction = self.direction\n",
    "        mesh = self._mesh\n",
    "        tags_fronteras = mesh._Mesh__tags_fronteras\n",
    "        condition_mask = []\n",
    "        counter = 0\n",
    "        for idx, tag in enumerate(tags_fronteras):\n",
    "            if list(tags_fronteras[tag][\"frontera\"].keys())[0] == direction:\n",
    "                cond = list(tags_fronteras[tag][\"cond\"].keys())[0]\n",
    "                if cond == \"I\":\n",
    "                    condition_mask.append(0)\n",
    "                elif cond == \"N\":\n",
    "                    condition_mask.append(np.ravel(ν)[counter]*(3*tags_fronteras[tag][\"cond\"][cond]/8))\n",
    "                elif cond == \"D\":\n",
    "                    condition_mask.append(-np.ravel(ν)[counter]*(tags_fronteras[tag][\"cond\"][cond]))\n",
    "                counter += 1\n",
    "        return condition_mask"
   ]
  },
  {
   "cell_type": "markdown",
   "metadata": {},
   "source": [
    "[Volver al índice](#Índice)"
   ]
  },
  {
   "cell_type": "markdown",
   "metadata": {},
   "source": [
    "## Sistema de ecuaciones"
   ]
  },
  {
   "cell_type": "code",
   "execution_count": 12,
   "metadata": {},
   "outputs": [],
   "source": [
    "from scipy.sparse import diags\n",
    "\n",
    "class EqSystem():\n",
    "    \"\"\"\n",
    "    \"\"\"\n",
    "    \n",
    "    def __init__(self, coef):\n",
    "        self.vols = coef.vols\n",
    "        self.coef = coef\n",
    "        self.aP = coef.aP\n",
    "        self.aE, self.aW = coef.aE, coef.aW\n",
    "        if coef.dim > 1: self.aN, self.aS = coef.aN, coef.aS\n",
    "        if coef.dim == 3: self.aT, self.aB = coef.aT, coef.aB\n",
    "        self.Su = coef.Su\n",
    "        self.N = self.aP.shape[0]*self.aP.shape[1]*self.aP.shape[2]\n",
    "        self.A, self.b = None, None\n",
    "        \n",
    "    def set_diag(self, array, k=0, sparse = True):\n",
    "        \"\"\"\n",
    "        Método para construir una matriz diagonal dado un arreglo 2D y la diagonal en que queremos \n",
    "        poner ese arreglo\n",
    "        \"\"\"\n",
    "        if self.N > 50 and sparse:\n",
    "            return diags(array, k)\n",
    "        else:\n",
    "            return np.diag(array,k)\n",
    "        \n",
    "        \n",
    "    def get_A_matrix(self, sparse = True):\n",
    "        \"\"\"\n",
    "        Método para construir la matriz A, de la ecuación Ax=b, a partir de los coeficientes obtenidos.\n",
    "        \"\"\"\n",
    "        aP = np.ravel(self.aP)\n",
    "        self.A = self.set_diag(aP, sparse=sparse)\n",
    "        if self.coef.dim == 1:\n",
    "            aW = np.ravel(self.aW)[1:]\n",
    "            aE = np.ravel(self.aE)[:-1]\n",
    "            self.A += self.set_diag(aE, k=1, sparse = sparse) + self.set_diag(aW, k=-1, sparse = sparse)\n",
    "            \n",
    "        elif self.coef.dim == 2:\n",
    "            aN = np.ravel(self.aN)[1:]\n",
    "            aS = np.ravel(self.aS)[:-1]\n",
    "            aW = np.ravel(self.aW)[self.vols[1]:]\n",
    "            aE = np.ravel(self.aE)[:-self.vols[1]]\n",
    "            self.A += self.set_diag(aN, k=-1, sparse = sparse) + self.set_diag(aS, k=1, sparse = sparse) + \\\n",
    "                        self.set_diag(aE, k=self.vols[1], sparse = sparse) + self.set_diag(aW, k=-self.vols[1], sparse = sparse)\n",
    "            \n",
    "        elif self.coef.dim == 3:\n",
    "            aT = np.ravel(self.aT)[1:]\n",
    "            aB = np.ravel(self.aB)[:-1]\n",
    "            aN = np.ravel(self.aN)[self.vols[1]:]\n",
    "            aS = np.ravel(self.aS)[:-self.vols[1]]\n",
    "            aW = np.ravel(self.aW)[self.vols[1]*self.vols[2]:]\n",
    "            aE = np.ravel(self.aE)[:-self.vols[1]*self.vols[2]]\n",
    "            self.A += self.set_diag(aT, k=-1, sparse = sparse) + self.set_diag(aB, k=1, sparse = sparse) + \\\n",
    "                        self.set_diag(aN, k=-self.vols[1], sparse = sparse) + \\\n",
    "                        self.set_diag(aS, k=self.vols[1], sparse = sparse) + \\\n",
    "                        self.set_diag(aW, k=-self.vols[1]*self.vols[2], sparse = sparse) +\\\n",
    "                        self.set_diag(aE, k=self.vols[1]*self.vols[2], sparse = sparse)\n",
    "        return self.A\n",
    "    \n",
    "    \n",
    "    def get_b_vector(self):\n",
    "        \"\"\"\n",
    "        Método para obtener el vector b, de la ecuación Ax = b, a partir del arreglo Su construido anteriormente\n",
    "        \"\"\"\n",
    "        self.b = np.ravel(self.Su)\n",
    "        return self.b\n",
    "    \n",
    "    \n",
    "    def solve(self,A,b, sparse = True):\n",
    "        if len(b)>50 and sparse:\n",
    "            return spsolve(A,b)\n",
    "        else:\n",
    "            return np.linalg.solve(A,b)\n",
    "    \n",
    "    def get_solution(self):\n",
    "        \"\"\"\n",
    "        Método para obtener los valores de la solución al sistema\n",
    "        \"\"\"\n",
    "        A = self.get_A_matrix()\n",
    "        b = self.get_b_vector()\n",
    "        return self.solve(A, b)"
   ]
  },
  {
   "cell_type": "markdown",
   "metadata": {},
   "source": [
    "[Volver al índice](#Índice)"
   ]
  },
  {
   "cell_type": "markdown",
   "metadata": {},
   "source": [
    "## Benchmarking"
   ]
  },
  {
   "cell_type": "code",
   "execution_count": 16,
   "metadata": {},
   "outputs": [],
   "source": [
    "def poisson3d(α=1):\n",
    "    #-------------Definición de datos iniciales ----------------\n",
    "    lx = 0.5 # meters\n",
    "    ly = 0.5\n",
    "    lz = 0.5\n",
    "    Tn = 100 # ºC\n",
    "    nvx = 2*α\n",
    "    nvy = 2*α\n",
    "    nvz = 2*α\n",
    "    k = 1_000\n",
    "    #--------malla T -------------------------\n",
    "    malla = Mesh(3, volumes = (nvx, nvy, nvz), lengths = (lx, ly, lz))\n",
    "    malla.tag_wall_dirichlet(\"S\", Tn)\n",
    "    malla.tag_wall_dirichlet([\"W\", \"E\", \"T\", \"N\", \"B\"], [0,0,0,0,0])\n",
    "    #----------------------- Coeficientes --------------------------\n",
    "    coef = Coefficients(malla)\n",
    "    coef.set_diffusion(k)\n",
    "    #--------Sistema de ecuaciones--------------\n",
    "    sistema = EqSystem(coef)\n",
    "    return sistema"
   ]
  },
  {
   "cell_type": "code",
   "execution_count": 17,
   "metadata": {
    "scrolled": true
   },
   "outputs": [],
   "source": [
    "def benchmarking_basico(n=50, start=1, end=13):\n",
    "    tiempos_ambos = []\n",
    "    for is_sparse in [False, True]:\n",
    "        tiempos = []\n",
    "        for idx_prueba in range(start,end+1):\n",
    "            sistema = poisson3d(idx_prueba)\n",
    "            b = sistema.get_b_vector()\n",
    "            \n",
    "            if len(b) > 17_576 and is_sparse == False:\n",
    "                break    \n",
    "                \n",
    "            A = sistema.get_A_matrix(is_sparse)\n",
    "            print(\"Dispersa: \", is_sparse)\n",
    "            print(f\"Dimensiones del cubo: (2*{idx_prueba})^3\")\n",
    "            print(f\"Dimensiones de la matriz a resolver: {(2*idx_prueba)**3} * {(2*idx_prueba)**3}\")\n",
    "            \n",
    "            t = timeit.timeit(\"sistema.solve(A,b, is_sparse)\", globals = locals(), number = n)\n",
    "            print(\"-----Tiempo: \",t,\"segundos-----\\n\")\n",
    "            tiempos.append(t)\n",
    "        tiempos_ambos.append(tiempos)\n",
    "    return tiempos_ambos"
   ]
  },
  {
   "cell_type": "code",
   "execution_count": 18,
   "metadata": {},
   "outputs": [
    {
     "name": "stdout",
     "output_type": "stream",
     "text": [
      "Dispersa:  False\n",
      "Dimensiones del cubo: (2*1)^3\n",
      "Dimensiones de la matriz a resolver: 8 * 8\n",
      "-----Tiempo:  0.0004964989998370584 segundos-----\n",
      "\n",
      "Dispersa:  False\n",
      "Dimensiones del cubo: (2*2)^3\n",
      "Dimensiones de la matriz a resolver: 64 * 64\n",
      "-----Tiempo:  0.09823458300024868 segundos-----\n",
      "\n",
      "Dispersa:  False\n",
      "Dimensiones del cubo: (2*3)^3\n",
      "Dimensiones de la matriz a resolver: 216 * 216\n",
      "-----Tiempo:  0.013589677000254596 segundos-----\n",
      "\n",
      "Dispersa:  False\n",
      "Dimensiones del cubo: (2*4)^3\n",
      "Dimensiones de la matriz a resolver: 512 * 512\n",
      "-----Tiempo:  0.0997082290000435 segundos-----\n",
      "\n",
      "Dispersa:  False\n",
      "Dimensiones del cubo: (2*5)^3\n",
      "Dimensiones de la matriz a resolver: 1000 * 1000\n",
      "-----Tiempo:  0.26826888300001883 segundos-----\n",
      "\n",
      "Dispersa:  False\n",
      "Dimensiones del cubo: (2*6)^3\n",
      "Dimensiones de la matriz a resolver: 1728 * 1728\n",
      "-----Tiempo:  1.2018377750000582 segundos-----\n",
      "\n",
      "Dispersa:  False\n",
      "Dimensiones del cubo: (2*7)^3\n",
      "Dimensiones de la matriz a resolver: 2744 * 2744\n",
      "-----Tiempo:  5.069789955000033 segundos-----\n",
      "\n",
      "Dispersa:  False\n",
      "Dimensiones del cubo: (2*8)^3\n",
      "Dimensiones de la matriz a resolver: 4096 * 4096\n",
      "-----Tiempo:  12.450030437999885 segundos-----\n",
      "\n",
      "Dispersa:  False\n",
      "Dimensiones del cubo: (2*9)^3\n",
      "Dimensiones de la matriz a resolver: 5832 * 5832\n",
      "-----Tiempo:  24.74125728099989 segundos-----\n",
      "\n",
      "Dispersa:  False\n",
      "Dimensiones del cubo: (2*10)^3\n",
      "Dimensiones de la matriz a resolver: 8000 * 8000\n",
      "-----Tiempo:  62.73223085000018 segundos-----\n",
      "\n",
      "Dispersa:  False\n",
      "Dimensiones del cubo: (2*11)^3\n",
      "Dimensiones de la matriz a resolver: 10648 * 10648\n",
      "-----Tiempo:  139.79900970500012 segundos-----\n",
      "\n",
      "Dispersa:  False\n",
      "Dimensiones del cubo: (2*12)^3\n",
      "Dimensiones de la matriz a resolver: 13824 * 13824\n",
      "-----Tiempo:  333.7229289369998 segundos-----\n",
      "\n",
      "Dispersa:  False\n",
      "Dimensiones del cubo: (2*13)^3\n",
      "Dimensiones de la matriz a resolver: 17576 * 17576\n",
      "-----Tiempo:  649.1948673889997 segundos-----\n",
      "\n",
      "Dispersa:  True\n",
      "Dimensiones del cubo: (2*1)^3\n",
      "Dimensiones de la matriz a resolver: 8 * 8\n",
      "-----Tiempo:  0.4552612949996728 segundos-----\n",
      "\n",
      "Dispersa:  True\n",
      "Dimensiones del cubo: (2*2)^3\n",
      "Dimensiones de la matriz a resolver: 64 * 64\n",
      "-----Tiempo:  0.4452900309997858 segundos-----\n",
      "\n",
      "Dispersa:  True\n",
      "Dimensiones del cubo: (2*3)^3\n",
      "Dimensiones de la matriz a resolver: 216 * 216\n",
      "-----Tiempo:  0.023222813000302267 segundos-----\n",
      "\n",
      "Dispersa:  True\n",
      "Dimensiones del cubo: (2*4)^3\n",
      "Dimensiones de la matriz a resolver: 512 * 512\n",
      "-----Tiempo:  0.06963927400011016 segundos-----\n",
      "\n",
      "Dispersa:  True\n",
      "Dimensiones del cubo: (2*5)^3\n",
      "Dimensiones de la matriz a resolver: 1000 * 1000\n",
      "-----Tiempo:  0.18153776500003005 segundos-----\n",
      "\n",
      "Dispersa:  True\n",
      "Dimensiones del cubo: (2*6)^3\n",
      "Dimensiones de la matriz a resolver: 1728 * 1728\n",
      "-----Tiempo:  0.5072747999997773 segundos-----\n",
      "\n",
      "Dispersa:  True\n",
      "Dimensiones del cubo: (2*7)^3\n",
      "Dimensiones de la matriz a resolver: 2744 * 2744\n",
      "-----Tiempo:  1.329985489000137 segundos-----\n",
      "\n",
      "Dispersa:  True\n",
      "Dimensiones del cubo: (2*8)^3\n",
      "Dimensiones de la matriz a resolver: 4096 * 4096\n",
      "-----Tiempo:  2.618952326999988 segundos-----\n",
      "\n",
      "Dispersa:  True\n",
      "Dimensiones del cubo: (2*9)^3\n",
      "Dimensiones de la matriz a resolver: 5832 * 5832\n",
      "-----Tiempo:  6.759350931999961 segundos-----\n",
      "\n",
      "Dispersa:  True\n",
      "Dimensiones del cubo: (2*10)^3\n",
      "Dimensiones de la matriz a resolver: 8000 * 8000\n",
      "-----Tiempo:  12.639755415999844 segundos-----\n",
      "\n",
      "Dispersa:  True\n",
      "Dimensiones del cubo: (2*11)^3\n",
      "Dimensiones de la matriz a resolver: 10648 * 10648\n",
      "-----Tiempo:  22.773638854000183 segundos-----\n",
      "\n",
      "Dispersa:  True\n",
      "Dimensiones del cubo: (2*12)^3\n",
      "Dimensiones de la matriz a resolver: 13824 * 13824\n",
      "-----Tiempo:  36.218264868999995 segundos-----\n",
      "\n",
      "Dispersa:  True\n",
      "Dimensiones del cubo: (2*13)^3\n",
      "Dimensiones de la matriz a resolver: 17576 * 17576\n",
      "-----Tiempo:  70.16305263899994 segundos-----\n",
      "\n"
     ]
    }
   ],
   "source": [
    "tiempos_1_13 = benchmarking_basico() #n = 50"
   ]
  },
  {
   "cell_type": "code",
   "execution_count": 19,
   "metadata": {},
   "outputs": [],
   "source": [
    "no_dispersos, dispersos = tiempos_1_13"
   ]
  },
  {
   "cell_type": "code",
   "execution_count": 22,
   "metadata": {},
   "outputs": [
    {
     "name": "stdout",
     "output_type": "stream",
     "text": [
      "no_dispersos = [0.0004964989998370584, 0.09823458300024868, 0.013589677000254596, 0.0997082290000435, 0.26826888300001883, 1.2018377750000582, 5.069789955000033, 12.450030437999885, 24.74125728099989, 62.73223085000018, 139.79900970500012, 333.7229289369998, 649.1948673889997]\n"
     ]
    }
   ],
   "source": [
    "print(f\"no_dispersos = {no_dispersos}\")"
   ]
  },
  {
   "cell_type": "code",
   "execution_count": 23,
   "metadata": {},
   "outputs": [
    {
     "name": "stdout",
     "output_type": "stream",
     "text": [
      "dispersos = [0.4552612949996728, 0.4452900309997858, 0.023222813000302267, 0.06963927400011016, 0.18153776500003005, 0.5072747999997773, 1.329985489000137, 2.618952326999988, 6.759350931999961, 12.639755415999844, 22.773638854000183, 36.218264868999995, 70.16305263899994]\n"
     ]
    }
   ],
   "source": [
    "print(f\"dispersos = {dispersos}\")"
   ]
  },
  {
   "cell_type": "code",
   "execution_count": 59,
   "metadata": {},
   "outputs": [],
   "source": [
    "dimensiones = [f\"2*{idx+1}^3\" for idx in range(len(dispersos))]"
   ]
  },
  {
   "cell_type": "code",
   "execution_count": 60,
   "metadata": {},
   "outputs": [
    {
     "data": {
      "application/vnd.plotly.v1+json": {
       "config": {
        "plotlyServerURL": "https://plot.ly"
       },
       "data": [
        {
         "name": "Dispersos",
         "type": "scatter",
         "x": [
          "2*1^3",
          "2*2^3",
          "2*3^3",
          "2*4^3",
          "2*5^3",
          "2*6^3",
          "2*7^3",
          "2*8^3",
          "2*9^3",
          "2*10^3",
          "2*11^3",
          "2*12^3",
          "2*13^3"
         ],
         "y": [
          -0.7868837501392575,
          -0.8090294540602846,
          -3.762620164472738,
          -2.6644265891779866,
          -1.70629157529562,
          -0.6787024103924324,
          0.2851680316479294,
          0.9627743626107573,
          1.9109268694687067,
          2.5368470385314854,
          3.1256036764423634,
          3.5895635459792223,
          4.250821856795287
         ]
        },
        {
         "name": "No dispersos",
         "type": "scatter",
         "x": [
          "2*1^3",
          "2*2^3",
          "2*3^3",
          "2*4^3",
          "2*5^3",
          "2*6^3",
          "2*7^3",
          "2*8^3",
          "2*9^3",
          "2*10^3",
          "2*11^3",
          "2*12^3",
          "2*13^3"
         ],
         "y": [
          -7.607929088907947,
          -2.3203969565733775,
          -4.298444818558886,
          -2.305507067807111,
          -1.315765506658909,
          0.1838518644424021,
          1.623299387750811,
          2.5217230677269957,
          3.2084721854386187,
          4.1388753642054725,
          4.9402057461194,
          5.810311094625468,
          6.475732929554038
         ]
        }
       ],
       "layout": {
        "template": {
         "data": {
          "bar": [
           {
            "error_x": {
             "color": "#2a3f5f"
            },
            "error_y": {
             "color": "#2a3f5f"
            },
            "marker": {
             "line": {
              "color": "#E5ECF6",
              "width": 0.5
             }
            },
            "type": "bar"
           }
          ],
          "barpolar": [
           {
            "marker": {
             "line": {
              "color": "#E5ECF6",
              "width": 0.5
             }
            },
            "type": "barpolar"
           }
          ],
          "carpet": [
           {
            "aaxis": {
             "endlinecolor": "#2a3f5f",
             "gridcolor": "white",
             "linecolor": "white",
             "minorgridcolor": "white",
             "startlinecolor": "#2a3f5f"
            },
            "baxis": {
             "endlinecolor": "#2a3f5f",
             "gridcolor": "white",
             "linecolor": "white",
             "minorgridcolor": "white",
             "startlinecolor": "#2a3f5f"
            },
            "type": "carpet"
           }
          ],
          "choropleth": [
           {
            "colorbar": {
             "outlinewidth": 0,
             "ticks": ""
            },
            "type": "choropleth"
           }
          ],
          "contour": [
           {
            "colorbar": {
             "outlinewidth": 0,
             "ticks": ""
            },
            "colorscale": [
             [
              0,
              "#0d0887"
             ],
             [
              0.1111111111111111,
              "#46039f"
             ],
             [
              0.2222222222222222,
              "#7201a8"
             ],
             [
              0.3333333333333333,
              "#9c179e"
             ],
             [
              0.4444444444444444,
              "#bd3786"
             ],
             [
              0.5555555555555556,
              "#d8576b"
             ],
             [
              0.6666666666666666,
              "#ed7953"
             ],
             [
              0.7777777777777778,
              "#fb9f3a"
             ],
             [
              0.8888888888888888,
              "#fdca26"
             ],
             [
              1,
              "#f0f921"
             ]
            ],
            "type": "contour"
           }
          ],
          "contourcarpet": [
           {
            "colorbar": {
             "outlinewidth": 0,
             "ticks": ""
            },
            "type": "contourcarpet"
           }
          ],
          "heatmap": [
           {
            "colorbar": {
             "outlinewidth": 0,
             "ticks": ""
            },
            "colorscale": [
             [
              0,
              "#0d0887"
             ],
             [
              0.1111111111111111,
              "#46039f"
             ],
             [
              0.2222222222222222,
              "#7201a8"
             ],
             [
              0.3333333333333333,
              "#9c179e"
             ],
             [
              0.4444444444444444,
              "#bd3786"
             ],
             [
              0.5555555555555556,
              "#d8576b"
             ],
             [
              0.6666666666666666,
              "#ed7953"
             ],
             [
              0.7777777777777778,
              "#fb9f3a"
             ],
             [
              0.8888888888888888,
              "#fdca26"
             ],
             [
              1,
              "#f0f921"
             ]
            ],
            "type": "heatmap"
           }
          ],
          "heatmapgl": [
           {
            "colorbar": {
             "outlinewidth": 0,
             "ticks": ""
            },
            "colorscale": [
             [
              0,
              "#0d0887"
             ],
             [
              0.1111111111111111,
              "#46039f"
             ],
             [
              0.2222222222222222,
              "#7201a8"
             ],
             [
              0.3333333333333333,
              "#9c179e"
             ],
             [
              0.4444444444444444,
              "#bd3786"
             ],
             [
              0.5555555555555556,
              "#d8576b"
             ],
             [
              0.6666666666666666,
              "#ed7953"
             ],
             [
              0.7777777777777778,
              "#fb9f3a"
             ],
             [
              0.8888888888888888,
              "#fdca26"
             ],
             [
              1,
              "#f0f921"
             ]
            ],
            "type": "heatmapgl"
           }
          ],
          "histogram": [
           {
            "marker": {
             "colorbar": {
              "outlinewidth": 0,
              "ticks": ""
             }
            },
            "type": "histogram"
           }
          ],
          "histogram2d": [
           {
            "colorbar": {
             "outlinewidth": 0,
             "ticks": ""
            },
            "colorscale": [
             [
              0,
              "#0d0887"
             ],
             [
              0.1111111111111111,
              "#46039f"
             ],
             [
              0.2222222222222222,
              "#7201a8"
             ],
             [
              0.3333333333333333,
              "#9c179e"
             ],
             [
              0.4444444444444444,
              "#bd3786"
             ],
             [
              0.5555555555555556,
              "#d8576b"
             ],
             [
              0.6666666666666666,
              "#ed7953"
             ],
             [
              0.7777777777777778,
              "#fb9f3a"
             ],
             [
              0.8888888888888888,
              "#fdca26"
             ],
             [
              1,
              "#f0f921"
             ]
            ],
            "type": "histogram2d"
           }
          ],
          "histogram2dcontour": [
           {
            "colorbar": {
             "outlinewidth": 0,
             "ticks": ""
            },
            "colorscale": [
             [
              0,
              "#0d0887"
             ],
             [
              0.1111111111111111,
              "#46039f"
             ],
             [
              0.2222222222222222,
              "#7201a8"
             ],
             [
              0.3333333333333333,
              "#9c179e"
             ],
             [
              0.4444444444444444,
              "#bd3786"
             ],
             [
              0.5555555555555556,
              "#d8576b"
             ],
             [
              0.6666666666666666,
              "#ed7953"
             ],
             [
              0.7777777777777778,
              "#fb9f3a"
             ],
             [
              0.8888888888888888,
              "#fdca26"
             ],
             [
              1,
              "#f0f921"
             ]
            ],
            "type": "histogram2dcontour"
           }
          ],
          "mesh3d": [
           {
            "colorbar": {
             "outlinewidth": 0,
             "ticks": ""
            },
            "type": "mesh3d"
           }
          ],
          "parcoords": [
           {
            "line": {
             "colorbar": {
              "outlinewidth": 0,
              "ticks": ""
             }
            },
            "type": "parcoords"
           }
          ],
          "pie": [
           {
            "automargin": true,
            "type": "pie"
           }
          ],
          "scatter": [
           {
            "marker": {
             "colorbar": {
              "outlinewidth": 0,
              "ticks": ""
             }
            },
            "type": "scatter"
           }
          ],
          "scatter3d": [
           {
            "line": {
             "colorbar": {
              "outlinewidth": 0,
              "ticks": ""
             }
            },
            "marker": {
             "colorbar": {
              "outlinewidth": 0,
              "ticks": ""
             }
            },
            "type": "scatter3d"
           }
          ],
          "scattercarpet": [
           {
            "marker": {
             "colorbar": {
              "outlinewidth": 0,
              "ticks": ""
             }
            },
            "type": "scattercarpet"
           }
          ],
          "scattergeo": [
           {
            "marker": {
             "colorbar": {
              "outlinewidth": 0,
              "ticks": ""
             }
            },
            "type": "scattergeo"
           }
          ],
          "scattergl": [
           {
            "marker": {
             "colorbar": {
              "outlinewidth": 0,
              "ticks": ""
             }
            },
            "type": "scattergl"
           }
          ],
          "scattermapbox": [
           {
            "marker": {
             "colorbar": {
              "outlinewidth": 0,
              "ticks": ""
             }
            },
            "type": "scattermapbox"
           }
          ],
          "scatterpolar": [
           {
            "marker": {
             "colorbar": {
              "outlinewidth": 0,
              "ticks": ""
             }
            },
            "type": "scatterpolar"
           }
          ],
          "scatterpolargl": [
           {
            "marker": {
             "colorbar": {
              "outlinewidth": 0,
              "ticks": ""
             }
            },
            "type": "scatterpolargl"
           }
          ],
          "scatterternary": [
           {
            "marker": {
             "colorbar": {
              "outlinewidth": 0,
              "ticks": ""
             }
            },
            "type": "scatterternary"
           }
          ],
          "surface": [
           {
            "colorbar": {
             "outlinewidth": 0,
             "ticks": ""
            },
            "colorscale": [
             [
              0,
              "#0d0887"
             ],
             [
              0.1111111111111111,
              "#46039f"
             ],
             [
              0.2222222222222222,
              "#7201a8"
             ],
             [
              0.3333333333333333,
              "#9c179e"
             ],
             [
              0.4444444444444444,
              "#bd3786"
             ],
             [
              0.5555555555555556,
              "#d8576b"
             ],
             [
              0.6666666666666666,
              "#ed7953"
             ],
             [
              0.7777777777777778,
              "#fb9f3a"
             ],
             [
              0.8888888888888888,
              "#fdca26"
             ],
             [
              1,
              "#f0f921"
             ]
            ],
            "type": "surface"
           }
          ],
          "table": [
           {
            "cells": {
             "fill": {
              "color": "#EBF0F8"
             },
             "line": {
              "color": "white"
             }
            },
            "header": {
             "fill": {
              "color": "#C8D4E3"
             },
             "line": {
              "color": "white"
             }
            },
            "type": "table"
           }
          ]
         },
         "layout": {
          "annotationdefaults": {
           "arrowcolor": "#2a3f5f",
           "arrowhead": 0,
           "arrowwidth": 1
          },
          "autotypenumbers": "strict",
          "coloraxis": {
           "colorbar": {
            "outlinewidth": 0,
            "ticks": ""
           }
          },
          "colorscale": {
           "diverging": [
            [
             0,
             "#8e0152"
            ],
            [
             0.1,
             "#c51b7d"
            ],
            [
             0.2,
             "#de77ae"
            ],
            [
             0.3,
             "#f1b6da"
            ],
            [
             0.4,
             "#fde0ef"
            ],
            [
             0.5,
             "#f7f7f7"
            ],
            [
             0.6,
             "#e6f5d0"
            ],
            [
             0.7,
             "#b8e186"
            ],
            [
             0.8,
             "#7fbc41"
            ],
            [
             0.9,
             "#4d9221"
            ],
            [
             1,
             "#276419"
            ]
           ],
           "sequential": [
            [
             0,
             "#0d0887"
            ],
            [
             0.1111111111111111,
             "#46039f"
            ],
            [
             0.2222222222222222,
             "#7201a8"
            ],
            [
             0.3333333333333333,
             "#9c179e"
            ],
            [
             0.4444444444444444,
             "#bd3786"
            ],
            [
             0.5555555555555556,
             "#d8576b"
            ],
            [
             0.6666666666666666,
             "#ed7953"
            ],
            [
             0.7777777777777778,
             "#fb9f3a"
            ],
            [
             0.8888888888888888,
             "#fdca26"
            ],
            [
             1,
             "#f0f921"
            ]
           ],
           "sequentialminus": [
            [
             0,
             "#0d0887"
            ],
            [
             0.1111111111111111,
             "#46039f"
            ],
            [
             0.2222222222222222,
             "#7201a8"
            ],
            [
             0.3333333333333333,
             "#9c179e"
            ],
            [
             0.4444444444444444,
             "#bd3786"
            ],
            [
             0.5555555555555556,
             "#d8576b"
            ],
            [
             0.6666666666666666,
             "#ed7953"
            ],
            [
             0.7777777777777778,
             "#fb9f3a"
            ],
            [
             0.8888888888888888,
             "#fdca26"
            ],
            [
             1,
             "#f0f921"
            ]
           ]
          },
          "colorway": [
           "#636efa",
           "#EF553B",
           "#00cc96",
           "#ab63fa",
           "#FFA15A",
           "#19d3f3",
           "#FF6692",
           "#B6E880",
           "#FF97FF",
           "#FECB52"
          ],
          "font": {
           "color": "#2a3f5f"
          },
          "geo": {
           "bgcolor": "white",
           "lakecolor": "white",
           "landcolor": "#E5ECF6",
           "showlakes": true,
           "showland": true,
           "subunitcolor": "white"
          },
          "hoverlabel": {
           "align": "left"
          },
          "hovermode": "closest",
          "mapbox": {
           "style": "light"
          },
          "paper_bgcolor": "white",
          "plot_bgcolor": "#E5ECF6",
          "polar": {
           "angularaxis": {
            "gridcolor": "white",
            "linecolor": "white",
            "ticks": ""
           },
           "bgcolor": "#E5ECF6",
           "radialaxis": {
            "gridcolor": "white",
            "linecolor": "white",
            "ticks": ""
           }
          },
          "scene": {
           "xaxis": {
            "backgroundcolor": "#E5ECF6",
            "gridcolor": "white",
            "gridwidth": 2,
            "linecolor": "white",
            "showbackground": true,
            "ticks": "",
            "zerolinecolor": "white"
           },
           "yaxis": {
            "backgroundcolor": "#E5ECF6",
            "gridcolor": "white",
            "gridwidth": 2,
            "linecolor": "white",
            "showbackground": true,
            "ticks": "",
            "zerolinecolor": "white"
           },
           "zaxis": {
            "backgroundcolor": "#E5ECF6",
            "gridcolor": "white",
            "gridwidth": 2,
            "linecolor": "white",
            "showbackground": true,
            "ticks": "",
            "zerolinecolor": "white"
           }
          },
          "shapedefaults": {
           "line": {
            "color": "#2a3f5f"
           }
          },
          "ternary": {
           "aaxis": {
            "gridcolor": "white",
            "linecolor": "white",
            "ticks": ""
           },
           "baxis": {
            "gridcolor": "white",
            "linecolor": "white",
            "ticks": ""
           },
           "bgcolor": "#E5ECF6",
           "caxis": {
            "gridcolor": "white",
            "linecolor": "white",
            "ticks": ""
           }
          },
          "title": {
           "x": 0.05
          },
          "xaxis": {
           "automargin": true,
           "gridcolor": "white",
           "linecolor": "white",
           "ticks": "",
           "title": {
            "standoff": 15
           },
           "zerolinecolor": "white",
           "zerolinewidth": 2
          },
          "yaxis": {
           "automargin": true,
           "gridcolor": "white",
           "linecolor": "white",
           "ticks": "",
           "title": {
            "standoff": 15
           },
           "zerolinecolor": "white",
           "zerolinewidth": 2
          }
         }
        },
        "xaxis": {
         "title": {
          "text": "Dimensiones de matriz cuadrada"
         }
        },
        "yaxis": {
         "title": {
          "text": "log tiempo (segundos)"
         }
        }
       }
      },
      "text/html": [
       "<div>                            <div id=\"61ffad9c-e66f-4e5b-a309-8535592d665b\" class=\"plotly-graph-div\" style=\"height:525px; width:100%;\"></div>            <script type=\"text/javascript\">                require([\"plotly\"], function(Plotly) {                    window.PLOTLYENV=window.PLOTLYENV || {};                                    if (document.getElementById(\"61ffad9c-e66f-4e5b-a309-8535592d665b\")) {                    Plotly.newPlot(                        \"61ffad9c-e66f-4e5b-a309-8535592d665b\",                        [{\"name\": \"Dispersos\", \"type\": \"scatter\", \"x\": [\"2*1^3\", \"2*2^3\", \"2*3^3\", \"2*4^3\", \"2*5^3\", \"2*6^3\", \"2*7^3\", \"2*8^3\", \"2*9^3\", \"2*10^3\", \"2*11^3\", \"2*12^3\", \"2*13^3\"], \"y\": [-0.7868837501392575, -0.8090294540602846, -3.762620164472738, -2.6644265891779866, -1.70629157529562, -0.6787024103924324, 0.2851680316479294, 0.9627743626107573, 1.9109268694687067, 2.5368470385314854, 3.1256036764423634, 3.5895635459792223, 4.250821856795287]}, {\"name\": \"No dispersos\", \"type\": \"scatter\", \"x\": [\"2*1^3\", \"2*2^3\", \"2*3^3\", \"2*4^3\", \"2*5^3\", \"2*6^3\", \"2*7^3\", \"2*8^3\", \"2*9^3\", \"2*10^3\", \"2*11^3\", \"2*12^3\", \"2*13^3\"], \"y\": [-7.607929088907947, -2.3203969565733775, -4.298444818558886, -2.305507067807111, -1.315765506658909, 0.1838518644424021, 1.623299387750811, 2.5217230677269957, 3.2084721854386187, 4.1388753642054725, 4.9402057461194, 5.810311094625468, 6.475732929554038]}],                        {\"template\": {\"data\": {\"bar\": [{\"error_x\": {\"color\": \"#2a3f5f\"}, \"error_y\": {\"color\": \"#2a3f5f\"}, \"marker\": {\"line\": {\"color\": \"#E5ECF6\", \"width\": 0.5}}, \"type\": \"bar\"}], \"barpolar\": [{\"marker\": {\"line\": {\"color\": \"#E5ECF6\", \"width\": 0.5}}, \"type\": \"barpolar\"}], \"carpet\": [{\"aaxis\": {\"endlinecolor\": \"#2a3f5f\", \"gridcolor\": \"white\", \"linecolor\": \"white\", \"minorgridcolor\": \"white\", \"startlinecolor\": \"#2a3f5f\"}, \"baxis\": {\"endlinecolor\": \"#2a3f5f\", \"gridcolor\": \"white\", \"linecolor\": \"white\", \"minorgridcolor\": \"white\", \"startlinecolor\": \"#2a3f5f\"}, \"type\": \"carpet\"}], \"choropleth\": [{\"colorbar\": {\"outlinewidth\": 0, \"ticks\": \"\"}, \"type\": \"choropleth\"}], \"contour\": [{\"colorbar\": {\"outlinewidth\": 0, \"ticks\": \"\"}, \"colorscale\": [[0.0, \"#0d0887\"], [0.1111111111111111, \"#46039f\"], [0.2222222222222222, \"#7201a8\"], [0.3333333333333333, \"#9c179e\"], [0.4444444444444444, \"#bd3786\"], [0.5555555555555556, \"#d8576b\"], [0.6666666666666666, \"#ed7953\"], [0.7777777777777778, \"#fb9f3a\"], [0.8888888888888888, \"#fdca26\"], [1.0, \"#f0f921\"]], \"type\": \"contour\"}], \"contourcarpet\": [{\"colorbar\": {\"outlinewidth\": 0, \"ticks\": \"\"}, \"type\": \"contourcarpet\"}], \"heatmap\": [{\"colorbar\": {\"outlinewidth\": 0, \"ticks\": \"\"}, \"colorscale\": [[0.0, \"#0d0887\"], [0.1111111111111111, \"#46039f\"], [0.2222222222222222, \"#7201a8\"], [0.3333333333333333, \"#9c179e\"], [0.4444444444444444, \"#bd3786\"], [0.5555555555555556, \"#d8576b\"], [0.6666666666666666, \"#ed7953\"], [0.7777777777777778, \"#fb9f3a\"], [0.8888888888888888, \"#fdca26\"], [1.0, \"#f0f921\"]], \"type\": \"heatmap\"}], \"heatmapgl\": [{\"colorbar\": {\"outlinewidth\": 0, \"ticks\": \"\"}, \"colorscale\": [[0.0, \"#0d0887\"], [0.1111111111111111, \"#46039f\"], [0.2222222222222222, \"#7201a8\"], [0.3333333333333333, \"#9c179e\"], [0.4444444444444444, \"#bd3786\"], [0.5555555555555556, \"#d8576b\"], [0.6666666666666666, \"#ed7953\"], [0.7777777777777778, \"#fb9f3a\"], [0.8888888888888888, \"#fdca26\"], [1.0, \"#f0f921\"]], \"type\": \"heatmapgl\"}], \"histogram\": [{\"marker\": {\"colorbar\": {\"outlinewidth\": 0, \"ticks\": \"\"}}, \"type\": \"histogram\"}], \"histogram2d\": [{\"colorbar\": {\"outlinewidth\": 0, \"ticks\": \"\"}, \"colorscale\": [[0.0, \"#0d0887\"], [0.1111111111111111, \"#46039f\"], [0.2222222222222222, \"#7201a8\"], [0.3333333333333333, \"#9c179e\"], [0.4444444444444444, \"#bd3786\"], [0.5555555555555556, \"#d8576b\"], [0.6666666666666666, \"#ed7953\"], [0.7777777777777778, \"#fb9f3a\"], [0.8888888888888888, \"#fdca26\"], [1.0, \"#f0f921\"]], \"type\": \"histogram2d\"}], \"histogram2dcontour\": [{\"colorbar\": {\"outlinewidth\": 0, \"ticks\": \"\"}, \"colorscale\": [[0.0, \"#0d0887\"], [0.1111111111111111, \"#46039f\"], [0.2222222222222222, \"#7201a8\"], [0.3333333333333333, \"#9c179e\"], [0.4444444444444444, \"#bd3786\"], [0.5555555555555556, \"#d8576b\"], [0.6666666666666666, \"#ed7953\"], [0.7777777777777778, \"#fb9f3a\"], [0.8888888888888888, \"#fdca26\"], [1.0, \"#f0f921\"]], \"type\": \"histogram2dcontour\"}], \"mesh3d\": [{\"colorbar\": {\"outlinewidth\": 0, \"ticks\": \"\"}, \"type\": \"mesh3d\"}], \"parcoords\": [{\"line\": {\"colorbar\": {\"outlinewidth\": 0, \"ticks\": \"\"}}, \"type\": \"parcoords\"}], \"pie\": [{\"automargin\": true, \"type\": \"pie\"}], \"scatter\": [{\"marker\": {\"colorbar\": {\"outlinewidth\": 0, \"ticks\": \"\"}}, \"type\": \"scatter\"}], \"scatter3d\": [{\"line\": {\"colorbar\": {\"outlinewidth\": 0, \"ticks\": \"\"}}, \"marker\": {\"colorbar\": {\"outlinewidth\": 0, \"ticks\": \"\"}}, \"type\": \"scatter3d\"}], \"scattercarpet\": [{\"marker\": {\"colorbar\": {\"outlinewidth\": 0, \"ticks\": \"\"}}, \"type\": \"scattercarpet\"}], \"scattergeo\": [{\"marker\": {\"colorbar\": {\"outlinewidth\": 0, \"ticks\": \"\"}}, \"type\": \"scattergeo\"}], \"scattergl\": [{\"marker\": {\"colorbar\": {\"outlinewidth\": 0, \"ticks\": \"\"}}, \"type\": \"scattergl\"}], \"scattermapbox\": [{\"marker\": {\"colorbar\": {\"outlinewidth\": 0, \"ticks\": \"\"}}, \"type\": \"scattermapbox\"}], \"scatterpolar\": [{\"marker\": {\"colorbar\": {\"outlinewidth\": 0, \"ticks\": \"\"}}, \"type\": \"scatterpolar\"}], \"scatterpolargl\": [{\"marker\": {\"colorbar\": {\"outlinewidth\": 0, \"ticks\": \"\"}}, \"type\": \"scatterpolargl\"}], \"scatterternary\": [{\"marker\": {\"colorbar\": {\"outlinewidth\": 0, \"ticks\": \"\"}}, \"type\": \"scatterternary\"}], \"surface\": [{\"colorbar\": {\"outlinewidth\": 0, \"ticks\": \"\"}, \"colorscale\": [[0.0, \"#0d0887\"], [0.1111111111111111, \"#46039f\"], [0.2222222222222222, \"#7201a8\"], [0.3333333333333333, \"#9c179e\"], [0.4444444444444444, \"#bd3786\"], [0.5555555555555556, \"#d8576b\"], [0.6666666666666666, \"#ed7953\"], [0.7777777777777778, \"#fb9f3a\"], [0.8888888888888888, \"#fdca26\"], [1.0, \"#f0f921\"]], \"type\": \"surface\"}], \"table\": [{\"cells\": {\"fill\": {\"color\": \"#EBF0F8\"}, \"line\": {\"color\": \"white\"}}, \"header\": {\"fill\": {\"color\": \"#C8D4E3\"}, \"line\": {\"color\": \"white\"}}, \"type\": \"table\"}]}, \"layout\": {\"annotationdefaults\": {\"arrowcolor\": \"#2a3f5f\", \"arrowhead\": 0, \"arrowwidth\": 1}, \"autotypenumbers\": \"strict\", \"coloraxis\": {\"colorbar\": {\"outlinewidth\": 0, \"ticks\": \"\"}}, \"colorscale\": {\"diverging\": [[0, \"#8e0152\"], [0.1, \"#c51b7d\"], [0.2, \"#de77ae\"], [0.3, \"#f1b6da\"], [0.4, \"#fde0ef\"], [0.5, \"#f7f7f7\"], [0.6, \"#e6f5d0\"], [0.7, \"#b8e186\"], [0.8, \"#7fbc41\"], [0.9, \"#4d9221\"], [1, \"#276419\"]], \"sequential\": [[0.0, \"#0d0887\"], [0.1111111111111111, \"#46039f\"], [0.2222222222222222, \"#7201a8\"], [0.3333333333333333, \"#9c179e\"], [0.4444444444444444, \"#bd3786\"], [0.5555555555555556, \"#d8576b\"], [0.6666666666666666, \"#ed7953\"], [0.7777777777777778, \"#fb9f3a\"], [0.8888888888888888, \"#fdca26\"], [1.0, \"#f0f921\"]], \"sequentialminus\": [[0.0, \"#0d0887\"], [0.1111111111111111, \"#46039f\"], [0.2222222222222222, \"#7201a8\"], [0.3333333333333333, \"#9c179e\"], [0.4444444444444444, \"#bd3786\"], [0.5555555555555556, \"#d8576b\"], [0.6666666666666666, \"#ed7953\"], [0.7777777777777778, \"#fb9f3a\"], [0.8888888888888888, \"#fdca26\"], [1.0, \"#f0f921\"]]}, \"colorway\": [\"#636efa\", \"#EF553B\", \"#00cc96\", \"#ab63fa\", \"#FFA15A\", \"#19d3f3\", \"#FF6692\", \"#B6E880\", \"#FF97FF\", \"#FECB52\"], \"font\": {\"color\": \"#2a3f5f\"}, \"geo\": {\"bgcolor\": \"white\", \"lakecolor\": \"white\", \"landcolor\": \"#E5ECF6\", \"showlakes\": true, \"showland\": true, \"subunitcolor\": \"white\"}, \"hoverlabel\": {\"align\": \"left\"}, \"hovermode\": \"closest\", \"mapbox\": {\"style\": \"light\"}, \"paper_bgcolor\": \"white\", \"plot_bgcolor\": \"#E5ECF6\", \"polar\": {\"angularaxis\": {\"gridcolor\": \"white\", \"linecolor\": \"white\", \"ticks\": \"\"}, \"bgcolor\": \"#E5ECF6\", \"radialaxis\": {\"gridcolor\": \"white\", \"linecolor\": \"white\", \"ticks\": \"\"}}, \"scene\": {\"xaxis\": {\"backgroundcolor\": \"#E5ECF6\", \"gridcolor\": \"white\", \"gridwidth\": 2, \"linecolor\": \"white\", \"showbackground\": true, \"ticks\": \"\", \"zerolinecolor\": \"white\"}, \"yaxis\": {\"backgroundcolor\": \"#E5ECF6\", \"gridcolor\": \"white\", \"gridwidth\": 2, \"linecolor\": \"white\", \"showbackground\": true, \"ticks\": \"\", \"zerolinecolor\": \"white\"}, \"zaxis\": {\"backgroundcolor\": \"#E5ECF6\", \"gridcolor\": \"white\", \"gridwidth\": 2, \"linecolor\": \"white\", \"showbackground\": true, \"ticks\": \"\", \"zerolinecolor\": \"white\"}}, \"shapedefaults\": {\"line\": {\"color\": \"#2a3f5f\"}}, \"ternary\": {\"aaxis\": {\"gridcolor\": \"white\", \"linecolor\": \"white\", \"ticks\": \"\"}, \"baxis\": {\"gridcolor\": \"white\", \"linecolor\": \"white\", \"ticks\": \"\"}, \"bgcolor\": \"#E5ECF6\", \"caxis\": {\"gridcolor\": \"white\", \"linecolor\": \"white\", \"ticks\": \"\"}}, \"title\": {\"x\": 0.05}, \"xaxis\": {\"automargin\": true, \"gridcolor\": \"white\", \"linecolor\": \"white\", \"ticks\": \"\", \"title\": {\"standoff\": 15}, \"zerolinecolor\": \"white\", \"zerolinewidth\": 2}, \"yaxis\": {\"automargin\": true, \"gridcolor\": \"white\", \"linecolor\": \"white\", \"ticks\": \"\", \"title\": {\"standoff\": 15}, \"zerolinecolor\": \"white\", \"zerolinewidth\": 2}}}, \"xaxis\": {\"title\": {\"text\": \"Dimensiones de matriz cuadrada\"}}, \"yaxis\": {\"title\": {\"text\": \"log tiempo (segundos)\"}}},                        {\"responsive\": true}                    ).then(function(){\n",
       "                            \n",
       "var gd = document.getElementById('61ffad9c-e66f-4e5b-a309-8535592d665b');\n",
       "var x = new MutationObserver(function (mutations, observer) {{\n",
       "        var display = window.getComputedStyle(gd).display;\n",
       "        if (!display || display === 'none') {{\n",
       "            console.log([gd, 'removed!']);\n",
       "            Plotly.purge(gd);\n",
       "            observer.disconnect();\n",
       "        }}\n",
       "}});\n",
       "\n",
       "// Listen for the removal of the full notebook cells\n",
       "var notebookContainer = gd.closest('#notebook-container');\n",
       "if (notebookContainer) {{\n",
       "    x.observe(notebookContainer, {childList: true});\n",
       "}}\n",
       "\n",
       "// Listen for the clearing of the current output cell\n",
       "var outputEl = gd.closest('.output');\n",
       "if (outputEl) {{\n",
       "    x.observe(outputEl, {childList: true});\n",
       "}}\n",
       "\n",
       "                        })                };                });            </script>        </div>"
      ]
     },
     "metadata": {},
     "output_type": "display_data"
    }
   ],
   "source": [
    "fig = go.Figure(layout=dict(xaxis=dict(title=\"Dimensiones de matriz cuadrada\"), \n",
    "                            yaxis=dict(title=\"log tiempo (segundos)\")))\n",
    "fig.add_scatter(x=dimensiones, y=np.log(dispersos), name=\"Dispersos\")\n",
    "fig.add_scatter(x=dimensiones, y=np.log(no_dispersos), name=\"No dispersos\")\n",
    "fig.show()"
   ]
  },
  {
   "cell_type": "code",
   "execution_count": 62,
   "metadata": {},
   "outputs": [
    {
     "data": {
      "application/vnd.plotly.v1+json": {
       "config": {
        "plotlyServerURL": "https://plot.ly"
       },
       "data": [
        {
         "name": "Dispersos",
         "type": "scatter",
         "x": [
          "2*1^3",
          "2*2^3",
          "2*3^3",
          "2*4^3",
          "2*5^3",
          "2*6^3",
          "2*7^3",
          "2*8^3",
          "2*9^3",
          "2*10^3",
          "2*11^3",
          "2*12^3",
          "2*13^3"
         ],
         "y": [
          0.4552612949996728,
          0.4452900309997858,
          0.023222813000302267,
          0.06963927400011016,
          0.18153776500003005,
          0.5072747999997773,
          1.329985489000137,
          2.618952326999988,
          6.759350931999961,
          12.639755415999844,
          22.773638854000183,
          36.218264868999995,
          70.16305263899994
         ]
        },
        {
         "name": "No dispersos",
         "type": "scatter",
         "x": [
          "2*1^3",
          "2*2^3",
          "2*3^3",
          "2*4^3",
          "2*5^3",
          "2*6^3",
          "2*7^3",
          "2*8^3",
          "2*9^3",
          "2*10^3",
          "2*11^3",
          "2*12^3",
          "2*13^3"
         ],
         "y": [
          0.0004964989998370584,
          0.09823458300024868,
          0.013589677000254596,
          0.0997082290000435,
          0.26826888300001883,
          1.2018377750000582,
          5.069789955000033,
          12.450030437999885,
          24.74125728099989,
          62.73223085000018,
          139.79900970500012,
          333.7229289369998,
          649.1948673889997
         ]
        }
       ],
       "layout": {
        "template": {
         "data": {
          "bar": [
           {
            "error_x": {
             "color": "#2a3f5f"
            },
            "error_y": {
             "color": "#2a3f5f"
            },
            "marker": {
             "line": {
              "color": "#E5ECF6",
              "width": 0.5
             }
            },
            "type": "bar"
           }
          ],
          "barpolar": [
           {
            "marker": {
             "line": {
              "color": "#E5ECF6",
              "width": 0.5
             }
            },
            "type": "barpolar"
           }
          ],
          "carpet": [
           {
            "aaxis": {
             "endlinecolor": "#2a3f5f",
             "gridcolor": "white",
             "linecolor": "white",
             "minorgridcolor": "white",
             "startlinecolor": "#2a3f5f"
            },
            "baxis": {
             "endlinecolor": "#2a3f5f",
             "gridcolor": "white",
             "linecolor": "white",
             "minorgridcolor": "white",
             "startlinecolor": "#2a3f5f"
            },
            "type": "carpet"
           }
          ],
          "choropleth": [
           {
            "colorbar": {
             "outlinewidth": 0,
             "ticks": ""
            },
            "type": "choropleth"
           }
          ],
          "contour": [
           {
            "colorbar": {
             "outlinewidth": 0,
             "ticks": ""
            },
            "colorscale": [
             [
              0,
              "#0d0887"
             ],
             [
              0.1111111111111111,
              "#46039f"
             ],
             [
              0.2222222222222222,
              "#7201a8"
             ],
             [
              0.3333333333333333,
              "#9c179e"
             ],
             [
              0.4444444444444444,
              "#bd3786"
             ],
             [
              0.5555555555555556,
              "#d8576b"
             ],
             [
              0.6666666666666666,
              "#ed7953"
             ],
             [
              0.7777777777777778,
              "#fb9f3a"
             ],
             [
              0.8888888888888888,
              "#fdca26"
             ],
             [
              1,
              "#f0f921"
             ]
            ],
            "type": "contour"
           }
          ],
          "contourcarpet": [
           {
            "colorbar": {
             "outlinewidth": 0,
             "ticks": ""
            },
            "type": "contourcarpet"
           }
          ],
          "heatmap": [
           {
            "colorbar": {
             "outlinewidth": 0,
             "ticks": ""
            },
            "colorscale": [
             [
              0,
              "#0d0887"
             ],
             [
              0.1111111111111111,
              "#46039f"
             ],
             [
              0.2222222222222222,
              "#7201a8"
             ],
             [
              0.3333333333333333,
              "#9c179e"
             ],
             [
              0.4444444444444444,
              "#bd3786"
             ],
             [
              0.5555555555555556,
              "#d8576b"
             ],
             [
              0.6666666666666666,
              "#ed7953"
             ],
             [
              0.7777777777777778,
              "#fb9f3a"
             ],
             [
              0.8888888888888888,
              "#fdca26"
             ],
             [
              1,
              "#f0f921"
             ]
            ],
            "type": "heatmap"
           }
          ],
          "heatmapgl": [
           {
            "colorbar": {
             "outlinewidth": 0,
             "ticks": ""
            },
            "colorscale": [
             [
              0,
              "#0d0887"
             ],
             [
              0.1111111111111111,
              "#46039f"
             ],
             [
              0.2222222222222222,
              "#7201a8"
             ],
             [
              0.3333333333333333,
              "#9c179e"
             ],
             [
              0.4444444444444444,
              "#bd3786"
             ],
             [
              0.5555555555555556,
              "#d8576b"
             ],
             [
              0.6666666666666666,
              "#ed7953"
             ],
             [
              0.7777777777777778,
              "#fb9f3a"
             ],
             [
              0.8888888888888888,
              "#fdca26"
             ],
             [
              1,
              "#f0f921"
             ]
            ],
            "type": "heatmapgl"
           }
          ],
          "histogram": [
           {
            "marker": {
             "colorbar": {
              "outlinewidth": 0,
              "ticks": ""
             }
            },
            "type": "histogram"
           }
          ],
          "histogram2d": [
           {
            "colorbar": {
             "outlinewidth": 0,
             "ticks": ""
            },
            "colorscale": [
             [
              0,
              "#0d0887"
             ],
             [
              0.1111111111111111,
              "#46039f"
             ],
             [
              0.2222222222222222,
              "#7201a8"
             ],
             [
              0.3333333333333333,
              "#9c179e"
             ],
             [
              0.4444444444444444,
              "#bd3786"
             ],
             [
              0.5555555555555556,
              "#d8576b"
             ],
             [
              0.6666666666666666,
              "#ed7953"
             ],
             [
              0.7777777777777778,
              "#fb9f3a"
             ],
             [
              0.8888888888888888,
              "#fdca26"
             ],
             [
              1,
              "#f0f921"
             ]
            ],
            "type": "histogram2d"
           }
          ],
          "histogram2dcontour": [
           {
            "colorbar": {
             "outlinewidth": 0,
             "ticks": ""
            },
            "colorscale": [
             [
              0,
              "#0d0887"
             ],
             [
              0.1111111111111111,
              "#46039f"
             ],
             [
              0.2222222222222222,
              "#7201a8"
             ],
             [
              0.3333333333333333,
              "#9c179e"
             ],
             [
              0.4444444444444444,
              "#bd3786"
             ],
             [
              0.5555555555555556,
              "#d8576b"
             ],
             [
              0.6666666666666666,
              "#ed7953"
             ],
             [
              0.7777777777777778,
              "#fb9f3a"
             ],
             [
              0.8888888888888888,
              "#fdca26"
             ],
             [
              1,
              "#f0f921"
             ]
            ],
            "type": "histogram2dcontour"
           }
          ],
          "mesh3d": [
           {
            "colorbar": {
             "outlinewidth": 0,
             "ticks": ""
            },
            "type": "mesh3d"
           }
          ],
          "parcoords": [
           {
            "line": {
             "colorbar": {
              "outlinewidth": 0,
              "ticks": ""
             }
            },
            "type": "parcoords"
           }
          ],
          "pie": [
           {
            "automargin": true,
            "type": "pie"
           }
          ],
          "scatter": [
           {
            "marker": {
             "colorbar": {
              "outlinewidth": 0,
              "ticks": ""
             }
            },
            "type": "scatter"
           }
          ],
          "scatter3d": [
           {
            "line": {
             "colorbar": {
              "outlinewidth": 0,
              "ticks": ""
             }
            },
            "marker": {
             "colorbar": {
              "outlinewidth": 0,
              "ticks": ""
             }
            },
            "type": "scatter3d"
           }
          ],
          "scattercarpet": [
           {
            "marker": {
             "colorbar": {
              "outlinewidth": 0,
              "ticks": ""
             }
            },
            "type": "scattercarpet"
           }
          ],
          "scattergeo": [
           {
            "marker": {
             "colorbar": {
              "outlinewidth": 0,
              "ticks": ""
             }
            },
            "type": "scattergeo"
           }
          ],
          "scattergl": [
           {
            "marker": {
             "colorbar": {
              "outlinewidth": 0,
              "ticks": ""
             }
            },
            "type": "scattergl"
           }
          ],
          "scattermapbox": [
           {
            "marker": {
             "colorbar": {
              "outlinewidth": 0,
              "ticks": ""
             }
            },
            "type": "scattermapbox"
           }
          ],
          "scatterpolar": [
           {
            "marker": {
             "colorbar": {
              "outlinewidth": 0,
              "ticks": ""
             }
            },
            "type": "scatterpolar"
           }
          ],
          "scatterpolargl": [
           {
            "marker": {
             "colorbar": {
              "outlinewidth": 0,
              "ticks": ""
             }
            },
            "type": "scatterpolargl"
           }
          ],
          "scatterternary": [
           {
            "marker": {
             "colorbar": {
              "outlinewidth": 0,
              "ticks": ""
             }
            },
            "type": "scatterternary"
           }
          ],
          "surface": [
           {
            "colorbar": {
             "outlinewidth": 0,
             "ticks": ""
            },
            "colorscale": [
             [
              0,
              "#0d0887"
             ],
             [
              0.1111111111111111,
              "#46039f"
             ],
             [
              0.2222222222222222,
              "#7201a8"
             ],
             [
              0.3333333333333333,
              "#9c179e"
             ],
             [
              0.4444444444444444,
              "#bd3786"
             ],
             [
              0.5555555555555556,
              "#d8576b"
             ],
             [
              0.6666666666666666,
              "#ed7953"
             ],
             [
              0.7777777777777778,
              "#fb9f3a"
             ],
             [
              0.8888888888888888,
              "#fdca26"
             ],
             [
              1,
              "#f0f921"
             ]
            ],
            "type": "surface"
           }
          ],
          "table": [
           {
            "cells": {
             "fill": {
              "color": "#EBF0F8"
             },
             "line": {
              "color": "white"
             }
            },
            "header": {
             "fill": {
              "color": "#C8D4E3"
             },
             "line": {
              "color": "white"
             }
            },
            "type": "table"
           }
          ]
         },
         "layout": {
          "annotationdefaults": {
           "arrowcolor": "#2a3f5f",
           "arrowhead": 0,
           "arrowwidth": 1
          },
          "autotypenumbers": "strict",
          "coloraxis": {
           "colorbar": {
            "outlinewidth": 0,
            "ticks": ""
           }
          },
          "colorscale": {
           "diverging": [
            [
             0,
             "#8e0152"
            ],
            [
             0.1,
             "#c51b7d"
            ],
            [
             0.2,
             "#de77ae"
            ],
            [
             0.3,
             "#f1b6da"
            ],
            [
             0.4,
             "#fde0ef"
            ],
            [
             0.5,
             "#f7f7f7"
            ],
            [
             0.6,
             "#e6f5d0"
            ],
            [
             0.7,
             "#b8e186"
            ],
            [
             0.8,
             "#7fbc41"
            ],
            [
             0.9,
             "#4d9221"
            ],
            [
             1,
             "#276419"
            ]
           ],
           "sequential": [
            [
             0,
             "#0d0887"
            ],
            [
             0.1111111111111111,
             "#46039f"
            ],
            [
             0.2222222222222222,
             "#7201a8"
            ],
            [
             0.3333333333333333,
             "#9c179e"
            ],
            [
             0.4444444444444444,
             "#bd3786"
            ],
            [
             0.5555555555555556,
             "#d8576b"
            ],
            [
             0.6666666666666666,
             "#ed7953"
            ],
            [
             0.7777777777777778,
             "#fb9f3a"
            ],
            [
             0.8888888888888888,
             "#fdca26"
            ],
            [
             1,
             "#f0f921"
            ]
           ],
           "sequentialminus": [
            [
             0,
             "#0d0887"
            ],
            [
             0.1111111111111111,
             "#46039f"
            ],
            [
             0.2222222222222222,
             "#7201a8"
            ],
            [
             0.3333333333333333,
             "#9c179e"
            ],
            [
             0.4444444444444444,
             "#bd3786"
            ],
            [
             0.5555555555555556,
             "#d8576b"
            ],
            [
             0.6666666666666666,
             "#ed7953"
            ],
            [
             0.7777777777777778,
             "#fb9f3a"
            ],
            [
             0.8888888888888888,
             "#fdca26"
            ],
            [
             1,
             "#f0f921"
            ]
           ]
          },
          "colorway": [
           "#636efa",
           "#EF553B",
           "#00cc96",
           "#ab63fa",
           "#FFA15A",
           "#19d3f3",
           "#FF6692",
           "#B6E880",
           "#FF97FF",
           "#FECB52"
          ],
          "font": {
           "color": "#2a3f5f"
          },
          "geo": {
           "bgcolor": "white",
           "lakecolor": "white",
           "landcolor": "#E5ECF6",
           "showlakes": true,
           "showland": true,
           "subunitcolor": "white"
          },
          "hoverlabel": {
           "align": "left"
          },
          "hovermode": "closest",
          "mapbox": {
           "style": "light"
          },
          "paper_bgcolor": "white",
          "plot_bgcolor": "#E5ECF6",
          "polar": {
           "angularaxis": {
            "gridcolor": "white",
            "linecolor": "white",
            "ticks": ""
           },
           "bgcolor": "#E5ECF6",
           "radialaxis": {
            "gridcolor": "white",
            "linecolor": "white",
            "ticks": ""
           }
          },
          "scene": {
           "xaxis": {
            "backgroundcolor": "#E5ECF6",
            "gridcolor": "white",
            "gridwidth": 2,
            "linecolor": "white",
            "showbackground": true,
            "ticks": "",
            "zerolinecolor": "white"
           },
           "yaxis": {
            "backgroundcolor": "#E5ECF6",
            "gridcolor": "white",
            "gridwidth": 2,
            "linecolor": "white",
            "showbackground": true,
            "ticks": "",
            "zerolinecolor": "white"
           },
           "zaxis": {
            "backgroundcolor": "#E5ECF6",
            "gridcolor": "white",
            "gridwidth": 2,
            "linecolor": "white",
            "showbackground": true,
            "ticks": "",
            "zerolinecolor": "white"
           }
          },
          "shapedefaults": {
           "line": {
            "color": "#2a3f5f"
           }
          },
          "ternary": {
           "aaxis": {
            "gridcolor": "white",
            "linecolor": "white",
            "ticks": ""
           },
           "baxis": {
            "gridcolor": "white",
            "linecolor": "white",
            "ticks": ""
           },
           "bgcolor": "#E5ECF6",
           "caxis": {
            "gridcolor": "white",
            "linecolor": "white",
            "ticks": ""
           }
          },
          "title": {
           "x": 0.05
          },
          "xaxis": {
           "automargin": true,
           "gridcolor": "white",
           "linecolor": "white",
           "ticks": "",
           "title": {
            "standoff": 15
           },
           "zerolinecolor": "white",
           "zerolinewidth": 2
          },
          "yaxis": {
           "automargin": true,
           "gridcolor": "white",
           "linecolor": "white",
           "ticks": "",
           "title": {
            "standoff": 15
           },
           "zerolinecolor": "white",
           "zerolinewidth": 2
          }
         }
        },
        "xaxis": {
         "title": {
          "text": "Dimensiones de matriz cuadrada"
         }
        },
        "yaxis": {
         "title": {
          "text": "tiempo (segundos)"
         }
        }
       }
      },
      "text/html": [
       "<div>                            <div id=\"ac5e2c82-a400-4b9a-affb-63fb6e108f1a\" class=\"plotly-graph-div\" style=\"height:525px; width:100%;\"></div>            <script type=\"text/javascript\">                require([\"plotly\"], function(Plotly) {                    window.PLOTLYENV=window.PLOTLYENV || {};                                    if (document.getElementById(\"ac5e2c82-a400-4b9a-affb-63fb6e108f1a\")) {                    Plotly.newPlot(                        \"ac5e2c82-a400-4b9a-affb-63fb6e108f1a\",                        [{\"name\": \"Dispersos\", \"type\": \"scatter\", \"x\": [\"2*1^3\", \"2*2^3\", \"2*3^3\", \"2*4^3\", \"2*5^3\", \"2*6^3\", \"2*7^3\", \"2*8^3\", \"2*9^3\", \"2*10^3\", \"2*11^3\", \"2*12^3\", \"2*13^3\"], \"y\": [0.4552612949996728, 0.4452900309997858, 0.023222813000302267, 0.06963927400011016, 0.18153776500003005, 0.5072747999997773, 1.329985489000137, 2.618952326999988, 6.759350931999961, 12.639755415999844, 22.773638854000183, 36.218264868999995, 70.16305263899994]}, {\"name\": \"No dispersos\", \"type\": \"scatter\", \"x\": [\"2*1^3\", \"2*2^3\", \"2*3^3\", \"2*4^3\", \"2*5^3\", \"2*6^3\", \"2*7^3\", \"2*8^3\", \"2*9^3\", \"2*10^3\", \"2*11^3\", \"2*12^3\", \"2*13^3\"], \"y\": [0.0004964989998370584, 0.09823458300024868, 0.013589677000254596, 0.0997082290000435, 0.26826888300001883, 1.2018377750000582, 5.069789955000033, 12.450030437999885, 24.74125728099989, 62.73223085000018, 139.79900970500012, 333.7229289369998, 649.1948673889997]}],                        {\"template\": {\"data\": {\"bar\": [{\"error_x\": {\"color\": \"#2a3f5f\"}, \"error_y\": {\"color\": \"#2a3f5f\"}, \"marker\": {\"line\": {\"color\": \"#E5ECF6\", \"width\": 0.5}}, \"type\": \"bar\"}], \"barpolar\": [{\"marker\": {\"line\": {\"color\": \"#E5ECF6\", \"width\": 0.5}}, \"type\": \"barpolar\"}], \"carpet\": [{\"aaxis\": {\"endlinecolor\": \"#2a3f5f\", \"gridcolor\": \"white\", \"linecolor\": \"white\", \"minorgridcolor\": \"white\", \"startlinecolor\": \"#2a3f5f\"}, \"baxis\": {\"endlinecolor\": \"#2a3f5f\", \"gridcolor\": \"white\", \"linecolor\": \"white\", \"minorgridcolor\": \"white\", \"startlinecolor\": \"#2a3f5f\"}, \"type\": \"carpet\"}], \"choropleth\": [{\"colorbar\": {\"outlinewidth\": 0, \"ticks\": \"\"}, \"type\": \"choropleth\"}], \"contour\": [{\"colorbar\": {\"outlinewidth\": 0, \"ticks\": \"\"}, \"colorscale\": [[0.0, \"#0d0887\"], [0.1111111111111111, \"#46039f\"], [0.2222222222222222, \"#7201a8\"], [0.3333333333333333, \"#9c179e\"], [0.4444444444444444, \"#bd3786\"], [0.5555555555555556, \"#d8576b\"], [0.6666666666666666, \"#ed7953\"], [0.7777777777777778, \"#fb9f3a\"], [0.8888888888888888, \"#fdca26\"], [1.0, \"#f0f921\"]], \"type\": \"contour\"}], \"contourcarpet\": [{\"colorbar\": {\"outlinewidth\": 0, \"ticks\": \"\"}, \"type\": \"contourcarpet\"}], \"heatmap\": [{\"colorbar\": {\"outlinewidth\": 0, \"ticks\": \"\"}, \"colorscale\": [[0.0, \"#0d0887\"], [0.1111111111111111, \"#46039f\"], [0.2222222222222222, \"#7201a8\"], [0.3333333333333333, \"#9c179e\"], [0.4444444444444444, \"#bd3786\"], [0.5555555555555556, \"#d8576b\"], [0.6666666666666666, \"#ed7953\"], [0.7777777777777778, \"#fb9f3a\"], [0.8888888888888888, \"#fdca26\"], [1.0, \"#f0f921\"]], \"type\": \"heatmap\"}], \"heatmapgl\": [{\"colorbar\": {\"outlinewidth\": 0, \"ticks\": \"\"}, \"colorscale\": [[0.0, \"#0d0887\"], [0.1111111111111111, \"#46039f\"], [0.2222222222222222, \"#7201a8\"], [0.3333333333333333, \"#9c179e\"], [0.4444444444444444, \"#bd3786\"], [0.5555555555555556, \"#d8576b\"], [0.6666666666666666, \"#ed7953\"], [0.7777777777777778, \"#fb9f3a\"], [0.8888888888888888, \"#fdca26\"], [1.0, \"#f0f921\"]], \"type\": \"heatmapgl\"}], \"histogram\": [{\"marker\": {\"colorbar\": {\"outlinewidth\": 0, \"ticks\": \"\"}}, \"type\": \"histogram\"}], \"histogram2d\": [{\"colorbar\": {\"outlinewidth\": 0, \"ticks\": \"\"}, \"colorscale\": [[0.0, \"#0d0887\"], [0.1111111111111111, \"#46039f\"], [0.2222222222222222, \"#7201a8\"], [0.3333333333333333, \"#9c179e\"], [0.4444444444444444, \"#bd3786\"], [0.5555555555555556, \"#d8576b\"], [0.6666666666666666, \"#ed7953\"], [0.7777777777777778, \"#fb9f3a\"], [0.8888888888888888, \"#fdca26\"], [1.0, \"#f0f921\"]], \"type\": \"histogram2d\"}], \"histogram2dcontour\": [{\"colorbar\": {\"outlinewidth\": 0, \"ticks\": \"\"}, \"colorscale\": [[0.0, \"#0d0887\"], [0.1111111111111111, \"#46039f\"], [0.2222222222222222, \"#7201a8\"], [0.3333333333333333, \"#9c179e\"], [0.4444444444444444, \"#bd3786\"], [0.5555555555555556, \"#d8576b\"], [0.6666666666666666, \"#ed7953\"], [0.7777777777777778, \"#fb9f3a\"], [0.8888888888888888, \"#fdca26\"], [1.0, \"#f0f921\"]], \"type\": \"histogram2dcontour\"}], \"mesh3d\": [{\"colorbar\": {\"outlinewidth\": 0, \"ticks\": \"\"}, \"type\": \"mesh3d\"}], \"parcoords\": [{\"line\": {\"colorbar\": {\"outlinewidth\": 0, \"ticks\": \"\"}}, \"type\": \"parcoords\"}], \"pie\": [{\"automargin\": true, \"type\": \"pie\"}], \"scatter\": [{\"marker\": {\"colorbar\": {\"outlinewidth\": 0, \"ticks\": \"\"}}, \"type\": \"scatter\"}], \"scatter3d\": [{\"line\": {\"colorbar\": {\"outlinewidth\": 0, \"ticks\": \"\"}}, \"marker\": {\"colorbar\": {\"outlinewidth\": 0, \"ticks\": \"\"}}, \"type\": \"scatter3d\"}], \"scattercarpet\": [{\"marker\": {\"colorbar\": {\"outlinewidth\": 0, \"ticks\": \"\"}}, \"type\": \"scattercarpet\"}], \"scattergeo\": [{\"marker\": {\"colorbar\": {\"outlinewidth\": 0, \"ticks\": \"\"}}, \"type\": \"scattergeo\"}], \"scattergl\": [{\"marker\": {\"colorbar\": {\"outlinewidth\": 0, \"ticks\": \"\"}}, \"type\": \"scattergl\"}], \"scattermapbox\": [{\"marker\": {\"colorbar\": {\"outlinewidth\": 0, \"ticks\": \"\"}}, \"type\": \"scattermapbox\"}], \"scatterpolar\": [{\"marker\": {\"colorbar\": {\"outlinewidth\": 0, \"ticks\": \"\"}}, \"type\": \"scatterpolar\"}], \"scatterpolargl\": [{\"marker\": {\"colorbar\": {\"outlinewidth\": 0, \"ticks\": \"\"}}, \"type\": \"scatterpolargl\"}], \"scatterternary\": [{\"marker\": {\"colorbar\": {\"outlinewidth\": 0, \"ticks\": \"\"}}, \"type\": \"scatterternary\"}], \"surface\": [{\"colorbar\": {\"outlinewidth\": 0, \"ticks\": \"\"}, \"colorscale\": [[0.0, \"#0d0887\"], [0.1111111111111111, \"#46039f\"], [0.2222222222222222, \"#7201a8\"], [0.3333333333333333, \"#9c179e\"], [0.4444444444444444, \"#bd3786\"], [0.5555555555555556, \"#d8576b\"], [0.6666666666666666, \"#ed7953\"], [0.7777777777777778, \"#fb9f3a\"], [0.8888888888888888, \"#fdca26\"], [1.0, \"#f0f921\"]], \"type\": \"surface\"}], \"table\": [{\"cells\": {\"fill\": {\"color\": \"#EBF0F8\"}, \"line\": {\"color\": \"white\"}}, \"header\": {\"fill\": {\"color\": \"#C8D4E3\"}, \"line\": {\"color\": \"white\"}}, \"type\": \"table\"}]}, \"layout\": {\"annotationdefaults\": {\"arrowcolor\": \"#2a3f5f\", \"arrowhead\": 0, \"arrowwidth\": 1}, \"autotypenumbers\": \"strict\", \"coloraxis\": {\"colorbar\": {\"outlinewidth\": 0, \"ticks\": \"\"}}, \"colorscale\": {\"diverging\": [[0, \"#8e0152\"], [0.1, \"#c51b7d\"], [0.2, \"#de77ae\"], [0.3, \"#f1b6da\"], [0.4, \"#fde0ef\"], [0.5, \"#f7f7f7\"], [0.6, \"#e6f5d0\"], [0.7, \"#b8e186\"], [0.8, \"#7fbc41\"], [0.9, \"#4d9221\"], [1, \"#276419\"]], \"sequential\": [[0.0, \"#0d0887\"], [0.1111111111111111, \"#46039f\"], [0.2222222222222222, \"#7201a8\"], [0.3333333333333333, \"#9c179e\"], [0.4444444444444444, \"#bd3786\"], [0.5555555555555556, \"#d8576b\"], [0.6666666666666666, \"#ed7953\"], [0.7777777777777778, \"#fb9f3a\"], [0.8888888888888888, \"#fdca26\"], [1.0, \"#f0f921\"]], \"sequentialminus\": [[0.0, \"#0d0887\"], [0.1111111111111111, \"#46039f\"], [0.2222222222222222, \"#7201a8\"], [0.3333333333333333, \"#9c179e\"], [0.4444444444444444, \"#bd3786\"], [0.5555555555555556, \"#d8576b\"], [0.6666666666666666, \"#ed7953\"], [0.7777777777777778, \"#fb9f3a\"], [0.8888888888888888, \"#fdca26\"], [1.0, \"#f0f921\"]]}, \"colorway\": [\"#636efa\", \"#EF553B\", \"#00cc96\", \"#ab63fa\", \"#FFA15A\", \"#19d3f3\", \"#FF6692\", \"#B6E880\", \"#FF97FF\", \"#FECB52\"], \"font\": {\"color\": \"#2a3f5f\"}, \"geo\": {\"bgcolor\": \"white\", \"lakecolor\": \"white\", \"landcolor\": \"#E5ECF6\", \"showlakes\": true, \"showland\": true, \"subunitcolor\": \"white\"}, \"hoverlabel\": {\"align\": \"left\"}, \"hovermode\": \"closest\", \"mapbox\": {\"style\": \"light\"}, \"paper_bgcolor\": \"white\", \"plot_bgcolor\": \"#E5ECF6\", \"polar\": {\"angularaxis\": {\"gridcolor\": \"white\", \"linecolor\": \"white\", \"ticks\": \"\"}, \"bgcolor\": \"#E5ECF6\", \"radialaxis\": {\"gridcolor\": \"white\", \"linecolor\": \"white\", \"ticks\": \"\"}}, \"scene\": {\"xaxis\": {\"backgroundcolor\": \"#E5ECF6\", \"gridcolor\": \"white\", \"gridwidth\": 2, \"linecolor\": \"white\", \"showbackground\": true, \"ticks\": \"\", \"zerolinecolor\": \"white\"}, \"yaxis\": {\"backgroundcolor\": \"#E5ECF6\", \"gridcolor\": \"white\", \"gridwidth\": 2, \"linecolor\": \"white\", \"showbackground\": true, \"ticks\": \"\", \"zerolinecolor\": \"white\"}, \"zaxis\": {\"backgroundcolor\": \"#E5ECF6\", \"gridcolor\": \"white\", \"gridwidth\": 2, \"linecolor\": \"white\", \"showbackground\": true, \"ticks\": \"\", \"zerolinecolor\": \"white\"}}, \"shapedefaults\": {\"line\": {\"color\": \"#2a3f5f\"}}, \"ternary\": {\"aaxis\": {\"gridcolor\": \"white\", \"linecolor\": \"white\", \"ticks\": \"\"}, \"baxis\": {\"gridcolor\": \"white\", \"linecolor\": \"white\", \"ticks\": \"\"}, \"bgcolor\": \"#E5ECF6\", \"caxis\": {\"gridcolor\": \"white\", \"linecolor\": \"white\", \"ticks\": \"\"}}, \"title\": {\"x\": 0.05}, \"xaxis\": {\"automargin\": true, \"gridcolor\": \"white\", \"linecolor\": \"white\", \"ticks\": \"\", \"title\": {\"standoff\": 15}, \"zerolinecolor\": \"white\", \"zerolinewidth\": 2}, \"yaxis\": {\"automargin\": true, \"gridcolor\": \"white\", \"linecolor\": \"white\", \"ticks\": \"\", \"title\": {\"standoff\": 15}, \"zerolinecolor\": \"white\", \"zerolinewidth\": 2}}}, \"xaxis\": {\"title\": {\"text\": \"Dimensiones de matriz cuadrada\"}}, \"yaxis\": {\"title\": {\"text\": \"tiempo (segundos)\"}}},                        {\"responsive\": true}                    ).then(function(){\n",
       "                            \n",
       "var gd = document.getElementById('ac5e2c82-a400-4b9a-affb-63fb6e108f1a');\n",
       "var x = new MutationObserver(function (mutations, observer) {{\n",
       "        var display = window.getComputedStyle(gd).display;\n",
       "        if (!display || display === 'none') {{\n",
       "            console.log([gd, 'removed!']);\n",
       "            Plotly.purge(gd);\n",
       "            observer.disconnect();\n",
       "        }}\n",
       "}});\n",
       "\n",
       "// Listen for the removal of the full notebook cells\n",
       "var notebookContainer = gd.closest('#notebook-container');\n",
       "if (notebookContainer) {{\n",
       "    x.observe(notebookContainer, {childList: true});\n",
       "}}\n",
       "\n",
       "// Listen for the clearing of the current output cell\n",
       "var outputEl = gd.closest('.output');\n",
       "if (outputEl) {{\n",
       "    x.observe(outputEl, {childList: true});\n",
       "}}\n",
       "\n",
       "                        })                };                });            </script>        </div>"
      ]
     },
     "metadata": {},
     "output_type": "display_data"
    }
   ],
   "source": [
    "fig = go.Figure(layout=dict(xaxis=dict(title=\"Dimensiones de matriz cuadrada\"), \n",
    "                            yaxis=dict(title=\"tiempo (segundos)\")))\n",
    "fig.add_scatter(x=dimensiones, y=dispersos, name=\"Dispersos\")\n",
    "fig.add_scatter(x=dimensiones, y=no_dispersos, name=\"No dispersos\")\n",
    "fig.show()"
   ]
  },
  {
   "cell_type": "code",
   "execution_count": 63,
   "metadata": {},
   "outputs": [],
   "source": [
    "spsolve?"
   ]
  },
  {
   "cell_type": "code",
   "execution_count": 64,
   "metadata": {},
   "outputs": [],
   "source": [
    "np.linalg.solve?"
   ]
  },
  {
   "cell_type": "markdown",
   "metadata": {},
   "source": [
    "---"
   ]
  },
  {
   "cell_type": "markdown",
   "metadata": {},
   "source": [
    "[Volver al índice](#Índice)"
   ]
  }
 ],
 "metadata": {
  "@webio": {
   "lastCommId": null,
   "lastKernelId": null
  },
  "kernelspec": {
   "display_name": "Python 3",
   "language": "python",
   "name": "python3"
  },
  "language_info": {
   "codemirror_mode": {
    "name": "ipython",
    "version": 3
   },
   "file_extension": ".py",
   "mimetype": "text/x-python",
   "name": "python",
   "nbconvert_exporter": "python",
   "pygments_lexer": "ipython3",
   "version": "3.7.9"
  }
 },
 "nbformat": 4,
 "nbformat_minor": 4
}
