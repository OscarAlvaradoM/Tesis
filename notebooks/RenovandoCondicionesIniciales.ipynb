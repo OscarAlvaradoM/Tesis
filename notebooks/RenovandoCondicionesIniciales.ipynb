{
 "cells": [
  {
   "cell_type": "markdown",
   "metadata": {},
   "source": [
    "# Pruebas del método de volumen finito\n",
    "- Óscar Alvarado\n",
    "- Oscar Esquivel\n",
    "- Jose Porras"
   ]
  },
  {
   "cell_type": "code",
   "execution_count": 1,
   "metadata": {},
   "outputs": [],
   "source": [
    "import numpy as np\n",
    "import plotly.graph_objects as go\n",
    "from scipy.sparse.linalg import spsolve\n",
    "import matplotlib.pyplot as plt"
   ]
  },
  {
   "cell_type": "markdown",
   "metadata": {},
   "source": [
    "## Índice"
   ]
  },
  {
   "cell_type": "markdown",
   "metadata": {},
   "source": [
    "1. [Mallado](#Mallado)\n",
    "2. [Mallado escalonado](#Staggered-grids)\n",
    "3. [SIMPLE](#SIMPLE)\n",
    "4. [Coeficientes](#Coeficientes)\n",
    "5. [Difusión](#Difusión)\n",
    "6. [Convección](#Convección)\n",
    "7. [Sistema de ecuaciones](#Sistema-de-ecuaciones)\n",
    "8. [Problemas](#Problemas)\n",
    "    - [Una dimensión](#Una-dimensión)\n",
    "    - [Una dimensión, no uniformidad](#Una-dimensión,-no-uniformidad)\n",
    "    - [Una dimensión con convección](#Una-dimensión-con-convección)\n",
    "    - [Dos dimensiones](#Dos-dimensiones)\n",
    "    - [Tres dimensiones](#Tres-dimensiones)\n",
    "9. [Problemas importando las clases](#Problemas-importando-las-clases)\n",
    "    - [Una dimensión](#Una-dimensión-con-clases)\n",
    "    - [Una dimensión, no uniformidad](#Una-dimensión,-no-uniformidad-con-clases)\n",
    "    - [Una dimensión con convección](#Una-dimensión-con-convección-con-clases)\n",
    "    - [Dos dimensiones](#Dos-dimensiones-con-clases)\n",
    "    - [Tres dimensiones](#Tres-dimensiones-con-clases)\n",
    "10. [Presión y velocidad](#Presión-y-velocidad)\n",
    "    - [Una dimensión](#Una-dimensión-escalonado)\n",
    "    - [Dos dimensiones](#Dos-dimensiones-escalonado)\n",
    "11. [Condiciones iniciales](#Problema-condiciones-iniciales)"
   ]
  },
  {
   "cell_type": "markdown",
   "metadata": {},
   "source": [
    "## Mallado"
   ]
  },
  {
   "cell_type": "code",
   "execution_count": 2,
   "metadata": {},
   "outputs": [],
   "source": [
    "class Mesh():\n",
    "    \"\"\"\n",
    "    Clase del mallado\n",
    "    \"\"\"\n",
    "    def __init__(self, dim, volumes = None, lengths = None):\n",
    "        \"\"\"\n",
    "        Constructor de la clase Malla.\n",
    "        \"\"\"\n",
    "\n",
    "        self.volumes = (1,1,1)\n",
    "        self.lengths = (0.01, 0.01, 0.01)\n",
    "\n",
    "        #----default values for positions and separations of the grid-------------\n",
    "        self.coords = [(0.005,) for _ in range(3)] # Coordenadas de los centros de los volúmenes\n",
    "        self.dominios = [tuple([0.]+[self.coords[i][0]]+[self.lengths[i]]) for i in range(3)]\n",
    "        self.deltas = [(0,) for _ in range(3)]\n",
    "        # Hasta aquí tenemos un cubito\n",
    "\n",
    "        self.__tags = {} # El etiquetado de todos los nodos sin fronteras\n",
    "        self.__tags_fronteras = {} # El etiquetado de las fronteras\n",
    "        \n",
    "        self.dim = dim\n",
    "        if isinstance(volumes, int):  self.volumes = (volumes, 1, 1)\n",
    "        if isinstance(lengths, (int, float)):  self.lengths = (lengths, lengths/10, lengths/10)\n",
    "        \n",
    "        # Si los parámetros son tuplas (pero no necesariamente sería una tupla de 3), arreglamos eso:\n",
    "        if isinstance(volumes, tuple):\n",
    "            faltan = 3 - len(volumes)\n",
    "            self.volumes = volumes + tuple([1 for i in range(faltan)])\n",
    "        if isinstance(lengths, tuple): \n",
    "            faltan = 3 - len(lengths)\n",
    "            self.lengths = lengths + tuple([lengths[0]/10 for i in range(faltan)])\n",
    "        #---------------------------------------------------------------\n",
    "        \n",
    "        # if volumes and lengths are given, initialize values acording to dimension\n",
    "        if (volumes and lengths):       \n",
    "            self.uniform_grid()\n",
    "            self.init_tags()\n",
    "            self.init_tags_fronteras()\n",
    "    \n",
    "    \n",
    "    def uniform_grid(self):\n",
    "        l = np.array(self.lengths) # Para el manejo con numpy\n",
    "        v = np.array(self.volumes)\n",
    "        d = l/v # Separación entre todos los nodos de cada dimensión\n",
    "        start = d/2 # La frontera \"inicial\" del arreglo\n",
    "        stop = l-d/2 # La frontera \"final\" del arreglo\n",
    "        self.coords = [tuple(np.linspace(strt, stp, vol)) \\\n",
    "                       for strt, stp, vol in list(zip(start, stop, v))] # Meshgrid posible\n",
    "        dominios = [np.insert(arr,(0,len(arr)),[0, l[idx]]) \\\n",
    "                    for idx, arr in enumerate(self.coords)] # Coordenadas + fronteras\n",
    "        # Separación entre los nodos (Aquí hay que ver cómo es cuando tenemos un grid \n",
    "        # de 2x1x1 ya cuando se haga el FVM\n",
    "        self.deltas = [self.set_deltas(dom)  if len(self.set_deltas(dom)) != 0 \\\n",
    "                       else (dom[-1],) for dom in dominios]\n",
    "        self.dominios = [tuple(dom) for dom in dominios]\n",
    "        #self.faces = [tuple((np.array(coords[:-1]) + np.array(coords[1:]))/2) for coords in self.coords]\n",
    "        self.faces = [(self.dominios[idx][0],) + tuple((np.array(coords[:-1]) + np.array(coords[1:]))/2) \\\n",
    "                          + (self.dominios[idx][-1],) for idx, coords in enumerate(self.coords)]\n",
    "        self.get_deltas_faces()\n",
    "        self.get_grids()\n",
    "    \n",
    "    \n",
    "    def set_deltas(self, dominio):\n",
    "        \"\"\"\n",
    "        Método para obtener la distancia que hay entre los nodos\n",
    "        \"\"\"\n",
    "        return tuple((dominio[1:]-dominio[:-1])[1:-1])\n",
    "\n",
    "\n",
    "    # Creo que esto no se usará, pero estuvo chida la deducción, lo dejo de todos modos xd\n",
    "    #def totalDomNodes(self):\n",
    "    #    d_1 = 6*self.volumes[0] + 1\n",
    "    #    d_2 = self.volumes[1]*d_1 - self.volumes[0]*(self.volumes[1] - 1)\n",
    "    #    d_3 = self.volumes[2]*d_2 - self.volumes[0]*self.volumes[1]*(self.volumes[2] - 1)\n",
    "    #    return d_3\n",
    "    \n",
    "    def init_tags(self):\n",
    "        \"\"\"\n",
    "        Método que etiqueta las caras adyacentes de cada volumen dependiendo de la geometría. Pone un {} \n",
    "        (diccionario vacío) cuando es una frontera, una 'F' cuando es una cara interna y un 'Off' cuando \n",
    "        no se está contando esa cara por las dimensiones del problema. \n",
    "        \"\"\"\n",
    "        self.__tags = {}\n",
    "        X, Y, Z = self.volumes\n",
    "        for z in range(1,Z+1):\n",
    "            for y in range(1,Y+1):\n",
    "                for x in range(1,X+1):                   \n",
    "                    t = b = n = s = \"Off\"\n",
    "                    e = w = \"F\"\n",
    "                    if x == 1: w = {}\n",
    "                    elif x == X: e = {}\n",
    "                    if self.dim > 1:\n",
    "                        n = s = \"F\"\n",
    "                        if y == 1: n = {}\n",
    "                        elif y == Y: s = {}\n",
    "                        if self.dim == 3:\n",
    "                            t = b = \"F\"\n",
    "                            if z == 1: t = {}\n",
    "                            elif z == Z: b = {}\n",
    "                    self.__tags[f\"{x}-{y}-{z}\"] = {\"E\": e, \"W\": w, \"N\": n, \"S\": s, \"T\": t, \"B\": b, \n",
    "                                             \"coord\": [self.dominios[0][x], self.dominios[1][y], \n",
    "                                                       self.dominios[2][z]]}\n",
    "    \n",
    "    def init_tags_fronteras(self):\n",
    "        \"\"\"\n",
    "        Método para etiquetar las fronteras dependiendo de la dimensión, sólo se les da la propiedad de \n",
    "        existir o no existir.\n",
    "        \"\"\"\n",
    "        self.__tags_fronteras = {}\n",
    "        X, Y, Z = [len(dom) for dom in self.dominios]\n",
    "        for z in range(Z):\n",
    "            for y in range(Y):\n",
    "                for x in range(X):\n",
    "                    t = b = n = s = \"Off\"\n",
    "                    e = w = \"ON\"\n",
    "                    if self.dim > 1: \n",
    "                        n = s = \"ON\"\n",
    "                        if self.dim == 3: t = b = \"ON\"\n",
    "                    # El siguiente cacho de código es para saber si nos encontramos con una frontera\n",
    "                    if x==0 or y==0 or z==0 or x==(X-1) or y==(Y-1) or z==(Z-1):\n",
    "                        var = None\n",
    "                        if y != 0 and y != (Y - 1):\n",
    "                            if z != 0 and z != (Z - 1):\n",
    "                                if x == 0: var = \"W\"; value = w\n",
    "                                elif x == (X - 1): var = \"E\"; value = e\n",
    "                                else: continue\n",
    "                            elif x != 0 and x != (X - 1):\n",
    "                                if z == 0: var = \"T\"; value = t\n",
    "                                elif z == (Z - 1): var = \"B\"; value = b\n",
    "                                else: continue\n",
    "                            else: continue\n",
    "                            self.__tags_fronteras[f\"{x}-{y}-{z}\"] = {\"frontera\": {var: value},\n",
    "                                                 \"coord\": [self.dominios[0][x], self.dominios[1][y],\n",
    "                                                           self.dominios[2][z]], \"cond\": {}} \n",
    "                        elif z != 0 and z != (Z - 1):\n",
    "                            if x != 0 and x != (X - 1):\n",
    "                                if y == 0: var = \"N\"; value = n\n",
    "                                elif y == (Y - 1) : var = \"S\"; value = s\n",
    "                                self.__tags_fronteras[f\"{x}-{y}-{z}\"] = {\"frontera\": {var: value},\n",
    "                                                 \"coord\": [self.dominios[0][x], self.dominios[1][y], \n",
    "                                                           self.dominios[2][z]], \"cond\": {}} \n",
    "                        else: continue\n",
    "            \n",
    "    def tag_wall(self, direction, tag, value):\n",
    "        \"\"\"\n",
    "        Método para etiquetar fronteras dada la dirección, el tipo de condición de frontera y el valor.\n",
    "        \"\"\"\n",
    "        for key in self.__tags.keys():\n",
    "            if isinstance(self.__tags[key][direction], dict):\n",
    "                self.__tags[key][direction][tag] = value\n",
    "        for key in self.__tags_fronteras.keys():\n",
    "            if self.__tags_fronteras[key][\"frontera\"].get(direction) == \"ON\":\n",
    "                self.__tags_fronteras[key][\"cond\"][tag] = value\n",
    "\n",
    "    def tag_wall_dirichlet(self, direction, value, coords=None):\n",
    "        \"\"\"\n",
    "        Método para etiquetar fronteras con condición de Dirichlet dados ciertos valores.\n",
    "        \"\"\"\n",
    "        if coords:\n",
    "            for idx, key in enumerate(coords):\n",
    "                if key in list(self.__tags.keys()):\n",
    "                    self.__tags[key][direction[idx]][\"D\"] = value[idx]\n",
    "                elif key in list(self.__tags_fronteras.keys()):\n",
    "                    self.__tags_fronteras[key][\"cond\"][\"D\"] =  value[idx]\n",
    "        else:\n",
    "            if isinstance(direction, list):\n",
    "                for idx, direct in enumerate(direction):\n",
    "                    self.tag_wall(direct, \"D\", value[idx])\n",
    "            else:\n",
    "                self.tag_wall(direction, \"D\", value)\n",
    "                    \n",
    "    def tag_wall_neumann(self, direction, value, coords=None):\n",
    "        \"\"\"\n",
    "        Método para etiquetar fronteras con condición de Neumann dados ciertos valores.\n",
    "        \"\"\"\n",
    "        if coords:\n",
    "            for idx, key in enumerate(coords):\n",
    "                if key in list(self.__tags.keys()):\n",
    "                    self.__tags[key][direction[idx]][\"N\"] = value[idx]\n",
    "                elif key in list(self.__tags_fronteras.keys()):\n",
    "                    self.__tags_fronteras[key][\"cond\"][\"N\"] = value[idx]\n",
    "        else:\n",
    "            if isinstance(direction, list):\n",
    "                for idx, direct in enumerate(direction):\n",
    "                    self.tag_wall(direct, \"N\", value[idx])\n",
    "            else:\n",
    "                self.tag_wall(direction, \"N\", value)\n",
    "                    \n",
    "    def tag_wall_source(self, direction, value, coords=None):\n",
    "        \"\"\"\n",
    "        Método para etiquetar fronteras con condición de Neumann dados ciertos valores.\n",
    "        \"\"\"\n",
    "        if coords:\n",
    "            for idx, key in enumerate(coords):\n",
    "                if key in list(self.__tags.keys()):\n",
    "                    self.__tags[key][direction[idx]][\"S\"] = value[idx]\n",
    "                elif key in list(self.__tags_fronteras.keys()):\n",
    "                    self.__tags_fronteras[key][\"cond\"][\"S\"] = value[idx]\n",
    "        else:\n",
    "            if isinstance(direction, list):\n",
    "                for idx, direct in enumerate(direction):\n",
    "                    self.tag_wall(direct, \"S\", value[idx])\n",
    "            else:\n",
    "                self.tag_wall(direction, \"S\", value)\n",
    "                \n",
    "                \n",
    "    def tag_wall_insulated(self, direction, coords=None):\n",
    "        \"\"\"\n",
    "        Método para etiquetar fronteras con condición de aislamiento.\n",
    "        \"\"\"\n",
    "        if coords:\n",
    "            for idx, key in enumerate(coords):\n",
    "                if key in list(self.__tags.keys()):\n",
    "                    self.__tags[key][direction[idx]][\"I\"] = None\n",
    "                elif key in list(self.__tags_fronteras.keys()):\n",
    "                    self.__tags_fronteras[key][\"cond\"][\"I\"] = None\n",
    "        else:\n",
    "            if isinstance(direction, list):\n",
    "                for idx, direct in enumerate(direction):\n",
    "                    self.tag_wall(direct, \"I\", None)\n",
    "            else:\n",
    "                self.tag_wall(direction, \"I\", None)\n",
    "                \n",
    "    \n",
    "    def set_dominio(self, dominio, faces=None):\n",
    "        \"\"\"\n",
    "        Método para definir el dominio de estudio dadas unas coordenadas en forma de tupla.\n",
    "        \"\"\"\n",
    "        # Si 'dominio' no es tupla, transforma 'dominio' a la tupla unidimensional (dominio,)\n",
    "        # Tendría que ser una tupla de tuplas/listas/arreglos para que sea válido.\n",
    "        if not isinstance(dominio, (tuple, int, float)): # Creo que si es una lista o un arreglo, no int o float\n",
    "            tupla = (tuple(dominio), self.dominios[1], self.dominios[2])\n",
    "            dominio = tupla\n",
    "        # Asigna los atributos de la mesh correspondientes    \n",
    "        self.dominios = [tuple(dominio[i]) for i in range(3)]\n",
    "        self.coords = [tuple(dominio[i][1:-1]) for i in range(3)]\n",
    "        self.lengths = tuple([dominio[i][-1] for i in range(3)])\n",
    "        self.volumes = tuple([len(dominio[i][1:-1]) for i in range(3)])\n",
    "        #self.deltas = [self.set_deltas(np.array(dominio[i])) for i in range(3)]\n",
    "        self.deltas = [self.set_deltas(np.array(dom))  if len(self.set_deltas(np.array(dom))) != 0 \\\n",
    "                       else (dom[-1],) for dom in self.dominios]\n",
    "        \n",
    "        if faces: \n",
    "            # Si me está pasando una lista (o sea, es de una dimensión)\n",
    "            if isinstance(faces[0], (int, float)):\n",
    "                self.faces = tuple(dominio[0]) + tuple(faces) + tuple(dominio[-1])\n",
    "            else: # Suponemos aquí que nos está pasando una lista de listas (o tupla de tuplas)\n",
    "                for idx, face_1dim in enumerate(faces):\n",
    "                    faces[idx] = (dominio[idx][0], ) + tuple(face_1dim) + (dominio[idx][-1], )\n",
    "                self.faces = faces\n",
    "        else: \n",
    "            self.faces = [(self.dominios[idx][0],) + tuple((np.array(coords[:-1]) + np.array(coords[1:]))/2) \\\n",
    "                          + (self.dominios[idx][-1],) for idx, coords in enumerate(self.coords)]\n",
    "        self.get_deltas_faces()\n",
    "        self.init_tags()\n",
    "        self.init_tags_fronteras()\n",
    "        self.get_grids()\n",
    "    \n",
    "    def get_grid_deltas_dominios(self, axis=0, orientation=\"E\", reverse=False):\n",
    "        deltas_dominios = []\n",
    "        self.grid_deltas_dominios = np.array([])\n",
    "        dominios = [np.array(dom) for dom in self.dominios]\n",
    "        coords = [np.array(coord) for coord in self.coords]\n",
    "        for direction in range(3):\n",
    "            if direction != axis:\n",
    "                if len(dominios[direction]) == 3:\n",
    "                    deltas_dominios.append(dominios[direction][1])\n",
    "                else:\n",
    "                    deltas_dominios.append(coords[direction])\n",
    "            else:\n",
    "                deltas_dominios.append(dominios[direction][1:] - dominios[direction][:-1])\n",
    "        if orientation == \"E\" or orientation == \"S\" or orientation == \"B\":\n",
    "            if reverse:\n",
    "                deltas_dominios[axis] = deltas_dominios[axis][:-1]\n",
    "            else:\n",
    "                deltas_dominios[axis] = deltas_dominios[axis][1:]\n",
    "        else:\n",
    "            if reverse:\n",
    "                deltas_dominios[axis] = deltas_dominios[axis][1:]\n",
    "            else:\n",
    "                deltas_dominios[axis] = deltas_dominios[axis][:-1]\n",
    "        self.grid_deltas_dominios = np.meshgrid(deltas_dominios[0], deltas_dominios[1], deltas_dominios[2], \n",
    "                                                indexing='ij')\n",
    "        return self.grid_deltas_dominios\n",
    "    \n",
    "    \n",
    "    def get_deltas_faces(self):\n",
    "        self.deltas_faces = []\n",
    "        faces = [np.array(caras) for caras in self.faces]\n",
    "        dominio = [np.array(doms) for doms in self.dominios]\n",
    "        for direction in range(3):\n",
    "            self.deltas_faces.append(faces[direction][1:] - faces[direction][:-1])\n",
    "            \n",
    "    def get_grids(self):\n",
    "        self.grid_deltas = np.array([])\n",
    "        self.grid_faces = np.array([])\n",
    "        self.grid_coords = np.array([])\n",
    "        deltas = self.deltas\n",
    "        coords = self.coords\n",
    "        faces = self.faces\n",
    "        self.grid_deltas = np.meshgrid(deltas[0], deltas[1], deltas[2], indexing='ij')\n",
    "        self.grid_coords = np.meshgrid(coords[0], coords[1], coords[2], indexing='ij')\n",
    "        self.grid_faces = np.meshgrid(faces[0], faces[1], faces[2], indexing='ij')\n",
    "                \n",
    "    \n",
    "    def info(self):\n",
    "        \"\"\"\n",
    "        Método para imprimir información relevante del mallado\n",
    "        \"\"\"\n",
    "        print('=====================================')\n",
    "        print('     MESH INFORMATION   ')\n",
    "        print('=====================================')\n",
    "        print(\"\\nMesh type: Cartesian\")\n",
    "        print(f\"Number of dimensions of mesh: {self.dim}\")\n",
    "        variables = \"X Y Z\".split()\n",
    "        for idx in range(self.dim):\n",
    "            var = variables[idx]\n",
    "            print(f\"\\n ----- {var}-axis -----\")\n",
    "            print(f\"Number of {var.lower()} volumes: {self.volumes[idx]}\")\n",
    "            print(f\"Lenght {var.lower()} of problem domain: {self.lengths[idx]}\")\n",
    "            print(f\"List of {var.lower()} positions of volumes: \\n{self.coords[idx]}\")\n",
    "            print(f\"List of {var.lower()} positions of domain nodes: \\n{self.dominios[idx]}\")\n",
    "            \n",
    "            \n",
    "    def draw(self):\n",
    "        \"\"\"\n",
    "        Método para graficar la malla. Este método se invoca hasta que se hayan inizializado todas las condiciones\n",
    "        de frontera.\n",
    "        \"\"\"\n",
    "        # Graficamos las fronteras, sean o no activas\n",
    "        dic_colors = {\"D\": \"darkturquoise\", \"N\": \"red\", \"S\": \"magenta\", \"Off\": \"white\", \"I\": \"gray\"}\n",
    "        condiciones = [list(self.__tags_fronteras[key][\"cond\"].keys())[0] \\\n",
    "                       if list(self.__tags_fronteras[key][\"frontera\"].values())[0] == \"ON\" \\\n",
    "                       else \"Off\" for key in list(self.__tags_fronteras.keys())]\n",
    "        colores = [dic_colors[cond] for cond in condiciones]\n",
    "        # Obtenemos las coordenadas de las fronteras y de los nodos internos.\n",
    "        coordenadas = [] # Aquí se pondrán las coordenadas de las fronteras\n",
    "        coord = [] # Aquí las coordendas de los nodos internos\n",
    "        for i in range(3):\n",
    "            coordenadas.append([self.__tags_fronteras[key][\"coord\"][i] \\\n",
    "                                for key in list(self.__tags_fronteras.keys())])\n",
    "            coord.append([self.__tags[key][\"coord\"][i] for key in list(self.__tags.keys())])\n",
    "        fig = go.Figure(data = go.Scatter3d(x = coordenadas[0], y = coordenadas[1], z = coordenadas[2],\n",
    "                                          mode = 'markers', marker = dict(color = colores, \n",
    "                                                                          symbol = \"square\", size = 2)))\n",
    "        fig.add_trace(go.Scatter3d(x = coord[0], y = coord[1], z = coord[2],\n",
    "                                              mode = 'markers', marker = dict(color = \"blue\", size = 5)))\n",
    "        fig.show()\n",
    "\n",
    "\n",
    "    def get_area(self, direction = 0, extended=False):\n",
    "        \"\"\"\n",
    "        Método que regresa las áreas del volumen en la dirección indicada\n",
    "        \"\"\"\n",
    "        perpendicular = [i for i in range(3) if i != direction]\n",
    "        num_fronteras = self.volumes[direction]\n",
    "        #if inplace:\n",
    "        #    arreglo = [self.deltas_faces[idx][1:-1] if idx in perpendicular else np.ones(num_fronteras) \\\n",
    "        #          for idx in range(3)]\n",
    "        #else:\n",
    "        arreglo = [self.deltas_faces[idx] if idx in perpendicular else np.ones(num_fronteras) \\\n",
    "                  for idx in range(3)]\n",
    "        if extended:\n",
    "            arreglo = [self.deltas_faces[idx] if idx in perpendicular else np.ones(num_fronteras+1) \\\n",
    "                  for idx in range(3)]\n",
    "        areas_grid = np.meshgrid(arreglo[0], arreglo[1], arreglo[2], indexing='ij')\n",
    "        \n",
    "        return areas_grid[perpendicular[0]]*areas_grid[perpendicular[1]]\n",
    "    \n",
    "    def stag_def(self, direct=0):\n",
    "        \"\"\"\n",
    "        Gives the parameters needed for defining a staggered mesh via the 'setDominio()'\n",
    "        method.\n",
    "        \"\"\"\n",
    "        # Lo que antes eran los dominios en un eje, ahora serán las caras. En los demás ejes queda igual.\n",
    "        clean = lambda x: list(x[2:-2])\n",
    "        clean_2 = lambda x: list(x[1:-1])\n",
    "        caras = [clean(self.dominios[idx]) if direct==idx else clean_2(self.faces[idx]) for idx in range(3)]\n",
    "        \n",
    "        # Lo que antes eran las caras en un eje, ahora serán los dominios. En los demás ejes queda igual.\n",
    "        # Sólo movemos el eje del que estemos creando el mallado escalonado\n",
    "        dominio = [self.faces[idx] if direct==idx else self.dominios[idx] for idx in range(3)]\n",
    "        return tuple(dominio), tuple(caras)"
   ]
  },
  {
   "cell_type": "markdown",
   "metadata": {},
   "source": [
    "[Volver al índice](#Índice)"
   ]
  },
  {
   "cell_type": "markdown",
   "metadata": {},
   "source": [
    "## Staggered grids"
   ]
  },
  {
   "cell_type": "code",
   "execution_count": 3,
   "metadata": {},
   "outputs": [],
   "source": [
    "class StagMesh(Mesh):\n",
    "    def __init__(self, malla_origen, direction=0, stag=\"b\"):\n",
    "        self.malla_origen = malla_origen\n",
    "        dim = malla_origen.dim\n",
    "        super().__init__(dim)\n",
    "        doms, facs = malla_origen.stag_def(direction, stag)\n",
    "        self.set_dominio(dominio = doms, faces = list(facs))"
   ]
  },
  {
   "cell_type": "markdown",
   "metadata": {},
   "source": [
    "[Volver al índice](#Índice)"
   ]
  },
  {
   "cell_type": "markdown",
   "metadata": {},
   "source": [
    "## SIMPLE"
   ]
  },
  {
   "cell_type": "code",
   "execution_count": 4,
   "metadata": {},
   "outputs": [],
   "source": [
    "class Simple():\n",
    "    def __init__(self, mallas, Γ=None, ρ=None):\n",
    "        self.malla_escalares = mallas[0]\n",
    "        self.mallas_vectoriales = mallas[1:]\n",
    "        #λ_vel = lambda indice: np.array([0 if indice!=idx else 1 for idx in range(3)])\n",
    "        #self.velocity_star = [np.zeros(np.array(malla.grid_coords[0].shape) + λ_vel(idx)) for idx, malla in \\\n",
    "        #                      enumerate(self.mallas_vectoriales)]\n",
    "        self.velocity_star = [np.zeros(np.array(malla.grid_coords[0].shape)) for malla in self.mallas_vectoriales]\n",
    "                              \n",
    "        for idx, vel_star in enumerate(self.velocity_star):\n",
    "            tmp = self.velocity_star[idx][:1,:,:]\n",
    "            self.velocity_star[idx][:1,:,:] = np.array(self.get_boundary_condition(self.mallas_vectoriales[idx],\"W\")).reshape(tmp.shape)\n",
    "            tmp = self.velocity_star[idx][-1:,:,:]\n",
    "            self.velocity_star[idx][-1:,:,:] = np.array(self.get_boundary_condition(self.mallas_vectoriales[idx],\"E\")).reshape(tmp.shape)\n",
    "            if self.mallas_vectoriales[idx].dim > 1:\n",
    "                tmp = self.velocity_star[idx][:,:1,:]\n",
    "                self.velocity_star[idx][:,:1,:] = np.array(self.get_boundary_condition(self.mallas_vectoriales[idx],\"S\")).reshape(tmp.shape)\n",
    "                tmp = self.velocity_star[idx][:,-1:,:]\n",
    "                self.velocity_star[idx][:,-1:,:] = np.array(self.get_boundary_condition(self.mallas_vectoriales[idx],\"N\")).reshape(tmp.shape)\n",
    "            if self.mallas_vectoriales[idx].dim == 3:\n",
    "                tmp = self.velocity_star[idx][:,:,:1]\n",
    "                self.velocity_star[idx][:,:,:1] = np.array(self.get_boundary_condition(self.mallas_vectoriales[idx],\"B\")).reshape(tmp.shape)\n",
    "                tmp = self.velocity_star[idx][:,:,-1:]\n",
    "                self.velocity_star[idx][:,:,-1:] = np.array(self.get_boundary_condition(self.mallas_vectoriales[idx],\"T\")).reshape(tmp.shape)\n",
    "                \n",
    "        self.pressure_star = np.zeros(self.malla_escalares.grid_coords[0].shape)\n",
    "        \n",
    "        self.coef_pressure = Coefficients(malla, mesh_type=\"p\",pressure_star=self.pressure_star,\n",
    "                                          velocity_star=self.velocity_star)\n",
    "        self.coef_velocity = [Coefficients(mesh,mesh_type=\"v\",pressure_star=self.pressure_star,\n",
    "                                          velocity_star=self.velocity_star,idx=idx,strategy=\"b\") \\\n",
    "                              for idx, mesh in enumerate(self.mallas_vectoriales)]\n",
    "        if Γ:\n",
    "            #coef_pressure.set_diffusion(Γ) Este no lo puedo agregar aún porque necesito los coefs de vel\n",
    "            [coef.set_diffusion(Γ) for coef in self.coef_velocity]\n",
    "        if ρ:\n",
    "            #self.coef_pressure.set_convection(ρ) Este no lo puedo agregar aún porque necesito los coefs de vel\n",
    "            [coef.set_convection(ρ, self.velocity_star, simple=True) for coef in self.coef_velocity]\n",
    "\n",
    "    def get_boundary_condition(self, malla, direction):\n",
    "        tags_fronteras = malla._Mesh__tags_fronteras\n",
    "        condicion = []\n",
    "        for tag in tags_fronteras:\n",
    "            if list(tags_fronteras[tag][\"frontera\"].keys())[0] == direction:\n",
    "                cond = list(tags_fronteras[tag][\"cond\"].values())[0]\n",
    "                condicion.append(cond)\n",
    "        return condicion\n",
    "            \n",
    "    def get_approximation(self, ur=None):\n",
    "        coef_pressure = self.coef_pressure\n",
    "        coef_velocity = self.coef_velocity\n",
    "        pressure_star = self.pressure_star\n",
    "        velocity_star = self.velocity_star"
   ]
  },
  {
   "cell_type": "markdown",
   "metadata": {},
   "source": [
    "[Volver al índice](#Índice)"
   ]
  },
  {
   "cell_type": "markdown",
   "metadata": {},
   "source": [
    "## Coeficientes"
   ]
  },
  {
   "cell_type": "code",
   "execution_count": 59,
   "metadata": {},
   "outputs": [],
   "source": [
    "class Coefficients():\n",
    "    \"\"\"\n",
    "    Class that defines the coefficients that every node needs to form it's\n",
    "    discrete equation that represent the diferential equation. All the coefficients\n",
    "    needed for a scalar quantity (also called variable or unkown) are contained\n",
    "    in one object (instance of this class).\n",
    "    \"\"\"    \n",
    "    def __init__(self, mesh):\n",
    "        self.dim = mesh.dim\n",
    "        self._mesh = mesh\n",
    "        vols = mesh.volumes\n",
    "        \n",
    "        self.aP = np.zeros(vols)\n",
    "        self.aE = np.zeros(vols)\n",
    "        self.aW = np.zeros(vols)\n",
    "        self.Su = np.zeros(vols)\n",
    "        self.Sp = np.zeros(vols)\n",
    "\n",
    "        if self.dim > 1:\n",
    "            self.aN = np.zeros(vols)\n",
    "            self.aS = np.zeros(vols)\n",
    "        if self.dim == 3:\n",
    "            self.aT = np.zeros(vols)\n",
    "            self.aB = np.zeros(vols)\n",
    "        \n",
    "    def set_pressure_gradient(self,pressure_star,direction=0,strategy=\"b\"):\n",
    "        \"\"\"\n",
    "        Método que inicializa los coeficientes específicos de la velocidad\n",
    "        \"\"\"\n",
    "        sign = 1\n",
    "        if strategy==\"f\": sign = -1\n",
    "        malla = self._mesh\n",
    "        self.pressure_star = pressure_star\n",
    "        self.strategy = strategy\n",
    "        \n",
    "        # Calculando áreas importantes\n",
    "        areas = malla.get_area(direction=direction)\n",
    "        grad_presion = -sign*np.diff(pressure_star, axis=direction)\n",
    "        \n",
    "        self.Su -= grad_presion*areas\n",
    "        \n",
    "    def get_continuity_coeffs(self, mallas_velocidad, velocity_star, pressure_star, ds):\n",
    "        malla_presion = self._mesh\n",
    "        tupla_extra = lambda x: tuple([0 if x!=i else 2 for i in range(3)])\n",
    "        general_coeffs = [np.zeros(np.array(malla.volumes) + np.array(tupla_extra(idx))) \\\n",
    "                              for idx,malla in enumerate(mallas_velocidad)]\n",
    "        b = general_coeffs.copy()\n",
    "        areas = [malla.get_area(direction=idx) for idx, malla in enumerate(mallas_velocidad)]\n",
    "        areas_ext = [malla_presion.get_area(direction=idx,extended=True) \\\n",
    "                     for idx,_ in enumerate(mallas_velocidad)]\n",
    "        for idx, area in enumerate(areas):\n",
    "            volumes = mallas_velocidad[idx].volumes\n",
    "            slice_b = [slice(None,None) if idx!=i else slice(1, vols+1) for i, vols in enumerate(volumes)]\n",
    "            ### Aquí hay que moverle si queremos que la densidad cambie con la posición.\n",
    "            general_coeffs[idx][slice_b[0], slice_b[1], slice_b[2]] = area*ds[idx]*ρ\n",
    "            ### Aquí creo que se podrían usar las áreas nomás y con el mismo enfoque de arriba\n",
    "            ### pero no sé cómo funcione cuando las velocidades de las paredes no sean cero.\n",
    "            ### Es decir, cuando son normales y no cizallantes como en este caso \n",
    "            b[idx] = areas_ext[idx]*velocity_star[idx]*ρ\n",
    "        self.aE -= general_coeffs[0][1:,:,:]\n",
    "        self.aW -= general_coeffs[0][:-1,:,:]\n",
    "        bE = b[0][1:,:,:]\n",
    "        bW = b[0][:-1,:,:]\n",
    "        self.aP -= self.aE + self.aW\n",
    "        self.Su += -bE + bW\n",
    "        if len(general_coeffs) > 1:\n",
    "            self.aS -= general_coeffs[1][:,1:,:]\n",
    "            self.aN -= general_coeffs[1][:,:-1,:]\n",
    "            bS = b[1][:,1:,:]\n",
    "            bN = b[1][:,:-1,:]\n",
    "            self.aP -= self.aN + self.aS\n",
    "            self.Su += -bN + bS   ############################# Aquí hay que ver si cambianos N por S\n",
    "        if len(general_coeffs) == 3:\n",
    "            self.aB -= general_coeffs[2][:,:,1:]\n",
    "            self.aT -= general_coeffs[2][:,:,:-1]\n",
    "            bB = b[2][:,:,1:]\n",
    "            bT = b[2][:,:,:-1]\n",
    "            self.aP -= self.aT + self.aB\n",
    "            self.Su += -bT + bB   ############################# Aquí hay que ver si cambianos T por B\n",
    "\n",
    "    def set_diffusion(self,gamma,velocity_direction=None,pressure_mesh=None):\n",
    "        \"\"\"This method makes an instance of the Diffusion class and uses it to\n",
    "        update the aP,aE,aW, ... atributes.\n",
    "        \n",
    "        Gamma: The diffusion coeffcient of the transport equation, if the diffusion\n",
    "               coefficient is constant then a float can be given but in other cases\n",
    "               a function of the coordinates, denoted as Gamma=f(x,y,z) should be \n",
    "               used. (float or function)\"\"\"\n",
    "        \n",
    "        dim = self.dim\n",
    "        malla = self._mesh\n",
    "        diffusion = Diffusion(malla, gamma)\n",
    "        east_diff, sp_e, su_e = diffusion.get_diffusion_coef(\"E\",velocity_direction,pressure_mesh)\n",
    "        west_diff, sp_w, su_w = diffusion.get_diffusion_coef(\"W\",velocity_direction,pressure_mesh)\n",
    "        self.aE -= east_diff\n",
    "        self.aW -= west_diff\n",
    "        self.Sp -= sp_e + sp_w\n",
    "        self.Su += su_e + su_w\n",
    "        self.aP -=  self.aE + self.aW\n",
    "        if dim > 1:\n",
    "            north_diff, sp_n, su_n = diffusion.get_diffusion_coef(\"N\",velocity_direction,pressure_mesh)\n",
    "            south_diff, sp_s, su_s = diffusion.get_diffusion_coef(\"S\",velocity_direction,pressure_mesh)\n",
    "            self.aN -= north_diff\n",
    "            self.aS -= south_diff\n",
    "            self.Sp -= sp_n + sp_s\n",
    "            self.Su += su_n + su_s\n",
    "            self.aP -= self.aN + self.aS\n",
    "        if dim == 3:\n",
    "            top_diff, sp_t, su_t = diffusion.get_diffusion_coef(\"T\",velocity_direction,pressure_mesh)\n",
    "            bottom_diff, sp_b, su_b = diffusion.get_diffusion_coef(\"B\",velocity_direction,pressure_mesh)\n",
    "            self.aT -= top_diff\n",
    "            self.aB -= bottom_diff\n",
    "            self.Sp -= sp_t + sp_b\n",
    "            self.Su += su_t + su_b\n",
    "            self.aP -= top_diff + bottom_diff\n",
    "        self.aP -= self.Sp\n",
    "        \n",
    "    def set_convection(self,rho,vel,scheme='central',staggered=False,velocity_direction=None,\n",
    "                       pressure_mesh=None,stgy=\"b\"):\n",
    "        \"\"\"\n",
    "        This method makes an instance of the convection class and uses it to\n",
    "        update the aP, aE, aW, ... atributes.\n",
    "        \n",
    "        rho: float or 3D array that represents the density, if a float is used\n",
    "             it is assumed that the density is constant in all the physical \n",
    "             domain. (float/numpy array)\n",
    "        \n",
    "        vel: tuple of 3D arrays that represents the velocity, each 3D array in\n",
    "             the tuple represent a component of the velocity. It can be denoted \n",
    "             as vel=(u,v,w) where u, v and w are 3D arrays with values for all\n",
    "             of the volume borders positions. (tuple of numpy arrays) \n",
    "        \n",
    "        scheme: scheme to be used for the convection terms. Strings 'central' and \n",
    "                'upwind1' are currently valid (string).\n",
    "        \"\"\"\n",
    "        \n",
    "        dim = self.dim\n",
    "        malla = self._mesh\n",
    "        convection = Convection(malla, rho, vel, scheme)\n",
    "        east_conv, sp_e, su_e = convection.get_convection_coef(\"E\",staggered,\n",
    "                                        velocity_direction, vel,pressure_mesh,stgy)\n",
    "        west_conv, sp_w, su_w = convection.get_convection_coef(\"W\",staggered,\n",
    "                                        velocity_direction, vel,pressure_mesh,stgy)\n",
    "        east_f = convection.get_f(east_conv, \"E\")\n",
    "        west_f = convection.get_f(west_conv, \"W\")\n",
    "        self.aE += east_f\n",
    "        self.aW -= west_f\n",
    "        self.aP -= east_f + sp_e - sp_w - west_f\n",
    "        self.Su += su_e + su_w\n",
    "        self.Sp -= -sp_e + sp_w\n",
    "        if dim > 1:\n",
    "            north_conv, sp_n, su_n = convection.get_convection_coef(\"N\",staggered,\n",
    "                                        velocity_direction, vel,pressure_mesh,stgy)\n",
    "            south_conv, sp_s, su_s = convection.get_convection_coef(\"S\",staggered,\n",
    "                                        velocity_direction, vel,pressure_mesh,stgy)\n",
    "            north_f = convection.get_f(north_conv, \"N\")\n",
    "            south_f = convection.get_f(south_conv, \"S\")\n",
    "            self.aE += north_f\n",
    "            self.aW -= south_f\n",
    "            self.aP -= north_f + sp_n - sp_s - south_f\n",
    "            self.Su += su_n + su_s\n",
    "            self.Sp -= -sp_n + sp_s\n",
    "        if dim == 3:\n",
    "            top_conv, sp_t, su_t = convection.get_convection_coef(\"T\",staggered,\n",
    "                                        velocity_direction, vel,pressure_mesh,stgy)\n",
    "            bottom_conv, sp_b, su_b = convection.get_convection_coef(\"B\",staggered,\n",
    "                                        velocity_direction, vel,pressure_mesh,stgy)\n",
    "            top_f = convection.get_f(top_conv, \"T\")\n",
    "            bottom_f = convection.get_f(bottom_conv, \"B\")\n",
    "            self.aE += top_f\n",
    "            self.aW -= bottom_f\n",
    "            self.aP -= top_f + sp_t - sp_b - bottom_f\n",
    "            self.Su += su_t + su_b\n",
    "            self.Sp -= -sp_t + sp_b\n",
    "            \n",
    "    def get_Su(self):\n",
    "        return self.Su\n",
    "    \n",
    "    def get_Sp(self):\n",
    "        return self.Sp\n",
    "    \n",
    "    def get_aP(self):\n",
    "        return self.aP\n",
    "    \n",
    "    def get_aE(self):\n",
    "        return self.aE\n",
    "    \n",
    "    def get_aW(self):\n",
    "        return self.aW\n",
    "\n",
    "    def get_aN(self):\n",
    "        return self.aN\n",
    "\n",
    "    def get_aS(self):\n",
    "        return self.aS\n",
    "\n",
    "    def get_aT(self):\n",
    "        return self.aT\n",
    "\n",
    "    def get_aB(self):\n",
    "        return self.aB\n",
    "    \n",
    "    def add_source(self, source):\n",
    "        x, y, z = np.meshgrid(self._mesh.deltas_faces[0],self._mesh.deltas_faces[1],\n",
    "                              self._mesh.deltas_faces[2], \n",
    "                              indexing='ij')\n",
    "        vols = x*y*z\n",
    "        # Si es una constante\n",
    "        if isinstance(source, (int, float)):\n",
    "            self.Su += source*vols\n",
    "            \n",
    "        # Si es una función\n",
    "        else:\n",
    "            # Aquí se hacen como coordenadas radiales\n",
    "            crds = np.sqrt(np.sum(np.array([np.array(c) for c in self._mesh.coords if len(c) > 1])**2, \n",
    "                                  axis = 0))\n",
    "            self.Su += source(crds).reshape(self._mesh.volumes)*vols"
   ]
  },
  {
   "cell_type": "markdown",
   "metadata": {},
   "source": [
    "[Volver al índice](#Índice)"
   ]
  },
  {
   "cell_type": "markdown",
   "metadata": {},
   "source": [
    "## Difusión"
   ]
  },
  {
   "cell_type": "code",
   "execution_count": 491,
   "metadata": {},
   "outputs": [],
   "source": [
    "class Diffusion():\n",
    "    \"\"\"\n",
    "    Class that has the methods for calculating the modifications of the aP, aE, aW, ...\n",
    "    coefficients due to the Diffusion term in the transport equation.\n",
    "    \"\"\"\n",
    "    \n",
    "    def __init__(self, mesh, Γ):\n",
    "        \"\"\" \n",
    "        Saves the mesh and a function as attributes of the object.  \n",
    "        \n",
    "        Γ: function that can be evaluated to obtain the value of the difussion\n",
    "        coeficient, Γ, in a particular position, that is Γ = f(x,y,z). If \n",
    "        funcionΓ is an int or float it is assumed that the difussion coefficient \n",
    "        is constant. (float/int/function)\n",
    "        \"\"\"\n",
    "        \n",
    "        self._mesh = mesh\n",
    "        self._Γconstante = 0.\n",
    "        self._Γ = None\n",
    "        \n",
    "        if isinstance(Γ, (int,float)):\n",
    "            self._Γconstante = Γ * np.ones(self._mesh.volumes)\n",
    "            self._Γ = self.funcion_const\n",
    "        # Se asume que es una función en este caso\n",
    "        else:\n",
    "            self._Γ = Γ\n",
    "          \n",
    "    def funcion_const(self, x, y, z):\n",
    "        return self._Γconstante\n",
    "    \n",
    "    def get_diffusion_coef(self,direction,velocity_direction=None,pressure_mesh=None,stgy=\"b\"):\n",
    "        \"\"\"\n",
    "        Gives a 3D numpy array that should be used to correct the aB coefficient\n",
    "        caused by the diffusion effect.\n",
    "        \"\"\"\n",
    "        self.direction = direction\n",
    "        self.velocity_direction = velocity_direction\n",
    "        self.pressure_mesh = pressure_mesh\n",
    "        self.stgy = stgy\n",
    "        idx, idx_1 = 0,0\n",
    "        if direction in [\"E\", \"S\", \"B\"]: idx_1=-1\n",
    "        if direction in [\"N\", \"S\"]: idx=1\n",
    "        elif direction in [\"T\", \"B\"]: idx = 2\n",
    "        \n",
    "        if velocity_direction:\n",
    "            if velocity_direction==idx:\n",
    "                return self.get_basic_diffusion_coef(idx, idx_1)\n",
    "            else:\n",
    "                return self.get_staggered_diffusion_coef(idx, idx_1)\n",
    "        else:\n",
    "            return self.get_basic_diffusion_coef(idx, idx_1)\n",
    "        \n",
    "#     def get_staggered_diffusion_coef(self, idx, idx_1):\n",
    "#         direction = self.direction\n",
    "#         velocity_direction = self.velocity_direction\n",
    "#         pressure_mesh = self.pressure_mesh\n",
    "#         stgy = self.stgy\n",
    "#         mesh = self._mesh\n",
    "        \n",
    "#         faces = mesh.faces[velocity_direction]\n",
    "#         pressure_grid_coords = pressure_mesh.grid_coords[velocity_direction]\n",
    "#         x, y, z = np.meshgrid(mesh.coords[0], mesh.coords[1], mesh.coords[2])\n",
    "\n",
    "#         # Para obtener los coeficientes\n",
    "#         λ_δ = lambda x: slice(1,None) if x==\"b\" else slice(None,-1)\n",
    "#         slice_δ = [slice(None, None) if i!=velocity_direction else λ_δ(stgy) for i in range(3)]\n",
    "#         δ_d_grid = pressure_mesh.get_grid_deltas_dominios(axis=idx, orientation=direction)\n",
    "#         δ = δ_d_grid[idx][slice_δ[0], slice_δ[1], slice_δ[2]]\n",
    "        \n",
    "#         coord = [var if (i!=idx and i!=velocity_direction) else pressure_grid_coords[i] \\\n",
    "#                  for (i, var) in enumerate([x,y,z])]\n",
    "#         Γ = self._Γ(coord[0], coord[1], coord[2])\n",
    "\n",
    "\n",
    "#         #areas = mesh.get_area(direction=idx)\n",
    "#         areas = mesh.get_area(direction=velocity_direction)\n",
    "#         source = areas.copy()\n",
    "#         slice_1 = [slice(None,None) if var!=idx else idx_1 for var in range(3)]\n",
    "#         # Aquí es la parte en que se toman en cuenta las condiciones de frontera con la aproximación a segundo \n",
    "#         # orden, se agrega más adelante en el término Su esta contribución.\n",
    "#         areas[slice_1[0],slice_1[1],slice_1[2]] = 0\n",
    "\n",
    "#         λ_2 = lambda d: slice(None,-1) if d in [\"E\",\"S\",\"B\"] else slice(1,None)\n",
    "#         slice_2 = [slice(None,None) if var!=idx else λ_2(direction) for var in range(3)]\n",
    "#         source[slice_2[0],slice_2[1],slice_2[2]] = 0\n",
    "#         diff = Γ * areas / δ\n",
    "#         slice_3 = [slice(None,None) if var!=idx else (-idx_1-1) for var in range(3)]\n",
    "#         # Aquí es la parte en que se toman en cuenta las condiciones de frontera con la aproximación a segundo \n",
    "#         # orden, se agrega a la cara más próxima a la que está en la frontera un término que hace que al promediar\n",
    "#         # salgan las cuentas\n",
    "#         diff[slice_3[0],slice_3[1],slice_3[2]] += Γ * areas[slice_3[0],slice_3[1],slice_3[2]] \\\n",
    "#                                                             / (3*δ[slice_3[0],slice_3[1],slice_3[2]])\n",
    "        \n",
    "\n",
    "#         # Aquí obtenemos Sp\n",
    "#         sp = Γ * source / δ\n",
    "#         # Aquí no usa la velocidad, sólo tiene en cuenta el área, la viscosidad y la delta\n",
    "#         condicion = self.get_mask_boundaries_Sp(mesh, direction)\n",
    "#         λ_3 = lambda d: slice(-1,None) if d in [\"E\",\"S\",\"B\"] else slice(None,1)\n",
    "#         coord_4 = [slice(None,None) if var!=idx else λ_3(direction) for var in range(3)]\n",
    "#         tmp_sp = sp[coord_4[0],coord_4[1],coord_4[2]]\n",
    "#         sp[coord_4[0],coord_4[1],coord_4[2]] = 3*tmp_sp*np.array(condicion).reshape(tmp_sp.shape) - \\\n",
    "#                                                 (1/6)*tmp_sp*np.array(condicion).reshape(tmp_sp.shape)\n",
    "#         # Esto de 1/6 es medio ñero porque suponemos que del último volumen a la cara es de la mitad \n",
    "#         # del volumen que los demás volúmenes\n",
    "        \n",
    "#         # Aquí obtenemos Su\n",
    "#         # Aquí sí nos regresa algo que tiene que ver con las velocidades.\n",
    "#         conds_su = self.get_mask_boundaries_Su(mesh, direction, Γ = self._Γ)\n",
    "#         su = source\n",
    "#         tmp_su = su[coord_4[0],coord_4[1],coord_4[2]]\n",
    "#         su[coord_4[0],coord_4[1],coord_4[2]] = tmp_su*np.array(conds_su).reshape(tmp_su.shape)\n",
    "#         tmp_su = su[coord_4[0],coord_4[1],coord_4[2]]\n",
    "#         div = δ[coord_4[0],coord_4[1],coord_4[2]]*np.array(condicion).reshape(tmp_su.shape)\n",
    "#         div = np.where(div == 0., 1, div)\n",
    "#         su[coord_4[0],coord_4[1],coord_4[2]] = (tmp_su/div)*(8/3)\n",
    "#         return diff, sp, su\n",
    "    \n",
    "    def get_basic_diffusion_coef(self,idx,idx_1):\n",
    "        direction=self.direction\n",
    "        mesh = self._mesh\n",
    "        faces = mesh.faces[idx]\n",
    "        x, y, z = np.meshgrid(mesh.coords[0], mesh.coords[1], mesh.coords[2])\n",
    "        \n",
    "        # Para obtener los coeficientes\n",
    "        δ_d_grid = mesh.get_grid_deltas_dominios(axis=idx, orientation=direction)\n",
    "        δ = δ_d_grid[idx]\n",
    "        λ = lambda x, d: x[1:] if d in [\"E\",\"S\",\"B\"] else x[:-1]\n",
    "        coord = [var if i!=idx else λ(faces, direction) for (i, var) in enumerate([x,y,z])]\n",
    "        Γ = self._Γ(coord[0], coord[1], coord[2])\n",
    "        coord_l = [slice(None,None) if var!=idx else slice(None,-1) for var in range(3)]\n",
    "        coord_r = [slice(None,None) if var!=idx else slice(1,None) for var in range(3)]\n",
    "        # Aquí se pueden ponderar las Γ's\n",
    "        Γ_mean = (Γ[coord_l[0], coord_l[1], coord_l[2]] + Γ[coord_r[0], coord_r[1], coord_r[2]])*0.5\n",
    "        Γ_bar = np.zeros(Γ.shape)\n",
    "        areas = mesh.get_area(direction=idx)\n",
    "        source = areas.copy()\n",
    "        coord_2 = [slice(None,None) if var!=idx else idx_1 for var in range(3)]\n",
    "        areas[coord_2[0],coord_2[1],coord_2[2]] = 0\n",
    "        λ_2 = lambda d: slice(None,-1) if d in [\"E\",\"S\",\"B\"] else slice(1,None)\n",
    "        coord_3 = [slice(None,None) if var!=idx else λ_2(direction) for var in range(3)]\n",
    "        source[coord_3[0],coord_3[1],coord_3[2]] = 0\n",
    "        Γ_bar[coord_3[0],coord_3[1],coord_3[2]] = Γ_mean\n",
    "        diff = Γ_bar * areas / δ\n",
    "\n",
    "        # Aquí obtenemos Sp (que son las fuentes internas)\n",
    "        # Parece que estas siempre van\n",
    "        #sp = 0\n",
    "        λ_3 = lambda d: slice(-1,None) if d in [\"E\",\"S\",\"B\"] else slice(None,1)\n",
    "        coord_4 = [slice(None,None) if var!=idx else λ_3(direction) for var in range(3)]\n",
    "        condicion = self.get_mask_boundaries(mesh, direction)\n",
    "        sp = Γ * source / δ\n",
    "        tmp_sp = sp[coord_4[0],coord_4[1],coord_4[2]]\n",
    "        sp[coord_4[0],coord_4[1],coord_4[2]] = tmp_sp*np.array(condicion).reshape(tmp_sp.shape)\n",
    "        \n",
    "        # Agregamos ahora la contribución de la frontera\n",
    "        Γ_bound = Γ[coord_4[0], coord_4[1], coord_4[2]]\n",
    "        λ_4 = lambda d: slice(-2,-1) if d in [\"E\",\"S\",\"B\"] else slice(1,2)\n",
    "        coord_5 = [slice(None,None) if var!=idx else λ_4(direction) for var in range(3)]\n",
    "        Γ_bound_next = Γ[coord_5[0], coord_5[1], coord_5[2]]\n",
    "        bound_term_f = (Γ_bound + Γ_bound_next/3)* source / δ\n",
    "        bound_term_c = (-5*Γ_bound + Γ_bound_next)* source / δ\n",
    "        \n",
    "        # Aquí obtenemos Su (que son las condiciones de frontera)\n",
    "        Γ_cond = (3*Γ_bound - Γ_bound_next)/2\n",
    "        conds_su = self.get_mask_boundaries_Su(mesh, direction, Γ = Γ_cond)\n",
    "        su = source\n",
    "        tmp_su = su[coord_4[0],coord_4[1],coord_4[2]]\n",
    "        su[coord_4[0],coord_4[1],coord_4[2]] = tmp_su*np.array(conds_su).reshape(tmp_su.shape)\n",
    "        tmp_su = su[coord_4[0],coord_4[1],coord_4[2]]\n",
    "        div = δ[coord_4[0],coord_4[1],coord_4[2]]*np.array(condicion).reshape(tmp_su.shape)\n",
    "        div = np.where(div == 0., 1, div)\n",
    "        su[coord_4[0],coord_4[1],coord_4[2]] = tmp_su/div\n",
    "        return diff, sp, su\n",
    "    \n",
    "    # Aquí creamos una máscara que nos dirá qué condición de frontera hay por cada coordenada.\n",
    "    #### Hay que cambiar dependiendo de qué pase con cada condición de frontera.\n",
    "    def get_mask_boundaries(self, malla, direction):\n",
    "        tags_fronteras = malla._Mesh__tags_fronteras\n",
    "        condicion = []\n",
    "        dict_cond = {\"I\":0, \"N\":0, \"D\":1}\n",
    "        for tag in tags_fronteras:\n",
    "            if list(tags_fronteras[tag][\"frontera\"].keys())[0] == direction:\n",
    "                cond = list(tags_fronteras[tag][\"cond\"].keys())[0]\n",
    "                condicion.append(dict_cond[cond])\n",
    "        return condicion\n",
    "    \n",
    "    def get_mask_boundaries_Su(self, malla, direction, Γ):\n",
    "        tags_fronteras = malla._Mesh__tags_fronteras\n",
    "        condicion = []\n",
    "        counter_dirich = 0\n",
    "        for idx, tag in enumerate(tags_fronteras):\n",
    "            if list(tags_fronteras[tag][\"frontera\"].keys())[0] == direction:\n",
    "                cond = list(tags_fronteras[tag][\"cond\"].keys())[0]\n",
    "                if cond == \"I\":\n",
    "                    condicion.append(0)\n",
    "                elif cond == \"N\":\n",
    "                    condicion.append(tags_fronteras[tag][\"cond\"][cond])\n",
    "                elif cond == \"D\":\n",
    "                    x,y,z = tags_fronteras[tag][\"coord\"]\n",
    "                    condicion.append(tags_fronteras[tag][\"cond\"][cond]*np.ravel(Γ)[counter_dirich])\n",
    "                counter_dirich += 1\n",
    "        return condicion"
   ]
  },
  {
   "cell_type": "markdown",
   "metadata": {},
   "source": [
    "[Volver al índice](#Índice)"
   ]
  },
  {
   "cell_type": "markdown",
   "metadata": {},
   "source": [
    "## Convección"
   ]
  },
  {
   "cell_type": "code",
   "execution_count": 434,
   "metadata": {},
   "outputs": [],
   "source": [
    "class Convection():\n",
    "    \"\"\"\n",
    "    rho: float or 3D array that represents the density, if a float is used\n",
    "         it is assumed that the density is constant in all the physical \n",
    "         domain. (float/numpy array)\n",
    "\n",
    "    vel: tuple of 3D arrays that represents the velocity, each 3D array in\n",
    "         the tuple represent a component of the velocity. It can be denoted \n",
    "         as vel=(u,v,w) where u, v and w are 3D arrays with values for all\n",
    "         of the volume borders positions. (tuple of numpy arrays) \n",
    "\n",
    "    scheme: scheme to be used for the advection terms. Strings 'central' and \n",
    "            'upwind1' are currently valid (string).\n",
    "    \"\"\"\n",
    "    def __init__(self,mesh,ρ,vel,scheme,simple=None):\n",
    "        self._mesh   = mesh\n",
    "        self._dim    = mesh.dim\n",
    "        self._scheme = scheme\n",
    "        self.vel     = vel\n",
    "        self.simple = simple\n",
    "        \n",
    "        self._ρ_constant = 0.\n",
    "        self._ρ = None\n",
    "        \n",
    "        if isinstance(ρ, (int,float)):\n",
    "            self._ρ_constant = ρ\n",
    "            self._ρ = self.funcion_const\n",
    "        # Se asume que es una función en este caso\n",
    "        else:\n",
    "            self._ρ = ρ\n",
    "            \n",
    "    def funcion_const(self, x, y, z):\n",
    "        return self._ρ_constant\n",
    "        \n",
    "    def get_convection_coef(self,direction,stagered=False,velocity_direction=None,velocity_mesh=None,\n",
    "                            pressure_mesh=None,stgy=\"b\"):            \n",
    "        self.direction = direction\n",
    "        self.velocity_direction = velocity_direction\n",
    "        self.pressure_mesh = pressure_mesh\n",
    "        self.velocity_mesh = velocity_mesh\n",
    "        self.stgy = stgy\n",
    "        idx, idx_1 = 0,0\n",
    "        if direction in [\"E\", \"S\", \"B\"]: idx_1=-1\n",
    "        if direction in [\"N\", \"S\"]: idx=1\n",
    "        elif direction in [\"T\", \"B\"]: idx = 2\n",
    "        \n",
    "        if stagered:\n",
    "            return self.get_stagered_convection_coef(idx, idx_1)\n",
    "        else:\n",
    "            return self.get_basic_convection_coef(idx, idx_1)\n",
    "    \n",
    "    def get_stagered_convection_coef(self,idx,idx_1):\n",
    "        velocity_direction = self.velocity_direction\n",
    "        pressure_mesh = self.pressure_mesh\n",
    "        velocity_mesh = self.velocity_mesh\n",
    "        direction = self.direction\n",
    "        mesh = self._mesh\n",
    "        faces = mesh.faces[idx]\n",
    "        pressure_grid_coords = pressure_mesh.grid_coords[velocity_direction]\n",
    "        x, y, z = np.meshgrid(mesh.coords[0], mesh.coords[1], mesh.coords[2])\n",
    "\n",
    "        # Para obtener los coeficientes\n",
    "        coord = [var if (i!=idx and i!=velocity_direction) else pressure_grid_coords[i] \\\n",
    "                 for (i, var) in enumerate([x,y,z])]\n",
    "        ρ = self._ρ(coord[0], coord[1], coord[2])\n",
    "        areas = mesh.get_area(direction=idx)\n",
    "        source = areas.copy()\n",
    "        slice_1 = [slice(None,None) if var!=idx else idx_1 for var in range(3)]\n",
    "        areas[slice_1[0],slice_1[1],slice_1[2]] = 0\n",
    "        \n",
    "        λ_2 = lambda d: slice(None,-1) if d in [\"E\",\"S\",\"B\"] else slice(1,None)\n",
    "        slice_2 = [slice(None,None) if var!=idx else λ_2(direction) for var in range(3)]\n",
    "        source[slice_2[0],slice_2[1],slice_2[2]] = 0\n",
    "        # Contemplar los dos casos aquí es importante debido a que entran en juego mallas de diferentes\n",
    "        # dimensiones, entonces hay que hacer las operaciones tal como se muestra en las páginas \n",
    "        # 184, 185 y 186 del malalasekera. Hay que hacer algo parecido para plantear cuando \n",
    "        # el coeficiente de la difusión sea una función.\n",
    "        if idx==velocity_direction:\n",
    "            slice_simple_1 = [slice(None,None) if var!=idx else slice(1,-1) for var in range(3)]\n",
    "            λ_simple = lambda d: slice(2,None) if d in [\"E\",\"S\",\"B\"] else slice(None,-2)\n",
    "            slice_simple_2 = [slice(None,None) if var!=idx else λ_simple(direction) for var in range(3)]\n",
    "        else:\n",
    "            λ_simple_1 = lambda d: slice(1,None) if d in [\"E\",\"S\",\"B\"] else slice(None,-1)\n",
    "            λ_simple_2 = lambda x: slice(None,-1) if x==idx else slice(None,None)\n",
    "            slice_simple_1 = [λ_simple_2(var) if var!=velocity_direction else λ_simple_1(direction) \\\n",
    "                              for var in range(3)]\n",
    "            λ_simple_3 = lambda x: slice(1,None) if x==idx else slice(None,None)\n",
    "            slice_simple_2 = [λ_simple_3(var) if var!=velocity_direction else λ_simple_1(direction) \\\n",
    "                              for var in range(3)]\n",
    "        velocity = self.vel[idx][slice_simple_1[0],slice_simple_1[1],slice_simple_1[2]]\n",
    "        velocity_plus = self.vel[idx][slice_simple_2[0],slice_simple_2[1],slice_simple_2[2]]\n",
    "        velocity += velocity_plus\n",
    "        conv = ρ*velocity*areas\n",
    "        \n",
    "        # Aquí obtenemos Sp\n",
    "        sp = ρ*velocity*source\n",
    "        condicion = self.get_mask_boundaries_Sp(mesh, direction)\n",
    "        λ_3 = lambda d: slice(-1,None) if d in [\"E\",\"S\",\"B\"] else slice(None,1)\n",
    "        coord_4 = [slice(None,None) if var!=idx else λ_3(direction) for var in range(3)]\n",
    "        tmp_sp = sp[coord_4[0],coord_4[1],coord_4[2]]\n",
    "        sp[coord_4[0],coord_4[1],coord_4[2]] = tmp_sp*np.array(condicion).reshape(tmp_sp.shape)\n",
    "        \n",
    "        # Aquí obtenemos Su\n",
    "        conds_su = self.get_mask_boundaries_Su(mesh, direction, gamma=self._ρ)\n",
    "        su = ρ*source*velocity\n",
    "        tmp_su = su[coord_4[0],coord_4[1],coord_4[2]]\n",
    "        su[coord_4[0],coord_4[1],coord_4[2]] = tmp_su*np.array(conds_su).reshape(tmp_su.shape)\n",
    "        return conv, sp, su\n",
    "        \n",
    "    def get_basic_convection_coef(self,idx,idx_1):\n",
    "        direction = self.direction\n",
    "        mesh = self._mesh\n",
    "        faces = mesh.faces[idx]\n",
    "        x, y, z = np.meshgrid(mesh.coords[0], mesh.coords[1], mesh.coords[2])\n",
    "\n",
    "        # Para obtener los coeficientes\n",
    "        λ_1 = lambda x, d: x[1:] if d in [\"E\",\"S\",\"B\"] else x[:-1]\n",
    "        coord = [var if i!=idx else λ_1(faces, direction) for (i, var) in enumerate([x,y,z])]\n",
    "        ρ = self._ρ(coord[0], coord[1], coord[2])\n",
    "        areas = mesh.get_area(direction=idx)\n",
    "        source = areas.copy()\n",
    "        coord_2 = [slice(None,None) if var!=idx else idx_1 for var in range(3)]\n",
    "        areas[coord_2[0],coord_2[1],coord_2[2]] = 0\n",
    "        λ_2 = lambda d: slice(None,-1) if d in [\"E\",\"S\",\"B\"] else slice(1,None)\n",
    "        coord_3 = [slice(None,None) if var!=idx else λ_2(direction) for var in range(3)]\n",
    "        source[coord_3[0],coord_3[1],coord_3[2]] = 0\n",
    "        velocity = self.vel[idx][coord_3[0],coord_3[1],coord_3[2]]\n",
    "        conv = ρ*velocity*areas\n",
    "        \n",
    "        # Aquí obtenemos Sp\n",
    "        sp = ρ*velocity*source\n",
    "        condicion = self.get_mask_boundaries_Sp(mesh, direction)\n",
    "        λ_3 = lambda d: slice(-1,None) if d in [\"E\",\"S\",\"B\"] else slice(None,1)\n",
    "        coord_4 = [slice(None,None) if var!=idx else λ_3(direction) for var in range(3)]\n",
    "        tmp_sp = sp[coord_4[0],coord_4[1],coord_4[2]]\n",
    "        sp[coord_4[0],coord_4[1],coord_4[2]] = tmp_sp*np.array(condicion).reshape(tmp_sp.shape)\n",
    "        \n",
    "        # Aquí obtenemos Su\n",
    "        conds_su = self.get_mask_boundaries_Su(mesh, direction, gamma=self._ρ)\n",
    "        su = ρ*source*velocity\n",
    "        tmp_su = su[coord_4[0],coord_4[1],coord_4[2]]\n",
    "        su[coord_4[0],coord_4[1],coord_4[2]] = tmp_su*np.array(conds_su).reshape(tmp_su.shape)\n",
    "        return conv, sp, su    \n",
    "    \n",
    "    def get_f(self, coef, sentido=\"sup\"):\n",
    "        sign = 1\n",
    "        if sentido == \"inf\": sign = -1\n",
    "        \n",
    "        scheme = self._scheme\n",
    "        if scheme == 'central':\n",
    "            f = sign*0.5*coef\n",
    "        if scheme == 'upwind1':\n",
    "            ceros = np.zeros(coef.shape)\n",
    "            f = -np.maximum(-sign*coef, ceros)\n",
    "        return f\n",
    "    \n",
    "    def get_mask_boundaries_Sp(self, malla, direction):\n",
    "        tags_fronteras = malla._Mesh__tags_fronteras\n",
    "        condicion = []\n",
    "        dict_cond = {\"I\":0, \"N\":0, \"D\":1}\n",
    "        for tag in tags_fronteras:\n",
    "            if list(tags_fronteras[tag][\"frontera\"].keys())[0] == direction:\n",
    "                cond = list(tags_fronteras[tag][\"cond\"].keys())[0]\n",
    "                condicion.append(dict_cond[cond])\n",
    "        return condicion\n",
    "    \n",
    "    def get_mask_boundaries_Su(self, malla, direction, gamma):\n",
    "        tags_fronteras = malla._Mesh__tags_fronteras\n",
    "        condicion = []\n",
    "        dict_cond = {\"I\":0, \"N\":0, \"D\":1}\n",
    "        for tag in tags_fronteras:\n",
    "            if list(tags_fronteras[tag][\"frontera\"].keys())[0] == direction:\n",
    "                cond = list(tags_fronteras[tag][\"cond\"].keys())[0]\n",
    "                if cond == \"I\":\n",
    "                    condicion.append(0)\n",
    "                elif cond == \"N\":\n",
    "                    condicion.append(tags_fronteras[tag][\"cond\"][cond])\n",
    "                elif cond == \"D\":\n",
    "                    x,y,z = tags_fronteras[tag][\"coord\"]\n",
    "                    condicion.append(tags_fronteras[tag][\"cond\"][cond]*gamma(x,y,z))\n",
    "        return condicion"
   ]
  },
  {
   "cell_type": "markdown",
   "metadata": {},
   "source": [
    "[Volver al índice](#Índice)"
   ]
  },
  {
   "cell_type": "markdown",
   "metadata": {},
   "source": [
    "## Sistema de ecuaciones"
   ]
  },
  {
   "cell_type": "code",
   "execution_count": 328,
   "metadata": {},
   "outputs": [],
   "source": [
    "from scipy.sparse import diags\n",
    "\n",
    "class EqSystem():\n",
    "    \"\"\"\n",
    "    Class that uses a Coefficient object to construct the matrix  A, and vector\n",
    "    b, for the system of equations Ax=b that represents the discrete version\n",
    "    of the physical problem; this EqSystem class has methods and attributes\n",
    "    for that putpose.\n",
    "    \n",
    "    \n",
    "    Methods:\n",
    "\n",
    "       \n",
    "    Attriburtes:\n",
    "\n",
    "    \"\"\"\n",
    "    \n",
    "    def __init__(self, coef):\n",
    "        self.coef = coef\n",
    "        self.aP = coef.aP\n",
    "        self.aE, self.aW = coef.aE, coef.aW\n",
    "        if coef.dim > 1: self.aN, self.aS = coef.aN, coef.aS\n",
    "        if coef == 3: self.aT, self.aB = coef.aT, coef.aB\n",
    "        self.Su, self.Sp = coef.Su, coef.Sp\n",
    "        self.N = self.aP.shape[0]*self.aP.shape[1]*self.aP.shape[2]\n",
    "        self.A, self.b = None, None\n",
    "        \n",
    "    def get_diag(self, array, k=0):\n",
    "        \"\"\"\n",
    "        Método para construir una matriz diagonal dado un arreglo 2D y la diagonal en que queremos \n",
    "        poner ese arreglo\n",
    "        \"\"\"\n",
    "        if self.N > 50:\n",
    "            return diags(array, k)\n",
    "        else:\n",
    "            return np.diag(array,k)\n",
    "        \n",
    "        \n",
    "    def get_A_matrix(self):\n",
    "        \"\"\"\n",
    "        Método para construir la matriz A, de la ecuación Ax=b, a partir de los coeficientes obtenidos.\n",
    "        \"\"\"\n",
    "        aP = np.ravel(self.aP)\n",
    "        self.A = self.get_diag(aP)\n",
    "        if self.coef.dim == 1:\n",
    "            aE = np.ravel(self.aE)[:-1]\n",
    "            aW = np.ravel(self.aW)[1:]\n",
    "            self.A += self.get_diag(aE, k=1) + self.get_diag(aW, k=-1)\n",
    "        elif self.coef.dim == 2:\n",
    "#             aN = np.ravel(self.aN)[:-1]\n",
    "#             aS = np.ravel(self.aS)[1:]\n",
    "            aN = np.ravel(self.aN)[1:]\n",
    "            aS = np.ravel(self.aS)[:-1]\n",
    "            aE = np.ravel(self.aE)[:-4]\n",
    "            aW = np.ravel(self.aW)[4:]\n",
    "            self.A += self.get_diag(aN, k=-1) + self.get_diag(aS, k=1) + \\\n",
    "                        self.get_diag(aE, k=4) + self.get_diag(aW, k=-4)\n",
    "        # Esta parte está por verse, hay que encontrar un ejemplo chido en 3D\n",
    "        if self.coef.dim == 3:\n",
    "            pass\n",
    "        return self.A\n",
    "    \n",
    "    \n",
    "    def get_b_vector(self):\n",
    "        \"\"\"\n",
    "        Método para obtener el vector b, de la ecuación Ax = b, a partir del arreglo Su construido anteriormente\n",
    "        \"\"\"\n",
    "        self.b = np.ravel(self.Su)\n",
    "        return self.b\n",
    "    \n",
    "    \n",
    "    def solve(self,A,b):\n",
    "        if len(b)>50:\n",
    "            return spsolve(A,b)\n",
    "        else:\n",
    "            return np.linalg.solve(A,b)\n",
    "    \n",
    "    def get_solution(self):\n",
    "        \"\"\"\n",
    "        Método para obtener los valores de la solución al sistema\n",
    "        \"\"\"\n",
    "        A = self.get_A_matrix()\n",
    "        b = self.get_b_vector()\n",
    "        return self.solve(A, b)"
   ]
  },
  {
   "cell_type": "markdown",
   "metadata": {},
   "source": [
    "[Volver al índice](#Índice)"
   ]
  },
  {
   "cell_type": "markdown",
   "metadata": {},
   "source": [
    "## Problemas"
   ]
  },
  {
   "cell_type": "markdown",
   "metadata": {},
   "source": [
    "### Una dimensión"
   ]
  },
  {
   "cell_type": "code",
   "execution_count": 492,
   "metadata": {},
   "outputs": [],
   "source": [
    "#------------- Initial data definition ----------------\n",
    "lx = 0.5 # meters\n",
    "TA = 100 # °C \n",
    "TB = 500 # °C \n",
    "k  = 1000 # W/m.K \n",
    "nx  = 5 # number of volumes\n",
    "#-------------------------------------------------------------"
   ]
  },
  {
   "cell_type": "code",
   "execution_count": 493,
   "metadata": {},
   "outputs": [
    {
     "data": {
      "application/vnd.plotly.v1+json": {
       "config": {
        "plotlyServerURL": "https://plot.ly"
       },
       "data": [
        {
         "marker": {
          "color": [
           "white",
           "white",
           "white",
           "white",
           "white",
           "white",
           "white",
           "white",
           "white",
           "white",
           "darkturquoise",
           "darkturquoise",
           "white",
           "white",
           "white",
           "white",
           "white",
           "white",
           "white",
           "white",
           "white",
           "white"
          ],
          "size": 2,
          "symbol": "square"
         },
         "mode": "markers",
         "type": "scatter3d",
         "x": [
          0.05,
          0.15000000000000002,
          0.25,
          0.35000000000000003,
          0.45,
          0.05,
          0.15000000000000002,
          0.25,
          0.35000000000000003,
          0.45,
          0,
          0.5,
          0.05,
          0.15000000000000002,
          0.25,
          0.35000000000000003,
          0.45,
          0.05,
          0.15000000000000002,
          0.25,
          0.35000000000000003,
          0.45
         ],
         "y": [
          0.05,
          0.05,
          0.05,
          0.05,
          0.05,
          0,
          0,
          0,
          0,
          0,
          0.05,
          0.05,
          0.1,
          0.1,
          0.1,
          0.1,
          0.1,
          0.05,
          0.05,
          0.05,
          0.05,
          0.05
         ],
         "z": [
          0,
          0,
          0,
          0,
          0,
          0.05,
          0.05,
          0.05,
          0.05,
          0.05,
          0.05,
          0.05,
          0.05,
          0.05,
          0.05,
          0.05,
          0.05,
          0.1,
          0.1,
          0.1,
          0.1,
          0.1
         ]
        },
        {
         "marker": {
          "color": "blue",
          "size": 5
         },
         "mode": "markers",
         "type": "scatter3d",
         "x": [
          0.05,
          0.15000000000000002,
          0.25,
          0.35000000000000003,
          0.45
         ],
         "y": [
          0.05,
          0.05,
          0.05,
          0.05,
          0.05
         ],
         "z": [
          0.05,
          0.05,
          0.05,
          0.05,
          0.05
         ]
        }
       ],
       "layout": {
        "template": {
         "data": {
          "bar": [
           {
            "error_x": {
             "color": "#2a3f5f"
            },
            "error_y": {
             "color": "#2a3f5f"
            },
            "marker": {
             "line": {
              "color": "#E5ECF6",
              "width": 0.5
             }
            },
            "type": "bar"
           }
          ],
          "barpolar": [
           {
            "marker": {
             "line": {
              "color": "#E5ECF6",
              "width": 0.5
             }
            },
            "type": "barpolar"
           }
          ],
          "carpet": [
           {
            "aaxis": {
             "endlinecolor": "#2a3f5f",
             "gridcolor": "white",
             "linecolor": "white",
             "minorgridcolor": "white",
             "startlinecolor": "#2a3f5f"
            },
            "baxis": {
             "endlinecolor": "#2a3f5f",
             "gridcolor": "white",
             "linecolor": "white",
             "minorgridcolor": "white",
             "startlinecolor": "#2a3f5f"
            },
            "type": "carpet"
           }
          ],
          "choropleth": [
           {
            "colorbar": {
             "outlinewidth": 0,
             "ticks": ""
            },
            "type": "choropleth"
           }
          ],
          "contour": [
           {
            "colorbar": {
             "outlinewidth": 0,
             "ticks": ""
            },
            "colorscale": [
             [
              0,
              "#0d0887"
             ],
             [
              0.1111111111111111,
              "#46039f"
             ],
             [
              0.2222222222222222,
              "#7201a8"
             ],
             [
              0.3333333333333333,
              "#9c179e"
             ],
             [
              0.4444444444444444,
              "#bd3786"
             ],
             [
              0.5555555555555556,
              "#d8576b"
             ],
             [
              0.6666666666666666,
              "#ed7953"
             ],
             [
              0.7777777777777778,
              "#fb9f3a"
             ],
             [
              0.8888888888888888,
              "#fdca26"
             ],
             [
              1,
              "#f0f921"
             ]
            ],
            "type": "contour"
           }
          ],
          "contourcarpet": [
           {
            "colorbar": {
             "outlinewidth": 0,
             "ticks": ""
            },
            "type": "contourcarpet"
           }
          ],
          "heatmap": [
           {
            "colorbar": {
             "outlinewidth": 0,
             "ticks": ""
            },
            "colorscale": [
             [
              0,
              "#0d0887"
             ],
             [
              0.1111111111111111,
              "#46039f"
             ],
             [
              0.2222222222222222,
              "#7201a8"
             ],
             [
              0.3333333333333333,
              "#9c179e"
             ],
             [
              0.4444444444444444,
              "#bd3786"
             ],
             [
              0.5555555555555556,
              "#d8576b"
             ],
             [
              0.6666666666666666,
              "#ed7953"
             ],
             [
              0.7777777777777778,
              "#fb9f3a"
             ],
             [
              0.8888888888888888,
              "#fdca26"
             ],
             [
              1,
              "#f0f921"
             ]
            ],
            "type": "heatmap"
           }
          ],
          "heatmapgl": [
           {
            "colorbar": {
             "outlinewidth": 0,
             "ticks": ""
            },
            "colorscale": [
             [
              0,
              "#0d0887"
             ],
             [
              0.1111111111111111,
              "#46039f"
             ],
             [
              0.2222222222222222,
              "#7201a8"
             ],
             [
              0.3333333333333333,
              "#9c179e"
             ],
             [
              0.4444444444444444,
              "#bd3786"
             ],
             [
              0.5555555555555556,
              "#d8576b"
             ],
             [
              0.6666666666666666,
              "#ed7953"
             ],
             [
              0.7777777777777778,
              "#fb9f3a"
             ],
             [
              0.8888888888888888,
              "#fdca26"
             ],
             [
              1,
              "#f0f921"
             ]
            ],
            "type": "heatmapgl"
           }
          ],
          "histogram": [
           {
            "marker": {
             "colorbar": {
              "outlinewidth": 0,
              "ticks": ""
             }
            },
            "type": "histogram"
           }
          ],
          "histogram2d": [
           {
            "colorbar": {
             "outlinewidth": 0,
             "ticks": ""
            },
            "colorscale": [
             [
              0,
              "#0d0887"
             ],
             [
              0.1111111111111111,
              "#46039f"
             ],
             [
              0.2222222222222222,
              "#7201a8"
             ],
             [
              0.3333333333333333,
              "#9c179e"
             ],
             [
              0.4444444444444444,
              "#bd3786"
             ],
             [
              0.5555555555555556,
              "#d8576b"
             ],
             [
              0.6666666666666666,
              "#ed7953"
             ],
             [
              0.7777777777777778,
              "#fb9f3a"
             ],
             [
              0.8888888888888888,
              "#fdca26"
             ],
             [
              1,
              "#f0f921"
             ]
            ],
            "type": "histogram2d"
           }
          ],
          "histogram2dcontour": [
           {
            "colorbar": {
             "outlinewidth": 0,
             "ticks": ""
            },
            "colorscale": [
             [
              0,
              "#0d0887"
             ],
             [
              0.1111111111111111,
              "#46039f"
             ],
             [
              0.2222222222222222,
              "#7201a8"
             ],
             [
              0.3333333333333333,
              "#9c179e"
             ],
             [
              0.4444444444444444,
              "#bd3786"
             ],
             [
              0.5555555555555556,
              "#d8576b"
             ],
             [
              0.6666666666666666,
              "#ed7953"
             ],
             [
              0.7777777777777778,
              "#fb9f3a"
             ],
             [
              0.8888888888888888,
              "#fdca26"
             ],
             [
              1,
              "#f0f921"
             ]
            ],
            "type": "histogram2dcontour"
           }
          ],
          "mesh3d": [
           {
            "colorbar": {
             "outlinewidth": 0,
             "ticks": ""
            },
            "type": "mesh3d"
           }
          ],
          "parcoords": [
           {
            "line": {
             "colorbar": {
              "outlinewidth": 0,
              "ticks": ""
             }
            },
            "type": "parcoords"
           }
          ],
          "pie": [
           {
            "automargin": true,
            "type": "pie"
           }
          ],
          "scatter": [
           {
            "marker": {
             "colorbar": {
              "outlinewidth": 0,
              "ticks": ""
             }
            },
            "type": "scatter"
           }
          ],
          "scatter3d": [
           {
            "line": {
             "colorbar": {
              "outlinewidth": 0,
              "ticks": ""
             }
            },
            "marker": {
             "colorbar": {
              "outlinewidth": 0,
              "ticks": ""
             }
            },
            "type": "scatter3d"
           }
          ],
          "scattercarpet": [
           {
            "marker": {
             "colorbar": {
              "outlinewidth": 0,
              "ticks": ""
             }
            },
            "type": "scattercarpet"
           }
          ],
          "scattergeo": [
           {
            "marker": {
             "colorbar": {
              "outlinewidth": 0,
              "ticks": ""
             }
            },
            "type": "scattergeo"
           }
          ],
          "scattergl": [
           {
            "marker": {
             "colorbar": {
              "outlinewidth": 0,
              "ticks": ""
             }
            },
            "type": "scattergl"
           }
          ],
          "scattermapbox": [
           {
            "marker": {
             "colorbar": {
              "outlinewidth": 0,
              "ticks": ""
             }
            },
            "type": "scattermapbox"
           }
          ],
          "scatterpolar": [
           {
            "marker": {
             "colorbar": {
              "outlinewidth": 0,
              "ticks": ""
             }
            },
            "type": "scatterpolar"
           }
          ],
          "scatterpolargl": [
           {
            "marker": {
             "colorbar": {
              "outlinewidth": 0,
              "ticks": ""
             }
            },
            "type": "scatterpolargl"
           }
          ],
          "scatterternary": [
           {
            "marker": {
             "colorbar": {
              "outlinewidth": 0,
              "ticks": ""
             }
            },
            "type": "scatterternary"
           }
          ],
          "surface": [
           {
            "colorbar": {
             "outlinewidth": 0,
             "ticks": ""
            },
            "colorscale": [
             [
              0,
              "#0d0887"
             ],
             [
              0.1111111111111111,
              "#46039f"
             ],
             [
              0.2222222222222222,
              "#7201a8"
             ],
             [
              0.3333333333333333,
              "#9c179e"
             ],
             [
              0.4444444444444444,
              "#bd3786"
             ],
             [
              0.5555555555555556,
              "#d8576b"
             ],
             [
              0.6666666666666666,
              "#ed7953"
             ],
             [
              0.7777777777777778,
              "#fb9f3a"
             ],
             [
              0.8888888888888888,
              "#fdca26"
             ],
             [
              1,
              "#f0f921"
             ]
            ],
            "type": "surface"
           }
          ],
          "table": [
           {
            "cells": {
             "fill": {
              "color": "#EBF0F8"
             },
             "line": {
              "color": "white"
             }
            },
            "header": {
             "fill": {
              "color": "#C8D4E3"
             },
             "line": {
              "color": "white"
             }
            },
            "type": "table"
           }
          ]
         },
         "layout": {
          "annotationdefaults": {
           "arrowcolor": "#2a3f5f",
           "arrowhead": 0,
           "arrowwidth": 1
          },
          "autotypenumbers": "strict",
          "coloraxis": {
           "colorbar": {
            "outlinewidth": 0,
            "ticks": ""
           }
          },
          "colorscale": {
           "diverging": [
            [
             0,
             "#8e0152"
            ],
            [
             0.1,
             "#c51b7d"
            ],
            [
             0.2,
             "#de77ae"
            ],
            [
             0.3,
             "#f1b6da"
            ],
            [
             0.4,
             "#fde0ef"
            ],
            [
             0.5,
             "#f7f7f7"
            ],
            [
             0.6,
             "#e6f5d0"
            ],
            [
             0.7,
             "#b8e186"
            ],
            [
             0.8,
             "#7fbc41"
            ],
            [
             0.9,
             "#4d9221"
            ],
            [
             1,
             "#276419"
            ]
           ],
           "sequential": [
            [
             0,
             "#0d0887"
            ],
            [
             0.1111111111111111,
             "#46039f"
            ],
            [
             0.2222222222222222,
             "#7201a8"
            ],
            [
             0.3333333333333333,
             "#9c179e"
            ],
            [
             0.4444444444444444,
             "#bd3786"
            ],
            [
             0.5555555555555556,
             "#d8576b"
            ],
            [
             0.6666666666666666,
             "#ed7953"
            ],
            [
             0.7777777777777778,
             "#fb9f3a"
            ],
            [
             0.8888888888888888,
             "#fdca26"
            ],
            [
             1,
             "#f0f921"
            ]
           ],
           "sequentialminus": [
            [
             0,
             "#0d0887"
            ],
            [
             0.1111111111111111,
             "#46039f"
            ],
            [
             0.2222222222222222,
             "#7201a8"
            ],
            [
             0.3333333333333333,
             "#9c179e"
            ],
            [
             0.4444444444444444,
             "#bd3786"
            ],
            [
             0.5555555555555556,
             "#d8576b"
            ],
            [
             0.6666666666666666,
             "#ed7953"
            ],
            [
             0.7777777777777778,
             "#fb9f3a"
            ],
            [
             0.8888888888888888,
             "#fdca26"
            ],
            [
             1,
             "#f0f921"
            ]
           ]
          },
          "colorway": [
           "#636efa",
           "#EF553B",
           "#00cc96",
           "#ab63fa",
           "#FFA15A",
           "#19d3f3",
           "#FF6692",
           "#B6E880",
           "#FF97FF",
           "#FECB52"
          ],
          "font": {
           "color": "#2a3f5f"
          },
          "geo": {
           "bgcolor": "white",
           "lakecolor": "white",
           "landcolor": "#E5ECF6",
           "showlakes": true,
           "showland": true,
           "subunitcolor": "white"
          },
          "hoverlabel": {
           "align": "left"
          },
          "hovermode": "closest",
          "mapbox": {
           "style": "light"
          },
          "paper_bgcolor": "white",
          "plot_bgcolor": "#E5ECF6",
          "polar": {
           "angularaxis": {
            "gridcolor": "white",
            "linecolor": "white",
            "ticks": ""
           },
           "bgcolor": "#E5ECF6",
           "radialaxis": {
            "gridcolor": "white",
            "linecolor": "white",
            "ticks": ""
           }
          },
          "scene": {
           "xaxis": {
            "backgroundcolor": "#E5ECF6",
            "gridcolor": "white",
            "gridwidth": 2,
            "linecolor": "white",
            "showbackground": true,
            "ticks": "",
            "zerolinecolor": "white"
           },
           "yaxis": {
            "backgroundcolor": "#E5ECF6",
            "gridcolor": "white",
            "gridwidth": 2,
            "linecolor": "white",
            "showbackground": true,
            "ticks": "",
            "zerolinecolor": "white"
           },
           "zaxis": {
            "backgroundcolor": "#E5ECF6",
            "gridcolor": "white",
            "gridwidth": 2,
            "linecolor": "white",
            "showbackground": true,
            "ticks": "",
            "zerolinecolor": "white"
           }
          },
          "shapedefaults": {
           "line": {
            "color": "#2a3f5f"
           }
          },
          "ternary": {
           "aaxis": {
            "gridcolor": "white",
            "linecolor": "white",
            "ticks": ""
           },
           "baxis": {
            "gridcolor": "white",
            "linecolor": "white",
            "ticks": ""
           },
           "bgcolor": "#E5ECF6",
           "caxis": {
            "gridcolor": "white",
            "linecolor": "white",
            "ticks": ""
           }
          },
          "title": {
           "x": 0.05
          },
          "xaxis": {
           "automargin": true,
           "gridcolor": "white",
           "linecolor": "white",
           "ticks": "",
           "title": {
            "standoff": 15
           },
           "zerolinecolor": "white",
           "zerolinewidth": 2
          },
          "yaxis": {
           "automargin": true,
           "gridcolor": "white",
           "linecolor": "white",
           "ticks": "",
           "title": {
            "standoff": 15
           },
           "zerolinecolor": "white",
           "zerolinewidth": 2
          }
         }
        }
       }
      },
      "text/html": [
       "<div>                            <div id=\"30583a99-7214-4a14-9926-49a72ad68d05\" class=\"plotly-graph-div\" style=\"height:525px; width:100%;\"></div>            <script type=\"text/javascript\">                require([\"plotly\"], function(Plotly) {                    window.PLOTLYENV=window.PLOTLYENV || {};                                    if (document.getElementById(\"30583a99-7214-4a14-9926-49a72ad68d05\")) {                    Plotly.newPlot(                        \"30583a99-7214-4a14-9926-49a72ad68d05\",                        [{\"marker\": {\"color\": [\"white\", \"white\", \"white\", \"white\", \"white\", \"white\", \"white\", \"white\", \"white\", \"white\", \"darkturquoise\", \"darkturquoise\", \"white\", \"white\", \"white\", \"white\", \"white\", \"white\", \"white\", \"white\", \"white\", \"white\"], \"size\": 2, \"symbol\": \"square\"}, \"mode\": \"markers\", \"type\": \"scatter3d\", \"x\": [0.05, 0.15000000000000002, 0.25, 0.35000000000000003, 0.45, 0.05, 0.15000000000000002, 0.25, 0.35000000000000003, 0.45, 0.0, 0.5, 0.05, 0.15000000000000002, 0.25, 0.35000000000000003, 0.45, 0.05, 0.15000000000000002, 0.25, 0.35000000000000003, 0.45], \"y\": [0.05, 0.05, 0.05, 0.05, 0.05, 0.0, 0.0, 0.0, 0.0, 0.0, 0.05, 0.05, 0.1, 0.1, 0.1, 0.1, 0.1, 0.05, 0.05, 0.05, 0.05, 0.05], \"z\": [0.0, 0.0, 0.0, 0.0, 0.0, 0.05, 0.05, 0.05, 0.05, 0.05, 0.05, 0.05, 0.05, 0.05, 0.05, 0.05, 0.05, 0.1, 0.1, 0.1, 0.1, 0.1]}, {\"marker\": {\"color\": \"blue\", \"size\": 5}, \"mode\": \"markers\", \"type\": \"scatter3d\", \"x\": [0.05, 0.15000000000000002, 0.25, 0.35000000000000003, 0.45], \"y\": [0.05, 0.05, 0.05, 0.05, 0.05], \"z\": [0.05, 0.05, 0.05, 0.05, 0.05]}],                        {\"template\": {\"data\": {\"bar\": [{\"error_x\": {\"color\": \"#2a3f5f\"}, \"error_y\": {\"color\": \"#2a3f5f\"}, \"marker\": {\"line\": {\"color\": \"#E5ECF6\", \"width\": 0.5}}, \"type\": \"bar\"}], \"barpolar\": [{\"marker\": {\"line\": {\"color\": \"#E5ECF6\", \"width\": 0.5}}, \"type\": \"barpolar\"}], \"carpet\": [{\"aaxis\": {\"endlinecolor\": \"#2a3f5f\", \"gridcolor\": \"white\", \"linecolor\": \"white\", \"minorgridcolor\": \"white\", \"startlinecolor\": \"#2a3f5f\"}, \"baxis\": {\"endlinecolor\": \"#2a3f5f\", \"gridcolor\": \"white\", \"linecolor\": \"white\", \"minorgridcolor\": \"white\", \"startlinecolor\": \"#2a3f5f\"}, \"type\": \"carpet\"}], \"choropleth\": [{\"colorbar\": {\"outlinewidth\": 0, \"ticks\": \"\"}, \"type\": \"choropleth\"}], \"contour\": [{\"colorbar\": {\"outlinewidth\": 0, \"ticks\": \"\"}, \"colorscale\": [[0.0, \"#0d0887\"], [0.1111111111111111, \"#46039f\"], [0.2222222222222222, \"#7201a8\"], [0.3333333333333333, \"#9c179e\"], [0.4444444444444444, \"#bd3786\"], [0.5555555555555556, \"#d8576b\"], [0.6666666666666666, \"#ed7953\"], [0.7777777777777778, \"#fb9f3a\"], [0.8888888888888888, \"#fdca26\"], [1.0, \"#f0f921\"]], \"type\": \"contour\"}], \"contourcarpet\": [{\"colorbar\": {\"outlinewidth\": 0, \"ticks\": \"\"}, \"type\": \"contourcarpet\"}], \"heatmap\": [{\"colorbar\": {\"outlinewidth\": 0, \"ticks\": \"\"}, \"colorscale\": [[0.0, \"#0d0887\"], [0.1111111111111111, \"#46039f\"], [0.2222222222222222, \"#7201a8\"], [0.3333333333333333, \"#9c179e\"], [0.4444444444444444, \"#bd3786\"], [0.5555555555555556, \"#d8576b\"], [0.6666666666666666, \"#ed7953\"], [0.7777777777777778, \"#fb9f3a\"], [0.8888888888888888, \"#fdca26\"], [1.0, \"#f0f921\"]], \"type\": \"heatmap\"}], \"heatmapgl\": [{\"colorbar\": {\"outlinewidth\": 0, \"ticks\": \"\"}, \"colorscale\": [[0.0, \"#0d0887\"], [0.1111111111111111, \"#46039f\"], [0.2222222222222222, \"#7201a8\"], [0.3333333333333333, \"#9c179e\"], [0.4444444444444444, \"#bd3786\"], [0.5555555555555556, \"#d8576b\"], [0.6666666666666666, \"#ed7953\"], [0.7777777777777778, \"#fb9f3a\"], [0.8888888888888888, \"#fdca26\"], [1.0, \"#f0f921\"]], \"type\": \"heatmapgl\"}], \"histogram\": [{\"marker\": {\"colorbar\": {\"outlinewidth\": 0, \"ticks\": \"\"}}, \"type\": \"histogram\"}], \"histogram2d\": [{\"colorbar\": {\"outlinewidth\": 0, \"ticks\": \"\"}, \"colorscale\": [[0.0, \"#0d0887\"], [0.1111111111111111, \"#46039f\"], [0.2222222222222222, \"#7201a8\"], [0.3333333333333333, \"#9c179e\"], [0.4444444444444444, \"#bd3786\"], [0.5555555555555556, \"#d8576b\"], [0.6666666666666666, \"#ed7953\"], [0.7777777777777778, \"#fb9f3a\"], [0.8888888888888888, \"#fdca26\"], [1.0, \"#f0f921\"]], \"type\": \"histogram2d\"}], \"histogram2dcontour\": [{\"colorbar\": {\"outlinewidth\": 0, \"ticks\": \"\"}, \"colorscale\": [[0.0, \"#0d0887\"], [0.1111111111111111, \"#46039f\"], [0.2222222222222222, \"#7201a8\"], [0.3333333333333333, \"#9c179e\"], [0.4444444444444444, \"#bd3786\"], [0.5555555555555556, \"#d8576b\"], [0.6666666666666666, \"#ed7953\"], [0.7777777777777778, \"#fb9f3a\"], [0.8888888888888888, \"#fdca26\"], [1.0, \"#f0f921\"]], \"type\": \"histogram2dcontour\"}], \"mesh3d\": [{\"colorbar\": {\"outlinewidth\": 0, \"ticks\": \"\"}, \"type\": \"mesh3d\"}], \"parcoords\": [{\"line\": {\"colorbar\": {\"outlinewidth\": 0, \"ticks\": \"\"}}, \"type\": \"parcoords\"}], \"pie\": [{\"automargin\": true, \"type\": \"pie\"}], \"scatter\": [{\"marker\": {\"colorbar\": {\"outlinewidth\": 0, \"ticks\": \"\"}}, \"type\": \"scatter\"}], \"scatter3d\": [{\"line\": {\"colorbar\": {\"outlinewidth\": 0, \"ticks\": \"\"}}, \"marker\": {\"colorbar\": {\"outlinewidth\": 0, \"ticks\": \"\"}}, \"type\": \"scatter3d\"}], \"scattercarpet\": [{\"marker\": {\"colorbar\": {\"outlinewidth\": 0, \"ticks\": \"\"}}, \"type\": \"scattercarpet\"}], \"scattergeo\": [{\"marker\": {\"colorbar\": {\"outlinewidth\": 0, \"ticks\": \"\"}}, \"type\": \"scattergeo\"}], \"scattergl\": [{\"marker\": {\"colorbar\": {\"outlinewidth\": 0, \"ticks\": \"\"}}, \"type\": \"scattergl\"}], \"scattermapbox\": [{\"marker\": {\"colorbar\": {\"outlinewidth\": 0, \"ticks\": \"\"}}, \"type\": \"scattermapbox\"}], \"scatterpolar\": [{\"marker\": {\"colorbar\": {\"outlinewidth\": 0, \"ticks\": \"\"}}, \"type\": \"scatterpolar\"}], \"scatterpolargl\": [{\"marker\": {\"colorbar\": {\"outlinewidth\": 0, \"ticks\": \"\"}}, \"type\": \"scatterpolargl\"}], \"scatterternary\": [{\"marker\": {\"colorbar\": {\"outlinewidth\": 0, \"ticks\": \"\"}}, \"type\": \"scatterternary\"}], \"surface\": [{\"colorbar\": {\"outlinewidth\": 0, \"ticks\": \"\"}, \"colorscale\": [[0.0, \"#0d0887\"], [0.1111111111111111, \"#46039f\"], [0.2222222222222222, \"#7201a8\"], [0.3333333333333333, \"#9c179e\"], [0.4444444444444444, \"#bd3786\"], [0.5555555555555556, \"#d8576b\"], [0.6666666666666666, \"#ed7953\"], [0.7777777777777778, \"#fb9f3a\"], [0.8888888888888888, \"#fdca26\"], [1.0, \"#f0f921\"]], \"type\": \"surface\"}], \"table\": [{\"cells\": {\"fill\": {\"color\": \"#EBF0F8\"}, \"line\": {\"color\": \"white\"}}, \"header\": {\"fill\": {\"color\": \"#C8D4E3\"}, \"line\": {\"color\": \"white\"}}, \"type\": \"table\"}]}, \"layout\": {\"annotationdefaults\": {\"arrowcolor\": \"#2a3f5f\", \"arrowhead\": 0, \"arrowwidth\": 1}, \"autotypenumbers\": \"strict\", \"coloraxis\": {\"colorbar\": {\"outlinewidth\": 0, \"ticks\": \"\"}}, \"colorscale\": {\"diverging\": [[0, \"#8e0152\"], [0.1, \"#c51b7d\"], [0.2, \"#de77ae\"], [0.3, \"#f1b6da\"], [0.4, \"#fde0ef\"], [0.5, \"#f7f7f7\"], [0.6, \"#e6f5d0\"], [0.7, \"#b8e186\"], [0.8, \"#7fbc41\"], [0.9, \"#4d9221\"], [1, \"#276419\"]], \"sequential\": [[0.0, \"#0d0887\"], [0.1111111111111111, \"#46039f\"], [0.2222222222222222, \"#7201a8\"], [0.3333333333333333, \"#9c179e\"], [0.4444444444444444, \"#bd3786\"], [0.5555555555555556, \"#d8576b\"], [0.6666666666666666, \"#ed7953\"], [0.7777777777777778, \"#fb9f3a\"], [0.8888888888888888, \"#fdca26\"], [1.0, \"#f0f921\"]], \"sequentialminus\": [[0.0, \"#0d0887\"], [0.1111111111111111, \"#46039f\"], [0.2222222222222222, \"#7201a8\"], [0.3333333333333333, \"#9c179e\"], [0.4444444444444444, \"#bd3786\"], [0.5555555555555556, \"#d8576b\"], [0.6666666666666666, \"#ed7953\"], [0.7777777777777778, \"#fb9f3a\"], [0.8888888888888888, \"#fdca26\"], [1.0, \"#f0f921\"]]}, \"colorway\": [\"#636efa\", \"#EF553B\", \"#00cc96\", \"#ab63fa\", \"#FFA15A\", \"#19d3f3\", \"#FF6692\", \"#B6E880\", \"#FF97FF\", \"#FECB52\"], \"font\": {\"color\": \"#2a3f5f\"}, \"geo\": {\"bgcolor\": \"white\", \"lakecolor\": \"white\", \"landcolor\": \"#E5ECF6\", \"showlakes\": true, \"showland\": true, \"subunitcolor\": \"white\"}, \"hoverlabel\": {\"align\": \"left\"}, \"hovermode\": \"closest\", \"mapbox\": {\"style\": \"light\"}, \"paper_bgcolor\": \"white\", \"plot_bgcolor\": \"#E5ECF6\", \"polar\": {\"angularaxis\": {\"gridcolor\": \"white\", \"linecolor\": \"white\", \"ticks\": \"\"}, \"bgcolor\": \"#E5ECF6\", \"radialaxis\": {\"gridcolor\": \"white\", \"linecolor\": \"white\", \"ticks\": \"\"}}, \"scene\": {\"xaxis\": {\"backgroundcolor\": \"#E5ECF6\", \"gridcolor\": \"white\", \"gridwidth\": 2, \"linecolor\": \"white\", \"showbackground\": true, \"ticks\": \"\", \"zerolinecolor\": \"white\"}, \"yaxis\": {\"backgroundcolor\": \"#E5ECF6\", \"gridcolor\": \"white\", \"gridwidth\": 2, \"linecolor\": \"white\", \"showbackground\": true, \"ticks\": \"\", \"zerolinecolor\": \"white\"}, \"zaxis\": {\"backgroundcolor\": \"#E5ECF6\", \"gridcolor\": \"white\", \"gridwidth\": 2, \"linecolor\": \"white\", \"showbackground\": true, \"ticks\": \"\", \"zerolinecolor\": \"white\"}}, \"shapedefaults\": {\"line\": {\"color\": \"#2a3f5f\"}}, \"ternary\": {\"aaxis\": {\"gridcolor\": \"white\", \"linecolor\": \"white\", \"ticks\": \"\"}, \"baxis\": {\"gridcolor\": \"white\", \"linecolor\": \"white\", \"ticks\": \"\"}, \"bgcolor\": \"#E5ECF6\", \"caxis\": {\"gridcolor\": \"white\", \"linecolor\": \"white\", \"ticks\": \"\"}}, \"title\": {\"x\": 0.05}, \"xaxis\": {\"automargin\": true, \"gridcolor\": \"white\", \"linecolor\": \"white\", \"ticks\": \"\", \"title\": {\"standoff\": 15}, \"zerolinecolor\": \"white\", \"zerolinewidth\": 2}, \"yaxis\": {\"automargin\": true, \"gridcolor\": \"white\", \"linecolor\": \"white\", \"ticks\": \"\", \"title\": {\"standoff\": 15}, \"zerolinecolor\": \"white\", \"zerolinewidth\": 2}}}},                        {\"responsive\": true}                    ).then(function(){\n",
       "                            \n",
       "var gd = document.getElementById('30583a99-7214-4a14-9926-49a72ad68d05');\n",
       "var x = new MutationObserver(function (mutations, observer) {{\n",
       "        var display = window.getComputedStyle(gd).display;\n",
       "        if (!display || display === 'none') {{\n",
       "            console.log([gd, 'removed!']);\n",
       "            Plotly.purge(gd);\n",
       "            observer.disconnect();\n",
       "        }}\n",
       "}});\n",
       "\n",
       "// Listen for the removal of the full notebook cells\n",
       "var notebookContainer = gd.closest('#notebook-container');\n",
       "if (notebookContainer) {{\n",
       "    x.observe(notebookContainer, {childList: true});\n",
       "}}\n",
       "\n",
       "// Listen for the clearing of the current output cell\n",
       "var outputEl = gd.closest('.output');\n",
       "if (outputEl) {{\n",
       "    x.observe(outputEl, {childList: true});\n",
       "}}\n",
       "\n",
       "                        })                };                });            </script>        </div>"
      ]
     },
     "metadata": {},
     "output_type": "display_data"
    }
   ],
   "source": [
    "# ------------Mesh definition and border conditions ----\n",
    "malla = Mesh(1, volumes=nx,lengths=(lx,0.1,0.1))\n",
    "#-------------Definimos fronteras ----------\n",
    "malla.tag_wall_dirichlet('W',TA)\n",
    "malla.tag_wall_dirichlet('E',TB)\n",
    "malla.draw()"
   ]
  },
  {
   "cell_type": "code",
   "execution_count": 495,
   "metadata": {
    "scrolled": false
   },
   "outputs": [
    {
     "name": "stdout",
     "output_type": "stream",
     "text": [
      "E\n",
      "[[[1000.]]\n",
      "\n",
      " [[1000.]]\n",
      "\n",
      " [[1000.]]\n",
      "\n",
      " [[1000.]]\n",
      "\n",
      " [[   0.]]] (5, 1, 1)\n",
      "W\n",
      "[[[   0.]]\n",
      "\n",
      " [[1000.]]\n",
      "\n",
      " [[1000.]]\n",
      "\n",
      " [[1000.]]\n",
      "\n",
      " [[1000.]]] (5, 1, 1)\n",
      "\n",
      "aP:\n",
      "[[[300.]]\n",
      "\n",
      " [[200.]]\n",
      "\n",
      " [[200.]]\n",
      "\n",
      " [[200.]]\n",
      "\n",
      " [[300.]]]\n",
      "\n",
      "Sp:\n",
      "[[[-200.]]\n",
      "\n",
      " [[   0.]]\n",
      "\n",
      " [[   0.]]\n",
      "\n",
      " [[   0.]]\n",
      "\n",
      " [[-200.]]]\n",
      "\n",
      "aE:\n",
      "[[[-100.]]\n",
      "\n",
      " [[-100.]]\n",
      "\n",
      " [[-100.]]\n",
      "\n",
      " [[-100.]]\n",
      "\n",
      " [[   0.]]]\n",
      "\n",
      "aW:\n",
      "[[[   0.]]\n",
      "\n",
      " [[-100.]]\n",
      "\n",
      " [[-100.]]\n",
      "\n",
      " [[-100.]]\n",
      "\n",
      " [[-100.]]]\n",
      "\n",
      "Su:\n",
      "[[[ 20000.]]\n",
      "\n",
      " [[     0.]]\n",
      "\n",
      " [[     0.]]\n",
      "\n",
      " [[     0.]]\n",
      "\n",
      " [[100000.]]]\n"
     ]
    }
   ],
   "source": [
    "#--- creamos el objeto coeficientes --------------------------\n",
    "coef = Coefficients(malla)\n",
    "coef.set_diffusion(k)\n",
    "print(\"\\naP:\")\n",
    "print(coef.get_aP())\n",
    "print(\"\\nSp:\")\n",
    "print(coef.get_Sp())\n",
    "print(\"\\naE:\")\n",
    "print(coef.get_aE())\n",
    "print(\"\\naW:\")\n",
    "print(coef.get_aW())\n",
    "print(\"\\nSu:\")\n",
    "print(coef.get_Su())"
   ]
  },
  {
   "cell_type": "code",
   "execution_count": 496,
   "metadata": {},
   "outputs": [
    {
     "name": "stdout",
     "output_type": "stream",
     "text": [
      "La matriz que representa el sistema de ecuaciones es:\n",
      " [[ 300. -100.    0.    0.    0.]\n",
      " [-100.  200. -100.    0.    0.]\n",
      " [   0. -100.  200. -100.    0.]\n",
      " [   0.    0. -100.  200. -100.]\n",
      " [   0.    0.    0. -100.  300.]]\n"
     ]
    }
   ],
   "source": [
    "sistema = EqSystem(coef)\n",
    "A = sistema.get_A_matrix()\n",
    "print(\"La matriz que representa el sistema de ecuaciones es:\\n\", A)"
   ]
  },
  {
   "cell_type": "code",
   "execution_count": 497,
   "metadata": {},
   "outputs": [
    {
     "name": "stdout",
     "output_type": "stream",
     "text": [
      "EL vector 'b' es:\n",
      "[ 20000.      0.      0.      0. 100000.]\n"
     ]
    }
   ],
   "source": [
    "print(\"EL vector 'b' es:\")\n",
    "print(sistema.get_b_vector())"
   ]
  },
  {
   "cell_type": "code",
   "execution_count": 498,
   "metadata": {},
   "outputs": [
    {
     "name": "stdout",
     "output_type": "stream",
     "text": [
      "La solución es: [140. 220. 300. 380. 460.]\n"
     ]
    }
   ],
   "source": [
    "print(f\"La solución es: {sistema.get_solution()}\")"
   ]
  },
  {
   "cell_type": "markdown",
   "metadata": {},
   "source": [
    "---"
   ]
  },
  {
   "cell_type": "markdown",
   "metadata": {},
   "source": [
    "[Volver al índice](#Índice)"
   ]
  },
  {
   "cell_type": "markdown",
   "metadata": {},
   "source": [
    "### Una dimensión, no uniformidad"
   ]
  },
  {
   "cell_type": "code",
   "execution_count": 69,
   "metadata": {},
   "outputs": [],
   "source": [
    "#------------- Initial data definition ----------------\n",
    "lx = 0.5 # meters\n",
    "TA = 100 # °C \n",
    "TB = 500 # °C \n",
    "k  = 1000 # W/m.K \n",
    "nx  = 6 # number of volumes\n",
    "#-------------------------------------------------------------"
   ]
  },
  {
   "cell_type": "code",
   "execution_count": 70,
   "metadata": {},
   "outputs": [
    {
     "data": {
      "application/vnd.plotly.v1+json": {
       "config": {
        "plotlyServerURL": "https://plot.ly"
       },
       "data": [
        {
         "marker": {
          "color": [
           "white",
           "white",
           "white",
           "white",
           "white",
           "white",
           "white",
           "white",
           "darkturquoise",
           "darkturquoise",
           "white",
           "white",
           "white",
           "white",
           "white",
           "white",
           "white",
           "white"
          ],
          "size": 2,
          "symbol": "square"
         },
         "mode": "markers",
         "type": "scatter3d",
         "x": [
          0.05,
          0.1,
          0.3,
          0.48,
          0.05,
          0.1,
          0.3,
          0.48,
          0,
          0.5,
          0.05,
          0.1,
          0.3,
          0.48,
          0.05,
          0.1,
          0.3,
          0.48
         ],
         "y": [
          0.05,
          0.05,
          0.05,
          0.05,
          0,
          0,
          0,
          0,
          0.05,
          0.05,
          0.1,
          0.1,
          0.1,
          0.1,
          0.05,
          0.05,
          0.05,
          0.05
         ],
         "z": [
          0,
          0,
          0,
          0,
          0.05,
          0.05,
          0.05,
          0.05,
          0.05,
          0.05,
          0.05,
          0.05,
          0.05,
          0.05,
          0.1,
          0.1,
          0.1,
          0.1
         ]
        },
        {
         "marker": {
          "color": "blue",
          "size": 5
         },
         "mode": "markers",
         "type": "scatter3d",
         "x": [
          0.05,
          0.1,
          0.3,
          0.48
         ],
         "y": [
          0.05,
          0.05,
          0.05,
          0.05
         ],
         "z": [
          0.05,
          0.05,
          0.05,
          0.05
         ]
        }
       ],
       "layout": {
        "template": {
         "data": {
          "bar": [
           {
            "error_x": {
             "color": "#2a3f5f"
            },
            "error_y": {
             "color": "#2a3f5f"
            },
            "marker": {
             "line": {
              "color": "#E5ECF6",
              "width": 0.5
             }
            },
            "type": "bar"
           }
          ],
          "barpolar": [
           {
            "marker": {
             "line": {
              "color": "#E5ECF6",
              "width": 0.5
             }
            },
            "type": "barpolar"
           }
          ],
          "carpet": [
           {
            "aaxis": {
             "endlinecolor": "#2a3f5f",
             "gridcolor": "white",
             "linecolor": "white",
             "minorgridcolor": "white",
             "startlinecolor": "#2a3f5f"
            },
            "baxis": {
             "endlinecolor": "#2a3f5f",
             "gridcolor": "white",
             "linecolor": "white",
             "minorgridcolor": "white",
             "startlinecolor": "#2a3f5f"
            },
            "type": "carpet"
           }
          ],
          "choropleth": [
           {
            "colorbar": {
             "outlinewidth": 0,
             "ticks": ""
            },
            "type": "choropleth"
           }
          ],
          "contour": [
           {
            "colorbar": {
             "outlinewidth": 0,
             "ticks": ""
            },
            "colorscale": [
             [
              0,
              "#0d0887"
             ],
             [
              0.1111111111111111,
              "#46039f"
             ],
             [
              0.2222222222222222,
              "#7201a8"
             ],
             [
              0.3333333333333333,
              "#9c179e"
             ],
             [
              0.4444444444444444,
              "#bd3786"
             ],
             [
              0.5555555555555556,
              "#d8576b"
             ],
             [
              0.6666666666666666,
              "#ed7953"
             ],
             [
              0.7777777777777778,
              "#fb9f3a"
             ],
             [
              0.8888888888888888,
              "#fdca26"
             ],
             [
              1,
              "#f0f921"
             ]
            ],
            "type": "contour"
           }
          ],
          "contourcarpet": [
           {
            "colorbar": {
             "outlinewidth": 0,
             "ticks": ""
            },
            "type": "contourcarpet"
           }
          ],
          "heatmap": [
           {
            "colorbar": {
             "outlinewidth": 0,
             "ticks": ""
            },
            "colorscale": [
             [
              0,
              "#0d0887"
             ],
             [
              0.1111111111111111,
              "#46039f"
             ],
             [
              0.2222222222222222,
              "#7201a8"
             ],
             [
              0.3333333333333333,
              "#9c179e"
             ],
             [
              0.4444444444444444,
              "#bd3786"
             ],
             [
              0.5555555555555556,
              "#d8576b"
             ],
             [
              0.6666666666666666,
              "#ed7953"
             ],
             [
              0.7777777777777778,
              "#fb9f3a"
             ],
             [
              0.8888888888888888,
              "#fdca26"
             ],
             [
              1,
              "#f0f921"
             ]
            ],
            "type": "heatmap"
           }
          ],
          "heatmapgl": [
           {
            "colorbar": {
             "outlinewidth": 0,
             "ticks": ""
            },
            "colorscale": [
             [
              0,
              "#0d0887"
             ],
             [
              0.1111111111111111,
              "#46039f"
             ],
             [
              0.2222222222222222,
              "#7201a8"
             ],
             [
              0.3333333333333333,
              "#9c179e"
             ],
             [
              0.4444444444444444,
              "#bd3786"
             ],
             [
              0.5555555555555556,
              "#d8576b"
             ],
             [
              0.6666666666666666,
              "#ed7953"
             ],
             [
              0.7777777777777778,
              "#fb9f3a"
             ],
             [
              0.8888888888888888,
              "#fdca26"
             ],
             [
              1,
              "#f0f921"
             ]
            ],
            "type": "heatmapgl"
           }
          ],
          "histogram": [
           {
            "marker": {
             "colorbar": {
              "outlinewidth": 0,
              "ticks": ""
             }
            },
            "type": "histogram"
           }
          ],
          "histogram2d": [
           {
            "colorbar": {
             "outlinewidth": 0,
             "ticks": ""
            },
            "colorscale": [
             [
              0,
              "#0d0887"
             ],
             [
              0.1111111111111111,
              "#46039f"
             ],
             [
              0.2222222222222222,
              "#7201a8"
             ],
             [
              0.3333333333333333,
              "#9c179e"
             ],
             [
              0.4444444444444444,
              "#bd3786"
             ],
             [
              0.5555555555555556,
              "#d8576b"
             ],
             [
              0.6666666666666666,
              "#ed7953"
             ],
             [
              0.7777777777777778,
              "#fb9f3a"
             ],
             [
              0.8888888888888888,
              "#fdca26"
             ],
             [
              1,
              "#f0f921"
             ]
            ],
            "type": "histogram2d"
           }
          ],
          "histogram2dcontour": [
           {
            "colorbar": {
             "outlinewidth": 0,
             "ticks": ""
            },
            "colorscale": [
             [
              0,
              "#0d0887"
             ],
             [
              0.1111111111111111,
              "#46039f"
             ],
             [
              0.2222222222222222,
              "#7201a8"
             ],
             [
              0.3333333333333333,
              "#9c179e"
             ],
             [
              0.4444444444444444,
              "#bd3786"
             ],
             [
              0.5555555555555556,
              "#d8576b"
             ],
             [
              0.6666666666666666,
              "#ed7953"
             ],
             [
              0.7777777777777778,
              "#fb9f3a"
             ],
             [
              0.8888888888888888,
              "#fdca26"
             ],
             [
              1,
              "#f0f921"
             ]
            ],
            "type": "histogram2dcontour"
           }
          ],
          "mesh3d": [
           {
            "colorbar": {
             "outlinewidth": 0,
             "ticks": ""
            },
            "type": "mesh3d"
           }
          ],
          "parcoords": [
           {
            "line": {
             "colorbar": {
              "outlinewidth": 0,
              "ticks": ""
             }
            },
            "type": "parcoords"
           }
          ],
          "pie": [
           {
            "automargin": true,
            "type": "pie"
           }
          ],
          "scatter": [
           {
            "marker": {
             "colorbar": {
              "outlinewidth": 0,
              "ticks": ""
             }
            },
            "type": "scatter"
           }
          ],
          "scatter3d": [
           {
            "line": {
             "colorbar": {
              "outlinewidth": 0,
              "ticks": ""
             }
            },
            "marker": {
             "colorbar": {
              "outlinewidth": 0,
              "ticks": ""
             }
            },
            "type": "scatter3d"
           }
          ],
          "scattercarpet": [
           {
            "marker": {
             "colorbar": {
              "outlinewidth": 0,
              "ticks": ""
             }
            },
            "type": "scattercarpet"
           }
          ],
          "scattergeo": [
           {
            "marker": {
             "colorbar": {
              "outlinewidth": 0,
              "ticks": ""
             }
            },
            "type": "scattergeo"
           }
          ],
          "scattergl": [
           {
            "marker": {
             "colorbar": {
              "outlinewidth": 0,
              "ticks": ""
             }
            },
            "type": "scattergl"
           }
          ],
          "scattermapbox": [
           {
            "marker": {
             "colorbar": {
              "outlinewidth": 0,
              "ticks": ""
             }
            },
            "type": "scattermapbox"
           }
          ],
          "scatterpolar": [
           {
            "marker": {
             "colorbar": {
              "outlinewidth": 0,
              "ticks": ""
             }
            },
            "type": "scatterpolar"
           }
          ],
          "scatterpolargl": [
           {
            "marker": {
             "colorbar": {
              "outlinewidth": 0,
              "ticks": ""
             }
            },
            "type": "scatterpolargl"
           }
          ],
          "scatterternary": [
           {
            "marker": {
             "colorbar": {
              "outlinewidth": 0,
              "ticks": ""
             }
            },
            "type": "scatterternary"
           }
          ],
          "surface": [
           {
            "colorbar": {
             "outlinewidth": 0,
             "ticks": ""
            },
            "colorscale": [
             [
              0,
              "#0d0887"
             ],
             [
              0.1111111111111111,
              "#46039f"
             ],
             [
              0.2222222222222222,
              "#7201a8"
             ],
             [
              0.3333333333333333,
              "#9c179e"
             ],
             [
              0.4444444444444444,
              "#bd3786"
             ],
             [
              0.5555555555555556,
              "#d8576b"
             ],
             [
              0.6666666666666666,
              "#ed7953"
             ],
             [
              0.7777777777777778,
              "#fb9f3a"
             ],
             [
              0.8888888888888888,
              "#fdca26"
             ],
             [
              1,
              "#f0f921"
             ]
            ],
            "type": "surface"
           }
          ],
          "table": [
           {
            "cells": {
             "fill": {
              "color": "#EBF0F8"
             },
             "line": {
              "color": "white"
             }
            },
            "header": {
             "fill": {
              "color": "#C8D4E3"
             },
             "line": {
              "color": "white"
             }
            },
            "type": "table"
           }
          ]
         },
         "layout": {
          "annotationdefaults": {
           "arrowcolor": "#2a3f5f",
           "arrowhead": 0,
           "arrowwidth": 1
          },
          "autotypenumbers": "strict",
          "coloraxis": {
           "colorbar": {
            "outlinewidth": 0,
            "ticks": ""
           }
          },
          "colorscale": {
           "diverging": [
            [
             0,
             "#8e0152"
            ],
            [
             0.1,
             "#c51b7d"
            ],
            [
             0.2,
             "#de77ae"
            ],
            [
             0.3,
             "#f1b6da"
            ],
            [
             0.4,
             "#fde0ef"
            ],
            [
             0.5,
             "#f7f7f7"
            ],
            [
             0.6,
             "#e6f5d0"
            ],
            [
             0.7,
             "#b8e186"
            ],
            [
             0.8,
             "#7fbc41"
            ],
            [
             0.9,
             "#4d9221"
            ],
            [
             1,
             "#276419"
            ]
           ],
           "sequential": [
            [
             0,
             "#0d0887"
            ],
            [
             0.1111111111111111,
             "#46039f"
            ],
            [
             0.2222222222222222,
             "#7201a8"
            ],
            [
             0.3333333333333333,
             "#9c179e"
            ],
            [
             0.4444444444444444,
             "#bd3786"
            ],
            [
             0.5555555555555556,
             "#d8576b"
            ],
            [
             0.6666666666666666,
             "#ed7953"
            ],
            [
             0.7777777777777778,
             "#fb9f3a"
            ],
            [
             0.8888888888888888,
             "#fdca26"
            ],
            [
             1,
             "#f0f921"
            ]
           ],
           "sequentialminus": [
            [
             0,
             "#0d0887"
            ],
            [
             0.1111111111111111,
             "#46039f"
            ],
            [
             0.2222222222222222,
             "#7201a8"
            ],
            [
             0.3333333333333333,
             "#9c179e"
            ],
            [
             0.4444444444444444,
             "#bd3786"
            ],
            [
             0.5555555555555556,
             "#d8576b"
            ],
            [
             0.6666666666666666,
             "#ed7953"
            ],
            [
             0.7777777777777778,
             "#fb9f3a"
            ],
            [
             0.8888888888888888,
             "#fdca26"
            ],
            [
             1,
             "#f0f921"
            ]
           ]
          },
          "colorway": [
           "#636efa",
           "#EF553B",
           "#00cc96",
           "#ab63fa",
           "#FFA15A",
           "#19d3f3",
           "#FF6692",
           "#B6E880",
           "#FF97FF",
           "#FECB52"
          ],
          "font": {
           "color": "#2a3f5f"
          },
          "geo": {
           "bgcolor": "white",
           "lakecolor": "white",
           "landcolor": "#E5ECF6",
           "showlakes": true,
           "showland": true,
           "subunitcolor": "white"
          },
          "hoverlabel": {
           "align": "left"
          },
          "hovermode": "closest",
          "mapbox": {
           "style": "light"
          },
          "paper_bgcolor": "white",
          "plot_bgcolor": "#E5ECF6",
          "polar": {
           "angularaxis": {
            "gridcolor": "white",
            "linecolor": "white",
            "ticks": ""
           },
           "bgcolor": "#E5ECF6",
           "radialaxis": {
            "gridcolor": "white",
            "linecolor": "white",
            "ticks": ""
           }
          },
          "scene": {
           "xaxis": {
            "backgroundcolor": "#E5ECF6",
            "gridcolor": "white",
            "gridwidth": 2,
            "linecolor": "white",
            "showbackground": true,
            "ticks": "",
            "zerolinecolor": "white"
           },
           "yaxis": {
            "backgroundcolor": "#E5ECF6",
            "gridcolor": "white",
            "gridwidth": 2,
            "linecolor": "white",
            "showbackground": true,
            "ticks": "",
            "zerolinecolor": "white"
           },
           "zaxis": {
            "backgroundcolor": "#E5ECF6",
            "gridcolor": "white",
            "gridwidth": 2,
            "linecolor": "white",
            "showbackground": true,
            "ticks": "",
            "zerolinecolor": "white"
           }
          },
          "shapedefaults": {
           "line": {
            "color": "#2a3f5f"
           }
          },
          "ternary": {
           "aaxis": {
            "gridcolor": "white",
            "linecolor": "white",
            "ticks": ""
           },
           "baxis": {
            "gridcolor": "white",
            "linecolor": "white",
            "ticks": ""
           },
           "bgcolor": "#E5ECF6",
           "caxis": {
            "gridcolor": "white",
            "linecolor": "white",
            "ticks": ""
           }
          },
          "title": {
           "x": 0.05
          },
          "xaxis": {
           "automargin": true,
           "gridcolor": "white",
           "linecolor": "white",
           "ticks": "",
           "title": {
            "standoff": 15
           },
           "zerolinecolor": "white",
           "zerolinewidth": 2
          },
          "yaxis": {
           "automargin": true,
           "gridcolor": "white",
           "linecolor": "white",
           "ticks": "",
           "title": {
            "standoff": 15
           },
           "zerolinecolor": "white",
           "zerolinewidth": 2
          }
         }
        }
       }
      },
      "text/html": [
       "<div>                            <div id=\"8cc22bf5-ae83-4c32-b084-efe73580e8cf\" class=\"plotly-graph-div\" style=\"height:525px; width:100%;\"></div>            <script type=\"text/javascript\">                require([\"plotly\"], function(Plotly) {                    window.PLOTLYENV=window.PLOTLYENV || {};                                    if (document.getElementById(\"8cc22bf5-ae83-4c32-b084-efe73580e8cf\")) {                    Plotly.newPlot(                        \"8cc22bf5-ae83-4c32-b084-efe73580e8cf\",                        [{\"marker\": {\"color\": [\"white\", \"white\", \"white\", \"white\", \"white\", \"white\", \"white\", \"white\", \"darkturquoise\", \"darkturquoise\", \"white\", \"white\", \"white\", \"white\", \"white\", \"white\", \"white\", \"white\"], \"size\": 2, \"symbol\": \"square\"}, \"mode\": \"markers\", \"type\": \"scatter3d\", \"x\": [0.05, 0.1, 0.3, 0.48, 0.05, 0.1, 0.3, 0.48, 0.0, 0.5, 0.05, 0.1, 0.3, 0.48, 0.05, 0.1, 0.3, 0.48], \"y\": [0.05, 0.05, 0.05, 0.05, 0.0, 0.0, 0.0, 0.0, 0.05, 0.05, 0.1, 0.1, 0.1, 0.1, 0.05, 0.05, 0.05, 0.05], \"z\": [0.0, 0.0, 0.0, 0.0, 0.05, 0.05, 0.05, 0.05, 0.05, 0.05, 0.05, 0.05, 0.05, 0.05, 0.1, 0.1, 0.1, 0.1]}, {\"marker\": {\"color\": \"blue\", \"size\": 5}, \"mode\": \"markers\", \"type\": \"scatter3d\", \"x\": [0.05, 0.1, 0.3, 0.48], \"y\": [0.05, 0.05, 0.05, 0.05], \"z\": [0.05, 0.05, 0.05, 0.05]}],                        {\"template\": {\"data\": {\"bar\": [{\"error_x\": {\"color\": \"#2a3f5f\"}, \"error_y\": {\"color\": \"#2a3f5f\"}, \"marker\": {\"line\": {\"color\": \"#E5ECF6\", \"width\": 0.5}}, \"type\": \"bar\"}], \"barpolar\": [{\"marker\": {\"line\": {\"color\": \"#E5ECF6\", \"width\": 0.5}}, \"type\": \"barpolar\"}], \"carpet\": [{\"aaxis\": {\"endlinecolor\": \"#2a3f5f\", \"gridcolor\": \"white\", \"linecolor\": \"white\", \"minorgridcolor\": \"white\", \"startlinecolor\": \"#2a3f5f\"}, \"baxis\": {\"endlinecolor\": \"#2a3f5f\", \"gridcolor\": \"white\", \"linecolor\": \"white\", \"minorgridcolor\": \"white\", \"startlinecolor\": \"#2a3f5f\"}, \"type\": \"carpet\"}], \"choropleth\": [{\"colorbar\": {\"outlinewidth\": 0, \"ticks\": \"\"}, \"type\": \"choropleth\"}], \"contour\": [{\"colorbar\": {\"outlinewidth\": 0, \"ticks\": \"\"}, \"colorscale\": [[0.0, \"#0d0887\"], [0.1111111111111111, \"#46039f\"], [0.2222222222222222, \"#7201a8\"], [0.3333333333333333, \"#9c179e\"], [0.4444444444444444, \"#bd3786\"], [0.5555555555555556, \"#d8576b\"], [0.6666666666666666, \"#ed7953\"], [0.7777777777777778, \"#fb9f3a\"], [0.8888888888888888, \"#fdca26\"], [1.0, \"#f0f921\"]], \"type\": \"contour\"}], \"contourcarpet\": [{\"colorbar\": {\"outlinewidth\": 0, \"ticks\": \"\"}, \"type\": \"contourcarpet\"}], \"heatmap\": [{\"colorbar\": {\"outlinewidth\": 0, \"ticks\": \"\"}, \"colorscale\": [[0.0, \"#0d0887\"], [0.1111111111111111, \"#46039f\"], [0.2222222222222222, \"#7201a8\"], [0.3333333333333333, \"#9c179e\"], [0.4444444444444444, \"#bd3786\"], [0.5555555555555556, \"#d8576b\"], [0.6666666666666666, \"#ed7953\"], [0.7777777777777778, \"#fb9f3a\"], [0.8888888888888888, \"#fdca26\"], [1.0, \"#f0f921\"]], \"type\": \"heatmap\"}], \"heatmapgl\": [{\"colorbar\": {\"outlinewidth\": 0, \"ticks\": \"\"}, \"colorscale\": [[0.0, \"#0d0887\"], [0.1111111111111111, \"#46039f\"], [0.2222222222222222, \"#7201a8\"], [0.3333333333333333, \"#9c179e\"], [0.4444444444444444, \"#bd3786\"], [0.5555555555555556, \"#d8576b\"], [0.6666666666666666, \"#ed7953\"], [0.7777777777777778, \"#fb9f3a\"], [0.8888888888888888, \"#fdca26\"], [1.0, \"#f0f921\"]], \"type\": \"heatmapgl\"}], \"histogram\": [{\"marker\": {\"colorbar\": {\"outlinewidth\": 0, \"ticks\": \"\"}}, \"type\": \"histogram\"}], \"histogram2d\": [{\"colorbar\": {\"outlinewidth\": 0, \"ticks\": \"\"}, \"colorscale\": [[0.0, \"#0d0887\"], [0.1111111111111111, \"#46039f\"], [0.2222222222222222, \"#7201a8\"], [0.3333333333333333, \"#9c179e\"], [0.4444444444444444, \"#bd3786\"], [0.5555555555555556, \"#d8576b\"], [0.6666666666666666, \"#ed7953\"], [0.7777777777777778, \"#fb9f3a\"], [0.8888888888888888, \"#fdca26\"], [1.0, \"#f0f921\"]], \"type\": \"histogram2d\"}], \"histogram2dcontour\": [{\"colorbar\": {\"outlinewidth\": 0, \"ticks\": \"\"}, \"colorscale\": [[0.0, \"#0d0887\"], [0.1111111111111111, \"#46039f\"], [0.2222222222222222, \"#7201a8\"], [0.3333333333333333, \"#9c179e\"], [0.4444444444444444, \"#bd3786\"], [0.5555555555555556, \"#d8576b\"], [0.6666666666666666, \"#ed7953\"], [0.7777777777777778, \"#fb9f3a\"], [0.8888888888888888, \"#fdca26\"], [1.0, \"#f0f921\"]], \"type\": \"histogram2dcontour\"}], \"mesh3d\": [{\"colorbar\": {\"outlinewidth\": 0, \"ticks\": \"\"}, \"type\": \"mesh3d\"}], \"parcoords\": [{\"line\": {\"colorbar\": {\"outlinewidth\": 0, \"ticks\": \"\"}}, \"type\": \"parcoords\"}], \"pie\": [{\"automargin\": true, \"type\": \"pie\"}], \"scatter\": [{\"marker\": {\"colorbar\": {\"outlinewidth\": 0, \"ticks\": \"\"}}, \"type\": \"scatter\"}], \"scatter3d\": [{\"line\": {\"colorbar\": {\"outlinewidth\": 0, \"ticks\": \"\"}}, \"marker\": {\"colorbar\": {\"outlinewidth\": 0, \"ticks\": \"\"}}, \"type\": \"scatter3d\"}], \"scattercarpet\": [{\"marker\": {\"colorbar\": {\"outlinewidth\": 0, \"ticks\": \"\"}}, \"type\": \"scattercarpet\"}], \"scattergeo\": [{\"marker\": {\"colorbar\": {\"outlinewidth\": 0, \"ticks\": \"\"}}, \"type\": \"scattergeo\"}], \"scattergl\": [{\"marker\": {\"colorbar\": {\"outlinewidth\": 0, \"ticks\": \"\"}}, \"type\": \"scattergl\"}], \"scattermapbox\": [{\"marker\": {\"colorbar\": {\"outlinewidth\": 0, \"ticks\": \"\"}}, \"type\": \"scattermapbox\"}], \"scatterpolar\": [{\"marker\": {\"colorbar\": {\"outlinewidth\": 0, \"ticks\": \"\"}}, \"type\": \"scatterpolar\"}], \"scatterpolargl\": [{\"marker\": {\"colorbar\": {\"outlinewidth\": 0, \"ticks\": \"\"}}, \"type\": \"scatterpolargl\"}], \"scatterternary\": [{\"marker\": {\"colorbar\": {\"outlinewidth\": 0, \"ticks\": \"\"}}, \"type\": \"scatterternary\"}], \"surface\": [{\"colorbar\": {\"outlinewidth\": 0, \"ticks\": \"\"}, \"colorscale\": [[0.0, \"#0d0887\"], [0.1111111111111111, \"#46039f\"], [0.2222222222222222, \"#7201a8\"], [0.3333333333333333, \"#9c179e\"], [0.4444444444444444, \"#bd3786\"], [0.5555555555555556, \"#d8576b\"], [0.6666666666666666, \"#ed7953\"], [0.7777777777777778, \"#fb9f3a\"], [0.8888888888888888, \"#fdca26\"], [1.0, \"#f0f921\"]], \"type\": \"surface\"}], \"table\": [{\"cells\": {\"fill\": {\"color\": \"#EBF0F8\"}, \"line\": {\"color\": \"white\"}}, \"header\": {\"fill\": {\"color\": \"#C8D4E3\"}, \"line\": {\"color\": \"white\"}}, \"type\": \"table\"}]}, \"layout\": {\"annotationdefaults\": {\"arrowcolor\": \"#2a3f5f\", \"arrowhead\": 0, \"arrowwidth\": 1}, \"autotypenumbers\": \"strict\", \"coloraxis\": {\"colorbar\": {\"outlinewidth\": 0, \"ticks\": \"\"}}, \"colorscale\": {\"diverging\": [[0, \"#8e0152\"], [0.1, \"#c51b7d\"], [0.2, \"#de77ae\"], [0.3, \"#f1b6da\"], [0.4, \"#fde0ef\"], [0.5, \"#f7f7f7\"], [0.6, \"#e6f5d0\"], [0.7, \"#b8e186\"], [0.8, \"#7fbc41\"], [0.9, \"#4d9221\"], [1, \"#276419\"]], \"sequential\": [[0.0, \"#0d0887\"], [0.1111111111111111, \"#46039f\"], [0.2222222222222222, \"#7201a8\"], [0.3333333333333333, \"#9c179e\"], [0.4444444444444444, \"#bd3786\"], [0.5555555555555556, \"#d8576b\"], [0.6666666666666666, \"#ed7953\"], [0.7777777777777778, \"#fb9f3a\"], [0.8888888888888888, \"#fdca26\"], [1.0, \"#f0f921\"]], \"sequentialminus\": [[0.0, \"#0d0887\"], [0.1111111111111111, \"#46039f\"], [0.2222222222222222, \"#7201a8\"], [0.3333333333333333, \"#9c179e\"], [0.4444444444444444, \"#bd3786\"], [0.5555555555555556, \"#d8576b\"], [0.6666666666666666, \"#ed7953\"], [0.7777777777777778, \"#fb9f3a\"], [0.8888888888888888, \"#fdca26\"], [1.0, \"#f0f921\"]]}, \"colorway\": [\"#636efa\", \"#EF553B\", \"#00cc96\", \"#ab63fa\", \"#FFA15A\", \"#19d3f3\", \"#FF6692\", \"#B6E880\", \"#FF97FF\", \"#FECB52\"], \"font\": {\"color\": \"#2a3f5f\"}, \"geo\": {\"bgcolor\": \"white\", \"lakecolor\": \"white\", \"landcolor\": \"#E5ECF6\", \"showlakes\": true, \"showland\": true, \"subunitcolor\": \"white\"}, \"hoverlabel\": {\"align\": \"left\"}, \"hovermode\": \"closest\", \"mapbox\": {\"style\": \"light\"}, \"paper_bgcolor\": \"white\", \"plot_bgcolor\": \"#E5ECF6\", \"polar\": {\"angularaxis\": {\"gridcolor\": \"white\", \"linecolor\": \"white\", \"ticks\": \"\"}, \"bgcolor\": \"#E5ECF6\", \"radialaxis\": {\"gridcolor\": \"white\", \"linecolor\": \"white\", \"ticks\": \"\"}}, \"scene\": {\"xaxis\": {\"backgroundcolor\": \"#E5ECF6\", \"gridcolor\": \"white\", \"gridwidth\": 2, \"linecolor\": \"white\", \"showbackground\": true, \"ticks\": \"\", \"zerolinecolor\": \"white\"}, \"yaxis\": {\"backgroundcolor\": \"#E5ECF6\", \"gridcolor\": \"white\", \"gridwidth\": 2, \"linecolor\": \"white\", \"showbackground\": true, \"ticks\": \"\", \"zerolinecolor\": \"white\"}, \"zaxis\": {\"backgroundcolor\": \"#E5ECF6\", \"gridcolor\": \"white\", \"gridwidth\": 2, \"linecolor\": \"white\", \"showbackground\": true, \"ticks\": \"\", \"zerolinecolor\": \"white\"}}, \"shapedefaults\": {\"line\": {\"color\": \"#2a3f5f\"}}, \"ternary\": {\"aaxis\": {\"gridcolor\": \"white\", \"linecolor\": \"white\", \"ticks\": \"\"}, \"baxis\": {\"gridcolor\": \"white\", \"linecolor\": \"white\", \"ticks\": \"\"}, \"bgcolor\": \"#E5ECF6\", \"caxis\": {\"gridcolor\": \"white\", \"linecolor\": \"white\", \"ticks\": \"\"}}, \"title\": {\"x\": 0.05}, \"xaxis\": {\"automargin\": true, \"gridcolor\": \"white\", \"linecolor\": \"white\", \"ticks\": \"\", \"title\": {\"standoff\": 15}, \"zerolinecolor\": \"white\", \"zerolinewidth\": 2}, \"yaxis\": {\"automargin\": true, \"gridcolor\": \"white\", \"linecolor\": \"white\", \"ticks\": \"\", \"title\": {\"standoff\": 15}, \"zerolinecolor\": \"white\", \"zerolinewidth\": 2}}}},                        {\"responsive\": true}                    ).then(function(){\n",
       "                            \n",
       "var gd = document.getElementById('8cc22bf5-ae83-4c32-b084-efe73580e8cf');\n",
       "var x = new MutationObserver(function (mutations, observer) {{\n",
       "        var display = window.getComputedStyle(gd).display;\n",
       "        if (!display || display === 'none') {{\n",
       "            console.log([gd, 'removed!']);\n",
       "            Plotly.purge(gd);\n",
       "            observer.disconnect();\n",
       "        }}\n",
       "}});\n",
       "\n",
       "// Listen for the removal of the full notebook cells\n",
       "var notebookContainer = gd.closest('#notebook-container');\n",
       "if (notebookContainer) {{\n",
       "    x.observe(notebookContainer, {childList: true});\n",
       "}}\n",
       "\n",
       "// Listen for the clearing of the current output cell\n",
       "var outputEl = gd.closest('.output');\n",
       "if (outputEl) {{\n",
       "    x.observe(outputEl, {childList: true});\n",
       "}}\n",
       "\n",
       "                        })                };                });            </script>        </div>"
      ]
     },
     "metadata": {},
     "output_type": "display_data"
    }
   ],
   "source": [
    "# ------------Creamos la malla de acuerdo a la geometría definida por el problema\n",
    "malla = Mesh(1, volumes=nx, lengths=(lx,0.1,0.1))\n",
    "malla.set_dominio(np.array([0., 0.05, 0.1, 0.3, 0.48, 0.5]))\n",
    "#-------------Definimos fronteras ----------\n",
    "malla.tag_wall_dirichlet('W',TA)\n",
    "malla.tag_wall_dirichlet('E',TB)\n",
    "malla.draw()"
   ]
  },
  {
   "cell_type": "code",
   "execution_count": 71,
   "metadata": {},
   "outputs": [
    {
     "name": "stdout",
     "output_type": "stream",
     "text": [
      "\n",
      "aP es:\n",
      "[[[400.        ]]\n",
      "\n",
      " [[250.        ]]\n",
      "\n",
      " [[105.55555556]]\n",
      "\n",
      " [[555.55555556]]]\n",
      "\n",
      "aE es:\n",
      "[[[-200.        ]]\n",
      "\n",
      " [[ -50.        ]]\n",
      "\n",
      " [[ -55.55555556]]\n",
      "\n",
      " [[   0.        ]]]\n",
      "\n",
      "aW es:\n",
      "[[[   0.        ]]\n",
      "\n",
      " [[-200.        ]]\n",
      "\n",
      " [[ -50.        ]]\n",
      "\n",
      " [[ -55.55555556]]]\n",
      "\n",
      "Sp:\n",
      "[[[-200.]]\n",
      "\n",
      " [[   0.]]\n",
      "\n",
      " [[   0.]]\n",
      "\n",
      " [[-500.]]]\n",
      "\n",
      "Sp:\n",
      "[[[ 20000.]]\n",
      "\n",
      " [[     0.]]\n",
      "\n",
      " [[     0.]]\n",
      "\n",
      " [[250000.]]]\n"
     ]
    }
   ],
   "source": [
    "#--- creamos el objeto coeficientes --------------------------\n",
    "coef = Coefficients(malla)\n",
    "coef.set_diffusion(k)\n",
    "print(\"\\naP es:\")\n",
    "print(coef.get_aP())\n",
    "print(\"\\naE es:\")\n",
    "print(coef.get_aE())\n",
    "print(\"\\naW es:\")\n",
    "print(coef.get_aW())\n",
    "print(\"\\nSp:\")\n",
    "print(coef.get_Sp())\n",
    "print(\"\\nSp:\")\n",
    "print(coef.get_Su())"
   ]
  },
  {
   "cell_type": "code",
   "execution_count": 72,
   "metadata": {},
   "outputs": [
    {
     "name": "stdout",
     "output_type": "stream",
     "text": [
      "La matriz que representa el sistema de ecuaciones es:\n",
      " [[ 400.         -200.            0.            0.        ]\n",
      " [-200.          250.          -50.            0.        ]\n",
      " [   0.          -50.          105.55555556  -55.55555556]\n",
      " [   0.            0.          -55.55555556  555.55555556]]\n"
     ]
    }
   ],
   "source": [
    "sistema = EqSystem(coef)\n",
    "A = sistema.get_A_matrix()\n",
    "print(\"La matriz que representa el sistema de ecuaciones es:\\n\", A)"
   ]
  },
  {
   "cell_type": "code",
   "execution_count": 73,
   "metadata": {},
   "outputs": [
    {
     "name": "stdout",
     "output_type": "stream",
     "text": [
      "EL vector 'b' es:\n",
      "[ 20000.      0.      0. 250000.]\n"
     ]
    }
   ],
   "source": [
    "print(\"EL vector 'b' es:\")\n",
    "print(sistema.get_b_vector())"
   ]
  },
  {
   "cell_type": "code",
   "execution_count": 74,
   "metadata": {},
   "outputs": [
    {
     "name": "stdout",
     "output_type": "stream",
     "text": [
      "La solución es: [140. 180. 340. 484.]\n"
     ]
    }
   ],
   "source": [
    "print(f\"La solución es: {sistema.get_solution()}\")"
   ]
  },
  {
   "cell_type": "markdown",
   "metadata": {},
   "source": [
    "---"
   ]
  },
  {
   "cell_type": "markdown",
   "metadata": {},
   "source": [
    "[Volver al índice](#Índice)"
   ]
  },
  {
   "cell_type": "markdown",
   "metadata": {},
   "source": [
    "### Una dimensión con convección"
   ]
  },
  {
   "cell_type": "code",
   "execution_count": 85,
   "metadata": {},
   "outputs": [],
   "source": [
    "#-------------Definición de datos iniciales ----------------\n",
    "lx = 1.0 # meters\n",
    "TA = 1.0 # °C \n",
    "TB = 0 # °C \n",
    "Γ  = 0.1 # Kg/m.s\n",
    "nvx  =  5 # Número de volumenes\n",
    "u = 0.1 # m/s\n",
    "ρ = 1. # Kg/m²"
   ]
  },
  {
   "cell_type": "code",
   "execution_count": 86,
   "metadata": {},
   "outputs": [
    {
     "data": {
      "application/vnd.plotly.v1+json": {
       "config": {
        "plotlyServerURL": "https://plot.ly"
       },
       "data": [
        {
         "marker": {
          "color": [
           "white",
           "white",
           "white",
           "white",
           "white",
           "white",
           "white",
           "white",
           "white",
           "white",
           "darkturquoise",
           "darkturquoise",
           "white",
           "white",
           "white",
           "white",
           "white",
           "white",
           "white",
           "white",
           "white",
           "white"
          ],
          "size": 2,
          "symbol": "square"
         },
         "mode": "markers",
         "type": "scatter3d",
         "x": [
          0.1,
          0.30000000000000004,
          0.5,
          0.7000000000000001,
          0.9,
          0.1,
          0.30000000000000004,
          0.5,
          0.7000000000000001,
          0.9,
          0,
          1,
          0.1,
          0.30000000000000004,
          0.5,
          0.7000000000000001,
          0.9,
          0.1,
          0.30000000000000004,
          0.5,
          0.7000000000000001,
          0.9
         ],
         "y": [
          0.05,
          0.05,
          0.05,
          0.05,
          0.05,
          0,
          0,
          0,
          0,
          0,
          0.05,
          0.05,
          0.1,
          0.1,
          0.1,
          0.1,
          0.1,
          0.05,
          0.05,
          0.05,
          0.05,
          0.05
         ],
         "z": [
          0,
          0,
          0,
          0,
          0,
          0.05,
          0.05,
          0.05,
          0.05,
          0.05,
          0.05,
          0.05,
          0.05,
          0.05,
          0.05,
          0.05,
          0.05,
          0.1,
          0.1,
          0.1,
          0.1,
          0.1
         ]
        },
        {
         "marker": {
          "color": "blue",
          "size": 5
         },
         "mode": "markers",
         "type": "scatter3d",
         "x": [
          0.1,
          0.30000000000000004,
          0.5,
          0.7000000000000001,
          0.9
         ],
         "y": [
          0.05,
          0.05,
          0.05,
          0.05,
          0.05
         ],
         "z": [
          0.05,
          0.05,
          0.05,
          0.05,
          0.05
         ]
        }
       ],
       "layout": {
        "template": {
         "data": {
          "bar": [
           {
            "error_x": {
             "color": "#2a3f5f"
            },
            "error_y": {
             "color": "#2a3f5f"
            },
            "marker": {
             "line": {
              "color": "#E5ECF6",
              "width": 0.5
             }
            },
            "type": "bar"
           }
          ],
          "barpolar": [
           {
            "marker": {
             "line": {
              "color": "#E5ECF6",
              "width": 0.5
             }
            },
            "type": "barpolar"
           }
          ],
          "carpet": [
           {
            "aaxis": {
             "endlinecolor": "#2a3f5f",
             "gridcolor": "white",
             "linecolor": "white",
             "minorgridcolor": "white",
             "startlinecolor": "#2a3f5f"
            },
            "baxis": {
             "endlinecolor": "#2a3f5f",
             "gridcolor": "white",
             "linecolor": "white",
             "minorgridcolor": "white",
             "startlinecolor": "#2a3f5f"
            },
            "type": "carpet"
           }
          ],
          "choropleth": [
           {
            "colorbar": {
             "outlinewidth": 0,
             "ticks": ""
            },
            "type": "choropleth"
           }
          ],
          "contour": [
           {
            "colorbar": {
             "outlinewidth": 0,
             "ticks": ""
            },
            "colorscale": [
             [
              0,
              "#0d0887"
             ],
             [
              0.1111111111111111,
              "#46039f"
             ],
             [
              0.2222222222222222,
              "#7201a8"
             ],
             [
              0.3333333333333333,
              "#9c179e"
             ],
             [
              0.4444444444444444,
              "#bd3786"
             ],
             [
              0.5555555555555556,
              "#d8576b"
             ],
             [
              0.6666666666666666,
              "#ed7953"
             ],
             [
              0.7777777777777778,
              "#fb9f3a"
             ],
             [
              0.8888888888888888,
              "#fdca26"
             ],
             [
              1,
              "#f0f921"
             ]
            ],
            "type": "contour"
           }
          ],
          "contourcarpet": [
           {
            "colorbar": {
             "outlinewidth": 0,
             "ticks": ""
            },
            "type": "contourcarpet"
           }
          ],
          "heatmap": [
           {
            "colorbar": {
             "outlinewidth": 0,
             "ticks": ""
            },
            "colorscale": [
             [
              0,
              "#0d0887"
             ],
             [
              0.1111111111111111,
              "#46039f"
             ],
             [
              0.2222222222222222,
              "#7201a8"
             ],
             [
              0.3333333333333333,
              "#9c179e"
             ],
             [
              0.4444444444444444,
              "#bd3786"
             ],
             [
              0.5555555555555556,
              "#d8576b"
             ],
             [
              0.6666666666666666,
              "#ed7953"
             ],
             [
              0.7777777777777778,
              "#fb9f3a"
             ],
             [
              0.8888888888888888,
              "#fdca26"
             ],
             [
              1,
              "#f0f921"
             ]
            ],
            "type": "heatmap"
           }
          ],
          "heatmapgl": [
           {
            "colorbar": {
             "outlinewidth": 0,
             "ticks": ""
            },
            "colorscale": [
             [
              0,
              "#0d0887"
             ],
             [
              0.1111111111111111,
              "#46039f"
             ],
             [
              0.2222222222222222,
              "#7201a8"
             ],
             [
              0.3333333333333333,
              "#9c179e"
             ],
             [
              0.4444444444444444,
              "#bd3786"
             ],
             [
              0.5555555555555556,
              "#d8576b"
             ],
             [
              0.6666666666666666,
              "#ed7953"
             ],
             [
              0.7777777777777778,
              "#fb9f3a"
             ],
             [
              0.8888888888888888,
              "#fdca26"
             ],
             [
              1,
              "#f0f921"
             ]
            ],
            "type": "heatmapgl"
           }
          ],
          "histogram": [
           {
            "marker": {
             "colorbar": {
              "outlinewidth": 0,
              "ticks": ""
             }
            },
            "type": "histogram"
           }
          ],
          "histogram2d": [
           {
            "colorbar": {
             "outlinewidth": 0,
             "ticks": ""
            },
            "colorscale": [
             [
              0,
              "#0d0887"
             ],
             [
              0.1111111111111111,
              "#46039f"
             ],
             [
              0.2222222222222222,
              "#7201a8"
             ],
             [
              0.3333333333333333,
              "#9c179e"
             ],
             [
              0.4444444444444444,
              "#bd3786"
             ],
             [
              0.5555555555555556,
              "#d8576b"
             ],
             [
              0.6666666666666666,
              "#ed7953"
             ],
             [
              0.7777777777777778,
              "#fb9f3a"
             ],
             [
              0.8888888888888888,
              "#fdca26"
             ],
             [
              1,
              "#f0f921"
             ]
            ],
            "type": "histogram2d"
           }
          ],
          "histogram2dcontour": [
           {
            "colorbar": {
             "outlinewidth": 0,
             "ticks": ""
            },
            "colorscale": [
             [
              0,
              "#0d0887"
             ],
             [
              0.1111111111111111,
              "#46039f"
             ],
             [
              0.2222222222222222,
              "#7201a8"
             ],
             [
              0.3333333333333333,
              "#9c179e"
             ],
             [
              0.4444444444444444,
              "#bd3786"
             ],
             [
              0.5555555555555556,
              "#d8576b"
             ],
             [
              0.6666666666666666,
              "#ed7953"
             ],
             [
              0.7777777777777778,
              "#fb9f3a"
             ],
             [
              0.8888888888888888,
              "#fdca26"
             ],
             [
              1,
              "#f0f921"
             ]
            ],
            "type": "histogram2dcontour"
           }
          ],
          "mesh3d": [
           {
            "colorbar": {
             "outlinewidth": 0,
             "ticks": ""
            },
            "type": "mesh3d"
           }
          ],
          "parcoords": [
           {
            "line": {
             "colorbar": {
              "outlinewidth": 0,
              "ticks": ""
             }
            },
            "type": "parcoords"
           }
          ],
          "pie": [
           {
            "automargin": true,
            "type": "pie"
           }
          ],
          "scatter": [
           {
            "marker": {
             "colorbar": {
              "outlinewidth": 0,
              "ticks": ""
             }
            },
            "type": "scatter"
           }
          ],
          "scatter3d": [
           {
            "line": {
             "colorbar": {
              "outlinewidth": 0,
              "ticks": ""
             }
            },
            "marker": {
             "colorbar": {
              "outlinewidth": 0,
              "ticks": ""
             }
            },
            "type": "scatter3d"
           }
          ],
          "scattercarpet": [
           {
            "marker": {
             "colorbar": {
              "outlinewidth": 0,
              "ticks": ""
             }
            },
            "type": "scattercarpet"
           }
          ],
          "scattergeo": [
           {
            "marker": {
             "colorbar": {
              "outlinewidth": 0,
              "ticks": ""
             }
            },
            "type": "scattergeo"
           }
          ],
          "scattergl": [
           {
            "marker": {
             "colorbar": {
              "outlinewidth": 0,
              "ticks": ""
             }
            },
            "type": "scattergl"
           }
          ],
          "scattermapbox": [
           {
            "marker": {
             "colorbar": {
              "outlinewidth": 0,
              "ticks": ""
             }
            },
            "type": "scattermapbox"
           }
          ],
          "scatterpolar": [
           {
            "marker": {
             "colorbar": {
              "outlinewidth": 0,
              "ticks": ""
             }
            },
            "type": "scatterpolar"
           }
          ],
          "scatterpolargl": [
           {
            "marker": {
             "colorbar": {
              "outlinewidth": 0,
              "ticks": ""
             }
            },
            "type": "scatterpolargl"
           }
          ],
          "scatterternary": [
           {
            "marker": {
             "colorbar": {
              "outlinewidth": 0,
              "ticks": ""
             }
            },
            "type": "scatterternary"
           }
          ],
          "surface": [
           {
            "colorbar": {
             "outlinewidth": 0,
             "ticks": ""
            },
            "colorscale": [
             [
              0,
              "#0d0887"
             ],
             [
              0.1111111111111111,
              "#46039f"
             ],
             [
              0.2222222222222222,
              "#7201a8"
             ],
             [
              0.3333333333333333,
              "#9c179e"
             ],
             [
              0.4444444444444444,
              "#bd3786"
             ],
             [
              0.5555555555555556,
              "#d8576b"
             ],
             [
              0.6666666666666666,
              "#ed7953"
             ],
             [
              0.7777777777777778,
              "#fb9f3a"
             ],
             [
              0.8888888888888888,
              "#fdca26"
             ],
             [
              1,
              "#f0f921"
             ]
            ],
            "type": "surface"
           }
          ],
          "table": [
           {
            "cells": {
             "fill": {
              "color": "#EBF0F8"
             },
             "line": {
              "color": "white"
             }
            },
            "header": {
             "fill": {
              "color": "#C8D4E3"
             },
             "line": {
              "color": "white"
             }
            },
            "type": "table"
           }
          ]
         },
         "layout": {
          "annotationdefaults": {
           "arrowcolor": "#2a3f5f",
           "arrowhead": 0,
           "arrowwidth": 1
          },
          "autotypenumbers": "strict",
          "coloraxis": {
           "colorbar": {
            "outlinewidth": 0,
            "ticks": ""
           }
          },
          "colorscale": {
           "diverging": [
            [
             0,
             "#8e0152"
            ],
            [
             0.1,
             "#c51b7d"
            ],
            [
             0.2,
             "#de77ae"
            ],
            [
             0.3,
             "#f1b6da"
            ],
            [
             0.4,
             "#fde0ef"
            ],
            [
             0.5,
             "#f7f7f7"
            ],
            [
             0.6,
             "#e6f5d0"
            ],
            [
             0.7,
             "#b8e186"
            ],
            [
             0.8,
             "#7fbc41"
            ],
            [
             0.9,
             "#4d9221"
            ],
            [
             1,
             "#276419"
            ]
           ],
           "sequential": [
            [
             0,
             "#0d0887"
            ],
            [
             0.1111111111111111,
             "#46039f"
            ],
            [
             0.2222222222222222,
             "#7201a8"
            ],
            [
             0.3333333333333333,
             "#9c179e"
            ],
            [
             0.4444444444444444,
             "#bd3786"
            ],
            [
             0.5555555555555556,
             "#d8576b"
            ],
            [
             0.6666666666666666,
             "#ed7953"
            ],
            [
             0.7777777777777778,
             "#fb9f3a"
            ],
            [
             0.8888888888888888,
             "#fdca26"
            ],
            [
             1,
             "#f0f921"
            ]
           ],
           "sequentialminus": [
            [
             0,
             "#0d0887"
            ],
            [
             0.1111111111111111,
             "#46039f"
            ],
            [
             0.2222222222222222,
             "#7201a8"
            ],
            [
             0.3333333333333333,
             "#9c179e"
            ],
            [
             0.4444444444444444,
             "#bd3786"
            ],
            [
             0.5555555555555556,
             "#d8576b"
            ],
            [
             0.6666666666666666,
             "#ed7953"
            ],
            [
             0.7777777777777778,
             "#fb9f3a"
            ],
            [
             0.8888888888888888,
             "#fdca26"
            ],
            [
             1,
             "#f0f921"
            ]
           ]
          },
          "colorway": [
           "#636efa",
           "#EF553B",
           "#00cc96",
           "#ab63fa",
           "#FFA15A",
           "#19d3f3",
           "#FF6692",
           "#B6E880",
           "#FF97FF",
           "#FECB52"
          ],
          "font": {
           "color": "#2a3f5f"
          },
          "geo": {
           "bgcolor": "white",
           "lakecolor": "white",
           "landcolor": "#E5ECF6",
           "showlakes": true,
           "showland": true,
           "subunitcolor": "white"
          },
          "hoverlabel": {
           "align": "left"
          },
          "hovermode": "closest",
          "mapbox": {
           "style": "light"
          },
          "paper_bgcolor": "white",
          "plot_bgcolor": "#E5ECF6",
          "polar": {
           "angularaxis": {
            "gridcolor": "white",
            "linecolor": "white",
            "ticks": ""
           },
           "bgcolor": "#E5ECF6",
           "radialaxis": {
            "gridcolor": "white",
            "linecolor": "white",
            "ticks": ""
           }
          },
          "scene": {
           "xaxis": {
            "backgroundcolor": "#E5ECF6",
            "gridcolor": "white",
            "gridwidth": 2,
            "linecolor": "white",
            "showbackground": true,
            "ticks": "",
            "zerolinecolor": "white"
           },
           "yaxis": {
            "backgroundcolor": "#E5ECF6",
            "gridcolor": "white",
            "gridwidth": 2,
            "linecolor": "white",
            "showbackground": true,
            "ticks": "",
            "zerolinecolor": "white"
           },
           "zaxis": {
            "backgroundcolor": "#E5ECF6",
            "gridcolor": "white",
            "gridwidth": 2,
            "linecolor": "white",
            "showbackground": true,
            "ticks": "",
            "zerolinecolor": "white"
           }
          },
          "shapedefaults": {
           "line": {
            "color": "#2a3f5f"
           }
          },
          "ternary": {
           "aaxis": {
            "gridcolor": "white",
            "linecolor": "white",
            "ticks": ""
           },
           "baxis": {
            "gridcolor": "white",
            "linecolor": "white",
            "ticks": ""
           },
           "bgcolor": "#E5ECF6",
           "caxis": {
            "gridcolor": "white",
            "linecolor": "white",
            "ticks": ""
           }
          },
          "title": {
           "x": 0.05
          },
          "xaxis": {
           "automargin": true,
           "gridcolor": "white",
           "linecolor": "white",
           "ticks": "",
           "title": {
            "standoff": 15
           },
           "zerolinecolor": "white",
           "zerolinewidth": 2
          },
          "yaxis": {
           "automargin": true,
           "gridcolor": "white",
           "linecolor": "white",
           "ticks": "",
           "title": {
            "standoff": 15
           },
           "zerolinecolor": "white",
           "zerolinewidth": 2
          }
         }
        }
       }
      },
      "text/html": [
       "<div>                            <div id=\"766fd288-17cb-4387-b6cf-0242c3ca2d91\" class=\"plotly-graph-div\" style=\"height:525px; width:100%;\"></div>            <script type=\"text/javascript\">                require([\"plotly\"], function(Plotly) {                    window.PLOTLYENV=window.PLOTLYENV || {};                                    if (document.getElementById(\"766fd288-17cb-4387-b6cf-0242c3ca2d91\")) {                    Plotly.newPlot(                        \"766fd288-17cb-4387-b6cf-0242c3ca2d91\",                        [{\"marker\": {\"color\": [\"white\", \"white\", \"white\", \"white\", \"white\", \"white\", \"white\", \"white\", \"white\", \"white\", \"darkturquoise\", \"darkturquoise\", \"white\", \"white\", \"white\", \"white\", \"white\", \"white\", \"white\", \"white\", \"white\", \"white\"], \"size\": 2, \"symbol\": \"square\"}, \"mode\": \"markers\", \"type\": \"scatter3d\", \"x\": [0.1, 0.30000000000000004, 0.5, 0.7000000000000001, 0.9, 0.1, 0.30000000000000004, 0.5, 0.7000000000000001, 0.9, 0.0, 1.0, 0.1, 0.30000000000000004, 0.5, 0.7000000000000001, 0.9, 0.1, 0.30000000000000004, 0.5, 0.7000000000000001, 0.9], \"y\": [0.05, 0.05, 0.05, 0.05, 0.05, 0.0, 0.0, 0.0, 0.0, 0.0, 0.05, 0.05, 0.1, 0.1, 0.1, 0.1, 0.1, 0.05, 0.05, 0.05, 0.05, 0.05], \"z\": [0.0, 0.0, 0.0, 0.0, 0.0, 0.05, 0.05, 0.05, 0.05, 0.05, 0.05, 0.05, 0.05, 0.05, 0.05, 0.05, 0.05, 0.1, 0.1, 0.1, 0.1, 0.1]}, {\"marker\": {\"color\": \"blue\", \"size\": 5}, \"mode\": \"markers\", \"type\": \"scatter3d\", \"x\": [0.1, 0.30000000000000004, 0.5, 0.7000000000000001, 0.9], \"y\": [0.05, 0.05, 0.05, 0.05, 0.05], \"z\": [0.05, 0.05, 0.05, 0.05, 0.05]}],                        {\"template\": {\"data\": {\"bar\": [{\"error_x\": {\"color\": \"#2a3f5f\"}, \"error_y\": {\"color\": \"#2a3f5f\"}, \"marker\": {\"line\": {\"color\": \"#E5ECF6\", \"width\": 0.5}}, \"type\": \"bar\"}], \"barpolar\": [{\"marker\": {\"line\": {\"color\": \"#E5ECF6\", \"width\": 0.5}}, \"type\": \"barpolar\"}], \"carpet\": [{\"aaxis\": {\"endlinecolor\": \"#2a3f5f\", \"gridcolor\": \"white\", \"linecolor\": \"white\", \"minorgridcolor\": \"white\", \"startlinecolor\": \"#2a3f5f\"}, \"baxis\": {\"endlinecolor\": \"#2a3f5f\", \"gridcolor\": \"white\", \"linecolor\": \"white\", \"minorgridcolor\": \"white\", \"startlinecolor\": \"#2a3f5f\"}, \"type\": \"carpet\"}], \"choropleth\": [{\"colorbar\": {\"outlinewidth\": 0, \"ticks\": \"\"}, \"type\": \"choropleth\"}], \"contour\": [{\"colorbar\": {\"outlinewidth\": 0, \"ticks\": \"\"}, \"colorscale\": [[0.0, \"#0d0887\"], [0.1111111111111111, \"#46039f\"], [0.2222222222222222, \"#7201a8\"], [0.3333333333333333, \"#9c179e\"], [0.4444444444444444, \"#bd3786\"], [0.5555555555555556, \"#d8576b\"], [0.6666666666666666, \"#ed7953\"], [0.7777777777777778, \"#fb9f3a\"], [0.8888888888888888, \"#fdca26\"], [1.0, \"#f0f921\"]], \"type\": \"contour\"}], \"contourcarpet\": [{\"colorbar\": {\"outlinewidth\": 0, \"ticks\": \"\"}, \"type\": \"contourcarpet\"}], \"heatmap\": [{\"colorbar\": {\"outlinewidth\": 0, \"ticks\": \"\"}, \"colorscale\": [[0.0, \"#0d0887\"], [0.1111111111111111, \"#46039f\"], [0.2222222222222222, \"#7201a8\"], [0.3333333333333333, \"#9c179e\"], [0.4444444444444444, \"#bd3786\"], [0.5555555555555556, \"#d8576b\"], [0.6666666666666666, \"#ed7953\"], [0.7777777777777778, \"#fb9f3a\"], [0.8888888888888888, \"#fdca26\"], [1.0, \"#f0f921\"]], \"type\": \"heatmap\"}], \"heatmapgl\": [{\"colorbar\": {\"outlinewidth\": 0, \"ticks\": \"\"}, \"colorscale\": [[0.0, \"#0d0887\"], [0.1111111111111111, \"#46039f\"], [0.2222222222222222, \"#7201a8\"], [0.3333333333333333, \"#9c179e\"], [0.4444444444444444, \"#bd3786\"], [0.5555555555555556, \"#d8576b\"], [0.6666666666666666, \"#ed7953\"], [0.7777777777777778, \"#fb9f3a\"], [0.8888888888888888, \"#fdca26\"], [1.0, \"#f0f921\"]], \"type\": \"heatmapgl\"}], \"histogram\": [{\"marker\": {\"colorbar\": {\"outlinewidth\": 0, \"ticks\": \"\"}}, \"type\": \"histogram\"}], \"histogram2d\": [{\"colorbar\": {\"outlinewidth\": 0, \"ticks\": \"\"}, \"colorscale\": [[0.0, \"#0d0887\"], [0.1111111111111111, \"#46039f\"], [0.2222222222222222, \"#7201a8\"], [0.3333333333333333, \"#9c179e\"], [0.4444444444444444, \"#bd3786\"], [0.5555555555555556, \"#d8576b\"], [0.6666666666666666, \"#ed7953\"], [0.7777777777777778, \"#fb9f3a\"], [0.8888888888888888, \"#fdca26\"], [1.0, \"#f0f921\"]], \"type\": \"histogram2d\"}], \"histogram2dcontour\": [{\"colorbar\": {\"outlinewidth\": 0, \"ticks\": \"\"}, \"colorscale\": [[0.0, \"#0d0887\"], [0.1111111111111111, \"#46039f\"], [0.2222222222222222, \"#7201a8\"], [0.3333333333333333, \"#9c179e\"], [0.4444444444444444, \"#bd3786\"], [0.5555555555555556, \"#d8576b\"], [0.6666666666666666, \"#ed7953\"], [0.7777777777777778, \"#fb9f3a\"], [0.8888888888888888, \"#fdca26\"], [1.0, \"#f0f921\"]], \"type\": \"histogram2dcontour\"}], \"mesh3d\": [{\"colorbar\": {\"outlinewidth\": 0, \"ticks\": \"\"}, \"type\": \"mesh3d\"}], \"parcoords\": [{\"line\": {\"colorbar\": {\"outlinewidth\": 0, \"ticks\": \"\"}}, \"type\": \"parcoords\"}], \"pie\": [{\"automargin\": true, \"type\": \"pie\"}], \"scatter\": [{\"marker\": {\"colorbar\": {\"outlinewidth\": 0, \"ticks\": \"\"}}, \"type\": \"scatter\"}], \"scatter3d\": [{\"line\": {\"colorbar\": {\"outlinewidth\": 0, \"ticks\": \"\"}}, \"marker\": {\"colorbar\": {\"outlinewidth\": 0, \"ticks\": \"\"}}, \"type\": \"scatter3d\"}], \"scattercarpet\": [{\"marker\": {\"colorbar\": {\"outlinewidth\": 0, \"ticks\": \"\"}}, \"type\": \"scattercarpet\"}], \"scattergeo\": [{\"marker\": {\"colorbar\": {\"outlinewidth\": 0, \"ticks\": \"\"}}, \"type\": \"scattergeo\"}], \"scattergl\": [{\"marker\": {\"colorbar\": {\"outlinewidth\": 0, \"ticks\": \"\"}}, \"type\": \"scattergl\"}], \"scattermapbox\": [{\"marker\": {\"colorbar\": {\"outlinewidth\": 0, \"ticks\": \"\"}}, \"type\": \"scattermapbox\"}], \"scatterpolar\": [{\"marker\": {\"colorbar\": {\"outlinewidth\": 0, \"ticks\": \"\"}}, \"type\": \"scatterpolar\"}], \"scatterpolargl\": [{\"marker\": {\"colorbar\": {\"outlinewidth\": 0, \"ticks\": \"\"}}, \"type\": \"scatterpolargl\"}], \"scatterternary\": [{\"marker\": {\"colorbar\": {\"outlinewidth\": 0, \"ticks\": \"\"}}, \"type\": \"scatterternary\"}], \"surface\": [{\"colorbar\": {\"outlinewidth\": 0, \"ticks\": \"\"}, \"colorscale\": [[0.0, \"#0d0887\"], [0.1111111111111111, \"#46039f\"], [0.2222222222222222, \"#7201a8\"], [0.3333333333333333, \"#9c179e\"], [0.4444444444444444, \"#bd3786\"], [0.5555555555555556, \"#d8576b\"], [0.6666666666666666, \"#ed7953\"], [0.7777777777777778, \"#fb9f3a\"], [0.8888888888888888, \"#fdca26\"], [1.0, \"#f0f921\"]], \"type\": \"surface\"}], \"table\": [{\"cells\": {\"fill\": {\"color\": \"#EBF0F8\"}, \"line\": {\"color\": \"white\"}}, \"header\": {\"fill\": {\"color\": \"#C8D4E3\"}, \"line\": {\"color\": \"white\"}}, \"type\": \"table\"}]}, \"layout\": {\"annotationdefaults\": {\"arrowcolor\": \"#2a3f5f\", \"arrowhead\": 0, \"arrowwidth\": 1}, \"autotypenumbers\": \"strict\", \"coloraxis\": {\"colorbar\": {\"outlinewidth\": 0, \"ticks\": \"\"}}, \"colorscale\": {\"diverging\": [[0, \"#8e0152\"], [0.1, \"#c51b7d\"], [0.2, \"#de77ae\"], [0.3, \"#f1b6da\"], [0.4, \"#fde0ef\"], [0.5, \"#f7f7f7\"], [0.6, \"#e6f5d0\"], [0.7, \"#b8e186\"], [0.8, \"#7fbc41\"], [0.9, \"#4d9221\"], [1, \"#276419\"]], \"sequential\": [[0.0, \"#0d0887\"], [0.1111111111111111, \"#46039f\"], [0.2222222222222222, \"#7201a8\"], [0.3333333333333333, \"#9c179e\"], [0.4444444444444444, \"#bd3786\"], [0.5555555555555556, \"#d8576b\"], [0.6666666666666666, \"#ed7953\"], [0.7777777777777778, \"#fb9f3a\"], [0.8888888888888888, \"#fdca26\"], [1.0, \"#f0f921\"]], \"sequentialminus\": [[0.0, \"#0d0887\"], [0.1111111111111111, \"#46039f\"], [0.2222222222222222, \"#7201a8\"], [0.3333333333333333, \"#9c179e\"], [0.4444444444444444, \"#bd3786\"], [0.5555555555555556, \"#d8576b\"], [0.6666666666666666, \"#ed7953\"], [0.7777777777777778, \"#fb9f3a\"], [0.8888888888888888, \"#fdca26\"], [1.0, \"#f0f921\"]]}, \"colorway\": [\"#636efa\", \"#EF553B\", \"#00cc96\", \"#ab63fa\", \"#FFA15A\", \"#19d3f3\", \"#FF6692\", \"#B6E880\", \"#FF97FF\", \"#FECB52\"], \"font\": {\"color\": \"#2a3f5f\"}, \"geo\": {\"bgcolor\": \"white\", \"lakecolor\": \"white\", \"landcolor\": \"#E5ECF6\", \"showlakes\": true, \"showland\": true, \"subunitcolor\": \"white\"}, \"hoverlabel\": {\"align\": \"left\"}, \"hovermode\": \"closest\", \"mapbox\": {\"style\": \"light\"}, \"paper_bgcolor\": \"white\", \"plot_bgcolor\": \"#E5ECF6\", \"polar\": {\"angularaxis\": {\"gridcolor\": \"white\", \"linecolor\": \"white\", \"ticks\": \"\"}, \"bgcolor\": \"#E5ECF6\", \"radialaxis\": {\"gridcolor\": \"white\", \"linecolor\": \"white\", \"ticks\": \"\"}}, \"scene\": {\"xaxis\": {\"backgroundcolor\": \"#E5ECF6\", \"gridcolor\": \"white\", \"gridwidth\": 2, \"linecolor\": \"white\", \"showbackground\": true, \"ticks\": \"\", \"zerolinecolor\": \"white\"}, \"yaxis\": {\"backgroundcolor\": \"#E5ECF6\", \"gridcolor\": \"white\", \"gridwidth\": 2, \"linecolor\": \"white\", \"showbackground\": true, \"ticks\": \"\", \"zerolinecolor\": \"white\"}, \"zaxis\": {\"backgroundcolor\": \"#E5ECF6\", \"gridcolor\": \"white\", \"gridwidth\": 2, \"linecolor\": \"white\", \"showbackground\": true, \"ticks\": \"\", \"zerolinecolor\": \"white\"}}, \"shapedefaults\": {\"line\": {\"color\": \"#2a3f5f\"}}, \"ternary\": {\"aaxis\": {\"gridcolor\": \"white\", \"linecolor\": \"white\", \"ticks\": \"\"}, \"baxis\": {\"gridcolor\": \"white\", \"linecolor\": \"white\", \"ticks\": \"\"}, \"bgcolor\": \"#E5ECF6\", \"caxis\": {\"gridcolor\": \"white\", \"linecolor\": \"white\", \"ticks\": \"\"}}, \"title\": {\"x\": 0.05}, \"xaxis\": {\"automargin\": true, \"gridcolor\": \"white\", \"linecolor\": \"white\", \"ticks\": \"\", \"title\": {\"standoff\": 15}, \"zerolinecolor\": \"white\", \"zerolinewidth\": 2}, \"yaxis\": {\"automargin\": true, \"gridcolor\": \"white\", \"linecolor\": \"white\", \"ticks\": \"\", \"title\": {\"standoff\": 15}, \"zerolinecolor\": \"white\", \"zerolinewidth\": 2}}}},                        {\"responsive\": true}                    ).then(function(){\n",
       "                            \n",
       "var gd = document.getElementById('766fd288-17cb-4387-b6cf-0242c3ca2d91');\n",
       "var x = new MutationObserver(function (mutations, observer) {{\n",
       "        var display = window.getComputedStyle(gd).display;\n",
       "        if (!display || display === 'none') {{\n",
       "            console.log([gd, 'removed!']);\n",
       "            Plotly.purge(gd);\n",
       "            observer.disconnect();\n",
       "        }}\n",
       "}});\n",
       "\n",
       "// Listen for the removal of the full notebook cells\n",
       "var notebookContainer = gd.closest('#notebook-container');\n",
       "if (notebookContainer) {{\n",
       "    x.observe(notebookContainer, {childList: true});\n",
       "}}\n",
       "\n",
       "// Listen for the clearing of the current output cell\n",
       "var outputEl = gd.closest('.output');\n",
       "if (outputEl) {{\n",
       "    x.observe(outputEl, {childList: true});\n",
       "}}\n",
       "\n",
       "                        })                };                });            </script>        </div>"
      ]
     },
     "metadata": {},
     "output_type": "display_data"
    }
   ],
   "source": [
    "# ------------Mesh creation -----------------\n",
    "malla = Mesh(1, volumes=nvx,lengths=(lx,0.1,0.1))\n",
    "#-------------Definimos fronteras ----------\n",
    "malla.tag_wall_dirichlet('W',TA)\n",
    "malla.tag_wall_dirichlet('E',TB)\n",
    "malla.draw()"
   ]
  },
  {
   "cell_type": "code",
   "execution_count": 87,
   "metadata": {
    "scrolled": false
   },
   "outputs": [
    {
     "name": "stdout",
     "output_type": "stream",
     "text": [
      "\n",
      "aP:\n",
      "[[[0.0155]]\n",
      "\n",
      " [[0.01  ]]\n",
      "\n",
      " [[0.01  ]]\n",
      "\n",
      " [[0.01  ]]\n",
      "\n",
      " [[0.0145]]]\n",
      "\n",
      "Sp:\n",
      "[[[-0.011]]\n",
      "\n",
      " [[ 0.   ]]\n",
      "\n",
      " [[ 0.   ]]\n",
      "\n",
      " [[ 0.   ]]\n",
      "\n",
      " [[-0.009]]]\n",
      "\n",
      "aE:\n",
      "[[[-0.0045]]\n",
      "\n",
      " [[-0.0045]]\n",
      "\n",
      " [[-0.0045]]\n",
      "\n",
      " [[-0.0045]]\n",
      "\n",
      " [[ 0.    ]]]\n",
      "\n",
      "aW:\n",
      "[[[ 0.    ]]\n",
      "\n",
      " [[-0.0055]]\n",
      "\n",
      " [[-0.0055]]\n",
      "\n",
      " [[-0.0055]]\n",
      "\n",
      " [[-0.0055]]]\n",
      "\n",
      "Su:\n",
      "[[[0.011]]\n",
      "\n",
      " [[0.   ]]\n",
      "\n",
      " [[0.   ]]\n",
      "\n",
      " [[0.   ]]\n",
      "\n",
      " [[0.   ]]]\n"
     ]
    }
   ],
   "source": [
    "#--- creamos el objeto coeficientes --------------------------\n",
    "coef = Coefficients(malla)\n",
    "coef.set_diffusion(Γ)\n",
    "vel = np.array(u*np.ones(nvx+1)).reshape(6,1,1)\n",
    "coef.set_convection(ρ, (vel,)) #En general \n",
    "print(\"\\naP:\")\n",
    "print(coef.get_aP())\n",
    "print(\"\\nSp:\")\n",
    "print(coef.get_Sp())\n",
    "print(\"\\naE:\")\n",
    "print(coef.get_aE())\n",
    "print(\"\\naW:\")\n",
    "print(coef.get_aW())\n",
    "print(\"\\nSu:\")\n",
    "print(coef.get_Su())"
   ]
  },
  {
   "cell_type": "code",
   "execution_count": 88,
   "metadata": {},
   "outputs": [
    {
     "name": "stdout",
     "output_type": "stream",
     "text": [
      "La matriz que representa el sistema de ecuaciones es:\n",
      " [[ 0.0155 -0.0045  0.      0.      0.    ]\n",
      " [-0.0055  0.01   -0.0045  0.      0.    ]\n",
      " [ 0.     -0.0055  0.01   -0.0045  0.    ]\n",
      " [ 0.      0.     -0.0055  0.01   -0.0045]\n",
      " [ 0.      0.      0.     -0.0055  0.0145]]\n"
     ]
    }
   ],
   "source": [
    "sistema = EqSystem(coef)\n",
    "A = sistema.get_A_matrix()\n",
    "print(\"La matriz que representa el sistema de ecuaciones es:\\n\", A)"
   ]
  },
  {
   "cell_type": "code",
   "execution_count": 89,
   "metadata": {},
   "outputs": [
    {
     "name": "stdout",
     "output_type": "stream",
     "text": [
      "EL vector 'b' es:\n",
      "[0.011 0.    0.    0.    0.   ]\n"
     ]
    }
   ],
   "source": [
    "print(\"EL vector 'b' es:\")\n",
    "print(sistema.get_b_vector())"
   ]
  },
  {
   "cell_type": "code",
   "execution_count": 90,
   "metadata": {},
   "outputs": [
    {
     "name": "stdout",
     "output_type": "stream",
     "text": [
      "La solución es: [0.94210996 0.80060097 0.62764554 0.41625556 0.15789004]\n"
     ]
    }
   ],
   "source": [
    "print(f\"La solución es: {sistema.get_solution()}\")"
   ]
  },
  {
   "cell_type": "markdown",
   "metadata": {},
   "source": [
    "---"
   ]
  },
  {
   "cell_type": "markdown",
   "metadata": {},
   "source": [
    "[Volver al índice](#Índice)"
   ]
  },
  {
   "cell_type": "markdown",
   "metadata": {},
   "source": [
    "## Dos dimensiones\n",
    "El problema 7.2 del malaskera es el chido para ver esto, junto con el ejemplo de juguete"
   ]
  },
  {
   "cell_type": "code",
   "execution_count": 499,
   "metadata": {},
   "outputs": [],
   "source": [
    "#-------------Definición de datos iniciales ----------------\n",
    "lx = 0.3 # meters\n",
    "ly = 0.4\n",
    "lz = 0.01\n",
    "#Te = 0 # ºC\n",
    "Fw = 500000 # W/m²\n",
    "Tn = 100 # ºC\n",
    "#Ts = 0 # ºC\n",
    "a = 2\n",
    "nvx  = 3\n",
    "nvy = 4\n",
    "k = 1000\n",
    "#-------------------------------------------------------------"
   ]
  },
  {
   "cell_type": "code",
   "execution_count": 500,
   "metadata": {},
   "outputs": [
    {
     "data": {
      "application/vnd.plotly.v1+json": {
       "config": {
        "plotlyServerURL": "https://plot.ly"
       },
       "data": [
        {
         "marker": {
          "color": [
           "white",
           "white",
           "white",
           "white",
           "white",
           "white",
           "white",
           "white",
           "white",
           "white",
           "white",
           "white",
           "darkturquoise",
           "darkturquoise",
           "darkturquoise",
           "red",
           "gray",
           "red",
           "gray",
           "red",
           "gray",
           "red",
           "gray",
           "gray",
           "gray",
           "gray",
           "white",
           "white",
           "white",
           "white",
           "white",
           "white",
           "white",
           "white",
           "white",
           "white",
           "white",
           "white"
          ],
          "size": 2,
          "symbol": "square"
         },
         "mode": "markers",
         "type": "scatter3d",
         "x": [
          0.049999999999999996,
          0.15,
          0.25,
          0.049999999999999996,
          0.15,
          0.25,
          0.049999999999999996,
          0.15,
          0.25,
          0.049999999999999996,
          0.15,
          0.25,
          0.049999999999999996,
          0.15,
          0.25,
          0,
          0.3,
          0,
          0.3,
          0,
          0.3,
          0,
          0.3,
          0.049999999999999996,
          0.15,
          0.25,
          0.049999999999999996,
          0.15,
          0.25,
          0.049999999999999996,
          0.15,
          0.25,
          0.049999999999999996,
          0.15,
          0.25,
          0.049999999999999996,
          0.15,
          0.25
         ],
         "y": [
          0.05,
          0.05,
          0.05,
          0.15000000000000002,
          0.15000000000000002,
          0.15000000000000002,
          0.25000000000000006,
          0.25000000000000006,
          0.25000000000000006,
          0.35000000000000003,
          0.35000000000000003,
          0.35000000000000003,
          0,
          0,
          0,
          0.05,
          0.05,
          0.15000000000000002,
          0.15000000000000002,
          0.25000000000000006,
          0.25000000000000006,
          0.35000000000000003,
          0.35000000000000003,
          0.4,
          0.4,
          0.4,
          0.05,
          0.05,
          0.05,
          0.15000000000000002,
          0.15000000000000002,
          0.15000000000000002,
          0.25000000000000006,
          0.25000000000000006,
          0.25000000000000006,
          0.35000000000000003,
          0.35000000000000003,
          0.35000000000000003
         ],
         "z": [
          0,
          0,
          0,
          0,
          0,
          0,
          0,
          0,
          0,
          0,
          0,
          0,
          0.005,
          0.005,
          0.005,
          0.005,
          0.005,
          0.005,
          0.005,
          0.005,
          0.005,
          0.005,
          0.005,
          0.005,
          0.005,
          0.005,
          0.01,
          0.01,
          0.01,
          0.01,
          0.01,
          0.01,
          0.01,
          0.01,
          0.01,
          0.01,
          0.01,
          0.01
         ]
        },
        {
         "marker": {
          "color": "blue",
          "size": 5
         },
         "mode": "markers",
         "type": "scatter3d",
         "x": [
          0.049999999999999996,
          0.15,
          0.25,
          0.049999999999999996,
          0.15,
          0.25,
          0.049999999999999996,
          0.15,
          0.25,
          0.049999999999999996,
          0.15,
          0.25
         ],
         "y": [
          0.05,
          0.05,
          0.05,
          0.15000000000000002,
          0.15000000000000002,
          0.15000000000000002,
          0.25000000000000006,
          0.25000000000000006,
          0.25000000000000006,
          0.35000000000000003,
          0.35000000000000003,
          0.35000000000000003
         ],
         "z": [
          0.005,
          0.005,
          0.005,
          0.005,
          0.005,
          0.005,
          0.005,
          0.005,
          0.005,
          0.005,
          0.005,
          0.005
         ]
        }
       ],
       "layout": {
        "template": {
         "data": {
          "bar": [
           {
            "error_x": {
             "color": "#2a3f5f"
            },
            "error_y": {
             "color": "#2a3f5f"
            },
            "marker": {
             "line": {
              "color": "#E5ECF6",
              "width": 0.5
             }
            },
            "type": "bar"
           }
          ],
          "barpolar": [
           {
            "marker": {
             "line": {
              "color": "#E5ECF6",
              "width": 0.5
             }
            },
            "type": "barpolar"
           }
          ],
          "carpet": [
           {
            "aaxis": {
             "endlinecolor": "#2a3f5f",
             "gridcolor": "white",
             "linecolor": "white",
             "minorgridcolor": "white",
             "startlinecolor": "#2a3f5f"
            },
            "baxis": {
             "endlinecolor": "#2a3f5f",
             "gridcolor": "white",
             "linecolor": "white",
             "minorgridcolor": "white",
             "startlinecolor": "#2a3f5f"
            },
            "type": "carpet"
           }
          ],
          "choropleth": [
           {
            "colorbar": {
             "outlinewidth": 0,
             "ticks": ""
            },
            "type": "choropleth"
           }
          ],
          "contour": [
           {
            "colorbar": {
             "outlinewidth": 0,
             "ticks": ""
            },
            "colorscale": [
             [
              0,
              "#0d0887"
             ],
             [
              0.1111111111111111,
              "#46039f"
             ],
             [
              0.2222222222222222,
              "#7201a8"
             ],
             [
              0.3333333333333333,
              "#9c179e"
             ],
             [
              0.4444444444444444,
              "#bd3786"
             ],
             [
              0.5555555555555556,
              "#d8576b"
             ],
             [
              0.6666666666666666,
              "#ed7953"
             ],
             [
              0.7777777777777778,
              "#fb9f3a"
             ],
             [
              0.8888888888888888,
              "#fdca26"
             ],
             [
              1,
              "#f0f921"
             ]
            ],
            "type": "contour"
           }
          ],
          "contourcarpet": [
           {
            "colorbar": {
             "outlinewidth": 0,
             "ticks": ""
            },
            "type": "contourcarpet"
           }
          ],
          "heatmap": [
           {
            "colorbar": {
             "outlinewidth": 0,
             "ticks": ""
            },
            "colorscale": [
             [
              0,
              "#0d0887"
             ],
             [
              0.1111111111111111,
              "#46039f"
             ],
             [
              0.2222222222222222,
              "#7201a8"
             ],
             [
              0.3333333333333333,
              "#9c179e"
             ],
             [
              0.4444444444444444,
              "#bd3786"
             ],
             [
              0.5555555555555556,
              "#d8576b"
             ],
             [
              0.6666666666666666,
              "#ed7953"
             ],
             [
              0.7777777777777778,
              "#fb9f3a"
             ],
             [
              0.8888888888888888,
              "#fdca26"
             ],
             [
              1,
              "#f0f921"
             ]
            ],
            "type": "heatmap"
           }
          ],
          "heatmapgl": [
           {
            "colorbar": {
             "outlinewidth": 0,
             "ticks": ""
            },
            "colorscale": [
             [
              0,
              "#0d0887"
             ],
             [
              0.1111111111111111,
              "#46039f"
             ],
             [
              0.2222222222222222,
              "#7201a8"
             ],
             [
              0.3333333333333333,
              "#9c179e"
             ],
             [
              0.4444444444444444,
              "#bd3786"
             ],
             [
              0.5555555555555556,
              "#d8576b"
             ],
             [
              0.6666666666666666,
              "#ed7953"
             ],
             [
              0.7777777777777778,
              "#fb9f3a"
             ],
             [
              0.8888888888888888,
              "#fdca26"
             ],
             [
              1,
              "#f0f921"
             ]
            ],
            "type": "heatmapgl"
           }
          ],
          "histogram": [
           {
            "marker": {
             "colorbar": {
              "outlinewidth": 0,
              "ticks": ""
             }
            },
            "type": "histogram"
           }
          ],
          "histogram2d": [
           {
            "colorbar": {
             "outlinewidth": 0,
             "ticks": ""
            },
            "colorscale": [
             [
              0,
              "#0d0887"
             ],
             [
              0.1111111111111111,
              "#46039f"
             ],
             [
              0.2222222222222222,
              "#7201a8"
             ],
             [
              0.3333333333333333,
              "#9c179e"
             ],
             [
              0.4444444444444444,
              "#bd3786"
             ],
             [
              0.5555555555555556,
              "#d8576b"
             ],
             [
              0.6666666666666666,
              "#ed7953"
             ],
             [
              0.7777777777777778,
              "#fb9f3a"
             ],
             [
              0.8888888888888888,
              "#fdca26"
             ],
             [
              1,
              "#f0f921"
             ]
            ],
            "type": "histogram2d"
           }
          ],
          "histogram2dcontour": [
           {
            "colorbar": {
             "outlinewidth": 0,
             "ticks": ""
            },
            "colorscale": [
             [
              0,
              "#0d0887"
             ],
             [
              0.1111111111111111,
              "#46039f"
             ],
             [
              0.2222222222222222,
              "#7201a8"
             ],
             [
              0.3333333333333333,
              "#9c179e"
             ],
             [
              0.4444444444444444,
              "#bd3786"
             ],
             [
              0.5555555555555556,
              "#d8576b"
             ],
             [
              0.6666666666666666,
              "#ed7953"
             ],
             [
              0.7777777777777778,
              "#fb9f3a"
             ],
             [
              0.8888888888888888,
              "#fdca26"
             ],
             [
              1,
              "#f0f921"
             ]
            ],
            "type": "histogram2dcontour"
           }
          ],
          "mesh3d": [
           {
            "colorbar": {
             "outlinewidth": 0,
             "ticks": ""
            },
            "type": "mesh3d"
           }
          ],
          "parcoords": [
           {
            "line": {
             "colorbar": {
              "outlinewidth": 0,
              "ticks": ""
             }
            },
            "type": "parcoords"
           }
          ],
          "pie": [
           {
            "automargin": true,
            "type": "pie"
           }
          ],
          "scatter": [
           {
            "marker": {
             "colorbar": {
              "outlinewidth": 0,
              "ticks": ""
             }
            },
            "type": "scatter"
           }
          ],
          "scatter3d": [
           {
            "line": {
             "colorbar": {
              "outlinewidth": 0,
              "ticks": ""
             }
            },
            "marker": {
             "colorbar": {
              "outlinewidth": 0,
              "ticks": ""
             }
            },
            "type": "scatter3d"
           }
          ],
          "scattercarpet": [
           {
            "marker": {
             "colorbar": {
              "outlinewidth": 0,
              "ticks": ""
             }
            },
            "type": "scattercarpet"
           }
          ],
          "scattergeo": [
           {
            "marker": {
             "colorbar": {
              "outlinewidth": 0,
              "ticks": ""
             }
            },
            "type": "scattergeo"
           }
          ],
          "scattergl": [
           {
            "marker": {
             "colorbar": {
              "outlinewidth": 0,
              "ticks": ""
             }
            },
            "type": "scattergl"
           }
          ],
          "scattermapbox": [
           {
            "marker": {
             "colorbar": {
              "outlinewidth": 0,
              "ticks": ""
             }
            },
            "type": "scattermapbox"
           }
          ],
          "scatterpolar": [
           {
            "marker": {
             "colorbar": {
              "outlinewidth": 0,
              "ticks": ""
             }
            },
            "type": "scatterpolar"
           }
          ],
          "scatterpolargl": [
           {
            "marker": {
             "colorbar": {
              "outlinewidth": 0,
              "ticks": ""
             }
            },
            "type": "scatterpolargl"
           }
          ],
          "scatterternary": [
           {
            "marker": {
             "colorbar": {
              "outlinewidth": 0,
              "ticks": ""
             }
            },
            "type": "scatterternary"
           }
          ],
          "surface": [
           {
            "colorbar": {
             "outlinewidth": 0,
             "ticks": ""
            },
            "colorscale": [
             [
              0,
              "#0d0887"
             ],
             [
              0.1111111111111111,
              "#46039f"
             ],
             [
              0.2222222222222222,
              "#7201a8"
             ],
             [
              0.3333333333333333,
              "#9c179e"
             ],
             [
              0.4444444444444444,
              "#bd3786"
             ],
             [
              0.5555555555555556,
              "#d8576b"
             ],
             [
              0.6666666666666666,
              "#ed7953"
             ],
             [
              0.7777777777777778,
              "#fb9f3a"
             ],
             [
              0.8888888888888888,
              "#fdca26"
             ],
             [
              1,
              "#f0f921"
             ]
            ],
            "type": "surface"
           }
          ],
          "table": [
           {
            "cells": {
             "fill": {
              "color": "#EBF0F8"
             },
             "line": {
              "color": "white"
             }
            },
            "header": {
             "fill": {
              "color": "#C8D4E3"
             },
             "line": {
              "color": "white"
             }
            },
            "type": "table"
           }
          ]
         },
         "layout": {
          "annotationdefaults": {
           "arrowcolor": "#2a3f5f",
           "arrowhead": 0,
           "arrowwidth": 1
          },
          "autotypenumbers": "strict",
          "coloraxis": {
           "colorbar": {
            "outlinewidth": 0,
            "ticks": ""
           }
          },
          "colorscale": {
           "diverging": [
            [
             0,
             "#8e0152"
            ],
            [
             0.1,
             "#c51b7d"
            ],
            [
             0.2,
             "#de77ae"
            ],
            [
             0.3,
             "#f1b6da"
            ],
            [
             0.4,
             "#fde0ef"
            ],
            [
             0.5,
             "#f7f7f7"
            ],
            [
             0.6,
             "#e6f5d0"
            ],
            [
             0.7,
             "#b8e186"
            ],
            [
             0.8,
             "#7fbc41"
            ],
            [
             0.9,
             "#4d9221"
            ],
            [
             1,
             "#276419"
            ]
           ],
           "sequential": [
            [
             0,
             "#0d0887"
            ],
            [
             0.1111111111111111,
             "#46039f"
            ],
            [
             0.2222222222222222,
             "#7201a8"
            ],
            [
             0.3333333333333333,
             "#9c179e"
            ],
            [
             0.4444444444444444,
             "#bd3786"
            ],
            [
             0.5555555555555556,
             "#d8576b"
            ],
            [
             0.6666666666666666,
             "#ed7953"
            ],
            [
             0.7777777777777778,
             "#fb9f3a"
            ],
            [
             0.8888888888888888,
             "#fdca26"
            ],
            [
             1,
             "#f0f921"
            ]
           ],
           "sequentialminus": [
            [
             0,
             "#0d0887"
            ],
            [
             0.1111111111111111,
             "#46039f"
            ],
            [
             0.2222222222222222,
             "#7201a8"
            ],
            [
             0.3333333333333333,
             "#9c179e"
            ],
            [
             0.4444444444444444,
             "#bd3786"
            ],
            [
             0.5555555555555556,
             "#d8576b"
            ],
            [
             0.6666666666666666,
             "#ed7953"
            ],
            [
             0.7777777777777778,
             "#fb9f3a"
            ],
            [
             0.8888888888888888,
             "#fdca26"
            ],
            [
             1,
             "#f0f921"
            ]
           ]
          },
          "colorway": [
           "#636efa",
           "#EF553B",
           "#00cc96",
           "#ab63fa",
           "#FFA15A",
           "#19d3f3",
           "#FF6692",
           "#B6E880",
           "#FF97FF",
           "#FECB52"
          ],
          "font": {
           "color": "#2a3f5f"
          },
          "geo": {
           "bgcolor": "white",
           "lakecolor": "white",
           "landcolor": "#E5ECF6",
           "showlakes": true,
           "showland": true,
           "subunitcolor": "white"
          },
          "hoverlabel": {
           "align": "left"
          },
          "hovermode": "closest",
          "mapbox": {
           "style": "light"
          },
          "paper_bgcolor": "white",
          "plot_bgcolor": "#E5ECF6",
          "polar": {
           "angularaxis": {
            "gridcolor": "white",
            "linecolor": "white",
            "ticks": ""
           },
           "bgcolor": "#E5ECF6",
           "radialaxis": {
            "gridcolor": "white",
            "linecolor": "white",
            "ticks": ""
           }
          },
          "scene": {
           "xaxis": {
            "backgroundcolor": "#E5ECF6",
            "gridcolor": "white",
            "gridwidth": 2,
            "linecolor": "white",
            "showbackground": true,
            "ticks": "",
            "zerolinecolor": "white"
           },
           "yaxis": {
            "backgroundcolor": "#E5ECF6",
            "gridcolor": "white",
            "gridwidth": 2,
            "linecolor": "white",
            "showbackground": true,
            "ticks": "",
            "zerolinecolor": "white"
           },
           "zaxis": {
            "backgroundcolor": "#E5ECF6",
            "gridcolor": "white",
            "gridwidth": 2,
            "linecolor": "white",
            "showbackground": true,
            "ticks": "",
            "zerolinecolor": "white"
           }
          },
          "shapedefaults": {
           "line": {
            "color": "#2a3f5f"
           }
          },
          "ternary": {
           "aaxis": {
            "gridcolor": "white",
            "linecolor": "white",
            "ticks": ""
           },
           "baxis": {
            "gridcolor": "white",
            "linecolor": "white",
            "ticks": ""
           },
           "bgcolor": "#E5ECF6",
           "caxis": {
            "gridcolor": "white",
            "linecolor": "white",
            "ticks": ""
           }
          },
          "title": {
           "x": 0.05
          },
          "xaxis": {
           "automargin": true,
           "gridcolor": "white",
           "linecolor": "white",
           "ticks": "",
           "title": {
            "standoff": 15
           },
           "zerolinecolor": "white",
           "zerolinewidth": 2
          },
          "yaxis": {
           "automargin": true,
           "gridcolor": "white",
           "linecolor": "white",
           "ticks": "",
           "title": {
            "standoff": 15
           },
           "zerolinecolor": "white",
           "zerolinewidth": 2
          }
         }
        }
       }
      },
      "text/html": [
       "<div>                            <div id=\"b89d4c7d-dfe8-49a3-ac40-685a10a80189\" class=\"plotly-graph-div\" style=\"height:525px; width:100%;\"></div>            <script type=\"text/javascript\">                require([\"plotly\"], function(Plotly) {                    window.PLOTLYENV=window.PLOTLYENV || {};                                    if (document.getElementById(\"b89d4c7d-dfe8-49a3-ac40-685a10a80189\")) {                    Plotly.newPlot(                        \"b89d4c7d-dfe8-49a3-ac40-685a10a80189\",                        [{\"marker\": {\"color\": [\"white\", \"white\", \"white\", \"white\", \"white\", \"white\", \"white\", \"white\", \"white\", \"white\", \"white\", \"white\", \"darkturquoise\", \"darkturquoise\", \"darkturquoise\", \"red\", \"gray\", \"red\", \"gray\", \"red\", \"gray\", \"red\", \"gray\", \"gray\", \"gray\", \"gray\", \"white\", \"white\", \"white\", \"white\", \"white\", \"white\", \"white\", \"white\", \"white\", \"white\", \"white\", \"white\"], \"size\": 2, \"symbol\": \"square\"}, \"mode\": \"markers\", \"type\": \"scatter3d\", \"x\": [0.049999999999999996, 0.15, 0.25, 0.049999999999999996, 0.15, 0.25, 0.049999999999999996, 0.15, 0.25, 0.049999999999999996, 0.15, 0.25, 0.049999999999999996, 0.15, 0.25, 0.0, 0.3, 0.0, 0.3, 0.0, 0.3, 0.0, 0.3, 0.049999999999999996, 0.15, 0.25, 0.049999999999999996, 0.15, 0.25, 0.049999999999999996, 0.15, 0.25, 0.049999999999999996, 0.15, 0.25, 0.049999999999999996, 0.15, 0.25], \"y\": [0.05, 0.05, 0.05, 0.15000000000000002, 0.15000000000000002, 0.15000000000000002, 0.25000000000000006, 0.25000000000000006, 0.25000000000000006, 0.35000000000000003, 0.35000000000000003, 0.35000000000000003, 0.0, 0.0, 0.0, 0.05, 0.05, 0.15000000000000002, 0.15000000000000002, 0.25000000000000006, 0.25000000000000006, 0.35000000000000003, 0.35000000000000003, 0.4, 0.4, 0.4, 0.05, 0.05, 0.05, 0.15000000000000002, 0.15000000000000002, 0.15000000000000002, 0.25000000000000006, 0.25000000000000006, 0.25000000000000006, 0.35000000000000003, 0.35000000000000003, 0.35000000000000003], \"z\": [0.0, 0.0, 0.0, 0.0, 0.0, 0.0, 0.0, 0.0, 0.0, 0.0, 0.0, 0.0, 0.005, 0.005, 0.005, 0.005, 0.005, 0.005, 0.005, 0.005, 0.005, 0.005, 0.005, 0.005, 0.005, 0.005, 0.01, 0.01, 0.01, 0.01, 0.01, 0.01, 0.01, 0.01, 0.01, 0.01, 0.01, 0.01]}, {\"marker\": {\"color\": \"blue\", \"size\": 5}, \"mode\": \"markers\", \"type\": \"scatter3d\", \"x\": [0.049999999999999996, 0.15, 0.25, 0.049999999999999996, 0.15, 0.25, 0.049999999999999996, 0.15, 0.25, 0.049999999999999996, 0.15, 0.25], \"y\": [0.05, 0.05, 0.05, 0.15000000000000002, 0.15000000000000002, 0.15000000000000002, 0.25000000000000006, 0.25000000000000006, 0.25000000000000006, 0.35000000000000003, 0.35000000000000003, 0.35000000000000003], \"z\": [0.005, 0.005, 0.005, 0.005, 0.005, 0.005, 0.005, 0.005, 0.005, 0.005, 0.005, 0.005]}],                        {\"template\": {\"data\": {\"bar\": [{\"error_x\": {\"color\": \"#2a3f5f\"}, \"error_y\": {\"color\": \"#2a3f5f\"}, \"marker\": {\"line\": {\"color\": \"#E5ECF6\", \"width\": 0.5}}, \"type\": \"bar\"}], \"barpolar\": [{\"marker\": {\"line\": {\"color\": \"#E5ECF6\", \"width\": 0.5}}, \"type\": \"barpolar\"}], \"carpet\": [{\"aaxis\": {\"endlinecolor\": \"#2a3f5f\", \"gridcolor\": \"white\", \"linecolor\": \"white\", \"minorgridcolor\": \"white\", \"startlinecolor\": \"#2a3f5f\"}, \"baxis\": {\"endlinecolor\": \"#2a3f5f\", \"gridcolor\": \"white\", \"linecolor\": \"white\", \"minorgridcolor\": \"white\", \"startlinecolor\": \"#2a3f5f\"}, \"type\": \"carpet\"}], \"choropleth\": [{\"colorbar\": {\"outlinewidth\": 0, \"ticks\": \"\"}, \"type\": \"choropleth\"}], \"contour\": [{\"colorbar\": {\"outlinewidth\": 0, \"ticks\": \"\"}, \"colorscale\": [[0.0, \"#0d0887\"], [0.1111111111111111, \"#46039f\"], [0.2222222222222222, \"#7201a8\"], [0.3333333333333333, \"#9c179e\"], [0.4444444444444444, \"#bd3786\"], [0.5555555555555556, \"#d8576b\"], [0.6666666666666666, \"#ed7953\"], [0.7777777777777778, \"#fb9f3a\"], [0.8888888888888888, \"#fdca26\"], [1.0, \"#f0f921\"]], \"type\": \"contour\"}], \"contourcarpet\": [{\"colorbar\": {\"outlinewidth\": 0, \"ticks\": \"\"}, \"type\": \"contourcarpet\"}], \"heatmap\": [{\"colorbar\": {\"outlinewidth\": 0, \"ticks\": \"\"}, \"colorscale\": [[0.0, \"#0d0887\"], [0.1111111111111111, \"#46039f\"], [0.2222222222222222, \"#7201a8\"], [0.3333333333333333, \"#9c179e\"], [0.4444444444444444, \"#bd3786\"], [0.5555555555555556, \"#d8576b\"], [0.6666666666666666, \"#ed7953\"], [0.7777777777777778, \"#fb9f3a\"], [0.8888888888888888, \"#fdca26\"], [1.0, \"#f0f921\"]], \"type\": \"heatmap\"}], \"heatmapgl\": [{\"colorbar\": {\"outlinewidth\": 0, \"ticks\": \"\"}, \"colorscale\": [[0.0, \"#0d0887\"], [0.1111111111111111, \"#46039f\"], [0.2222222222222222, \"#7201a8\"], [0.3333333333333333, \"#9c179e\"], [0.4444444444444444, \"#bd3786\"], [0.5555555555555556, \"#d8576b\"], [0.6666666666666666, \"#ed7953\"], [0.7777777777777778, \"#fb9f3a\"], [0.8888888888888888, \"#fdca26\"], [1.0, \"#f0f921\"]], \"type\": \"heatmapgl\"}], \"histogram\": [{\"marker\": {\"colorbar\": {\"outlinewidth\": 0, \"ticks\": \"\"}}, \"type\": \"histogram\"}], \"histogram2d\": [{\"colorbar\": {\"outlinewidth\": 0, \"ticks\": \"\"}, \"colorscale\": [[0.0, \"#0d0887\"], [0.1111111111111111, \"#46039f\"], [0.2222222222222222, \"#7201a8\"], [0.3333333333333333, \"#9c179e\"], [0.4444444444444444, \"#bd3786\"], [0.5555555555555556, \"#d8576b\"], [0.6666666666666666, \"#ed7953\"], [0.7777777777777778, \"#fb9f3a\"], [0.8888888888888888, \"#fdca26\"], [1.0, \"#f0f921\"]], \"type\": \"histogram2d\"}], \"histogram2dcontour\": [{\"colorbar\": {\"outlinewidth\": 0, \"ticks\": \"\"}, \"colorscale\": [[0.0, \"#0d0887\"], [0.1111111111111111, \"#46039f\"], [0.2222222222222222, \"#7201a8\"], [0.3333333333333333, \"#9c179e\"], [0.4444444444444444, \"#bd3786\"], [0.5555555555555556, \"#d8576b\"], [0.6666666666666666, \"#ed7953\"], [0.7777777777777778, \"#fb9f3a\"], [0.8888888888888888, \"#fdca26\"], [1.0, \"#f0f921\"]], \"type\": \"histogram2dcontour\"}], \"mesh3d\": [{\"colorbar\": {\"outlinewidth\": 0, \"ticks\": \"\"}, \"type\": \"mesh3d\"}], \"parcoords\": [{\"line\": {\"colorbar\": {\"outlinewidth\": 0, \"ticks\": \"\"}}, \"type\": \"parcoords\"}], \"pie\": [{\"automargin\": true, \"type\": \"pie\"}], \"scatter\": [{\"marker\": {\"colorbar\": {\"outlinewidth\": 0, \"ticks\": \"\"}}, \"type\": \"scatter\"}], \"scatter3d\": [{\"line\": {\"colorbar\": {\"outlinewidth\": 0, \"ticks\": \"\"}}, \"marker\": {\"colorbar\": {\"outlinewidth\": 0, \"ticks\": \"\"}}, \"type\": \"scatter3d\"}], \"scattercarpet\": [{\"marker\": {\"colorbar\": {\"outlinewidth\": 0, \"ticks\": \"\"}}, \"type\": \"scattercarpet\"}], \"scattergeo\": [{\"marker\": {\"colorbar\": {\"outlinewidth\": 0, \"ticks\": \"\"}}, \"type\": \"scattergeo\"}], \"scattergl\": [{\"marker\": {\"colorbar\": {\"outlinewidth\": 0, \"ticks\": \"\"}}, \"type\": \"scattergl\"}], \"scattermapbox\": [{\"marker\": {\"colorbar\": {\"outlinewidth\": 0, \"ticks\": \"\"}}, \"type\": \"scattermapbox\"}], \"scatterpolar\": [{\"marker\": {\"colorbar\": {\"outlinewidth\": 0, \"ticks\": \"\"}}, \"type\": \"scatterpolar\"}], \"scatterpolargl\": [{\"marker\": {\"colorbar\": {\"outlinewidth\": 0, \"ticks\": \"\"}}, \"type\": \"scatterpolargl\"}], \"scatterternary\": [{\"marker\": {\"colorbar\": {\"outlinewidth\": 0, \"ticks\": \"\"}}, \"type\": \"scatterternary\"}], \"surface\": [{\"colorbar\": {\"outlinewidth\": 0, \"ticks\": \"\"}, \"colorscale\": [[0.0, \"#0d0887\"], [0.1111111111111111, \"#46039f\"], [0.2222222222222222, \"#7201a8\"], [0.3333333333333333, \"#9c179e\"], [0.4444444444444444, \"#bd3786\"], [0.5555555555555556, \"#d8576b\"], [0.6666666666666666, \"#ed7953\"], [0.7777777777777778, \"#fb9f3a\"], [0.8888888888888888, \"#fdca26\"], [1.0, \"#f0f921\"]], \"type\": \"surface\"}], \"table\": [{\"cells\": {\"fill\": {\"color\": \"#EBF0F8\"}, \"line\": {\"color\": \"white\"}}, \"header\": {\"fill\": {\"color\": \"#C8D4E3\"}, \"line\": {\"color\": \"white\"}}, \"type\": \"table\"}]}, \"layout\": {\"annotationdefaults\": {\"arrowcolor\": \"#2a3f5f\", \"arrowhead\": 0, \"arrowwidth\": 1}, \"autotypenumbers\": \"strict\", \"coloraxis\": {\"colorbar\": {\"outlinewidth\": 0, \"ticks\": \"\"}}, \"colorscale\": {\"diverging\": [[0, \"#8e0152\"], [0.1, \"#c51b7d\"], [0.2, \"#de77ae\"], [0.3, \"#f1b6da\"], [0.4, \"#fde0ef\"], [0.5, \"#f7f7f7\"], [0.6, \"#e6f5d0\"], [0.7, \"#b8e186\"], [0.8, \"#7fbc41\"], [0.9, \"#4d9221\"], [1, \"#276419\"]], \"sequential\": [[0.0, \"#0d0887\"], [0.1111111111111111, \"#46039f\"], [0.2222222222222222, \"#7201a8\"], [0.3333333333333333, \"#9c179e\"], [0.4444444444444444, \"#bd3786\"], [0.5555555555555556, \"#d8576b\"], [0.6666666666666666, \"#ed7953\"], [0.7777777777777778, \"#fb9f3a\"], [0.8888888888888888, \"#fdca26\"], [1.0, \"#f0f921\"]], \"sequentialminus\": [[0.0, \"#0d0887\"], [0.1111111111111111, \"#46039f\"], [0.2222222222222222, \"#7201a8\"], [0.3333333333333333, \"#9c179e\"], [0.4444444444444444, \"#bd3786\"], [0.5555555555555556, \"#d8576b\"], [0.6666666666666666, \"#ed7953\"], [0.7777777777777778, \"#fb9f3a\"], [0.8888888888888888, \"#fdca26\"], [1.0, \"#f0f921\"]]}, \"colorway\": [\"#636efa\", \"#EF553B\", \"#00cc96\", \"#ab63fa\", \"#FFA15A\", \"#19d3f3\", \"#FF6692\", \"#B6E880\", \"#FF97FF\", \"#FECB52\"], \"font\": {\"color\": \"#2a3f5f\"}, \"geo\": {\"bgcolor\": \"white\", \"lakecolor\": \"white\", \"landcolor\": \"#E5ECF6\", \"showlakes\": true, \"showland\": true, \"subunitcolor\": \"white\"}, \"hoverlabel\": {\"align\": \"left\"}, \"hovermode\": \"closest\", \"mapbox\": {\"style\": \"light\"}, \"paper_bgcolor\": \"white\", \"plot_bgcolor\": \"#E5ECF6\", \"polar\": {\"angularaxis\": {\"gridcolor\": \"white\", \"linecolor\": \"white\", \"ticks\": \"\"}, \"bgcolor\": \"#E5ECF6\", \"radialaxis\": {\"gridcolor\": \"white\", \"linecolor\": \"white\", \"ticks\": \"\"}}, \"scene\": {\"xaxis\": {\"backgroundcolor\": \"#E5ECF6\", \"gridcolor\": \"white\", \"gridwidth\": 2, \"linecolor\": \"white\", \"showbackground\": true, \"ticks\": \"\", \"zerolinecolor\": \"white\"}, \"yaxis\": {\"backgroundcolor\": \"#E5ECF6\", \"gridcolor\": \"white\", \"gridwidth\": 2, \"linecolor\": \"white\", \"showbackground\": true, \"ticks\": \"\", \"zerolinecolor\": \"white\"}, \"zaxis\": {\"backgroundcolor\": \"#E5ECF6\", \"gridcolor\": \"white\", \"gridwidth\": 2, \"linecolor\": \"white\", \"showbackground\": true, \"ticks\": \"\", \"zerolinecolor\": \"white\"}}, \"shapedefaults\": {\"line\": {\"color\": \"#2a3f5f\"}}, \"ternary\": {\"aaxis\": {\"gridcolor\": \"white\", \"linecolor\": \"white\", \"ticks\": \"\"}, \"baxis\": {\"gridcolor\": \"white\", \"linecolor\": \"white\", \"ticks\": \"\"}, \"bgcolor\": \"#E5ECF6\", \"caxis\": {\"gridcolor\": \"white\", \"linecolor\": \"white\", \"ticks\": \"\"}}, \"title\": {\"x\": 0.05}, \"xaxis\": {\"automargin\": true, \"gridcolor\": \"white\", \"linecolor\": \"white\", \"ticks\": \"\", \"title\": {\"standoff\": 15}, \"zerolinecolor\": \"white\", \"zerolinewidth\": 2}, \"yaxis\": {\"automargin\": true, \"gridcolor\": \"white\", \"linecolor\": \"white\", \"ticks\": \"\", \"title\": {\"standoff\": 15}, \"zerolinecolor\": \"white\", \"zerolinewidth\": 2}}}},                        {\"responsive\": true}                    ).then(function(){\n",
       "                            \n",
       "var gd = document.getElementById('b89d4c7d-dfe8-49a3-ac40-685a10a80189');\n",
       "var x = new MutationObserver(function (mutations, observer) {{\n",
       "        var display = window.getComputedStyle(gd).display;\n",
       "        if (!display || display === 'none') {{\n",
       "            console.log([gd, 'removed!']);\n",
       "            Plotly.purge(gd);\n",
       "            observer.disconnect();\n",
       "        }}\n",
       "}});\n",
       "\n",
       "// Listen for the removal of the full notebook cells\n",
       "var notebookContainer = gd.closest('#notebook-container');\n",
       "if (notebookContainer) {{\n",
       "    x.observe(notebookContainer, {childList: true});\n",
       "}}\n",
       "\n",
       "// Listen for the clearing of the current output cell\n",
       "var outputEl = gd.closest('.output');\n",
       "if (outputEl) {{\n",
       "    x.observe(outputEl, {childList: true});\n",
       "}}\n",
       "\n",
       "                        })                };                });            </script>        </div>"
      ]
     },
     "metadata": {},
     "output_type": "display_data"
    }
   ],
   "source": [
    "#--------malla T -------------------------\n",
    "malla = Mesh(2, volumes = (nvx, nvy), lengths = (lx, ly, lz))\n",
    "malla.tag_wall_neumann(\"W\", Fw)\n",
    "malla.tag_wall_dirichlet(\"N\", Tn)\n",
    "malla.tag_wall_insulated([\"E\", \"S\"])\n",
    "malla.draw()"
   ]
  },
  {
   "cell_type": "code",
   "execution_count": 501,
   "metadata": {},
   "outputs": [
    {
     "name": "stdout",
     "output_type": "stream",
     "text": [
      "E\n",
      "[[[1000.]\n",
      "  [1000.]\n",
      "  [1000.]\n",
      "  [1000.]]\n",
      "\n",
      " [[1000.]\n",
      "  [1000.]\n",
      "  [1000.]\n",
      "  [1000.]]\n",
      "\n",
      " [[   0.]\n",
      "  [   0.]\n",
      "  [   0.]\n",
      "  [   0.]]] (3, 4, 1)\n",
      "W\n",
      "[[[   0.]\n",
      "  [   0.]\n",
      "  [   0.]\n",
      "  [   0.]]\n",
      "\n",
      " [[1000.]\n",
      "  [1000.]\n",
      "  [1000.]\n",
      "  [1000.]]\n",
      "\n",
      " [[1000.]\n",
      "  [1000.]\n",
      "  [1000.]\n",
      "  [1000.]]] (3, 4, 1)\n",
      "N\n",
      "[[[   0.]\n",
      "  [1000.]\n",
      "  [1000.]\n",
      "  [1000.]]\n",
      "\n",
      " [[   0.]\n",
      "  [1000.]\n",
      "  [1000.]\n",
      "  [1000.]]\n",
      "\n",
      " [[   0.]\n",
      "  [1000.]\n",
      "  [1000.]\n",
      "  [1000.]]] (3, 4, 1)\n",
      "S\n",
      "[[[1000.]\n",
      "  [1000.]\n",
      "  [1000.]\n",
      "  [   0.]]\n",
      "\n",
      " [[1000.]\n",
      "  [1000.]\n",
      "  [1000.]\n",
      "  [   0.]]\n",
      "\n",
      " [[1000.]\n",
      "  [1000.]\n",
      "  [1000.]\n",
      "  [   0.]]] (3, 4, 1)\n",
      "\n",
      "aP:\n",
      "[[[40.]\n",
      "  [30.]\n",
      "  [30.]\n",
      "  [20.]]\n",
      "\n",
      " [[50.]\n",
      "  [40.]\n",
      "  [40.]\n",
      "  [30.]]\n",
      "\n",
      " [[40.]\n",
      "  [30.]\n",
      "  [30.]\n",
      "  [20.]]]\n",
      "\n",
      "aE:\n",
      "[[[-10.]\n",
      "  [-10.]\n",
      "  [-10.]\n",
      "  [-10.]]\n",
      "\n",
      " [[-10.]\n",
      "  [-10.]\n",
      "  [-10.]\n",
      "  [-10.]]\n",
      "\n",
      " [[  0.]\n",
      "  [  0.]\n",
      "  [  0.]\n",
      "  [  0.]]]\n",
      "\n",
      "aW:\n",
      "[[[  0.]\n",
      "  [  0.]\n",
      "  [  0.]\n",
      "  [  0.]]\n",
      "\n",
      " [[-10.]\n",
      "  [-10.]\n",
      "  [-10.]\n",
      "  [-10.]]\n",
      "\n",
      " [[-10.]\n",
      "  [-10.]\n",
      "  [-10.]\n",
      "  [-10.]]]\n",
      "\n",
      "aN:\n",
      "[[[  0.]\n",
      "  [-10.]\n",
      "  [-10.]\n",
      "  [-10.]]\n",
      "\n",
      " [[  0.]\n",
      "  [-10.]\n",
      "  [-10.]\n",
      "  [-10.]]\n",
      "\n",
      " [[  0.]\n",
      "  [-10.]\n",
      "  [-10.]\n",
      "  [-10.]]]\n",
      "\n",
      "aS:\n",
      "[[[-10.]\n",
      "  [-10.]\n",
      "  [-10.]\n",
      "  [  0.]]\n",
      "\n",
      " [[-10.]\n",
      "  [-10.]\n",
      "  [-10.]\n",
      "  [  0.]]\n",
      "\n",
      " [[-10.]\n",
      "  [-10.]\n",
      "  [-10.]\n",
      "  [  0.]]]\n",
      "\n",
      "Sp:\n",
      "[[[-20.]\n",
      "  [  0.]\n",
      "  [  0.]\n",
      "  [  0.]]\n",
      "\n",
      " [[-20.]\n",
      "  [  0.]\n",
      "  [  0.]\n",
      "  [  0.]]\n",
      "\n",
      " [[-20.]\n",
      "  [  0.]\n",
      "  [  0.]\n",
      "  [  0.]]]\n",
      "\n",
      "Su:\n",
      "[[[2500.]\n",
      "  [ 500.]\n",
      "  [ 500.]\n",
      "  [ 500.]]\n",
      "\n",
      " [[2000.]\n",
      "  [   0.]\n",
      "  [   0.]\n",
      "  [   0.]]\n",
      "\n",
      " [[2000.]\n",
      "  [   0.]\n",
      "  [   0.]\n",
      "  [   0.]]]\n"
     ]
    }
   ],
   "source": [
    "#--- creamos el objeto coeficientes --------------------------\n",
    "coef = Coefficients(malla)\n",
    "coef.set_diffusion(k)\n",
    "print(\"\\naP:\")\n",
    "print(coef.get_aP())\n",
    "print(\"\\naE:\")\n",
    "print(coef.get_aE())\n",
    "print(\"\\naW:\")\n",
    "print(coef.get_aW())\n",
    "print(\"\\naN:\")\n",
    "print(coef.get_aN())\n",
    "print(\"\\naS:\")\n",
    "print(coef.get_aS())\n",
    "print(\"\\nSp:\")\n",
    "print(coef.get_Sp())\n",
    "print(\"\\nSu:\")\n",
    "print(coef.get_Su())"
   ]
  },
  {
   "cell_type": "code",
   "execution_count": 502,
   "metadata": {},
   "outputs": [
    {
     "name": "stdout",
     "output_type": "stream",
     "text": [
      "La matriz que representa el sistema de ecuaciones es:\n",
      " [[ 40. -10.   0.   0. -10.   0.   0.   0.   0.   0.   0.   0.]\n",
      " [-10.  30. -10.   0.   0. -10.   0.   0.   0.   0.   0.   0.]\n",
      " [  0. -10.  30. -10.   0.   0. -10.   0.   0.   0.   0.   0.]\n",
      " [  0.   0. -10.  20.   0.   0.   0. -10.   0.   0.   0.   0.]\n",
      " [-10.   0.   0.   0.  50. -10.   0.   0. -10.   0.   0.   0.]\n",
      " [  0. -10.   0.   0. -10.  40. -10.   0.   0. -10.   0.   0.]\n",
      " [  0.   0. -10.   0.   0. -10.  40. -10.   0.   0. -10.   0.]\n",
      " [  0.   0.   0. -10.   0.   0. -10.  30.   0.   0.   0. -10.]\n",
      " [  0.   0.   0.   0. -10.   0.   0.   0.  40. -10.   0.   0.]\n",
      " [  0.   0.   0.   0.   0. -10.   0.   0. -10.  30. -10.   0.]\n",
      " [  0.   0.   0.   0.   0.   0. -10.   0.   0. -10.  30. -10.]\n",
      " [  0.   0.   0.   0.   0.   0.   0. -10.   0.   0. -10.  20.]]\n"
     ]
    }
   ],
   "source": [
    "sistema = EqSystem(coef)\n",
    "A = sistema.get_A_matrix()\n",
    "print(\"La matriz que representa el sistema de ecuaciones es:\\n\", A)"
   ]
  },
  {
   "cell_type": "code",
   "execution_count": 503,
   "metadata": {},
   "outputs": [
    {
     "name": "stdout",
     "output_type": "stream",
     "text": [
      "EL vector 'b' es:\n",
      "[2500.  500.  500.  500. 2000.    0.    0.    0. 2000.    0.    0.    0.]\n"
     ]
    }
   ],
   "source": [
    "print(\"EL vector 'b' es:\")\n",
    "print(sistema.get_b_vector())"
   ]
  },
  {
   "cell_type": "code",
   "execution_count": 504,
   "metadata": {},
   "outputs": [
    {
     "name": "stdout",
     "output_type": "stream",
     "text": [
      "La solución es:\n",
      " [146.32201542 205.591667   242.27461747 260.03673947 129.69639469\n",
      " 178.17836812 211.19544592 227.79886148 123.98158989 166.22996488\n",
      " 196.52993661 212.16439905]\n"
     ]
    }
   ],
   "source": [
    "print(f\"La solución es:\\n {sistema.get_solution()}\")"
   ]
  },
  {
   "cell_type": "code",
   "execution_count": 505,
   "metadata": {},
   "outputs": [
    {
     "data": {
      "text/plain": [
       "<matplotlib.colorbar.Colorbar at 0x7fd5c8404a90>"
      ]
     },
     "execution_count": 505,
     "metadata": {},
     "output_type": "execute_result"
    },
    {
     "data": {
      "image/png": "[encoded data removed]",
      "text/plain": [
       "<Figure size 432x288 with 2 Axes>"
      ]
     },
     "metadata": {
      "needs_background": "light"
     },
     "output_type": "display_data"
    }
   ],
   "source": [
    "plt.imshow(sistema.get_solution().reshape((nvx,nvy)).T, cmap = \"inferno\")\n",
    "plt.colorbar()"
   ]
  },
  {
   "cell_type": "markdown",
   "metadata": {},
   "source": [
    "---"
   ]
  },
  {
   "cell_type": "markdown",
   "metadata": {},
   "source": [
    "[Volver al índice](#Índice)"
   ]
  },
  {
   "cell_type": "markdown",
   "metadata": {},
   "source": [
    "## Tres dimensiones"
   ]
  },
  {
   "cell_type": "code",
   "execution_count": 274,
   "metadata": {},
   "outputs": [],
   "source": [
    "#-------------Definición de datos iniciales ----------------\n",
    "lx = 0.5 # meters\n",
    "ly = 0.5\n",
    "lz = 0.5\n",
    "TA = 100 # °C \n",
    "TB = 500 # °C \n",
    "k  = 1000 # W/m.K\n",
    "nx = 5 # Número de volúmenes (5 volumenes tienen 6 fronteras)\n",
    "ny = 5\n",
    "nz = 6\n",
    "#-------------------------------------------------------------"
   ]
  },
  {
   "cell_type": "code",
   "execution_count": 275,
   "metadata": {},
   "outputs": [
    {
     "data": {
      "application/vnd.plotly.v1+json": {
       "config": {
        "plotlyServerURL": "https://plot.ly"
       },
       "data": [
        {
         "marker": {
          "color": [
           "darkturquoise",
           "darkturquoise",
           "darkturquoise",
           "darkturquoise",
           "darkturquoise",
           "darkturquoise",
           "darkturquoise",
           "darkturquoise",
           "darkturquoise",
           "darkturquoise",
           "darkturquoise",
           "darkturquoise",
           "darkturquoise",
           "darkturquoise",
           "darkturquoise",
           "darkturquoise",
           "darkturquoise",
           "darkturquoise",
           "darkturquoise",
           "darkturquoise",
           "darkturquoise",
           "darkturquoise",
           "darkturquoise",
           "darkturquoise",
           "darkturquoise",
           "magenta",
           "magenta",
           "magenta",
           "magenta",
           "magenta",
           "red",
           "darkturquoise",
           "red",
           "darkturquoise",
           "red",
           "darkturquoise",
           "red",
           "darkturquoise",
           "red",
           "darkturquoise",
           "darkturquoise",
           "darkturquoise",
           "darkturquoise",
           "darkturquoise",
           "darkturquoise",
           "magenta",
           "magenta",
           "magenta",
           "magenta",
           "magenta",
           "red",
           "darkturquoise",
           "red",
           "darkturquoise",
           "red",
           "darkturquoise",
           "red",
           "darkturquoise",
           "red",
           "darkturquoise",
           "darkturquoise",
           "darkturquoise",
           "darkturquoise",
           "darkturquoise",
           "darkturquoise",
           "magenta",
           "magenta",
           "magenta",
           "magenta",
           "magenta",
           "red",
           "darkturquoise",
           "red",
           "darkturquoise",
           "red",
           "darkturquoise",
           "red",
           "darkturquoise",
           "red",
           "darkturquoise",
           "darkturquoise",
           "darkturquoise",
           "darkturquoise",
           "darkturquoise",
           "darkturquoise",
           "magenta",
           "magenta",
           "magenta",
           "magenta",
           "magenta",
           "red",
           "darkturquoise",
           "red",
           "darkturquoise",
           "red",
           "darkturquoise",
           "red",
           "darkturquoise",
           "red",
           "darkturquoise",
           "darkturquoise",
           "darkturquoise",
           "darkturquoise",
           "darkturquoise",
           "darkturquoise",
           "magenta",
           "magenta",
           "magenta",
           "magenta",
           "magenta",
           "red",
           "darkturquoise",
           "red",
           "darkturquoise",
           "red",
           "darkturquoise",
           "red",
           "darkturquoise",
           "red",
           "darkturquoise",
           "darkturquoise",
           "darkturquoise",
           "darkturquoise",
           "darkturquoise",
           "darkturquoise",
           "magenta",
           "magenta",
           "magenta",
           "magenta",
           "magenta",
           "red",
           "darkturquoise",
           "red",
           "darkturquoise",
           "red",
           "darkturquoise",
           "red",
           "darkturquoise",
           "red",
           "darkturquoise",
           "darkturquoise",
           "darkturquoise",
           "darkturquoise",
           "darkturquoise",
           "darkturquoise",
           "darkturquoise",
           "darkturquoise",
           "darkturquoise",
           "darkturquoise",
           "darkturquoise",
           "darkturquoise",
           "darkturquoise",
           "darkturquoise",
           "darkturquoise",
           "darkturquoise",
           "darkturquoise",
           "darkturquoise",
           "darkturquoise",
           "darkturquoise",
           "darkturquoise",
           "darkturquoise",
           "darkturquoise",
           "darkturquoise",
           "darkturquoise",
           "darkturquoise",
           "darkturquoise",
           "darkturquoise",
           "darkturquoise",
           "darkturquoise",
           "darkturquoise"
          ],
          "size": 2,
          "symbol": "square"
         },
         "mode": "markers",
         "type": "scatter3d",
         "x": [
          0.05,
          0.15000000000000002,
          0.25,
          0.35000000000000003,
          0.45,
          0.05,
          0.15000000000000002,
          0.25,
          0.35000000000000003,
          0.45,
          0.05,
          0.15000000000000002,
          0.25,
          0.35000000000000003,
          0.45,
          0.05,
          0.15000000000000002,
          0.25,
          0.35000000000000003,
          0.45,
          0.05,
          0.15000000000000002,
          0.25,
          0.35000000000000003,
          0.45,
          0.05,
          0.15000000000000002,
          0.25,
          0.35000000000000003,
          0.45,
          0,
          0.5,
          0,
          0.5,
          0,
          0.5,
          0,
          0.5,
          0,
          0.5,
          0.05,
          0.15000000000000002,
          0.25,
          0.35000000000000003,
          0.45,
          0.05,
          0.15000000000000002,
          0.25,
          0.35000000000000003,
          0.45,
          0,
          0.5,
          0,
          0.5,
          0,
          0.5,
          0,
          0.5,
          0,
          0.5,
          0.05,
          0.15000000000000002,
          0.25,
          0.35000000000000003,
          0.45,
          0.05,
          0.15000000000000002,
          0.25,
          0.35000000000000003,
          0.45,
          0,
          0.5,
          0,
          0.5,
          0,
          0.5,
          0,
          0.5,
          0,
          0.5,
          0.05,
          0.15000000000000002,
          0.25,
          0.35000000000000003,
          0.45,
          0.05,
          0.15000000000000002,
          0.25,
          0.35000000000000003,
          0.45,
          0,
          0.5,
          0,
          0.5,
          0,
          0.5,
          0,
          0.5,
          0,
          0.5,
          0.05,
          0.15000000000000002,
          0.25,
          0.35000000000000003,
          0.45,
          0.05,
          0.15000000000000002,
          0.25,
          0.35000000000000003,
          0.45,
          0,
          0.5,
          0,
          0.5,
          0,
          0.5,
          0,
          0.5,
          0,
          0.5,
          0.05,
          0.15000000000000002,
          0.25,
          0.35000000000000003,
          0.45,
          0.05,
          0.15000000000000002,
          0.25,
          0.35000000000000003,
          0.45,
          0,
          0.5,
          0,
          0.5,
          0,
          0.5,
          0,
          0.5,
          0,
          0.5,
          0.05,
          0.15000000000000002,
          0.25,
          0.35000000000000003,
          0.45,
          0.05,
          0.15000000000000002,
          0.25,
          0.35000000000000003,
          0.45,
          0.05,
          0.15000000000000002,
          0.25,
          0.35000000000000003,
          0.45,
          0.05,
          0.15000000000000002,
          0.25,
          0.35000000000000003,
          0.45,
          0.05,
          0.15000000000000002,
          0.25,
          0.35000000000000003,
          0.45,
          0.05,
          0.15000000000000002,
          0.25,
          0.35000000000000003,
          0.45
         ],
         "y": [
          0.05,
          0.05,
          0.05,
          0.05,
          0.05,
          0.15000000000000002,
          0.15000000000000002,
          0.15000000000000002,
          0.15000000000000002,
          0.15000000000000002,
          0.25,
          0.25,
          0.25,
          0.25,
          0.25,
          0.35000000000000003,
          0.35000000000000003,
          0.35000000000000003,
          0.35000000000000003,
          0.35000000000000003,
          0.45,
          0.45,
          0.45,
          0.45,
          0.45,
          0,
          0,
          0,
          0,
          0,
          0.05,
          0.05,
          0.15000000000000002,
          0.15000000000000002,
          0.25,
          0.25,
          0.35000000000000003,
          0.35000000000000003,
          0.45,
          0.45,
          0.5,
          0.5,
          0.5,
          0.5,
          0.5,
          0,
          0,
          0,
          0,
          0,
          0.05,
          0.05,
          0.15000000000000002,
          0.15000000000000002,
          0.25,
          0.25,
          0.35000000000000003,
          0.35000000000000003,
          0.45,
          0.45,
          0.5,
          0.5,
          0.5,
          0.5,
          0.5,
          0,
          0,
          0,
          0,
          0,
          0.05,
          0.05,
          0.15000000000000002,
          0.15000000000000002,
          0.25,
          0.25,
          0.35000000000000003,
          0.35000000000000003,
          0.45,
          0.45,
          0.5,
          0.5,
          0.5,
          0.5,
          0.5,
          0,
          0,
          0,
          0,
          0,
          0.05,
          0.05,
          0.15000000000000002,
          0.15000000000000002,
          0.25,
          0.25,
          0.35000000000000003,
          0.35000000000000003,
          0.45,
          0.45,
          0.5,
          0.5,
          0.5,
          0.5,
          0.5,
          0,
          0,
          0,
          0,
          0,
          0.05,
          0.05,
          0.15000000000000002,
          0.15000000000000002,
          0.25,
          0.25,
          0.35000000000000003,
          0.35000000000000003,
          0.45,
          0.45,
          0.5,
          0.5,
          0.5,
          0.5,
          0.5,
          0,
          0,
          0,
          0,
          0,
          0.05,
          0.05,
          0.15000000000000002,
          0.15000000000000002,
          0.25,
          0.25,
          0.35000000000000003,
          0.35000000000000003,
          0.45,
          0.45,
          0.5,
          0.5,
          0.5,
          0.5,
          0.5,
          0.05,
          0.05,
          0.05,
          0.05,
          0.05,
          0.15000000000000002,
          0.15000000000000002,
          0.15000000000000002,
          0.15000000000000002,
          0.15000000000000002,
          0.25,
          0.25,
          0.25,
          0.25,
          0.25,
          0.35000000000000003,
          0.35000000000000003,
          0.35000000000000003,
          0.35000000000000003,
          0.35000000000000003,
          0.45,
          0.45,
          0.45,
          0.45,
          0.45
         ],
         "z": [
          0,
          0,
          0,
          0,
          0,
          0,
          0,
          0,
          0,
          0,
          0,
          0,
          0,
          0,
          0,
          0,
          0,
          0,
          0,
          0,
          0,
          0,
          0,
          0,
          0,
          0.041666666666666664,
          0.041666666666666664,
          0.041666666666666664,
          0.041666666666666664,
          0.041666666666666664,
          0.041666666666666664,
          0.041666666666666664,
          0.041666666666666664,
          0.041666666666666664,
          0.041666666666666664,
          0.041666666666666664,
          0.041666666666666664,
          0.041666666666666664,
          0.041666666666666664,
          0.041666666666666664,
          0.041666666666666664,
          0.041666666666666664,
          0.041666666666666664,
          0.041666666666666664,
          0.041666666666666664,
          0.125,
          0.125,
          0.125,
          0.125,
          0.125,
          0.125,
          0.125,
          0.125,
          0.125,
          0.125,
          0.125,
          0.125,
          0.125,
          0.125,
          0.125,
          0.125,
          0.125,
          0.125,
          0.125,
          0.125,
          0.20833333333333331,
          0.20833333333333331,
          0.20833333333333331,
          0.20833333333333331,
          0.20833333333333331,
          0.20833333333333331,
          0.20833333333333331,
          0.20833333333333331,
          0.20833333333333331,
          0.20833333333333331,
          0.20833333333333331,
          0.20833333333333331,
          0.20833333333333331,
          0.20833333333333331,
          0.20833333333333331,
          0.20833333333333331,
          0.20833333333333331,
          0.20833333333333331,
          0.20833333333333331,
          0.20833333333333331,
          0.2916666666666667,
          0.2916666666666667,
          0.2916666666666667,
          0.2916666666666667,
          0.2916666666666667,
          0.2916666666666667,
          0.2916666666666667,
          0.2916666666666667,
          0.2916666666666667,
          0.2916666666666667,
          0.2916666666666667,
          0.2916666666666667,
          0.2916666666666667,
          0.2916666666666667,
          0.2916666666666667,
          0.2916666666666667,
          0.2916666666666667,
          0.2916666666666667,
          0.2916666666666667,
          0.2916666666666667,
          0.375,
          0.375,
          0.375,
          0.375,
          0.375,
          0.375,
          0.375,
          0.375,
          0.375,
          0.375,
          0.375,
          0.375,
          0.375,
          0.375,
          0.375,
          0.375,
          0.375,
          0.375,
          0.375,
          0.375,
          0.4583333333333333,
          0.4583333333333333,
          0.4583333333333333,
          0.4583333333333333,
          0.4583333333333333,
          0.4583333333333333,
          0.4583333333333333,
          0.4583333333333333,
          0.4583333333333333,
          0.4583333333333333,
          0.4583333333333333,
          0.4583333333333333,
          0.4583333333333333,
          0.4583333333333333,
          0.4583333333333333,
          0.4583333333333333,
          0.4583333333333333,
          0.4583333333333333,
          0.4583333333333333,
          0.4583333333333333,
          0.5,
          0.5,
          0.5,
          0.5,
          0.5,
          0.5,
          0.5,
          0.5,
          0.5,
          0.5,
          0.5,
          0.5,
          0.5,
          0.5,
          0.5,
          0.5,
          0.5,
          0.5,
          0.5,
          0.5,
          0.5,
          0.5,
          0.5,
          0.5,
          0.5
         ]
        },
        {
         "marker": {
          "color": "blue",
          "size": 5
         },
         "mode": "markers",
         "type": "scatter3d",
         "x": [
          0.05,
          0.15000000000000002,
          0.25,
          0.35000000000000003,
          0.45,
          0.05,
          0.15000000000000002,
          0.25,
          0.35000000000000003,
          0.45,
          0.05,
          0.15000000000000002,
          0.25,
          0.35000000000000003,
          0.45,
          0.05,
          0.15000000000000002,
          0.25,
          0.35000000000000003,
          0.45,
          0.05,
          0.15000000000000002,
          0.25,
          0.35000000000000003,
          0.45,
          0.05,
          0.15000000000000002,
          0.25,
          0.35000000000000003,
          0.45,
          0.05,
          0.15000000000000002,
          0.25,
          0.35000000000000003,
          0.45,
          0.05,
          0.15000000000000002,
          0.25,
          0.35000000000000003,
          0.45,
          0.05,
          0.15000000000000002,
          0.25,
          0.35000000000000003,
          0.45,
          0.05,
          0.15000000000000002,
          0.25,
          0.35000000000000003,
          0.45,
          0.05,
          0.15000000000000002,
          0.25,
          0.35000000000000003,
          0.45,
          0.05,
          0.15000000000000002,
          0.25,
          0.35000000000000003,
          0.45,
          0.05,
          0.15000000000000002,
          0.25,
          0.35000000000000003,
          0.45,
          0.05,
          0.15000000000000002,
          0.25,
          0.35000000000000003,
          0.45,
          0.05,
          0.15000000000000002,
          0.25,
          0.35000000000000003,
          0.45,
          0.05,
          0.15000000000000002,
          0.25,
          0.35000000000000003,
          0.45,
          0.05,
          0.15000000000000002,
          0.25,
          0.35000000000000003,
          0.45,
          0.05,
          0.15000000000000002,
          0.25,
          0.35000000000000003,
          0.45,
          0.05,
          0.15000000000000002,
          0.25,
          0.35000000000000003,
          0.45,
          0.05,
          0.15000000000000002,
          0.25,
          0.35000000000000003,
          0.45,
          0.05,
          0.15000000000000002,
          0.25,
          0.35000000000000003,
          0.45,
          0.05,
          0.15000000000000002,
          0.25,
          0.35000000000000003,
          0.45,
          0.05,
          0.15000000000000002,
          0.25,
          0.35000000000000003,
          0.45,
          0.05,
          0.15000000000000002,
          0.25,
          0.35000000000000003,
          0.45,
          0.05,
          0.15000000000000002,
          0.25,
          0.35000000000000003,
          0.45,
          0.05,
          0.15000000000000002,
          0.25,
          0.35000000000000003,
          0.45,
          0.05,
          0.15000000000000002,
          0.25,
          0.35000000000000003,
          0.45,
          0.05,
          0.15000000000000002,
          0.25,
          0.35000000000000003,
          0.45,
          0.05,
          0.15000000000000002,
          0.25,
          0.35000000000000003,
          0.45,
          0.05,
          0.15000000000000002,
          0.25,
          0.35000000000000003,
          0.45
         ],
         "y": [
          0.05,
          0.05,
          0.05,
          0.05,
          0.05,
          0.15000000000000002,
          0.15000000000000002,
          0.15000000000000002,
          0.15000000000000002,
          0.15000000000000002,
          0.25,
          0.25,
          0.25,
          0.25,
          0.25,
          0.35000000000000003,
          0.35000000000000003,
          0.35000000000000003,
          0.35000000000000003,
          0.35000000000000003,
          0.45,
          0.45,
          0.45,
          0.45,
          0.45,
          0.05,
          0.05,
          0.05,
          0.05,
          0.05,
          0.15000000000000002,
          0.15000000000000002,
          0.15000000000000002,
          0.15000000000000002,
          0.15000000000000002,
          0.25,
          0.25,
          0.25,
          0.25,
          0.25,
          0.35000000000000003,
          0.35000000000000003,
          0.35000000000000003,
          0.35000000000000003,
          0.35000000000000003,
          0.45,
          0.45,
          0.45,
          0.45,
          0.45,
          0.05,
          0.05,
          0.05,
          0.05,
          0.05,
          0.15000000000000002,
          0.15000000000000002,
          0.15000000000000002,
          0.15000000000000002,
          0.15000000000000002,
          0.25,
          0.25,
          0.25,
          0.25,
          0.25,
          0.35000000000000003,
          0.35000000000000003,
          0.35000000000000003,
          0.35000000000000003,
          0.35000000000000003,
          0.45,
          0.45,
          0.45,
          0.45,
          0.45,
          0.05,
          0.05,
          0.05,
          0.05,
          0.05,
          0.15000000000000002,
          0.15000000000000002,
          0.15000000000000002,
          0.15000000000000002,
          0.15000000000000002,
          0.25,
          0.25,
          0.25,
          0.25,
          0.25,
          0.35000000000000003,
          0.35000000000000003,
          0.35000000000000003,
          0.35000000000000003,
          0.35000000000000003,
          0.45,
          0.45,
          0.45,
          0.45,
          0.45,
          0.05,
          0.05,
          0.05,
          0.05,
          0.05,
          0.15000000000000002,
          0.15000000000000002,
          0.15000000000000002,
          0.15000000000000002,
          0.15000000000000002,
          0.25,
          0.25,
          0.25,
          0.25,
          0.25,
          0.35000000000000003,
          0.35000000000000003,
          0.35000000000000003,
          0.35000000000000003,
          0.35000000000000003,
          0.45,
          0.45,
          0.45,
          0.45,
          0.45,
          0.05,
          0.05,
          0.05,
          0.05,
          0.05,
          0.15000000000000002,
          0.15000000000000002,
          0.15000000000000002,
          0.15000000000000002,
          0.15000000000000002,
          0.25,
          0.25,
          0.25,
          0.25,
          0.25,
          0.35000000000000003,
          0.35000000000000003,
          0.35000000000000003,
          0.35000000000000003,
          0.35000000000000003,
          0.45,
          0.45,
          0.45,
          0.45,
          0.45
         ],
         "z": [
          0.041666666666666664,
          0.041666666666666664,
          0.041666666666666664,
          0.041666666666666664,
          0.041666666666666664,
          0.041666666666666664,
          0.041666666666666664,
          0.041666666666666664,
          0.041666666666666664,
          0.041666666666666664,
          0.041666666666666664,
          0.041666666666666664,
          0.041666666666666664,
          0.041666666666666664,
          0.041666666666666664,
          0.041666666666666664,
          0.041666666666666664,
          0.041666666666666664,
          0.041666666666666664,
          0.041666666666666664,
          0.041666666666666664,
          0.041666666666666664,
          0.041666666666666664,
          0.041666666666666664,
          0.041666666666666664,
          0.125,
          0.125,
          0.125,
          0.125,
          0.125,
          0.125,
          0.125,
          0.125,
          0.125,
          0.125,
          0.125,
          0.125,
          0.125,
          0.125,
          0.125,
          0.125,
          0.125,
          0.125,
          0.125,
          0.125,
          0.125,
          0.125,
          0.125,
          0.125,
          0.125,
          0.20833333333333331,
          0.20833333333333331,
          0.20833333333333331,
          0.20833333333333331,
          0.20833333333333331,
          0.20833333333333331,
          0.20833333333333331,
          0.20833333333333331,
          0.20833333333333331,
          0.20833333333333331,
          0.20833333333333331,
          0.20833333333333331,
          0.20833333333333331,
          0.20833333333333331,
          0.20833333333333331,
          0.20833333333333331,
          0.20833333333333331,
          0.20833333333333331,
          0.20833333333333331,
          0.20833333333333331,
          0.20833333333333331,
          0.20833333333333331,
          0.20833333333333331,
          0.20833333333333331,
          0.20833333333333331,
          0.2916666666666667,
          0.2916666666666667,
          0.2916666666666667,
          0.2916666666666667,
          0.2916666666666667,
          0.2916666666666667,
          0.2916666666666667,
          0.2916666666666667,
          0.2916666666666667,
          0.2916666666666667,
          0.2916666666666667,
          0.2916666666666667,
          0.2916666666666667,
          0.2916666666666667,
          0.2916666666666667,
          0.2916666666666667,
          0.2916666666666667,
          0.2916666666666667,
          0.2916666666666667,
          0.2916666666666667,
          0.2916666666666667,
          0.2916666666666667,
          0.2916666666666667,
          0.2916666666666667,
          0.2916666666666667,
          0.375,
          0.375,
          0.375,
          0.375,
          0.375,
          0.375,
          0.375,
          0.375,
          0.375,
          0.375,
          0.375,
          0.375,
          0.375,
          0.375,
          0.375,
          0.375,
          0.375,
          0.375,
          0.375,
          0.375,
          0.375,
          0.375,
          0.375,
          0.375,
          0.375,
          0.4583333333333333,
          0.4583333333333333,
          0.4583333333333333,
          0.4583333333333333,
          0.4583333333333333,
          0.4583333333333333,
          0.4583333333333333,
          0.4583333333333333,
          0.4583333333333333,
          0.4583333333333333,
          0.4583333333333333,
          0.4583333333333333,
          0.4583333333333333,
          0.4583333333333333,
          0.4583333333333333,
          0.4583333333333333,
          0.4583333333333333,
          0.4583333333333333,
          0.4583333333333333,
          0.4583333333333333,
          0.4583333333333333,
          0.4583333333333333,
          0.4583333333333333,
          0.4583333333333333,
          0.4583333333333333
         ]
        }
       ],
       "layout": {
        "template": {
         "data": {
          "bar": [
           {
            "error_x": {
             "color": "#2a3f5f"
            },
            "error_y": {
             "color": "#2a3f5f"
            },
            "marker": {
             "line": {
              "color": "#E5ECF6",
              "width": 0.5
             }
            },
            "type": "bar"
           }
          ],
          "barpolar": [
           {
            "marker": {
             "line": {
              "color": "#E5ECF6",
              "width": 0.5
             }
            },
            "type": "barpolar"
           }
          ],
          "carpet": [
           {
            "aaxis": {
             "endlinecolor": "#2a3f5f",
             "gridcolor": "white",
             "linecolor": "white",
             "minorgridcolor": "white",
             "startlinecolor": "#2a3f5f"
            },
            "baxis": {
             "endlinecolor": "#2a3f5f",
             "gridcolor": "white",
             "linecolor": "white",
             "minorgridcolor": "white",
             "startlinecolor": "#2a3f5f"
            },
            "type": "carpet"
           }
          ],
          "choropleth": [
           {
            "colorbar": {
             "outlinewidth": 0,
             "ticks": ""
            },
            "type": "choropleth"
           }
          ],
          "contour": [
           {
            "colorbar": {
             "outlinewidth": 0,
             "ticks": ""
            },
            "colorscale": [
             [
              0,
              "#0d0887"
             ],
             [
              0.1111111111111111,
              "#46039f"
             ],
             [
              0.2222222222222222,
              "#7201a8"
             ],
             [
              0.3333333333333333,
              "#9c179e"
             ],
             [
              0.4444444444444444,
              "#bd3786"
             ],
             [
              0.5555555555555556,
              "#d8576b"
             ],
             [
              0.6666666666666666,
              "#ed7953"
             ],
             [
              0.7777777777777778,
              "#fb9f3a"
             ],
             [
              0.8888888888888888,
              "#fdca26"
             ],
             [
              1,
              "#f0f921"
             ]
            ],
            "type": "contour"
           }
          ],
          "contourcarpet": [
           {
            "colorbar": {
             "outlinewidth": 0,
             "ticks": ""
            },
            "type": "contourcarpet"
           }
          ],
          "heatmap": [
           {
            "colorbar": {
             "outlinewidth": 0,
             "ticks": ""
            },
            "colorscale": [
             [
              0,
              "#0d0887"
             ],
             [
              0.1111111111111111,
              "#46039f"
             ],
             [
              0.2222222222222222,
              "#7201a8"
             ],
             [
              0.3333333333333333,
              "#9c179e"
             ],
             [
              0.4444444444444444,
              "#bd3786"
             ],
             [
              0.5555555555555556,
              "#d8576b"
             ],
             [
              0.6666666666666666,
              "#ed7953"
             ],
             [
              0.7777777777777778,
              "#fb9f3a"
             ],
             [
              0.8888888888888888,
              "#fdca26"
             ],
             [
              1,
              "#f0f921"
             ]
            ],
            "type": "heatmap"
           }
          ],
          "heatmapgl": [
           {
            "colorbar": {
             "outlinewidth": 0,
             "ticks": ""
            },
            "colorscale": [
             [
              0,
              "#0d0887"
             ],
             [
              0.1111111111111111,
              "#46039f"
             ],
             [
              0.2222222222222222,
              "#7201a8"
             ],
             [
              0.3333333333333333,
              "#9c179e"
             ],
             [
              0.4444444444444444,
              "#bd3786"
             ],
             [
              0.5555555555555556,
              "#d8576b"
             ],
             [
              0.6666666666666666,
              "#ed7953"
             ],
             [
              0.7777777777777778,
              "#fb9f3a"
             ],
             [
              0.8888888888888888,
              "#fdca26"
             ],
             [
              1,
              "#f0f921"
             ]
            ],
            "type": "heatmapgl"
           }
          ],
          "histogram": [
           {
            "marker": {
             "colorbar": {
              "outlinewidth": 0,
              "ticks": ""
             }
            },
            "type": "histogram"
           }
          ],
          "histogram2d": [
           {
            "colorbar": {
             "outlinewidth": 0,
             "ticks": ""
            },
            "colorscale": [
             [
              0,
              "#0d0887"
             ],
             [
              0.1111111111111111,
              "#46039f"
             ],
             [
              0.2222222222222222,
              "#7201a8"
             ],
             [
              0.3333333333333333,
              "#9c179e"
             ],
             [
              0.4444444444444444,
              "#bd3786"
             ],
             [
              0.5555555555555556,
              "#d8576b"
             ],
             [
              0.6666666666666666,
              "#ed7953"
             ],
             [
              0.7777777777777778,
              "#fb9f3a"
             ],
             [
              0.8888888888888888,
              "#fdca26"
             ],
             [
              1,
              "#f0f921"
             ]
            ],
            "type": "histogram2d"
           }
          ],
          "histogram2dcontour": [
           {
            "colorbar": {
             "outlinewidth": 0,
             "ticks": ""
            },
            "colorscale": [
             [
              0,
              "#0d0887"
             ],
             [
              0.1111111111111111,
              "#46039f"
             ],
             [
              0.2222222222222222,
              "#7201a8"
             ],
             [
              0.3333333333333333,
              "#9c179e"
             ],
             [
              0.4444444444444444,
              "#bd3786"
             ],
             [
              0.5555555555555556,
              "#d8576b"
             ],
             [
              0.6666666666666666,
              "#ed7953"
             ],
             [
              0.7777777777777778,
              "#fb9f3a"
             ],
             [
              0.8888888888888888,
              "#fdca26"
             ],
             [
              1,
              "#f0f921"
             ]
            ],
            "type": "histogram2dcontour"
           }
          ],
          "mesh3d": [
           {
            "colorbar": {
             "outlinewidth": 0,
             "ticks": ""
            },
            "type": "mesh3d"
           }
          ],
          "parcoords": [
           {
            "line": {
             "colorbar": {
              "outlinewidth": 0,
              "ticks": ""
             }
            },
            "type": "parcoords"
           }
          ],
          "pie": [
           {
            "automargin": true,
            "type": "pie"
           }
          ],
          "scatter": [
           {
            "marker": {
             "colorbar": {
              "outlinewidth": 0,
              "ticks": ""
             }
            },
            "type": "scatter"
           }
          ],
          "scatter3d": [
           {
            "line": {
             "colorbar": {
              "outlinewidth": 0,
              "ticks": ""
             }
            },
            "marker": {
             "colorbar": {
              "outlinewidth": 0,
              "ticks": ""
             }
            },
            "type": "scatter3d"
           }
          ],
          "scattercarpet": [
           {
            "marker": {
             "colorbar": {
              "outlinewidth": 0,
              "ticks": ""
             }
            },
            "type": "scattercarpet"
           }
          ],
          "scattergeo": [
           {
            "marker": {
             "colorbar": {
              "outlinewidth": 0,
              "ticks": ""
             }
            },
            "type": "scattergeo"
           }
          ],
          "scattergl": [
           {
            "marker": {
             "colorbar": {
              "outlinewidth": 0,
              "ticks": ""
             }
            },
            "type": "scattergl"
           }
          ],
          "scattermapbox": [
           {
            "marker": {
             "colorbar": {
              "outlinewidth": 0,
              "ticks": ""
             }
            },
            "type": "scattermapbox"
           }
          ],
          "scatterpolar": [
           {
            "marker": {
             "colorbar": {
              "outlinewidth": 0,
              "ticks": ""
             }
            },
            "type": "scatterpolar"
           }
          ],
          "scatterpolargl": [
           {
            "marker": {
             "colorbar": {
              "outlinewidth": 0,
              "ticks": ""
             }
            },
            "type": "scatterpolargl"
           }
          ],
          "scatterternary": [
           {
            "marker": {
             "colorbar": {
              "outlinewidth": 0,
              "ticks": ""
             }
            },
            "type": "scatterternary"
           }
          ],
          "surface": [
           {
            "colorbar": {
             "outlinewidth": 0,
             "ticks": ""
            },
            "colorscale": [
             [
              0,
              "#0d0887"
             ],
             [
              0.1111111111111111,
              "#46039f"
             ],
             [
              0.2222222222222222,
              "#7201a8"
             ],
             [
              0.3333333333333333,
              "#9c179e"
             ],
             [
              0.4444444444444444,
              "#bd3786"
             ],
             [
              0.5555555555555556,
              "#d8576b"
             ],
             [
              0.6666666666666666,
              "#ed7953"
             ],
             [
              0.7777777777777778,
              "#fb9f3a"
             ],
             [
              0.8888888888888888,
              "#fdca26"
             ],
             [
              1,
              "#f0f921"
             ]
            ],
            "type": "surface"
           }
          ],
          "table": [
           {
            "cells": {
             "fill": {
              "color": "#EBF0F8"
             },
             "line": {
              "color": "white"
             }
            },
            "header": {
             "fill": {
              "color": "#C8D4E3"
             },
             "line": {
              "color": "white"
             }
            },
            "type": "table"
           }
          ]
         },
         "layout": {
          "annotationdefaults": {
           "arrowcolor": "#2a3f5f",
           "arrowhead": 0,
           "arrowwidth": 1
          },
          "autotypenumbers": "strict",
          "coloraxis": {
           "colorbar": {
            "outlinewidth": 0,
            "ticks": ""
           }
          },
          "colorscale": {
           "diverging": [
            [
             0,
             "#8e0152"
            ],
            [
             0.1,
             "#c51b7d"
            ],
            [
             0.2,
             "#de77ae"
            ],
            [
             0.3,
             "#f1b6da"
            ],
            [
             0.4,
             "#fde0ef"
            ],
            [
             0.5,
             "#f7f7f7"
            ],
            [
             0.6,
             "#e6f5d0"
            ],
            [
             0.7,
             "#b8e186"
            ],
            [
             0.8,
             "#7fbc41"
            ],
            [
             0.9,
             "#4d9221"
            ],
            [
             1,
             "#276419"
            ]
           ],
           "sequential": [
            [
             0,
             "#0d0887"
            ],
            [
             0.1111111111111111,
             "#46039f"
            ],
            [
             0.2222222222222222,
             "#7201a8"
            ],
            [
             0.3333333333333333,
             "#9c179e"
            ],
            [
             0.4444444444444444,
             "#bd3786"
            ],
            [
             0.5555555555555556,
             "#d8576b"
            ],
            [
             0.6666666666666666,
             "#ed7953"
            ],
            [
             0.7777777777777778,
             "#fb9f3a"
            ],
            [
             0.8888888888888888,
             "#fdca26"
            ],
            [
             1,
             "#f0f921"
            ]
           ],
           "sequentialminus": [
            [
             0,
             "#0d0887"
            ],
            [
             0.1111111111111111,
             "#46039f"
            ],
            [
             0.2222222222222222,
             "#7201a8"
            ],
            [
             0.3333333333333333,
             "#9c179e"
            ],
            [
             0.4444444444444444,
             "#bd3786"
            ],
            [
             0.5555555555555556,
             "#d8576b"
            ],
            [
             0.6666666666666666,
             "#ed7953"
            ],
            [
             0.7777777777777778,
             "#fb9f3a"
            ],
            [
             0.8888888888888888,
             "#fdca26"
            ],
            [
             1,
             "#f0f921"
            ]
           ]
          },
          "colorway": [
           "#636efa",
           "#EF553B",
           "#00cc96",
           "#ab63fa",
           "#FFA15A",
           "#19d3f3",
           "#FF6692",
           "#B6E880",
           "#FF97FF",
           "#FECB52"
          ],
          "font": {
           "color": "#2a3f5f"
          },
          "geo": {
           "bgcolor": "white",
           "lakecolor": "white",
           "landcolor": "#E5ECF6",
           "showlakes": true,
           "showland": true,
           "subunitcolor": "white"
          },
          "hoverlabel": {
           "align": "left"
          },
          "hovermode": "closest",
          "mapbox": {
           "style": "light"
          },
          "paper_bgcolor": "white",
          "plot_bgcolor": "#E5ECF6",
          "polar": {
           "angularaxis": {
            "gridcolor": "white",
            "linecolor": "white",
            "ticks": ""
           },
           "bgcolor": "#E5ECF6",
           "radialaxis": {
            "gridcolor": "white",
            "linecolor": "white",
            "ticks": ""
           }
          },
          "scene": {
           "xaxis": {
            "backgroundcolor": "#E5ECF6",
            "gridcolor": "white",
            "gridwidth": 2,
            "linecolor": "white",
            "showbackground": true,
            "ticks": "",
            "zerolinecolor": "white"
           },
           "yaxis": {
            "backgroundcolor": "#E5ECF6",
            "gridcolor": "white",
            "gridwidth": 2,
            "linecolor": "white",
            "showbackground": true,
            "ticks": "",
            "zerolinecolor": "white"
           },
           "zaxis": {
            "backgroundcolor": "#E5ECF6",
            "gridcolor": "white",
            "gridwidth": 2,
            "linecolor": "white",
            "showbackground": true,
            "ticks": "",
            "zerolinecolor": "white"
           }
          },
          "shapedefaults": {
           "line": {
            "color": "#2a3f5f"
           }
          },
          "ternary": {
           "aaxis": {
            "gridcolor": "white",
            "linecolor": "white",
            "ticks": ""
           },
           "baxis": {
            "gridcolor": "white",
            "linecolor": "white",
            "ticks": ""
           },
           "bgcolor": "#E5ECF6",
           "caxis": {
            "gridcolor": "white",
            "linecolor": "white",
            "ticks": ""
           }
          },
          "title": {
           "x": 0.05
          },
          "xaxis": {
           "automargin": true,
           "gridcolor": "white",
           "linecolor": "white",
           "ticks": "",
           "title": {
            "standoff": 15
           },
           "zerolinecolor": "white",
           "zerolinewidth": 2
          },
          "yaxis": {
           "automargin": true,
           "gridcolor": "white",
           "linecolor": "white",
           "ticks": "",
           "title": {
            "standoff": 15
           },
           "zerolinecolor": "white",
           "zerolinewidth": 2
          }
         }
        }
       }
      },
      "text/html": [
       "<div>                            <div id=\"4bf4a52e-070c-4ffd-a74e-bb2b65745dd8\" class=\"plotly-graph-div\" style=\"height:525px; width:100%;\"></div>            <script type=\"text/javascript\">                require([\"plotly\"], function(Plotly) {                    window.PLOTLYENV=window.PLOTLYENV || {};                                    if (document.getElementById(\"4bf4a52e-070c-4ffd-a74e-bb2b65745dd8\")) {                    Plotly.newPlot(                        \"4bf4a52e-070c-4ffd-a74e-bb2b65745dd8\",                        [{\"marker\": {\"color\": [\"darkturquoise\", \"darkturquoise\", \"darkturquoise\", \"darkturquoise\", \"darkturquoise\", \"darkturquoise\", \"darkturquoise\", \"darkturquoise\", \"darkturquoise\", \"darkturquoise\", \"darkturquoise\", \"darkturquoise\", \"darkturquoise\", \"darkturquoise\", \"darkturquoise\", \"darkturquoise\", \"darkturquoise\", \"darkturquoise\", \"darkturquoise\", \"darkturquoise\", \"darkturquoise\", \"darkturquoise\", \"darkturquoise\", \"darkturquoise\", \"darkturquoise\", \"magenta\", \"magenta\", \"magenta\", \"magenta\", \"magenta\", \"red\", \"darkturquoise\", \"red\", \"darkturquoise\", \"red\", \"darkturquoise\", \"red\", \"darkturquoise\", \"red\", \"darkturquoise\", \"darkturquoise\", \"darkturquoise\", \"darkturquoise\", \"darkturquoise\", \"darkturquoise\", \"magenta\", \"magenta\", \"magenta\", \"magenta\", \"magenta\", \"red\", \"darkturquoise\", \"red\", \"darkturquoise\", \"red\", \"darkturquoise\", \"red\", \"darkturquoise\", \"red\", \"darkturquoise\", \"darkturquoise\", \"darkturquoise\", \"darkturquoise\", \"darkturquoise\", \"darkturquoise\", \"magenta\", \"magenta\", \"magenta\", \"magenta\", \"magenta\", \"red\", \"darkturquoise\", \"red\", \"darkturquoise\", \"red\", \"darkturquoise\", \"red\", \"darkturquoise\", \"red\", \"darkturquoise\", \"darkturquoise\", \"darkturquoise\", \"darkturquoise\", \"darkturquoise\", \"darkturquoise\", \"magenta\", \"magenta\", \"magenta\", \"magenta\", \"magenta\", \"red\", \"darkturquoise\", \"red\", \"darkturquoise\", \"red\", \"darkturquoise\", \"red\", \"darkturquoise\", \"red\", \"darkturquoise\", \"darkturquoise\", \"darkturquoise\", \"darkturquoise\", \"darkturquoise\", \"darkturquoise\", \"magenta\", \"magenta\", \"magenta\", \"magenta\", \"magenta\", \"red\", \"darkturquoise\", \"red\", \"darkturquoise\", \"red\", \"darkturquoise\", \"red\", \"darkturquoise\", \"red\", \"darkturquoise\", \"darkturquoise\", \"darkturquoise\", \"darkturquoise\", \"darkturquoise\", \"darkturquoise\", \"magenta\", \"magenta\", \"magenta\", \"magenta\", \"magenta\", \"red\", \"darkturquoise\", \"red\", \"darkturquoise\", \"red\", \"darkturquoise\", \"red\", \"darkturquoise\", \"red\", \"darkturquoise\", \"darkturquoise\", \"darkturquoise\", \"darkturquoise\", \"darkturquoise\", \"darkturquoise\", \"darkturquoise\", \"darkturquoise\", \"darkturquoise\", \"darkturquoise\", \"darkturquoise\", \"darkturquoise\", \"darkturquoise\", \"darkturquoise\", \"darkturquoise\", \"darkturquoise\", \"darkturquoise\", \"darkturquoise\", \"darkturquoise\", \"darkturquoise\", \"darkturquoise\", \"darkturquoise\", \"darkturquoise\", \"darkturquoise\", \"darkturquoise\", \"darkturquoise\", \"darkturquoise\", \"darkturquoise\", \"darkturquoise\", \"darkturquoise\", \"darkturquoise\"], \"size\": 2, \"symbol\": \"square\"}, \"mode\": \"markers\", \"type\": \"scatter3d\", \"x\": [0.05, 0.15000000000000002, 0.25, 0.35000000000000003, 0.45, 0.05, 0.15000000000000002, 0.25, 0.35000000000000003, 0.45, 0.05, 0.15000000000000002, 0.25, 0.35000000000000003, 0.45, 0.05, 0.15000000000000002, 0.25, 0.35000000000000003, 0.45, 0.05, 0.15000000000000002, 0.25, 0.35000000000000003, 0.45, 0.05, 0.15000000000000002, 0.25, 0.35000000000000003, 0.45, 0.0, 0.5, 0.0, 0.5, 0.0, 0.5, 0.0, 0.5, 0.0, 0.5, 0.05, 0.15000000000000002, 0.25, 0.35000000000000003, 0.45, 0.05, 0.15000000000000002, 0.25, 0.35000000000000003, 0.45, 0.0, 0.5, 0.0, 0.5, 0.0, 0.5, 0.0, 0.5, 0.0, 0.5, 0.05, 0.15000000000000002, 0.25, 0.35000000000000003, 0.45, 0.05, 0.15000000000000002, 0.25, 0.35000000000000003, 0.45, 0.0, 0.5, 0.0, 0.5, 0.0, 0.5, 0.0, 0.5, 0.0, 0.5, 0.05, 0.15000000000000002, 0.25, 0.35000000000000003, 0.45, 0.05, 0.15000000000000002, 0.25, 0.35000000000000003, 0.45, 0.0, 0.5, 0.0, 0.5, 0.0, 0.5, 0.0, 0.5, 0.0, 0.5, 0.05, 0.15000000000000002, 0.25, 0.35000000000000003, 0.45, 0.05, 0.15000000000000002, 0.25, 0.35000000000000003, 0.45, 0.0, 0.5, 0.0, 0.5, 0.0, 0.5, 0.0, 0.5, 0.0, 0.5, 0.05, 0.15000000000000002, 0.25, 0.35000000000000003, 0.45, 0.05, 0.15000000000000002, 0.25, 0.35000000000000003, 0.45, 0.0, 0.5, 0.0, 0.5, 0.0, 0.5, 0.0, 0.5, 0.0, 0.5, 0.05, 0.15000000000000002, 0.25, 0.35000000000000003, 0.45, 0.05, 0.15000000000000002, 0.25, 0.35000000000000003, 0.45, 0.05, 0.15000000000000002, 0.25, 0.35000000000000003, 0.45, 0.05, 0.15000000000000002, 0.25, 0.35000000000000003, 0.45, 0.05, 0.15000000000000002, 0.25, 0.35000000000000003, 0.45, 0.05, 0.15000000000000002, 0.25, 0.35000000000000003, 0.45], \"y\": [0.05, 0.05, 0.05, 0.05, 0.05, 0.15000000000000002, 0.15000000000000002, 0.15000000000000002, 0.15000000000000002, 0.15000000000000002, 0.25, 0.25, 0.25, 0.25, 0.25, 0.35000000000000003, 0.35000000000000003, 0.35000000000000003, 0.35000000000000003, 0.35000000000000003, 0.45, 0.45, 0.45, 0.45, 0.45, 0.0, 0.0, 0.0, 0.0, 0.0, 0.05, 0.05, 0.15000000000000002, 0.15000000000000002, 0.25, 0.25, 0.35000000000000003, 0.35000000000000003, 0.45, 0.45, 0.5, 0.5, 0.5, 0.5, 0.5, 0.0, 0.0, 0.0, 0.0, 0.0, 0.05, 0.05, 0.15000000000000002, 0.15000000000000002, 0.25, 0.25, 0.35000000000000003, 0.35000000000000003, 0.45, 0.45, 0.5, 0.5, 0.5, 0.5, 0.5, 0.0, 0.0, 0.0, 0.0, 0.0, 0.05, 0.05, 0.15000000000000002, 0.15000000000000002, 0.25, 0.25, 0.35000000000000003, 0.35000000000000003, 0.45, 0.45, 0.5, 0.5, 0.5, 0.5, 0.5, 0.0, 0.0, 0.0, 0.0, 0.0, 0.05, 0.05, 0.15000000000000002, 0.15000000000000002, 0.25, 0.25, 0.35000000000000003, 0.35000000000000003, 0.45, 0.45, 0.5, 0.5, 0.5, 0.5, 0.5, 0.0, 0.0, 0.0, 0.0, 0.0, 0.05, 0.05, 0.15000000000000002, 0.15000000000000002, 0.25, 0.25, 0.35000000000000003, 0.35000000000000003, 0.45, 0.45, 0.5, 0.5, 0.5, 0.5, 0.5, 0.0, 0.0, 0.0, 0.0, 0.0, 0.05, 0.05, 0.15000000000000002, 0.15000000000000002, 0.25, 0.25, 0.35000000000000003, 0.35000000000000003, 0.45, 0.45, 0.5, 0.5, 0.5, 0.5, 0.5, 0.05, 0.05, 0.05, 0.05, 0.05, 0.15000000000000002, 0.15000000000000002, 0.15000000000000002, 0.15000000000000002, 0.15000000000000002, 0.25, 0.25, 0.25, 0.25, 0.25, 0.35000000000000003, 0.35000000000000003, 0.35000000000000003, 0.35000000000000003, 0.35000000000000003, 0.45, 0.45, 0.45, 0.45, 0.45], \"z\": [0.0, 0.0, 0.0, 0.0, 0.0, 0.0, 0.0, 0.0, 0.0, 0.0, 0.0, 0.0, 0.0, 0.0, 0.0, 0.0, 0.0, 0.0, 0.0, 0.0, 0.0, 0.0, 0.0, 0.0, 0.0, 0.041666666666666664, 0.041666666666666664, 0.041666666666666664, 0.041666666666666664, 0.041666666666666664, 0.041666666666666664, 0.041666666666666664, 0.041666666666666664, 0.041666666666666664, 0.041666666666666664, 0.041666666666666664, 0.041666666666666664, 0.041666666666666664, 0.041666666666666664, 0.041666666666666664, 0.041666666666666664, 0.041666666666666664, 0.041666666666666664, 0.041666666666666664, 0.041666666666666664, 0.125, 0.125, 0.125, 0.125, 0.125, 0.125, 0.125, 0.125, 0.125, 0.125, 0.125, 0.125, 0.125, 0.125, 0.125, 0.125, 0.125, 0.125, 0.125, 0.125, 0.20833333333333331, 0.20833333333333331, 0.20833333333333331, 0.20833333333333331, 0.20833333333333331, 0.20833333333333331, 0.20833333333333331, 0.20833333333333331, 0.20833333333333331, 0.20833333333333331, 0.20833333333333331, 0.20833333333333331, 0.20833333333333331, 0.20833333333333331, 0.20833333333333331, 0.20833333333333331, 0.20833333333333331, 0.20833333333333331, 0.20833333333333331, 0.20833333333333331, 0.2916666666666667, 0.2916666666666667, 0.2916666666666667, 0.2916666666666667, 0.2916666666666667, 0.2916666666666667, 0.2916666666666667, 0.2916666666666667, 0.2916666666666667, 0.2916666666666667, 0.2916666666666667, 0.2916666666666667, 0.2916666666666667, 0.2916666666666667, 0.2916666666666667, 0.2916666666666667, 0.2916666666666667, 0.2916666666666667, 0.2916666666666667, 0.2916666666666667, 0.375, 0.375, 0.375, 0.375, 0.375, 0.375, 0.375, 0.375, 0.375, 0.375, 0.375, 0.375, 0.375, 0.375, 0.375, 0.375, 0.375, 0.375, 0.375, 0.375, 0.4583333333333333, 0.4583333333333333, 0.4583333333333333, 0.4583333333333333, 0.4583333333333333, 0.4583333333333333, 0.4583333333333333, 0.4583333333333333, 0.4583333333333333, 0.4583333333333333, 0.4583333333333333, 0.4583333333333333, 0.4583333333333333, 0.4583333333333333, 0.4583333333333333, 0.4583333333333333, 0.4583333333333333, 0.4583333333333333, 0.4583333333333333, 0.4583333333333333, 0.5, 0.5, 0.5, 0.5, 0.5, 0.5, 0.5, 0.5, 0.5, 0.5, 0.5, 0.5, 0.5, 0.5, 0.5, 0.5, 0.5, 0.5, 0.5, 0.5, 0.5, 0.5, 0.5, 0.5, 0.5]}, {\"marker\": {\"color\": \"blue\", \"size\": 5}, \"mode\": \"markers\", \"type\": \"scatter3d\", \"x\": [0.05, 0.15000000000000002, 0.25, 0.35000000000000003, 0.45, 0.05, 0.15000000000000002, 0.25, 0.35000000000000003, 0.45, 0.05, 0.15000000000000002, 0.25, 0.35000000000000003, 0.45, 0.05, 0.15000000000000002, 0.25, 0.35000000000000003, 0.45, 0.05, 0.15000000000000002, 0.25, 0.35000000000000003, 0.45, 0.05, 0.15000000000000002, 0.25, 0.35000000000000003, 0.45, 0.05, 0.15000000000000002, 0.25, 0.35000000000000003, 0.45, 0.05, 0.15000000000000002, 0.25, 0.35000000000000003, 0.45, 0.05, 0.15000000000000002, 0.25, 0.35000000000000003, 0.45, 0.05, 0.15000000000000002, 0.25, 0.35000000000000003, 0.45, 0.05, 0.15000000000000002, 0.25, 0.35000000000000003, 0.45, 0.05, 0.15000000000000002, 0.25, 0.35000000000000003, 0.45, 0.05, 0.15000000000000002, 0.25, 0.35000000000000003, 0.45, 0.05, 0.15000000000000002, 0.25, 0.35000000000000003, 0.45, 0.05, 0.15000000000000002, 0.25, 0.35000000000000003, 0.45, 0.05, 0.15000000000000002, 0.25, 0.35000000000000003, 0.45, 0.05, 0.15000000000000002, 0.25, 0.35000000000000003, 0.45, 0.05, 0.15000000000000002, 0.25, 0.35000000000000003, 0.45, 0.05, 0.15000000000000002, 0.25, 0.35000000000000003, 0.45, 0.05, 0.15000000000000002, 0.25, 0.35000000000000003, 0.45, 0.05, 0.15000000000000002, 0.25, 0.35000000000000003, 0.45, 0.05, 0.15000000000000002, 0.25, 0.35000000000000003, 0.45, 0.05, 0.15000000000000002, 0.25, 0.35000000000000003, 0.45, 0.05, 0.15000000000000002, 0.25, 0.35000000000000003, 0.45, 0.05, 0.15000000000000002, 0.25, 0.35000000000000003, 0.45, 0.05, 0.15000000000000002, 0.25, 0.35000000000000003, 0.45, 0.05, 0.15000000000000002, 0.25, 0.35000000000000003, 0.45, 0.05, 0.15000000000000002, 0.25, 0.35000000000000003, 0.45, 0.05, 0.15000000000000002, 0.25, 0.35000000000000003, 0.45, 0.05, 0.15000000000000002, 0.25, 0.35000000000000003, 0.45], \"y\": [0.05, 0.05, 0.05, 0.05, 0.05, 0.15000000000000002, 0.15000000000000002, 0.15000000000000002, 0.15000000000000002, 0.15000000000000002, 0.25, 0.25, 0.25, 0.25, 0.25, 0.35000000000000003, 0.35000000000000003, 0.35000000000000003, 0.35000000000000003, 0.35000000000000003, 0.45, 0.45, 0.45, 0.45, 0.45, 0.05, 0.05, 0.05, 0.05, 0.05, 0.15000000000000002, 0.15000000000000002, 0.15000000000000002, 0.15000000000000002, 0.15000000000000002, 0.25, 0.25, 0.25, 0.25, 0.25, 0.35000000000000003, 0.35000000000000003, 0.35000000000000003, 0.35000000000000003, 0.35000000000000003, 0.45, 0.45, 0.45, 0.45, 0.45, 0.05, 0.05, 0.05, 0.05, 0.05, 0.15000000000000002, 0.15000000000000002, 0.15000000000000002, 0.15000000000000002, 0.15000000000000002, 0.25, 0.25, 0.25, 0.25, 0.25, 0.35000000000000003, 0.35000000000000003, 0.35000000000000003, 0.35000000000000003, 0.35000000000000003, 0.45, 0.45, 0.45, 0.45, 0.45, 0.05, 0.05, 0.05, 0.05, 0.05, 0.15000000000000002, 0.15000000000000002, 0.15000000000000002, 0.15000000000000002, 0.15000000000000002, 0.25, 0.25, 0.25, 0.25, 0.25, 0.35000000000000003, 0.35000000000000003, 0.35000000000000003, 0.35000000000000003, 0.35000000000000003, 0.45, 0.45, 0.45, 0.45, 0.45, 0.05, 0.05, 0.05, 0.05, 0.05, 0.15000000000000002, 0.15000000000000002, 0.15000000000000002, 0.15000000000000002, 0.15000000000000002, 0.25, 0.25, 0.25, 0.25, 0.25, 0.35000000000000003, 0.35000000000000003, 0.35000000000000003, 0.35000000000000003, 0.35000000000000003, 0.45, 0.45, 0.45, 0.45, 0.45, 0.05, 0.05, 0.05, 0.05, 0.05, 0.15000000000000002, 0.15000000000000002, 0.15000000000000002, 0.15000000000000002, 0.15000000000000002, 0.25, 0.25, 0.25, 0.25, 0.25, 0.35000000000000003, 0.35000000000000003, 0.35000000000000003, 0.35000000000000003, 0.35000000000000003, 0.45, 0.45, 0.45, 0.45, 0.45], \"z\": [0.041666666666666664, 0.041666666666666664, 0.041666666666666664, 0.041666666666666664, 0.041666666666666664, 0.041666666666666664, 0.041666666666666664, 0.041666666666666664, 0.041666666666666664, 0.041666666666666664, 0.041666666666666664, 0.041666666666666664, 0.041666666666666664, 0.041666666666666664, 0.041666666666666664, 0.041666666666666664, 0.041666666666666664, 0.041666666666666664, 0.041666666666666664, 0.041666666666666664, 0.041666666666666664, 0.041666666666666664, 0.041666666666666664, 0.041666666666666664, 0.041666666666666664, 0.125, 0.125, 0.125, 0.125, 0.125, 0.125, 0.125, 0.125, 0.125, 0.125, 0.125, 0.125, 0.125, 0.125, 0.125, 0.125, 0.125, 0.125, 0.125, 0.125, 0.125, 0.125, 0.125, 0.125, 0.125, 0.20833333333333331, 0.20833333333333331, 0.20833333333333331, 0.20833333333333331, 0.20833333333333331, 0.20833333333333331, 0.20833333333333331, 0.20833333333333331, 0.20833333333333331, 0.20833333333333331, 0.20833333333333331, 0.20833333333333331, 0.20833333333333331, 0.20833333333333331, 0.20833333333333331, 0.20833333333333331, 0.20833333333333331, 0.20833333333333331, 0.20833333333333331, 0.20833333333333331, 0.20833333333333331, 0.20833333333333331, 0.20833333333333331, 0.20833333333333331, 0.20833333333333331, 0.2916666666666667, 0.2916666666666667, 0.2916666666666667, 0.2916666666666667, 0.2916666666666667, 0.2916666666666667, 0.2916666666666667, 0.2916666666666667, 0.2916666666666667, 0.2916666666666667, 0.2916666666666667, 0.2916666666666667, 0.2916666666666667, 0.2916666666666667, 0.2916666666666667, 0.2916666666666667, 0.2916666666666667, 0.2916666666666667, 0.2916666666666667, 0.2916666666666667, 0.2916666666666667, 0.2916666666666667, 0.2916666666666667, 0.2916666666666667, 0.2916666666666667, 0.375, 0.375, 0.375, 0.375, 0.375, 0.375, 0.375, 0.375, 0.375, 0.375, 0.375, 0.375, 0.375, 0.375, 0.375, 0.375, 0.375, 0.375, 0.375, 0.375, 0.375, 0.375, 0.375, 0.375, 0.375, 0.4583333333333333, 0.4583333333333333, 0.4583333333333333, 0.4583333333333333, 0.4583333333333333, 0.4583333333333333, 0.4583333333333333, 0.4583333333333333, 0.4583333333333333, 0.4583333333333333, 0.4583333333333333, 0.4583333333333333, 0.4583333333333333, 0.4583333333333333, 0.4583333333333333, 0.4583333333333333, 0.4583333333333333, 0.4583333333333333, 0.4583333333333333, 0.4583333333333333, 0.4583333333333333, 0.4583333333333333, 0.4583333333333333, 0.4583333333333333, 0.4583333333333333]}],                        {\"template\": {\"data\": {\"bar\": [{\"error_x\": {\"color\": \"#2a3f5f\"}, \"error_y\": {\"color\": \"#2a3f5f\"}, \"marker\": {\"line\": {\"color\": \"#E5ECF6\", \"width\": 0.5}}, \"type\": \"bar\"}], \"barpolar\": [{\"marker\": {\"line\": {\"color\": \"#E5ECF6\", \"width\": 0.5}}, \"type\": \"barpolar\"}], \"carpet\": [{\"aaxis\": {\"endlinecolor\": \"#2a3f5f\", \"gridcolor\": \"white\", \"linecolor\": \"white\", \"minorgridcolor\": \"white\", \"startlinecolor\": \"#2a3f5f\"}, \"baxis\": {\"endlinecolor\": \"#2a3f5f\", \"gridcolor\": \"white\", \"linecolor\": \"white\", \"minorgridcolor\": \"white\", \"startlinecolor\": \"#2a3f5f\"}, \"type\": \"carpet\"}], \"choropleth\": [{\"colorbar\": {\"outlinewidth\": 0, \"ticks\": \"\"}, \"type\": \"choropleth\"}], \"contour\": [{\"colorbar\": {\"outlinewidth\": 0, \"ticks\": \"\"}, \"colorscale\": [[0.0, \"#0d0887\"], [0.1111111111111111, \"#46039f\"], [0.2222222222222222, \"#7201a8\"], [0.3333333333333333, \"#9c179e\"], [0.4444444444444444, \"#bd3786\"], [0.5555555555555556, \"#d8576b\"], [0.6666666666666666, \"#ed7953\"], [0.7777777777777778, \"#fb9f3a\"], [0.8888888888888888, \"#fdca26\"], [1.0, \"#f0f921\"]], \"type\": \"contour\"}], \"contourcarpet\": [{\"colorbar\": {\"outlinewidth\": 0, \"ticks\": \"\"}, \"type\": \"contourcarpet\"}], \"heatmap\": [{\"colorbar\": {\"outlinewidth\": 0, \"ticks\": \"\"}, \"colorscale\": [[0.0, \"#0d0887\"], [0.1111111111111111, \"#46039f\"], [0.2222222222222222, \"#7201a8\"], [0.3333333333333333, \"#9c179e\"], [0.4444444444444444, \"#bd3786\"], [0.5555555555555556, \"#d8576b\"], [0.6666666666666666, \"#ed7953\"], [0.7777777777777778, \"#fb9f3a\"], [0.8888888888888888, \"#fdca26\"], [1.0, \"#f0f921\"]], \"type\": \"heatmap\"}], \"heatmapgl\": [{\"colorbar\": {\"outlinewidth\": 0, \"ticks\": \"\"}, \"colorscale\": [[0.0, \"#0d0887\"], [0.1111111111111111, \"#46039f\"], [0.2222222222222222, \"#7201a8\"], [0.3333333333333333, \"#9c179e\"], [0.4444444444444444, \"#bd3786\"], [0.5555555555555556, \"#d8576b\"], [0.6666666666666666, \"#ed7953\"], [0.7777777777777778, \"#fb9f3a\"], [0.8888888888888888, \"#fdca26\"], [1.0, \"#f0f921\"]], \"type\": \"heatmapgl\"}], \"histogram\": [{\"marker\": {\"colorbar\": {\"outlinewidth\": 0, \"ticks\": \"\"}}, \"type\": \"histogram\"}], \"histogram2d\": [{\"colorbar\": {\"outlinewidth\": 0, \"ticks\": \"\"}, \"colorscale\": [[0.0, \"#0d0887\"], [0.1111111111111111, \"#46039f\"], [0.2222222222222222, \"#7201a8\"], [0.3333333333333333, \"#9c179e\"], [0.4444444444444444, \"#bd3786\"], [0.5555555555555556, \"#d8576b\"], [0.6666666666666666, \"#ed7953\"], [0.7777777777777778, \"#fb9f3a\"], [0.8888888888888888, \"#fdca26\"], [1.0, \"#f0f921\"]], \"type\": \"histogram2d\"}], \"histogram2dcontour\": [{\"colorbar\": {\"outlinewidth\": 0, \"ticks\": \"\"}, \"colorscale\": [[0.0, \"#0d0887\"], [0.1111111111111111, \"#46039f\"], [0.2222222222222222, \"#7201a8\"], [0.3333333333333333, \"#9c179e\"], [0.4444444444444444, \"#bd3786\"], [0.5555555555555556, \"#d8576b\"], [0.6666666666666666, \"#ed7953\"], [0.7777777777777778, \"#fb9f3a\"], [0.8888888888888888, \"#fdca26\"], [1.0, \"#f0f921\"]], \"type\": \"histogram2dcontour\"}], \"mesh3d\": [{\"colorbar\": {\"outlinewidth\": 0, \"ticks\": \"\"}, \"type\": \"mesh3d\"}], \"parcoords\": [{\"line\": {\"colorbar\": {\"outlinewidth\": 0, \"ticks\": \"\"}}, \"type\": \"parcoords\"}], \"pie\": [{\"automargin\": true, \"type\": \"pie\"}], \"scatter\": [{\"marker\": {\"colorbar\": {\"outlinewidth\": 0, \"ticks\": \"\"}}, \"type\": \"scatter\"}], \"scatter3d\": [{\"line\": {\"colorbar\": {\"outlinewidth\": 0, \"ticks\": \"\"}}, \"marker\": {\"colorbar\": {\"outlinewidth\": 0, \"ticks\": \"\"}}, \"type\": \"scatter3d\"}], \"scattercarpet\": [{\"marker\": {\"colorbar\": {\"outlinewidth\": 0, \"ticks\": \"\"}}, \"type\": \"scattercarpet\"}], \"scattergeo\": [{\"marker\": {\"colorbar\": {\"outlinewidth\": 0, \"ticks\": \"\"}}, \"type\": \"scattergeo\"}], \"scattergl\": [{\"marker\": {\"colorbar\": {\"outlinewidth\": 0, \"ticks\": \"\"}}, \"type\": \"scattergl\"}], \"scattermapbox\": [{\"marker\": {\"colorbar\": {\"outlinewidth\": 0, \"ticks\": \"\"}}, \"type\": \"scattermapbox\"}], \"scatterpolar\": [{\"marker\": {\"colorbar\": {\"outlinewidth\": 0, \"ticks\": \"\"}}, \"type\": \"scatterpolar\"}], \"scatterpolargl\": [{\"marker\": {\"colorbar\": {\"outlinewidth\": 0, \"ticks\": \"\"}}, \"type\": \"scatterpolargl\"}], \"scatterternary\": [{\"marker\": {\"colorbar\": {\"outlinewidth\": 0, \"ticks\": \"\"}}, \"type\": \"scatterternary\"}], \"surface\": [{\"colorbar\": {\"outlinewidth\": 0, \"ticks\": \"\"}, \"colorscale\": [[0.0, \"#0d0887\"], [0.1111111111111111, \"#46039f\"], [0.2222222222222222, \"#7201a8\"], [0.3333333333333333, \"#9c179e\"], [0.4444444444444444, \"#bd3786\"], [0.5555555555555556, \"#d8576b\"], [0.6666666666666666, \"#ed7953\"], [0.7777777777777778, \"#fb9f3a\"], [0.8888888888888888, \"#fdca26\"], [1.0, \"#f0f921\"]], \"type\": \"surface\"}], \"table\": [{\"cells\": {\"fill\": {\"color\": \"#EBF0F8\"}, \"line\": {\"color\": \"white\"}}, \"header\": {\"fill\": {\"color\": \"#C8D4E3\"}, \"line\": {\"color\": \"white\"}}, \"type\": \"table\"}]}, \"layout\": {\"annotationdefaults\": {\"arrowcolor\": \"#2a3f5f\", \"arrowhead\": 0, \"arrowwidth\": 1}, \"autotypenumbers\": \"strict\", \"coloraxis\": {\"colorbar\": {\"outlinewidth\": 0, \"ticks\": \"\"}}, \"colorscale\": {\"diverging\": [[0, \"#8e0152\"], [0.1, \"#c51b7d\"], [0.2, \"#de77ae\"], [0.3, \"#f1b6da\"], [0.4, \"#fde0ef\"], [0.5, \"#f7f7f7\"], [0.6, \"#e6f5d0\"], [0.7, \"#b8e186\"], [0.8, \"#7fbc41\"], [0.9, \"#4d9221\"], [1, \"#276419\"]], \"sequential\": [[0.0, \"#0d0887\"], [0.1111111111111111, \"#46039f\"], [0.2222222222222222, \"#7201a8\"], [0.3333333333333333, \"#9c179e\"], [0.4444444444444444, \"#bd3786\"], [0.5555555555555556, \"#d8576b\"], [0.6666666666666666, \"#ed7953\"], [0.7777777777777778, \"#fb9f3a\"], [0.8888888888888888, \"#fdca26\"], [1.0, \"#f0f921\"]], \"sequentialminus\": [[0.0, \"#0d0887\"], [0.1111111111111111, \"#46039f\"], [0.2222222222222222, \"#7201a8\"], [0.3333333333333333, \"#9c179e\"], [0.4444444444444444, \"#bd3786\"], [0.5555555555555556, \"#d8576b\"], [0.6666666666666666, \"#ed7953\"], [0.7777777777777778, \"#fb9f3a\"], [0.8888888888888888, \"#fdca26\"], [1.0, \"#f0f921\"]]}, \"colorway\": [\"#636efa\", \"#EF553B\", \"#00cc96\", \"#ab63fa\", \"#FFA15A\", \"#19d3f3\", \"#FF6692\", \"#B6E880\", \"#FF97FF\", \"#FECB52\"], \"font\": {\"color\": \"#2a3f5f\"}, \"geo\": {\"bgcolor\": \"white\", \"lakecolor\": \"white\", \"landcolor\": \"#E5ECF6\", \"showlakes\": true, \"showland\": true, \"subunitcolor\": \"white\"}, \"hoverlabel\": {\"align\": \"left\"}, \"hovermode\": \"closest\", \"mapbox\": {\"style\": \"light\"}, \"paper_bgcolor\": \"white\", \"plot_bgcolor\": \"#E5ECF6\", \"polar\": {\"angularaxis\": {\"gridcolor\": \"white\", \"linecolor\": \"white\", \"ticks\": \"\"}, \"bgcolor\": \"#E5ECF6\", \"radialaxis\": {\"gridcolor\": \"white\", \"linecolor\": \"white\", \"ticks\": \"\"}}, \"scene\": {\"xaxis\": {\"backgroundcolor\": \"#E5ECF6\", \"gridcolor\": \"white\", \"gridwidth\": 2, \"linecolor\": \"white\", \"showbackground\": true, \"ticks\": \"\", \"zerolinecolor\": \"white\"}, \"yaxis\": {\"backgroundcolor\": \"#E5ECF6\", \"gridcolor\": \"white\", \"gridwidth\": 2, \"linecolor\": \"white\", \"showbackground\": true, \"ticks\": \"\", \"zerolinecolor\": \"white\"}, \"zaxis\": {\"backgroundcolor\": \"#E5ECF6\", \"gridcolor\": \"white\", \"gridwidth\": 2, \"linecolor\": \"white\", \"showbackground\": true, \"ticks\": \"\", \"zerolinecolor\": \"white\"}}, \"shapedefaults\": {\"line\": {\"color\": \"#2a3f5f\"}}, \"ternary\": {\"aaxis\": {\"gridcolor\": \"white\", \"linecolor\": \"white\", \"ticks\": \"\"}, \"baxis\": {\"gridcolor\": \"white\", \"linecolor\": \"white\", \"ticks\": \"\"}, \"bgcolor\": \"#E5ECF6\", \"caxis\": {\"gridcolor\": \"white\", \"linecolor\": \"white\", \"ticks\": \"\"}}, \"title\": {\"x\": 0.05}, \"xaxis\": {\"automargin\": true, \"gridcolor\": \"white\", \"linecolor\": \"white\", \"ticks\": \"\", \"title\": {\"standoff\": 15}, \"zerolinecolor\": \"white\", \"zerolinewidth\": 2}, \"yaxis\": {\"automargin\": true, \"gridcolor\": \"white\", \"linecolor\": \"white\", \"ticks\": \"\", \"title\": {\"standoff\": 15}, \"zerolinecolor\": \"white\", \"zerolinewidth\": 2}}}},                        {\"responsive\": true}                    ).then(function(){\n",
       "                            \n",
       "var gd = document.getElementById('4bf4a52e-070c-4ffd-a74e-bb2b65745dd8');\n",
       "var x = new MutationObserver(function (mutations, observer) {{\n",
       "        var display = window.getComputedStyle(gd).display;\n",
       "        if (!display || display === 'none') {{\n",
       "            console.log([gd, 'removed!']);\n",
       "            Plotly.purge(gd);\n",
       "            observer.disconnect();\n",
       "        }}\n",
       "}});\n",
       "\n",
       "// Listen for the removal of the full notebook cells\n",
       "var notebookContainer = gd.closest('#notebook-container');\n",
       "if (notebookContainer) {{\n",
       "    x.observe(notebookContainer, {childList: true});\n",
       "}}\n",
       "\n",
       "// Listen for the clearing of the current output cell\n",
       "var outputEl = gd.closest('.output');\n",
       "if (outputEl) {{\n",
       "    x.observe(outputEl, {childList: true});\n",
       "}}\n",
       "\n",
       "                        })                };                });            </script>        </div>"
      ]
     },
     "metadata": {},
     "output_type": "display_data"
    }
   ],
   "source": [
    "# ------------Creamos la malla de acuerdo a la geometría definida por el problema\n",
    "malla = Mesh(3, volumes = (nx, ny, nz), lengths = (lx, ly, lz))\n",
    "#-------------Definimos fronteras ----------\n",
    "malla.tag_wall_neumann(\"W\", TA)\n",
    "malla.tag_wall_source(\"N\", TA)\n",
    "malla.tag_wall_dirichlet([\"E\", \"S\", \"T\", \"B\"], [TB, TB, TB, TA])\n",
    "malla.draw()"
   ]
  },
  {
   "cell_type": "markdown",
   "metadata": {},
   "source": [
    "---"
   ]
  },
  {
   "cell_type": "markdown",
   "metadata": {},
   "source": [
    "[Volver al índice](#Índice)"
   ]
  },
  {
   "cell_type": "markdown",
   "metadata": {},
   "source": [
    "## Problema condiciones iniciales"
   ]
  },
  {
   "cell_type": "code",
   "execution_count": 442,
   "metadata": {},
   "outputs": [],
   "source": [
    "#------------- Initial data definition ----------------\n",
    "lx = 1 # meters\n",
    "TA = 0 # °C \n",
    "TB = 0 # °C \n",
    "k  = 1 # W/m.K \n",
    "nx  = 30 # number of volumes\n",
    "#-------------------------------------------------------------"
   ]
  },
  {
   "cell_type": "code",
   "execution_count": 443,
   "metadata": {},
   "outputs": [
    {
     "data": {
      "application/vnd.plotly.v1+json": {
       "config": {
        "plotlyServerURL": "https://plot.ly"
       },
       "data": [
        {
         "marker": {
          "color": [
           "white",
           "white",
           "white",
           "white",
           "white",
           "white",
           "white",
           "white",
           "white",
           "white",
           "white",
           "white",
           "white",
           "white",
           "white",
           "white",
           "white",
           "white",
           "white",
           "white",
           "white",
           "white",
           "white",
           "white",
           "white",
           "white",
           "white",
           "white",
           "white",
           "white",
           "white",
           "white",
           "white",
           "white",
           "white",
           "white",
           "white",
           "white",
           "white",
           "white",
           "white",
           "white",
           "white",
           "white",
           "white",
           "white",
           "white",
           "white",
           "white",
           "white",
           "white",
           "white",
           "white",
           "white",
           "white",
           "white",
           "white",
           "white",
           "white",
           "white",
           "darkturquoise",
           "darkturquoise",
           "white",
           "white",
           "white",
           "white",
           "white",
           "white",
           "white",
           "white",
           "white",
           "white",
           "white",
           "white",
           "white",
           "white",
           "white",
           "white",
           "white",
           "white",
           "white",
           "white",
           "white",
           "white",
           "white",
           "white",
           "white",
           "white",
           "white",
           "white",
           "white",
           "white",
           "white",
           "white",
           "white",
           "white",
           "white",
           "white",
           "white",
           "white",
           "white",
           "white",
           "white",
           "white",
           "white",
           "white",
           "white",
           "white",
           "white",
           "white",
           "white",
           "white",
           "white",
           "white",
           "white",
           "white",
           "white",
           "white",
           "white",
           "white",
           "white",
           "white"
          ],
          "size": 2,
          "symbol": "square"
         },
         "mode": "markers",
         "type": "scatter3d",
         "x": [
          0.016666666666666666,
          0.05,
          0.08333333333333333,
          0.11666666666666667,
          0.15,
          0.18333333333333332,
          0.21666666666666667,
          0.25,
          0.2833333333333333,
          0.31666666666666665,
          0.35,
          0.3833333333333333,
          0.4166666666666667,
          0.45,
          0.48333333333333334,
          0.5166666666666667,
          0.55,
          0.5833333333333334,
          0.6166666666666667,
          0.65,
          0.6833333333333333,
          0.7166666666666667,
          0.75,
          0.7833333333333333,
          0.8166666666666668,
          0.8500000000000001,
          0.8833333333333334,
          0.9166666666666667,
          0.9500000000000001,
          0.9833333333333333,
          0.016666666666666666,
          0.05,
          0.08333333333333333,
          0.11666666666666667,
          0.15,
          0.18333333333333332,
          0.21666666666666667,
          0.25,
          0.2833333333333333,
          0.31666666666666665,
          0.35,
          0.3833333333333333,
          0.4166666666666667,
          0.45,
          0.48333333333333334,
          0.5166666666666667,
          0.55,
          0.5833333333333334,
          0.6166666666666667,
          0.65,
          0.6833333333333333,
          0.7166666666666667,
          0.75,
          0.7833333333333333,
          0.8166666666666668,
          0.8500000000000001,
          0.8833333333333334,
          0.9166666666666667,
          0.9500000000000001,
          0.9833333333333333,
          0,
          1,
          0.016666666666666666,
          0.05,
          0.08333333333333333,
          0.11666666666666667,
          0.15,
          0.18333333333333332,
          0.21666666666666667,
          0.25,
          0.2833333333333333,
          0.31666666666666665,
          0.35,
          0.3833333333333333,
          0.4166666666666667,
          0.45,
          0.48333333333333334,
          0.5166666666666667,
          0.55,
          0.5833333333333334,
          0.6166666666666667,
          0.65,
          0.6833333333333333,
          0.7166666666666667,
          0.75,
          0.7833333333333333,
          0.8166666666666668,
          0.8500000000000001,
          0.8833333333333334,
          0.9166666666666667,
          0.9500000000000001,
          0.9833333333333333,
          0.016666666666666666,
          0.05,
          0.08333333333333333,
          0.11666666666666667,
          0.15,
          0.18333333333333332,
          0.21666666666666667,
          0.25,
          0.2833333333333333,
          0.31666666666666665,
          0.35,
          0.3833333333333333,
          0.4166666666666667,
          0.45,
          0.48333333333333334,
          0.5166666666666667,
          0.55,
          0.5833333333333334,
          0.6166666666666667,
          0.65,
          0.6833333333333333,
          0.7166666666666667,
          0.75,
          0.7833333333333333,
          0.8166666666666668,
          0.8500000000000001,
          0.8833333333333334,
          0.9166666666666667,
          0.9500000000000001,
          0.9833333333333333
         ],
         "y": [
          0.05,
          0.05,
          0.05,
          0.05,
          0.05,
          0.05,
          0.05,
          0.05,
          0.05,
          0.05,
          0.05,
          0.05,
          0.05,
          0.05,
          0.05,
          0.05,
          0.05,
          0.05,
          0.05,
          0.05,
          0.05,
          0.05,
          0.05,
          0.05,
          0.05,
          0.05,
          0.05,
          0.05,
          0.05,
          0.05,
          0,
          0,
          0,
          0,
          0,
          0,
          0,
          0,
          0,
          0,
          0,
          0,
          0,
          0,
          0,
          0,
          0,
          0,
          0,
          0,
          0,
          0,
          0,
          0,
          0,
          0,
          0,
          0,
          0,
          0,
          0.05,
          0.05,
          0.1,
          0.1,
          0.1,
          0.1,
          0.1,
          0.1,
          0.1,
          0.1,
          0.1,
          0.1,
          0.1,
          0.1,
          0.1,
          0.1,
          0.1,
          0.1,
          0.1,
          0.1,
          0.1,
          0.1,
          0.1,
          0.1,
          0.1,
          0.1,
          0.1,
          0.1,
          0.1,
          0.1,
          0.1,
          0.1,
          0.05,
          0.05,
          0.05,
          0.05,
          0.05,
          0.05,
          0.05,
          0.05,
          0.05,
          0.05,
          0.05,
          0.05,
          0.05,
          0.05,
          0.05,
          0.05,
          0.05,
          0.05,
          0.05,
          0.05,
          0.05,
          0.05,
          0.05,
          0.05,
          0.05,
          0.05,
          0.05,
          0.05,
          0.05,
          0.05
         ],
         "z": [
          0,
          0,
          0,
          0,
          0,
          0,
          0,
          0,
          0,
          0,
          0,
          0,
          0,
          0,
          0,
          0,
          0,
          0,
          0,
          0,
          0,
          0,
          0,
          0,
          0,
          0,
          0,
          0,
          0,
          0,
          0.05,
          0.05,
          0.05,
          0.05,
          0.05,
          0.05,
          0.05,
          0.05,
          0.05,
          0.05,
          0.05,
          0.05,
          0.05,
          0.05,
          0.05,
          0.05,
          0.05,
          0.05,
          0.05,
          0.05,
          0.05,
          0.05,
          0.05,
          0.05,
          0.05,
          0.05,
          0.05,
          0.05,
          0.05,
          0.05,
          0.05,
          0.05,
          0.05,
          0.05,
          0.05,
          0.05,
          0.05,
          0.05,
          0.05,
          0.05,
          0.05,
          0.05,
          0.05,
          0.05,
          0.05,
          0.05,
          0.05,
          0.05,
          0.05,
          0.05,
          0.05,
          0.05,
          0.05,
          0.05,
          0.05,
          0.05,
          0.05,
          0.05,
          0.05,
          0.05,
          0.05,
          0.05,
          0.1,
          0.1,
          0.1,
          0.1,
          0.1,
          0.1,
          0.1,
          0.1,
          0.1,
          0.1,
          0.1,
          0.1,
          0.1,
          0.1,
          0.1,
          0.1,
          0.1,
          0.1,
          0.1,
          0.1,
          0.1,
          0.1,
          0.1,
          0.1,
          0.1,
          0.1,
          0.1,
          0.1,
          0.1,
          0.1
         ]
        },
        {
         "marker": {
          "color": "blue",
          "size": 5
         },
         "mode": "markers",
         "type": "scatter3d",
         "x": [
          0.016666666666666666,
          0.05,
          0.08333333333333333,
          0.11666666666666667,
          0.15,
          0.18333333333333332,
          0.21666666666666667,
          0.25,
          0.2833333333333333,
          0.31666666666666665,
          0.35,
          0.3833333333333333,
          0.4166666666666667,
          0.45,
          0.48333333333333334,
          0.5166666666666667,
          0.55,
          0.5833333333333334,
          0.6166666666666667,
          0.65,
          0.6833333333333333,
          0.7166666666666667,
          0.75,
          0.7833333333333333,
          0.8166666666666668,
          0.8500000000000001,
          0.8833333333333334,
          0.9166666666666667,
          0.9500000000000001,
          0.9833333333333333
         ],
         "y": [
          0.05,
          0.05,
          0.05,
          0.05,
          0.05,
          0.05,
          0.05,
          0.05,
          0.05,
          0.05,
          0.05,
          0.05,
          0.05,
          0.05,
          0.05,
          0.05,
          0.05,
          0.05,
          0.05,
          0.05,
          0.05,
          0.05,
          0.05,
          0.05,
          0.05,
          0.05,
          0.05,
          0.05,
          0.05,
          0.05
         ],
         "z": [
          0.05,
          0.05,
          0.05,
          0.05,
          0.05,
          0.05,
          0.05,
          0.05,
          0.05,
          0.05,
          0.05,
          0.05,
          0.05,
          0.05,
          0.05,
          0.05,
          0.05,
          0.05,
          0.05,
          0.05,
          0.05,
          0.05,
          0.05,
          0.05,
          0.05,
          0.05,
          0.05,
          0.05,
          0.05,
          0.05
         ]
        }
       ],
       "layout": {
        "template": {
         "data": {
          "bar": [
           {
            "error_x": {
             "color": "#2a3f5f"
            },
            "error_y": {
             "color": "#2a3f5f"
            },
            "marker": {
             "line": {
              "color": "#E5ECF6",
              "width": 0.5
             }
            },
            "type": "bar"
           }
          ],
          "barpolar": [
           {
            "marker": {
             "line": {
              "color": "#E5ECF6",
              "width": 0.5
             }
            },
            "type": "barpolar"
           }
          ],
          "carpet": [
           {
            "aaxis": {
             "endlinecolor": "#2a3f5f",
             "gridcolor": "white",
             "linecolor": "white",
             "minorgridcolor": "white",
             "startlinecolor": "#2a3f5f"
            },
            "baxis": {
             "endlinecolor": "#2a3f5f",
             "gridcolor": "white",
             "linecolor": "white",
             "minorgridcolor": "white",
             "startlinecolor": "#2a3f5f"
            },
            "type": "carpet"
           }
          ],
          "choropleth": [
           {
            "colorbar": {
             "outlinewidth": 0,
             "ticks": ""
            },
            "type": "choropleth"
           }
          ],
          "contour": [
           {
            "colorbar": {
             "outlinewidth": 0,
             "ticks": ""
            },
            "colorscale": [
             [
              0,
              "#0d0887"
             ],
             [
              0.1111111111111111,
              "#46039f"
             ],
             [
              0.2222222222222222,
              "#7201a8"
             ],
             [
              0.3333333333333333,
              "#9c179e"
             ],
             [
              0.4444444444444444,
              "#bd3786"
             ],
             [
              0.5555555555555556,
              "#d8576b"
             ],
             [
              0.6666666666666666,
              "#ed7953"
             ],
             [
              0.7777777777777778,
              "#fb9f3a"
             ],
             [
              0.8888888888888888,
              "#fdca26"
             ],
             [
              1,
              "#f0f921"
             ]
            ],
            "type": "contour"
           }
          ],
          "contourcarpet": [
           {
            "colorbar": {
             "outlinewidth": 0,
             "ticks": ""
            },
            "type": "contourcarpet"
           }
          ],
          "heatmap": [
           {
            "colorbar": {
             "outlinewidth": 0,
             "ticks": ""
            },
            "colorscale": [
             [
              0,
              "#0d0887"
             ],
             [
              0.1111111111111111,
              "#46039f"
             ],
             [
              0.2222222222222222,
              "#7201a8"
             ],
             [
              0.3333333333333333,
              "#9c179e"
             ],
             [
              0.4444444444444444,
              "#bd3786"
             ],
             [
              0.5555555555555556,
              "#d8576b"
             ],
             [
              0.6666666666666666,
              "#ed7953"
             ],
             [
              0.7777777777777778,
              "#fb9f3a"
             ],
             [
              0.8888888888888888,
              "#fdca26"
             ],
             [
              1,
              "#f0f921"
             ]
            ],
            "type": "heatmap"
           }
          ],
          "heatmapgl": [
           {
            "colorbar": {
             "outlinewidth": 0,
             "ticks": ""
            },
            "colorscale": [
             [
              0,
              "#0d0887"
             ],
             [
              0.1111111111111111,
              "#46039f"
             ],
             [
              0.2222222222222222,
              "#7201a8"
             ],
             [
              0.3333333333333333,
              "#9c179e"
             ],
             [
              0.4444444444444444,
              "#bd3786"
             ],
             [
              0.5555555555555556,
              "#d8576b"
             ],
             [
              0.6666666666666666,
              "#ed7953"
             ],
             [
              0.7777777777777778,
              "#fb9f3a"
             ],
             [
              0.8888888888888888,
              "#fdca26"
             ],
             [
              1,
              "#f0f921"
             ]
            ],
            "type": "heatmapgl"
           }
          ],
          "histogram": [
           {
            "marker": {
             "colorbar": {
              "outlinewidth": 0,
              "ticks": ""
             }
            },
            "type": "histogram"
           }
          ],
          "histogram2d": [
           {
            "colorbar": {
             "outlinewidth": 0,
             "ticks": ""
            },
            "colorscale": [
             [
              0,
              "#0d0887"
             ],
             [
              0.1111111111111111,
              "#46039f"
             ],
             [
              0.2222222222222222,
              "#7201a8"
             ],
             [
              0.3333333333333333,
              "#9c179e"
             ],
             [
              0.4444444444444444,
              "#bd3786"
             ],
             [
              0.5555555555555556,
              "#d8576b"
             ],
             [
              0.6666666666666666,
              "#ed7953"
             ],
             [
              0.7777777777777778,
              "#fb9f3a"
             ],
             [
              0.8888888888888888,
              "#fdca26"
             ],
             [
              1,
              "#f0f921"
             ]
            ],
            "type": "histogram2d"
           }
          ],
          "histogram2dcontour": [
           {
            "colorbar": {
             "outlinewidth": 0,
             "ticks": ""
            },
            "colorscale": [
             [
              0,
              "#0d0887"
             ],
             [
              0.1111111111111111,
              "#46039f"
             ],
             [
              0.2222222222222222,
              "#7201a8"
             ],
             [
              0.3333333333333333,
              "#9c179e"
             ],
             [
              0.4444444444444444,
              "#bd3786"
             ],
             [
              0.5555555555555556,
              "#d8576b"
             ],
             [
              0.6666666666666666,
              "#ed7953"
             ],
             [
              0.7777777777777778,
              "#fb9f3a"
             ],
             [
              0.8888888888888888,
              "#fdca26"
             ],
             [
              1,
              "#f0f921"
             ]
            ],
            "type": "histogram2dcontour"
           }
          ],
          "mesh3d": [
           {
            "colorbar": {
             "outlinewidth": 0,
             "ticks": ""
            },
            "type": "mesh3d"
           }
          ],
          "parcoords": [
           {
            "line": {
             "colorbar": {
              "outlinewidth": 0,
              "ticks": ""
             }
            },
            "type": "parcoords"
           }
          ],
          "pie": [
           {
            "automargin": true,
            "type": "pie"
           }
          ],
          "scatter": [
           {
            "marker": {
             "colorbar": {
              "outlinewidth": 0,
              "ticks": ""
             }
            },
            "type": "scatter"
           }
          ],
          "scatter3d": [
           {
            "line": {
             "colorbar": {
              "outlinewidth": 0,
              "ticks": ""
             }
            },
            "marker": {
             "colorbar": {
              "outlinewidth": 0,
              "ticks": ""
             }
            },
            "type": "scatter3d"
           }
          ],
          "scattercarpet": [
           {
            "marker": {
             "colorbar": {
              "outlinewidth": 0,
              "ticks": ""
             }
            },
            "type": "scattercarpet"
           }
          ],
          "scattergeo": [
           {
            "marker": {
             "colorbar": {
              "outlinewidth": 0,
              "ticks": ""
             }
            },
            "type": "scattergeo"
           }
          ],
          "scattergl": [
           {
            "marker": {
             "colorbar": {
              "outlinewidth": 0,
              "ticks": ""
             }
            },
            "type": "scattergl"
           }
          ],
          "scattermapbox": [
           {
            "marker": {
             "colorbar": {
              "outlinewidth": 0,
              "ticks": ""
             }
            },
            "type": "scattermapbox"
           }
          ],
          "scatterpolar": [
           {
            "marker": {
             "colorbar": {
              "outlinewidth": 0,
              "ticks": ""
             }
            },
            "type": "scatterpolar"
           }
          ],
          "scatterpolargl": [
           {
            "marker": {
             "colorbar": {
              "outlinewidth": 0,
              "ticks": ""
             }
            },
            "type": "scatterpolargl"
           }
          ],
          "scatterternary": [
           {
            "marker": {
             "colorbar": {
              "outlinewidth": 0,
              "ticks": ""
             }
            },
            "type": "scatterternary"
           }
          ],
          "surface": [
           {
            "colorbar": {
             "outlinewidth": 0,
             "ticks": ""
            },
            "colorscale": [
             [
              0,
              "#0d0887"
             ],
             [
              0.1111111111111111,
              "#46039f"
             ],
             [
              0.2222222222222222,
              "#7201a8"
             ],
             [
              0.3333333333333333,
              "#9c179e"
             ],
             [
              0.4444444444444444,
              "#bd3786"
             ],
             [
              0.5555555555555556,
              "#d8576b"
             ],
             [
              0.6666666666666666,
              "#ed7953"
             ],
             [
              0.7777777777777778,
              "#fb9f3a"
             ],
             [
              0.8888888888888888,
              "#fdca26"
             ],
             [
              1,
              "#f0f921"
             ]
            ],
            "type": "surface"
           }
          ],
          "table": [
           {
            "cells": {
             "fill": {
              "color": "#EBF0F8"
             },
             "line": {
              "color": "white"
             }
            },
            "header": {
             "fill": {
              "color": "#C8D4E3"
             },
             "line": {
              "color": "white"
             }
            },
            "type": "table"
           }
          ]
         },
         "layout": {
          "annotationdefaults": {
           "arrowcolor": "#2a3f5f",
           "arrowhead": 0,
           "arrowwidth": 1
          },
          "autotypenumbers": "strict",
          "coloraxis": {
           "colorbar": {
            "outlinewidth": 0,
            "ticks": ""
           }
          },
          "colorscale": {
           "diverging": [
            [
             0,
             "#8e0152"
            ],
            [
             0.1,
             "#c51b7d"
            ],
            [
             0.2,
             "#de77ae"
            ],
            [
             0.3,
             "#f1b6da"
            ],
            [
             0.4,
             "#fde0ef"
            ],
            [
             0.5,
             "#f7f7f7"
            ],
            [
             0.6,
             "#e6f5d0"
            ],
            [
             0.7,
             "#b8e186"
            ],
            [
             0.8,
             "#7fbc41"
            ],
            [
             0.9,
             "#4d9221"
            ],
            [
             1,
             "#276419"
            ]
           ],
           "sequential": [
            [
             0,
             "#0d0887"
            ],
            [
             0.1111111111111111,
             "#46039f"
            ],
            [
             0.2222222222222222,
             "#7201a8"
            ],
            [
             0.3333333333333333,
             "#9c179e"
            ],
            [
             0.4444444444444444,
             "#bd3786"
            ],
            [
             0.5555555555555556,
             "#d8576b"
            ],
            [
             0.6666666666666666,
             "#ed7953"
            ],
            [
             0.7777777777777778,
             "#fb9f3a"
            ],
            [
             0.8888888888888888,
             "#fdca26"
            ],
            [
             1,
             "#f0f921"
            ]
           ],
           "sequentialminus": [
            [
             0,
             "#0d0887"
            ],
            [
             0.1111111111111111,
             "#46039f"
            ],
            [
             0.2222222222222222,
             "#7201a8"
            ],
            [
             0.3333333333333333,
             "#9c179e"
            ],
            [
             0.4444444444444444,
             "#bd3786"
            ],
            [
             0.5555555555555556,
             "#d8576b"
            ],
            [
             0.6666666666666666,
             "#ed7953"
            ],
            [
             0.7777777777777778,
             "#fb9f3a"
            ],
            [
             0.8888888888888888,
             "#fdca26"
            ],
            [
             1,
             "#f0f921"
            ]
           ]
          },
          "colorway": [
           "#636efa",
           "#EF553B",
           "#00cc96",
           "#ab63fa",
           "#FFA15A",
           "#19d3f3",
           "#FF6692",
           "#B6E880",
           "#FF97FF",
           "#FECB52"
          ],
          "font": {
           "color": "#2a3f5f"
          },
          "geo": {
           "bgcolor": "white",
           "lakecolor": "white",
           "landcolor": "#E5ECF6",
           "showlakes": true,
           "showland": true,
           "subunitcolor": "white"
          },
          "hoverlabel": {
           "align": "left"
          },
          "hovermode": "closest",
          "mapbox": {
           "style": "light"
          },
          "paper_bgcolor": "white",
          "plot_bgcolor": "#E5ECF6",
          "polar": {
           "angularaxis": {
            "gridcolor": "white",
            "linecolor": "white",
            "ticks": ""
           },
           "bgcolor": "#E5ECF6",
           "radialaxis": {
            "gridcolor": "white",
            "linecolor": "white",
            "ticks": ""
           }
          },
          "scene": {
           "xaxis": {
            "backgroundcolor": "#E5ECF6",
            "gridcolor": "white",
            "gridwidth": 2,
            "linecolor": "white",
            "showbackground": true,
            "ticks": "",
            "zerolinecolor": "white"
           },
           "yaxis": {
            "backgroundcolor": "#E5ECF6",
            "gridcolor": "white",
            "gridwidth": 2,
            "linecolor": "white",
            "showbackground": true,
            "ticks": "",
            "zerolinecolor": "white"
           },
           "zaxis": {
            "backgroundcolor": "#E5ECF6",
            "gridcolor": "white",
            "gridwidth": 2,
            "linecolor": "white",
            "showbackground": true,
            "ticks": "",
            "zerolinecolor": "white"
           }
          },
          "shapedefaults": {
           "line": {
            "color": "#2a3f5f"
           }
          },
          "ternary": {
           "aaxis": {
            "gridcolor": "white",
            "linecolor": "white",
            "ticks": ""
           },
           "baxis": {
            "gridcolor": "white",
            "linecolor": "white",
            "ticks": ""
           },
           "bgcolor": "#E5ECF6",
           "caxis": {
            "gridcolor": "white",
            "linecolor": "white",
            "ticks": ""
           }
          },
          "title": {
           "x": 0.05
          },
          "xaxis": {
           "automargin": true,
           "gridcolor": "white",
           "linecolor": "white",
           "ticks": "",
           "title": {
            "standoff": 15
           },
           "zerolinecolor": "white",
           "zerolinewidth": 2
          },
          "yaxis": {
           "automargin": true,
           "gridcolor": "white",
           "linecolor": "white",
           "ticks": "",
           "title": {
            "standoff": 15
           },
           "zerolinecolor": "white",
           "zerolinewidth": 2
          }
         }
        }
       }
      },
      "text/html": [
       "<div>                            <div id=\"4be6c1ae-1691-4652-b218-1a84daed0ee3\" class=\"plotly-graph-div\" style=\"height:525px; width:100%;\"></div>            <script type=\"text/javascript\">                require([\"plotly\"], function(Plotly) {                    window.PLOTLYENV=window.PLOTLYENV || {};                                    if (document.getElementById(\"4be6c1ae-1691-4652-b218-1a84daed0ee3\")) {                    Plotly.newPlot(                        \"4be6c1ae-1691-4652-b218-1a84daed0ee3\",                        [{\"marker\": {\"color\": [\"white\", \"white\", \"white\", \"white\", \"white\", \"white\", \"white\", \"white\", \"white\", \"white\", \"white\", \"white\", \"white\", \"white\", \"white\", \"white\", \"white\", \"white\", \"white\", \"white\", \"white\", \"white\", \"white\", \"white\", \"white\", \"white\", \"white\", \"white\", \"white\", \"white\", \"white\", \"white\", \"white\", \"white\", \"white\", \"white\", \"white\", \"white\", \"white\", \"white\", \"white\", \"white\", \"white\", \"white\", \"white\", \"white\", \"white\", \"white\", \"white\", \"white\", \"white\", \"white\", \"white\", \"white\", \"white\", \"white\", \"white\", \"white\", \"white\", \"white\", \"darkturquoise\", \"darkturquoise\", \"white\", \"white\", \"white\", \"white\", \"white\", \"white\", \"white\", \"white\", \"white\", \"white\", \"white\", \"white\", \"white\", \"white\", \"white\", \"white\", \"white\", \"white\", \"white\", \"white\", \"white\", \"white\", \"white\", \"white\", \"white\", \"white\", \"white\", \"white\", \"white\", \"white\", \"white\", \"white\", \"white\", \"white\", \"white\", \"white\", \"white\", \"white\", \"white\", \"white\", \"white\", \"white\", \"white\", \"white\", \"white\", \"white\", \"white\", \"white\", \"white\", \"white\", \"white\", \"white\", \"white\", \"white\", \"white\", \"white\", \"white\", \"white\", \"white\", \"white\"], \"size\": 2, \"symbol\": \"square\"}, \"mode\": \"markers\", \"type\": \"scatter3d\", \"x\": [0.016666666666666666, 0.05, 0.08333333333333333, 0.11666666666666667, 0.15, 0.18333333333333332, 0.21666666666666667, 0.25, 0.2833333333333333, 0.31666666666666665, 0.35, 0.3833333333333333, 0.4166666666666667, 0.45, 0.48333333333333334, 0.5166666666666667, 0.55, 0.5833333333333334, 0.6166666666666667, 0.65, 0.6833333333333333, 0.7166666666666667, 0.75, 0.7833333333333333, 0.8166666666666668, 0.8500000000000001, 0.8833333333333334, 0.9166666666666667, 0.9500000000000001, 0.9833333333333333, 0.016666666666666666, 0.05, 0.08333333333333333, 0.11666666666666667, 0.15, 0.18333333333333332, 0.21666666666666667, 0.25, 0.2833333333333333, 0.31666666666666665, 0.35, 0.3833333333333333, 0.4166666666666667, 0.45, 0.48333333333333334, 0.5166666666666667, 0.55, 0.5833333333333334, 0.6166666666666667, 0.65, 0.6833333333333333, 0.7166666666666667, 0.75, 0.7833333333333333, 0.8166666666666668, 0.8500000000000001, 0.8833333333333334, 0.9166666666666667, 0.9500000000000001, 0.9833333333333333, 0.0, 1.0, 0.016666666666666666, 0.05, 0.08333333333333333, 0.11666666666666667, 0.15, 0.18333333333333332, 0.21666666666666667, 0.25, 0.2833333333333333, 0.31666666666666665, 0.35, 0.3833333333333333, 0.4166666666666667, 0.45, 0.48333333333333334, 0.5166666666666667, 0.55, 0.5833333333333334, 0.6166666666666667, 0.65, 0.6833333333333333, 0.7166666666666667, 0.75, 0.7833333333333333, 0.8166666666666668, 0.8500000000000001, 0.8833333333333334, 0.9166666666666667, 0.9500000000000001, 0.9833333333333333, 0.016666666666666666, 0.05, 0.08333333333333333, 0.11666666666666667, 0.15, 0.18333333333333332, 0.21666666666666667, 0.25, 0.2833333333333333, 0.31666666666666665, 0.35, 0.3833333333333333, 0.4166666666666667, 0.45, 0.48333333333333334, 0.5166666666666667, 0.55, 0.5833333333333334, 0.6166666666666667, 0.65, 0.6833333333333333, 0.7166666666666667, 0.75, 0.7833333333333333, 0.8166666666666668, 0.8500000000000001, 0.8833333333333334, 0.9166666666666667, 0.9500000000000001, 0.9833333333333333], \"y\": [0.05, 0.05, 0.05, 0.05, 0.05, 0.05, 0.05, 0.05, 0.05, 0.05, 0.05, 0.05, 0.05, 0.05, 0.05, 0.05, 0.05, 0.05, 0.05, 0.05, 0.05, 0.05, 0.05, 0.05, 0.05, 0.05, 0.05, 0.05, 0.05, 0.05, 0.0, 0.0, 0.0, 0.0, 0.0, 0.0, 0.0, 0.0, 0.0, 0.0, 0.0, 0.0, 0.0, 0.0, 0.0, 0.0, 0.0, 0.0, 0.0, 0.0, 0.0, 0.0, 0.0, 0.0, 0.0, 0.0, 0.0, 0.0, 0.0, 0.0, 0.05, 0.05, 0.1, 0.1, 0.1, 0.1, 0.1, 0.1, 0.1, 0.1, 0.1, 0.1, 0.1, 0.1, 0.1, 0.1, 0.1, 0.1, 0.1, 0.1, 0.1, 0.1, 0.1, 0.1, 0.1, 0.1, 0.1, 0.1, 0.1, 0.1, 0.1, 0.1, 0.05, 0.05, 0.05, 0.05, 0.05, 0.05, 0.05, 0.05, 0.05, 0.05, 0.05, 0.05, 0.05, 0.05, 0.05, 0.05, 0.05, 0.05, 0.05, 0.05, 0.05, 0.05, 0.05, 0.05, 0.05, 0.05, 0.05, 0.05, 0.05, 0.05], \"z\": [0.0, 0.0, 0.0, 0.0, 0.0, 0.0, 0.0, 0.0, 0.0, 0.0, 0.0, 0.0, 0.0, 0.0, 0.0, 0.0, 0.0, 0.0, 0.0, 0.0, 0.0, 0.0, 0.0, 0.0, 0.0, 0.0, 0.0, 0.0, 0.0, 0.0, 0.05, 0.05, 0.05, 0.05, 0.05, 0.05, 0.05, 0.05, 0.05, 0.05, 0.05, 0.05, 0.05, 0.05, 0.05, 0.05, 0.05, 0.05, 0.05, 0.05, 0.05, 0.05, 0.05, 0.05, 0.05, 0.05, 0.05, 0.05, 0.05, 0.05, 0.05, 0.05, 0.05, 0.05, 0.05, 0.05, 0.05, 0.05, 0.05, 0.05, 0.05, 0.05, 0.05, 0.05, 0.05, 0.05, 0.05, 0.05, 0.05, 0.05, 0.05, 0.05, 0.05, 0.05, 0.05, 0.05, 0.05, 0.05, 0.05, 0.05, 0.05, 0.05, 0.1, 0.1, 0.1, 0.1, 0.1, 0.1, 0.1, 0.1, 0.1, 0.1, 0.1, 0.1, 0.1, 0.1, 0.1, 0.1, 0.1, 0.1, 0.1, 0.1, 0.1, 0.1, 0.1, 0.1, 0.1, 0.1, 0.1, 0.1, 0.1, 0.1]}, {\"marker\": {\"color\": \"blue\", \"size\": 5}, \"mode\": \"markers\", \"type\": \"scatter3d\", \"x\": [0.016666666666666666, 0.05, 0.08333333333333333, 0.11666666666666667, 0.15, 0.18333333333333332, 0.21666666666666667, 0.25, 0.2833333333333333, 0.31666666666666665, 0.35, 0.3833333333333333, 0.4166666666666667, 0.45, 0.48333333333333334, 0.5166666666666667, 0.55, 0.5833333333333334, 0.6166666666666667, 0.65, 0.6833333333333333, 0.7166666666666667, 0.75, 0.7833333333333333, 0.8166666666666668, 0.8500000000000001, 0.8833333333333334, 0.9166666666666667, 0.9500000000000001, 0.9833333333333333], \"y\": [0.05, 0.05, 0.05, 0.05, 0.05, 0.05, 0.05, 0.05, 0.05, 0.05, 0.05, 0.05, 0.05, 0.05, 0.05, 0.05, 0.05, 0.05, 0.05, 0.05, 0.05, 0.05, 0.05, 0.05, 0.05, 0.05, 0.05, 0.05, 0.05, 0.05], \"z\": [0.05, 0.05, 0.05, 0.05, 0.05, 0.05, 0.05, 0.05, 0.05, 0.05, 0.05, 0.05, 0.05, 0.05, 0.05, 0.05, 0.05, 0.05, 0.05, 0.05, 0.05, 0.05, 0.05, 0.05, 0.05, 0.05, 0.05, 0.05, 0.05, 0.05]}],                        {\"template\": {\"data\": {\"bar\": [{\"error_x\": {\"color\": \"#2a3f5f\"}, \"error_y\": {\"color\": \"#2a3f5f\"}, \"marker\": {\"line\": {\"color\": \"#E5ECF6\", \"width\": 0.5}}, \"type\": \"bar\"}], \"barpolar\": [{\"marker\": {\"line\": {\"color\": \"#E5ECF6\", \"width\": 0.5}}, \"type\": \"barpolar\"}], \"carpet\": [{\"aaxis\": {\"endlinecolor\": \"#2a3f5f\", \"gridcolor\": \"white\", \"linecolor\": \"white\", \"minorgridcolor\": \"white\", \"startlinecolor\": \"#2a3f5f\"}, \"baxis\": {\"endlinecolor\": \"#2a3f5f\", \"gridcolor\": \"white\", \"linecolor\": \"white\", \"minorgridcolor\": \"white\", \"startlinecolor\": \"#2a3f5f\"}, \"type\": \"carpet\"}], \"choropleth\": [{\"colorbar\": {\"outlinewidth\": 0, \"ticks\": \"\"}, \"type\": \"choropleth\"}], \"contour\": [{\"colorbar\": {\"outlinewidth\": 0, \"ticks\": \"\"}, \"colorscale\": [[0.0, \"#0d0887\"], [0.1111111111111111, \"#46039f\"], [0.2222222222222222, \"#7201a8\"], [0.3333333333333333, \"#9c179e\"], [0.4444444444444444, \"#bd3786\"], [0.5555555555555556, \"#d8576b\"], [0.6666666666666666, \"#ed7953\"], [0.7777777777777778, \"#fb9f3a\"], [0.8888888888888888, \"#fdca26\"], [1.0, \"#f0f921\"]], \"type\": \"contour\"}], \"contourcarpet\": [{\"colorbar\": {\"outlinewidth\": 0, \"ticks\": \"\"}, \"type\": \"contourcarpet\"}], \"heatmap\": [{\"colorbar\": {\"outlinewidth\": 0, \"ticks\": \"\"}, \"colorscale\": [[0.0, \"#0d0887\"], [0.1111111111111111, \"#46039f\"], [0.2222222222222222, \"#7201a8\"], [0.3333333333333333, \"#9c179e\"], [0.4444444444444444, \"#bd3786\"], [0.5555555555555556, \"#d8576b\"], [0.6666666666666666, \"#ed7953\"], [0.7777777777777778, \"#fb9f3a\"], [0.8888888888888888, \"#fdca26\"], [1.0, \"#f0f921\"]], \"type\": \"heatmap\"}], \"heatmapgl\": [{\"colorbar\": {\"outlinewidth\": 0, \"ticks\": \"\"}, \"colorscale\": [[0.0, \"#0d0887\"], [0.1111111111111111, \"#46039f\"], [0.2222222222222222, \"#7201a8\"], [0.3333333333333333, \"#9c179e\"], [0.4444444444444444, \"#bd3786\"], [0.5555555555555556, \"#d8576b\"], [0.6666666666666666, \"#ed7953\"], [0.7777777777777778, \"#fb9f3a\"], [0.8888888888888888, \"#fdca26\"], [1.0, \"#f0f921\"]], \"type\": \"heatmapgl\"}], \"histogram\": [{\"marker\": {\"colorbar\": {\"outlinewidth\": 0, \"ticks\": \"\"}}, \"type\": \"histogram\"}], \"histogram2d\": [{\"colorbar\": {\"outlinewidth\": 0, \"ticks\": \"\"}, \"colorscale\": [[0.0, \"#0d0887\"], [0.1111111111111111, \"#46039f\"], [0.2222222222222222, \"#7201a8\"], [0.3333333333333333, \"#9c179e\"], [0.4444444444444444, \"#bd3786\"], [0.5555555555555556, \"#d8576b\"], [0.6666666666666666, \"#ed7953\"], [0.7777777777777778, \"#fb9f3a\"], [0.8888888888888888, \"#fdca26\"], [1.0, \"#f0f921\"]], \"type\": \"histogram2d\"}], \"histogram2dcontour\": [{\"colorbar\": {\"outlinewidth\": 0, \"ticks\": \"\"}, \"colorscale\": [[0.0, \"#0d0887\"], [0.1111111111111111, \"#46039f\"], [0.2222222222222222, \"#7201a8\"], [0.3333333333333333, \"#9c179e\"], [0.4444444444444444, \"#bd3786\"], [0.5555555555555556, \"#d8576b\"], [0.6666666666666666, \"#ed7953\"], [0.7777777777777778, \"#fb9f3a\"], [0.8888888888888888, \"#fdca26\"], [1.0, \"#f0f921\"]], \"type\": \"histogram2dcontour\"}], \"mesh3d\": [{\"colorbar\": {\"outlinewidth\": 0, \"ticks\": \"\"}, \"type\": \"mesh3d\"}], \"parcoords\": [{\"line\": {\"colorbar\": {\"outlinewidth\": 0, \"ticks\": \"\"}}, \"type\": \"parcoords\"}], \"pie\": [{\"automargin\": true, \"type\": \"pie\"}], \"scatter\": [{\"marker\": {\"colorbar\": {\"outlinewidth\": 0, \"ticks\": \"\"}}, \"type\": \"scatter\"}], \"scatter3d\": [{\"line\": {\"colorbar\": {\"outlinewidth\": 0, \"ticks\": \"\"}}, \"marker\": {\"colorbar\": {\"outlinewidth\": 0, \"ticks\": \"\"}}, \"type\": \"scatter3d\"}], \"scattercarpet\": [{\"marker\": {\"colorbar\": {\"outlinewidth\": 0, \"ticks\": \"\"}}, \"type\": \"scattercarpet\"}], \"scattergeo\": [{\"marker\": {\"colorbar\": {\"outlinewidth\": 0, \"ticks\": \"\"}}, \"type\": \"scattergeo\"}], \"scattergl\": [{\"marker\": {\"colorbar\": {\"outlinewidth\": 0, \"ticks\": \"\"}}, \"type\": \"scattergl\"}], \"scattermapbox\": [{\"marker\": {\"colorbar\": {\"outlinewidth\": 0, \"ticks\": \"\"}}, \"type\": \"scattermapbox\"}], \"scatterpolar\": [{\"marker\": {\"colorbar\": {\"outlinewidth\": 0, \"ticks\": \"\"}}, \"type\": \"scatterpolar\"}], \"scatterpolargl\": [{\"marker\": {\"colorbar\": {\"outlinewidth\": 0, \"ticks\": \"\"}}, \"type\": \"scatterpolargl\"}], \"scatterternary\": [{\"marker\": {\"colorbar\": {\"outlinewidth\": 0, \"ticks\": \"\"}}, \"type\": \"scatterternary\"}], \"surface\": [{\"colorbar\": {\"outlinewidth\": 0, \"ticks\": \"\"}, \"colorscale\": [[0.0, \"#0d0887\"], [0.1111111111111111, \"#46039f\"], [0.2222222222222222, \"#7201a8\"], [0.3333333333333333, \"#9c179e\"], [0.4444444444444444, \"#bd3786\"], [0.5555555555555556, \"#d8576b\"], [0.6666666666666666, \"#ed7953\"], [0.7777777777777778, \"#fb9f3a\"], [0.8888888888888888, \"#fdca26\"], [1.0, \"#f0f921\"]], \"type\": \"surface\"}], \"table\": [{\"cells\": {\"fill\": {\"color\": \"#EBF0F8\"}, \"line\": {\"color\": \"white\"}}, \"header\": {\"fill\": {\"color\": \"#C8D4E3\"}, \"line\": {\"color\": \"white\"}}, \"type\": \"table\"}]}, \"layout\": {\"annotationdefaults\": {\"arrowcolor\": \"#2a3f5f\", \"arrowhead\": 0, \"arrowwidth\": 1}, \"autotypenumbers\": \"strict\", \"coloraxis\": {\"colorbar\": {\"outlinewidth\": 0, \"ticks\": \"\"}}, \"colorscale\": {\"diverging\": [[0, \"#8e0152\"], [0.1, \"#c51b7d\"], [0.2, \"#de77ae\"], [0.3, \"#f1b6da\"], [0.4, \"#fde0ef\"], [0.5, \"#f7f7f7\"], [0.6, \"#e6f5d0\"], [0.7, \"#b8e186\"], [0.8, \"#7fbc41\"], [0.9, \"#4d9221\"], [1, \"#276419\"]], \"sequential\": [[0.0, \"#0d0887\"], [0.1111111111111111, \"#46039f\"], [0.2222222222222222, \"#7201a8\"], [0.3333333333333333, \"#9c179e\"], [0.4444444444444444, \"#bd3786\"], [0.5555555555555556, \"#d8576b\"], [0.6666666666666666, \"#ed7953\"], [0.7777777777777778, \"#fb9f3a\"], [0.8888888888888888, \"#fdca26\"], [1.0, \"#f0f921\"]], \"sequentialminus\": [[0.0, \"#0d0887\"], [0.1111111111111111, \"#46039f\"], [0.2222222222222222, \"#7201a8\"], [0.3333333333333333, \"#9c179e\"], [0.4444444444444444, \"#bd3786\"], [0.5555555555555556, \"#d8576b\"], [0.6666666666666666, \"#ed7953\"], [0.7777777777777778, \"#fb9f3a\"], [0.8888888888888888, \"#fdca26\"], [1.0, \"#f0f921\"]]}, \"colorway\": [\"#636efa\", \"#EF553B\", \"#00cc96\", \"#ab63fa\", \"#FFA15A\", \"#19d3f3\", \"#FF6692\", \"#B6E880\", \"#FF97FF\", \"#FECB52\"], \"font\": {\"color\": \"#2a3f5f\"}, \"geo\": {\"bgcolor\": \"white\", \"lakecolor\": \"white\", \"landcolor\": \"#E5ECF6\", \"showlakes\": true, \"showland\": true, \"subunitcolor\": \"white\"}, \"hoverlabel\": {\"align\": \"left\"}, \"hovermode\": \"closest\", \"mapbox\": {\"style\": \"light\"}, \"paper_bgcolor\": \"white\", \"plot_bgcolor\": \"#E5ECF6\", \"polar\": {\"angularaxis\": {\"gridcolor\": \"white\", \"linecolor\": \"white\", \"ticks\": \"\"}, \"bgcolor\": \"#E5ECF6\", \"radialaxis\": {\"gridcolor\": \"white\", \"linecolor\": \"white\", \"ticks\": \"\"}}, \"scene\": {\"xaxis\": {\"backgroundcolor\": \"#E5ECF6\", \"gridcolor\": \"white\", \"gridwidth\": 2, \"linecolor\": \"white\", \"showbackground\": true, \"ticks\": \"\", \"zerolinecolor\": \"white\"}, \"yaxis\": {\"backgroundcolor\": \"#E5ECF6\", \"gridcolor\": \"white\", \"gridwidth\": 2, \"linecolor\": \"white\", \"showbackground\": true, \"ticks\": \"\", \"zerolinecolor\": \"white\"}, \"zaxis\": {\"backgroundcolor\": \"#E5ECF6\", \"gridcolor\": \"white\", \"gridwidth\": 2, \"linecolor\": \"white\", \"showbackground\": true, \"ticks\": \"\", \"zerolinecolor\": \"white\"}}, \"shapedefaults\": {\"line\": {\"color\": \"#2a3f5f\"}}, \"ternary\": {\"aaxis\": {\"gridcolor\": \"white\", \"linecolor\": \"white\", \"ticks\": \"\"}, \"baxis\": {\"gridcolor\": \"white\", \"linecolor\": \"white\", \"ticks\": \"\"}, \"bgcolor\": \"#E5ECF6\", \"caxis\": {\"gridcolor\": \"white\", \"linecolor\": \"white\", \"ticks\": \"\"}}, \"title\": {\"x\": 0.05}, \"xaxis\": {\"automargin\": true, \"gridcolor\": \"white\", \"linecolor\": \"white\", \"ticks\": \"\", \"title\": {\"standoff\": 15}, \"zerolinecolor\": \"white\", \"zerolinewidth\": 2}, \"yaxis\": {\"automargin\": true, \"gridcolor\": \"white\", \"linecolor\": \"white\", \"ticks\": \"\", \"title\": {\"standoff\": 15}, \"zerolinecolor\": \"white\", \"zerolinewidth\": 2}}}},                        {\"responsive\": true}                    ).then(function(){\n",
       "                            \n",
       "var gd = document.getElementById('4be6c1ae-1691-4652-b218-1a84daed0ee3');\n",
       "var x = new MutationObserver(function (mutations, observer) {{\n",
       "        var display = window.getComputedStyle(gd).display;\n",
       "        if (!display || display === 'none') {{\n",
       "            console.log([gd, 'removed!']);\n",
       "            Plotly.purge(gd);\n",
       "            observer.disconnect();\n",
       "        }}\n",
       "}});\n",
       "\n",
       "// Listen for the removal of the full notebook cells\n",
       "var notebookContainer = gd.closest('#notebook-container');\n",
       "if (notebookContainer) {{\n",
       "    x.observe(notebookContainer, {childList: true});\n",
       "}}\n",
       "\n",
       "// Listen for the clearing of the current output cell\n",
       "var outputEl = gd.closest('.output');\n",
       "if (outputEl) {{\n",
       "    x.observe(outputEl, {childList: true});\n",
       "}}\n",
       "\n",
       "                        })                };                });            </script>        </div>"
      ]
     },
     "metadata": {},
     "output_type": "display_data"
    }
   ],
   "source": [
    "# ------------Mesh definition and border conditions ----\n",
    "malla = Mesh(1, volumes=nx,lengths=(lx,0.1,0.1))\n",
    "#-------------Definimos fronteras ----------\n",
    "malla.tag_wall_dirichlet('W',TA)\n",
    "malla.tag_wall_dirichlet('E',TB)\n",
    "malla.draw()"
   ]
  },
  {
   "cell_type": "code",
   "execution_count": 444,
   "metadata": {},
   "outputs": [
    {
     "name": "stdout",
     "output_type": "stream",
     "text": [
      "(1, 1, 1) [[[1.]]]\n",
      "Dirichlet\n",
      "0\n",
      "ravel:  [1.]\n",
      "[0.0]\n",
      "(1, 1, 1) [[[1.]]]\n",
      "Dirichlet\n",
      "0\n",
      "ravel:  [1.]\n",
      "[0.0]\n",
      "\n",
      "aP:\n",
      "[[[0.9]]\n",
      "\n",
      " [[0.6]]\n",
      "\n",
      " [[0.6]]\n",
      "\n",
      " [[0.6]]\n",
      "\n",
      " [[0.6]]\n",
      "\n",
      " [[0.6]]\n",
      "\n",
      " [[0.6]]\n",
      "\n",
      " [[0.6]]\n",
      "\n",
      " [[0.6]]\n",
      "\n",
      " [[0.6]]\n",
      "\n",
      " [[0.6]]\n",
      "\n",
      " [[0.6]]\n",
      "\n",
      " [[0.6]]\n",
      "\n",
      " [[0.6]]\n",
      "\n",
      " [[0.6]]\n",
      "\n",
      " [[0.6]]\n",
      "\n",
      " [[0.6]]\n",
      "\n",
      " [[0.6]]\n",
      "\n",
      " [[0.6]]\n",
      "\n",
      " [[0.6]]\n",
      "\n",
      " [[0.6]]\n",
      "\n",
      " [[0.6]]\n",
      "\n",
      " [[0.6]]\n",
      "\n",
      " [[0.6]]\n",
      "\n",
      " [[0.6]]\n",
      "\n",
      " [[0.6]]\n",
      "\n",
      " [[0.6]]\n",
      "\n",
      " [[0.6]]\n",
      "\n",
      " [[0.6]]\n",
      "\n",
      " [[0.9]]]\n",
      "\n",
      "Sp:\n",
      "[[[-0.6]]\n",
      "\n",
      " [[ 0. ]]\n",
      "\n",
      " [[ 0. ]]\n",
      "\n",
      " [[ 0. ]]\n",
      "\n",
      " [[ 0. ]]\n",
      "\n",
      " [[ 0. ]]\n",
      "\n",
      " [[ 0. ]]\n",
      "\n",
      " [[ 0. ]]\n",
      "\n",
      " [[ 0. ]]\n",
      "\n",
      " [[ 0. ]]\n",
      "\n",
      " [[ 0. ]]\n",
      "\n",
      " [[ 0. ]]\n",
      "\n",
      " [[ 0. ]]\n",
      "\n",
      " [[ 0. ]]\n",
      "\n",
      " [[ 0. ]]\n",
      "\n",
      " [[ 0. ]]\n",
      "\n",
      " [[ 0. ]]\n",
      "\n",
      " [[ 0. ]]\n",
      "\n",
      " [[ 0. ]]\n",
      "\n",
      " [[ 0. ]]\n",
      "\n",
      " [[ 0. ]]\n",
      "\n",
      " [[ 0. ]]\n",
      "\n",
      " [[ 0. ]]\n",
      "\n",
      " [[ 0. ]]\n",
      "\n",
      " [[ 0. ]]\n",
      "\n",
      " [[ 0. ]]\n",
      "\n",
      " [[ 0. ]]\n",
      "\n",
      " [[ 0. ]]\n",
      "\n",
      " [[ 0. ]]\n",
      "\n",
      " [[-0.6]]]\n",
      "\n",
      "aE:\n",
      "[[[-0.3]]\n",
      "\n",
      " [[-0.3]]\n",
      "\n",
      " [[-0.3]]\n",
      "\n",
      " [[-0.3]]\n",
      "\n",
      " [[-0.3]]\n",
      "\n",
      " [[-0.3]]\n",
      "\n",
      " [[-0.3]]\n",
      "\n",
      " [[-0.3]]\n",
      "\n",
      " [[-0.3]]\n",
      "\n",
      " [[-0.3]]\n",
      "\n",
      " [[-0.3]]\n",
      "\n",
      " [[-0.3]]\n",
      "\n",
      " [[-0.3]]\n",
      "\n",
      " [[-0.3]]\n",
      "\n",
      " [[-0.3]]\n",
      "\n",
      " [[-0.3]]\n",
      "\n",
      " [[-0.3]]\n",
      "\n",
      " [[-0.3]]\n",
      "\n",
      " [[-0.3]]\n",
      "\n",
      " [[-0.3]]\n",
      "\n",
      " [[-0.3]]\n",
      "\n",
      " [[-0.3]]\n",
      "\n",
      " [[-0.3]]\n",
      "\n",
      " [[-0.3]]\n",
      "\n",
      " [[-0.3]]\n",
      "\n",
      " [[-0.3]]\n",
      "\n",
      " [[-0.3]]\n",
      "\n",
      " [[-0.3]]\n",
      "\n",
      " [[-0.3]]\n",
      "\n",
      " [[ 0. ]]]\n",
      "\n",
      "aW:\n",
      "[[[ 0. ]]\n",
      "\n",
      " [[-0.3]]\n",
      "\n",
      " [[-0.3]]\n",
      "\n",
      " [[-0.3]]\n",
      "\n",
      " [[-0.3]]\n",
      "\n",
      " [[-0.3]]\n",
      "\n",
      " [[-0.3]]\n",
      "\n",
      " [[-0.3]]\n",
      "\n",
      " [[-0.3]]\n",
      "\n",
      " [[-0.3]]\n",
      "\n",
      " [[-0.3]]\n",
      "\n",
      " [[-0.3]]\n",
      "\n",
      " [[-0.3]]\n",
      "\n",
      " [[-0.3]]\n",
      "\n",
      " [[-0.3]]\n",
      "\n",
      " [[-0.3]]\n",
      "\n",
      " [[-0.3]]\n",
      "\n",
      " [[-0.3]]\n",
      "\n",
      " [[-0.3]]\n",
      "\n",
      " [[-0.3]]\n",
      "\n",
      " [[-0.3]]\n",
      "\n",
      " [[-0.3]]\n",
      "\n",
      " [[-0.3]]\n",
      "\n",
      " [[-0.3]]\n",
      "\n",
      " [[-0.3]]\n",
      "\n",
      " [[-0.3]]\n",
      "\n",
      " [[-0.3]]\n",
      "\n",
      " [[-0.3]]\n",
      "\n",
      " [[-0.3]]\n",
      "\n",
      " [[-0.3]]]\n",
      "\n",
      "Su:\n",
      "[[[0.]]\n",
      "\n",
      " [[0.]]\n",
      "\n",
      " [[0.]]\n",
      "\n",
      " [[0.]]\n",
      "\n",
      " [[0.]]\n",
      "\n",
      " [[0.]]\n",
      "\n",
      " [[0.]]\n",
      "\n",
      " [[0.]]\n",
      "\n",
      " [[0.]]\n",
      "\n",
      " [[0.]]\n",
      "\n",
      " [[0.]]\n",
      "\n",
      " [[0.]]\n",
      "\n",
      " [[0.]]\n",
      "\n",
      " [[0.]]\n",
      "\n",
      " [[0.]]\n",
      "\n",
      " [[0.]]\n",
      "\n",
      " [[0.]]\n",
      "\n",
      " [[0.]]\n",
      "\n",
      " [[0.]]\n",
      "\n",
      " [[0.]]\n",
      "\n",
      " [[0.]]\n",
      "\n",
      " [[0.]]\n",
      "\n",
      " [[0.]]\n",
      "\n",
      " [[0.]]\n",
      "\n",
      " [[0.]]\n",
      "\n",
      " [[0.]]\n",
      "\n",
      " [[0.]]\n",
      "\n",
      " [[0.]]\n",
      "\n",
      " [[0.]]\n",
      "\n",
      " [[0.]]]\n"
     ]
    }
   ],
   "source": [
    "#--- creamos el objeto coeficientes --------------------------\n",
    "coef = Coefficients(malla)\n",
    "coef.set_diffusion(k)\n",
    "print(\"\\naP:\")\n",
    "print(coef.get_aP())\n",
    "print(\"\\nSp:\")\n",
    "print(coef.get_Sp())\n",
    "print(\"\\naE:\")\n",
    "print(coef.get_aE())\n",
    "print(\"\\naW:\")\n",
    "print(coef.get_aW())\n",
    "print(\"\\nSu:\")\n",
    "print(coef.get_Su())"
   ]
  },
  {
   "cell_type": "code",
   "execution_count": 445,
   "metadata": {},
   "outputs": [],
   "source": [
    "coef.add_source(lambda x: -np.cos(x))"
   ]
  },
  {
   "cell_type": "code",
   "execution_count": 446,
   "metadata": {},
   "outputs": [
    {
     "name": "stdout",
     "output_type": "stream",
     "text": [
      "La matriz que representa el sistema de ecuaciones es:\n",
      " [[ 0.9 -0.3  0.   0.   0.   0.   0.   0.   0.   0.   0.   0.   0.   0.\n",
      "   0.   0.   0.   0.   0.   0.   0.   0.   0.   0.   0.   0.   0.   0.\n",
      "   0.   0. ]\n",
      " [-0.3  0.6 -0.3  0.   0.   0.   0.   0.   0.   0.   0.   0.   0.   0.\n",
      "   0.   0.   0.   0.   0.   0.   0.   0.   0.   0.   0.   0.   0.   0.\n",
      "   0.   0. ]\n",
      " [ 0.  -0.3  0.6 -0.3  0.   0.   0.   0.   0.   0.   0.   0.   0.   0.\n",
      "   0.   0.   0.   0.   0.   0.   0.   0.   0.   0.   0.   0.   0.   0.\n",
      "   0.   0. ]\n",
      " [ 0.   0.  -0.3  0.6 -0.3  0.   0.   0.   0.   0.   0.   0.   0.   0.\n",
      "   0.   0.   0.   0.   0.   0.   0.   0.   0.   0.   0.   0.   0.   0.\n",
      "   0.   0. ]\n",
      " [ 0.   0.   0.  -0.3  0.6 -0.3  0.   0.   0.   0.   0.   0.   0.   0.\n",
      "   0.   0.   0.   0.   0.   0.   0.   0.   0.   0.   0.   0.   0.   0.\n",
      "   0.   0. ]\n",
      " [ 0.   0.   0.   0.  -0.3  0.6 -0.3  0.   0.   0.   0.   0.   0.   0.\n",
      "   0.   0.   0.   0.   0.   0.   0.   0.   0.   0.   0.   0.   0.   0.\n",
      "   0.   0. ]\n",
      " [ 0.   0.   0.   0.   0.  -0.3  0.6 -0.3  0.   0.   0.   0.   0.   0.\n",
      "   0.   0.   0.   0.   0.   0.   0.   0.   0.   0.   0.   0.   0.   0.\n",
      "   0.   0. ]\n",
      " [ 0.   0.   0.   0.   0.   0.  -0.3  0.6 -0.3  0.   0.   0.   0.   0.\n",
      "   0.   0.   0.   0.   0.   0.   0.   0.   0.   0.   0.   0.   0.   0.\n",
      "   0.   0. ]\n",
      " [ 0.   0.   0.   0.   0.   0.   0.  -0.3  0.6 -0.3  0.   0.   0.   0.\n",
      "   0.   0.   0.   0.   0.   0.   0.   0.   0.   0.   0.   0.   0.   0.\n",
      "   0.   0. ]\n",
      " [ 0.   0.   0.   0.   0.   0.   0.   0.  -0.3  0.6 -0.3  0.   0.   0.\n",
      "   0.   0.   0.   0.   0.   0.   0.   0.   0.   0.   0.   0.   0.   0.\n",
      "   0.   0. ]\n",
      " [ 0.   0.   0.   0.   0.   0.   0.   0.   0.  -0.3  0.6 -0.3  0.   0.\n",
      "   0.   0.   0.   0.   0.   0.   0.   0.   0.   0.   0.   0.   0.   0.\n",
      "   0.   0. ]\n",
      " [ 0.   0.   0.   0.   0.   0.   0.   0.   0.   0.  -0.3  0.6 -0.3  0.\n",
      "   0.   0.   0.   0.   0.   0.   0.   0.   0.   0.   0.   0.   0.   0.\n",
      "   0.   0. ]\n",
      " [ 0.   0.   0.   0.   0.   0.   0.   0.   0.   0.   0.  -0.3  0.6 -0.3\n",
      "   0.   0.   0.   0.   0.   0.   0.   0.   0.   0.   0.   0.   0.   0.\n",
      "   0.   0. ]\n",
      " [ 0.   0.   0.   0.   0.   0.   0.   0.   0.   0.   0.   0.  -0.3  0.6\n",
      "  -0.3  0.   0.   0.   0.   0.   0.   0.   0.   0.   0.   0.   0.   0.\n",
      "   0.   0. ]\n",
      " [ 0.   0.   0.   0.   0.   0.   0.   0.   0.   0.   0.   0.   0.  -0.3\n",
      "   0.6 -0.3  0.   0.   0.   0.   0.   0.   0.   0.   0.   0.   0.   0.\n",
      "   0.   0. ]\n",
      " [ 0.   0.   0.   0.   0.   0.   0.   0.   0.   0.   0.   0.   0.   0.\n",
      "  -0.3  0.6 -0.3  0.   0.   0.   0.   0.   0.   0.   0.   0.   0.   0.\n",
      "   0.   0. ]\n",
      " [ 0.   0.   0.   0.   0.   0.   0.   0.   0.   0.   0.   0.   0.   0.\n",
      "   0.  -0.3  0.6 -0.3  0.   0.   0.   0.   0.   0.   0.   0.   0.   0.\n",
      "   0.   0. ]\n",
      " [ 0.   0.   0.   0.   0.   0.   0.   0.   0.   0.   0.   0.   0.   0.\n",
      "   0.   0.  -0.3  0.6 -0.3  0.   0.   0.   0.   0.   0.   0.   0.   0.\n",
      "   0.   0. ]\n",
      " [ 0.   0.   0.   0.   0.   0.   0.   0.   0.   0.   0.   0.   0.   0.\n",
      "   0.   0.   0.  -0.3  0.6 -0.3  0.   0.   0.   0.   0.   0.   0.   0.\n",
      "   0.   0. ]\n",
      " [ 0.   0.   0.   0.   0.   0.   0.   0.   0.   0.   0.   0.   0.   0.\n",
      "   0.   0.   0.   0.  -0.3  0.6 -0.3  0.   0.   0.   0.   0.   0.   0.\n",
      "   0.   0. ]\n",
      " [ 0.   0.   0.   0.   0.   0.   0.   0.   0.   0.   0.   0.   0.   0.\n",
      "   0.   0.   0.   0.   0.  -0.3  0.6 -0.3  0.   0.   0.   0.   0.   0.\n",
      "   0.   0. ]\n",
      " [ 0.   0.   0.   0.   0.   0.   0.   0.   0.   0.   0.   0.   0.   0.\n",
      "   0.   0.   0.   0.   0.   0.  -0.3  0.6 -0.3  0.   0.   0.   0.   0.\n",
      "   0.   0. ]\n",
      " [ 0.   0.   0.   0.   0.   0.   0.   0.   0.   0.   0.   0.   0.   0.\n",
      "   0.   0.   0.   0.   0.   0.   0.  -0.3  0.6 -0.3  0.   0.   0.   0.\n",
      "   0.   0. ]\n",
      " [ 0.   0.   0.   0.   0.   0.   0.   0.   0.   0.   0.   0.   0.   0.\n",
      "   0.   0.   0.   0.   0.   0.   0.   0.  -0.3  0.6 -0.3  0.   0.   0.\n",
      "   0.   0. ]\n",
      " [ 0.   0.   0.   0.   0.   0.   0.   0.   0.   0.   0.   0.   0.   0.\n",
      "   0.   0.   0.   0.   0.   0.   0.   0.   0.  -0.3  0.6 -0.3  0.   0.\n",
      "   0.   0. ]\n",
      " [ 0.   0.   0.   0.   0.   0.   0.   0.   0.   0.   0.   0.   0.   0.\n",
      "   0.   0.   0.   0.   0.   0.   0.   0.   0.   0.  -0.3  0.6 -0.3  0.\n",
      "   0.   0. ]\n",
      " [ 0.   0.   0.   0.   0.   0.   0.   0.   0.   0.   0.   0.   0.   0.\n",
      "   0.   0.   0.   0.   0.   0.   0.   0.   0.   0.   0.  -0.3  0.6 -0.3\n",
      "   0.   0. ]\n",
      " [ 0.   0.   0.   0.   0.   0.   0.   0.   0.   0.   0.   0.   0.   0.\n",
      "   0.   0.   0.   0.   0.   0.   0.   0.   0.   0.   0.   0.  -0.3  0.6\n",
      "  -0.3  0. ]\n",
      " [ 0.   0.   0.   0.   0.   0.   0.   0.   0.   0.   0.   0.   0.   0.\n",
      "   0.   0.   0.   0.   0.   0.   0.   0.   0.   0.   0.   0.   0.  -0.3\n",
      "   0.6 -0.3]\n",
      " [ 0.   0.   0.   0.   0.   0.   0.   0.   0.   0.   0.   0.   0.   0.\n",
      "   0.   0.   0.   0.   0.   0.   0.   0.   0.   0.   0.   0.   0.   0.\n",
      "  -0.3  0.9]]\n"
     ]
    }
   ],
   "source": [
    "sistema = EqSystem(coef)\n",
    "A = sistema.get_A_matrix()\n",
    "print(\"La matriz que representa el sistema de ecuaciones es:\\n\", A)"
   ]
  },
  {
   "cell_type": "code",
   "execution_count": 447,
   "metadata": {},
   "outputs": [
    {
     "name": "stdout",
     "output_type": "stream",
     "text": [
      "EL vector 'b' es:\n",
      "[-0.00033329 -0.00033292 -0.00033218 -0.00033107 -0.00032959 -0.00032775\n",
      " -0.00032554 -0.00032297 -0.00032004 -0.00031676 -0.00031312 -0.00030914\n",
      " -0.00030481 -0.00030015 -0.00029515 -0.00028982 -0.00028417 -0.00027821\n",
      " -0.00027194 -0.00026536 -0.00025849 -0.00025133 -0.0002439  -0.00023619\n",
      " -0.00022822 -0.00021999 -0.00021153 -0.00020282 -0.00019389 -0.00018475]\n"
     ]
    }
   ],
   "source": [
    "print(\"EL vector 'b' es:\")\n",
    "print(sistema.get_b_vector())"
   ]
  },
  {
   "cell_type": "code",
   "execution_count": 448,
   "metadata": {},
   "outputs": [
    {
     "name": "stdout",
     "output_type": "stream",
     "text": [
      "La solución es: [-0.00766127 -0.02187286 -0.03497473 -0.04696934 -0.0578604  -0.06765282\n",
      " -0.07635275 -0.08396754 -0.09050577 -0.09597719 -0.10039274 -0.10376455\n",
      " -0.10610588 -0.10743117 -0.10775596 -0.10709691 -0.10547179 -0.10289942\n",
      " -0.09939968 -0.09499348 -0.08970275 -0.08355038 -0.07656023 -0.06875709\n",
      " -0.06016666 -0.05081551 -0.04073104 -0.02994148 -0.01847584 -0.00636389]\n"
     ]
    }
   ],
   "source": [
    "print(f\"La solución es: {sistema.get_solution()}\")"
   ]
  },
  {
   "cell_type": "code",
   "execution_count": 449,
   "metadata": {},
   "outputs": [
    {
     "data": {
      "image/png": "[encoded data removed]",
      "text/plain": [
       "<Figure size 432x288 with 1 Axes>"
      ]
     },
     "metadata": {
      "needs_background": "light"
     },
     "output_type": "display_data"
    }
   ],
   "source": [
    "y = lambda x: 1 - np.cos(x) + (np.cos(1) - 1)*x\n",
    "x = np.linspace(0,1,nx)\n",
    "x1 = np.linspace(0,1,20)\n",
    "plt.plot(x1, y(x1))\n",
    "plt.plot(x, sistema.get_solution())\n",
    "plt.legend([\"Real\", \"Simulación\"])\n",
    "plt.show()"
   ]
  },
  {
   "cell_type": "markdown",
   "metadata": {},
   "source": [
    "[Volver al índice](#Índice)"
   ]
  }
 ],
 "metadata": {
  "@webio": {
   "lastCommId": null,
   "lastKernelId": null
  },
  "kernelspec": {
   "display_name": "Python 3",
   "language": "python",
   "name": "python3"
  },
  "language_info": {
   "codemirror_mode": {
    "name": "ipython",
    "version": 3
   },
   "file_extension": ".py",
   "mimetype": "text/x-python",
   "name": "python",
   "nbconvert_exporter": "python",
   "pygments_lexer": "ipython3",
   "version": "3.7.9"
  }
 },
 "nbformat": 4,
 "nbformat_minor": 4
}
