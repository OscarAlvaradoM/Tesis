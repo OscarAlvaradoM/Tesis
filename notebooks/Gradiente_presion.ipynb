{
 "cells": [
  {
   "cell_type": "markdown",
   "metadata": {},
   "source": [
    "# Pruebas del método de volumen finito\n",
    "- Óscar Alvarado\n",
    "- Oscar Esquivel\n",
    "- Jose Porras"
   ]
  },
  {
   "cell_type": "code",
   "execution_count": 4,
   "metadata": {},
   "outputs": [],
   "source": [
    "import numpy as np\n",
    "import plotly.graph_objects as go"
   ]
  },
  {
   "cell_type": "markdown",
   "metadata": {},
   "source": [
    "## Índice"
   ]
  },
  {
   "cell_type": "markdown",
   "metadata": {},
   "source": [
    "1. [Mallado](#Mallado)\n",
    "1. [Mallado escalonado](#Staggered-grids)\n",
    "1. [SIMPLE](#SIMPLE)\n",
    "2. [Coeficientes](#Coeficientes)\n",
    "3. [Difusión](#Difusión)\n",
    "4. [Convección](#Convección)\n",
    "5. [Sistema de ecuaciones](#Sistema-de-ecuaciones)\n",
    "9. [Presión y velocidad](#Presión-y-velocidad)\n",
    "    - [Una dimensión](#Una-dimensión-escalonado)\n",
    "    - [Dos dimensiones](#Dos-dimensiones-escalonado)"
   ]
  },
  {
   "cell_type": "markdown",
   "metadata": {},
   "source": [
    "## Mallado"
   ]
  },
  {
   "cell_type": "code",
   "execution_count": 95,
   "metadata": {},
   "outputs": [],
   "source": [
    "class Mesh():\n",
    "    \"\"\"\n",
    "    Class that defines the scalar mesh in which FVM will be apllied. This class contains methods for defining\n",
    "    borders, getting volumes/nodes positions, visualization of mesh, etc. The term volumes refers to points, \n",
    "    more specifically, the term volumes is used for the center of the volumes but the border nodes are not\n",
    "    included. The terms nodes acounts fot all the points (interior and border) of the mesh. For every node\n",
    "    there is a tag; the tags is an string beginning with I,D,N or S indicating whether the node is interior,\n",
    "    dirichlet, neumann or source, accordingly. The atributes that are lists or arrays that contains an element \n",
    "    for every node, like the 'tags' atribute, are sorted sweeping in the X, then Y an finally Z diretion;\n",
    "    e.g. tags=[tag1,tag2,tag3,tag4,tag5,...] corresponds to nodes coordinates sorted like [(1,1,1),(2,1,1),(3,1,1),(1,2,1),(2,2,1),...]\n",
    "    \"\"\"\n",
    "    \n",
    "    def __init__(self, dim, volumes = None, lengths = None):\n",
    "        \"\"\"\n",
    "        Constructor of the Mesh class. If the parameters 'volumes' and 'lengths' are given then \n",
    "        the instance atributes are defined assuming the mesh is uniform via the uniform_grid() method.\n",
    "        When volumes or lenghts are leaved as None then the domain nodes must be defined \n",
    "        using setDmonio() just after making the instance of the class.\n",
    "\n",
    "        dim: number of dimensions in the physical domain (int)\n",
    "        volumes: number of volumes in each dimension (tuple of ints or int)\n",
    "        lengths: lenght of domain in each dimension (tuple of ints or int)\n",
    "        \"\"\"\n",
    "\n",
    "        self.volumes = (1,1,1)\n",
    "        self.lengths = (0.01, 0.01, 0.01)\n",
    "\n",
    "        #----default values for positions and separations of the grid-------------\n",
    "        self.coords = [(0.005,) for _ in range(3)] # Coordenadas de los centros de los volúmenes\n",
    "        self.dominios = [tuple([0.]+[self.coords[i][0]]+[self.lengths[i]]) for i in range(3)]\n",
    "        self.deltas = [(0,) for _ in range(3)]\n",
    "        # Hasta aquí tenemos un cubito\n",
    "\n",
    "        self.__tags = {} # El etiquetado de todos los nodos sin fronteras\n",
    "        self.__tags_fronteras = {} # El etiquetado de las fronteras\n",
    "        \n",
    "        self.dim = dim\n",
    "        #---if a parameter is not a tuple, that parameter is transformed into a tuple\n",
    "        if isinstance(volumes, int):  self.volumes = (volumes, 1, 1)\n",
    "        if isinstance(lengths, (int, float)):  self.lengths = (lengths, lengths/10, lengths/10)\n",
    "        \n",
    "        # Si los parámetros son tuplas (pero no necesariamente sería una tupla de 3), arreglamos eso:\n",
    "        if isinstance(volumes, tuple):\n",
    "            faltan = 3 - len(volumes)\n",
    "            self.volumes = volumes + tuple([1 for i in range(faltan)])\n",
    "        if isinstance(lengths, tuple): \n",
    "            faltan = 3 - len(lengths)\n",
    "            self.lengths = lengths + tuple([lengths[0]/10 for i in range(faltan)])\n",
    "        #---------------------------------------------------------------\n",
    "        \n",
    "        # if volumes and lengths are given, initialize values acording to dimension\n",
    "        if (volumes and lengths):       \n",
    "            self.uniform_grid()\n",
    "            self.init_tags()\n",
    "            self.init_tags_fronteras()\n",
    "    \n",
    "    \n",
    "    def uniform_grid(self):\n",
    "        l = np.array(self.lengths) # Para el manejo con numpy\n",
    "        v = np.array(self.volumes)\n",
    "        d = l/v # Separación entre todos los nodos de cada dimensión\n",
    "        start = d/2 # La frontera \"inicial\" del arreglo\n",
    "        stop = l-d/2 # La frontera \"final\" del arreglo\n",
    "        self.coords = [tuple(np.linspace(strt, stp, vol)) for strt, stp, vol in list(zip(start, stop, v))] # Meshgrid posible\n",
    "        dominios = [np.insert(arr,(0,len(arr)),[0, l[idx]]) for idx, arr in enumerate(self.coords)] # Coordenadas + fronteras\n",
    "        # Separación entre los nodos (Aquí hay que ver cómo es cuando tenemos un grid de 2x1x1 ya cuando se haga el FVM\n",
    "        self.deltas = [self.set_deltas(dom)  if len(self.set_deltas(dom)) != 0 else (dom[-1],) for dom in dominios]\n",
    "        self.dominios = [tuple(dom) for dom in dominios]\n",
    "        #self.faces = [tuple((np.array(coords[:-1]) + np.array(coords[1:]))/2) for coords in self.coords]\n",
    "        self.faces = [(self.dominios[idx][0],) + tuple((np.array(coords[:-1]) + np.array(coords[1:]))/2) \\\n",
    "                          + (self.dominios[idx][-1],) for idx, coords in enumerate(self.coords)]\n",
    "        self.get_deltas_faces()\n",
    "        self.get_grids()\n",
    "    \n",
    "    \n",
    "    def set_deltas(self, dominio):\n",
    "        \"\"\"\n",
    "        Método para obtener la distancia que hay entre los nodos\n",
    "        \"\"\"\n",
    "        return tuple((dominio[1:]-dominio[:-1])[1:-1])\n",
    "\n",
    "\n",
    "    # Creo que esto no se usará, pero estuvo chida la deducción, lo dejo de todos modos xd\n",
    "    #def totalDomNodes(self):\n",
    "    #    d_1 = 6*self.volumes[0] + 1\n",
    "    #    d_2 = self.volumes[1]*d_1 - self.volumes[0]*(self.volumes[1] - 1)\n",
    "    #    d_3 = self.volumes[2]*d_2 - self.volumes[0]*self.volumes[1]*(self.volumes[2] - 1)\n",
    "    #    return d_3\n",
    "    \n",
    "    def init_tags(self):\n",
    "        \"\"\"\n",
    "        Método que etiqueta las caras adyacentes de cada volumen dependiendo de la geometría. Pone un {} \n",
    "        (diccionario vacío) cuando es una frontera, una 'F' cuando es una cara interna y un 'Off' cuando \n",
    "        no se está contando esa cara por las dimensiones del problema. \n",
    "        \"\"\"\n",
    "        self.__tags = {}\n",
    "        X, Y, Z = self.volumes\n",
    "        for z in range(1,Z+1):\n",
    "            for y in range(1,Y+1):\n",
    "                for x in range(1,X+1):                   \n",
    "                    t = b = n = s = \"Off\"\n",
    "                    e = w = \"F\"\n",
    "                    if x == 1: w = {}\n",
    "                    elif x == X: e = {}\n",
    "                    if self.dim > 1:\n",
    "                        n = s = \"F\"\n",
    "                        if y == 1: s = {}\n",
    "                        elif y == Y: n = {}\n",
    "                        if self.dim == 3:\n",
    "                            t = b = \"F\"\n",
    "                            if z == 1: b = {}\n",
    "                            elif z == Z: t = {}\n",
    "                    self.__tags[f\"{x}-{y}-{z}\"] = {\"E\": e, \"W\": w, \"N\": n, \"S\": s, \"T\": t, \"B\": b, \n",
    "                                             \"coord\": [self.dominios[0][x], self.dominios[1][y], self.dominios[2][z]]}\n",
    "    \n",
    "    def init_tags_fronteras(self):\n",
    "        \"\"\"\n",
    "        Método para etiquetar las fronteras dependiendo de la dimensión, sólo se les da la propiedad de existir o no\n",
    "        existir.\n",
    "        \"\"\"\n",
    "        self.__tags_fronteras = {}\n",
    "        X, Y, Z = [len(dom) for dom in self.dominios]\n",
    "        for z in range(Z):\n",
    "            for y in range(Y):\n",
    "                for x in range(X):\n",
    "                    t = b = n = s = \"Off\"\n",
    "                    e = w = \"ON\"\n",
    "                    if self.dim > 1: \n",
    "                        n = s = \"ON\"\n",
    "                        if self.dim == 3: t = b = \"ON\"\n",
    "                    # El siguiente cacho de código es para saber si nos encontramos con una frontera\n",
    "                    if x==0 or y==0 or z==0 or x==(X-1) or y==(Y-1) or z==(Z-1):\n",
    "                        var = None\n",
    "                        if y != 0 and y != (Y - 1):\n",
    "                            if z != 0 and z != (Z - 1):\n",
    "                                if x == 0: var = \"W\"; value = w\n",
    "                                elif x == (X - 1): var = \"E\"; value = e\n",
    "                                else: continue\n",
    "                            elif x != 0 and x != (X - 1):\n",
    "                                if z == 0: var = \"B\"; value = b\n",
    "                                elif z == (Z - 1): var = \"T\"; value = t\n",
    "                                else: continue\n",
    "                            else: continue\n",
    "                            self.__tags_fronteras[f\"{x}-{y}-{z}\"] = {\"frontera\": {var: value},\n",
    "                                                 \"coord\": [self.dominios[0][x], self.dominios[1][y], self.dominios[2][z]],\n",
    "                                                                  \"cond\": {}} \n",
    "                        elif z != 0 and z != (Z - 1):\n",
    "                            if x != 0 and x != (X - 1):\n",
    "                                if y == 0: var = \"S\"; value = s\n",
    "                                elif y == (Y - 1) : var = \"N\"; value = n\n",
    "                                self.__tags_fronteras[f\"{x}-{y}-{z}\"] = {\"frontera\": {var: value},\n",
    "                                                 \"coord\": [self.dominios[0][x], self.dominios[1][y], self.dominios[2][z]],\n",
    "                                                                      \"cond\": {}} \n",
    "                        else: continue\n",
    "            \n",
    "    def tag_wall(self, direction, tag, value):\n",
    "        \"\"\"\n",
    "        Método para etiquetar fronteras dada la dirección, el tipo de condición de frontera y el valor.\n",
    "        \"\"\"\n",
    "        for key in self.__tags.keys():\n",
    "            if isinstance(self.__tags[key][direction], dict):\n",
    "                self.__tags[key][direction][tag] = value\n",
    "        for key in self.__tags_fronteras.keys():\n",
    "            if self.__tags_fronteras[key][\"frontera\"].get(direction) == \"ON\":\n",
    "                self.__tags_fronteras[key][\"cond\"][tag] = value\n",
    "\n",
    "    def tag_wall_dirichlet(self, direction, value, coords=None):\n",
    "        \"\"\"\n",
    "        Método para etiquetar fronteras con condición de Dirichlet dados ciertos valores.\n",
    "        \"\"\"\n",
    "        if coords:\n",
    "            for idx, key in enumerate(coords):\n",
    "                if key in list(self.__tags.keys()):\n",
    "                    self.__tags[key][direction[idx]][\"D\"] = value[idx]\n",
    "                elif key in list(self.__tags_fronteras.keys()):\n",
    "                    self.__tags_fronteras[key][\"cond\"][\"D\"] =  value[idx]\n",
    "        else:\n",
    "            if isinstance(direction, list):\n",
    "                for idx, direct in enumerate(direction):\n",
    "                    self.tag_wall(direct, \"D\", value[idx])\n",
    "            else:\n",
    "                self.tag_wall(direction, \"D\", value)\n",
    "                    \n",
    "    def tag_wall_neumann(self, direction, value, coords=None):\n",
    "        \"\"\"\n",
    "        Método para etiquetar fronteras con condición de Neumann dados ciertos valores.\n",
    "        \"\"\"\n",
    "        if coords:\n",
    "            for idx, key in enumerate(coords):\n",
    "                if key in list(self.__tags.keys()):\n",
    "                    self.__tags[key][direction[idx]][\"N\"] = value[idx]\n",
    "                elif key in list(self.__tags_fronteras.keys()):\n",
    "                    self.__tags_fronteras[key][\"cond\"][\"N\"] = value[idx]\n",
    "        else:\n",
    "            if isinstance(direction, list):\n",
    "                for idx, direct in enumerate(direction):\n",
    "                    self.tag_wall(direct, \"N\", value[idx])\n",
    "            else:\n",
    "                self.tag_wall(direction, \"N\", value)\n",
    "                    \n",
    "    def tag_wall_source(self, direction, value, coords=None):\n",
    "        \"\"\"\n",
    "        Método para etiquetar fronteras con condición de Neumann dados ciertos valores.\n",
    "        \"\"\"\n",
    "        if coords:\n",
    "            for idx, key in enumerate(coords):\n",
    "                if key in list(self.__tags.keys()):\n",
    "                    self.__tags[key][direction[idx]][\"S\"] = value[idx]\n",
    "                elif key in list(self.__tags_fronteras.keys()):\n",
    "                    self.__tags_fronteras[key][\"cond\"][\"S\"] = value[idx]\n",
    "        else:\n",
    "            if isinstance(direction, list):\n",
    "                for idx, direct in enumerate(direction):\n",
    "                    self.tag_wall(direct, \"S\", value[idx])\n",
    "            else:\n",
    "                self.tag_wall(direction, \"S\", value)\n",
    "                \n",
    "                \n",
    "    def tag_wall_insulated(self, direction, coords=None):\n",
    "        \"\"\"\n",
    "        Método para etiquetar fronteras con condición de aislamiento.\n",
    "        \"\"\"\n",
    "        if coords:\n",
    "            for idx, key in enumerate(coords):\n",
    "                if key in list(self.__tags.keys()):\n",
    "                    self.__tags[key][direction[idx]][\"I\"] = None\n",
    "                elif key in list(self.__tags_fronteras.keys()):\n",
    "                    self.__tags_fronteras[key][\"cond\"][\"I\"] = None\n",
    "        else:\n",
    "            if isinstance(direction, list):\n",
    "                for idx, direct in enumerate(direction):\n",
    "                    self.tag_wall(direct, \"I\", None)\n",
    "            else:\n",
    "                self.tag_wall(direction, \"I\", None)\n",
    "                \n",
    "    \n",
    "    def set_dominio(self, dominio, faces=None):\n",
    "        \"\"\"\n",
    "        Método para definir el dominio de estudio dadas unas coordenadas en forma de tupla.\n",
    "        \"\"\"\n",
    "        # Si 'dominio' no es tupla, transforma 'dominio' a la tupla unidimensional (dominio,)\n",
    "        # Tendría que ser una tupla de tuplas/listas/arreglos para que sea válido.\n",
    "        if not isinstance(dominio, (tuple, int, float)): # Creo que si es una lista o un arreglo, no funciona enteros o float\n",
    "            tupla = (tuple(dominio), self.dominios[1], self.dominios[2])\n",
    "            dominio = tupla\n",
    "        # Asigna los atributos de la mesh correspondientes    \n",
    "        self.dominios = [tuple(dominio[i]) for i in range(3)]\n",
    "        self.coords = [tuple(dominio[i][1:-1]) for i in range(3)]\n",
    "        self.lengths = tuple([dominio[i][-1] for i in range(3)])\n",
    "        self.volumes = tuple([len(dominio[i][1:-1]) for i in range(3)])\n",
    "        #self.deltas = [self.set_deltas(np.array(dominio[i])) for i in range(3)]\n",
    "        self.deltas = [self.set_deltas(np.array(dom))  if len(self.set_deltas(np.array(dom))) != 0 else (dom[-1],) for dom in self.dominios]\n",
    "        \n",
    "        if faces: \n",
    "            # Si me está pasando una lista (o sea, es de una dimensión)\n",
    "            if isinstance(faces[0], (int, float)):\n",
    "                self.faces = tuple(dominio[0]) + tuple(faces) + tuple(dominio[-1])\n",
    "            else: # Suponemos aquí que nos está pasando una lista de listas (o tupla de tuplas)\n",
    "                for idx, face_1dim in enumerate(faces):\n",
    "                    faces[idx] = (dominio[idx][0], ) + tuple(face_1dim) + (dominio[idx][-1], )\n",
    "                self.faces = faces\n",
    "        else: \n",
    "            self.faces = [(self.dominios[idx][0],) + tuple((np.array(coords[:-1]) + np.array(coords[1:]))/2) \\\n",
    "                          + (self.dominios[idx][-1],) for idx, coords in enumerate(self.coords)]\n",
    "        self.get_deltas_faces()\n",
    "        self.init_tags()\n",
    "        self.init_tags_fronteras()\n",
    "        self.get_grids()\n",
    "    \n",
    "    def get_grid_deltas_dominios(self, axis=0, orientation=\"E\"):\n",
    "        deltas_dominios = []\n",
    "        self.grid_deltas_dominios = np.array([])\n",
    "        dominios = [np.array(dom) for dom in self.dominios]\n",
    "        coords = [np.array(coord) for coord in self.coords]\n",
    "        for direction in range(3):\n",
    "            if direction != axis:\n",
    "                if len(dominios[direction]) == 3:\n",
    "                    deltas_dominios.append(dominios[direction][1])\n",
    "                else:\n",
    "                    deltas_dominios.append(coords[direction])\n",
    "            else:\n",
    "                deltas_dominios.append(dominios[direction][1:] - dominios[direction][:-1])\n",
    "        if orientation == \"E\" or orientation == \"N\" or orientation == \"T\":\n",
    "            deltas_dominios[axis] = deltas_dominios[axis][1:]\n",
    "        else:\n",
    "            deltas_dominios[axis] = deltas_dominios[axis][:-1]\n",
    "        self.grid_deltas_dominios = np.meshgrid(deltas_dominios[0], deltas_dominios[1], deltas_dominios[2], \n",
    "                                                indexing='ij')\n",
    "        return self.grid_deltas_dominios\n",
    "    \n",
    "    \n",
    "    def get_deltas_faces(self):\n",
    "        self.deltas_faces = []\n",
    "        faces = [np.array(caras) for caras in self.faces]\n",
    "        dominio = [np.array(doms) for doms in self.dominios]\n",
    "        for direction in range(3):\n",
    "            self.deltas_faces.append(faces[direction][1:] - faces[direction][:-1])\n",
    "            \n",
    "    def get_grids(self):\n",
    "        self.grid_deltas = np.array([])\n",
    "        self.grid_faces = np.array([])\n",
    "        self.grid_coords = np.array([])\n",
    "        deltas = self.deltas\n",
    "        coords = self.coords\n",
    "        faces = self.faces\n",
    "        self.grid_deltas = np.meshgrid(deltas[0], deltas[1], deltas[2], indexing='ij')\n",
    "        self.grid_coords = np.meshgrid(coords[0], coords[1], coords[2], indexing='ij')\n",
    "        self.grid_faces = np.meshgrid(faces[0], faces[1], faces[2], indexing='ij')\n",
    "                \n",
    "    \n",
    "    def info(self):\n",
    "        \"\"\"\n",
    "        Método para imprimir información relevante del mallado\n",
    "        \"\"\"\n",
    "        print('=====================================')\n",
    "        print('     MESH INFORMATION   ')\n",
    "        print('=====================================')\n",
    "        print(\"\\nMesh type: Cartesian\")\n",
    "        print(f\"Number of dimensions of mesh: {self.dim}\")\n",
    "        variables = \"X Y Z\".split()\n",
    "        for idx in range(self.dim):\n",
    "            var = variables[idx]\n",
    "            print(f\"\\n ----- {var}-axis -----\")\n",
    "            print(f\"Number of {var.lower()} volumes: {self.volumes[idx]}\")\n",
    "            print(f\"Lenght {var.lower()} of problem domain: {self.lengths[idx]}\")\n",
    "            print(f\"List of {var.lower()} positions of volumes: \\n{self.coords[idx]}\")\n",
    "            print(f\"List of {var.lower()} positions of domain nodes: \\n{self.dominios[idx]}\")\n",
    "            \n",
    "            \n",
    "    def draw(self):\n",
    "        \"\"\"\n",
    "        Método para graficar la malla. Este método se invoca hasta que se hayan inizializado todas las condiciones\n",
    "        de frontera.\n",
    "        \"\"\"\n",
    "        # Graficamos las fronteras, sean o no activas\n",
    "        dic_colors = {\"D\": \"darkturquoise\", \"N\": \"red\", \"S\": \"magenta\", \"Off\": \"white\", \"I\": \"gray\"}\n",
    "        condiciones = [list(self.__tags_fronteras[key][\"cond\"].keys())[0] if list(self.__tags_fronteras[key][\"frontera\"].values())[0] == \"ON\" else \"Off\" for key in list(self.__tags_fronteras.keys())]\n",
    "        colores = [dic_colors[cond] for cond in condiciones]\n",
    "        # Obtenemos las coordenadas de las fronteras y de los nodos internos.\n",
    "        coordenadas = [] # Aquí se pondrán las coordenadas de las fronteras\n",
    "        coord = [] # Aquí las coordendas de los nodos internos\n",
    "        for i in range(3):\n",
    "            coordenadas.append([self.__tags_fronteras[key][\"coord\"][i] for key in list(self.__tags_fronteras.keys())])\n",
    "            coord.append([self.__tags[key][\"coord\"][i] for key in list(self.__tags.keys())])\n",
    "        fig = go.Figure(data = go.Scatter3d(x = coordenadas[0], y = coordenadas[1], z = coordenadas[2],\n",
    "                                              mode = 'markers', marker = dict(color = colores, symbol = \"square\", size = 2)))\n",
    "        fig.add_trace(go.Scatter3d(x = coord[0], y = coord[1], z = coord[2],\n",
    "                                              mode = 'markers', marker = dict(color = \"blue\", size = 5)))\n",
    "        fig.show()\n",
    "\n",
    "\n",
    "    def get_area(self, direction = 0, extended=False):\n",
    "        \"\"\"\n",
    "        Método que regresa las áreas del volumen en la dirección indicada\n",
    "        \"\"\"\n",
    "        perpendicular = [i for i in range(3) if i != direction]\n",
    "        num_fronteras = self.volumes[direction]\n",
    "        #if inplace:\n",
    "        #    arreglo = [self.deltas_faces[idx][1:-1] if idx in perpendicular else np.ones(num_fronteras) \\\n",
    "        #          for idx in range(3)]\n",
    "        #else:\n",
    "        arreglo = [self.deltas_faces[idx] if idx in perpendicular else np.ones(num_fronteras) \\\n",
    "                  for idx in range(3)]\n",
    "        if extended:\n",
    "            arreglo = [self.deltas_faces[idx] if idx in perpendicular else np.ones(num_fronteras+1) \\\n",
    "                  for idx in range(3)]\n",
    "        areas_grid = np.meshgrid(arreglo[0], arreglo[1], arreglo[2], indexing='ij')\n",
    "        \n",
    "        return areas_grid[perpendicular[0]]*areas_grid[perpendicular[1]]\n",
    "    \n",
    "    def stag_def(self, direct=0):\n",
    "        \"\"\"\n",
    "        Gives the parameters needed for defining a staggered mesh via the 'setDominio()'\n",
    "        method.\n",
    "        \"\"\"\n",
    "        # Lo que antes eran los dominios en un eje, ahora serán las caras. En los demás ejes queda igual.\n",
    "        clean = lambda x: list(x[2:-2])\n",
    "        clean_2 = lambda x: list(x[1:-1])\n",
    "        caras = [clean(self.dominios[idx]) if direct==idx else clean_2(self.faces[idx]) for idx in range(3)]\n",
    "        \n",
    "        # Lo que antes eran las caras en un eje, ahora serán los dominios. En los demás ejes queda igual.\n",
    "        # Sólo movemos el eje del que estemos creando el mallado escalonado\n",
    "        dominio = [self.faces[idx] if direct==idx else self.dominios[idx] for idx in range(3)]\n",
    "        return tuple(dominio), tuple(caras)"
   ]
  },
  {
   "cell_type": "markdown",
   "metadata": {},
   "source": [
    "[Volver al índice](#Índice)"
   ]
  },
  {
   "cell_type": "markdown",
   "metadata": {},
   "source": [
    "## Staggered grids"
   ]
  },
  {
   "cell_type": "code",
   "execution_count": 6,
   "metadata": {},
   "outputs": [],
   "source": [
    "class StagMesh(Mesh):\n",
    "    def __init__(self, malla_origen, direction=0):\n",
    "        self.malla_origen = malla_origen\n",
    "        dim = malla_origen.dim\n",
    "        super().__init__(dim)\n",
    "        doms, facs = malla_origen.stag_def(direction)\n",
    "        self.set_dominio(dominio = doms, faces = list(facs))"
   ]
  },
  {
   "cell_type": "markdown",
   "metadata": {},
   "source": [
    "[Volver al índice](#Índice)"
   ]
  },
  {
   "cell_type": "markdown",
   "metadata": {},
   "source": [
    "## SIMPLE"
   ]
  },
  {
   "cell_type": "code",
   "execution_count": 205,
   "metadata": {},
   "outputs": [],
   "source": [
    "class Simple():\n",
    "    def __init__(self, mallas, Γ=None, ρ=1,strategy=\"b\", ϵ = 1e-2):\n",
    "        self.Γ = Γ\n",
    "        self.ρ = ρ\n",
    "        self.ϵ = ϵ\n",
    "        self.malla_presion = mallas[0]\n",
    "        self.mallas_velocidad = mallas[1:]\n",
    "        \n",
    "        shape_p_star = self.malla_presion.grid_coords[0].shape\n",
    "        self.pressure_star = np.zeros(shape_p_star)\n",
    "        self.velocity_star = [np.zeros(malla_v.grid_coords[0].shape) for malla_v in self.mallas_velocidad]\n",
    "        self.velocity_boundary = self.set_velocity_star(self.velocity_star)\n",
    "        \n",
    "        self.set_momentum_equation(Γ,ρ)\n",
    "        self.set_continuity_equation(ρ)\n",
    "        self.correct_pressure_velocities()\n",
    "        \n",
    "        vel_error = [np.abs(vel - self.velocity_star[idx]) for idx, vel in enumerate(self.velocities)]\n",
    "        cont = 0 \n",
    "        for vel_e in vel_error:\n",
    "            if (vel_e < ϵ).all():\n",
    "                cont += 1\n",
    "                continue\n",
    "            else:\n",
    "                break\n",
    "        if cont == 2:\n",
    "            print(\"Se tiene una solución con una sola iteración\")\n",
    "        else:\n",
    "            print(\"No se tiene solución con una sola iteración, intente con más.\")\n",
    "            \n",
    "    def loop_system(self):\n",
    "        self.velocity_star = self.velocities\n",
    "        self.pressure_star = self.pressure\n",
    "        Γ = self.Γ\n",
    "        ρ = self.ρ\n",
    "        ϵ = self.ϵ\n",
    "        \n",
    "        cont = 0\n",
    "        epocas = 0\n",
    "        while cont < 2:\n",
    "            self.velocity_boundary = self.set_velocity_star(self.velocity_star)\n",
    "\n",
    "            self.set_momentum_equation(Γ,ρ)\n",
    "            self.set_continuity_equation(ρ)\n",
    "            self.correct_pressure_velocities()\n",
    "\n",
    "            vel_error = [np.abs(vel - self.velocity_star[idx]) for idx, vel in enumerate(self.velocities)]\n",
    "            cont = 0 \n",
    "            for vel_e in vel_error:\n",
    "                if (vel_e < ϵ).all():\n",
    "                    cont += 1\n",
    "                    continue\n",
    "                else:\n",
    "                    break\n",
    "            epocas+=1\n",
    "        return self.velocities, self.pressure\n",
    "        \n",
    "    def set_continuity_equation(self,ρ):\n",
    "        mallas_velocidad = self.mallas_velocidad\n",
    "        velocity_star = self.set_velocity_star(self.velocity_star)\n",
    "        pressure_star = self.pressure_star\n",
    "        ds = self.ds\n",
    "        \n",
    "        malla_presion = self.malla_presion\n",
    "        \n",
    "        coef_pressure = Coefficients(malla_presion)\n",
    "        coef_pressure.get_continuity_coeffs(mallas_velocidad, velocity_star, pressure_star, ds)\n",
    "        p_system = EqSystem(coef_pressure)\n",
    "        self.p_tilde = p_system.get_solution()\n",
    "            \n",
    "    def set_momentum_equation(self,Γ=None,ρ=None):\n",
    "        mallas_velocidad = self.mallas_velocidad\n",
    "        malla_presion = self.malla_presion\n",
    "        pressure_star = self.pressure_star\n",
    "        velocity_star = self.velocity_boundary\n",
    "        coef_velocity = [Coefficients(malla_v) for idx, malla_v in enumerate(mallas_velocidad)]\n",
    "        \n",
    "        # Inicializando los gradientes de presiones para cada malla de velocidad\n",
    "        for idx, coef in enumerate(coef_velocity):\n",
    "            coef.set_pressure_gradient(pressure_star, idx)\n",
    "        \n",
    "        if Γ:\n",
    "            for idx, coef in enumerate(coef_velocity):\n",
    "                coef.set_diffusion(Γ,velocity_direction=idx,pressure_mesh=malla_presion)\n",
    "        if ρ:\n",
    "            for idx, coef in enumerate(coef_velocity):\n",
    "                coef.set_convection(ρ,velocity_star,stagered=True,velocity_direction=idx, \n",
    "                                    pressure_mesh=self.malla_presion)\n",
    "                \n",
    "        aPs = [coef.get_aP() for coef in coef_velocity]\n",
    "        self.ds = [self.get_d(mallas_velocidad[idx],a,direction=idx) for idx, a in enumerate(aPs)]\n",
    "        \n",
    "        systems = [EqSystem(coef) for coef in coef_velocity]\n",
    "        sols = [np.array(system.get_solution()).reshape(mallas_velocidad[idx].volumes) \\\n",
    "                for idx, system in enumerate(systems)]\n",
    "        self.velocity_star = sols\n",
    "            \n",
    "             \n",
    "    def set_velocity_star(self, initial_velocity):\n",
    "        mallas_velocidad = self.mallas_velocidad\n",
    "        tupla_extra = lambda x: tuple([0 if x!=i else 2 for i in range(3)])\n",
    "        velocity_star = [np.zeros(np.array(malla.volumes) + np.array(tupla_extra(idx))) \\\n",
    "                              for idx,malla in enumerate(mallas_velocidad)]\n",
    "        \n",
    "        for idx, initial_v in enumerate(initial_velocity):\n",
    "            slice_v = [slice(None,None) if idx!=i else slice(1, vols+1) \\\n",
    "                       for i, vols in enumerate(initial_v.shape)]\n",
    "            velocity_star[idx][slice_v[0], slice_v[1], slice_v[2]] = initial_v \n",
    "            \n",
    "        λ_v = lambda orient: slice(None,1) if orient in [\"E\",\"N\",\"T\"] else slice(-1,None)\n",
    "        slice_v = lambda orientacion: [slice(None, None) if idx!=i else λ_v(orientacion) for i in range(3)]\n",
    "        sup = [\"E\",\"N\",\"T\"]\n",
    "        inf = [\"W\",\"S\",\"B\"]\n",
    "        for idx, vel_star in enumerate(velocity_star):\n",
    "            slice_v_sup = slice_v(sup[idx])\n",
    "            tmp_v_sup = velocity_star[idx][slice_v_sup[0],slice_v_sup[1],slice_v_sup[2]]\n",
    "            tmp_v_sup = np.array(self.get_boundary_condition(mallas_velocidad[idx], sup[idx])).reshape(tmp_v_sup.shape)\n",
    "\n",
    "            slice_v_inf = slice_v(inf[idx])\n",
    "            tmp_v_inf = velocity_star[idx][slice_v_inf[0],slice_v_inf[1],slice_v_inf[2]]\n",
    "            tmp_v_inf = np.array(self.get_boundary_condition(mallas_velocidad[idx],inf[idx])).reshape(tmp_v_inf.shape)        \n",
    "        return velocity_star\n",
    "    \n",
    "    def get_boundary_condition(self, malla, direction):\n",
    "        tags_fronteras = malla._Mesh__tags_fronteras\n",
    "        condicion = []\n",
    "        for tag in tags_fronteras:\n",
    "            if list(tags_fronteras[tag][\"frontera\"].keys())[0] == direction:\n",
    "                cond = list(tags_fronteras[tag][\"cond\"].values())[0]\n",
    "                condicion.append(cond)\n",
    "        return condicion\n",
    "    \n",
    "    def get_d(self,mesh,a,direction=0):\n",
    "        areas = mesh.get_area(direction)\n",
    "        d = areas/a\n",
    "        return d\n",
    "    \n",
    "    def correct_pressure_velocities(self):\n",
    "        self.p_tilde = self.p_tilde.reshape(self.pressure_star.shape)\n",
    "        self.pressure = self.pressure_star + self.p_tilde\n",
    "            \n",
    "        self.velocities = [self.velocity_star[idx] + d*np.diff(self.p_tilde, axis = idx) \\\n",
    "                           for idx, d in enumerate(self.ds)]\n",
    "            \n",
    "    def get_approximation(self, ur=None):\n",
    "        coef_pressure = self.coef_pressure\n",
    "        coef_velocity = self.coef_velocity\n",
    "        pressure_star = self.pressure_star\n",
    "        velocity_star = self.velocity_star"
   ]
  },
  {
   "cell_type": "markdown",
   "metadata": {},
   "source": [
    "[Volver al índice](#Índice)"
   ]
  },
  {
   "cell_type": "markdown",
   "metadata": {},
   "source": [
    "## Coeficientes"
   ]
  },
  {
   "cell_type": "code",
   "execution_count": 122,
   "metadata": {},
   "outputs": [],
   "source": [
    "class Coefficients():\n",
    "    \"\"\"\n",
    "    Class that defines the coefficients that every node needs to form it's\n",
    "    discrete equation that represent the diferential equation. All the coefficients\n",
    "    needed for a scalar quantity (also called variable or unkown) are contained\n",
    "    in one object (instance of this class).\n",
    "    \"\"\"    \n",
    "    def __init__(self, mesh):\n",
    "        self.dim = mesh.dim\n",
    "        self._mesh = mesh\n",
    "        vols = mesh.volumes\n",
    "        \n",
    "        self.aP = np.zeros(vols)\n",
    "        self.aE = np.zeros(vols)\n",
    "        self.aW = np.zeros(vols)\n",
    "        self.Su = np.zeros(vols)\n",
    "        self.Sp = np.zeros(vols)\n",
    "\n",
    "        if self.dim > 1:\n",
    "            self.aN = np.zeros(vols)\n",
    "            self.aS = np.zeros(vols)\n",
    "        if self.dim == 3:\n",
    "            self.aT = np.zeros(vols)\n",
    "            self.aB = np.zeros(vols)\n",
    "        \n",
    "    def set_pressure_gradient(self,pressure_star,direction=0,strategy=\"b\"):\n",
    "        \"\"\"\n",
    "        Método que inicializa los coeficientes específicos de la velocidad\n",
    "        \"\"\"\n",
    "        sign = 1\n",
    "        if strategy==\"f\": sign = -1\n",
    "        malla = self._mesh\n",
    "        self.pressure_star = pressure_star\n",
    "        self.strategy = strategy\n",
    "        \n",
    "        # Calculando áreas importantes\n",
    "        areas = malla.get_area(direction=direction)\n",
    "        grad_presion = -sign*np.diff(pressure_star, axis=direction)\n",
    "        \n",
    "        self.Su -= grad_presion*areas\n",
    "        \n",
    "    def get_continuity_coeffs(self, mallas_velocidad, velocity_star, pressure_star, ds):\n",
    "        malla_presion = self._mesh\n",
    "        tupla_extra = lambda x: tuple([0 if x!=i else 2 for i in range(3)])\n",
    "        general_coeffs = [np.zeros(np.array(malla.volumes) + np.array(tupla_extra(idx))) \\\n",
    "                              for idx,malla in enumerate(mallas_velocidad)]\n",
    "        b = general_coeffs.copy()\n",
    "        areas = [malla.get_area(direction=idx) for idx, malla in enumerate(mallas_velocidad)]\n",
    "        areas_ext = [malla_presion.get_area(direction=idx,extended=True) for idx, _ in enumerate(mallas_velocidad)]\n",
    "        for idx, area in enumerate(areas):\n",
    "            volumes = mallas_velocidad[idx].volumes\n",
    "            slice_b = [slice(None,None) if idx!=i else slice(1, vols+1) for i, vols in enumerate(volumes)]\n",
    "            # Aquí hay que moverle si queremos que la densidad cambie con la posición.\n",
    "            general_coeffs[idx][slice_b[0], slice_b[1], slice_b[2]] = area*ds[idx]*ρ\n",
    "            b[idx] = areas_ext[idx]*velocity_star[idx]*ρ\n",
    "        self.aE -= general_coeffs[0][1:,:,:]\n",
    "        self.aW -= general_coeffs[0][:-1,:,:]\n",
    "        bE = b[0][1:,:,:]\n",
    "        bW = b[0][:-1,:,:]\n",
    "        self.aP -= self.aE + self.aW\n",
    "        self.Su += bE + bW\n",
    "        if len(general_coeffs) > 1:\n",
    "            self.aN -= general_coeffs[1][:,1:,:]\n",
    "            self.aS -= general_coeffs[1][:,:-1,:]\n",
    "            bN = b[1][:,1:,:]\n",
    "            bS = b[1][:,:-1,:]\n",
    "            self.aP -= self.aN + self.aS\n",
    "            self.Su += bN + bS\n",
    "        if len(general_coeffs) == 3:\n",
    "            self.aT -= general_coeffs[2][:,:,1:]\n",
    "            self.aB -= general_coeffs[2][:,:,:-1]\n",
    "            bT = b[2][:,:,1:]\n",
    "            bB = b[2][:,:,:-1]\n",
    "            self.aP -= self.aT + self.aB\n",
    "            self.Su += bT + bB\n",
    "\n",
    "    def set_diffusion(self,gamma,velocity_direction=None,pressure_mesh=None):\n",
    "        \"\"\"This method makes an instance of the Diffusion class and uses it to\n",
    "        update the aP,aE,aW, ... atributes.\n",
    "        \n",
    "        Gamma: The diffusion coeffcient of the transport equation, if the diffusion\n",
    "               coefficient is constant then a float can be given but in other cases\n",
    "               a function of the coordinates, denoted as Gamma=f(x,y,z) should be \n",
    "               used. (float or function)\"\"\"\n",
    "        \n",
    "        dim = self.dim\n",
    "        malla = self._mesh\n",
    "        diffusion = Diffusion(malla, gamma)\n",
    "        east_diff, sp_e, su_e = diffusion.get_diffusion_coef(\"E\",velocity_direction,pressure_mesh,stgy=\"b\")\n",
    "        west_diff, sp_w, su_w = diffusion.get_diffusion_coef(\"W\",velocity_direction,pressure_mesh,stgy=\"b\")\n",
    "        self.aE -= east_diff\n",
    "        self.aW -= west_diff\n",
    "        self.Sp -= sp_e + sp_w\n",
    "        self.Su += su_e + su_w\n",
    "        self.aP -=  self.aE + self.aW\n",
    "        if dim > 1:\n",
    "            north_diff, sp_n, su_n = diffusion.get_diffusion_coef(\"N\",velocity_direction,pressure_mesh,stgy=\"b\")\n",
    "            south_diff, sp_s, su_s = diffusion.get_diffusion_coef(\"S\",velocity_direction,pressure_mesh,stgy=\"b\")\n",
    "            self.aN -= north_diff\n",
    "            self.aS -= south_diff\n",
    "            self.Sp -= sp_n + sp_s\n",
    "            self.Su += su_n + su_s\n",
    "            self.aP -= self.aN + self.aS\n",
    "        if dim == 3:\n",
    "            top_diff, sp_t, su_t = diffusion.get_diffusion_coef(\"T\",velocity_direction,pressure_mesh,stgy=\"b\")\n",
    "            bottom_diff, sp_b, su_b = diffusion.get_diffusion_coef(\"B\",velocity_direction,pressure_mesh,stgy=\"b\")\n",
    "            self.aT -= top_diff\n",
    "            self.aB -= bottom_diff\n",
    "            self.Sp -= sp_t + sp_b\n",
    "            self.Su += su_t + su_b\n",
    "            self.aP -= top_diff + bottom_diff\n",
    "        self.aP -= self.Sp\n",
    "        \n",
    "    def set_convection(self,rho,vel,scheme='central',stagered=False,velocity_direction=None,\n",
    "                       pressure_mesh=None,stgy=\"b\"):\n",
    "        \"\"\"\n",
    "        This method makes an instance of the convection class and uses it to\n",
    "        update the aP, aE, aW, ... atributes.\n",
    "        \n",
    "        rho: float or 3D array that represents the density, if a float is used\n",
    "             it is assumed that the density is constant in all the physical \n",
    "             domain. (float/numpy array)\n",
    "        \n",
    "        vel: tuple of 3D arrays that represents the velocity, each 3D array in\n",
    "             the tuple represent a component of the velocity. It can be denoted \n",
    "             as vel=(u,v,w) where u, v and w are 3D arrays with values for all\n",
    "             of the volume borders positions. (tuple of numpy arrays) \n",
    "        \n",
    "        scheme: scheme to be used for the convection terms. Strings 'central' and \n",
    "                'upwind1' are currently valid (string).\n",
    "        \"\"\"\n",
    "        \n",
    "        dim = self.dim\n",
    "        malla = self._mesh\n",
    "        convection = Convection(malla, rho, vel, scheme)\n",
    "        east_conv, sp_e, su_e = convection.get_convection_coef(\"E\",stagered,\n",
    "                                        velocity_direction, vel,pressure_mesh,stgy)\n",
    "        west_conv, sp_w, su_w = convection.get_convection_coef(\"W\",stagered,\n",
    "                                        velocity_direction, vel,pressure_mesh,stgy)\n",
    "        east_f = convection.get_f(east_conv, \"E\")\n",
    "        west_f = convection.get_f(west_conv, \"W\")\n",
    "        self.aE += east_f\n",
    "        self.aW -= west_f\n",
    "        self.aP -= east_f + sp_e - sp_w - west_f\n",
    "        self.Su += su_e + su_w\n",
    "        self.Sp -= -sp_e + sp_w\n",
    "        if dim > 1:\n",
    "            north_conv, sp_n, su_n = convection.get_convection_coef(\"N\",stagered,\n",
    "                                        velocity_direction, vel,pressure_mesh,stgy)\n",
    "            south_conv, sp_s, su_s = convection.get_convection_coef(\"S\",stagered,\n",
    "                                        velocity_direction, vel,pressure_mesh,stgy)\n",
    "            north_f = convection.get_f(north_conv, \"N\")\n",
    "            south_f = convection.get_f(south_conv, \"S\")\n",
    "            self.aE += north_f\n",
    "            self.aW -= south_f\n",
    "            self.aP -= north_f + sp_n - sp_s - south_f\n",
    "            self.Su += su_n + su_s\n",
    "            self.Sp -= -sp_n + sp_s\n",
    "        if dim == 3:\n",
    "            top_conv, sp_t, su_t = convection.get_convection_coef(\"T\",stagered,\n",
    "                                        velocity_direction, vel,pressure_mesh,stgy)\n",
    "            bottom_conv, sp_b, su_b = convection.get_convection_coef(\"B\",stagered,\n",
    "                                        velocity_direction, vel,pressure_mesh,stgy)\n",
    "            top_f = convection.get_f(top_conv, \"T\")\n",
    "            bottom_f = convection.get_f(bottom_conv, \"B\")\n",
    "            self.aE += top_f\n",
    "            self.aW -= bottom_f\n",
    "            self.aP -= top_f + sp_t - sp_b - bottom_f\n",
    "            self.Su += su_t + su_b\n",
    "            self.Sp -= -sp_t + sp_b\n",
    "            \n",
    "    def get_Su(self):\n",
    "        return self.Su\n",
    "    \n",
    "    def get_Sp(self):\n",
    "        return self.Sp\n",
    "    \n",
    "    def get_aP(self):\n",
    "        return self.aP\n",
    "    \n",
    "    def get_aE(self):\n",
    "        return self.aE\n",
    "    \n",
    "    def get_aW(self):\n",
    "        return self.aW\n",
    "\n",
    "    def get_aN(self):\n",
    "        return self.aN\n",
    "\n",
    "    def get_aS(self):\n",
    "        return self.aS\n",
    "\n",
    "    def get_aT(self):\n",
    "        return self.aT\n",
    "\n",
    "    def get_aB(self):\n",
    "        return self.aB"
   ]
  },
  {
   "cell_type": "markdown",
   "metadata": {},
   "source": [
    "[Volver al índice](#Índice)"
   ]
  },
  {
   "cell_type": "markdown",
   "metadata": {},
   "source": [
    "## Difusión"
   ]
  },
  {
   "cell_type": "code",
   "execution_count": 9,
   "metadata": {},
   "outputs": [],
   "source": [
    "class Diffusion():\n",
    "    \"\"\"\n",
    "    Class that has the methods for calculating the modifications of the aP, aE, aW, ...\n",
    "    coefficients due to the Diffusion term in the transport equation.\n",
    "    \"\"\"\n",
    "    \n",
    "    def __init__(self, mesh, gamma):\n",
    "        \"\"\" \n",
    "        Saves the mesh and a function as attributes of the object.  \n",
    "        \n",
    "        gamma: function that can be evaluated to obtain the value of the difussion\n",
    "        coeficient, Gamma, in a particular position, that is Gamma = f(x,y,z). If \n",
    "        funcionGamma is an int or float it is assumed that the difussion coefficient \n",
    "        is constant. (float/int/function)\n",
    "        \"\"\"\n",
    "        self._mesh = mesh\n",
    "        self._gammaconstante = 0.\n",
    "        self._gamma = None\n",
    "        \n",
    "        if isinstance(gamma, (int,float)):\n",
    "            self._gammaconstante = gamma\n",
    "            self._gamma = self.funcion_const\n",
    "        # Se asume que es una función en este caso\n",
    "        else:\n",
    "            self._gamma = gamma\n",
    "          \n",
    "    def funcion_const(self, x, y, z):\n",
    "        return self._gammaconstante\n",
    "    \n",
    "    def get_diffusion_coef(self,direction,velocity_direction=None,pressure_mesh=None,stgy=None):\n",
    "        \"\"\"\n",
    "        Gives a 3D numpy array that should be used to correct the aB coefficient\n",
    "        caused by the diffusion effect.\n",
    "        \"\"\"\n",
    "        self.direction = direction\n",
    "        self.velocity_direction = velocity_direction\n",
    "        self.pressure_mesh = pressure_mesh\n",
    "        self.stgy = stgy\n",
    "        idx, idx_1 = 0,0\n",
    "        if direction in [\"E\", \"N\", \"T\"]: idx_1=-1\n",
    "        if direction in [\"N\", \"S\"]: idx=1\n",
    "        elif direction in [\"T\", \"B\"]: idx = 2\n",
    "        \n",
    "        if velocity_direction==idx:\n",
    "            return self.get_basic_diffusion_coef(idx, idx_1)\n",
    "        else:\n",
    "            return self.get_stagered_diffusion_coef(idx, idx_1)\n",
    "        \n",
    "    def get_stagered_diffusion_coef(self, idx, idx_1):\n",
    "        direction = self.direction\n",
    "        velocity_direction = self.velocity_direction\n",
    "        pressure_mesh = self.pressure_mesh\n",
    "        stgy = self.stgy\n",
    "        mesh = self._mesh\n",
    "        faces = mesh.faces[velocity_direction]\n",
    "        pressure_grid_coords = pressure_mesh.grid_coords[velocity_direction]\n",
    "        x, y, z = np.meshgrid(mesh.coords[0], mesh.coords[1], mesh.coords[2])\n",
    "\n",
    "        # Para obtener los coeficientes\n",
    "        λ_δ = lambda x: slice(1,None) if x==\"b\" else slice(None,-1)\n",
    "        slice_δ = [slice(None, None) if i!=velocity_direction else λ_δ(stgy) for i in range(3)]\n",
    "        δ_d_grid = pressure_mesh.get_grid_deltas_dominios(axis=idx, orientation=direction)\n",
    "        δ = δ_d_grid[idx][slice_δ[0], slice_δ[1], slice_δ[2]]\n",
    "        \n",
    "        coord = [var if (i!=idx and i!=velocity_direction) else pressure_grid_coords[i] \\\n",
    "                 for (i, var) in enumerate([x,y,z])]\n",
    "        gamma = self._gamma(coord[0], coord[1], coord[2])\n",
    "\n",
    "\n",
    "        areas = mesh.get_area(direction=idx)\n",
    "        source = areas.copy()\n",
    "        slice_1 = [slice(None,None) if var!=idx else idx_1 for var in range(3)]\n",
    "        areas[slice_1[0],slice_1[1],slice_1[2]] = 0\n",
    "\n",
    "        λ_2 = lambda d: slice(None,-1) if d in [\"E\",\"N\",\"T\"] else slice(1,None)\n",
    "        slice_2 = [slice(None,None) if var!=idx else λ_2(direction) for var in range(3)]\n",
    "        source[slice_2[0],slice_2[1],slice_2[2]] = 0\n",
    "        diff = gamma * areas / δ\n",
    "\n",
    "        # Aquí obtenemos Sp\n",
    "        sp = gamma * source / δ\n",
    "        condicion = self.get_mask_boundaries_Sp(mesh, direction)\n",
    "        λ_3 = lambda d: slice(-1,None) if d in [\"E\",\"N\",\"T\"] else slice(None,1)\n",
    "        coord_4 = [slice(None,None) if var!=idx else λ_3(direction) for var in range(3)]\n",
    "        tmp_sp = sp[coord_4[0],coord_4[1],coord_4[2]]\n",
    "        sp[coord_4[0],coord_4[1],coord_4[2]] = tmp_sp*np.array(condicion).reshape(tmp_sp.shape)\n",
    "\n",
    "        # Aquí obtenemos Su\n",
    "        conds_su = self.get_mask_boundaries_Su(mesh, direction, gamma = self._gamma)\n",
    "        su = source\n",
    "        tmp_su = su[coord_4[0],coord_4[1],coord_4[2]]\n",
    "        su[coord_4[0],coord_4[1],coord_4[2]] = tmp_su*np.array(conds_su).reshape(tmp_su.shape)\n",
    "        tmp_su = su[coord_4[0],coord_4[1],coord_4[2]]\n",
    "        div = δ[coord_4[0],coord_4[1],coord_4[2]]*np.array(condicion).reshape(tmp_su.shape)\n",
    "        div = np.where(div == 0., 1, div)\n",
    "        su[coord_4[0],coord_4[1],coord_4[2]] = tmp_su/div\n",
    "        return diff, sp, su\n",
    "    \n",
    "    def get_basic_diffusion_coef(self,idx,idx_1):\n",
    "        \"\"\"\n",
    "        Gives a 3D numpy array that should be used to correct the aB coefficient\n",
    "        caused by the diffusion effect.\n",
    "        \"\"\"\n",
    "        direction=self.direction\n",
    "        mesh = self._mesh\n",
    "        faces = mesh.faces[idx]\n",
    "        x, y, z = np.meshgrid(mesh.coords[0], mesh.coords[1], mesh.coords[2])\n",
    "        \n",
    "        # Para obtener los coeficientes\n",
    "        δ_d_grid = mesh.get_grid_deltas_dominios(axis=idx, orientation=direction)\n",
    "        δ = δ_d_grid[idx]\n",
    "        λ_1 = lambda x, d: x[1:] if d in [\"E\",\"N\",\"T\"] else x[:-1]\n",
    "        coord = [var if i!=idx else λ_1(faces, direction) for (i, var) in enumerate([x,y,z])]\n",
    "        gamma = self._gamma(coord[0], coord[1], coord[2])\n",
    "        areas = mesh.get_area(direction=idx)\n",
    "        source = areas.copy()\n",
    "        coord_2 = [slice(None,None) if var!=idx else idx_1 for var in range(3)]\n",
    "        areas[coord_2[0],coord_2[1],coord_2[2]] = 0\n",
    "        λ_2 = lambda d: slice(None,-1) if d in [\"E\",\"N\",\"T\"] else slice(1,None)\n",
    "        coord_3 = [slice(None,None) if var!=idx else λ_2(direction) for var in range(3)]\n",
    "        source[coord_3[0],coord_3[1],coord_3[2]] = 0\n",
    "        diff = gamma * areas / δ\n",
    "\n",
    "        # Aquí obtenemos Sp\n",
    "        sp = gamma * source / δ\n",
    "        condicion = self.get_mask_boundaries_Sp(mesh, direction)\n",
    "        λ_3 = lambda d: slice(-1,None) if d in [\"E\",\"N\",\"T\"] else slice(None,1)\n",
    "        coord_4 = [slice(None,None) if var!=idx else λ_3(direction) for var in range(3)]\n",
    "        tmp_sp = sp[coord_4[0],coord_4[1],coord_4[2]]\n",
    "        sp[coord_4[0],coord_4[1],coord_4[2]] = tmp_sp*np.array(condicion).reshape(tmp_sp.shape)\n",
    "        \n",
    "        # Aquí obtenemos Su\n",
    "        conds_su = self.get_mask_boundaries_Su(mesh, direction, gamma = self._gamma)\n",
    "        su = source\n",
    "        tmp_su = su[coord_4[0],coord_4[1],coord_4[2]]\n",
    "        su[coord_4[0],coord_4[1],coord_4[2]] = tmp_su*np.array(conds_su).reshape(tmp_su.shape)\n",
    "        tmp_su = su[coord_4[0],coord_4[1],coord_4[2]]\n",
    "        div = δ[coord_4[0],coord_4[1],coord_4[2]]*np.array(condicion).reshape(tmp_su.shape)\n",
    "        div = np.where(div == 0., 1, div)\n",
    "        su[coord_4[0],coord_4[1],coord_4[2]] = tmp_su/div\n",
    "        return diff, sp, su\n",
    "    \n",
    "    def get_mask_boundaries_Sp(self, malla, direction):\n",
    "        tags_fronteras = malla._Mesh__tags_fronteras\n",
    "        condicion = []\n",
    "        dict_cond = {\"I\":0, \"N\":0, \"D\":1}\n",
    "        for tag in tags_fronteras:\n",
    "            if list(tags_fronteras[tag][\"frontera\"].keys())[0] == direction:\n",
    "                cond = list(tags_fronteras[tag][\"cond\"].keys())[0]\n",
    "                condicion.append(dict_cond[cond])\n",
    "        return condicion\n",
    "    \n",
    "    def get_mask_boundaries_Su(self, malla, direction, gamma):\n",
    "        tags_fronteras = malla._Mesh__tags_fronteras\n",
    "        condicion = []\n",
    "        dict_cond = {\"I\":0, \"N\":0, \"D\":1}\n",
    "        for tag in tags_fronteras:\n",
    "            if list(tags_fronteras[tag][\"frontera\"].keys())[0] == direction:\n",
    "                cond = list(tags_fronteras[tag][\"cond\"].keys())[0]\n",
    "                if cond == \"I\":\n",
    "                    condicion.append(0)\n",
    "                elif cond == \"N\":\n",
    "                    condicion.append(tags_fronteras[tag][\"cond\"][cond])\n",
    "                elif cond == \"D\":\n",
    "                    x,y,z = tags_fronteras[tag][\"coord\"]\n",
    "                    condicion.append(tags_fronteras[tag][\"cond\"][cond]*gamma(x,y,z))\n",
    "        return condicion"
   ]
  },
  {
   "cell_type": "markdown",
   "metadata": {},
   "source": [
    "[Volver al índice](#Índice)"
   ]
  },
  {
   "cell_type": "markdown",
   "metadata": {},
   "source": [
    "## Convección"
   ]
  },
  {
   "cell_type": "code",
   "execution_count": 10,
   "metadata": {},
   "outputs": [],
   "source": [
    "class Convection():\n",
    "    \"\"\"\n",
    "    rho: float or 3D array that represents the density, if a float is used\n",
    "         it is assumed that the density is constant in all the physical \n",
    "         domain. (float/numpy array)\n",
    "\n",
    "    vel: tuple of 3D arrays that represents the velocity, each 3D array in\n",
    "         the tuple represent a component of the velocity. It can be denoted \n",
    "         as vel=(u,v,w) where u, v and w are 3D arrays with values for all\n",
    "         of the volume borders positions. (tuple of numpy arrays) \n",
    "\n",
    "    scheme: scheme to be used for the advection terms. Strings 'central' and \n",
    "            'upwind1' are currently valid (string).\n",
    "    \"\"\"\n",
    "    def __init__(self,mesh,ρ,vel,scheme,simple=None):\n",
    "        self._mesh   = mesh\n",
    "        self._dim    = mesh.dim\n",
    "        self._scheme = scheme\n",
    "        self.vel     = vel\n",
    "        self.simple = simple\n",
    "        \n",
    "        self._ρ_constant = 0.\n",
    "        self._ρ = None\n",
    "        \n",
    "        if isinstance(ρ, (int,float)):\n",
    "            self._ρ_constant = ρ\n",
    "            self._ρ = self.funcion_const\n",
    "        # Se asume que es una función en este caso\n",
    "        else:\n",
    "            self._ρ = ρ\n",
    "            \n",
    "    def funcion_const(self, x, y, z):\n",
    "        return self._ρ_constant\n",
    "        \n",
    "    def get_convection_coef(self,direction,stagered=False,velocity_direction=None,velocity_mesh=None,\n",
    "                            pressure_mesh=None,stgy=\"b\"):            \n",
    "        self.direction = direction\n",
    "        self.velocity_direction = velocity_direction\n",
    "        self.pressure_mesh = pressure_mesh\n",
    "        self.velocity_mesh = velocity_mesh\n",
    "        self.stgy = stgy\n",
    "        idx, idx_1 = 0,0\n",
    "        if direction in [\"E\", \"N\", \"T\"]: idx_1=-1\n",
    "        if direction in [\"N\", \"S\"]: idx=1\n",
    "        elif direction in [\"T\", \"B\"]: idx = 2\n",
    "        \n",
    "        if stagered:\n",
    "            return self.get_stagered_convection_coef(idx, idx_1)\n",
    "        else:\n",
    "            return self.get_basic_convection_coef(idx, idx_1)\n",
    "    \n",
    "    def get_stagered_convection_coef(self,idx,idx_1):\n",
    "        velocity_direction = self.velocity_direction\n",
    "        pressure_mesh = self.pressure_mesh\n",
    "        velocity_mesh = self.velocity_mesh\n",
    "        direction = self.direction\n",
    "        mesh = self._mesh\n",
    "        faces = mesh.faces[idx]\n",
    "        pressure_grid_coords = pressure_mesh.grid_coords[velocity_direction]\n",
    "        x, y, z = np.meshgrid(mesh.coords[0], mesh.coords[1], mesh.coords[2])\n",
    "\n",
    "        # Para obtener los coeficientes\n",
    "        coord = [var if (i!=idx and i!=velocity_direction) else pressure_grid_coords[i] \\\n",
    "                 for (i, var) in enumerate([x,y,z])]\n",
    "        ρ = self._ρ(coord[0], coord[1], coord[2])\n",
    "        areas = mesh.get_area(direction=idx)\n",
    "        source = areas.copy()\n",
    "        slice_1 = [slice(None,None) if var!=idx else idx_1 for var in range(3)]\n",
    "        areas[slice_1[0],slice_1[1],slice_1[2]] = 0\n",
    "        \n",
    "        λ_2 = lambda d: slice(None,-1) if d in [\"E\",\"N\",\"T\"] else slice(1,None)\n",
    "        slice_2 = [slice(None,None) if var!=idx else λ_2(direction) for var in range(3)]\n",
    "        source[slice_2[0],slice_2[1],slice_2[2]] = 0\n",
    "        # Contemplar los dos casos aquí es importante debido a que entran en juego mallas de diferentes\n",
    "        # dimensiones, entonces hay que hacer las operaciones tal como se muestra en las páginas \n",
    "        # 184, 185 y 186 del malalasekera. Hay que hacer algo parecido para plantear cuando \n",
    "        # el coeficiente de la difusión sea una función.\n",
    "        if idx==velocity_direction:\n",
    "            slice_simple_1 = [slice(None,None) if var!=idx else slice(1,-1) for var in range(3)]\n",
    "            λ_simple = lambda d: slice(2,None) if d in [\"E\",\"N\",\"T\"] else slice(None,-2)\n",
    "            slice_simple_2 = [slice(None,None) if var!=idx else λ_simple(direction) for var in range(3)]\n",
    "        else:\n",
    "            λ_simple_1 = lambda d: slice(1,None) if d in [\"E\",\"N\",\"T\"] else slice(None,-1)\n",
    "            λ_simple_2 = lambda x: slice(None,-1) if x==idx else slice(None,None)\n",
    "            slice_simple_1 = [λ_simple_2(var) if var!=velocity_direction else λ_simple_1(direction) for var in range(3)]\n",
    "            λ_simple_3 = lambda x: slice(1,None) if x==idx else slice(None,None)\n",
    "            slice_simple_2 = [λ_simple_3(var) if var!=velocity_direction else λ_simple_1(direction) for var in range(3)]\n",
    "        velocity = self.vel[idx][slice_simple_1[0],slice_simple_1[1],slice_simple_1[2]]\n",
    "        velocity_plus = self.vel[idx][slice_simple_2[0],slice_simple_2[1],slice_simple_2[2]]\n",
    "        velocity += velocity_plus\n",
    "        conv = ρ*velocity*areas\n",
    "        \n",
    "        # Aquí obtenemos Sp\n",
    "        sp = ρ*velocity*source\n",
    "        condicion = self.get_mask_boundaries_Sp(mesh, direction)\n",
    "        λ_3 = lambda d: slice(-1,None) if d in [\"E\",\"N\",\"T\"] else slice(None,1)\n",
    "        coord_4 = [slice(None,None) if var!=idx else λ_3(direction) for var in range(3)]\n",
    "        tmp_sp = sp[coord_4[0],coord_4[1],coord_4[2]]\n",
    "        sp[coord_4[0],coord_4[1],coord_4[2]] = tmp_sp*np.array(condicion).reshape(tmp_sp.shape)\n",
    "        \n",
    "        # Aquí obtenemos Su\n",
    "        conds_su = self.get_mask_boundaries_Su(mesh, direction, gamma=self._ρ)\n",
    "        su = ρ*source*velocity\n",
    "        tmp_su = su[coord_4[0],coord_4[1],coord_4[2]]\n",
    "        su[coord_4[0],coord_4[1],coord_4[2]] = tmp_su*np.array(conds_su).reshape(tmp_su.shape)\n",
    "        return conv, sp, su\n",
    "        \n",
    "    def get_basic_convection_coef(self):\n",
    "        mesh = self._mesh\n",
    "        faces = mesh.faces[idx]\n",
    "        x, y, z = np.meshgrid(mesh.coords[0], mesh.coords[1], mesh.coords[2])\n",
    "\n",
    "        # Para obtener los coeficientes\n",
    "        λ_1 = lambda x, d: x[1:] if d in [\"E\",\"N\",\"T\"] else x[:-1]\n",
    "        coord = [var if i!=idx else λ_1(faces, direction) for (i, var) in enumerate([x,y,z])]\n",
    "        ρ = self._ρ(coord[0], coord[1], coord[2])\n",
    "        areas = mesh.get_area(direction=idx)\n",
    "        source = areas.copy()\n",
    "        coord_2 = [slice(None,None) if var!=idx else idx_1 for var in range(3)]\n",
    "        areas[coord_2[0],coord_2[1],coord_2[2]] = 0\n",
    "        λ_2 = lambda d: slice(None,-1) if d in [\"E\",\"N\",\"T\"] else slice(1,None)\n",
    "        coord_3 = [slice(None,None) if var!=idx else λ_2(direction) for var in range(3)]\n",
    "        source[coord_3[0],coord_3[1],coord_3[2]] = 0\n",
    "        velocity = self.vel[idx][coord_3[0],coord_3[1],coord_3[2]]\n",
    "        conv = ρ*velocity*areas\n",
    "        \n",
    "        # Aquí obtenemos Sp\n",
    "        sp = ρ*velocity*source\n",
    "        condicion = self.get_mask_boundaries_Sp(mesh, direction)\n",
    "        λ_3 = lambda d: slice(-1,None) if d in [\"E\",\"N\",\"T\"] else slice(None,1)\n",
    "        coord_4 = [slice(None,None) if var!=idx else λ_3(direction) for var in range(3)]\n",
    "        tmp_sp = sp[coord_4[0],coord_4[1],coord_4[2]]\n",
    "        sp[coord_4[0],coord_4[1],coord_4[2]] = tmp_sp*np.array(condicion).reshape(tmp_sp.shape)\n",
    "        \n",
    "        # Aquí obtenemos Su\n",
    "        conds_su = self.get_mask_boundaries_Su(mesh, direction, gamma=self._ρ)\n",
    "        su = ρ*source*velocity\n",
    "        tmp_su = su[coord_4[0],coord_4[1],coord_4[2]]\n",
    "        su[coord_4[0],coord_4[1],coord_4[2]] = tmp_su*np.array(conds_su).reshape(tmp_su.shape)\n",
    "        return conv, sp, su    \n",
    "    \n",
    "    def get_f(self, coef, sentido=\"sup\"):\n",
    "        sign = 1\n",
    "        if sentido == \"inf\": sign = -1\n",
    "        \n",
    "        scheme = self._scheme\n",
    "        if scheme == 'central':\n",
    "            f = sign*0.5*coef\n",
    "        if scheme == 'upwind1':\n",
    "            ceros = np.zeros(coef.shape)\n",
    "            f = -np.maximum(-sign*coef, ceros)\n",
    "        return f\n",
    "    \n",
    "    def get_mask_boundaries_Sp(self, malla, direction):\n",
    "        tags_fronteras = malla._Mesh__tags_fronteras\n",
    "        condicion = []\n",
    "        dict_cond = {\"I\":0, \"N\":0, \"D\":1}\n",
    "        for tag in tags_fronteras:\n",
    "            if list(tags_fronteras[tag][\"frontera\"].keys())[0] == direction:\n",
    "                cond = list(tags_fronteras[tag][\"cond\"].keys())[0]\n",
    "                condicion.append(dict_cond[cond])\n",
    "        return condicion\n",
    "    \n",
    "    def get_mask_boundaries_Su(self, malla, direction, gamma):\n",
    "        tags_fronteras = malla._Mesh__tags_fronteras\n",
    "        condicion = []\n",
    "        dict_cond = {\"I\":0, \"N\":0, \"D\":1}\n",
    "        for tag in tags_fronteras:\n",
    "            if list(tags_fronteras[tag][\"frontera\"].keys())[0] == direction:\n",
    "                cond = list(tags_fronteras[tag][\"cond\"].keys())[0]\n",
    "                if cond == \"I\":\n",
    "                    condicion.append(0)\n",
    "                elif cond == \"N\":\n",
    "                    condicion.append(tags_fronteras[tag][\"cond\"][cond])\n",
    "                elif cond == \"D\":\n",
    "                    x,y,z = tags_fronteras[tag][\"coord\"]\n",
    "                    condicion.append(tags_fronteras[tag][\"cond\"][cond]*gamma(x,y,z))\n",
    "        return condicion"
   ]
  },
  {
   "cell_type": "markdown",
   "metadata": {},
   "source": [
    "[Volver al índice](#Índice)"
   ]
  },
  {
   "cell_type": "markdown",
   "metadata": {},
   "source": [
    "## Sistema de ecuaciones"
   ]
  },
  {
   "cell_type": "code",
   "execution_count": 11,
   "metadata": {},
   "outputs": [],
   "source": [
    "from scipy.sparse import diags\n",
    "\n",
    "class EqSystem():\n",
    "    \"\"\"\n",
    "    Class that uses a Coefficient object to construct the matrix  A, and vector\n",
    "    b, for the system of equations Ax=b that represents the discrete version\n",
    "    of the physical problem; this EqSystem class has methods and attributes\n",
    "    for that putpose.\n",
    "    \n",
    "    \n",
    "    Methods:\n",
    "\n",
    "       \n",
    "    Attribures:\n",
    "\n",
    "    \"\"\"\n",
    "    \n",
    "    def __init__(self, coef):\n",
    "        self.coef = coef\n",
    "        self.aP = coef.aP\n",
    "        self.aE, self.aW = coef.aE, coef.aW\n",
    "        if coef.dim > 1: self.aN, self.aS = coef.aN, coef.aS\n",
    "        if coef == 3: self.aT, self.aB = coef.aT, coef.aB\n",
    "        self.Su, self.Sp = coef.Su, coef.Sp\n",
    "        self.N = self.aP.shape[0]*self.aP.shape[1]*self.aP.shape[2]\n",
    "        self.A, self.b = None, None\n",
    "        \n",
    "    def get_diag(self, array, k=0):\n",
    "        \"\"\"\n",
    "        Método para construir una matriz diagonal dado un arreglo 2D y la diagonal en que queremos \n",
    "        poner ese arreglo\n",
    "        \"\"\"\n",
    "        if self.N > 50:\n",
    "            return diags(array, k)\n",
    "        else:\n",
    "            return np.diag(array,k)\n",
    "        \n",
    "        \n",
    "    def get_A_matrix(self):\n",
    "        \"\"\"\n",
    "        Método para construir la matriz A, de la ecuación Ax=b, a partir de los coeficientes obtenidos.\n",
    "        \"\"\"\n",
    "        aP = np.ravel(self.aP)\n",
    "        self.A = self.get_diag(aP)\n",
    "        if self.coef.dim == 1:\n",
    "            aE = np.ravel(self.aE)[:-1]\n",
    "            aW = np.ravel(self.aW)[1:]\n",
    "            self.A += self.get_diag(aE, k=1) + self.get_diag(aW, k=-1)\n",
    "        elif self.coef.dim == 2:\n",
    "            aN = np.ravel(self.aN)[:-1]\n",
    "            aS = np.ravel(self.aS)[1:]\n",
    "            aE = np.ravel(self.aE)[:-4]\n",
    "            aW = np.ravel(self.aW)[4:]\n",
    "            self.A += self.get_diag(aN, k=1) + self.get_diag(aS, k=-1) + self.get_diag(aE, k=4) + self.get_diag(aW, k=-4)\n",
    "        # Esta parte está por verse, hay que encontrar un ejemplo chido en 3D\n",
    "        if self.coef.dim == 3:\n",
    "            pass\n",
    "        return self.A\n",
    "    \n",
    "    \n",
    "    def get_b_vector(self):\n",
    "        \"\"\"\n",
    "        Método para obtener el vector b, de la ecuación Ax = b, a partir del arreglo Su construido anteriormente\n",
    "        \"\"\"\n",
    "        self.b = np.ravel(self.Su)\n",
    "        return self.b\n",
    "    \n",
    "    \n",
    "    def get_solution(self):\n",
    "        \"\"\"\n",
    "        Método para obtener los valores de la solución al sistema\n",
    "        \"\"\"\n",
    "        A = self.get_A_matrix()\n",
    "        b = self.get_b_vector()\n",
    "        return np.linalg.solve(A, b)\n",
    "        "
   ]
  },
  {
   "cell_type": "markdown",
   "metadata": {},
   "source": [
    "[Volver al índice](#Índice)"
   ]
  },
  {
   "cell_type": "markdown",
   "metadata": {},
   "source": [
    "---"
   ]
  },
  {
   "cell_type": "markdown",
   "metadata": {},
   "source": [
    "## Presión y velocidad"
   ]
  },
  {
   "cell_type": "markdown",
   "metadata": {},
   "source": [
    "Para esto usaremos el método SIMPLE para desacoplar las velocidades de las presiones. A continuación se muestra un diagrama con el algoritmo para un problema 2-dimensional."
   ]
  },
  {
   "attachments": {
    "Captura%20de%20pantalla%20de%202021-02-23%2016-02-08.png": {
     "image/png": "[encoded data removed]"
    }
   },
   "cell_type": "markdown",
   "metadata": {},
   "source": [
    "![Captura%20de%20pantalla%20de%202021-02-23%2016-02-08.png](attachment:Captura%20de%20pantalla%20de%202021-02-23%2016-02-08.png)"
   ]
  },
  {
   "cell_type": "markdown",
   "metadata": {},
   "source": [
    "[Volver al índice](#Índice)"
   ]
  },
  {
   "cell_type": "markdown",
   "metadata": {},
   "source": [
    "---"
   ]
  },
  {
   "cell_type": "markdown",
   "metadata": {},
   "source": [
    "[Volver al índice](#Índice)"
   ]
  },
  {
   "cell_type": "markdown",
   "metadata": {},
   "source": [
    "### Dos dimensiones escalonado"
   ]
  },
  {
   "attachments": {
    "lid-driven.png": {
     "image/png": "[encoded data removed]"
    }
   },
   "cell_type": "markdown",
   "metadata": {},
   "source": [
    "![lid-driven.png](attachment:lid-driven.png)"
   ]
  },
  {
   "cell_type": "code",
   "execution_count": 194,
   "metadata": {},
   "outputs": [],
   "source": [
    "# Variables del problema\n",
    "u_0 = 1 #m/s\n",
    "h = 1 # m\n",
    "l = 1 # m\n",
    "ρ = 10 # kg/m³\n",
    "μ = 0.1 # \n",
    "Re = ρ*u_0*l/μ #ρUH/μ"
   ]
  },
  {
   "cell_type": "code",
   "execution_count": 211,
   "metadata": {},
   "outputs": [],
   "source": [
    "# Definiendo la malla\n",
    "nvx = 3\n",
    "nvy = 3\n",
    "\n",
    "#--------malla T -------------------------\n",
    "malla_p = Mesh(2, volumes = (nvx, nvy), lengths = (l, h, 0.1))"
   ]
  },
  {
   "cell_type": "code",
   "execution_count": 212,
   "metadata": {},
   "outputs": [],
   "source": [
    "malla_u = StagMesh(malla_p,0)\n",
    "malla_v = StagMesh(malla_p,1)\n",
    "malla_u.tag_wall_dirichlet(\"N S E W\".split(), [u_0,0,0,0])\n",
    "malla_v.tag_wall_dirichlet(\"N S E W\".split(), [0,0,0,0])"
   ]
  },
  {
   "cell_type": "code",
   "execution_count": 213,
   "metadata": {},
   "outputs": [
    {
     "data": {
      "application/vnd.plotly.v1+json": {
       "config": {
        "plotlyServerURL": "https://plot.ly"
       },
       "data": [
        {
         "marker": {
          "color": [
           "white",
           "white",
           "white",
           "white",
           "white",
           "white",
           "darkturquoise",
           "darkturquoise",
           "darkturquoise",
           "darkturquoise",
           "darkturquoise",
           "darkturquoise",
           "darkturquoise",
           "darkturquoise",
           "darkturquoise",
           "darkturquoise",
           "white",
           "white",
           "white",
           "white",
           "white",
           "white"
          ],
          "size": 2,
          "symbol": "square"
         },
         "mode": "markers",
         "type": "scatter3d",
         "x": [
          0.3333333333333333,
          0.6666666666666667,
          0.3333333333333333,
          0.6666666666666667,
          0.3333333333333333,
          0.6666666666666667,
          0.3333333333333333,
          0.6666666666666667,
          0,
          1,
          0,
          1,
          0,
          1,
          0.3333333333333333,
          0.6666666666666667,
          0.3333333333333333,
          0.6666666666666667,
          0.3333333333333333,
          0.6666666666666667,
          0.3333333333333333,
          0.6666666666666667
         ],
         "y": [
          0.16666666666666666,
          0.16666666666666666,
          0.5,
          0.5,
          0.8333333333333334,
          0.8333333333333334,
          0,
          0,
          0.16666666666666666,
          0.16666666666666666,
          0.5,
          0.5,
          0.8333333333333334,
          0.8333333333333334,
          1,
          1,
          0.16666666666666666,
          0.16666666666666666,
          0.5,
          0.5,
          0.8333333333333334,
          0.8333333333333334
         ],
         "z": [
          0,
          0,
          0,
          0,
          0,
          0,
          0.05,
          0.05,
          0.05,
          0.05,
          0.05,
          0.05,
          0.05,
          0.05,
          0.05,
          0.05,
          0.1,
          0.1,
          0.1,
          0.1,
          0.1,
          0.1
         ]
        },
        {
         "marker": {
          "color": "blue",
          "size": 5
         },
         "mode": "markers",
         "type": "scatter3d",
         "x": [
          0.3333333333333333,
          0.6666666666666667,
          0.3333333333333333,
          0.6666666666666667,
          0.3333333333333333,
          0.6666666666666667
         ],
         "y": [
          0.16666666666666666,
          0.16666666666666666,
          0.5,
          0.5,
          0.8333333333333334,
          0.8333333333333334
         ],
         "z": [
          0.05,
          0.05,
          0.05,
          0.05,
          0.05,
          0.05
         ]
        }
       ],
       "layout": {
        "template": {
         "data": {
          "bar": [
           {
            "error_x": {
             "color": "#2a3f5f"
            },
            "error_y": {
             "color": "#2a3f5f"
            },
            "marker": {
             "line": {
              "color": "#E5ECF6",
              "width": 0.5
             }
            },
            "type": "bar"
           }
          ],
          "barpolar": [
           {
            "marker": {
             "line": {
              "color": "#E5ECF6",
              "width": 0.5
             }
            },
            "type": "barpolar"
           }
          ],
          "carpet": [
           {
            "aaxis": {
             "endlinecolor": "#2a3f5f",
             "gridcolor": "white",
             "linecolor": "white",
             "minorgridcolor": "white",
             "startlinecolor": "#2a3f5f"
            },
            "baxis": {
             "endlinecolor": "#2a3f5f",
             "gridcolor": "white",
             "linecolor": "white",
             "minorgridcolor": "white",
             "startlinecolor": "#2a3f5f"
            },
            "type": "carpet"
           }
          ],
          "choropleth": [
           {
            "colorbar": {
             "outlinewidth": 0,
             "ticks": ""
            },
            "type": "choropleth"
           }
          ],
          "contour": [
           {
            "colorbar": {
             "outlinewidth": 0,
             "ticks": ""
            },
            "colorscale": [
             [
              0,
              "#0d0887"
             ],
             [
              0.1111111111111111,
              "#46039f"
             ],
             [
              0.2222222222222222,
              "#7201a8"
             ],
             [
              0.3333333333333333,
              "#9c179e"
             ],
             [
              0.4444444444444444,
              "#bd3786"
             ],
             [
              0.5555555555555556,
              "#d8576b"
             ],
             [
              0.6666666666666666,
              "#ed7953"
             ],
             [
              0.7777777777777778,
              "#fb9f3a"
             ],
             [
              0.8888888888888888,
              "#fdca26"
             ],
             [
              1,
              "#f0f921"
             ]
            ],
            "type": "contour"
           }
          ],
          "contourcarpet": [
           {
            "colorbar": {
             "outlinewidth": 0,
             "ticks": ""
            },
            "type": "contourcarpet"
           }
          ],
          "heatmap": [
           {
            "colorbar": {
             "outlinewidth": 0,
             "ticks": ""
            },
            "colorscale": [
             [
              0,
              "#0d0887"
             ],
             [
              0.1111111111111111,
              "#46039f"
             ],
             [
              0.2222222222222222,
              "#7201a8"
             ],
             [
              0.3333333333333333,
              "#9c179e"
             ],
             [
              0.4444444444444444,
              "#bd3786"
             ],
             [
              0.5555555555555556,
              "#d8576b"
             ],
             [
              0.6666666666666666,
              "#ed7953"
             ],
             [
              0.7777777777777778,
              "#fb9f3a"
             ],
             [
              0.8888888888888888,
              "#fdca26"
             ],
             [
              1,
              "#f0f921"
             ]
            ],
            "type": "heatmap"
           }
          ],
          "heatmapgl": [
           {
            "colorbar": {
             "outlinewidth": 0,
             "ticks": ""
            },
            "colorscale": [
             [
              0,
              "#0d0887"
             ],
             [
              0.1111111111111111,
              "#46039f"
             ],
             [
              0.2222222222222222,
              "#7201a8"
             ],
             [
              0.3333333333333333,
              "#9c179e"
             ],
             [
              0.4444444444444444,
              "#bd3786"
             ],
             [
              0.5555555555555556,
              "#d8576b"
             ],
             [
              0.6666666666666666,
              "#ed7953"
             ],
             [
              0.7777777777777778,
              "#fb9f3a"
             ],
             [
              0.8888888888888888,
              "#fdca26"
             ],
             [
              1,
              "#f0f921"
             ]
            ],
            "type": "heatmapgl"
           }
          ],
          "histogram": [
           {
            "marker": {
             "colorbar": {
              "outlinewidth": 0,
              "ticks": ""
             }
            },
            "type": "histogram"
           }
          ],
          "histogram2d": [
           {
            "colorbar": {
             "outlinewidth": 0,
             "ticks": ""
            },
            "colorscale": [
             [
              0,
              "#0d0887"
             ],
             [
              0.1111111111111111,
              "#46039f"
             ],
             [
              0.2222222222222222,
              "#7201a8"
             ],
             [
              0.3333333333333333,
              "#9c179e"
             ],
             [
              0.4444444444444444,
              "#bd3786"
             ],
             [
              0.5555555555555556,
              "#d8576b"
             ],
             [
              0.6666666666666666,
              "#ed7953"
             ],
             [
              0.7777777777777778,
              "#fb9f3a"
             ],
             [
              0.8888888888888888,
              "#fdca26"
             ],
             [
              1,
              "#f0f921"
             ]
            ],
            "type": "histogram2d"
           }
          ],
          "histogram2dcontour": [
           {
            "colorbar": {
             "outlinewidth": 0,
             "ticks": ""
            },
            "colorscale": [
             [
              0,
              "#0d0887"
             ],
             [
              0.1111111111111111,
              "#46039f"
             ],
             [
              0.2222222222222222,
              "#7201a8"
             ],
             [
              0.3333333333333333,
              "#9c179e"
             ],
             [
              0.4444444444444444,
              "#bd3786"
             ],
             [
              0.5555555555555556,
              "#d8576b"
             ],
             [
              0.6666666666666666,
              "#ed7953"
             ],
             [
              0.7777777777777778,
              "#fb9f3a"
             ],
             [
              0.8888888888888888,
              "#fdca26"
             ],
             [
              1,
              "#f0f921"
             ]
            ],
            "type": "histogram2dcontour"
           }
          ],
          "mesh3d": [
           {
            "colorbar": {
             "outlinewidth": 0,
             "ticks": ""
            },
            "type": "mesh3d"
           }
          ],
          "parcoords": [
           {
            "line": {
             "colorbar": {
              "outlinewidth": 0,
              "ticks": ""
             }
            },
            "type": "parcoords"
           }
          ],
          "pie": [
           {
            "automargin": true,
            "type": "pie"
           }
          ],
          "scatter": [
           {
            "marker": {
             "colorbar": {
              "outlinewidth": 0,
              "ticks": ""
             }
            },
            "type": "scatter"
           }
          ],
          "scatter3d": [
           {
            "line": {
             "colorbar": {
              "outlinewidth": 0,
              "ticks": ""
             }
            },
            "marker": {
             "colorbar": {
              "outlinewidth": 0,
              "ticks": ""
             }
            },
            "type": "scatter3d"
           }
          ],
          "scattercarpet": [
           {
            "marker": {
             "colorbar": {
              "outlinewidth": 0,
              "ticks": ""
             }
            },
            "type": "scattercarpet"
           }
          ],
          "scattergeo": [
           {
            "marker": {
             "colorbar": {
              "outlinewidth": 0,
              "ticks": ""
             }
            },
            "type": "scattergeo"
           }
          ],
          "scattergl": [
           {
            "marker": {
             "colorbar": {
              "outlinewidth": 0,
              "ticks": ""
             }
            },
            "type": "scattergl"
           }
          ],
          "scattermapbox": [
           {
            "marker": {
             "colorbar": {
              "outlinewidth": 0,
              "ticks": ""
             }
            },
            "type": "scattermapbox"
           }
          ],
          "scatterpolar": [
           {
            "marker": {
             "colorbar": {
              "outlinewidth": 0,
              "ticks": ""
             }
            },
            "type": "scatterpolar"
           }
          ],
          "scatterpolargl": [
           {
            "marker": {
             "colorbar": {
              "outlinewidth": 0,
              "ticks": ""
             }
            },
            "type": "scatterpolargl"
           }
          ],
          "scatterternary": [
           {
            "marker": {
             "colorbar": {
              "outlinewidth": 0,
              "ticks": ""
             }
            },
            "type": "scatterternary"
           }
          ],
          "surface": [
           {
            "colorbar": {
             "outlinewidth": 0,
             "ticks": ""
            },
            "colorscale": [
             [
              0,
              "#0d0887"
             ],
             [
              0.1111111111111111,
              "#46039f"
             ],
             [
              0.2222222222222222,
              "#7201a8"
             ],
             [
              0.3333333333333333,
              "#9c179e"
             ],
             [
              0.4444444444444444,
              "#bd3786"
             ],
             [
              0.5555555555555556,
              "#d8576b"
             ],
             [
              0.6666666666666666,
              "#ed7953"
             ],
             [
              0.7777777777777778,
              "#fb9f3a"
             ],
             [
              0.8888888888888888,
              "#fdca26"
             ],
             [
              1,
              "#f0f921"
             ]
            ],
            "type": "surface"
           }
          ],
          "table": [
           {
            "cells": {
             "fill": {
              "color": "#EBF0F8"
             },
             "line": {
              "color": "white"
             }
            },
            "header": {
             "fill": {
              "color": "#C8D4E3"
             },
             "line": {
              "color": "white"
             }
            },
            "type": "table"
           }
          ]
         },
         "layout": {
          "annotationdefaults": {
           "arrowcolor": "#2a3f5f",
           "arrowhead": 0,
           "arrowwidth": 1
          },
          "autotypenumbers": "strict",
          "coloraxis": {
           "colorbar": {
            "outlinewidth": 0,
            "ticks": ""
           }
          },
          "colorscale": {
           "diverging": [
            [
             0,
             "#8e0152"
            ],
            [
             0.1,
             "#c51b7d"
            ],
            [
             0.2,
             "#de77ae"
            ],
            [
             0.3,
             "#f1b6da"
            ],
            [
             0.4,
             "#fde0ef"
            ],
            [
             0.5,
             "#f7f7f7"
            ],
            [
             0.6,
             "#e6f5d0"
            ],
            [
             0.7,
             "#b8e186"
            ],
            [
             0.8,
             "#7fbc41"
            ],
            [
             0.9,
             "#4d9221"
            ],
            [
             1,
             "#276419"
            ]
           ],
           "sequential": [
            [
             0,
             "#0d0887"
            ],
            [
             0.1111111111111111,
             "#46039f"
            ],
            [
             0.2222222222222222,
             "#7201a8"
            ],
            [
             0.3333333333333333,
             "#9c179e"
            ],
            [
             0.4444444444444444,
             "#bd3786"
            ],
            [
             0.5555555555555556,
             "#d8576b"
            ],
            [
             0.6666666666666666,
             "#ed7953"
            ],
            [
             0.7777777777777778,
             "#fb9f3a"
            ],
            [
             0.8888888888888888,
             "#fdca26"
            ],
            [
             1,
             "#f0f921"
            ]
           ],
           "sequentialminus": [
            [
             0,
             "#0d0887"
            ],
            [
             0.1111111111111111,
             "#46039f"
            ],
            [
             0.2222222222222222,
             "#7201a8"
            ],
            [
             0.3333333333333333,
             "#9c179e"
            ],
            [
             0.4444444444444444,
             "#bd3786"
            ],
            [
             0.5555555555555556,
             "#d8576b"
            ],
            [
             0.6666666666666666,
             "#ed7953"
            ],
            [
             0.7777777777777778,
             "#fb9f3a"
            ],
            [
             0.8888888888888888,
             "#fdca26"
            ],
            [
             1,
             "#f0f921"
            ]
           ]
          },
          "colorway": [
           "#636efa",
           "#EF553B",
           "#00cc96",
           "#ab63fa",
           "#FFA15A",
           "#19d3f3",
           "#FF6692",
           "#B6E880",
           "#FF97FF",
           "#FECB52"
          ],
          "font": {
           "color": "#2a3f5f"
          },
          "geo": {
           "bgcolor": "white",
           "lakecolor": "white",
           "landcolor": "#E5ECF6",
           "showlakes": true,
           "showland": true,
           "subunitcolor": "white"
          },
          "hoverlabel": {
           "align": "left"
          },
          "hovermode": "closest",
          "mapbox": {
           "style": "light"
          },
          "paper_bgcolor": "white",
          "plot_bgcolor": "#E5ECF6",
          "polar": {
           "angularaxis": {
            "gridcolor": "white",
            "linecolor": "white",
            "ticks": ""
           },
           "bgcolor": "#E5ECF6",
           "radialaxis": {
            "gridcolor": "white",
            "linecolor": "white",
            "ticks": ""
           }
          },
          "scene": {
           "xaxis": {
            "backgroundcolor": "#E5ECF6",
            "gridcolor": "white",
            "gridwidth": 2,
            "linecolor": "white",
            "showbackground": true,
            "ticks": "",
            "zerolinecolor": "white"
           },
           "yaxis": {
            "backgroundcolor": "#E5ECF6",
            "gridcolor": "white",
            "gridwidth": 2,
            "linecolor": "white",
            "showbackground": true,
            "ticks": "",
            "zerolinecolor": "white"
           },
           "zaxis": {
            "backgroundcolor": "#E5ECF6",
            "gridcolor": "white",
            "gridwidth": 2,
            "linecolor": "white",
            "showbackground": true,
            "ticks": "",
            "zerolinecolor": "white"
           }
          },
          "shapedefaults": {
           "line": {
            "color": "#2a3f5f"
           }
          },
          "ternary": {
           "aaxis": {
            "gridcolor": "white",
            "linecolor": "white",
            "ticks": ""
           },
           "baxis": {
            "gridcolor": "white",
            "linecolor": "white",
            "ticks": ""
           },
           "bgcolor": "#E5ECF6",
           "caxis": {
            "gridcolor": "white",
            "linecolor": "white",
            "ticks": ""
           }
          },
          "title": {
           "x": 0.05
          },
          "xaxis": {
           "automargin": true,
           "gridcolor": "white",
           "linecolor": "white",
           "ticks": "",
           "title": {
            "standoff": 15
           },
           "zerolinecolor": "white",
           "zerolinewidth": 2
          },
          "yaxis": {
           "automargin": true,
           "gridcolor": "white",
           "linecolor": "white",
           "ticks": "",
           "title": {
            "standoff": 15
           },
           "zerolinecolor": "white",
           "zerolinewidth": 2
          }
         }
        }
       }
      },
      "text/html": [
       "<div>                            <div id=\"0ae964aa-35d3-445d-8100-d9f5073ed880\" class=\"plotly-graph-div\" style=\"height:525px; width:100%;\"></div>            <script type=\"text/javascript\">                require([\"plotly\"], function(Plotly) {                    window.PLOTLYENV=window.PLOTLYENV || {};                                    if (document.getElementById(\"0ae964aa-35d3-445d-8100-d9f5073ed880\")) {                    Plotly.newPlot(                        \"0ae964aa-35d3-445d-8100-d9f5073ed880\",                        [{\"marker\": {\"color\": [\"white\", \"white\", \"white\", \"white\", \"white\", \"white\", \"darkturquoise\", \"darkturquoise\", \"darkturquoise\", \"darkturquoise\", \"darkturquoise\", \"darkturquoise\", \"darkturquoise\", \"darkturquoise\", \"darkturquoise\", \"darkturquoise\", \"white\", \"white\", \"white\", \"white\", \"white\", \"white\"], \"size\": 2, \"symbol\": \"square\"}, \"mode\": \"markers\", \"type\": \"scatter3d\", \"x\": [0.3333333333333333, 0.6666666666666667, 0.3333333333333333, 0.6666666666666667, 0.3333333333333333, 0.6666666666666667, 0.3333333333333333, 0.6666666666666667, 0.0, 1.0, 0.0, 1.0, 0.0, 1.0, 0.3333333333333333, 0.6666666666666667, 0.3333333333333333, 0.6666666666666667, 0.3333333333333333, 0.6666666666666667, 0.3333333333333333, 0.6666666666666667], \"y\": [0.16666666666666666, 0.16666666666666666, 0.5, 0.5, 0.8333333333333334, 0.8333333333333334, 0.0, 0.0, 0.16666666666666666, 0.16666666666666666, 0.5, 0.5, 0.8333333333333334, 0.8333333333333334, 1.0, 1.0, 0.16666666666666666, 0.16666666666666666, 0.5, 0.5, 0.8333333333333334, 0.8333333333333334], \"z\": [0.0, 0.0, 0.0, 0.0, 0.0, 0.0, 0.05, 0.05, 0.05, 0.05, 0.05, 0.05, 0.05, 0.05, 0.05, 0.05, 0.1, 0.1, 0.1, 0.1, 0.1, 0.1]}, {\"marker\": {\"color\": \"blue\", \"size\": 5}, \"mode\": \"markers\", \"type\": \"scatter3d\", \"x\": [0.3333333333333333, 0.6666666666666667, 0.3333333333333333, 0.6666666666666667, 0.3333333333333333, 0.6666666666666667], \"y\": [0.16666666666666666, 0.16666666666666666, 0.5, 0.5, 0.8333333333333334, 0.8333333333333334], \"z\": [0.05, 0.05, 0.05, 0.05, 0.05, 0.05]}],                        {\"template\": {\"data\": {\"bar\": [{\"error_x\": {\"color\": \"#2a3f5f\"}, \"error_y\": {\"color\": \"#2a3f5f\"}, \"marker\": {\"line\": {\"color\": \"#E5ECF6\", \"width\": 0.5}}, \"type\": \"bar\"}], \"barpolar\": [{\"marker\": {\"line\": {\"color\": \"#E5ECF6\", \"width\": 0.5}}, \"type\": \"barpolar\"}], \"carpet\": [{\"aaxis\": {\"endlinecolor\": \"#2a3f5f\", \"gridcolor\": \"white\", \"linecolor\": \"white\", \"minorgridcolor\": \"white\", \"startlinecolor\": \"#2a3f5f\"}, \"baxis\": {\"endlinecolor\": \"#2a3f5f\", \"gridcolor\": \"white\", \"linecolor\": \"white\", \"minorgridcolor\": \"white\", \"startlinecolor\": \"#2a3f5f\"}, \"type\": \"carpet\"}], \"choropleth\": [{\"colorbar\": {\"outlinewidth\": 0, \"ticks\": \"\"}, \"type\": \"choropleth\"}], \"contour\": [{\"colorbar\": {\"outlinewidth\": 0, \"ticks\": \"\"}, \"colorscale\": [[0.0, \"#0d0887\"], [0.1111111111111111, \"#46039f\"], [0.2222222222222222, \"#7201a8\"], [0.3333333333333333, \"#9c179e\"], [0.4444444444444444, \"#bd3786\"], [0.5555555555555556, \"#d8576b\"], [0.6666666666666666, \"#ed7953\"], [0.7777777777777778, \"#fb9f3a\"], [0.8888888888888888, \"#fdca26\"], [1.0, \"#f0f921\"]], \"type\": \"contour\"}], \"contourcarpet\": [{\"colorbar\": {\"outlinewidth\": 0, \"ticks\": \"\"}, \"type\": \"contourcarpet\"}], \"heatmap\": [{\"colorbar\": {\"outlinewidth\": 0, \"ticks\": \"\"}, \"colorscale\": [[0.0, \"#0d0887\"], [0.1111111111111111, \"#46039f\"], [0.2222222222222222, \"#7201a8\"], [0.3333333333333333, \"#9c179e\"], [0.4444444444444444, \"#bd3786\"], [0.5555555555555556, \"#d8576b\"], [0.6666666666666666, \"#ed7953\"], [0.7777777777777778, \"#fb9f3a\"], [0.8888888888888888, \"#fdca26\"], [1.0, \"#f0f921\"]], \"type\": \"heatmap\"}], \"heatmapgl\": [{\"colorbar\": {\"outlinewidth\": 0, \"ticks\": \"\"}, \"colorscale\": [[0.0, \"#0d0887\"], [0.1111111111111111, \"#46039f\"], [0.2222222222222222, \"#7201a8\"], [0.3333333333333333, \"#9c179e\"], [0.4444444444444444, \"#bd3786\"], [0.5555555555555556, \"#d8576b\"], [0.6666666666666666, \"#ed7953\"], [0.7777777777777778, \"#fb9f3a\"], [0.8888888888888888, \"#fdca26\"], [1.0, \"#f0f921\"]], \"type\": \"heatmapgl\"}], \"histogram\": [{\"marker\": {\"colorbar\": {\"outlinewidth\": 0, \"ticks\": \"\"}}, \"type\": \"histogram\"}], \"histogram2d\": [{\"colorbar\": {\"outlinewidth\": 0, \"ticks\": \"\"}, \"colorscale\": [[0.0, \"#0d0887\"], [0.1111111111111111, \"#46039f\"], [0.2222222222222222, \"#7201a8\"], [0.3333333333333333, \"#9c179e\"], [0.4444444444444444, \"#bd3786\"], [0.5555555555555556, \"#d8576b\"], [0.6666666666666666, \"#ed7953\"], [0.7777777777777778, \"#fb9f3a\"], [0.8888888888888888, \"#fdca26\"], [1.0, \"#f0f921\"]], \"type\": \"histogram2d\"}], \"histogram2dcontour\": [{\"colorbar\": {\"outlinewidth\": 0, \"ticks\": \"\"}, \"colorscale\": [[0.0, \"#0d0887\"], [0.1111111111111111, \"#46039f\"], [0.2222222222222222, \"#7201a8\"], [0.3333333333333333, \"#9c179e\"], [0.4444444444444444, \"#bd3786\"], [0.5555555555555556, \"#d8576b\"], [0.6666666666666666, \"#ed7953\"], [0.7777777777777778, \"#fb9f3a\"], [0.8888888888888888, \"#fdca26\"], [1.0, \"#f0f921\"]], \"type\": \"histogram2dcontour\"}], \"mesh3d\": [{\"colorbar\": {\"outlinewidth\": 0, \"ticks\": \"\"}, \"type\": \"mesh3d\"}], \"parcoords\": [{\"line\": {\"colorbar\": {\"outlinewidth\": 0, \"ticks\": \"\"}}, \"type\": \"parcoords\"}], \"pie\": [{\"automargin\": true, \"type\": \"pie\"}], \"scatter\": [{\"marker\": {\"colorbar\": {\"outlinewidth\": 0, \"ticks\": \"\"}}, \"type\": \"scatter\"}], \"scatter3d\": [{\"line\": {\"colorbar\": {\"outlinewidth\": 0, \"ticks\": \"\"}}, \"marker\": {\"colorbar\": {\"outlinewidth\": 0, \"ticks\": \"\"}}, \"type\": \"scatter3d\"}], \"scattercarpet\": [{\"marker\": {\"colorbar\": {\"outlinewidth\": 0, \"ticks\": \"\"}}, \"type\": \"scattercarpet\"}], \"scattergeo\": [{\"marker\": {\"colorbar\": {\"outlinewidth\": 0, \"ticks\": \"\"}}, \"type\": \"scattergeo\"}], \"scattergl\": [{\"marker\": {\"colorbar\": {\"outlinewidth\": 0, \"ticks\": \"\"}}, \"type\": \"scattergl\"}], \"scattermapbox\": [{\"marker\": {\"colorbar\": {\"outlinewidth\": 0, \"ticks\": \"\"}}, \"type\": \"scattermapbox\"}], \"scatterpolar\": [{\"marker\": {\"colorbar\": {\"outlinewidth\": 0, \"ticks\": \"\"}}, \"type\": \"scatterpolar\"}], \"scatterpolargl\": [{\"marker\": {\"colorbar\": {\"outlinewidth\": 0, \"ticks\": \"\"}}, \"type\": \"scatterpolargl\"}], \"scatterternary\": [{\"marker\": {\"colorbar\": {\"outlinewidth\": 0, \"ticks\": \"\"}}, \"type\": \"scatterternary\"}], \"surface\": [{\"colorbar\": {\"outlinewidth\": 0, \"ticks\": \"\"}, \"colorscale\": [[0.0, \"#0d0887\"], [0.1111111111111111, \"#46039f\"], [0.2222222222222222, \"#7201a8\"], [0.3333333333333333, \"#9c179e\"], [0.4444444444444444, \"#bd3786\"], [0.5555555555555556, \"#d8576b\"], [0.6666666666666666, \"#ed7953\"], [0.7777777777777778, \"#fb9f3a\"], [0.8888888888888888, \"#fdca26\"], [1.0, \"#f0f921\"]], \"type\": \"surface\"}], \"table\": [{\"cells\": {\"fill\": {\"color\": \"#EBF0F8\"}, \"line\": {\"color\": \"white\"}}, \"header\": {\"fill\": {\"color\": \"#C8D4E3\"}, \"line\": {\"color\": \"white\"}}, \"type\": \"table\"}]}, \"layout\": {\"annotationdefaults\": {\"arrowcolor\": \"#2a3f5f\", \"arrowhead\": 0, \"arrowwidth\": 1}, \"autotypenumbers\": \"strict\", \"coloraxis\": {\"colorbar\": {\"outlinewidth\": 0, \"ticks\": \"\"}}, \"colorscale\": {\"diverging\": [[0, \"#8e0152\"], [0.1, \"#c51b7d\"], [0.2, \"#de77ae\"], [0.3, \"#f1b6da\"], [0.4, \"#fde0ef\"], [0.5, \"#f7f7f7\"], [0.6, \"#e6f5d0\"], [0.7, \"#b8e186\"], [0.8, \"#7fbc41\"], [0.9, \"#4d9221\"], [1, \"#276419\"]], \"sequential\": [[0.0, \"#0d0887\"], [0.1111111111111111, \"#46039f\"], [0.2222222222222222, \"#7201a8\"], [0.3333333333333333, \"#9c179e\"], [0.4444444444444444, \"#bd3786\"], [0.5555555555555556, \"#d8576b\"], [0.6666666666666666, \"#ed7953\"], [0.7777777777777778, \"#fb9f3a\"], [0.8888888888888888, \"#fdca26\"], [1.0, \"#f0f921\"]], \"sequentialminus\": [[0.0, \"#0d0887\"], [0.1111111111111111, \"#46039f\"], [0.2222222222222222, \"#7201a8\"], [0.3333333333333333, \"#9c179e\"], [0.4444444444444444, \"#bd3786\"], [0.5555555555555556, \"#d8576b\"], [0.6666666666666666, \"#ed7953\"], [0.7777777777777778, \"#fb9f3a\"], [0.8888888888888888, \"#fdca26\"], [1.0, \"#f0f921\"]]}, \"colorway\": [\"#636efa\", \"#EF553B\", \"#00cc96\", \"#ab63fa\", \"#FFA15A\", \"#19d3f3\", \"#FF6692\", \"#B6E880\", \"#FF97FF\", \"#FECB52\"], \"font\": {\"color\": \"#2a3f5f\"}, \"geo\": {\"bgcolor\": \"white\", \"lakecolor\": \"white\", \"landcolor\": \"#E5ECF6\", \"showlakes\": true, \"showland\": true, \"subunitcolor\": \"white\"}, \"hoverlabel\": {\"align\": \"left\"}, \"hovermode\": \"closest\", \"mapbox\": {\"style\": \"light\"}, \"paper_bgcolor\": \"white\", \"plot_bgcolor\": \"#E5ECF6\", \"polar\": {\"angularaxis\": {\"gridcolor\": \"white\", \"linecolor\": \"white\", \"ticks\": \"\"}, \"bgcolor\": \"#E5ECF6\", \"radialaxis\": {\"gridcolor\": \"white\", \"linecolor\": \"white\", \"ticks\": \"\"}}, \"scene\": {\"xaxis\": {\"backgroundcolor\": \"#E5ECF6\", \"gridcolor\": \"white\", \"gridwidth\": 2, \"linecolor\": \"white\", \"showbackground\": true, \"ticks\": \"\", \"zerolinecolor\": \"white\"}, \"yaxis\": {\"backgroundcolor\": \"#E5ECF6\", \"gridcolor\": \"white\", \"gridwidth\": 2, \"linecolor\": \"white\", \"showbackground\": true, \"ticks\": \"\", \"zerolinecolor\": \"white\"}, \"zaxis\": {\"backgroundcolor\": \"#E5ECF6\", \"gridcolor\": \"white\", \"gridwidth\": 2, \"linecolor\": \"white\", \"showbackground\": true, \"ticks\": \"\", \"zerolinecolor\": \"white\"}}, \"shapedefaults\": {\"line\": {\"color\": \"#2a3f5f\"}}, \"ternary\": {\"aaxis\": {\"gridcolor\": \"white\", \"linecolor\": \"white\", \"ticks\": \"\"}, \"baxis\": {\"gridcolor\": \"white\", \"linecolor\": \"white\", \"ticks\": \"\"}, \"bgcolor\": \"#E5ECF6\", \"caxis\": {\"gridcolor\": \"white\", \"linecolor\": \"white\", \"ticks\": \"\"}}, \"title\": {\"x\": 0.05}, \"xaxis\": {\"automargin\": true, \"gridcolor\": \"white\", \"linecolor\": \"white\", \"ticks\": \"\", \"title\": {\"standoff\": 15}, \"zerolinecolor\": \"white\", \"zerolinewidth\": 2}, \"yaxis\": {\"automargin\": true, \"gridcolor\": \"white\", \"linecolor\": \"white\", \"ticks\": \"\", \"title\": {\"standoff\": 15}, \"zerolinecolor\": \"white\", \"zerolinewidth\": 2}}}},                        {\"responsive\": true}                    ).then(function(){\n",
       "                            \n",
       "var gd = document.getElementById('0ae964aa-35d3-445d-8100-d9f5073ed880');\n",
       "var x = new MutationObserver(function (mutations, observer) {{\n",
       "        var display = window.getComputedStyle(gd).display;\n",
       "        if (!display || display === 'none') {{\n",
       "            console.log([gd, 'removed!']);\n",
       "            Plotly.purge(gd);\n",
       "            observer.disconnect();\n",
       "        }}\n",
       "}});\n",
       "\n",
       "// Listen for the removal of the full notebook cells\n",
       "var notebookContainer = gd.closest('#notebook-container');\n",
       "if (notebookContainer) {{\n",
       "    x.observe(notebookContainer, {childList: true});\n",
       "}}\n",
       "\n",
       "// Listen for the clearing of the current output cell\n",
       "var outputEl = gd.closest('.output');\n",
       "if (outputEl) {{\n",
       "    x.observe(outputEl, {childList: true});\n",
       "}}\n",
       "\n",
       "                        })                };                });            </script>        </div>"
      ]
     },
     "metadata": {},
     "output_type": "display_data"
    }
   ],
   "source": [
    "malla_u.draw()"
   ]
  },
  {
   "cell_type": "code",
   "execution_count": 214,
   "metadata": {
    "scrolled": false
   },
   "outputs": [
    {
     "name": "stdout",
     "output_type": "stream",
     "text": [
      "No se tiene solución con una sola iteración, intente con más.\n"
     ]
    }
   ],
   "source": [
    "simp = Simple([malla_p, malla_u, malla_v], μ, ρ)"
   ]
  },
  {
   "cell_type": "code",
   "execution_count": 215,
   "metadata": {},
   "outputs": [],
   "source": [
    "vels, pressure = simp.loop_system()"
   ]
  },
  {
   "cell_type": "code",
   "execution_count": 216,
   "metadata": {},
   "outputs": [
    {
     "data": {
      "text/plain": [
       "array([[[-0.0018188 ],\n",
       "        [ 0.00014628],\n",
       "        [-0.00173926]],\n",
       "\n",
       "       [[-0.00792377],\n",
       "        [-0.00241511],\n",
       "        [-0.00158361]]])"
      ]
     },
     "execution_count": 216,
     "metadata": {},
     "output_type": "execute_result"
    }
   ],
   "source": [
    "u_vel = vels[0]\n",
    "u_vel"
   ]
  },
  {
   "cell_type": "code",
   "execution_count": 217,
   "metadata": {},
   "outputs": [
    {
     "data": {
      "text/plain": [
       "array([[[-4.08664647e-04],\n",
       "        [-5.73463272e-04]],\n",
       "\n",
       "       [[ 5.36331016e-04],\n",
       "        [ 1.81314902e-05]],\n",
       "\n",
       "       [[ 1.04808938e-03],\n",
       "        [ 1.10805297e-04]]])"
      ]
     },
     "execution_count": 217,
     "metadata": {},
     "output_type": "execute_result"
    }
   ],
   "source": [
    "v_vel = vels[1]\n",
    "v_vel"
   ]
  },
  {
   "cell_type": "code",
   "execution_count": 218,
   "metadata": {},
   "outputs": [
    {
     "data": {
      "text/plain": [
       "array([[[ 3.47384829],\n",
       "        [ 4.48594619],\n",
       "        [14.0604066 ]],\n",
       "\n",
       "       [[ 6.37914773],\n",
       "        [ 4.23635711],\n",
       "        [ 3.59429576]],\n",
       "\n",
       "       [[14.23548318],\n",
       "        [ 9.86657698],\n",
       "        [ 4.78198267]]])"
      ]
     },
     "execution_count": 218,
     "metadata": {},
     "output_type": "execute_result"
    }
   ],
   "source": [
    "pressure"
   ]
  },
  {
   "cell_type": "markdown",
   "metadata": {},
   "source": [
    "---"
   ]
  },
  {
   "cell_type": "markdown",
   "metadata": {},
   "source": [
    "[Volver al índice](#Índice)"
   ]
  }
 ],
 "metadata": {
  "@webio": {
   "lastCommId": null,
   "lastKernelId": null
  },
  "kernelspec": {
   "display_name": "Python 3",
   "language": "python",
   "name": "python3"
  },
  "language_info": {
   "codemirror_mode": {
    "name": "ipython",
    "version": 3
   },
   "file_extension": ".py",
   "mimetype": "text/x-python",
   "name": "python",
   "nbconvert_exporter": "python",
   "pygments_lexer": "ipython3",
   "version": "3.7.9"
  }
 },
 "nbformat": 4,
 "nbformat_minor": 4
}
