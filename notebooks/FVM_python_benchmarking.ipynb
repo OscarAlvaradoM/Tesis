{
 "cells": [
  {
   "cell_type": "markdown",
   "id": "bdcaae1b",
   "metadata": {},
   "source": [
    "# Notebook de benchmarking de la Ecuación de Poisson"
   ]
  },
  {
   "cell_type": "code",
   "execution_count": 1,
   "id": "f7667417",
   "metadata": {},
   "outputs": [],
   "source": [
    "import FVM as fvm\n",
    "from FVM import Mesh"
   ]
  },
  {
   "cell_type": "markdown",
   "id": "07eab046",
   "metadata": {},
   "source": [
    "## Ecuación de Poisson 3D"
   ]
  },
  {
   "cell_type": "code",
   "execution_count": 25,
   "id": "81aec43d",
   "metadata": {},
   "outputs": [],
   "source": [
    "α = 100\n",
    "lx = ly = lz = α/10\n",
    "Tn = 100 # ºC\n",
    "nvx = α\n",
    "nvy = α\n",
    "nvz = α\n",
    "k = 1_000"
   ]
  },
  {
   "cell_type": "markdown",
   "id": "39bf4a1e",
   "metadata": {},
   "source": [
    "### Construcción de la malla"
   ]
  },
  {
   "cell_type": "code",
   "execution_count": 26,
   "id": "00209d2a",
   "metadata": {},
   "outputs": [
    {
     "name": "stdout",
     "output_type": "stream",
     "text": [
      "3.43 s ± 19 ms per loop (mean ± std. dev. of 7 runs, 1 loop each)\n"
     ]
    }
   ],
   "source": [
    "%%timeit\n",
    "malla = fvm.Mesh(3, volumes = (nvx, nvy, nvz), lengths = (lx, ly, lz))\n",
    "malla.tag_wall_dirichlet(\"S\", Tn)\n",
    "malla.tag_wall_dirichlet([\"W\", \"E\", \"T\", \"N\", \"B\"], [0,0,0,0,0])"
   ]
  },
  {
   "cell_type": "code",
   "execution_count": null,
   "id": "6b07c9f7",
   "metadata": {},
   "outputs": [],
   "source": [
    "times_mesh = {10 : \"4.24 ms ± 193 µs\", 20 : \"27.5 ms ± 1.12 ms\", 50 : \"390 ms ± 3.94\", 100 : \"3.43 s ± 19 ms\"}"
   ]
  },
  {
   "cell_type": "markdown",
   "id": "a20b4f61",
   "metadata": {},
   "source": [
    "### Haciendo cuentitas del FVM"
   ]
  },
  {
   "cell_type": "code",
   "execution_count": 27,
   "id": "e2565582",
   "metadata": {},
   "outputs": [
    {
     "name": "stdout",
     "output_type": "stream",
     "text": [
      "2.01 ms ± 12.7 µs per loop (mean ± std. dev. of 7 runs, 100 loops each)\n"
     ]
    }
   ],
   "source": [
    "%%timeit\n",
    "coef = fvm.Coefficients(malla)\n",
    "coef.set_diffusion(k);"
   ]
  },
  {
   "cell_type": "code",
   "execution_count": null,
   "id": "efa1b22e",
   "metadata": {},
   "outputs": [],
   "source": [
    "times_setting_boundary_conditions = {10 : \"2 ms ± 16.2 µs\", 20 : \"2.19 ms ± 11 µs\", 50 : \"2.01 ms ± 20.6 µs\", \n",
    "                                     100 : \"2.01 ms ± 12.7 µs\"}"
   ]
  },
  {
   "cell_type": "markdown",
   "id": "ac9dcff6",
   "metadata": {},
   "source": [
    "### Obteniendo soluciones"
   ]
  },
  {
   "cell_type": "code",
   "execution_count": 28,
   "id": "8b94c55a",
   "metadata": {},
   "outputs": [
    {
     "name": "stdout",
     "output_type": "stream",
     "text": [
      "1.58 ms ± 15.1 µs per loop (mean ± std. dev. of 7 runs, 1000 loops each)\n"
     ]
    }
   ],
   "source": [
    "%%timeit\n",
    "sistema = fvm.EqSystem(coef)\n",
    "sistema.get_solution()"
   ]
  },
  {
   "cell_type": "code",
   "execution_count": null,
   "id": "07392ffd",
   "metadata": {},
   "outputs": [],
   "source": [
    "times_solutions = {10 : \"1.65 ms ± 28 µs\", 20 : \"1.65 ms ± 48.1 µs\", 50 : \"1.57 ms ± 3.77 µs\", \n",
    "                   100 : \"1.58 ms ± 15.1 µs\"}"
   ]
  }
 ],
 "metadata": {
  "kernelspec": {
   "display_name": "Python 3",
   "language": "python",
   "name": "python3"
  },
  "language_info": {
   "codemirror_mode": {
    "name": "ipython",
    "version": 3
   },
   "file_extension": ".py",
   "mimetype": "text/x-python",
   "name": "python",
   "nbconvert_exporter": "python",
   "pygments_lexer": "ipython3",
   "version": "3.9.7"
  }
 },
 "nbformat": 4,
 "nbformat_minor": 5
}
