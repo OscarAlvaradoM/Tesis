{
 "cells": [
  {
   "cell_type": "markdown",
   "id": "6e130e4a",
   "metadata": {},
   "source": [
    "# Notebook de benchmarking de la Ecuación de Poisson"
   ]
  },
  {
   "cell_type": "code",
   "execution_count": 1,
   "id": "968294c7",
   "metadata": {},
   "outputs": [],
   "source": [
    "import numpy as np\n",
    "\n",
    "import time\n",
    "from csv import writer\n",
    "\n",
    "import FVM as fvm\n",
    "from FVM import Mesh"
   ]
  },
  {
   "cell_type": "markdown",
   "id": "9688811d",
   "metadata": {},
   "source": [
    "## Ecuación de Poisson 3D"
   ]
  },
  {
   "cell_type": "markdown",
   "id": "f98b1896",
   "metadata": {},
   "source": [
    "### Construcción de la malla"
   ]
  },
  {
   "cell_type": "code",
   "execution_count": 2,
   "id": "34194ae9",
   "metadata": {},
   "outputs": [],
   "source": [
    "def benchmark_mesh(vol):\n",
    "    mesh = fvm.Mesh(3, volumes = (vol, vol, vol), lengths = (10, 10, 10))\n",
    "    mesh.tag_wall_dirichlet(\"S\", 100)\n",
    "    mesh.tag_wall_dirichlet([\"W\", \"E\", \"T\", \"N\", \"B\"], [0,0,0,0,0])\n",
    "    return mesh"
   ]
  },
  {
   "cell_type": "markdown",
   "id": "fdd4f2c8",
   "metadata": {},
   "source": [
    "### Haciendo cuentitas del FVM"
   ]
  },
  {
   "cell_type": "code",
   "execution_count": 3,
   "id": "9e7f60ad",
   "metadata": {},
   "outputs": [],
   "source": [
    "def benchmark_set_boundary_conditions(mesh):\n",
    "    coef = fvm.Coefficients(mesh)\n",
    "    coef.set_diffusion(1_000)\n",
    "    return coef"
   ]
  },
  {
   "cell_type": "markdown",
   "id": "d0fc58a2",
   "metadata": {},
   "source": [
    "### Obteniendo soluciones"
   ]
  },
  {
   "cell_type": "code",
   "execution_count": 4,
   "id": "ae34624f",
   "metadata": {},
   "outputs": [],
   "source": [
    "def benchmark_solutions(coef):\n",
    "    sistema = fvm.EqSystem(coef)\n",
    "    sistema.get_solution()"
   ]
  },
  {
   "cell_type": "markdown",
   "id": "7617bfb1",
   "metadata": {},
   "source": [
    "---"
   ]
  },
  {
   "cell_type": "markdown",
   "id": "3c2625bd",
   "metadata": {},
   "source": [
    "## Midiendo tiempo más formalmente"
   ]
  },
  {
   "cell_type": "code",
   "execution_count": 5,
   "id": "30cf5c2c",
   "metadata": {},
   "outputs": [],
   "source": [
    "def iterate_volumes(volumes, times):\n",
    "    for volume in volumes:\n",
    "        mesh = benchmark_mesh(volume)\n",
    "        coefficients = benchmark_set_boundary_conditions(mesh)\n",
    "        functions = [benchmark_mesh, benchmark_set_boundary_conditions, benchmark_solutions]\n",
    "        args = [volume, mesh, coefficients]\n",
    "        \n",
    "        for f, arg in zip(functions, args):\n",
    "            print(f\"Comencé el de {volume} volúmenes con la función {f.__name__}\")\n",
    "            list_of_time_statistics = list_of_statistics(f, arg, volume, times)\n",
    "            write_to_file(f, list_of_time_statistics)\n",
    "        print(f\"Terminé el de {volume} volúmenes\")"
   ]
  },
  {
   "cell_type": "code",
   "execution_count": 6,
   "id": "fd80b86d",
   "metadata": {},
   "outputs": [],
   "source": [
    "def list_of_statistics(f, arg, volume, times):\n",
    "    time_list, μ, σ = get_statistics(f, arg, times)\n",
    "    time_statistics = [volume, volume**3, μ, σ]\n",
    "    time_statistics.extend(time_list)\n",
    "    return time_statistics"
   ]
  },
  {
   "cell_type": "code",
   "execution_count": 7,
   "id": "13df0566",
   "metadata": {},
   "outputs": [],
   "source": [
    "def get_statistics(f, arg, times):\n",
    "    time_list = []\n",
    "    for _ in range(times+1):\n",
    "        t = measure_time(f, arg)\n",
    "        time_list.append(t)\n",
    "        \n",
    "    times_without_compiling = time_list[1:]\n",
    "    μ = np.mean(times_without_compiling)\n",
    "    σ = np.std(times_without_compiling)\n",
    "    \n",
    "    return time_list, μ, σ"
   ]
  },
  {
   "cell_type": "code",
   "execution_count": 8,
   "id": "3ea99824",
   "metadata": {},
   "outputs": [],
   "source": [
    "def measure_time(f, arg):\n",
    "    start_time = time.time()\n",
    "    f(arg)\n",
    "    finish_time = time.time()\n",
    "    t = finish_time - start_time\n",
    "    return t"
   ]
  },
  {
   "cell_type": "code",
   "execution_count": 12,
   "id": "2fe7d747",
   "metadata": {},
   "outputs": [],
   "source": [
    "def write_to_file(f, list_of_times):\n",
    "    file_name = f.__name__\n",
    "    with open(f'../benchmarking/{file_name}_python.csv', 'a', newline='') as f_object:  \n",
    "        writer_object = writer(f_object)\n",
    "        writer_object.writerow(list_of_times)\n",
    "        f_object.close()"
   ]
  },
  {
   "cell_type": "code",
   "execution_count": null,
   "id": "46c32233",
   "metadata": {},
   "outputs": [
    {
     "name": "stdout",
     "output_type": "stream",
     "text": [
      "Comencé el de 10 volúmenes con la función benchmark_mesh\n",
      "benchmark_mesh [10, 1000, 0.005132746696472168, 0.0006310948079870793, 0.00562286376953125, 0.006838083267211914, 0.0055599212646484375, 0.004789113998413086, 0.005203723907470703, 0.005218982696533203, 0.004765033721923828, 0.004731655120849609, 0.004787445068359375, 0.00470733642578125, 0.0047261714935302734]\n",
      "Comencé el de 10 volúmenes con la función benchmark_set_boundary_conditions\n",
      "benchmark_set_boundary_conditions [10, 1000, 0.007371377944946289, 0.0006904070593997721, 0.00861978530883789, 0.00704646110534668, 0.006574392318725586, 0.0068013668060302734, 0.0073871612548828125, 0.008075714111328125, 0.008495092391967773, 0.00801396369934082, 0.008042097091674805, 0.006691932678222656, 0.006585597991943359]\n",
      "Comencé el de 10 volúmenes con la función benchmark_solutions\n",
      "benchmark_solutions [10, 1000, 0.00870356559753418, 0.001654812898321361, 0.008476972579956055, 0.007824897766113281, 0.007914543151855469, 0.008111000061035156, 0.00784444808959961, 0.012653112411499023, 0.010985374450683594, 0.008491039276123047, 0.00801849365234375, 0.008347511291503906, 0.006845235824584961]\n",
      "Terminé el de 10 volúmenes\n",
      "Comencé el de 20 volúmenes con la función benchmark_mesh\n",
      "benchmark_mesh [20, 8000, 0.05189206600189209, 0.026024509345361, 0.03250241279602051, 0.09154701232910156, 0.0320582389831543, 0.03901934623718262, 0.0918741226196289, 0.03410696983337402, 0.033959150314331055, 0.034365177154541016, 0.09126615524291992, 0.03595542907714844, 0.03476905822753906]\n",
      "Comencé el de 20 volúmenes con la función benchmark_set_boundary_conditions\n",
      "benchmark_set_boundary_conditions [20, 8000, 0.02512989044189453, 0.0022279855491530586, 0.02513742446899414, 0.0242919921875, 0.024079322814941406, 0.023943424224853516, 0.02568674087524414, 0.025252580642700195, 0.02584385871887207, 0.023490190505981445, 0.03133654594421387, 0.024016141891479492, 0.02335810661315918]\n",
      "Comencé el de 20 volúmenes con la función benchmark_solutions\n",
      "benchmark_solutions [20, 8000, 0.389961838722229, 0.00561920354374307, 0.3935420513153076, 0.386354923248291, 0.38939738273620605, 0.3872957229614258, 0.3983480930328369, 0.38686227798461914, 0.40320801734924316, 0.38600802421569824, 0.3857874870300293, 0.38867807388305664, 0.3876783847808838]\n",
      "Terminé el de 20 volúmenes\n",
      "Comencé el de 30 volúmenes con la función benchmark_mesh\n",
      "benchmark_mesh [30, 27000, 0.15750155448913575, 0.028450047686917685, 0.17607736587524414, 0.1830132007598877, 0.17693638801574707, 0.17167067527770996, 0.10184526443481445, 0.16672611236572266, 0.16698074340820312, 0.17072200775146484, 0.1715559959411621, 0.10117721557617188, 0.16438794136047363]\n",
      "Comencé el de 30 volúmenes con la función benchmark_set_boundary_conditions\n",
      "benchmark_set_boundary_conditions [30, 27000, 0.055915307998657224, 0.0059060049820417355, 0.05945134162902832, 0.05256175994873047, 0.06514430046081543, 0.05918741226196289, 0.055808305740356445, 0.05497407913208008, 0.06619739532470703, 0.04975438117980957, 0.04927253723144531, 0.04880070686340332, 0.05745220184326172]\n",
      "Comencé el de 30 volúmenes con la función benchmark_solutions\n",
      "benchmark_solutions [30, 27000, 4.020413327217102, 0.026146586920624333, 4.276248931884766, 4.042784690856934, 3.99626088142395, 3.9797959327697754, 3.9842276573181152, 4.0240843296051025, 4.02715539932251, 4.024488925933838, 4.02759313583374, 4.025994777679443, 4.071747541427612]\n",
      "Terminé el de 30 volúmenes\n",
      "Comencé el de 40 volúmenes con la función benchmark_mesh\n",
      "benchmark_mesh [40, 64000, 0.3528293609619141, 0.037752685300020766, 0.322054386138916, 0.39357519149780273, 0.31827616691589355, 0.4016687870025635, 0.33274221420288086, 0.31775617599487305, 0.39812660217285156, 0.3234434127807617, 0.31909656524658203, 0.40158629417419434, 0.3220221996307373]\n",
      "Comencé el de 40 volúmenes con la función benchmark_set_boundary_conditions\n",
      "benchmark_set_boundary_conditions [40, 64000, 0.09041736125946045, 0.0013946336733435985, 0.09386777877807617, 0.08958196640014648, 0.09398555755615234, 0.08930563926696777, 0.09086465835571289, 0.08997178077697754, 0.09017109870910645, 0.09051251411437988, 0.0892477035522461, 0.09147095680236816, 0.08906173706054688]\n",
      "Comencé el de 40 volúmenes con la función benchmark_solutions\n",
      "benchmark_solutions [40, 64000, 26.847126507759093, 1.79656667842926, 25.853379249572754, 26.929550886154175, 30.95236611366272, 29.72329354286194, 25.755054712295532, 25.83330225944519, 25.79142737388611, 25.846752882003784, 25.878743171691895, 25.850802898406982, 25.909971237182617]\n",
      "Terminé el de 40 volúmenes\n",
      "Comencé el de 50 volúmenes con la función benchmark_mesh\n",
      "benchmark_mesh [50, 125000, 0.677956223487854, 0.042643781665854114, 0.6847965717315674, 0.6856679916381836, 0.6954286098480225, 0.6980233192443848, 0.7138152122497559, 0.5951113700866699, 0.6992330551147461, 0.7118563652038574, 0.5933308601379395, 0.690483808517456, 0.6966116428375244]\n",
      "Comencé el de 50 volúmenes con la función benchmark_set_boundary_conditions\n",
      "benchmark_set_boundary_conditions [50, 125000, 0.1490561246871948, 0.0010664797562205876, 0.15761375427246094, 0.15171170234680176, 0.14827966690063477, 0.1492912769317627, 0.1483628749847412, 0.150038480758667, 0.14936161041259766, 0.14872193336486816, 0.14828991889953613, 0.1479947566986084, 0.14850902557373047]\n",
      "Comencé el de 50 volúmenes con la función benchmark_solutions\n",
      "benchmark_solutions [50, 125000, 134.81634430885316, 0.8723160111029324, 134.71484684944153, 134.6542317867279, 135.21756553649902, 134.29677605628967, 134.13509058952332, 134.27840542793274, 137.05090141296387, 134.14870619773865, 133.99760127067566, 135.13303685188293, 135.25112795829773]\n",
      "Terminé el de 50 volúmenes\n",
      "Comencé el de 60 volúmenes con la función benchmark_mesh\n",
      "benchmark_mesh [60, 216000, 1.1640901565551758, 0.005850876595367228, 1.1673686504364014, 1.1627357006072998, 1.159224510192871, 1.1631104946136475, 1.1629016399383545, 1.1586782932281494, 1.160787582397461, 1.1779961585998535, 1.158879280090332, 1.1652626991271973, 1.1713252067565918]\n",
      "Comencé el de 60 volúmenes con la función benchmark_set_boundary_conditions\n",
      "benchmark_set_boundary_conditions [60, 216000, 0.22553954124450684, 0.0022990403009712865, 0.23780369758605957, 0.22855663299560547, 0.22238922119140625, 0.22463583946228027, 0.22556018829345703, 0.22325515747070312, 0.22518467903137207, 0.2240593433380127, 0.23035764694213867, 0.22464680671691895, 0.22674989700317383]\n",
      "Comencé el de 60 volúmenes con la función benchmark_solutions\n",
      "benchmark_solutions [60, 216000, 580.2044709682465, 12.836929759877652, 575.3561706542969, 571.8365566730499, 573.1814262866974, 576.7306523323059, 579.0424273014069, 605.5036568641663, 574.0456964969635, 571.7945039272308, 573.6589758396149, 605.4180634021759, 570.8327505588531]\n",
      "Terminé el de 60 volúmenes\n",
      "Comencé el de 80 volúmenes con la función benchmark_mesh\n",
      "benchmark_mesh [80, 512000, 2.7369893074035643, 0.12409055340314083, 2.6327381134033203, 2.898587942123413, 2.6454203128814697, 2.9466238021850586, 2.7270379066467285, 2.6916956901550293, 2.6522650718688965, 2.6143624782562256, 2.9130895137786865, 2.6678340435028076, 2.612976312637329]\n",
      "Comencé el de 80 volúmenes con la función benchmark_set_boundary_conditions\n",
      "benchmark_set_boundary_conditions [80, 512000, 0.4795289278030396, 0.0028804362003688358, 0.4996001720428467, 0.4755828380584717, 0.4807908535003662, 0.4811108112335205, 0.48362207412719727, 0.47890639305114746, 0.47830796241760254, 0.4812159538269043, 0.47945451736450195, 0.4737894535064697, 0.48250842094421387]\n",
      "Comencé el de 80 volúmenes con la función benchmark_solutions\n"
     ]
    }
   ],
   "source": [
    "volumes = [10,20,30,40,50,60,80,100]\n",
    "times = 10\n",
    "iterate_volumes(volumes, times)"
   ]
  },
  {
   "cell_type": "markdown",
   "id": "dd2932e1",
   "metadata": {},
   "source": [
    "---"
   ]
  }
 ],
 "metadata": {
  "kernelspec": {
   "display_name": "Python 3 (ipykernel)",
   "language": "python",
   "name": "python3"
  },
  "language_info": {
   "codemirror_mode": {
    "name": "ipython",
    "version": 3
   },
   "file_extension": ".py",
   "mimetype": "text/x-python",
   "name": "python",
   "nbconvert_exporter": "python",
   "pygments_lexer": "ipython3",
   "version": "3.9.7"
  }
 },
 "nbformat": 4,
 "nbformat_minor": 5
}
