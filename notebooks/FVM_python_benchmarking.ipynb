{
 "cells": [
  {
   "cell_type": "markdown",
   "id": "6e130e4a",
   "metadata": {},
   "source": [
    "# Notebook de benchmarking de la Ecuación de Poisson"
   ]
  },
  {
   "cell_type": "code",
   "execution_count": 1,
   "id": "968294c7",
   "metadata": {},
   "outputs": [],
   "source": [
    "import FVM as fvm\n",
    "from FVM import Mesh"
   ]
  },
  {
   "cell_type": "markdown",
   "id": "9688811d",
   "metadata": {},
   "source": [
    "## Ecuación de Poisson 3D"
   ]
  },
  {
   "cell_type": "code",
   "execution_count": 2,
   "id": "7ae0e5f2",
   "metadata": {},
   "outputs": [],
   "source": [
    "α = 30\n",
    "lx = ly = lz = α/10\n",
    "Tn = 100 # ºC\n",
    "nvx = α\n",
    "nvy = α\n",
    "nvz = α\n",
    "k = 1_000"
   ]
  },
  {
   "cell_type": "markdown",
   "id": "f98b1896",
   "metadata": {},
   "source": [
    "### Construcción de la malla"
   ]
  },
  {
   "cell_type": "code",
   "execution_count": 3,
   "id": "34194ae9",
   "metadata": {},
   "outputs": [],
   "source": [
    "#%%timeit\n",
    "malla = fvm.Mesh(3, volumes = (nvx, nvy, nvz), lengths = (lx, ly, lz))\n",
    "malla.tag_wall_dirichlet(\"S\", Tn)\n",
    "malla.tag_wall_dirichlet([\"W\", \"E\", \"T\", \"N\", \"B\"], [0,0,0,0,0])"
   ]
  },
  {
   "cell_type": "code",
   "execution_count": 4,
   "id": "e654ffbc",
   "metadata": {},
   "outputs": [],
   "source": [
    "times_mesh = {10 : \"4.24 ms ± 193 µs\", 20 : \"27.5 ms ± 1.12 ms\", 30 : \"93.9 ms ± 7.25 ms\"}"
   ]
  },
  {
   "cell_type": "markdown",
   "id": "fdd4f2c8",
   "metadata": {},
   "source": [
    "### Haciendo cuentitas del FVM"
   ]
  },
  {
   "cell_type": "code",
   "execution_count": 5,
   "id": "9e7f60ad",
   "metadata": {},
   "outputs": [],
   "source": [
    "#%%timeit\n",
    "coef = fvm.Coefficients(malla)\n",
    "coef.set_diffusion(k);"
   ]
  },
  {
   "cell_type": "code",
   "execution_count": 6,
   "id": "ca3829be",
   "metadata": {},
   "outputs": [],
   "source": [
    "times_setting_boundary_conditions = {10 : \"2 ms ± 16.2 µs\", 20 : \"19.9 ms ± 118 µs\", 30 : \"64.2 ms ± 15.7 ms\"}"
   ]
  },
  {
   "cell_type": "markdown",
   "id": "d0fc58a2",
   "metadata": {},
   "source": [
    "### Obteniendo soluciones"
   ]
  },
  {
   "cell_type": "code",
   "execution_count": 7,
   "id": "ae34624f",
   "metadata": {},
   "outputs": [
    {
     "name": "stderr",
     "output_type": "stream",
     "text": [
      "/home/oscar/anaconda3/envs/tesis/lib/python3.9/site-packages/scipy/sparse/linalg/dsolve/linsolve.py:144: SparseEfficiencyWarning: spsolve requires A be CSC or CSR matrix format\n",
      "  warn('spsolve requires A be CSC or CSR matrix format',\n"
     ]
    },
    {
     "name": "stdout",
     "output_type": "stream",
     "text": [
      "3.98 s ± 43.6 ms per loop (mean ± std. dev. of 7 runs, 1 loop each)\n"
     ]
    }
   ],
   "source": [
    "%%timeit\n",
    "sistema = fvm.EqSystem(coef)\n",
    "sistema.get_solution()"
   ]
  },
  {
   "cell_type": "code",
   "execution_count": 8,
   "id": "21ba94de",
   "metadata": {},
   "outputs": [],
   "source": [
    "times_solutions = {10 : \"1.65 ms ± 28 µs\", 20 : \"300 ms ± 2.43 ms\", 30 : \"3.98 s ± 43.6 ms\"}"
   ]
  }
 ],
 "metadata": {
  "kernelspec": {
   "display_name": "Python 3",
   "language": "python",
   "name": "python3"
  },
  "language_info": {
   "codemirror_mode": {
    "name": "ipython",
    "version": 3
   },
   "file_extension": ".py",
   "mimetype": "text/x-python",
   "name": "python",
   "nbconvert_exporter": "python",
   "pygments_lexer": "ipython3",
   "version": "3.9.7"
  }
 },
 "nbformat": 4,
 "nbformat_minor": 5
}
