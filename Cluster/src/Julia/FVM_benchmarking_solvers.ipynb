{
 "cells": [
  {
   "cell_type": "code",
   "execution_count": 1,
   "id": "40cf8864",
   "metadata": {},
   "outputs": [],
   "source": [
    "using Statistics, CSV, Tables, LinearAlgebra, SparseArrays"
   ]
  },
  {
   "cell_type": "code",
   "execution_count": 2,
   "id": "e104e1bd",
   "metadata": {},
   "outputs": [
    {
     "data": {
      "text/plain": [
       "Main.FVM"
      ]
     },
     "execution_count": 2,
     "metadata": {},
     "output_type": "execute_result"
    }
   ],
   "source": [
    "include(\"FVM.jl\")"
   ]
  },
  {
   "cell_type": "code",
   "execution_count": 3,
   "id": "0d6f9b87",
   "metadata": {},
   "outputs": [
    {
     "data": {
      "text/plain": [
       "Main.Solvers"
      ]
     },
     "execution_count": 3,
     "metadata": {},
     "output_type": "execute_result"
    }
   ],
   "source": [
    "include(\"solvers.jl\")"
   ]
  },
  {
   "cell_type": "markdown",
   "id": "729df864",
   "metadata": {},
   "source": [
    "## Función para construir la matriz a resolver"
   ]
  },
  {
   "cell_type": "code",
   "execution_count": 4,
   "id": "3f88b445",
   "metadata": {},
   "outputs": [
    {
     "data": {
      "text/plain": [
       "Γ_constant (generic function with 1 method)"
      ]
     },
     "execution_count": 4,
     "metadata": {},
     "output_type": "execute_result"
    }
   ],
   "source": [
    "function Γ_constant(x::Array, y::Array, z::Array)\n",
    "    Γ = 1000\n",
    "    tensor_Γ = ones(length(x), length(y), length(z))\n",
    "    tensor_Γ = Γ .* tensor_Γ\n",
    "end"
   ]
  },
  {
   "cell_type": "code",
   "execution_count": 5,
   "id": "34e9f59f",
   "metadata": {},
   "outputs": [
    {
     "data": {
      "text/plain": [
       "getsystem (generic function with 1 method)"
      ]
     },
     "execution_count": 5,
     "metadata": {},
     "output_type": "execute_result"
    }
   ],
   "source": [
    "function getsystem(vol)\n",
    "    # Construcción de la malla.\n",
    "    volumes, lengths, centers, centers_and_boundaries, deltas, faces, deltas_faces = FVM.uniform_grid(vol, vol/10)\n",
    "    tags = FVM.init_tags(3, volumes, centers_and_boundaries)\n",
    "    tags_b = FVM.init_tags_boundaries(3, centers_and_boundaries)\n",
    "    FVM.tag_wall(tags, tags_b, [:W, :E, :T, :N, :B], 0, :D)\n",
    "    FVM.tag_wall(tags, tags_b, :S, 100, :D)\n",
    "    mesh = FVM.Mesh(volumes, lengths, centers, centers_and_boundaries, deltas, faces, deltas_faces, tags, tags_b)\n",
    "    # Generando los coeficientes\n",
    "    coeff = FVM.init_coefficients(mesh)\n",
    "    FVM.set_diffusion(coeff, Γ_constant);\n",
    "    # Construyendo el sistema de ecuaciones\n",
    "    equation_system = FVM.init_eq_system(coeff)\n",
    "    A = equation_system.A\n",
    "    b = equation_system.b\n",
    "    return A, b\n",
    "end"
   ]
  },
  {
   "cell_type": "code",
   "execution_count": 14,
   "id": "d29c4de3",
   "metadata": {},
   "outputs": [
    {
     "data": {
      "text/plain": [
       "(sparse([1, 31, 1, 2, 32, 902, 2, 3, 33, 903  …  26098, 26968, 26998, 26999, 26099, 26969, 26999, 27000, 26970, 27000], [1, 1, 2, 2, 2, 2, 3, 3, 3, 3  …  26998, 26998, 26998, 26998, 26999, 26999, 26999, 26999, 27000, 27000], [1200.0000000000002, -100.00000000000001, -133.33333333333337, 1000.0000000000002, -100.00000000000001, -100.00000000000001, -133.33333333333337, 999.9999999999999, -99.99999999999997, -100.00000000000004  …  -100.00000000000054, -99.99999999999876, 999.9999999999943, -133.33333333333394, -99.99999999999964, -99.99999999999964, 999.9999999999997, -133.33333333333275, -99.99999999999876, 1199.9999999999925], 27000, 27000), [0.0, 0.0, 0.0, 0.0, 0.0, 0.0, 0.0, 0.0, 0.0, 0.0  …  26666.66666666648, 26666.666666666715, 26666.66666666648, 26666.666666666715, 26666.66666666648, 26666.66666666648, 26666.666666666715, 26666.66666666648, 26666.666666666715, 26666.66666666648])"
      ]
     },
     "execution_count": 14,
     "metadata": {},
     "output_type": "execute_result"
    }
   ],
   "source": [
    "A, b = getsystem(30)"
   ]
  },
  {
   "cell_type": "code",
   "execution_count": 21,
   "id": "ec34cfbb",
   "metadata": {},
   "outputs": [
    {
     "data": {
      "text/plain": [
       "27000×27000 Diagonal{Float64, SparseVector{Float64, Int64}}:\n",
       " 1200.0      ⋅       ⋅       ⋅       ⋅   …      ⋅       ⋅       ⋅       ⋅ \n",
       "     ⋅   1000.0      ⋅       ⋅       ⋅          ⋅       ⋅       ⋅       ⋅ \n",
       "     ⋅       ⋅   1000.0      ⋅       ⋅          ⋅       ⋅       ⋅       ⋅ \n",
       "     ⋅       ⋅       ⋅   1000.0      ⋅          ⋅       ⋅       ⋅       ⋅ \n",
       "     ⋅       ⋅       ⋅       ⋅   1000.0         ⋅       ⋅       ⋅       ⋅ \n",
       "     ⋅       ⋅       ⋅       ⋅       ⋅   …      ⋅       ⋅       ⋅       ⋅ \n",
       "     ⋅       ⋅       ⋅       ⋅       ⋅          ⋅       ⋅       ⋅       ⋅ \n",
       "     ⋅       ⋅       ⋅       ⋅       ⋅          ⋅       ⋅       ⋅       ⋅ \n",
       "     ⋅       ⋅       ⋅       ⋅       ⋅          ⋅       ⋅       ⋅       ⋅ \n",
       "     ⋅       ⋅       ⋅       ⋅       ⋅          ⋅       ⋅       ⋅       ⋅ \n",
       "     ⋅       ⋅       ⋅       ⋅       ⋅   …      ⋅       ⋅       ⋅       ⋅ \n",
       "     ⋅       ⋅       ⋅       ⋅       ⋅          ⋅       ⋅       ⋅       ⋅ \n",
       "     ⋅       ⋅       ⋅       ⋅       ⋅          ⋅       ⋅       ⋅       ⋅ \n",
       "    ⋮                                    ⋱                          \n",
       "     ⋅       ⋅       ⋅       ⋅       ⋅          ⋅       ⋅       ⋅       ⋅ \n",
       "     ⋅       ⋅       ⋅       ⋅       ⋅          ⋅       ⋅       ⋅       ⋅ \n",
       "     ⋅       ⋅       ⋅       ⋅       ⋅   …      ⋅       ⋅       ⋅       ⋅ \n",
       "     ⋅       ⋅       ⋅       ⋅       ⋅          ⋅       ⋅       ⋅       ⋅ \n",
       "     ⋅       ⋅       ⋅       ⋅       ⋅          ⋅       ⋅       ⋅       ⋅ \n",
       "     ⋅       ⋅       ⋅       ⋅       ⋅          ⋅       ⋅       ⋅       ⋅ \n",
       "     ⋅       ⋅       ⋅       ⋅       ⋅          ⋅       ⋅       ⋅       ⋅ \n",
       "     ⋅       ⋅       ⋅       ⋅       ⋅   …      ⋅       ⋅       ⋅       ⋅ \n",
       "     ⋅       ⋅       ⋅       ⋅       ⋅      1000.0      ⋅       ⋅       ⋅ \n",
       "     ⋅       ⋅       ⋅       ⋅       ⋅          ⋅   1000.0      ⋅       ⋅ \n",
       "     ⋅       ⋅       ⋅       ⋅       ⋅          ⋅       ⋅   1000.0      ⋅ \n",
       "     ⋅       ⋅       ⋅       ⋅       ⋅          ⋅       ⋅       ⋅   1200.0"
      ]
     },
     "execution_count": 21,
     "metadata": {},
     "output_type": "execute_result"
    }
   ],
   "source": [
    "D = Diagonal(A)"
   ]
  },
  {
   "cell_type": "code",
   "execution_count": 22,
   "id": "469f4c8c",
   "metadata": {},
   "outputs": [
    {
     "data": {
      "text/plain": [
       "27000×27000 Diagonal{Float64, SparseVector{Float64, Int64}}:\n",
       " 0.000833333   ⋅      ⋅      ⋅      ⋅     …   ⋅      ⋅      ⋅      ⋅ \n",
       "  ⋅           0.001   ⋅      ⋅      ⋅         ⋅      ⋅      ⋅      ⋅ \n",
       "  ⋅            ⋅     0.001   ⋅      ⋅         ⋅      ⋅      ⋅      ⋅ \n",
       "  ⋅            ⋅      ⋅     0.001   ⋅         ⋅      ⋅      ⋅      ⋅ \n",
       "  ⋅            ⋅      ⋅      ⋅     0.001      ⋅      ⋅      ⋅      ⋅ \n",
       "  ⋅            ⋅      ⋅      ⋅      ⋅     …   ⋅      ⋅      ⋅      ⋅ \n",
       "  ⋅            ⋅      ⋅      ⋅      ⋅         ⋅      ⋅      ⋅      ⋅ \n",
       "  ⋅            ⋅      ⋅      ⋅      ⋅         ⋅      ⋅      ⋅      ⋅ \n",
       "  ⋅            ⋅      ⋅      ⋅      ⋅         ⋅      ⋅      ⋅      ⋅ \n",
       "  ⋅            ⋅      ⋅      ⋅      ⋅         ⋅      ⋅      ⋅      ⋅ \n",
       "  ⋅            ⋅      ⋅      ⋅      ⋅     …   ⋅      ⋅      ⋅      ⋅ \n",
       "  ⋅            ⋅      ⋅      ⋅      ⋅         ⋅      ⋅      ⋅      ⋅ \n",
       "  ⋅            ⋅      ⋅      ⋅      ⋅         ⋅      ⋅      ⋅      ⋅ \n",
       " ⋮                                        ⋱                       \n",
       "  ⋅            ⋅      ⋅      ⋅      ⋅         ⋅      ⋅      ⋅      ⋅ \n",
       "  ⋅            ⋅      ⋅      ⋅      ⋅         ⋅      ⋅      ⋅      ⋅ \n",
       "  ⋅            ⋅      ⋅      ⋅      ⋅     …   ⋅      ⋅      ⋅      ⋅ \n",
       "  ⋅            ⋅      ⋅      ⋅      ⋅         ⋅      ⋅      ⋅      ⋅ \n",
       "  ⋅            ⋅      ⋅      ⋅      ⋅         ⋅      ⋅      ⋅      ⋅ \n",
       "  ⋅            ⋅      ⋅      ⋅      ⋅         ⋅      ⋅      ⋅      ⋅ \n",
       "  ⋅            ⋅      ⋅      ⋅      ⋅         ⋅      ⋅      ⋅      ⋅ \n",
       "  ⋅            ⋅      ⋅      ⋅      ⋅     …   ⋅      ⋅      ⋅      ⋅ \n",
       "  ⋅            ⋅      ⋅      ⋅      ⋅        0.001   ⋅      ⋅      ⋅ \n",
       "  ⋅            ⋅      ⋅      ⋅      ⋅         ⋅     0.001   ⋅      ⋅ \n",
       "  ⋅            ⋅      ⋅      ⋅      ⋅         ⋅      ⋅     0.001   ⋅ \n",
       "  ⋅            ⋅      ⋅      ⋅      ⋅         ⋅      ⋅      ⋅     0.000833333"
      ]
     },
     "execution_count": 22,
     "metadata": {},
     "output_type": "execute_result"
    }
   ],
   "source": [
    "D⁻¹ = inv(D)"
   ]
  },
  {
   "cell_type": "markdown",
   "id": "70d55704",
   "metadata": {},
   "source": [
    "## Benchmarking"
   ]
  },
  {
   "cell_type": "code",
   "execution_count": 41,
   "id": "d651b3a9",
   "metadata": {},
   "outputs": [
    {
     "data": {
      "text/plain": [
       "iteratevolumes (generic function with 1 method)"
      ]
     },
     "execution_count": 41,
     "metadata": {},
     "output_type": "execute_result"
    }
   ],
   "source": [
    "function iteratevolumes(volumes::Array{Int, 1}, times::Int)\n",
    "    for volume ∈ volumes\n",
    "        A, b = getsystem(volume)\n",
    "        solvers = [Solvers.vectorizedjacobi, \n",
    "        #Solvers.paralleljacobi, \n",
    "        Solvers.vectorizedgaussseidel, \n",
    "        #Solvers.parallelgaussseidel]\n",
    "        Solvers.vectorizedsor, \n",
    "        #Solvers.parallelsor, \n",
    "        Solvers.gmres,\n",
    "        #Solvers.parallelgmres, \n",
    "        Solvers.gmresreiniciado, \n",
    "        #Solvers.parallelgmresreiniciado, \n",
    "        Solvers.gmresprecondicionado, \n",
    "        #Solvers.parallelgmresprecondicionado,\n",
    "        Solvers.gmresprecondicionadoreiniciado]\n",
    "        #Solvers.parallelgmresprecondicionadoreiniciado]\n",
    "        names = [\"Jacobi\", \"Gauss-Seidel\", \"SOR\"]\n",
    "        for solver ∈ solvers\n",
    "            println(\"Comencé el de $volume volúmenes con el solver $solver\")\n",
    "            if occursin(\"precondicionado\",string(solver))\n",
    "                println(\"Precondicionado\")\n",
    "                for name ∈ names\n",
    "                    list_of_time_statistics = list_of_statistics(solver, name, A, b, volume, times)\n",
    "                    writetofile(solver, name, list_of_time_statistics')\n",
    "                end\n",
    "            else\n",
    "                list_of_time_statistics = list_of_statistics(solver, A, b, volume, times)\n",
    "                writetofile(solver, list_of_time_statistics')\n",
    "            end\n",
    "        end\n",
    "        println(\"Terminé el de $volume volúmenes\")\n",
    "    end\n",
    "end"
   ]
  },
  {
   "cell_type": "code",
   "execution_count": 26,
   "id": "1e5b8420",
   "metadata": {},
   "outputs": [
    {
     "data": {
      "text/plain": [
       "list_of_statistics (generic function with 1 method)"
      ]
     },
     "execution_count": 26,
     "metadata": {},
     "output_type": "execute_result"
    }
   ],
   "source": [
    "function list_of_statistics(solver, A::SparseMatrixCSC{Float64, Int64}, b::Vector{Float64}, volume::Int, times::Int)\n",
    "    time_list, μ, σ, iterations_list, μ_iterations, σ_iterations = getstatistics(solver, A, b, times)\n",
    "    time_statistics = [volume, volume^3, μ, σ, μ_iterations, σ_iterations]\n",
    "    push!(time_statistics, time_list...)\n",
    "    push!(time_statistics, iterations_list...)\n",
    "    return time_statistics\n",
    "end"
   ]
  },
  {
   "cell_type": "code",
   "execution_count": 27,
   "id": "85cb0390",
   "metadata": {},
   "outputs": [
    {
     "data": {
      "text/plain": [
       "list_of_statistics (generic function with 2 methods)"
      ]
     },
     "execution_count": 27,
     "metadata": {},
     "output_type": "execute_result"
    }
   ],
   "source": [
    "function list_of_statistics(solver, name::String, A::SparseMatrixCSC{Float64, Int64}, b::Vector{Float64}, volume::Int, times::Int)\n",
    "    time_list, μ, σ, iterations_list, μ_iterations, σ_iterations = getstatistics(solver, name, A, b, times)\n",
    "    time_statistics = [volume, volume^3, μ, σ, μ_iterations, σ_iterations]\n",
    "    push!(time_statistics, time_list...)\n",
    "    push!(time_statistics, iterations_list...)\n",
    "    return time_statistics\n",
    "end"
   ]
  },
  {
   "cell_type": "code",
   "execution_count": 28,
   "id": "6d386198",
   "metadata": {},
   "outputs": [
    {
     "data": {
      "text/plain": [
       "getstatistics (generic function with 1 method)"
      ]
     },
     "execution_count": 28,
     "metadata": {},
     "output_type": "execute_result"
    }
   ],
   "source": [
    "function getstatistics(solver, A::SparseMatrixCSC{Float64, Int64}, b::Vector{Float64}, times::Int)\n",
    "    time_list = []\n",
    "    iterations_list = []\n",
    "    for i ∈ 1:(times+1)\n",
    "        t, iterations = measuretime(solver, A, b)\n",
    "        push!(time_list, t)\n",
    "        push!(iterations_list, iterations)\n",
    "    end\n",
    "    times_without_compiling = time_list[2:end]\n",
    "    iterations_without_compiling = iterations_list[2:end]\n",
    "    μ = mean(times_without_compiling)\n",
    "    σ = std(times_without_compiling)\n",
    "    μ_iterations = mean(iterations_without_compiling)\n",
    "    σ_iterations = std(iterations_without_compiling)\n",
    "    \n",
    "    return time_list, μ, σ, iterations_without_compiling, μ_iterations, σ_iterations\n",
    "end"
   ]
  },
  {
   "cell_type": "code",
   "execution_count": 29,
   "id": "8ddf35ef",
   "metadata": {},
   "outputs": [
    {
     "data": {
      "text/plain": [
       "getstatistics (generic function with 2 methods)"
      ]
     },
     "execution_count": 29,
     "metadata": {},
     "output_type": "execute_result"
    }
   ],
   "source": [
    "function getstatistics(solver, name::String, A::SparseMatrixCSC{Float64, Int64}, b::Vector{Float64}, times::Int)\n",
    "    time_list = []\n",
    "    iterations_list = []\n",
    "    for i ∈ 1:(times+1)\n",
    "        t, iterations = measuretime(solver, name, A, b)\n",
    "        push!(time_list, t)\n",
    "        push!(iterations_list, iterations)\n",
    "    end\n",
    "    times_without_compiling = time_list[2:end]\n",
    "    iterations_without_compiling = iterations_list[2:end]\n",
    "    μ = mean(times_without_compiling)\n",
    "    σ = std(times_without_compiling)\n",
    "    μ_iterations = mean(iterations_without_compiling)\n",
    "    σ_iterations = std(iterations_without_compiling)\n",
    "    \n",
    "    return time_list, μ, σ, iterations_without_compiling, μ_iterations, σ_iterations\n",
    "end"
   ]
  },
  {
   "cell_type": "code",
   "execution_count": 30,
   "id": "2e3435ed",
   "metadata": {},
   "outputs": [
    {
     "data": {
      "text/plain": [
       "measuretime (generic function with 1 method)"
      ]
     },
     "execution_count": 30,
     "metadata": {},
     "output_type": "execute_result"
    }
   ],
   "source": [
    "function measuretime(solver, A::SparseMatrixCSC{Float64, Int64}, b::Vector{Float64})\n",
    "    start_time = time()\n",
    "    iterations = solver(A,b)\n",
    "    finish_time = time()\n",
    "    t = finish_time - start_time\n",
    "    return t, iterations\n",
    "end"
   ]
  },
  {
   "cell_type": "code",
   "execution_count": 31,
   "id": "3b016d57",
   "metadata": {},
   "outputs": [
    {
     "data": {
      "text/plain": [
       "measuretime (generic function with 2 methods)"
      ]
     },
     "execution_count": 31,
     "metadata": {},
     "output_type": "execute_result"
    }
   ],
   "source": [
    "function measuretime(solver, name, A::SparseMatrixCSC{Float64, Int64}, b::Vector{Float64})\n",
    "    start_time = time()\n",
    "    iterations = solver(A, b, name)\n",
    "    finish_time = time()\n",
    "    t = finish_time - start_time\n",
    "    return t, iterations\n",
    "end"
   ]
  },
  {
   "cell_type": "code",
   "execution_count": 32,
   "id": "d10dde26",
   "metadata": {},
   "outputs": [
    {
     "data": {
      "text/plain": [
       "writetofile (generic function with 2 methods)"
      ]
     },
     "execution_count": 32,
     "metadata": {},
     "output_type": "execute_result"
    }
   ],
   "source": [
    "function writetofile(solver, list)\n",
    "    file_name = string(solver)\n",
    "    CSV.write(\"../../benchmarking/solvers/$(file_name).csv\", Tables.table(list), delim = ',',append=true)\n",
    "    #CSV.write(\"benchmarking/$(file_name).csv\", Tables.table(list), delim = ',',append=true)\n",
    "end"
   ]
  },
  {
   "cell_type": "code",
   "execution_count": 33,
   "id": "7d990603",
   "metadata": {},
   "outputs": [
    {
     "data": {
      "text/plain": [
       "writetofile (generic function with 2 methods)"
      ]
     },
     "execution_count": 33,
     "metadata": {},
     "output_type": "execute_result"
    }
   ],
   "source": [
    "function writetofile(solver, name, list)\n",
    "    file_name = string(solver)\n",
    "    CSV.write(\"../../benchmarking/solvers/$(file_name)_$(name).csv\", Tables.table(list), delim = ',',append=true)\n",
    "end"
   ]
  },
  {
   "cell_type": "code",
   "execution_count": 42,
   "id": "b839e078",
   "metadata": {},
   "outputs": [
    {
     "name": "stdout",
     "output_type": "stream",
     "text": [
      "Comencé el de 10 volúmenes con el solver vectorizedjacobi\n",
      "../../benchmarking/solvers/vectorizedjacobi.csv\n",
      "Comencé el de 10 volúmenes con el solver vectorizedgaussseidel\n",
      "../../benchmarking/solvers/vectorizedgaussseidel.csv\n",
      "Comencé el de 10 volúmenes con el solver vectorizedsor\n",
      "../../benchmarking/solvers/vectorizedsor.csv\n",
      "Comencé el de 10 volúmenes con el solver gmres\n",
      "../../benchmarking/solvers/gmres.csv\n",
      "Comencé el de 10 volúmenes con el solver gmresreiniciado\n",
      "../../benchmarking/solvers/gmresreiniciado.csv\n",
      "Comencé el de 10 volúmenes con el solver gmresprecondicionado\n",
      "Precondicionado\n",
      "string(solver) = \"gmresprecondicionado\"\n",
      "name = \"Jacobi\"\n",
      "../../benchmarking/solvers/gmresprecondicionado_Jacobi.csv\n",
      "string(solver) = \"gmresprecondicionado\"\n",
      "name = \"Gauss-Seidel\"\n",
      "../../benchmarking/solvers/gmresprecondicionado_Gauss-Seidel.csv\n",
      "string(solver) = \"gmresprecondicionado\"\n",
      "name = \"SOR\"\n",
      "../../benchmarking/solvers/gmresprecondicionado_SOR.csv\n",
      "Comencé el de 10 volúmenes con el solver gmresprecondicionadoreiniciado\n",
      "Precondicionado\n",
      "string(solver) = \"gmresprecondicionadoreiniciado\"\n",
      "name = \"Jacobi\"\n",
      "../../benchmarking/solvers/gmresprecondicionadoreiniciado_Jacobi.csv\n",
      "string(solver) = \"gmresprecondicionadoreiniciado\"\n",
      "name = \"Gauss-Seidel\"\n",
      "../../benchmarking/solvers/gmresprecondicionadoreiniciado_Gauss-Seidel.csv\n",
      "string(solver) = \"gmresprecondicionadoreiniciado\"\n",
      "name = \"SOR\"\n",
      "../../benchmarking/solvers/gmresprecondicionadoreiniciado_SOR.csv\n",
      "Terminé el de 10 volúmenes\n"
     ]
    }
   ],
   "source": [
    "volumes = [10]\n",
    "times = 10\n",
    "iteratevolumes(volumes, times)"
   ]
  },
  {
   "cell_type": "markdown",
   "id": "d93a878e",
   "metadata": {},
   "source": [
    "---"
   ]
  }
 ],
 "metadata": {
  "kernelspec": {
   "display_name": "Julia 1.7.2",
   "language": "julia",
   "name": "julia-1.7"
  },
  "language_info": {
   "file_extension": ".jl",
   "mimetype": "application/julia",
   "name": "julia",
   "version": "1.7.2"
  }
 },
 "nbformat": 4,
 "nbformat_minor": 5
}
