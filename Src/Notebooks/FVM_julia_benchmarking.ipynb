{
 "cells": [
  {
   "cell_type": "markdown",
   "id": "02a80b94",
   "metadata": {},
   "source": [
    "# Notebook de benchmarking de la Ecuación de Poisson\n",
    "[Documentación](#https://juliaci.github.io/BenchmarkTools.jl/stable/manual/)"
   ]
  },
  {
   "cell_type": "code",
   "execution_count": 1,
   "id": "b1ebd524",
   "metadata": {},
   "outputs": [],
   "source": [
    "using Statistics, CSV, Tables"
   ]
  },
  {
   "cell_type": "code",
   "execution_count": 2,
   "id": "a2dfd1f3",
   "metadata": {},
   "outputs": [
    {
     "name": "stderr",
     "output_type": "stream",
     "text": [
      "┌ Warning: For saving to png with the `Plotly` backend `PlotlyBase` and `PlotlyKaleido` need to be installed.\n",
      "│   err = ArgumentError(\"Package PlotlyBase not found in current path.\\n- Run `import Pkg; Pkg.add(\\\"PlotlyBase\\\")` to install the PlotlyBase package.\")\n",
      "└ @ Plots C:\\Users\\oscar\\.julia\\packages\\Plots\\nqFaB\\src\\backends.jl:545\n"
     ]
    },
    {
     "data": {
      "text/plain": [
       "Main.FVM"
      ]
     },
     "metadata": {},
     "output_type": "display_data"
    }
   ],
   "source": [
    "include(\"FVM.jl\")"
   ]
  },
  {
   "cell_type": "markdown",
   "id": "787fb071",
   "metadata": {},
   "source": [
    "## Ecuación de Poisson 3D"
   ]
  },
  {
   "cell_type": "markdown",
   "id": "c315a79d",
   "metadata": {},
   "source": [
    "### Construcción de la malla"
   ]
  },
  {
   "cell_type": "code",
   "execution_count": 3,
   "id": "a0dcd546",
   "metadata": {},
   "outputs": [
    {
     "data": {
      "text/plain": [
       "benchmark_mesh (generic function with 1 method)"
      ]
     },
     "metadata": {},
     "output_type": "display_data"
    }
   ],
   "source": [
    "function benchmark_mesh(vols::Int)\n",
    "    volumes, lengths, centers, centers_and_boundaries, deltas, faces, deltas_faces = FVM.uniform_grid(vols, 10)\n",
    "    tags = FVM.init_tags(3, volumes, centers_and_boundaries)\n",
    "    tags_b = FVM.init_tags_boundaries(3, centers_and_boundaries)\n",
    "\n",
    "    FVM.tag_wall(tags, tags_b, [:W, :E, :T, :N, :B], 0, :D)\n",
    "    FVM.tag_wall(tags, tags_b, :S, 100, :D)\n",
    "\n",
    "    mesh = FVM.Mesh(volumes, lengths, centers, centers_and_boundaries, deltas, faces, deltas_faces, tags, tags_b);\n",
    "end"
   ]
  },
  {
   "attachments": {},
   "cell_type": "markdown",
   "id": "d29dc1a9",
   "metadata": {},
   "source": [
    "### Haciendo operaciones del FVM"
   ]
  },
  {
   "cell_type": "code",
   "execution_count": 4,
   "id": "12baf2c6",
   "metadata": {},
   "outputs": [
    {
     "data": {
      "text/plain": [
       "Γ_constant (generic function with 1 method)"
      ]
     },
     "metadata": {},
     "output_type": "display_data"
    }
   ],
   "source": [
    "function Γ_constant(x::Array, y::Array, z::Array)\n",
    "    Γ = 1000\n",
    "    tensor_Γ = ones(length(x), length(y), length(z))\n",
    "    tensor_Γ = Γ .* tensor_Γ\n",
    "end"
   ]
  },
  {
   "cell_type": "code",
   "execution_count": 17,
   "id": "9aedbfd3",
   "metadata": {},
   "outputs": [
    {
     "data": {
      "text/plain": [
       "benchmark_set_boundary_conditions (generic function with 1 method)"
      ]
     },
     "metadata": {},
     "output_type": "display_data"
    }
   ],
   "source": [
    "function benchmark_set_boundary_conditions(mesh::FVM.Mesh)\n",
    "    coeff = FVM.init_coefficients(mesh)\n",
    "    print(Γ_constant)\n",
    "    FVM.set_diffusion(coeff, Γ_constant);\n",
    "    return coeff\n",
    "end"
   ]
  },
  {
   "cell_type": "markdown",
   "id": "384efd0a",
   "metadata": {},
   "source": [
    "### Obteniendo soluciones"
   ]
  },
  {
   "cell_type": "code",
   "execution_count": 6,
   "id": "ce858afa",
   "metadata": {},
   "outputs": [
    {
     "data": {
      "text/plain": [
       "benchmark_solutions (generic function with 1 method)"
      ]
     },
     "metadata": {},
     "output_type": "display_data"
    }
   ],
   "source": [
    "function benchmark_solutions(coeff::FVM.Coefficients_3d)\n",
    "    equation_system = FVM.init_eq_system(coeff)\n",
    "    solution = FVM.get_solution(equation_system);\n",
    "end"
   ]
  },
  {
   "cell_type": "markdown",
   "id": "228183fe",
   "metadata": {},
   "source": [
    "---"
   ]
  },
  {
   "cell_type": "markdown",
   "id": "3b4e5f43",
   "metadata": {},
   "source": [
    "## Midiendo tiempo más formalmente"
   ]
  },
  {
   "cell_type": "code",
   "execution_count": 15,
   "id": "2cda0b28",
   "metadata": {},
   "outputs": [
    {
     "data": {
      "text/plain": [
       "iteratevolumes (generic function with 1 method)"
      ]
     },
     "metadata": {},
     "output_type": "display_data"
    }
   ],
   "source": [
    "function iteratevolumes(volumes::Array{Int, 1}, times::Int)\n",
    "    for volume ∈ volumes\n",
    "        mesh = benchmark_mesh(volume)\n",
    "        coefficients = benchmark_set_boundary_conditions(mesh)\n",
    "        \n",
    "        functions = [benchmark_mesh, benchmark_set_boundary_conditions, benchmark_solutions]\n",
    "        #functions = [benchmark_mesh]\n",
    "        args = [volume, mesh, coefficients]\n",
    "        #args = [volume]\n",
    "        \n",
    "        for (f, arg) ∈ zip(functions, args)\n",
    "            println(\"Comencé el de $volume volúmenes con la función $f\")\n",
    "            list_of_time_statistics = list_of_statistics(f, arg, volume, times)\n",
    "            writetofile(f, list_of_time_statistics')\n",
    "        end\n",
    "        println(\"Terminé el de $volume volúmenes\")\n",
    "    end\n",
    "end"
   ]
  },
  {
   "cell_type": "code",
   "execution_count": 8,
   "id": "9bc79d06",
   "metadata": {},
   "outputs": [
    {
     "data": {
      "text/plain": [
       "list_of_statistics (generic function with 1 method)"
      ]
     },
     "metadata": {},
     "output_type": "display_data"
    }
   ],
   "source": [
    "function list_of_statistics(f, arg, volume::Int, times::Int)\n",
    "    time_list, μ, σ = getstatistics(f, arg, times)\n",
    "    time_statistics = [volume, volume^3, μ, σ]\n",
    "    push!(time_statistics, time_list...)\n",
    "    return time_statistics\n",
    "end"
   ]
  },
  {
   "cell_type": "code",
   "execution_count": 9,
   "id": "3121b5a7",
   "metadata": {},
   "outputs": [
    {
     "data": {
      "text/plain": [
       "getstatistics (generic function with 1 method)"
      ]
     },
     "metadata": {},
     "output_type": "display_data"
    }
   ],
   "source": [
    "function getstatistics(f, arg, times)\n",
    "    time_list = []\n",
    "    for _ ∈ 1:(times+1)\n",
    "        t = measuretime(f, arg)\n",
    "        push!(time_list, t)\n",
    "    end\n",
    "    times_without_compiling = time_list[2:end]\n",
    "    μ = mean(times_without_compiling)\n",
    "    σ = std(times_without_compiling)\n",
    "    \n",
    "    return time_list, μ, σ\n",
    "end"
   ]
  },
  {
   "cell_type": "code",
   "execution_count": 10,
   "id": "a4c65188",
   "metadata": {},
   "outputs": [
    {
     "data": {
      "text/plain": [
       "measuretime (generic function with 1 method)"
      ]
     },
     "metadata": {},
     "output_type": "display_data"
    }
   ],
   "source": [
    "function measuretime(f, arg)\n",
    "    start_time = time()\n",
    "    f(arg)\n",
    "    finish_time = time()\n",
    "    t = finish_time - start_time\n",
    "    return t\n",
    "end"
   ]
  },
  {
   "cell_type": "code",
   "execution_count": 11,
   "id": "5bff40db",
   "metadata": {},
   "outputs": [
    {
     "data": {
      "text/plain": [
       "writetofile (generic function with 1 method)"
      ]
     },
     "metadata": {},
     "output_type": "display_data"
    }
   ],
   "source": [
    "function writetofile(f, list)\n",
    "    file_name = string(f)\n",
    "    #CSV.write(\"../benchmarking/$(file_name).csv\", Tables.table(list), delim = ',',append=true)\n",
    "end"
   ]
  },
  {
   "cell_type": "code",
   "execution_count": 18,
   "id": "7d633d57",
   "metadata": {
    "scrolled": true
   },
   "outputs": [
    {
     "name": "stdout",
     "output_type": "stream",
     "text": [
      "Γ_constantComencé el de 10 volúmenes con la función benchmark_mesh"
     ]
    },
    {
     "name": "stdout",
     "output_type": "stream",
     "text": [
      "\n",
      "Comencé el de 10 volúmenes con la función benchmark_set_boundary_conditions\n",
      "Γ_constantΓ_constantΓ_constant"
     ]
    },
    {
     "name": "stdout",
     "output_type": "stream",
     "text": [
      "Γ_constantΓ_constantΓ_constantΓ_constant"
     ]
    },
    {
     "name": "stdout",
     "output_type": "stream",
     "text": [
      "Γ_constantΓ_constantΓ_constantΓ_constantComencé el de 10 volúmenes con la función benchmark_solutions\n"
     ]
    },
    {
     "name": "stdout",
     "output_type": "stream",
     "text": [
      "Terminé el de 10 volúmenes"
     ]
    },
    {
     "name": "stdout",
     "output_type": "stream",
     "text": [
      "\n",
      "Γ_constant"
     ]
    },
    {
     "name": "stdout",
     "output_type": "stream",
     "text": [
      "Comencé el de 20 volúmenes con la función benchmark_mesh"
     ]
    },
    {
     "name": "stdout",
     "output_type": "stream",
     "text": [
      "\n",
      "Comencé el de 20 volúmenes con la función benchmark_set_boundary_conditions\n",
      "Γ_constant"
     ]
    },
    {
     "name": "stdout",
     "output_type": "stream",
     "text": [
      "Γ_constantΓ_constant"
     ]
    },
    {
     "name": "stdout",
     "output_type": "stream",
     "text": [
      "Γ_constantΓ_constant"
     ]
    },
    {
     "name": "stdout",
     "output_type": "stream",
     "text": [
      "Γ_constant"
     ]
    },
    {
     "name": "stdout",
     "output_type": "stream",
     "text": [
      "Γ_constant"
     ]
    },
    {
     "name": "stdout",
     "output_type": "stream",
     "text": [
      "Γ_constant"
     ]
    },
    {
     "name": "stdout",
     "output_type": "stream",
     "text": [
      "Γ_constant"
     ]
    },
    {
     "name": "stdout",
     "output_type": "stream",
     "text": [
      "Γ_constant"
     ]
    },
    {
     "name": "stdout",
     "output_type": "stream",
     "text": [
      "Γ_constant"
     ]
    },
    {
     "name": "stdout",
     "output_type": "stream",
     "text": [
      "Comencé el de 20 volúmenes con la función benchmark_solutions"
     ]
    },
    {
     "name": "stdout",
     "output_type": "stream",
     "text": [
      "\n",
      "Terminé el de 20 volúmenes\n"
     ]
    }
   ],
   "source": [
    "volumes = [10,20]\n",
    "times = 10\n",
    "iteratevolumes(volumes, times)"
   ]
  },
  {
   "cell_type": "markdown",
   "id": "73027acb",
   "metadata": {},
   "source": [
    "---"
   ]
  }
 ],
 "metadata": {
  "kernelspec": {
   "display_name": "Julia 1.8.4",
   "language": "julia",
   "name": "julia-1.8"
  },
  "language_info": {
   "file_extension": ".jl",
   "mimetype": "application/julia",
   "name": "julia",
   "version": "1.8.4"
  },
  "vscode": {
   "interpreter": {
    "hash": "42322db88e3c2f02255451d64a951c0a78537fc6172e7daad3a10b518b5be8f3"
   }
  }
 },
 "nbformat": 4,
 "nbformat_minor": 5
}
