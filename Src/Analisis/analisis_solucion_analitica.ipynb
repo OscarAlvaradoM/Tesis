{
 "cells": [
  {
   "cell_type": "markdown",
   "id": "a9a949af",
   "metadata": {},
   "source": [
    "# Comparando la solución numérica con la teórica\n",
    "- Óscar Alvarado\n",
    "- Oscar Esquivel"
   ]
  },
  {
   "cell_type": "code",
   "execution_count": 1,
   "id": "dddaec73",
   "metadata": {},
   "outputs": [],
   "source": [
    "import numpy as np\n",
    "\n",
    "import FVM as fvm\n",
    "\n",
    "import plotly.graph_objects as go"
   ]
  },
  {
   "cell_type": "markdown",
   "id": "a9bb393b",
   "metadata": {},
   "source": [
    "## Numérica"
   ]
  },
  {
   "cell_type": "code",
   "execution_count": 2,
   "id": "0524c524",
   "metadata": {},
   "outputs": [],
   "source": [
    "vol = 60\n",
    "mesh = fvm.Mesh(dim = 3, volumes = (vol, vol, vol), lengths = (10, 10, 10))\n",
    "mesh.tag_wall_dirichlet(direction = \"B\", value = 100)\n",
    "mesh.tag_wall_dirichlet(direction = [\"W\", \"E\", \"T\", \"N\", \"S\"], value = [0,0,0,0,0])\n",
    "#mesh.draw()\n",
    "coef = fvm.Coefficients(mesh)\n",
    "coef.set_diffusion(1_000)\n",
    "sistema = fvm.EqSystem(coef)\n",
    "numerical_solution = sistema.get_solution()\n",
    "#sistema.plot_solution(mesh)"
   ]
  },
  {
   "cell_type": "markdown",
   "id": "1c3119fd",
   "metadata": {},
   "source": [
    "## Teórica (ecuación de Laplace)"
   ]
  },
  {
   "cell_type": "code",
   "execution_count": 3,
   "id": "a2a9f76f",
   "metadata": {},
   "outputs": [],
   "source": [
    "def Aₘₙ(m,n):\n",
    "    return (400/(m*n*np.pi**2))*(1-np.cos(m*np.pi))*(1-np.cos(n*np.pi))/np.sinh(np.sqrt(m**2 + n**2)*np.pi)\n",
    "    \n",
    "def ψ(x,y,z):\n",
    "    L = 10\n",
    "    n_array = range(1,100)\n",
    "    m_array = range(1,100)\n",
    "    solution = 0\n",
    "    for n in n_array:\n",
    "        for m in m_array:\n",
    "            A = Aₘₙ(m,n)\n",
    "            solution += A*np.sin(n*np.pi*x/L)*np.sin(m*np.pi*y/L)*np.sinh(np.sqrt(m**2 + n**2)*np.pi*z/L)\n",
    "    return solution"
   ]
  },
  {
   "cell_type": "code",
   "execution_count": 4,
   "id": "5fd3bd94",
   "metadata": {},
   "outputs": [],
   "source": [
    "X, Y, Z = np.meshgrid(mesh.coords[0], mesh.coords[1], mesh.coords[2], indexing = \"ij\")\n",
    "analitical_solution = list(np.ravel(ψ(X,Y,Z)))"
   ]
  },
  {
   "cell_type": "code",
   "execution_count": 5,
   "id": "50a8410f",
   "metadata": {},
   "outputs": [],
   "source": [
    "x,y,z = [np.array(coord) for coord in mesh.coords]\n",
    "# xv, yv, zv = np.meshgrid(x, y, z, indexing='ij')\n",
    "\n",
    "# fig = go.Figure(data = go.Scatter3d(x = xv.ravel(), y = yv.ravel(), z = zv.ravel(), mode = 'markers', \n",
    "#                                     marker = dict(color = analitical_solution, colorscale = \"viridis\",\n",
    "#                                                 symbol = \"square\", size = 5, colorbar = {\"bgcolor\":\"white\"}), \n",
    "#                                     text = analitical_solution), layout = go.Layout(title = 'Solución teórica'))\n",
    "# fig.show()"
   ]
  },
  {
   "cell_type": "markdown",
   "id": "cc9a6006",
   "metadata": {},
   "source": [
    "## Residuales"
   ]
  },
  {
   "cell_type": "code",
   "execution_count": 6,
   "id": "bf3f452c",
   "metadata": {},
   "outputs": [],
   "source": [
    "residual_solution = list(np.abs(np.array(numerical_solution) - np.array(analitical_solution)))\n",
    "# x,y,z = [np.array(coord) for coord in mesh.coords]\n",
    "# xv, yv, zv = np.meshgrid(x, y, z, indexing='ij')\n",
    "\n",
    "# fig = go.Figure(data = go.Scatter3d(x = xv.ravel(), y = yv.ravel(), z = zv.ravel(), mode = 'markers', \n",
    "#                                     marker = dict(color = residual_solution, \n",
    "#                                                 symbol = \"square\", size = 5, colorscale = \"OrRd\",\n",
    "#                                                   colorbar = {\"bgcolor\":\"white\"}), \n",
    "#                                     text = residual_solution), \n",
    "#                 layout = go.Layout(title = 'Valor absoluto de la resta de soluciones'))\n",
    "# fig.show()"
   ]
  },
  {
   "cell_type": "markdown",
   "id": "e47f54dc",
   "metadata": {},
   "source": [
    "## Errores"
   ]
  },
  {
   "cell_type": "code",
   "execution_count": 7,
   "id": "f41a04f9",
   "metadata": {},
   "outputs": [
    {
     "name": "stdout",
     "output_type": "stream",
     "text": [
      "0.01288049271755015\n",
      "0.002942545818688298\n"
     ]
    }
   ],
   "source": [
    "print(np.mean(residual_solution))\n",
    "print(np.var(residual_solution))"
   ]
  },
  {
   "cell_type": "markdown",
   "id": "8dd7e266",
   "metadata": {},
   "source": [
    "---"
   ]
  }
 ],
 "metadata": {
  "kernelspec": {
   "display_name": "Python 3 (ipykernel)",
   "language": "python",
   "name": "python3"
  },
  "language_info": {
   "codemirror_mode": {
    "name": "ipython",
    "version": 3
   },
   "file_extension": ".py",
   "mimetype": "text/x-python",
   "name": "python",
   "nbconvert_exporter": "python",
   "pygments_lexer": "ipython3",
   "version": "3.9.7"
  }
 },
 "nbformat": 4,
 "nbformat_minor": 5
}
